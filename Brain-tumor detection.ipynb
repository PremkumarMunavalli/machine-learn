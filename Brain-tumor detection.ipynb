{
  "nbformat": 4,
  "nbformat_minor": 0,
  "metadata": {
    "colab": {
      "provenance": [],
      "mount_file_id": "1yClm_yerc9KmQxZF7f_a0TUSEbYuTrAv",
      "authorship_tag": "ABX9TyMH7x/62SpUyaMY6Kgs2b4P",
      "include_colab_link": true
    },
    "kernelspec": {
      "name": "python3",
      "display_name": "Python 3"
    },
    "language_info": {
      "name": "python"
    },
    "widgets": {
      "application/vnd.jupyter.widget-state+json": {
        "22a0d198d86c4f7f8fa035e0342752b0": {
          "model_module": "@jupyter-widgets/controls",
          "model_name": "HBoxModel",
          "model_module_version": "1.5.0",
          "state": {
            "_dom_classes": [],
            "_model_module": "@jupyter-widgets/controls",
            "_model_module_version": "1.5.0",
            "_model_name": "HBoxModel",
            "_view_count": null,
            "_view_module": "@jupyter-widgets/controls",
            "_view_module_version": "1.5.0",
            "_view_name": "HBoxView",
            "box_style": "",
            "children": [
              "IPY_MODEL_d23f4d7afdb54489abc6e844b6a9a1cc",
              "IPY_MODEL_a29efdb6e1f345b69ff99668f7b80c6a",
              "IPY_MODEL_0c383ff3a6a14e98b107141f5b56ffd5"
            ],
            "layout": "IPY_MODEL_78adc7899f4745f78814f19aab108eda"
          }
        },
        "d23f4d7afdb54489abc6e844b6a9a1cc": {
          "model_module": "@jupyter-widgets/controls",
          "model_name": "HTMLModel",
          "model_module_version": "1.5.0",
          "state": {
            "_dom_classes": [],
            "_model_module": "@jupyter-widgets/controls",
            "_model_module_version": "1.5.0",
            "_model_name": "HTMLModel",
            "_view_count": null,
            "_view_module": "@jupyter-widgets/controls",
            "_view_module_version": "1.5.0",
            "_view_name": "HTMLView",
            "description": "",
            "description_tooltip": null,
            "layout": "IPY_MODEL_5c0807b896e8475f9ee5e77d187738bd",
            "placeholder": "​",
            "style": "IPY_MODEL_6769291053e242e5998baf9d71a3018e",
            "value": "Downloading 1 files: 100%"
          }
        },
        "a29efdb6e1f345b69ff99668f7b80c6a": {
          "model_module": "@jupyter-widgets/controls",
          "model_name": "FloatProgressModel",
          "model_module_version": "1.5.0",
          "state": {
            "_dom_classes": [],
            "_model_module": "@jupyter-widgets/controls",
            "_model_module_version": "1.5.0",
            "_model_name": "FloatProgressModel",
            "_view_count": null,
            "_view_module": "@jupyter-widgets/controls",
            "_view_module_version": "1.5.0",
            "_view_name": "ProgressView",
            "bar_style": "success",
            "description": "",
            "description_tooltip": null,
            "layout": "IPY_MODEL_19bfd24316614b63ae508f049cebace6",
            "max": 1,
            "min": 0,
            "orientation": "horizontal",
            "style": "IPY_MODEL_d2a27d697a3c4060b0959d7b8d182688",
            "value": 1
          }
        },
        "0c383ff3a6a14e98b107141f5b56ffd5": {
          "model_module": "@jupyter-widgets/controls",
          "model_name": "HTMLModel",
          "model_module_version": "1.5.0",
          "state": {
            "_dom_classes": [],
            "_model_module": "@jupyter-widgets/controls",
            "_model_module_version": "1.5.0",
            "_model_name": "HTMLModel",
            "_view_count": null,
            "_view_module": "@jupyter-widgets/controls",
            "_view_module_version": "1.5.0",
            "_view_name": "HTMLView",
            "description": "",
            "description_tooltip": null,
            "layout": "IPY_MODEL_4810526257364dfa857f514a9e3404d8",
            "placeholder": "​",
            "style": "IPY_MODEL_f1efc3a5bbbb4e5ea75b41f5b7dfcb07",
            "value": " 1/1 [00:03&lt;00:00,  3.34s/it]"
          }
        },
        "78adc7899f4745f78814f19aab108eda": {
          "model_module": "@jupyter-widgets/base",
          "model_name": "LayoutModel",
          "model_module_version": "1.2.0",
          "state": {
            "_model_module": "@jupyter-widgets/base",
            "_model_module_version": "1.2.0",
            "_model_name": "LayoutModel",
            "_view_count": null,
            "_view_module": "@jupyter-widgets/base",
            "_view_module_version": "1.2.0",
            "_view_name": "LayoutView",
            "align_content": null,
            "align_items": null,
            "align_self": null,
            "border": null,
            "bottom": null,
            "display": null,
            "flex": null,
            "flex_flow": null,
            "grid_area": null,
            "grid_auto_columns": null,
            "grid_auto_flow": null,
            "grid_auto_rows": null,
            "grid_column": null,
            "grid_gap": null,
            "grid_row": null,
            "grid_template_areas": null,
            "grid_template_columns": null,
            "grid_template_rows": null,
            "height": null,
            "justify_content": null,
            "justify_items": null,
            "left": null,
            "margin": null,
            "max_height": null,
            "max_width": null,
            "min_height": null,
            "min_width": null,
            "object_fit": null,
            "object_position": null,
            "order": null,
            "overflow": null,
            "overflow_x": null,
            "overflow_y": null,
            "padding": null,
            "right": null,
            "top": null,
            "visibility": null,
            "width": null
          }
        },
        "5c0807b896e8475f9ee5e77d187738bd": {
          "model_module": "@jupyter-widgets/base",
          "model_name": "LayoutModel",
          "model_module_version": "1.2.0",
          "state": {
            "_model_module": "@jupyter-widgets/base",
            "_model_module_version": "1.2.0",
            "_model_name": "LayoutModel",
            "_view_count": null,
            "_view_module": "@jupyter-widgets/base",
            "_view_module_version": "1.2.0",
            "_view_name": "LayoutView",
            "align_content": null,
            "align_items": null,
            "align_self": null,
            "border": null,
            "bottom": null,
            "display": null,
            "flex": null,
            "flex_flow": null,
            "grid_area": null,
            "grid_auto_columns": null,
            "grid_auto_flow": null,
            "grid_auto_rows": null,
            "grid_column": null,
            "grid_gap": null,
            "grid_row": null,
            "grid_template_areas": null,
            "grid_template_columns": null,
            "grid_template_rows": null,
            "height": null,
            "justify_content": null,
            "justify_items": null,
            "left": null,
            "margin": null,
            "max_height": null,
            "max_width": null,
            "min_height": null,
            "min_width": null,
            "object_fit": null,
            "object_position": null,
            "order": null,
            "overflow": null,
            "overflow_x": null,
            "overflow_y": null,
            "padding": null,
            "right": null,
            "top": null,
            "visibility": null,
            "width": null
          }
        },
        "6769291053e242e5998baf9d71a3018e": {
          "model_module": "@jupyter-widgets/controls",
          "model_name": "DescriptionStyleModel",
          "model_module_version": "1.5.0",
          "state": {
            "_model_module": "@jupyter-widgets/controls",
            "_model_module_version": "1.5.0",
            "_model_name": "DescriptionStyleModel",
            "_view_count": null,
            "_view_module": "@jupyter-widgets/base",
            "_view_module_version": "1.2.0",
            "_view_name": "StyleView",
            "description_width": ""
          }
        },
        "19bfd24316614b63ae508f049cebace6": {
          "model_module": "@jupyter-widgets/base",
          "model_name": "LayoutModel",
          "model_module_version": "1.2.0",
          "state": {
            "_model_module": "@jupyter-widgets/base",
            "_model_module_version": "1.2.0",
            "_model_name": "LayoutModel",
            "_view_count": null,
            "_view_module": "@jupyter-widgets/base",
            "_view_module_version": "1.2.0",
            "_view_name": "LayoutView",
            "align_content": null,
            "align_items": null,
            "align_self": null,
            "border": null,
            "bottom": null,
            "display": null,
            "flex": null,
            "flex_flow": null,
            "grid_area": null,
            "grid_auto_columns": null,
            "grid_auto_flow": null,
            "grid_auto_rows": null,
            "grid_column": null,
            "grid_gap": null,
            "grid_row": null,
            "grid_template_areas": null,
            "grid_template_columns": null,
            "grid_template_rows": null,
            "height": null,
            "justify_content": null,
            "justify_items": null,
            "left": null,
            "margin": null,
            "max_height": null,
            "max_width": null,
            "min_height": null,
            "min_width": null,
            "object_fit": null,
            "object_position": null,
            "order": null,
            "overflow": null,
            "overflow_x": null,
            "overflow_y": null,
            "padding": null,
            "right": null,
            "top": null,
            "visibility": null,
            "width": null
          }
        },
        "d2a27d697a3c4060b0959d7b8d182688": {
          "model_module": "@jupyter-widgets/controls",
          "model_name": "ProgressStyleModel",
          "model_module_version": "1.5.0",
          "state": {
            "_model_module": "@jupyter-widgets/controls",
            "_model_module_version": "1.5.0",
            "_model_name": "ProgressStyleModel",
            "_view_count": null,
            "_view_module": "@jupyter-widgets/base",
            "_view_module_version": "1.2.0",
            "_view_name": "StyleView",
            "bar_color": null,
            "description_width": ""
          }
        },
        "4810526257364dfa857f514a9e3404d8": {
          "model_module": "@jupyter-widgets/base",
          "model_name": "LayoutModel",
          "model_module_version": "1.2.0",
          "state": {
            "_model_module": "@jupyter-widgets/base",
            "_model_module_version": "1.2.0",
            "_model_name": "LayoutModel",
            "_view_count": null,
            "_view_module": "@jupyter-widgets/base",
            "_view_module_version": "1.2.0",
            "_view_name": "LayoutView",
            "align_content": null,
            "align_items": null,
            "align_self": null,
            "border": null,
            "bottom": null,
            "display": null,
            "flex": null,
            "flex_flow": null,
            "grid_area": null,
            "grid_auto_columns": null,
            "grid_auto_flow": null,
            "grid_auto_rows": null,
            "grid_column": null,
            "grid_gap": null,
            "grid_row": null,
            "grid_template_areas": null,
            "grid_template_columns": null,
            "grid_template_rows": null,
            "height": null,
            "justify_content": null,
            "justify_items": null,
            "left": null,
            "margin": null,
            "max_height": null,
            "max_width": null,
            "min_height": null,
            "min_width": null,
            "object_fit": null,
            "object_position": null,
            "order": null,
            "overflow": null,
            "overflow_x": null,
            "overflow_y": null,
            "padding": null,
            "right": null,
            "top": null,
            "visibility": null,
            "width": null
          }
        },
        "f1efc3a5bbbb4e5ea75b41f5b7dfcb07": {
          "model_module": "@jupyter-widgets/controls",
          "model_name": "DescriptionStyleModel",
          "model_module_version": "1.5.0",
          "state": {
            "_model_module": "@jupyter-widgets/controls",
            "_model_module_version": "1.5.0",
            "_model_name": "DescriptionStyleModel",
            "_view_count": null,
            "_view_module": "@jupyter-widgets/base",
            "_view_module_version": "1.2.0",
            "_view_name": "StyleView",
            "description_width": ""
          }
        }
      }
    }
  },
  "cells": [
    {
      "cell_type": "markdown",
      "metadata": {
        "id": "view-in-github",
        "colab_type": "text"
      },
      "source": [
        "<a href=\"https://colab.research.google.com/github/PremkumarMunavalli/Premkumar/blob/master/Brain-tumor%20detection.ipynb\" target=\"_parent\"><img src=\"https://colab.research.google.com/assets/colab-badge.svg\" alt=\"Open In Colab\"/></a>"
      ]
    },
    {
      "cell_type": "code",
      "source": [
        "dataset, dataset_info = tfds.load('malaria', as_supervised=True, with_info=True)"
      ],
      "metadata": {
        "id": "OTY5loGBQxFO"
      },
      "execution_count": null,
      "outputs": []
    },
    {
      "cell_type": "code",
      "source": [
        "# Access the training dataset using the key 'train'\n",
        "for data in dataset['train'].take(4):\n",
        "  print(data)"
      ],
      "metadata": {
        "colab": {
          "base_uri": "https://localhost:8080/"
        },
        "id": "ocOAOGY4Qyiq",
        "outputId": "8ccc3fc1-6b1c-426b-ecfb-d995e83bb46a"
      },
      "execution_count": null,
      "outputs": [
        {
          "output_type": "stream",
          "name": "stdout",
          "text": [
            "(<tf.Tensor: shape=(103, 103, 3), dtype=uint8, numpy=\n",
            "array([[[0, 0, 0],\n",
            "        [0, 0, 0],\n",
            "        [0, 0, 0],\n",
            "        ...,\n",
            "        [0, 0, 0],\n",
            "        [0, 0, 0],\n",
            "        [0, 0, 0]],\n",
            "\n",
            "       [[0, 0, 0],\n",
            "        [0, 0, 0],\n",
            "        [0, 0, 0],\n",
            "        ...,\n",
            "        [0, 0, 0],\n",
            "        [0, 0, 0],\n",
            "        [0, 0, 0]],\n",
            "\n",
            "       [[0, 0, 0],\n",
            "        [0, 0, 0],\n",
            "        [0, 0, 0],\n",
            "        ...,\n",
            "        [0, 0, 0],\n",
            "        [0, 0, 0],\n",
            "        [0, 0, 0]],\n",
            "\n",
            "       ...,\n",
            "\n",
            "       [[0, 0, 0],\n",
            "        [0, 0, 0],\n",
            "        [0, 0, 0],\n",
            "        ...,\n",
            "        [0, 0, 0],\n",
            "        [0, 0, 0],\n",
            "        [0, 0, 0]],\n",
            "\n",
            "       [[0, 0, 0],\n",
            "        [0, 0, 0],\n",
            "        [0, 0, 0],\n",
            "        ...,\n",
            "        [0, 0, 0],\n",
            "        [0, 0, 0],\n",
            "        [0, 0, 0]],\n",
            "\n",
            "       [[0, 0, 0],\n",
            "        [0, 0, 0],\n",
            "        [0, 0, 0],\n",
            "        ...,\n",
            "        [0, 0, 0],\n",
            "        [0, 0, 0],\n",
            "        [0, 0, 0]]], dtype=uint8)>, <tf.Tensor: shape=(), dtype=int64, numpy=1>)\n",
            "(<tf.Tensor: shape=(106, 121, 3), dtype=uint8, numpy=\n",
            "array([[[0, 0, 0],\n",
            "        [0, 0, 0],\n",
            "        [0, 0, 0],\n",
            "        ...,\n",
            "        [0, 0, 0],\n",
            "        [0, 0, 0],\n",
            "        [0, 0, 0]],\n",
            "\n",
            "       [[0, 0, 0],\n",
            "        [0, 0, 0],\n",
            "        [0, 0, 0],\n",
            "        ...,\n",
            "        [0, 0, 0],\n",
            "        [0, 0, 0],\n",
            "        [0, 0, 0]],\n",
            "\n",
            "       [[0, 0, 0],\n",
            "        [0, 0, 0],\n",
            "        [0, 0, 0],\n",
            "        ...,\n",
            "        [0, 0, 0],\n",
            "        [0, 0, 0],\n",
            "        [0, 0, 0]],\n",
            "\n",
            "       ...,\n",
            "\n",
            "       [[0, 0, 0],\n",
            "        [0, 0, 0],\n",
            "        [0, 0, 0],\n",
            "        ...,\n",
            "        [0, 0, 0],\n",
            "        [0, 0, 0],\n",
            "        [0, 0, 0]],\n",
            "\n",
            "       [[0, 0, 0],\n",
            "        [0, 0, 0],\n",
            "        [0, 0, 0],\n",
            "        ...,\n",
            "        [0, 0, 0],\n",
            "        [0, 0, 0],\n",
            "        [0, 0, 0]],\n",
            "\n",
            "       [[0, 0, 0],\n",
            "        [0, 0, 0],\n",
            "        [0, 0, 0],\n",
            "        ...,\n",
            "        [0, 0, 0],\n",
            "        [0, 0, 0],\n",
            "        [0, 0, 0]]], dtype=uint8)>, <tf.Tensor: shape=(), dtype=int64, numpy=1>)\n",
            "(<tf.Tensor: shape=(139, 142, 3), dtype=uint8, numpy=\n",
            "array([[[0, 0, 0],\n",
            "        [0, 0, 0],\n",
            "        [0, 0, 0],\n",
            "        ...,\n",
            "        [0, 0, 0],\n",
            "        [0, 0, 0],\n",
            "        [0, 0, 0]],\n",
            "\n",
            "       [[0, 0, 0],\n",
            "        [0, 0, 0],\n",
            "        [0, 0, 0],\n",
            "        ...,\n",
            "        [0, 0, 0],\n",
            "        [0, 0, 0],\n",
            "        [0, 0, 0]],\n",
            "\n",
            "       [[0, 0, 0],\n",
            "        [0, 0, 0],\n",
            "        [0, 0, 0],\n",
            "        ...,\n",
            "        [0, 0, 0],\n",
            "        [0, 0, 0],\n",
            "        [0, 0, 0]],\n",
            "\n",
            "       ...,\n",
            "\n",
            "       [[0, 0, 0],\n",
            "        [0, 0, 0],\n",
            "        [0, 0, 0],\n",
            "        ...,\n",
            "        [0, 0, 0],\n",
            "        [0, 0, 0],\n",
            "        [0, 0, 0]],\n",
            "\n",
            "       [[0, 0, 0],\n",
            "        [0, 0, 0],\n",
            "        [0, 0, 0],\n",
            "        ...,\n",
            "        [0, 0, 0],\n",
            "        [0, 0, 0],\n",
            "        [0, 0, 0]],\n",
            "\n",
            "       [[0, 0, 0],\n",
            "        [0, 0, 0],\n",
            "        [0, 0, 0],\n",
            "        ...,\n",
            "        [0, 0, 0],\n",
            "        [0, 0, 0],\n",
            "        [0, 0, 0]]], dtype=uint8)>, <tf.Tensor: shape=(), dtype=int64, numpy=0>)\n",
            "(<tf.Tensor: shape=(130, 118, 3), dtype=uint8, numpy=\n",
            "array([[[0, 0, 0],\n",
            "        [0, 0, 0],\n",
            "        [0, 0, 0],\n",
            "        ...,\n",
            "        [0, 0, 0],\n",
            "        [0, 0, 0],\n",
            "        [0, 0, 0]],\n",
            "\n",
            "       [[0, 0, 0],\n",
            "        [0, 0, 0],\n",
            "        [0, 0, 0],\n",
            "        ...,\n",
            "        [0, 0, 0],\n",
            "        [0, 0, 0],\n",
            "        [0, 0, 0]],\n",
            "\n",
            "       [[0, 0, 0],\n",
            "        [0, 0, 0],\n",
            "        [0, 0, 0],\n",
            "        ...,\n",
            "        [0, 0, 0],\n",
            "        [0, 0, 0],\n",
            "        [0, 0, 0]],\n",
            "\n",
            "       ...,\n",
            "\n",
            "       [[0, 0, 0],\n",
            "        [0, 0, 0],\n",
            "        [0, 0, 0],\n",
            "        ...,\n",
            "        [0, 0, 0],\n",
            "        [0, 0, 0],\n",
            "        [0, 0, 0]],\n",
            "\n",
            "       [[0, 0, 0],\n",
            "        [0, 0, 0],\n",
            "        [0, 0, 0],\n",
            "        ...,\n",
            "        [0, 0, 0],\n",
            "        [0, 0, 0],\n",
            "        [0, 0, 0]],\n",
            "\n",
            "       [[0, 0, 0],\n",
            "        [0, 0, 0],\n",
            "        [0, 0, 0],\n",
            "        ...,\n",
            "        [0, 0, 0],\n",
            "        [0, 0, 0],\n",
            "        [0, 0, 0]]], dtype=uint8)>, <tf.Tensor: shape=(), dtype=int64, numpy=1>)\n"
          ]
        }
      ]
    },
    {
      "cell_type": "code",
      "source": [],
      "metadata": {
        "id": "r41OsUh86fgw"
      },
      "execution_count": null,
      "outputs": []
    },
    {
      "cell_type": "code",
      "source": [],
      "metadata": {
        "colab": {
          "base_uri": "https://localhost:8080/",
          "height": 216
        },
        "id": "1rFQ7aAkVqZk",
        "outputId": "470cb453-0f46-4b0b-9cfb-f0cc1ee1e402"
      },
      "execution_count": null,
      "outputs": [
        {
          "output_type": "error",
          "ename": "TypeError",
          "evalue": "'_RangeDataset' object is not subscriptable",
          "traceback": [
            "\u001b[0;31m---------------------------------------------------------------------------\u001b[0m",
            "\u001b[0;31mTypeError\u001b[0m                                 Traceback (most recent call last)",
            "\u001b[0;32m<ipython-input-46-b6bc619b93ac>\u001b[0m in \u001b[0;36m<cell line: 0>\u001b[0;34m()\u001b[0m\n\u001b[1;32m      6\u001b[0m \u001b[0;34m\u001b[0m\u001b[0m\n\u001b[1;32m      7\u001b[0m \u001b[0;31m# data visualization\u001b[0m\u001b[0;34m\u001b[0m\u001b[0;34m\u001b[0m\u001b[0m\n\u001b[0;32m----> 8\u001b[0;31m \u001b[0;32mfor\u001b[0m \u001b[0mi\u001b[0m\u001b[0;34m,\u001b[0m \u001b[0;34m(\u001b[0m\u001b[0mimage\u001b[0m\u001b[0;34m,\u001b[0m \u001b[0mlabel\u001b[0m\u001b[0;34m)\u001b[0m \u001b[0;32min\u001b[0m \u001b[0menumerate\u001b[0m\u001b[0;34m(\u001b[0m\u001b[0mdataset\u001b[0m\u001b[0;34m[\u001b[0m\u001b[0;34m'train'\u001b[0m\u001b[0;34m]\u001b[0m\u001b[0;34m.\u001b[0m\u001b[0mtake\u001b[0m\u001b[0;34m(\u001b[0m\u001b[0;36m16\u001b[0m\u001b[0;34m)\u001b[0m\u001b[0;34m)\u001b[0m\u001b[0;34m:\u001b[0m \u001b[0;31m# Use the original dataset\u001b[0m\u001b[0;34m\u001b[0m\u001b[0;34m\u001b[0m\u001b[0m\n\u001b[0m\u001b[1;32m      9\u001b[0m   \u001b[0max\u001b[0m \u001b[0;34m=\u001b[0m \u001b[0mplt\u001b[0m\u001b[0;34m.\u001b[0m\u001b[0msubplot\u001b[0m\u001b[0;34m(\u001b[0m\u001b[0;36m4\u001b[0m\u001b[0;34m,\u001b[0m \u001b[0;36m4\u001b[0m\u001b[0;34m,\u001b[0m \u001b[0mi\u001b[0m \u001b[0;34m+\u001b[0m \u001b[0;36m1\u001b[0m\u001b[0;34m)\u001b[0m\u001b[0;34m\u001b[0m\u001b[0;34m\u001b[0m\u001b[0m\n\u001b[1;32m     10\u001b[0m   \u001b[0mplt\u001b[0m\u001b[0;34m.\u001b[0m\u001b[0mimshow\u001b[0m\u001b[0;34m(\u001b[0m\u001b[0mimage\u001b[0m\u001b[0;34m)\u001b[0m\u001b[0;34m\u001b[0m\u001b[0;34m\u001b[0m\u001b[0m\n",
            "\u001b[0;31mTypeError\u001b[0m: '_RangeDataset' object is not subscriptable"
          ]
        }
      ]
    },
    {
      "cell_type": "code",
      "source": [
        "for data in dataset:\n",
        "  print(data)\n",
        "  break\n"
      ],
      "metadata": {
        "colab": {
          "base_uri": "https://localhost:8080/",
          "height": 180
        },
        "id": "mVd76ipbQ06Q",
        "outputId": "b6476ee2-e5b3-4bbc-aa60-8987be78cfaa"
      },
      "execution_count": null,
      "outputs": [
        {
          "output_type": "error",
          "ename": "TypeError",
          "evalue": "'module' object is not iterable",
          "traceback": [
            "\u001b[0;31m---------------------------------------------------------------------------\u001b[0m",
            "\u001b[0;31mTypeError\u001b[0m                                 Traceback (most recent call last)",
            "\u001b[0;32m<ipython-input-66-e2dc9202d3d5>\u001b[0m in \u001b[0;36m<cell line: 0>\u001b[0;34m()\u001b[0m\n\u001b[0;32m----> 1\u001b[0;31m \u001b[0;32mfor\u001b[0m \u001b[0mdata\u001b[0m \u001b[0;32min\u001b[0m \u001b[0mdataset\u001b[0m\u001b[0;34m:\u001b[0m\u001b[0;34m\u001b[0m\u001b[0;34m\u001b[0m\u001b[0m\n\u001b[0m\u001b[1;32m      2\u001b[0m   \u001b[0mprint\u001b[0m\u001b[0;34m(\u001b[0m\u001b[0mdata\u001b[0m\u001b[0;34m)\u001b[0m\u001b[0;34m\u001b[0m\u001b[0;34m\u001b[0m\u001b[0m\n\u001b[1;32m      3\u001b[0m   \u001b[0;32mbreak\u001b[0m\u001b[0;34m\u001b[0m\u001b[0;34m\u001b[0m\u001b[0m\n",
            "\u001b[0;31mTypeError\u001b[0m: 'module' object is not iterable"
          ]
        }
      ]
    },
    {
      "cell_type": "code",
      "source": [
        "import pandas as pd"
      ],
      "metadata": {
        "id": "oSMA1MKMQ4ae"
      },
      "execution_count": null,
      "outputs": []
    },
    {
      "cell_type": "code",
      "source": [
        "model.compile( optimizer = adam,\n",
        "              loss = MeanAbosulteError())"
      ],
      "metadata": {
        "colab": {
          "base_uri": "https://localhost:8080/",
          "height": 162
        },
        "id": "QCHeU4J6Q7FV",
        "outputId": "d01876b7-e658-4e8d-da2f-3d09a788b6aa"
      },
      "execution_count": null,
      "outputs": [
        {
          "output_type": "error",
          "ename": "NameError",
          "evalue": "name 'model' is not defined",
          "traceback": [
            "\u001b[0;31m---------------------------------------------------------------------------\u001b[0m",
            "\u001b[0;31mNameError\u001b[0m                                 Traceback (most recent call last)",
            "\u001b[0;32m<ipython-input-68-5be9d95cf6f9>\u001b[0m in \u001b[0;36m<cell line: 0>\u001b[0;34m()\u001b[0m\n\u001b[0;32m----> 1\u001b[0;31m model.compile( optimizer = adam,\n\u001b[0m\u001b[1;32m      2\u001b[0m               loss = MeanAbosulteError())\n",
            "\u001b[0;31mNameError\u001b[0m: name 'model' is not defined"
          ]
        }
      ]
    },
    {
      "cell_type": "code",
      "source": [
        "history.history"
      ],
      "metadata": {
        "colab": {
          "base_uri": "https://localhost:8080/",
          "height": 144
        },
        "id": "thTjyEgcWNuQ",
        "outputId": "667e97f2-d983-4f60-fe47-d44ba466dac3"
      },
      "execution_count": null,
      "outputs": [
        {
          "output_type": "error",
          "ename": "NameError",
          "evalue": "name 'history' is not defined",
          "traceback": [
            "\u001b[0;31m---------------------------------------------------------------------------\u001b[0m",
            "\u001b[0;31mNameError\u001b[0m                                 Traceback (most recent call last)",
            "\u001b[0;32m<ipython-input-16-6cd13d6a221b>\u001b[0m in \u001b[0;36m<cell line: 0>\u001b[0;34m()\u001b[0m\n\u001b[0;32m----> 1\u001b[0;31m \u001b[0mhistory\u001b[0m\u001b[0;34m.\u001b[0m\u001b[0mhistory\u001b[0m\u001b[0;34m\u001b[0m\u001b[0;34m\u001b[0m\u001b[0m\n\u001b[0m",
            "\u001b[0;31mNameError\u001b[0m: name 'history' is not defined"
          ]
        }
      ]
    },
    {
      "cell_type": "code",
      "source": [
        "import tensorflow.keras.models import Normalization, Dense, InterruptedError"
      ],
      "metadata": {
        "colab": {
          "base_uri": "https://localhost:8080/",
          "height": 108
        },
        "id": "7MfpyciUWSDA",
        "outputId": "d22bde95-afb9-4a14-d32a-fa9995c72888"
      },
      "execution_count": null,
      "outputs": [
        {
          "output_type": "error",
          "ename": "SyntaxError",
          "evalue": "invalid syntax (<ipython-input-17-c117f21950eb>, line 1)",
          "traceback": [
            "\u001b[0;36m  File \u001b[0;32m\"<ipython-input-17-c117f21950eb>\"\u001b[0;36m, line \u001b[0;32m1\u001b[0m\n\u001b[0;31m    import tensorflow.keras.models import Normalization, Dense, InterruptedError\u001b[0m\n\u001b[0m                                   ^\u001b[0m\n\u001b[0;31mSyntaxError\u001b[0m\u001b[0;31m:\u001b[0m invalid syntax\n"
          ]
        }
      ]
    },
    {
      "cell_type": "code",
      "source": [
        "import pandas as pd  # Reading and processing data\n",
        "import seaborn as sns  # Visualization\n",
        "import matplotlib.pyplot as plt  # Visualization"
      ],
      "metadata": {
        "id": "5oeO15qeWwgj"
      },
      "execution_count": null,
      "outputs": []
    },
    {
      "cell_type": "code",
      "source": [
        "   from tensorflow.keras.optimizers import Adam"
      ],
      "metadata": {
        "id": "mgAFox4OW6bq"
      },
      "execution_count": null,
      "outputs": []
    },
    {
      "cell_type": "code",
      "source": [
        "# lets take the pixels,\n",
        "#now we take the image,\n",
        "\n",
        "# if we now take the image from the dataset,\n",
        " dataset = tf.data.Dataset.range(10)\n",
        " print(list(dataset.as_mumpy_iterator()))\n",
        " DATASET_SIZE = len(dataset)\n",
        "\n",
        " train_dataset = dataset.take(int(Train_ratio*DATASET_SIZE))\n",
        " print(list(train_dataset.as_numpy_iterator()))\n",
        "\n",
        " val_dataset = dataset.skip(int(Train_ratio*DATASET_SIZE))\n",
        " print(list(val_dataset.as_numpy_iterator()))#\n"
      ],
      "metadata": {
        "colab": {
          "base_uri": "https://localhost:8080/",
          "height": 108
        },
        "id": "i4LuiswmW9DX",
        "outputId": "b4fa4662-9792-4894-a8eb-cf21f603ed29"
      },
      "execution_count": null,
      "outputs": [
        {
          "output_type": "error",
          "ename": "IndentationError",
          "evalue": "unexpected indent (<ipython-input-8-84eaafaecd88>, line 5)",
          "traceback": [
            "\u001b[0;36m  File \u001b[0;32m\"<ipython-input-8-84eaafaecd88>\"\u001b[0;36m, line \u001b[0;32m5\u001b[0m\n\u001b[0;31m    dataset = tf.data.Dataset.range(10)\u001b[0m\n\u001b[0m    ^\u001b[0m\n\u001b[0;31mIndentationError\u001b[0m\u001b[0;31m:\u001b[0m unexpected indent\n"
          ]
        }
      ]
    },
    {
      "cell_type": "code",
      "source": [
        "# lets take the pixels,\n",
        "#now we take the image,\n",
        "\n",
        "# if we now take the image from the dataset,\n",
        "dataset = tf.data.Dataset.range(10) # Removed extra indentation\n",
        "print(list(dataset.as_numpy_iterator()))\n",
        "DATASET_SIZE = len(dataset)\n",
        "\n",
        "train_dataset = dataset.take(int(Train_ratio*DATASET_SIZE))\n",
        "print(list(train_dataset.as_numpy_iterator()))\n",
        "\n",
        "val_dataset = dataset.skip(int(Train_ratio*DATASET_SIZE))\n",
        "print(list(val_dataset.as_numpy_iterator()))#"
      ],
      "metadata": {
        "colab": {
          "base_uri": "https://localhost:8080/",
          "height": 233
        },
        "id": "bKpuTLWTgKK9",
        "outputId": "e4ec71b6-5987-4e88-adad-2db4e8ddf4de"
      },
      "execution_count": null,
      "outputs": [
        {
          "output_type": "stream",
          "name": "stdout",
          "text": [
            "[0, 1, 2, 3, 4, 5, 6, 7, 8, 9]\n"
          ]
        },
        {
          "output_type": "error",
          "ename": "NameError",
          "evalue": "name 'Train_ratio' is not defined",
          "traceback": [
            "\u001b[0;31m---------------------------------------------------------------------------\u001b[0m",
            "\u001b[0;31mNameError\u001b[0m                                 Traceback (most recent call last)",
            "\u001b[0;32m<ipython-input-47-4a90f501e367>\u001b[0m in \u001b[0;36m<cell line: 0>\u001b[0;34m()\u001b[0m\n\u001b[1;32m      7\u001b[0m \u001b[0mDATASET_SIZE\u001b[0m \u001b[0;34m=\u001b[0m \u001b[0mlen\u001b[0m\u001b[0;34m(\u001b[0m\u001b[0mdataset\u001b[0m\u001b[0;34m)\u001b[0m\u001b[0;34m\u001b[0m\u001b[0;34m\u001b[0m\u001b[0m\n\u001b[1;32m      8\u001b[0m \u001b[0;34m\u001b[0m\u001b[0m\n\u001b[0;32m----> 9\u001b[0;31m \u001b[0mtrain_dataset\u001b[0m \u001b[0;34m=\u001b[0m \u001b[0mdataset\u001b[0m\u001b[0;34m.\u001b[0m\u001b[0mtake\u001b[0m\u001b[0;34m(\u001b[0m\u001b[0mint\u001b[0m\u001b[0;34m(\u001b[0m\u001b[0mTrain_ratio\u001b[0m\u001b[0;34m*\u001b[0m\u001b[0mDATASET_SIZE\u001b[0m\u001b[0;34m)\u001b[0m\u001b[0;34m)\u001b[0m\u001b[0;34m\u001b[0m\u001b[0;34m\u001b[0m\u001b[0m\n\u001b[0m\u001b[1;32m     10\u001b[0m \u001b[0mprint\u001b[0m\u001b[0;34m(\u001b[0m\u001b[0mlist\u001b[0m\u001b[0;34m(\u001b[0m\u001b[0mtrain_dataset\u001b[0m\u001b[0;34m.\u001b[0m\u001b[0mas_numpy_iterator\u001b[0m\u001b[0;34m(\u001b[0m\u001b[0;34m)\u001b[0m\u001b[0;34m)\u001b[0m\u001b[0;34m)\u001b[0m\u001b[0;34m\u001b[0m\u001b[0;34m\u001b[0m\u001b[0m\n\u001b[1;32m     11\u001b[0m \u001b[0;34m\u001b[0m\u001b[0m\n",
            "\u001b[0;31mNameError\u001b[0m: name 'Train_ratio' is not defined"
          ]
        }
      ]
    },
    {
      "cell_type": "code",
      "source": [
        "import tensorflow as tf  # Import tensorflow\n",
        "\n",
        "# lets take the pixels,\n",
        "#now we take the image,\n",
        "\n",
        "\n",
        "\n",
        "# if we now take the image from the dataset,\n",
        "dataset = tf.data.Dataset.range(10) # Removed extra indentation\n",
        "print(list(dataset.as_numpy_iterator()))\n",
        "DATASET_SIZE = len(dataset)\n",
        "\n",
        "train_dataset = dataset.take(int(Train_ratio*DATASET_SIZE))\n",
        "print(list(train_dataset.as_numpy_iterator()))\n",
        "\n",
        "val_dataset = dataset.skip(int(Train_ratio*DATASET_SIZE))\n",
        "print(list(val_dataset.as_numpy_iterator()))#"
      ],
      "metadata": {
        "colab": {
          "base_uri": "https://localhost:8080/",
          "height": 233
        },
        "id": "3WYCAJOrgVE5",
        "outputId": "b0b8a3b7-cef4-4379-f07f-02cd861bef8f"
      },
      "execution_count": null,
      "outputs": [
        {
          "output_type": "stream",
          "name": "stdout",
          "text": [
            "[0, 1, 2, 3, 4, 5, 6, 7, 8, 9]\n"
          ]
        },
        {
          "output_type": "error",
          "ename": "NameError",
          "evalue": "name 'Train_ratio' is not defined",
          "traceback": [
            "\u001b[0;31m---------------------------------------------------------------------------\u001b[0m",
            "\u001b[0;31mNameError\u001b[0m                                 Traceback (most recent call last)",
            "\u001b[0;32m<ipython-input-48-90edee7f3138>\u001b[0m in \u001b[0;36m<cell line: 0>\u001b[0;34m()\u001b[0m\n\u001b[1;32m     11\u001b[0m \u001b[0mDATASET_SIZE\u001b[0m \u001b[0;34m=\u001b[0m \u001b[0mlen\u001b[0m\u001b[0;34m(\u001b[0m\u001b[0mdataset\u001b[0m\u001b[0;34m)\u001b[0m\u001b[0;34m\u001b[0m\u001b[0;34m\u001b[0m\u001b[0m\n\u001b[1;32m     12\u001b[0m \u001b[0;34m\u001b[0m\u001b[0m\n\u001b[0;32m---> 13\u001b[0;31m \u001b[0mtrain_dataset\u001b[0m \u001b[0;34m=\u001b[0m \u001b[0mdataset\u001b[0m\u001b[0;34m.\u001b[0m\u001b[0mtake\u001b[0m\u001b[0;34m(\u001b[0m\u001b[0mint\u001b[0m\u001b[0;34m(\u001b[0m\u001b[0mTrain_ratio\u001b[0m\u001b[0;34m*\u001b[0m\u001b[0mDATASET_SIZE\u001b[0m\u001b[0;34m)\u001b[0m\u001b[0;34m)\u001b[0m\u001b[0;34m\u001b[0m\u001b[0;34m\u001b[0m\u001b[0m\n\u001b[0m\u001b[1;32m     14\u001b[0m \u001b[0mprint\u001b[0m\u001b[0;34m(\u001b[0m\u001b[0mlist\u001b[0m\u001b[0;34m(\u001b[0m\u001b[0mtrain_dataset\u001b[0m\u001b[0;34m.\u001b[0m\u001b[0mas_numpy_iterator\u001b[0m\u001b[0;34m(\u001b[0m\u001b[0;34m)\u001b[0m\u001b[0;34m)\u001b[0m\u001b[0;34m)\u001b[0m\u001b[0;34m\u001b[0m\u001b[0;34m\u001b[0m\u001b[0m\n\u001b[1;32m     15\u001b[0m \u001b[0;34m\u001b[0m\u001b[0m\n",
            "\u001b[0;31mNameError\u001b[0m: name 'Train_ratio' is not defined"
          ]
        }
      ]
    },
    {
      "cell_type": "code",
      "source": [
        "import tensorflow as tf  # Import tensorflow\n",
        "\n",
        "# lets take the pixels,\n",
        "#now we take the image,\n",
        "\n",
        "# if we now take the image from the dataset,\n",
        "dataset = tf.data.Dataset.range(10) # Removed extra indentation\n",
        "print(list(dataset.as_numpy_iterator()))\n",
        "DATASET_SIZE = len(dataset)\n",
        "\n",
        "# Define Train_ratio here, for example, setting it to 0.8 for an 80/20 split\n",
        "TRAIN_RATIO = 0.8\n",
        "VAL_RATIO = 0.2\n",
        "TEST_RATIO = 0.2\n",
        "\n",
        "train_dataset = dataset.take(int(Train_ratio*DATASET_SIZE))\n",
        "print(list(train_dataset.as_numpy_iterator()))\n",
        "\n",
        "val_dataset = dataset.skip(int(Train_ratio*DATASET_SIZE))\n",
        "print(list(val_dataset.as_numpy_iterator()))#\n",
        "\n",
        "test_dataset = val_test_dataset.skip(int(val_ratio*dataset_size))\n",
        "print(list(test_dataset.as_numpy_iterator))"
      ],
      "metadata": {
        "colab": {
          "base_uri": "https://localhost:8080/",
          "height": 233
        },
        "id": "hcR2_BGNgbMZ",
        "outputId": "6b55272d-9006-4e4b-dec7-74c271280496"
      },
      "execution_count": null,
      "outputs": [
        {
          "output_type": "stream",
          "name": "stdout",
          "text": [
            "[0, 1, 2, 3, 4, 5, 6, 7, 8, 9]\n"
          ]
        },
        {
          "output_type": "error",
          "ename": "NameError",
          "evalue": "name 'Train_ratio' is not defined",
          "traceback": [
            "\u001b[0;31m---------------------------------------------------------------------------\u001b[0m",
            "\u001b[0;31mNameError\u001b[0m                                 Traceback (most recent call last)",
            "\u001b[0;32m<ipython-input-9-6852518bf4f9>\u001b[0m in \u001b[0;36m<cell line: 0>\u001b[0;34m()\u001b[0m\n\u001b[1;32m     14\u001b[0m \u001b[0mTEST_RATIO\u001b[0m \u001b[0;34m=\u001b[0m \u001b[0;36m0.2\u001b[0m\u001b[0;34m\u001b[0m\u001b[0;34m\u001b[0m\u001b[0m\n\u001b[1;32m     15\u001b[0m \u001b[0;34m\u001b[0m\u001b[0m\n\u001b[0;32m---> 16\u001b[0;31m \u001b[0mtrain_dataset\u001b[0m \u001b[0;34m=\u001b[0m \u001b[0mdataset\u001b[0m\u001b[0;34m.\u001b[0m\u001b[0mtake\u001b[0m\u001b[0;34m(\u001b[0m\u001b[0mint\u001b[0m\u001b[0;34m(\u001b[0m\u001b[0mTrain_ratio\u001b[0m\u001b[0;34m*\u001b[0m\u001b[0mDATASET_SIZE\u001b[0m\u001b[0;34m)\u001b[0m\u001b[0;34m)\u001b[0m\u001b[0;34m\u001b[0m\u001b[0;34m\u001b[0m\u001b[0m\n\u001b[0m\u001b[1;32m     17\u001b[0m \u001b[0mprint\u001b[0m\u001b[0;34m(\u001b[0m\u001b[0mlist\u001b[0m\u001b[0;34m(\u001b[0m\u001b[0mtrain_dataset\u001b[0m\u001b[0;34m.\u001b[0m\u001b[0mas_numpy_iterator\u001b[0m\u001b[0;34m(\u001b[0m\u001b[0;34m)\u001b[0m\u001b[0;34m)\u001b[0m\u001b[0;34m)\u001b[0m\u001b[0;34m\u001b[0m\u001b[0;34m\u001b[0m\u001b[0m\n\u001b[1;32m     18\u001b[0m \u001b[0;34m\u001b[0m\u001b[0m\n",
            "\u001b[0;31mNameError\u001b[0m: name 'Train_ratio' is not defined"
          ]
        }
      ]
    },
    {
      "cell_type": "code",
      "source": [
        "TRAIN_RATIO = 0.8\n",
        "VAL_RATIO = 0.0\n",
        "TEST_RATIO = 0.2\n",
        "\n",
        "def split(data, train_ratio, val_ratio, test_ratio):\n",
        "    DATASET_SIZE = len(list(data.as_numpy_iterator()))  # Get the dataset size\n",
        "\n",
        "    # Create the training dataset\n",
        "    train_size = int(train_ratio * DATASET_SIZE)\n",
        "    train_dataset = data.take(train_size)\n",
        "    print(\"Train Dataset:\", list(train_dataset.as_numpy_iterator()))\n",
        "\n",
        "    # Create the validation and test datasets\n",
        "    val_test_dataset = data.skip(train_size)\n",
        "    print(\"Validation + Test Dataset:\", list(val_test_dataset.as_numpy_iterator()))\n",
        "\n",
        "    val_size = int(val_ratio * DATASET_SIZE)\n",
        "    val_dataset = val_test_dataset.take(val_size)\n",
        "    print(\"Validation Dataset:\", list(val_dataset.as_numpy_iterator()))\n",
        "\n",
        "    test_dataset = val_test_dataset.skip(val_size)\n",
        "    print(\"Test Dataset:\", list(test_dataset.as_numpy_iterator()))\n",
        "\n",
        "    return train_dataset, val_dataset, test_dataset\n",
        "\n",
        "# Create the dataset\n",
        "dataset = tf.data.Dataset.range(10)\n",
        "print(\"Original Dataset:\", list(dataset.as_numpy_iterator()))\n",
        "\n",
        "# Split the dataset\n",
        "train_dataset, val_dataset, test_dataset = split(dataset, TRAIN_RATIO, VAL_RATIO, TEST_RATIO)"
      ],
      "metadata": {
        "colab": {
          "base_uri": "https://localhost:8080/"
        },
        "id": "3s5_6kAQgon3",
        "outputId": "f2fec293-bc13-41e6-f6c5-41d172a23d2b"
      },
      "execution_count": null,
      "outputs": [
        {
          "output_type": "stream",
          "name": "stdout",
          "text": [
            "Original Dataset: [0, 1, 2, 3, 4, 5, 6, 7, 8, 9]\n",
            "Train Dataset: [0, 1, 2, 3, 4, 5, 6, 7]\n",
            "Validation + Test Dataset: [8, 9]\n",
            "Validation Dataset: []\n",
            "Test Dataset: [8, 9]\n"
          ]
        }
      ]
    },
    {
      "cell_type": "code",
      "source": [
        "import tensorflow as tf  # Import tensorflow\n",
        "\n",
        "# lets take the pixels,\n",
        "#now we take the image,\n",
        "\n",
        "# if we now take the image from the dataset,\n",
        "dataset = tf.data.Dataset.range(10) # Removed extra indentation\n",
        "print(list(dataset.as_numpy_iterator()))\n",
        "DATASET_SIZE = len(dataset)\n",
        "\n",
        "# Define Train_ratio here, for example, setting it to 0.8 for an 80/20 split\n",
        "TRAIN_RATIO = 0.8\n",
        "VAL_RATIO = 0.2\n",
        "TEST_RATIO = 0.2\n",
        "\n",
        "train_dataset = dataset.take(int(TRAIN_RATIO*DATASET_SIZE)) # Use TRAIN_RATIO\n",
        "print(list(train_dataset.as_numpy_iterator()))\n",
        "\n",
        "val_dataset = dataset.skip(int(TRAIN_RATIO*DATASET_SIZE)) # Use TRAIN_RATIO\n",
        "print(list(val_dataset.as_numpy_iterator()))#"
      ],
      "metadata": {
        "colab": {
          "base_uri": "https://localhost:8080/"
        },
        "id": "verwBZH7U6c_",
        "outputId": "efc1919d-ed34-4a4c-f256-2a592331c744"
      },
      "execution_count": null,
      "outputs": [
        {
          "output_type": "stream",
          "name": "stdout",
          "text": [
            "[0, 1, 2, 3, 4, 5, 6, 7, 8, 9]\n",
            "[0, 1, 2, 3, 4, 5, 6, 7]\n",
            "[8, 9]\n"
          ]
        }
      ]
    },
    {
      "cell_type": "code",
      "source": [
        "import tensorflow as tf\n",
        "import matplotlib.pyplot as plt\n",
        "\n",
        "# Assuming 'dataset' is your original malaria dataset loaded using tfds.load\n",
        "# and you've split it into train_dataset\n",
        "\n",
        "# data visualization\n",
        "for i, (image, label) in enumerate(dataset['train'].take(16)): # Use the original dataset\n",
        "  ax = plt.subplot(4, 4, i + 1)\n",
        "  plt.imshow(image)\n",
        "  plt.title(label.numpy())  # Convert label to NumPy for display\n",
        "  plt.axis('off')  # Turn off axis ticks and labels\n",
        "\n",
        "plt.tight_layout() # Adjust subplot spacing\n",
        "plt.show()"
      ],
      "metadata": {
        "colab": {
          "base_uri": "https://localhost:8080/",
          "height": 233
        },
        "id": "uJbuNk6bWaVk",
        "outputId": "17d88a21-1f2c-4394-afb1-7f9e13b319a5"
      },
      "execution_count": null,
      "outputs": [
        {
          "output_type": "error",
          "ename": "TypeError",
          "evalue": "'_RangeDataset' object is not subscriptable",
          "traceback": [
            "\u001b[0;31m---------------------------------------------------------------------------\u001b[0m",
            "\u001b[0;31mTypeError\u001b[0m                                 Traceback (most recent call last)",
            "\u001b[0;32m<ipython-input-12-65d98f5efd2f>\u001b[0m in \u001b[0;36m<cell line: 0>\u001b[0;34m()\u001b[0m\n\u001b[1;32m      6\u001b[0m \u001b[0;34m\u001b[0m\u001b[0m\n\u001b[1;32m      7\u001b[0m \u001b[0;31m# data visualization\u001b[0m\u001b[0;34m\u001b[0m\u001b[0;34m\u001b[0m\u001b[0m\n\u001b[0;32m----> 8\u001b[0;31m \u001b[0;32mfor\u001b[0m \u001b[0mi\u001b[0m\u001b[0;34m,\u001b[0m \u001b[0;34m(\u001b[0m\u001b[0mimage\u001b[0m\u001b[0;34m,\u001b[0m \u001b[0mlabel\u001b[0m\u001b[0;34m)\u001b[0m \u001b[0;32min\u001b[0m \u001b[0menumerate\u001b[0m\u001b[0;34m(\u001b[0m\u001b[0mdataset\u001b[0m\u001b[0;34m[\u001b[0m\u001b[0;34m'train'\u001b[0m\u001b[0;34m]\u001b[0m\u001b[0;34m.\u001b[0m\u001b[0mtake\u001b[0m\u001b[0;34m(\u001b[0m\u001b[0;36m16\u001b[0m\u001b[0;34m)\u001b[0m\u001b[0;34m)\u001b[0m\u001b[0;34m:\u001b[0m \u001b[0;31m# Use the original dataset\u001b[0m\u001b[0;34m\u001b[0m\u001b[0;34m\u001b[0m\u001b[0m\n\u001b[0m\u001b[1;32m      9\u001b[0m   \u001b[0max\u001b[0m \u001b[0;34m=\u001b[0m \u001b[0mplt\u001b[0m\u001b[0;34m.\u001b[0m\u001b[0msubplot\u001b[0m\u001b[0;34m(\u001b[0m\u001b[0;36m4\u001b[0m\u001b[0;34m,\u001b[0m \u001b[0;36m4\u001b[0m\u001b[0;34m,\u001b[0m \u001b[0mi\u001b[0m \u001b[0;34m+\u001b[0m \u001b[0;36m1\u001b[0m\u001b[0;34m)\u001b[0m\u001b[0;34m\u001b[0m\u001b[0;34m\u001b[0m\u001b[0m\n\u001b[1;32m     10\u001b[0m   \u001b[0mplt\u001b[0m\u001b[0;34m.\u001b[0m\u001b[0mimshow\u001b[0m\u001b[0;34m(\u001b[0m\u001b[0mimage\u001b[0m\u001b[0;34m)\u001b[0m\u001b[0;34m\u001b[0m\u001b[0;34m\u001b[0m\u001b[0m\n",
            "\u001b[0;31mTypeError\u001b[0m: '_RangeDataset' object is not subscriptable"
          ]
        }
      ]
    },
    {
      "cell_type": "code",
      "source": [
        "import tensorflow as tf\n",
        "import matplotlib.pyplot as plt\n",
        "\n",
        "# Assuming 'dataset' is your original malaria dataset loaded using tfds.load\n",
        "# and you've split it into train_dataset\n",
        "\n",
        "# data visualization\n",
        "for i, (image, label) in enumerate(dataset['train'].take(16)): # Use the original dataset\n",
        "  ax = plt.subplot(4, 4, i + 1)\n",
        "  plt.imshow(image)\n",
        "  plt.title(label.numpy())  # Convert label to NumPy for display\n",
        "  plt.axis('off')  # Turn off axis ticks and labels\n",
        "\n",
        "plt.tight_layout() # Adjust subplot spacing\n",
        "plt.show()\n",
        "\n",
        "\n",
        "import tensorflow as tf\n",
        "import matplot"
      ],
      "metadata": {
        "colab": {
          "base_uri": "https://localhost:8080/",
          "height": 233
        },
        "id": "tJGDNTJBBc6E",
        "outputId": "96330760-7eef-40df-8fdf-0bc9bb8cb64e"
      },
      "execution_count": null,
      "outputs": [
        {
          "output_type": "error",
          "ename": "TypeError",
          "evalue": "'_RangeDataset' object is not subscriptable",
          "traceback": [
            "\u001b[0;31m---------------------------------------------------------------------------\u001b[0m",
            "\u001b[0;31mTypeError\u001b[0m                                 Traceback (most recent call last)",
            "\u001b[0;32m<ipython-input-13-fe73e95e765e>\u001b[0m in \u001b[0;36m<cell line: 0>\u001b[0;34m()\u001b[0m\n\u001b[1;32m      6\u001b[0m \u001b[0;34m\u001b[0m\u001b[0m\n\u001b[1;32m      7\u001b[0m \u001b[0;31m# data visualization\u001b[0m\u001b[0;34m\u001b[0m\u001b[0;34m\u001b[0m\u001b[0m\n\u001b[0;32m----> 8\u001b[0;31m \u001b[0;32mfor\u001b[0m \u001b[0mi\u001b[0m\u001b[0;34m,\u001b[0m \u001b[0;34m(\u001b[0m\u001b[0mimage\u001b[0m\u001b[0;34m,\u001b[0m \u001b[0mlabel\u001b[0m\u001b[0;34m)\u001b[0m \u001b[0;32min\u001b[0m \u001b[0menumerate\u001b[0m\u001b[0;34m(\u001b[0m\u001b[0mdataset\u001b[0m\u001b[0;34m[\u001b[0m\u001b[0;34m'train'\u001b[0m\u001b[0;34m]\u001b[0m\u001b[0;34m.\u001b[0m\u001b[0mtake\u001b[0m\u001b[0;34m(\u001b[0m\u001b[0;36m16\u001b[0m\u001b[0;34m)\u001b[0m\u001b[0;34m)\u001b[0m\u001b[0;34m:\u001b[0m \u001b[0;31m# Use the original dataset\u001b[0m\u001b[0;34m\u001b[0m\u001b[0;34m\u001b[0m\u001b[0m\n\u001b[0m\u001b[1;32m      9\u001b[0m   \u001b[0max\u001b[0m \u001b[0;34m=\u001b[0m \u001b[0mplt\u001b[0m\u001b[0;34m.\u001b[0m\u001b[0msubplot\u001b[0m\u001b[0;34m(\u001b[0m\u001b[0;36m4\u001b[0m\u001b[0;34m,\u001b[0m \u001b[0;36m4\u001b[0m\u001b[0;34m,\u001b[0m \u001b[0mi\u001b[0m \u001b[0;34m+\u001b[0m \u001b[0;36m1\u001b[0m\u001b[0;34m)\u001b[0m\u001b[0;34m\u001b[0m\u001b[0;34m\u001b[0m\u001b[0m\n\u001b[1;32m     10\u001b[0m   \u001b[0mplt\u001b[0m\u001b[0;34m.\u001b[0m\u001b[0mimshow\u001b[0m\u001b[0;34m(\u001b[0m\u001b[0mimage\u001b[0m\u001b[0;34m)\u001b[0m\u001b[0;34m\u001b[0m\u001b[0;34m\u001b[0m\u001b[0m\n",
            "\u001b[0;31mTypeError\u001b[0m: '_RangeDataset' object is not subscriptable"
          ]
        }
      ]
    },
    {
      "cell_type": "code",
      "source": [
        "train_ratio = 0.6\n",
        "val_ratio = 0.2\n",
        "test_ratio = 0.2\n",
        "\n",
        "dataset = tf.data.dataset.range(10)\n",
        "dataset = dataset.shuffle(len(dataset))\n",
        "dataset_size = len(dataset)\n",
        "train_size = int(train_ratio * dataset_size)\n",
        "val_size = int(val_ratio * dataset_size)\n",
        "test_size = dataset_size - train_size - val_size\n",
        "\n",
        "train_dataset = dataset.take(train_size)\n",
        "val_dataset = dataset.skip(train_size).take(val_size)\n",
        "test_dataset = dataset.skip(train_size + val_size)"
      ],
      "metadata": {
        "colab": {
          "base_uri": "https://localhost:8080/",
          "height": 216
        },
        "id": "0n7XYTNeFQY3",
        "outputId": "0c53a0a0-3cf7-47be-cb0f-9e21cdb257e6"
      },
      "execution_count": null,
      "outputs": [
        {
          "output_type": "error",
          "ename": "AttributeError",
          "evalue": "module 'tensorflow._api.v2.data' has no attribute 'dataset'",
          "traceback": [
            "\u001b[0;31m---------------------------------------------------------------------------\u001b[0m",
            "\u001b[0;31mAttributeError\u001b[0m                            Traceback (most recent call last)",
            "\u001b[0;32m<ipython-input-15-fd1a1cd5ff6b>\u001b[0m in \u001b[0;36m<cell line: 0>\u001b[0;34m()\u001b[0m\n\u001b[1;32m      3\u001b[0m \u001b[0mtest_ratio\u001b[0m \u001b[0;34m=\u001b[0m \u001b[0;36m0.2\u001b[0m\u001b[0;34m\u001b[0m\u001b[0;34m\u001b[0m\u001b[0m\n\u001b[1;32m      4\u001b[0m \u001b[0;34m\u001b[0m\u001b[0m\n\u001b[0;32m----> 5\u001b[0;31m \u001b[0mdataset\u001b[0m \u001b[0;34m=\u001b[0m \u001b[0mtf\u001b[0m\u001b[0;34m.\u001b[0m\u001b[0mdata\u001b[0m\u001b[0;34m.\u001b[0m\u001b[0mdataset\u001b[0m\u001b[0;34m.\u001b[0m\u001b[0mrange\u001b[0m\u001b[0;34m(\u001b[0m\u001b[0;36m10\u001b[0m\u001b[0;34m)\u001b[0m\u001b[0;34m\u001b[0m\u001b[0;34m\u001b[0m\u001b[0m\n\u001b[0m\u001b[1;32m      6\u001b[0m \u001b[0mdataset\u001b[0m \u001b[0;34m=\u001b[0m \u001b[0mdataset\u001b[0m\u001b[0;34m.\u001b[0m\u001b[0mshuffle\u001b[0m\u001b[0;34m(\u001b[0m\u001b[0mlen\u001b[0m\u001b[0;34m(\u001b[0m\u001b[0mdataset\u001b[0m\u001b[0;34m)\u001b[0m\u001b[0;34m)\u001b[0m\u001b[0;34m\u001b[0m\u001b[0;34m\u001b[0m\u001b[0m\n\u001b[1;32m      7\u001b[0m \u001b[0mdataset_size\u001b[0m \u001b[0;34m=\u001b[0m \u001b[0mlen\u001b[0m\u001b[0;34m(\u001b[0m\u001b[0mdataset\u001b[0m\u001b[0;34m)\u001b[0m\u001b[0;34m\u001b[0m\u001b[0;34m\u001b[0m\u001b[0m\n",
            "\u001b[0;31mAttributeError\u001b[0m: module 'tensorflow._api.v2.data' has no attribute 'dataset'"
          ]
        }
      ]
    },
    {
      "cell_type": "code",
      "source": [],
      "metadata": {
        "id": "2c4Y2m3QPviW"
      },
      "execution_count": null,
      "outputs": []
    },
    {
      "cell_type": "code",
      "source": [
        "TRAIN_RATIO = 0.6\n",
        "VAL_RATIO = 0.2\n",
        "TEST_RATIO = 0.2\n",
        "\n",
        "dataset = tf.data.Dataset.range(10)\n",
        "print(list(dataset.as_numpy_iterator()))\n",
        "\n",
        "# Split the dataset\n",
        "print(list(TRAIN_RATIO.as_numpy_iterator()))\n",
        "print(list(val_dataset.as_numpy_iterator))\n",
        "print(list(test_dataset.as_numpy_iterator))\n",
        "\n",
        "train_dataset = dataset.take((int(TRAIN_RATIO*DATASET_SIZE)))\n",
        "print(list(train_dataset.as_numpy_iterator()))\n",
        "\n",
        "val_dataset = dataset.skip(int(TRAIN_RATIO*DATASET_SIZE))\n",
        "print(list(val_dataset.as_numpy_iterator()))\n",
        "\n",
        "test_dataset = val_test_dataset.skip(int(val_ratio*dataset_size))\n",
        "print(list(test_dataset.as_numpy_iterator))\n"
      ],
      "metadata": {
        "colab": {
          "base_uri": "https://localhost:8080/",
          "height": 233
        },
        "id": "MB7o2nPmOjO-",
        "outputId": "04f5019a-7cb9-49db-f924-224c51ac60ca"
      },
      "execution_count": null,
      "outputs": [
        {
          "output_type": "stream",
          "name": "stdout",
          "text": [
            "[0, 1, 2, 3, 4, 5, 6, 7, 8, 9]\n"
          ]
        },
        {
          "output_type": "error",
          "ename": "AttributeError",
          "evalue": "'float' object has no attribute 'as_numpy_iterator'",
          "traceback": [
            "\u001b[0;31m---------------------------------------------------------------------------\u001b[0m",
            "\u001b[0;31mAttributeError\u001b[0m                            Traceback (most recent call last)",
            "\u001b[0;32m<ipython-input-16-6fa42dc1e791>\u001b[0m in \u001b[0;36m<cell line: 0>\u001b[0;34m()\u001b[0m\n\u001b[1;32m      7\u001b[0m \u001b[0;34m\u001b[0m\u001b[0m\n\u001b[1;32m      8\u001b[0m \u001b[0;31m# Split the dataset\u001b[0m\u001b[0;34m\u001b[0m\u001b[0;34m\u001b[0m\u001b[0m\n\u001b[0;32m----> 9\u001b[0;31m \u001b[0mprint\u001b[0m\u001b[0;34m(\u001b[0m\u001b[0mlist\u001b[0m\u001b[0;34m(\u001b[0m\u001b[0mTRAIN_RATIO\u001b[0m\u001b[0;34m.\u001b[0m\u001b[0mas_numpy_iterator\u001b[0m\u001b[0;34m(\u001b[0m\u001b[0;34m)\u001b[0m\u001b[0;34m)\u001b[0m\u001b[0;34m)\u001b[0m\u001b[0;34m\u001b[0m\u001b[0;34m\u001b[0m\u001b[0m\n\u001b[0m\u001b[1;32m     10\u001b[0m \u001b[0mprint\u001b[0m\u001b[0;34m(\u001b[0m\u001b[0mlist\u001b[0m\u001b[0;34m(\u001b[0m\u001b[0mval_dataset\u001b[0m\u001b[0;34m.\u001b[0m\u001b[0mas_numpy_iterator\u001b[0m\u001b[0;34m)\u001b[0m\u001b[0;34m)\u001b[0m\u001b[0;34m\u001b[0m\u001b[0;34m\u001b[0m\u001b[0m\n\u001b[1;32m     11\u001b[0m \u001b[0mprint\u001b[0m\u001b[0;34m(\u001b[0m\u001b[0mlist\u001b[0m\u001b[0;34m(\u001b[0m\u001b[0mtest_dataset\u001b[0m\u001b[0;34m.\u001b[0m\u001b[0mas_numpy_iterator\u001b[0m\u001b[0;34m)\u001b[0m\u001b[0;34m)\u001b[0m\u001b[0;34m\u001b[0m\u001b[0;34m\u001b[0m\u001b[0m\n",
            "\u001b[0;31mAttributeError\u001b[0m: 'float' object has no attribute 'as_numpy_iterator'"
          ]
        }
      ]
    },
    {
      "cell_type": "code",
      "source": [
        "[0,1,2,3,45,67,8,9] - this is the train-set\n",
        "[0,1,2,3,4,5]\n",
        "[6,7]\n",
        "\n",
        "[0,1,2,3,4,56,7,8,9]\n",
        "[0,1,2,3,4,5]\n",
        "[6,7]\n",
        "[8,9]\n",
        "\n",
        "now we have the function that is splits function\n",
        "\n",
        "\n"
      ],
      "metadata": {
        "colab": {
          "base_uri": "https://localhost:8080/",
          "height": 108
        },
        "id": "O2X7s-xkPWCE",
        "outputId": "96a2c511-2146-48d2-d368-68b24d98e37e"
      },
      "execution_count": null,
      "outputs": [
        {
          "output_type": "error",
          "ename": "SyntaxError",
          "evalue": "invalid syntax (<ipython-input-17-9fc2cfc28d52>, line 1)",
          "traceback": [
            "\u001b[0;36m  File \u001b[0;32m\"<ipython-input-17-9fc2cfc28d52>\"\u001b[0;36m, line \u001b[0;32m1\u001b[0m\n\u001b[0;31m    [0,1,2,3,45,67,8,9] - this is the train-set\u001b[0m\n\u001b[0m                                      ^\u001b[0m\n\u001b[0;31mSyntaxError\u001b[0m\u001b[0;31m:\u001b[0m invalid syntax\n"
          ]
        }
      ]
    },
    {
      "cell_type": "code",
      "source": [
        "def splits(TRAIN_RATIO, val_ratio, test_ratio):\n",
        "  dataset = tf.data.Dataset.range(10)\n",
        "  print(list(train_dataset))\n",
        "\n",
        "  train_dataset = dataset.take((int(TRAIN_RATIO*DATASET_SIZE)))\n",
        "\n",
        "  val_test_dataset = dataset.skip(int(TRAIN_RATIO*DATASET_SIZE))\n",
        "  print(list(val_test_dataset.as_numpy_iterator()))\n",
        "\n",
        "  test_dataset = val_test_dataset.skip(int(val_ratio*dataset_size))\n",
        "  print(list(test_dataset.as_numpy_iterator))"
      ],
      "metadata": {
        "id": "4cTLInn2QaaL"
      },
      "execution_count": null,
      "outputs": []
    },
    {
      "cell_type": "code",
      "source": [
        "for i, (image, label) in enumerate(train_dataset.take(15)):\n",
        "  ax = plt.subplot(4,4, i + 1)\n",
        "  plt.imshow(image)\n",
        "  plt.title(label)\n",
        "  plt.axis('off')"
      ],
      "metadata": {
        "colab": {
          "base_uri": "https://localhost:8080/",
          "height": 365
        },
        "id": "-pbCflWMRY85",
        "outputId": "8cb5811b-bf46-40e0-ba89-285d1abd0a9d"
      },
      "execution_count": null,
      "outputs": [
        {
          "output_type": "error",
          "ename": "TypeError",
          "evalue": "Cannot iterate over a scalar tensor.",
          "traceback": [
            "\u001b[0;31m---------------------------------------------------------------------------\u001b[0m",
            "\u001b[0;31mTypeError\u001b[0m                                 Traceback (most recent call last)",
            "\u001b[0;32m<ipython-input-42-af7cc0037e28>\u001b[0m in \u001b[0;36m<cell line: 0>\u001b[0;34m()\u001b[0m\n\u001b[0;32m----> 1\u001b[0;31m \u001b[0;32mfor\u001b[0m \u001b[0mi\u001b[0m\u001b[0;34m,\u001b[0m \u001b[0;34m(\u001b[0m\u001b[0mimage\u001b[0m\u001b[0;34m,\u001b[0m \u001b[0mlabel\u001b[0m\u001b[0;34m)\u001b[0m \u001b[0;32min\u001b[0m \u001b[0menumerate\u001b[0m\u001b[0;34m(\u001b[0m\u001b[0mtrain_dataset\u001b[0m\u001b[0;34m.\u001b[0m\u001b[0mtake\u001b[0m\u001b[0;34m(\u001b[0m\u001b[0;36m15\u001b[0m\u001b[0;34m)\u001b[0m\u001b[0;34m)\u001b[0m\u001b[0;34m:\u001b[0m\u001b[0;34m\u001b[0m\u001b[0;34m\u001b[0m\u001b[0m\n\u001b[0m\u001b[1;32m      2\u001b[0m   \u001b[0max\u001b[0m \u001b[0;34m=\u001b[0m \u001b[0mplt\u001b[0m\u001b[0;34m.\u001b[0m\u001b[0msubplot\u001b[0m\u001b[0;34m(\u001b[0m\u001b[0;36m4\u001b[0m\u001b[0;34m,\u001b[0m\u001b[0;36m4\u001b[0m\u001b[0;34m,\u001b[0m \u001b[0mi\u001b[0m \u001b[0;34m+\u001b[0m \u001b[0;36m1\u001b[0m\u001b[0;34m)\u001b[0m\u001b[0;34m\u001b[0m\u001b[0;34m\u001b[0m\u001b[0m\n\u001b[1;32m      3\u001b[0m   \u001b[0mplt\u001b[0m\u001b[0;34m.\u001b[0m\u001b[0mimshow\u001b[0m\u001b[0;34m(\u001b[0m\u001b[0mimage\u001b[0m\u001b[0;34m)\u001b[0m\u001b[0;34m\u001b[0m\u001b[0;34m\u001b[0m\u001b[0m\n\u001b[1;32m      4\u001b[0m   \u001b[0mplt\u001b[0m\u001b[0;34m.\u001b[0m\u001b[0mtitle\u001b[0m\u001b[0;34m(\u001b[0m\u001b[0mlabel\u001b[0m\u001b[0;34m)\u001b[0m\u001b[0;34m\u001b[0m\u001b[0;34m\u001b[0m\u001b[0m\n\u001b[1;32m      5\u001b[0m   \u001b[0mplt\u001b[0m\u001b[0;34m.\u001b[0m\u001b[0maxis\u001b[0m\u001b[0;34m(\u001b[0m\u001b[0;34m'off'\u001b[0m\u001b[0;34m)\u001b[0m\u001b[0;34m\u001b[0m\u001b[0;34m\u001b[0m\u001b[0m\n",
            "\u001b[0;32m/usr/local/lib/python3.11/dist-packages/tensorflow/python/framework/tensor.py\u001b[0m in \u001b[0;36m__iter__\u001b[0;34m(self)\u001b[0m\n\u001b[1;32m    323\u001b[0m       \u001b[0mself\u001b[0m\u001b[0;34m.\u001b[0m\u001b[0m_disallow_iteration\u001b[0m\u001b[0;34m(\u001b[0m\u001b[0;34m)\u001b[0m\u001b[0;34m\u001b[0m\u001b[0;34m\u001b[0m\u001b[0m\n\u001b[1;32m    324\u001b[0m \u001b[0;34m\u001b[0m\u001b[0m\n\u001b[0;32m--> 325\u001b[0;31m     \u001b[0mfirst_dim\u001b[0m \u001b[0;34m=\u001b[0m \u001b[0mself\u001b[0m\u001b[0;34m.\u001b[0m\u001b[0m_get_first_dim\u001b[0m\u001b[0;34m(\u001b[0m\u001b[0;34m)\u001b[0m\u001b[0;34m\u001b[0m\u001b[0;34m\u001b[0m\u001b[0m\n\u001b[0m\u001b[1;32m    326\u001b[0m     \u001b[0;32mreturn\u001b[0m \u001b[0m_TensorIterator\u001b[0m\u001b[0;34m(\u001b[0m\u001b[0mself\u001b[0m\u001b[0;34m,\u001b[0m \u001b[0mfirst_dim\u001b[0m\u001b[0;34m)\u001b[0m\u001b[0;34m\u001b[0m\u001b[0;34m\u001b[0m\u001b[0m\n\u001b[1;32m    327\u001b[0m \u001b[0;34m\u001b[0m\u001b[0m\n",
            "\u001b[0;32m/usr/local/lib/python3.11/dist-packages/tensorflow/python/framework/tensor.py\u001b[0m in \u001b[0;36m_get_first_dim\u001b[0;34m(self)\u001b[0m\n\u001b[1;32m    331\u001b[0m       \u001b[0;32mraise\u001b[0m \u001b[0mTypeError\u001b[0m\u001b[0;34m(\u001b[0m\u001b[0;34m\"Cannot iterate over a tensor with unknown shape.\"\u001b[0m\u001b[0;34m)\u001b[0m\u001b[0;34m\u001b[0m\u001b[0;34m\u001b[0m\u001b[0m\n\u001b[1;32m    332\u001b[0m     \u001b[0;32mif\u001b[0m \u001b[0;32mnot\u001b[0m \u001b[0mshape\u001b[0m\u001b[0;34m:\u001b[0m\u001b[0;34m\u001b[0m\u001b[0;34m\u001b[0m\u001b[0m\n\u001b[0;32m--> 333\u001b[0;31m       \u001b[0;32mraise\u001b[0m \u001b[0mTypeError\u001b[0m\u001b[0;34m(\u001b[0m\u001b[0;34m\"Cannot iterate over a scalar tensor.\"\u001b[0m\u001b[0;34m)\u001b[0m\u001b[0;34m\u001b[0m\u001b[0;34m\u001b[0m\u001b[0m\n\u001b[0m\u001b[1;32m    334\u001b[0m     \u001b[0;32mif\u001b[0m \u001b[0mshape\u001b[0m\u001b[0;34m[\u001b[0m\u001b[0;36m0\u001b[0m\u001b[0;34m]\u001b[0m \u001b[0;32mis\u001b[0m \u001b[0;32mNone\u001b[0m\u001b[0;34m:\u001b[0m\u001b[0;34m\u001b[0m\u001b[0;34m\u001b[0m\u001b[0m\n\u001b[1;32m    335\u001b[0m       raise TypeError(\n",
            "\u001b[0;31mTypeError\u001b[0m: Cannot iterate over a scalar tensor."
          ]
        }
      ]
    },
    {
      "cell_type": "code",
      "source": [
        "import kagglehub\n",
        "\n",
        "# Download latest version\n",
        "path = kagglehub.model_download(\"noorsaeed/mri_brain_tumor_model/keras/default\")\n",
        "\n",
        "print(\"Path to model files:\", path)"
      ],
      "metadata": {
        "id": "KEixebVEVeKk",
        "colab": {
          "base_uri": "https://localhost:8080/",
          "height": 480,
          "referenced_widgets": [
            "22a0d198d86c4f7f8fa035e0342752b0",
            "d23f4d7afdb54489abc6e844b6a9a1cc",
            "a29efdb6e1f345b69ff99668f7b80c6a",
            "0c383ff3a6a14e98b107141f5b56ffd5",
            "78adc7899f4745f78814f19aab108eda",
            "5c0807b896e8475f9ee5e77d187738bd",
            "6769291053e242e5998baf9d71a3018e",
            "19bfd24316614b63ae508f049cebace6",
            "d2a27d697a3c4060b0959d7b8d182688",
            "4810526257364dfa857f514a9e3404d8",
            "f1efc3a5bbbb4e5ea75b41f5b7dfcb07"
          ]
        },
        "outputId": "e320c6a8-4d1b-44d2-dbb1-eca923749efe"
      },
      "execution_count": null,
      "outputs": [
        {
          "output_type": "display_data",
          "data": {
            "text/plain": [
              "Downloading 1 files:   0%|          | 0/1 [00:00<?, ?it/s]"
            ],
            "application/vnd.jupyter.widget-view+json": {
              "version_major": 2,
              "version_minor": 0,
              "model_id": "22a0d198d86c4f7f8fa035e0342752b0"
            }
          },
          "metadata": {}
        },
        {
          "output_type": "stream",
          "name": "stdout",
          "text": [
            "Downloading from https://www.kaggle.com/api/v1/models/noorsaeed/mri_brain_tumor_model/keras/default/1/download/model.h5...\n"
          ]
        },
        {
          "output_type": "stream",
          "name": "stderr",
          "text": [
            "\n",
            "  0%|          | 0.00/122M [00:00<?, ?B/s]\u001b[A\n",
            "  1%|          | 1.00M/122M [00:00<00:21, 5.87MB/s]\u001b[A\n",
            "  5%|▍         | 6.00M/122M [00:00<00:04, 25.0MB/s]\u001b[A\n",
            " 11%|█         | 13.0M/122M [00:00<00:02, 42.6MB/s]\u001b[A\n",
            " 16%|█▌        | 19.0M/122M [00:00<00:02, 46.7MB/s]\u001b[A\n",
            " 20%|██        | 25.0M/122M [00:00<00:02, 50.7MB/s]\u001b[A\n",
            " 25%|██▌       | 31.0M/122M [00:00<00:02, 44.8MB/s]\u001b[A\n",
            " 29%|██▉       | 36.0M/122M [00:00<00:02, 41.1MB/s]\u001b[A\n",
            " 34%|███▍      | 42.0M/122M [00:01<00:01, 46.2MB/s]\u001b[A\n",
            " 38%|███▊      | 47.0M/122M [00:01<00:01, 47.1MB/s]\u001b[A\n",
            " 43%|████▎     | 52.0M/122M [00:01<00:01, 46.0MB/s]\u001b[A\n",
            " 47%|████▋     | 58.0M/122M [00:01<00:01, 47.8MB/s]\u001b[A\n",
            " 52%|█████▏    | 64.0M/122M [00:01<00:01, 51.3MB/s]\u001b[A\n",
            " 61%|██████    | 74.0M/122M [00:01<00:00, 65.7MB/s]\u001b[A\n",
            " 67%|██████▋   | 82.0M/122M [00:01<00:00, 70.6MB/s]\u001b[A\n",
            " 73%|███████▎  | 89.0M/122M [00:01<00:00, 66.0MB/s]\u001b[A\n",
            " 79%|███████▊  | 96.0M/122M [00:01<00:00, 65.9MB/s]\u001b[A\n",
            " 86%|████████▌ | 105M/122M [00:02<00:00, 65.2MB/s] \u001b[A\n",
            " 92%|█████████▏| 112M/122M [00:02<00:00, 55.4MB/s]\u001b[A\n",
            "100%|██████████| 122M/122M [00:02<00:00, 48.3MB/s]"
          ]
        },
        {
          "output_type": "stream",
          "name": "stdout",
          "text": [
            "Path to model files: /root/.cache/kagglehub/models/noorsaeed/mri_brain_tumor_model/keras/default/1\n"
          ]
        },
        {
          "output_type": "stream",
          "name": "stderr",
          "text": [
            "\n"
          ]
        }
      ]
    },
    {
      "cell_type": "code",
      "source": [
        "import os\n",
        "import numpy as np\n",
        "import tensorflow as tf\n",
        "import matplotlib.pyplot as plt\n",
        "import tensorflow_datasets as tfds\n",
        "from pil import image, imageEnhance"
      ],
      "metadata": {
        "colab": {
          "base_uri": "https://localhost:8080/",
          "height": 429
        },
        "id": "NqY5jBvYbM9t",
        "outputId": "46877c68-7950-40ae-e3f8-8cc1bb6a825d"
      },
      "execution_count": null,
      "outputs": [
        {
          "output_type": "error",
          "ename": "ModuleNotFoundError",
          "evalue": "No module named 'pil'",
          "traceback": [
            "\u001b[0;31m---------------------------------------------------------------------------\u001b[0m",
            "\u001b[0;31mModuleNotFoundError\u001b[0m                       Traceback (most recent call last)",
            "\u001b[0;32m<ipython-input-11-053ce6c134fb>\u001b[0m in \u001b[0;36m<cell line: 0>\u001b[0;34m()\u001b[0m\n\u001b[1;32m      4\u001b[0m \u001b[0;32mimport\u001b[0m \u001b[0mmatplotlib\u001b[0m\u001b[0;34m.\u001b[0m\u001b[0mpyplot\u001b[0m \u001b[0;32mas\u001b[0m \u001b[0mplt\u001b[0m\u001b[0;34m\u001b[0m\u001b[0;34m\u001b[0m\u001b[0m\n\u001b[1;32m      5\u001b[0m \u001b[0;32mimport\u001b[0m \u001b[0mtensorflow_datasets\u001b[0m \u001b[0;32mas\u001b[0m \u001b[0mtfds\u001b[0m\u001b[0;34m\u001b[0m\u001b[0;34m\u001b[0m\u001b[0m\n\u001b[0;32m----> 6\u001b[0;31m \u001b[0;32mfrom\u001b[0m \u001b[0mpil\u001b[0m \u001b[0;32mimport\u001b[0m \u001b[0mimage\u001b[0m\u001b[0;34m,\u001b[0m \u001b[0mimageEnhance\u001b[0m\u001b[0;34m\u001b[0m\u001b[0;34m\u001b[0m\u001b[0m\n\u001b[0m",
            "\u001b[0;31mModuleNotFoundError\u001b[0m: No module named 'pil'",
            "",
            "\u001b[0;31m---------------------------------------------------------------------------\u001b[0;32m\nNOTE: If your import is failing due to a missing package, you can\nmanually install dependencies using either !pip or !apt.\n\nTo view examples of installing some common dependencies, click the\n\"Open Examples\" button below.\n\u001b[0;31m---------------------------------------------------------------------------\u001b[0m\n"
          ],
          "errorDetails": {
            "actions": [
              {
                "action": "open_url",
                "actionText": "Open Examples",
                "url": "/notebooks/snippets/importing_libraries.ipynb"
              }
            ]
          }
        }
      ]
    },
    {
      "cell_type": "code",
      "source": [
        "import os\n",
        "import numpy as np\n",
        "import tensorflow as tf\n",
        "import matplotlib.pyplot as plt\n",
        "import tensorflow_datasets as tfds\n",
        "from PIL import Image, ImageEnhance # Changed 'pil' to 'PIL' and imported functions from submodules"
      ],
      "metadata": {
        "id": "POrQ4QJ4cFFV"
      },
      "execution_count": null,
      "outputs": []
    },
    {
      "cell_type": "code",
      "source": [
        "import tensorflow as tf\n",
        "from tensorflow.keras.models import Sequential\n",
        "from tensorflow.keras.layers import Dense\n",
        "\n",
        "# Generate some dummy car data\n",
        "import numpy as np\n",
        "x_train = np.random.rand(1000, 4)  # Features: engine size, cylinders, weight, aerodynamics\n",
        "y_train = 3.5 * x_train[:, 0] + 2.0 * x_train[:, 1] - 1.2 * x_train[:, 2] + 0.8 * x_train[:, 3] + np.random.randn(1000)\n",
        "\n",
        "# Build the shallow neural network\n",
        "model = Sequential([\n",
        "    Dense(16, activation='relu', input_shape=(4,)),  # Hidden layer with 16 units\n",
        "    Dense(1)  # Output layer\n",
        "])\n",
        "\n",
        "# Compile and train the model\n",
        "model.compile(optimizer='adam', loss='mse', metrics=['mae'])\n",
        "model.fit(x_train, y_train, epochs=50, batch_size=32)\n",
        "\n",
        "# Predict\n",
        "test_input = np.array([[2.0, 4.0, 1.5, 0.8]])  # New car features\n",
        "predicted_mpg = model.predict(test_input)\n",
        "print(f\"Predicted MPG: {predicted_mpg[0][0]}\")\n"
      ],
      "metadata": {
        "id": "nvVRTkHicMij",
        "colab": {
          "base_uri": "https://localhost:8080/"
        },
        "outputId": "e457ec99-baa1-4164-e286-115b76cd18d3"
      },
      "execution_count": null,
      "outputs": [
        {
          "output_type": "stream",
          "name": "stderr",
          "text": [
            "/usr/local/lib/python3.11/dist-packages/keras/src/layers/core/dense.py:87: UserWarning: Do not pass an `input_shape`/`input_dim` argument to a layer. When using Sequential models, prefer using an `Input(shape)` object as the first layer in the model instead.\n",
            "  super().__init__(activity_regularizer=activity_regularizer, **kwargs)\n"
          ]
        },
        {
          "output_type": "stream",
          "name": "stdout",
          "text": [
            "Epoch 1/50\n",
            "\u001b[1m32/32\u001b[0m \u001b[32m━━━━━━━━━━━━━━━━━━━━\u001b[0m\u001b[37m\u001b[0m \u001b[1m6s\u001b[0m 6ms/step - loss: 8.1008 - mae: 2.4586\n",
            "Epoch 2/50\n",
            "\u001b[1m32/32\u001b[0m \u001b[32m━━━━━━━━━━━━━━━━━━━━\u001b[0m\u001b[37m\u001b[0m \u001b[1m0s\u001b[0m 3ms/step - loss: 6.8464 - mae: 2.2242\n",
            "Epoch 3/50\n",
            "\u001b[1m32/32\u001b[0m \u001b[32m━━━━━━━━━━━━━━━━━━━━\u001b[0m\u001b[37m\u001b[0m \u001b[1m0s\u001b[0m 3ms/step - loss: 5.0644 - mae: 1.8600\n",
            "Epoch 4/50\n",
            "\u001b[1m32/32\u001b[0m \u001b[32m━━━━━━━━━━━━━━━━━━━━\u001b[0m\u001b[37m\u001b[0m \u001b[1m0s\u001b[0m 2ms/step - loss: 3.6025 - mae: 1.5626\n",
            "Epoch 5/50\n",
            "\u001b[1m32/32\u001b[0m \u001b[32m━━━━━━━━━━━━━━━━━━━━\u001b[0m\u001b[37m\u001b[0m \u001b[1m0s\u001b[0m 4ms/step - loss: 2.6127 - mae: 1.3127\n",
            "Epoch 6/50\n",
            "\u001b[1m32/32\u001b[0m \u001b[32m━━━━━━━━━━━━━━━━━━━━\u001b[0m\u001b[37m\u001b[0m \u001b[1m0s\u001b[0m 6ms/step - loss: 1.9816 - mae: 1.1530\n",
            "Epoch 7/50\n",
            "\u001b[1m32/32\u001b[0m \u001b[32m━━━━━━━━━━━━━━━━━━━━\u001b[0m\u001b[37m\u001b[0m \u001b[1m0s\u001b[0m 5ms/step - loss: 1.9683 - mae: 1.1404\n",
            "Epoch 8/50\n",
            "\u001b[1m32/32\u001b[0m \u001b[32m━━━━━━━━━━━━━━━━━━━━\u001b[0m\u001b[37m\u001b[0m \u001b[1m0s\u001b[0m 7ms/step - loss: 1.5521 - mae: 1.0042\n",
            "Epoch 9/50\n",
            "\u001b[1m32/32\u001b[0m \u001b[32m━━━━━━━━━━━━━━━━━━━━\u001b[0m\u001b[37m\u001b[0m \u001b[1m0s\u001b[0m 5ms/step - loss: 1.6073 - mae: 1.0294\n",
            "Epoch 10/50\n",
            "\u001b[1m32/32\u001b[0m \u001b[32m━━━━━━━━━━━━━━━━━━━━\u001b[0m\u001b[37m\u001b[0m \u001b[1m0s\u001b[0m 8ms/step - loss: 1.4969 - mae: 0.9809\n",
            "Epoch 11/50\n",
            "\u001b[1m32/32\u001b[0m \u001b[32m━━━━━━━━━━━━━━━━━━━━\u001b[0m\u001b[37m\u001b[0m \u001b[1m1s\u001b[0m 10ms/step - loss: 1.4230 - mae: 0.9717\n",
            "Epoch 12/50\n",
            "\u001b[1m32/32\u001b[0m \u001b[32m━━━━━━━━━━━━━━━━━━━━\u001b[0m\u001b[37m\u001b[0m \u001b[1m1s\u001b[0m 8ms/step - loss: 1.2963 - mae: 0.9063 \n",
            "Epoch 13/50\n",
            "\u001b[1m32/32\u001b[0m \u001b[32m━━━━━━━━━━━━━━━━━━━━\u001b[0m\u001b[37m\u001b[0m \u001b[1m0s\u001b[0m 3ms/step - loss: 1.2505 - mae: 0.8988\n",
            "Epoch 14/50\n",
            "\u001b[1m32/32\u001b[0m \u001b[32m━━━━━━━━━━━━━━━━━━━━\u001b[0m\u001b[37m\u001b[0m \u001b[1m0s\u001b[0m 4ms/step - loss: 1.2270 - mae: 0.8938\n",
            "Epoch 15/50\n",
            "\u001b[1m32/32\u001b[0m \u001b[32m━━━━━━━━━━━━━━━━━━━━\u001b[0m\u001b[37m\u001b[0m \u001b[1m0s\u001b[0m 4ms/step - loss: 1.1475 - mae: 0.8567\n",
            "Epoch 16/50\n",
            "\u001b[1m32/32\u001b[0m \u001b[32m━━━━━━━━━━━━━━━━━━━━\u001b[0m\u001b[37m\u001b[0m \u001b[1m0s\u001b[0m 8ms/step - loss: 1.2060 - mae: 0.8885\n",
            "Epoch 17/50\n",
            "\u001b[1m32/32\u001b[0m \u001b[32m━━━━━━━━━━━━━━━━━━━━\u001b[0m\u001b[37m\u001b[0m \u001b[1m1s\u001b[0m 7ms/step - loss: 1.0669 - mae: 0.8369\n",
            "Epoch 18/50\n",
            "\u001b[1m32/32\u001b[0m \u001b[32m━━━━━━━━━━━━━━━━━━━━\u001b[0m\u001b[37m\u001b[0m \u001b[1m1s\u001b[0m 4ms/step - loss: 1.1806 - mae: 0.8848\n",
            "Epoch 19/50\n",
            "\u001b[1m32/32\u001b[0m \u001b[32m━━━━━━━━━━━━━━━━━━━━\u001b[0m\u001b[37m\u001b[0m \u001b[1m0s\u001b[0m 6ms/step - loss: 1.0797 - mae: 0.8389\n",
            "Epoch 20/50\n",
            "\u001b[1m32/32\u001b[0m \u001b[32m━━━━━━━━━━━━━━━━━━━━\u001b[0m\u001b[37m\u001b[0m \u001b[1m0s\u001b[0m 2ms/step - loss: 1.1374 - mae: 0.8735\n",
            "Epoch 21/50\n",
            "\u001b[1m32/32\u001b[0m \u001b[32m━━━━━━━━━━━━━━━━━━━━\u001b[0m\u001b[37m\u001b[0m \u001b[1m0s\u001b[0m 2ms/step - loss: 1.0709 - mae: 0.8243\n",
            "Epoch 22/50\n",
            "\u001b[1m32/32\u001b[0m \u001b[32m━━━━━━━━━━━━━━━━━━━━\u001b[0m\u001b[37m\u001b[0m \u001b[1m0s\u001b[0m 3ms/step - loss: 1.1218 - mae: 0.8551\n",
            "Epoch 23/50\n",
            "\u001b[1m32/32\u001b[0m \u001b[32m━━━━━━━━━━━━━━━━━━━━\u001b[0m\u001b[37m\u001b[0m \u001b[1m0s\u001b[0m 8ms/step - loss: 1.0605 - mae: 0.8362\n",
            "Epoch 24/50\n",
            "\u001b[1m32/32\u001b[0m \u001b[32m━━━━━━━━━━━━━━━━━━━━\u001b[0m\u001b[37m\u001b[0m \u001b[1m0s\u001b[0m 6ms/step - loss: 1.0475 - mae: 0.8243\n",
            "Epoch 25/50\n",
            "\u001b[1m32/32\u001b[0m \u001b[32m━━━━━━━━━━━━━━━━━━━━\u001b[0m\u001b[37m\u001b[0m \u001b[1m0s\u001b[0m 4ms/step - loss: 1.1634 - mae: 0.8613\n",
            "Epoch 26/50\n",
            "\u001b[1m32/32\u001b[0m \u001b[32m━━━━━━━━━━━━━━━━━━━━\u001b[0m\u001b[37m\u001b[0m \u001b[1m0s\u001b[0m 4ms/step - loss: 1.0402 - mae: 0.8289\n",
            "Epoch 27/50\n",
            "\u001b[1m32/32\u001b[0m \u001b[32m━━━━━━━━━━━━━━━━━━━━\u001b[0m\u001b[37m\u001b[0m \u001b[1m0s\u001b[0m 3ms/step - loss: 1.0205 - mae: 0.7995\n",
            "Epoch 28/50\n",
            "\u001b[1m32/32\u001b[0m \u001b[32m━━━━━━━━━━━━━━━━━━━━\u001b[0m\u001b[37m\u001b[0m \u001b[1m0s\u001b[0m 3ms/step - loss: 1.0346 - mae: 0.8310\n",
            "Epoch 29/50\n",
            "\u001b[1m32/32\u001b[0m \u001b[32m━━━━━━━━━━━━━━━━━━━━\u001b[0m\u001b[37m\u001b[0m \u001b[1m0s\u001b[0m 2ms/step - loss: 1.0919 - mae: 0.8371\n",
            "Epoch 30/50\n",
            "\u001b[1m32/32\u001b[0m \u001b[32m━━━━━━━━━━━━━━━━━━━━\u001b[0m\u001b[37m\u001b[0m \u001b[1m0s\u001b[0m 2ms/step - loss: 1.0365 - mae: 0.8180\n",
            "Epoch 31/50\n",
            "\u001b[1m32/32\u001b[0m \u001b[32m━━━━━━━━━━━━━━━━━━━━\u001b[0m\u001b[37m\u001b[0m \u001b[1m0s\u001b[0m 2ms/step - loss: 1.0500 - mae: 0.8182\n",
            "Epoch 32/50\n",
            "\u001b[1m32/32\u001b[0m \u001b[32m━━━━━━━━━━━━━━━━━━━━\u001b[0m\u001b[37m\u001b[0m \u001b[1m0s\u001b[0m 2ms/step - loss: 0.9945 - mae: 0.7995\n",
            "Epoch 33/50\n",
            "\u001b[1m32/32\u001b[0m \u001b[32m━━━━━━━━━━━━━━━━━━━━\u001b[0m\u001b[37m\u001b[0m \u001b[1m0s\u001b[0m 3ms/step - loss: 1.0860 - mae: 0.8482\n",
            "Epoch 34/50\n",
            "\u001b[1m32/32\u001b[0m \u001b[32m━━━━━━━━━━━━━━━━━━━━\u001b[0m\u001b[37m\u001b[0m \u001b[1m0s\u001b[0m 3ms/step - loss: 1.1172 - mae: 0.8451\n",
            "Epoch 35/50\n",
            "\u001b[1m32/32\u001b[0m \u001b[32m━━━━━━━━━━━━━━━━━━━━\u001b[0m\u001b[37m\u001b[0m \u001b[1m0s\u001b[0m 4ms/step - loss: 1.0320 - mae: 0.8170\n",
            "Epoch 36/50\n",
            "\u001b[1m32/32\u001b[0m \u001b[32m━━━━━━━━━━━━━━━━━━━━\u001b[0m\u001b[37m\u001b[0m \u001b[1m0s\u001b[0m 5ms/step - loss: 1.0069 - mae: 0.7836\n",
            "Epoch 37/50\n",
            "\u001b[1m32/32\u001b[0m \u001b[32m━━━━━━━━━━━━━━━━━━━━\u001b[0m\u001b[37m\u001b[0m \u001b[1m1s\u001b[0m 11ms/step - loss: 1.0143 - mae: 0.8065\n",
            "Epoch 38/50\n",
            "\u001b[1m32/32\u001b[0m \u001b[32m━━━━━━━━━━━━━━━━━━━━\u001b[0m\u001b[37m\u001b[0m \u001b[1m0s\u001b[0m 2ms/step - loss: 1.1060 - mae: 0.8538\n",
            "Epoch 39/50\n",
            "\u001b[1m32/32\u001b[0m \u001b[32m━━━━━━━━━━━━━━━━━━━━\u001b[0m\u001b[37m\u001b[0m \u001b[1m0s\u001b[0m 1ms/step - loss: 1.0585 - mae: 0.8242 \n",
            "Epoch 40/50\n",
            "\u001b[1m32/32\u001b[0m \u001b[32m━━━━━━━━━━━━━━━━━━━━\u001b[0m\u001b[37m\u001b[0m \u001b[1m0s\u001b[0m 1ms/step - loss: 0.9842 - mae: 0.7952 \n",
            "Epoch 41/50\n",
            "\u001b[1m32/32\u001b[0m \u001b[32m━━━━━━━━━━━━━━━━━━━━\u001b[0m\u001b[37m\u001b[0m \u001b[1m0s\u001b[0m 1ms/step - loss: 1.0343 - mae: 0.8157 \n",
            "Epoch 42/50\n",
            "\u001b[1m32/32\u001b[0m \u001b[32m━━━━━━━━━━━━━━━━━━━━\u001b[0m\u001b[37m\u001b[0m \u001b[1m0s\u001b[0m 2ms/step - loss: 1.0105 - mae: 0.8078\n",
            "Epoch 43/50\n",
            "\u001b[1m32/32\u001b[0m \u001b[32m━━━━━━━━━━━━━━━━━━━━\u001b[0m\u001b[37m\u001b[0m \u001b[1m0s\u001b[0m 1ms/step - loss: 1.0364 - mae: 0.8205 \n",
            "Epoch 44/50\n",
            "\u001b[1m32/32\u001b[0m \u001b[32m━━━━━━━━━━━━━━━━━━━━\u001b[0m\u001b[37m\u001b[0m \u001b[1m0s\u001b[0m 1ms/step - loss: 1.1224 - mae: 0.8561 \n",
            "Epoch 45/50\n",
            "\u001b[1m32/32\u001b[0m \u001b[32m━━━━━━━━━━━━━━━━━━━━\u001b[0m\u001b[37m\u001b[0m \u001b[1m0s\u001b[0m 1ms/step - loss: 1.0546 - mae: 0.8258 \n",
            "Epoch 46/50\n",
            "\u001b[1m32/32\u001b[0m \u001b[32m━━━━━━━━━━━━━━━━━━━━\u001b[0m\u001b[37m\u001b[0m \u001b[1m0s\u001b[0m 1ms/step - loss: 1.0873 - mae: 0.8297 \n",
            "Epoch 47/50\n",
            "\u001b[1m32/32\u001b[0m \u001b[32m━━━━━━━━━━━━━━━━━━━━\u001b[0m\u001b[37m\u001b[0m \u001b[1m0s\u001b[0m 1ms/step - loss: 1.0236 - mae: 0.8249 \n",
            "Epoch 48/50\n",
            "\u001b[1m32/32\u001b[0m \u001b[32m━━━━━━━━━━━━━━━━━━━━\u001b[0m\u001b[37m\u001b[0m \u001b[1m0s\u001b[0m 1ms/step - loss: 1.0803 - mae: 0.8434 \n",
            "Epoch 49/50\n",
            "\u001b[1m32/32\u001b[0m \u001b[32m━━━━━━━━━━━━━━━━━━━━\u001b[0m\u001b[37m\u001b[0m \u001b[1m0s\u001b[0m 1ms/step - loss: 1.0056 - mae: 0.8004 \n",
            "Epoch 50/50\n",
            "\u001b[1m32/32\u001b[0m \u001b[32m━━━━━━━━━━━━━━━━━━━━\u001b[0m\u001b[37m\u001b[0m \u001b[1m0s\u001b[0m 2ms/step - loss: 1.0636 - mae: 0.8152 \n",
            "\u001b[1m1/1\u001b[0m \u001b[32m━━━━━━━━━━━━━━━━━━━━\u001b[0m\u001b[37m\u001b[0m \u001b[1m0s\u001b[0m 50ms/step\n",
            "Predicted MPG: 11.56950569152832\n"
          ]
        }
      ]
    },
    {
      "cell_type": "code",
      "source": [
        "from google.colab import drive\n",
        "drive.mount('/content/drive')\n",
        "\n",
        "# direcotires\n",
        "train_dir = '/content/drive/MyDrive/Brain_tumor/Training'\n",
        "test_dir = '/content/drive/MyDrive/Brain_tumor/Testing'"
      ],
      "metadata": {
        "colab": {
          "base_uri": "https://localhost:8080/"
        },
        "id": "IKkR9G-UwPI8",
        "outputId": "e156b4c3-be06-47ba-b2e4-911354cfe799"
      },
      "execution_count": null,
      "outputs": [
        {
          "output_type": "stream",
          "name": "stdout",
          "text": [
            "Drive already mounted at /content/drive; to attempt to forcibly remount, call drive.mount(\"/content/drive\", force_remount=True).\n"
          ]
        }
      ]
    },
    {
      "cell_type": "code",
      "source": [
        "import os\n",
        "from sklearn.utils import shuffle\n",
        "\n",
        "# Initialize lists for train paths and labels\n",
        "train_paths = []  # Stores image paths\n",
        "train_labels = []  # Stores corresponding labels (classes)\n",
        "\n",
        "# Iterate through each label directory in train_dir\n",
        "for label in os.listdir(train_dir):\n",
        "    label_dir = os.path.join(train_dir, label)\n",
        "    if os.path.isdir(label_dir):  # Ensure it's a directory\n",
        "        for image in os.listdir(label_dir):\n",
        "            train_paths.append(os.path.join(label_dir, image))\n",
        "            train_labels.append(label)\n",
        "\n",
        "# Shuffle the collected paths and labels\n",
        "train_paths, train_labels = shuffle(train_paths, train_labels, random_state=42)\n",
        "print(train_paths)\n",
        "print(train_labels  )\n",
        "\n",
        "for label in os.listdir(test_dir):\n",
        "    for image in os.listdir(os.path.join(test_dir, label)):\n",
        "        test_paths.append(os.path.join(test_dir, label, image))\n",
        "        test_labels.append(label)\n",
        "\n",
        "test_paths, test_labels = shuffle(test_paths, test_labels)\n",
        "\n",
        "# we can do data visualization,\n",
        "# we have to s\n",
        "\n"
      ],
      "metadata": {
        "colab": {
          "base_uri": "https://localhost:8080/",
          "height": 307
        },
        "id": "f2Ndd3bgxCOC",
        "outputId": "3927aead-3ac5-4eb8-a458-456ba03a2915"
      },
      "execution_count": null,
      "outputs": [
        {
          "output_type": "stream",
          "name": "stdout",
          "text": [
            "['/content/drive/MyDrive/Brain_tumor/Training/notumor/Tr-no_0529.jpg', '/content/drive/MyDrive/Brain_tumor/Training/pituitary/Tr-pi_0108.jpg', '/content/drive/MyDrive/Brain_tumor/Training/notumor/Tr-no_1571.jpg', '/content/drive/MyDrive/Brain_tumor/Training/notumor/Tr-no_1108.jpg', '/content/drive/MyDrive/Brain_tumor/Training/pituitary/Tr-pi_0310.jpg', '/content/drive/MyDrive/Brain_tumor/Training/glioma/Tr-gl_0600.jpg', '/content/drive/MyDrive/Brain_tumor/Training/meningioma/Tr-me_0982.jpg', '/content/drive/MyDrive/Brain_tumor/Training/pituitary/Tr-pi_1379.jpg', '/content/drive/MyDrive/Brain_tumor/Training/notumor/Tr-no_0158.jpg', '/content/drive/MyDrive/Brain_tumor/Training/notumor/Tr-no_0557.jpg', '/content/drive/MyDrive/Brain_tumor/Training/pituitary/Tr-pi_0105.jpg', '/content/drive/MyDrive/Brain_tumor/Training/glioma/Tr-gl_1195.jpg', '/content/drive/MyDrive/Brain_tumor/Training/meningioma/Tr-me_0321.jpg', '/content/drive/MyDrive/Brain_tumor/Training/notumor/Tr-no_0288.jpg', '/content/drive/MyDrive/Brain_tumor/Training/meningioma/Tr-me_0838.jpg', '/content/drive/MyDrive/Brain_tumor/Training/pituitary/Tr-pi_1408.jpg', '/content/drive/MyDrive/Brain_tumor/Training/pituitary/Tr-pi_0090.jpg', '/content/drive/MyDrive/Brain_tumor/Training/pituitary/Tr-pi_0337.jpg', '/content/drive/MyDrive/Brain_tumor/Training/glioma/Tr-gl_0027.jpg', '/content/drive/MyDrive/Brain_tumor/Training/notumor/Tr-no_1031.jpg', '/content/drive/MyDrive/Brain_tumor/Training/pituitary/Tr-pi_1247.jpg', '/content/drive/MyDrive/Brain_tumor/Training/meningioma/Tr-me_1001.jpg', '/content/drive/MyDrive/Brain_tumor/Training/notumor/Tr-no_0706.jpg', '/content/drive/MyDrive/Brain_tumor/Training/pituitary/Tr-pi_0633.jpg', '/content/drive/MyDrive/Brain_tumor/Training/notumor/Tr-no_0278.jpg', '/content/drive/MyDrive/Brain_tumor/Training/meningioma/Tr-me_0965.jpg', '/content/drive/MyDrive/Brain_tumor/Training/meningioma/Tr-me_1278.jpg', '/content/drive/MyDrive/Brain_tumor/Training/glioma/Tr-gl_0790.jpg', '/content/drive/MyDrive/Brain_tumor/Training/meningioma/Tr-me_0226.jpg', '/content/drive/MyDrive/Brain_tumor/Training/glioma/Tr-gl_0295.jpg', '/content/drive/MyDrive/Brain_tumor/Training/notumor/Tr-no_0164.jpg', '/content/drive/MyDrive/Brain_tumor/Training/pituitary/Tr-pi_0128.jpg', '/content/drive/MyDrive/Brain_tumor/Training/pituitary/Tr-pi_0552.jpg', '/content/drive/MyDrive/Brain_tumor/Training/pituitary/Tr-pi_0690.jpg', '/content/drive/MyDrive/Brain_tumor/Training/meningioma/Tr-me_0532.jpg', '/content/drive/MyDrive/Brain_tumor/Training/meningioma/Tr-me_0934.jpg', '/content/drive/MyDrive/Brain_tumor/Training/notumor/Tr-no_0482.jpg', '/content/drive/MyDrive/Brain_tumor/Training/glioma/Tr-gl_1193.jpg', '/content/drive/MyDrive/Brain_tumor/Training/meningioma/Tr-me_1290.jpg', '/content/drive/MyDrive/Brain_tumor/Training/glioma/Tr-gl_0884.jpg', '/content/drive/MyDrive/Brain_tumor/Training/glioma/Tr-gl_0640.jpg', '/content/drive/MyDrive/Brain_tumor/Training/glioma/Tr-gl_0960.jpg', '/content/drive/MyDrive/Brain_tumor/Training/pituitary/Tr-pi_1209.jpg', '/content/drive/MyDrive/Brain_tumor/Training/pituitary/Tr-pi_0608.jpg', '/content/drive/MyDrive/Brain_tumor/Training/notumor/Tr-no_0479.jpg', '/content/drive/MyDrive/Brain_tumor/Training/notumor/Tr-no_0292.jpg', '/content/drive/MyDrive/Brain_tumor/Training/pituitary/Tr-pi_0301.jpg', '/content/drive/MyDrive/Brain_tumor/Training/meningioma/Tr-me_1068.jpg', '/content/drive/MyDrive/Brain_tumor/Training/glioma/Tr-gl_1306.jpg', '/content/drive/MyDrive/Brain_tumor/Training/pituitary/Tr-pi_1146.jpg', '/content/drive/MyDrive/Brain_tumor/Training/glioma/Tr-gl_0183.jpg', '/content/drive/MyDrive/Brain_tumor/Training/meningioma/Tr-me_0955.jpg', '/content/drive/MyDrive/Brain_tumor/Training/notumor/Tr-no_0384.jpg', '/content/drive/MyDrive/Brain_tumor/Training/meningioma/Tr-me_0636.jpg', '/content/drive/MyDrive/Brain_tumor/Training/glioma/Tr-gl_0997.jpg', '/content/drive/MyDrive/Brain_tumor/Training/glioma/Tr-gl_0748.jpg', '/content/drive/MyDrive/Brain_tumor/Training/meningioma/Tr-me_0011.jpg', '/content/drive/MyDrive/Brain_tumor/Training/notumor/Tr-no_0722.jpg', '/content/drive/MyDrive/Brain_tumor/Training/pituitary/Tr-pi_0651.jpg', '/content/drive/MyDrive/Brain_tumor/Training/meningioma/Tr-me_0410.jpg', '/content/drive/MyDrive/Brain_tumor/Training/meningioma/Tr-me_0377.jpg', '/content/drive/MyDrive/Brain_tumor/Training/notumor/Tr-no_0211.jpg', '/content/drive/MyDrive/Brain_tumor/Training/pituitary/Tr-pi_0926.jpg', '/content/drive/MyDrive/Brain_tumor/Training/notumor/Tr-no_1240.jpg', '/content/drive/MyDrive/Brain_tumor/Training/glioma/Tr-gl_0570.jpg', '/content/drive/MyDrive/Brain_tumor/Training/pituitary/Tr-pi_0659.jpg', '/content/drive/MyDrive/Brain_tumor/Training/notumor/Tr-no_1044.jpg', '/content/drive/MyDrive/Brain_tumor/Training/meningioma/Tr-me_0201.jpg', '/content/drive/MyDrive/Brain_tumor/Training/pituitary/Tr-pi_0387.jpg', '/content/drive/MyDrive/Brain_tumor/Training/meningioma/Tr-me_0812.jpg', '/content/drive/MyDrive/Brain_tumor/Training/notumor/Tr-no_0257.jpg', '/content/drive/MyDrive/Brain_tumor/Training/meningioma/Tr-me_0865.jpg', '/content/drive/MyDrive/Brain_tumor/Training/pituitary/Tr-pi_1029.jpg', '/content/drive/MyDrive/Brain_tumor/Training/pituitary/Tr-pi_1157.jpg', '/content/drive/MyDrive/Brain_tumor/Training/meningioma/Tr-me_0615.jpg', '/content/drive/MyDrive/Brain_tumor/Training/meningioma/Tr-me_0621.jpg', '/content/drive/MyDrive/Brain_tumor/Training/notumor/Tr-no_0820.jpg', '/content/drive/MyDrive/Brain_tumor/Training/glioma/Tr-gl_0184.jpg', '/content/drive/MyDrive/Brain_tumor/Training/glioma/Tr-gl_0360.jpg', '/content/drive/MyDrive/Brain_tumor/Training/notumor/Tr-no_1426.jpg', '/content/drive/MyDrive/Brain_tumor/Training/glioma/Tr-gl_1180.jpg', '/content/drive/MyDrive/Brain_tumor/Training/meningioma/Tr-me_0123.jpg', '/content/drive/MyDrive/Brain_tumor/Training/glioma/Tr-gl_0288.jpg', '/content/drive/MyDrive/Brain_tumor/Training/pituitary/Tr-pi_0782.jpg', '/content/drive/MyDrive/Brain_tumor/Training/meningioma/Tr-me_0502.jpg', '/content/drive/MyDrive/Brain_tumor/Training/glioma/Tr-gl_0253.jpg', '/content/drive/MyDrive/Brain_tumor/Training/notumor/Tr-no_0199.jpg', '/content/drive/MyDrive/Brain_tumor/Training/pituitary/Tr-piTr_0007.jpg', '/content/drive/MyDrive/Brain_tumor/Training/notumor/Tr-no_0755.jpg', '/content/drive/MyDrive/Brain_tumor/Training/notumor/Tr-no_1358.jpg', '/content/drive/MyDrive/Brain_tumor/Training/meningioma/Tr-me_0298.jpg', '/content/drive/MyDrive/Brain_tumor/Training/pituitary/Tr-pi_1426.jpg', '/content/drive/MyDrive/Brain_tumor/Training/pituitary/Tr-pi_1288.jpg', '/content/drive/MyDrive/Brain_tumor/Training/glioma/Tr-gl_1097.jpg', '/content/drive/MyDrive/Brain_tumor/Training/meningioma/Tr-me_0508.jpg', '/content/drive/MyDrive/Brain_tumor/Training/pituitary/Tr-pi_0969.jpg', '/content/drive/MyDrive/Brain_tumor/Training/notumor/Tr-no_1068.jpg', '/content/drive/MyDrive/Brain_tumor/Training/notumor/Tr-no_0713.jpg', '/content/drive/MyDrive/Brain_tumor/Training/glioma/Tr-gl_1139.jpg', '/content/drive/MyDrive/Brain_tumor/Training/meningioma/Tr-me_0284.jpg', '/content/drive/MyDrive/Brain_tumor/Training/glioma/Tr-gl_0664.jpg', '/content/drive/MyDrive/Brain_tumor/Training/notumor/Tr-no_0402.jpg', '/content/drive/MyDrive/Brain_tumor/Training/glioma/Tr-gl_0132.jpg', '/content/drive/MyDrive/Brain_tumor/Training/notumor/Tr-no_1433.jpg', '/content/drive/MyDrive/Brain_tumor/Training/pituitary/Tr-pi_0539.jpg', '/content/drive/MyDrive/Brain_tumor/Training/glioma/Tr-gl_1090.jpg', '/content/drive/MyDrive/Brain_tumor/Training/meningioma/Tr-me_0083.jpg', '/content/drive/MyDrive/Brain_tumor/Training/notumor/Tr-no_0161.jpg', '/content/drive/MyDrive/Brain_tumor/Training/pituitary/Tr-pi_0462.jpg', '/content/drive/MyDrive/Brain_tumor/Training/notumor/Tr-no_1522.jpg', '/content/drive/MyDrive/Brain_tumor/Training/glioma/Tr-gl_0614.jpg', '/content/drive/MyDrive/Brain_tumor/Training/pituitary/Tr-pi_1203.jpg', '/content/drive/MyDrive/Brain_tumor/Training/meningioma/Tr-me_0179.jpg', '/content/drive/MyDrive/Brain_tumor/Training/notumor/Tr-no_1182.jpg', '/content/drive/MyDrive/Brain_tumor/Training/meningioma/Tr-me_0844.jpg', '/content/drive/MyDrive/Brain_tumor/Training/pituitary/Tr-pi_1404.jpg', '/content/drive/MyDrive/Brain_tumor/Training/glioma/Tr-gl_0238.jpg', '/content/drive/MyDrive/Brain_tumor/Training/pituitary/Tr-pi_0727.jpg', '/content/drive/MyDrive/Brain_tumor/Training/pituitary/Tr-pi_1166.jpg', '/content/drive/MyDrive/Brain_tumor/Training/glioma/Tr-gl_0714.jpg', '/content/drive/MyDrive/Brain_tumor/Training/notumor/Tr-no_1589.jpg', '/content/drive/MyDrive/Brain_tumor/Training/glioma/Tr-gl_1085.jpg', '/content/drive/MyDrive/Brain_tumor/Training/notumor/Tr-no_0925.jpg', '/content/drive/MyDrive/Brain_tumor/Training/meningioma/Tr-me_0638.jpg', '/content/drive/MyDrive/Brain_tumor/Training/meningioma/Tr-me_0471.jpg', '/content/drive/MyDrive/Brain_tumor/Training/notumor/Tr-no_1472.jpg', '/content/drive/MyDrive/Brain_tumor/Training/pituitary/Tr-pi_0565.jpg', '/content/drive/MyDrive/Brain_tumor/Training/meningioma/Tr-me_0719.jpg', '/content/drive/MyDrive/Brain_tumor/Training/meningioma/Tr-me_1110.jpg', '/content/drive/MyDrive/Brain_tumor/Training/notumor/Tr-no_1169.jpg', '/content/drive/MyDrive/Brain_tumor/Training/meningioma/Tr-me_0160.jpg', '/content/drive/MyDrive/Brain_tumor/Training/notumor/Tr-no_0203.jpg', '/content/drive/MyDrive/Brain_tumor/Training/glioma/Tr-gl_1066.jpg', '/content/drive/MyDrive/Brain_tumor/Training/glioma/Tr-gl_1031.jpg', '/content/drive/MyDrive/Brain_tumor/Training/meningioma/Tr-me_1244.jpg', '/content/drive/MyDrive/Brain_tumor/Training/notumor/Tr-no_0999.jpg', '/content/drive/MyDrive/Brain_tumor/Training/pituitary/Tr-pi_0944.jpg', '/content/drive/MyDrive/Brain_tumor/Training/pituitary/Tr-pi_1357.jpg', '/content/drive/MyDrive/Brain_tumor/Training/glioma/Tr-gl_0678.jpg', '/content/drive/MyDrive/Brain_tumor/Training/notumor/Tr-no_1001.jpg', '/content/drive/MyDrive/Brain_tumor/Training/notumor/Tr-no_0531.jpg', '/content/drive/MyDrive/Brain_tumor/Training/glioma/Tr-gl_1093.jpg', '/content/drive/MyDrive/Brain_tumor/Training/glioma/Tr-gl_0127.jpg', '/content/drive/MyDrive/Brain_tumor/Training/glioma/Tr-gl_0693.jpg', '/content/drive/MyDrive/Brain_tumor/Training/pituitary/Tr-pi_0293.jpg', '/content/drive/MyDrive/Brain_tumor/Training/glioma/Tr-gl_0126.jpg', '/content/drive/MyDrive/Brain_tumor/Training/pituitary/Tr-pi_0663.jpg', '/content/drive/MyDrive/Brain_tumor/Training/glioma/Tr-gl_0018.jpg', '/content/drive/MyDrive/Brain_tumor/Training/glioma/Tr-gl_0263.jpg', '/content/drive/MyDrive/Brain_tumor/Training/glioma/Tr-gl_0284.jpg', '/content/drive/MyDrive/Brain_tumor/Training/glioma/Tr-gl_0072.jpg', '/content/drive/MyDrive/Brain_tumor/Training/glioma/Tr-gl_0160.jpg', '/content/drive/MyDrive/Brain_tumor/Training/glioma/Tr-gl_0672.jpg', '/content/drive/MyDrive/Brain_tumor/Training/notumor/Tr-no_0998.jpg', '/content/drive/MyDrive/Brain_tumor/Training/glioma/Tr-gl_0929.jpg', '/content/drive/MyDrive/Brain_tumor/Training/pituitary/Tr-pi_0527.jpg', '/content/drive/MyDrive/Brain_tumor/Training/meningioma/Tr-me_0052.jpg', '/content/drive/MyDrive/Brain_tumor/Training/meningioma/Tr-me_0670.jpg', '/content/drive/MyDrive/Brain_tumor/Training/notumor/Tr-no_0256.jpg', '/content/drive/MyDrive/Brain_tumor/Training/glioma/Tr-gl_0599.jpg', '/content/drive/MyDrive/Brain_tumor/Training/glioma/Tr-gl_0617.jpg', '/content/drive/MyDrive/Brain_tumor/Training/notumor/Tr-no_1469.jpg', '/content/drive/MyDrive/Brain_tumor/Training/notumor/Tr-no_0180 (1).jpg', '/content/drive/MyDrive/Brain_tumor/Training/meningioma/Tr-me_0612.jpg', '/content/drive/MyDrive/Brain_tumor/Training/glioma/Tr-gl_0391.jpg', '/content/drive/MyDrive/Brain_tumor/Training/glioma/Tr-gl_0408.jpg', '/content/drive/MyDrive/Brain_tumor/Training/meningioma/Tr-me_0464.jpg', '/content/drive/MyDrive/Brain_tumor/Training/glioma/Tr-gl_1002.jpg', '/content/drive/MyDrive/Brain_tumor/Training/notumor/Tr-no_0062.jpg', '/content/drive/MyDrive/Brain_tumor/Training/meningioma/Tr-me_1112.jpg', '/content/drive/MyDrive/Brain_tumor/Training/notumor/Tr-no_0206.jpg', '/content/drive/MyDrive/Brain_tumor/Training/pituitary/Tr-pi_1361.jpg', '/content/drive/MyDrive/Brain_tumor/Training/glioma/Tr-gl_1008.jpg', '/content/drive/MyDrive/Brain_tumor/Training/pituitary/Tr-pi_1413.jpg', '/content/drive/MyDrive/Brain_tumor/Training/notumor/Tr-no_0102.jpg', '/content/drive/MyDrive/Brain_tumor/Training/glioma/Tr-gl_0993.jpg', '/content/drive/MyDrive/Brain_tumor/Training/meningioma/Tr-me_0130.jpg', '/content/drive/MyDrive/Brain_tumor/Training/meningioma/Tr-me_0027.jpg', '/content/drive/MyDrive/Brain_tumor/Training/notumor/Tr-no_0730.jpg', '/content/drive/MyDrive/Brain_tumor/Training/glioma/Tr-gl_0243.jpg', '/content/drive/MyDrive/Brain_tumor/Training/glioma/Tr-gl_1311.jpg', '/content/drive/MyDrive/Brain_tumor/Training/pituitary/Tr-pi_0448.jpg', '/content/drive/MyDrive/Brain_tumor/Training/pituitary/Tr-pi_1127.jpg', '/content/drive/MyDrive/Brain_tumor/Training/pituitary/Tr-pi_0937.jpg', '/content/drive/MyDrive/Brain_tumor/Training/glioma/Tr-gl_0697.jpg', '/content/drive/MyDrive/Brain_tumor/Training/glioma/Tr-gl_1196.jpg', '/content/drive/MyDrive/Brain_tumor/Training/meningioma/Tr-me_0086.jpg', '/content/drive/MyDrive/Brain_tumor/Training/notumor/Tr-no_0973.jpg', '/content/drive/MyDrive/Brain_tumor/Training/glioma/Tr-gl_0835.jpg', '/content/drive/MyDrive/Brain_tumor/Training/pituitary/Tr-pi_0018.jpg', '/content/drive/MyDrive/Brain_tumor/Training/pituitary/Tr-pi_1221.jpg', '/content/drive/MyDrive/Brain_tumor/Training/pituitary/Tr-pi_0881.jpg', '/content/drive/MyDrive/Brain_tumor/Training/glioma/Tr-gl_0012.jpg', '/content/drive/MyDrive/Brain_tumor/Training/notumor/Tr-no_0146.jpg', '/content/drive/MyDrive/Brain_tumor/Training/pituitary/Tr-pi_0030.jpg', '/content/drive/MyDrive/Brain_tumor/Training/glioma/Tr-gl_1295.jpg', '/content/drive/MyDrive/Brain_tumor/Training/pituitary/Tr-pi_1438.jpg', '/content/drive/MyDrive/Brain_tumor/Training/glioma/Tr-gl_0369.jpg', '/content/drive/MyDrive/Brain_tumor/Training/pituitary/Tr-pi_1114.jpg', '/content/drive/MyDrive/Brain_tumor/Training/glioma/Tr-gl_0823.jpg', '/content/drive/MyDrive/Brain_tumor/Training/pituitary/Tr-pi_1319.jpg', '/content/drive/MyDrive/Brain_tumor/Training/pituitary/Tr-pi_0597.jpg', '/content/drive/MyDrive/Brain_tumor/Training/pituitary/Tr-pi_0408.jpg', '/content/drive/MyDrive/Brain_tumor/Training/glioma/Tr-gl_0372.jpg', '/content/drive/MyDrive/Brain_tumor/Training/pituitary/Tr-pi_0579.jpg', '/content/drive/MyDrive/Brain_tumor/Training/pituitary/Tr-pi_0726.jpg', '/content/drive/MyDrive/Brain_tumor/Training/pituitary/Tr-pi_1012.jpg', '/content/drive/MyDrive/Brain_tumor/Training/pituitary/Tr-pi_0639.jpg', '/content/drive/MyDrive/Brain_tumor/Training/meningioma/Tr-me_0168.jpg', '/content/drive/MyDrive/Brain_tumor/Training/glioma/Tr-gl_1062.jpg', '/content/drive/MyDrive/Brain_tumor/Training/pituitary/Tr-pi_0804.jpg', '/content/drive/MyDrive/Brain_tumor/Training/glioma/Tr-gl_0942.jpg', '/content/drive/MyDrive/Brain_tumor/Training/glioma/Tr-gl_0669.jpg', '/content/drive/MyDrive/Brain_tumor/Training/glioma/Tr-gl_0219.jpg', '/content/drive/MyDrive/Brain_tumor/Training/notumor/Tr-no_1427.jpg', '/content/drive/MyDrive/Brain_tumor/Training/meningioma/Tr-me_1154.jpg', '/content/drive/MyDrive/Brain_tumor/Training/glioma/Tr-gl_0670.jpg', '/content/drive/MyDrive/Brain_tumor/Training/notumor/Tr-no_0802 (1).jpg', '/content/drive/MyDrive/Brain_tumor/Training/pituitary/Tr-pi_0650.jpg', '/content/drive/MyDrive/Brain_tumor/Training/notumor/Tr-no_1138.jpg', '/content/drive/MyDrive/Brain_tumor/Training/glioma/Tr-gl_0377.jpg', '/content/drive/MyDrive/Brain_tumor/Training/pituitary/Tr-pi_1108.jpg', '/content/drive/MyDrive/Brain_tumor/Training/meningioma/Tr-me_0346.jpg', '/content/drive/MyDrive/Brain_tumor/Training/pituitary/Tr-pi_1056.jpg', '/content/drive/MyDrive/Brain_tumor/Training/notumor/Tr-no_0169.jpg', '/content/drive/MyDrive/Brain_tumor/Training/notumor/Tr-no_0596.jpg', '/content/drive/MyDrive/Brain_tumor/Training/pituitary/Tr-pi_0728.jpg', '/content/drive/MyDrive/Brain_tumor/Training/glioma/Tr-gl_0411.jpg', '/content/drive/MyDrive/Brain_tumor/Training/pituitary/Tr-pi_1097.jpg', '/content/drive/MyDrive/Brain_tumor/Training/notumor/Tr-no_1452.jpg', '/content/drive/MyDrive/Brain_tumor/Training/glioma/Tr-gl_0999.jpg', '/content/drive/MyDrive/Brain_tumor/Training/meningioma/Tr-me_0764.jpg', '/content/drive/MyDrive/Brain_tumor/Training/pituitary/Tr-pi_0031.jpg', '/content/drive/MyDrive/Brain_tumor/Training/glioma/Tr-gl_0106.jpg', '/content/drive/MyDrive/Brain_tumor/Training/notumor/Tr-no_0409.jpg', '/content/drive/MyDrive/Brain_tumor/Training/notumor/Tr-no_0727.jpg', '/content/drive/MyDrive/Brain_tumor/Training/pituitary/Tr-pi_0660.jpg', '/content/drive/MyDrive/Brain_tumor/Training/meningioma/Tr-me_0485.jpg', '/content/drive/MyDrive/Brain_tumor/Training/notumor/Tr-no_0424.jpg', '/content/drive/MyDrive/Brain_tumor/Training/pituitary/Tr-pi_0267.jpg', '/content/drive/MyDrive/Brain_tumor/Training/pituitary/Tr-pi_0331.jpg', '/content/drive/MyDrive/Brain_tumor/Training/notumor/Tr-no_0564.jpg', '/content/drive/MyDrive/Brain_tumor/Training/pituitary/Tr-pi_1450.jpg', '/content/drive/MyDrive/Brain_tumor/Training/pituitary/Tr-pi_0827.jpg', '/content/drive/MyDrive/Brain_tumor/Training/pituitary/Tr-pi_0033.jpg', '/content/drive/MyDrive/Brain_tumor/Training/meningioma/Tr-me_1174.jpg', '/content/drive/MyDrive/Brain_tumor/Training/pituitary/Tr-pi_1224.jpg', '/content/drive/MyDrive/Brain_tumor/Training/notumor/Tr-no_1496.jpg', '/content/drive/MyDrive/Brain_tumor/Training/meningioma/Tr-me_0789.jpg', '/content/drive/MyDrive/Brain_tumor/Training/glioma/Tr-gl_0022.jpg', '/content/drive/MyDrive/Brain_tumor/Training/glioma/Tr-gl_0683.jpg', '/content/drive/MyDrive/Brain_tumor/Training/notumor/Tr-no_1445.jpg', '/content/drive/MyDrive/Brain_tumor/Training/meningioma/Tr-me_0768.jpg', '/content/drive/MyDrive/Brain_tumor/Training/meningioma/Tr-me_0416.jpg', '/content/drive/MyDrive/Brain_tumor/Training/notumor/Tr-no_1440.jpg', '/content/drive/MyDrive/Brain_tumor/Training/meningioma/Tr-me_0490.jpg', '/content/drive/MyDrive/Brain_tumor/Training/notumor/Tr-no_0805.jpg', '/content/drive/MyDrive/Brain_tumor/Training/pituitary/Tr-pi_0513.jpg', '/content/drive/MyDrive/Brain_tumor/Training/glioma/Tr-gl_0344.jpg', '/content/drive/MyDrive/Brain_tumor/Training/meningioma/Tr-me_0613.jpg', '/content/drive/MyDrive/Brain_tumor/Training/glioma/Tr-gl_0195.jpg', '/content/drive/MyDrive/Brain_tumor/Training/pituitary/Tr-pi_1205.jpg', '/content/drive/MyDrive/Brain_tumor/Training/glioma/Tr-gl_0095.jpg', '/content/drive/MyDrive/Brain_tumor/Training/glioma/Tr-gl_0438.jpg', '/content/drive/MyDrive/Brain_tumor/Training/glioma/Tr-gl_0076.jpg', '/content/drive/MyDrive/Brain_tumor/Training/meningioma/Tr-me_0142.jpg', '/content/drive/MyDrive/Brain_tumor/Training/glioma/Tr-gl_1080.jpg', '/content/drive/MyDrive/Brain_tumor/Training/glioma/Tr-gl_1232.jpg', '/content/drive/MyDrive/Brain_tumor/Training/glioma/Tr-gl_0985.jpg', '/content/drive/MyDrive/Brain_tumor/Training/pituitary/Tr-pi_0721.jpg', '/content/drive/MyDrive/Brain_tumor/Training/meningioma/Tr-me_1131.jpg', '/content/drive/MyDrive/Brain_tumor/Training/notumor/Tr-no_0652.jpg', '/content/drive/MyDrive/Brain_tumor/Training/notumor/Tr-no_0265.jpg', '/content/drive/MyDrive/Brain_tumor/Training/pituitary/Tr-pi_0457.jpg', '/content/drive/MyDrive/Brain_tumor/Training/notumor/Tr-no_1399.jpg', '/content/drive/MyDrive/Brain_tumor/Training/pituitary/Tr-pi_1398.jpg', '/content/drive/MyDrive/Brain_tumor/Training/glioma/Tr-gl_0711.jpg', '/content/drive/MyDrive/Brain_tumor/Training/pituitary/Tr-pi_0367.jpg', '/content/drive/MyDrive/Brain_tumor/Training/notumor/Tr-no_1018.jpg', '/content/drive/MyDrive/Brain_tumor/Training/meningioma/Tr-me_0757.jpg', '/content/drive/MyDrive/Brain_tumor/Training/pituitary/Tr-pi_1272.jpg', '/content/drive/MyDrive/Brain_tumor/Training/meningioma/Tr-me_1281.jpg', '/content/drive/MyDrive/Brain_tumor/Training/glioma/Tr-gl_1073.jpg', '/content/drive/MyDrive/Brain_tumor/Training/meningioma/Tr-me_1214.jpg', '/content/drive/MyDrive/Brain_tumor/Training/notumor/Tr-no_0866.jpg', '/content/drive/MyDrive/Brain_tumor/Training/glioma/Tr-gl_1277.jpg', '/content/drive/MyDrive/Brain_tumor/Training/notumor/Tr-no_0268.jpg', '/content/drive/MyDrive/Brain_tumor/Training/notumor/Tr-no_1352.jpg', '/content/drive/MyDrive/Brain_tumor/Training/glioma/Tr-gl_0286.jpg', '/content/drive/MyDrive/Brain_tumor/Training/notumor/Tr-no_0552 (1).jpg', '/content/drive/MyDrive/Brain_tumor/Training/meningioma/Tr-me_1006.jpg', '/content/drive/MyDrive/Brain_tumor/Training/glioma/Tr-gl_0537.jpg', '/content/drive/MyDrive/Brain_tumor/Training/meningioma/Tr-me_1021.jpg', '/content/drive/MyDrive/Brain_tumor/Training/notumor/Tr-no_0135.jpg', '/content/drive/MyDrive/Brain_tumor/Training/notumor/Tr-no_1040.jpg', '/content/drive/MyDrive/Brain_tumor/Training/pituitary/Tr-pi_1202.jpg', '/content/drive/MyDrive/Brain_tumor/Training/pituitary/Tr-pi_1269.jpg', '/content/drive/MyDrive/Brain_tumor/Training/meningioma/Tr-me_1333.jpg', '/content/drive/MyDrive/Brain_tumor/Training/pituitary/Tr-pi_1008.jpg', '/content/drive/MyDrive/Brain_tumor/Training/glioma/Tr-gl_0971.jpg', '/content/drive/MyDrive/Brain_tumor/Training/meningioma/Tr-me_0261.jpg', '/content/drive/MyDrive/Brain_tumor/Training/notumor/Tr-no_0159.jpg', '/content/drive/MyDrive/Brain_tumor/Training/notumor/Tr-no_1151.jpg', '/content/drive/MyDrive/Brain_tumor/Training/notumor/Tr-no_1575.jpg', '/content/drive/MyDrive/Brain_tumor/Training/meningioma/Tr-me_1159.jpg', '/content/drive/MyDrive/Brain_tumor/Training/glioma/Tr-gl_0228.jpg', '/content/drive/MyDrive/Brain_tumor/Training/notumor/Tr-no_0550.jpg', '/content/drive/MyDrive/Brain_tumor/Training/notumor/Tr-no_0911.jpg', '/content/drive/MyDrive/Brain_tumor/Training/glioma/Tr-gl_0149.jpg', '/content/drive/MyDrive/Brain_tumor/Training/notumor/Tr-no_0028.jpg', '/content/drive/MyDrive/Brain_tumor/Training/glioma/Tr-gl_0385.jpg', '/content/drive/MyDrive/Brain_tumor/Training/pituitary/Tr-pi_0231.jpg', '/content/drive/MyDrive/Brain_tumor/Training/meningioma/Tr-me_1169.jpg', '/content/drive/MyDrive/Brain_tumor/Training/pituitary/Tr-pi_0370.jpg', '/content/drive/MyDrive/Brain_tumor/Training/notumor/Tr-no_0301.jpg', '/content/drive/MyDrive/Brain_tumor/Training/meningioma/Tr-me_0818.jpg', '/content/drive/MyDrive/Brain_tumor/Training/pituitary/Tr-pi_0327.jpg', '/content/drive/MyDrive/Brain_tumor/Training/pituitary/Tr-pi_0349.jpg', '/content/drive/MyDrive/Brain_tumor/Training/notumor/Tr-no_0630.jpg', '/content/drive/MyDrive/Brain_tumor/Training/glioma/Tr-gl_0531.jpg', '/content/drive/MyDrive/Brain_tumor/Training/pituitary/Tr-pi_0558.jpg', '/content/drive/MyDrive/Brain_tumor/Training/meningioma/Tr-me_0393.jpg', '/content/drive/MyDrive/Brain_tumor/Training/notumor/Tr-no_1413.jpg', '/content/drive/MyDrive/Brain_tumor/Training/meningioma/Tr-meTr_0000.jpg', '/content/drive/MyDrive/Brain_tumor/Training/glioma/Tr-gl_0293.jpg', '/content/drive/MyDrive/Brain_tumor/Training/glioma/Tr-gl_0646.jpg', '/content/drive/MyDrive/Brain_tumor/Training/glioma/Tr-gl_0619.jpg', '/content/drive/MyDrive/Brain_tumor/Training/meningioma/Tr-me_0411.jpg', '/content/drive/MyDrive/Brain_tumor/Training/pituitary/Tr-pi_1028.jpg', '/content/drive/MyDrive/Brain_tumor/Training/notumor/Tr-no_1403.jpg', '/content/drive/MyDrive/Brain_tumor/Training/pituitary/Tr-pi_0573.jpg', '/content/drive/MyDrive/Brain_tumor/Training/glioma/Tr-gl_0680.jpg', '/content/drive/MyDrive/Brain_tumor/Training/glioma/Tr-gl_0482.jpg', '/content/drive/MyDrive/Brain_tumor/Training/pituitary/Tr-pi_0868.jpg', '/content/drive/MyDrive/Brain_tumor/Training/pituitary/Tr-pi_1323.jpg', '/content/drive/MyDrive/Brain_tumor/Training/notumor/Tr-no_1529.jpg', '/content/drive/MyDrive/Brain_tumor/Training/pituitary/Tr-pi_0569.jpg', '/content/drive/MyDrive/Brain_tumor/Training/meningioma/Tr-me_0914.jpg', '/content/drive/MyDrive/Brain_tumor/Training/glioma/Tr-gl_0085.jpg', '/content/drive/MyDrive/Brain_tumor/Training/pituitary/Tr-pi_0362.jpg', '/content/drive/MyDrive/Brain_tumor/Training/glioma/Tr-gl_0346.jpg', '/content/drive/MyDrive/Brain_tumor/Training/pituitary/Tr-pi_0017.jpg', '/content/drive/MyDrive/Brain_tumor/Training/notumor/Tr-no_0537.jpg', '/content/drive/MyDrive/Brain_tumor/Training/glioma/Tr-gl_0698.jpg', '/content/drive/MyDrive/Brain_tumor/Training/notumor/Tr-no_0299.jpg', '/content/drive/MyDrive/Brain_tumor/Training/notumor/Tr-no_0905.jpg', '/content/drive/MyDrive/Brain_tumor/Training/meningioma/Tr-me_1269.jpg', '/content/drive/MyDrive/Brain_tumor/Training/pituitary/Tr-pi_1327.jpg', '/content/drive/MyDrive/Brain_tumor/Training/notumor/Tr-no_1214.jpg', '/content/drive/MyDrive/Brain_tumor/Training/notumor/Tr-no_0547.jpg', '/content/drive/MyDrive/Brain_tumor/Training/meningioma/Tr-me_0270.jpg', '/content/drive/MyDrive/Brain_tumor/Training/notumor/Tr-no_0666.jpg', '/content/drive/MyDrive/Brain_tumor/Training/meningioma/Tr-me_0557.jpg', '/content/drive/MyDrive/Brain_tumor/Training/pituitary/Tr-pi_0988.jpg', '/content/drive/MyDrive/Brain_tumor/Training/notumor/Tr-no_0567.jpg', '/content/drive/MyDrive/Brain_tumor/Training/meningioma/Tr-me_0446.jpg', '/content/drive/MyDrive/Brain_tumor/Training/glioma/Tr-gl_0886.jpg', '/content/drive/MyDrive/Brain_tumor/Training/meningioma/Tr-me_0041.jpg', '/content/drive/MyDrive/Brain_tumor/Training/meningioma/Tr-me_0379.jpg', '/content/drive/MyDrive/Brain_tumor/Training/meningioma/Tr-me_0493.jpg', '/content/drive/MyDrive/Brain_tumor/Training/meningioma/Tr-me_0235.jpg', '/content/drive/MyDrive/Brain_tumor/Training/meningioma/Tr-me_0996.jpg', '/content/drive/MyDrive/Brain_tumor/Training/glioma/Tr-gl_0154.jpg', '/content/drive/MyDrive/Brain_tumor/Training/notumor/Tr-no_0611.jpg', '/content/drive/MyDrive/Brain_tumor/Training/meningioma/Tr-me_1289.jpg', '/content/drive/MyDrive/Brain_tumor/Training/pituitary/Tr-pi_0547.jpg', '/content/drive/MyDrive/Brain_tumor/Training/notumor/Tr-no_0872.jpg', '/content/drive/MyDrive/Brain_tumor/Training/notumor/Tr-no_1063.jpg', '/content/drive/MyDrive/Brain_tumor/Training/pituitary/Tr-pi_0982.jpg', '/content/drive/MyDrive/Brain_tumor/Training/glioma/Tr-gl_0831.jpg', '/content/drive/MyDrive/Brain_tumor/Training/glioma/Tr-gl_0725.jpg', '/content/drive/MyDrive/Brain_tumor/Training/notumor/Tr-no_0869.jpg', '/content/drive/MyDrive/Brain_tumor/Training/glioma/Tr-gl_0123.jpg', '/content/drive/MyDrive/Brain_tumor/Training/notumor/Tr-no_0236.jpg', '/content/drive/MyDrive/Brain_tumor/Training/meningioma/Tr-me_0563.jpg', '/content/drive/MyDrive/Brain_tumor/Training/meningioma/Tr-me_0514.jpg', '/content/drive/MyDrive/Brain_tumor/Training/glioma/Tr-gl_0934.jpg', '/content/drive/MyDrive/Brain_tumor/Training/notumor/Tr-no_1458.jpg', '/content/drive/MyDrive/Brain_tumor/Training/glioma/Tr-gl_0481.jpg', '/content/drive/MyDrive/Brain_tumor/Training/meningioma/Tr-me_1321.jpg', '/content/drive/MyDrive/Brain_tumor/Training/glioma/Tr-gl_1194.jpg', '/content/drive/MyDrive/Brain_tumor/Training/notumor/Tr-no_1414.jpg', '/content/drive/MyDrive/Brain_tumor/Training/notumor/Tr-no_1190.jpg', '/content/drive/MyDrive/Brain_tumor/Training/notumor/Tr-no_0926.jpg', '/content/drive/MyDrive/Brain_tumor/Training/meningioma/Tr-me_0545.jpg', '/content/drive/MyDrive/Brain_tumor/Training/pituitary/Tr-pi_1120.jpg', '/content/drive/MyDrive/Brain_tumor/Training/pituitary/Tr-pi_1286.jpg', '/content/drive/MyDrive/Brain_tumor/Training/pituitary/Tr-pi_0543.jpg', '/content/drive/MyDrive/Brain_tumor/Training/notumor/Tr-no_1475.jpg', '/content/drive/MyDrive/Brain_tumor/Training/notumor/Tr-no_1053.jpg', '/content/drive/MyDrive/Brain_tumor/Training/pituitary/Tr-pi_0129.jpg', '/content/drive/MyDrive/Brain_tumor/Training/pituitary/Tr-piTr_0005.jpg', '/content/drive/MyDrive/Brain_tumor/Training/pituitary/Tr-pi_0749.jpg', '/content/drive/MyDrive/Brain_tumor/Training/glioma/Tr-gl_0044.jpg', '/content/drive/MyDrive/Brain_tumor/Training/meningioma/Tr-me_0663.jpg', '/content/drive/MyDrive/Brain_tumor/Training/notumor/Tr-no_0686.jpg', '/content/drive/MyDrive/Brain_tumor/Training/notumor/Tr-no_0348.jpg', '/content/drive/MyDrive/Brain_tumor/Training/notumor/Tr-no_0432.jpg', '/content/drive/MyDrive/Brain_tumor/Training/pituitary/Tr-pi_1452.jpg', '/content/drive/MyDrive/Brain_tumor/Training/pituitary/Tr-pi_0164.jpg', '/content/drive/MyDrive/Brain_tumor/Training/notumor/Tr-no_1542.jpg', '/content/drive/MyDrive/Brain_tumor/Training/glioma/Tr-gl_0122.jpg', '/content/drive/MyDrive/Brain_tumor/Training/glioma/Tr-gl_0552.jpg', '/content/drive/MyDrive/Brain_tumor/Training/notumor/Tr-no_0978.jpg', '/content/drive/MyDrive/Brain_tumor/Training/glioma/Tr-gl_0832.jpg', '/content/drive/MyDrive/Brain_tumor/Training/glioma/Tr-gl_0137.jpg', '/content/drive/MyDrive/Brain_tumor/Training/notumor/Tr-no_1528.jpg', '/content/drive/MyDrive/Brain_tumor/Training/meningioma/Tr-me_1312.jpg', '/content/drive/MyDrive/Brain_tumor/Training/glioma/Tr-gl_1051.jpg', '/content/drive/MyDrive/Brain_tumor/Training/glioma/Tr-gl_0922.jpg', '/content/drive/MyDrive/Brain_tumor/Training/meningioma/Tr-me_0842.jpg', '/content/drive/MyDrive/Brain_tumor/Training/notumor/Tr-no_0428.jpg', '/content/drive/MyDrive/Brain_tumor/Training/pituitary/Tr-pi_0707.jpg', '/content/drive/MyDrive/Brain_tumor/Training/notumor/Tr-no_0942.jpg', '/content/drive/MyDrive/Brain_tumor/Training/glioma/Tr-gl_0403.jpg', '/content/drive/MyDrive/Brain_tumor/Training/notumor/Tr-no_1470.jpg', '/content/drive/MyDrive/Brain_tumor/Training/notumor/Tr-noTr_0006.jpg', '/content/drive/MyDrive/Brain_tumor/Training/meningioma/Tr-me_1149.jpg', '/content/drive/MyDrive/Brain_tumor/Training/notumor/Tr-no_1125.jpg', '/content/drive/MyDrive/Brain_tumor/Training/notumor/Tr-no_1435.jpg', '/content/drive/MyDrive/Brain_tumor/Training/pituitary/Tr-pi_0200.jpg', '/content/drive/MyDrive/Brain_tumor/Training/notumor/Tr-no_0757.jpg', '/content/drive/MyDrive/Brain_tumor/Training/pituitary/Tr-pi_1385.jpg', '/content/drive/MyDrive/Brain_tumor/Training/glioma/Tr-gl_0309.jpg', '/content/drive/MyDrive/Brain_tumor/Training/glioma/Tr-gl_0551.jpg', '/content/drive/MyDrive/Brain_tumor/Training/glioma/Tr-gl_0304.jpg', '/content/drive/MyDrive/Brain_tumor/Training/meningioma/Tr-me_0911.jpg', '/content/drive/MyDrive/Brain_tumor/Training/notumor/Tr-no_1586.jpg', '/content/drive/MyDrive/Brain_tumor/Training/meningioma/Tr-me_1123.jpg', '/content/drive/MyDrive/Brain_tumor/Training/pituitary/Tr-pi_1070.jpg', '/content/drive/MyDrive/Brain_tumor/Training/pituitary/Tr-pi_0417.jpg', '/content/drive/MyDrive/Brain_tumor/Training/glioma/Tr-gl_0691.jpg', '/content/drive/MyDrive/Brain_tumor/Training/pituitary/Tr-pi_0519.jpg', '/content/drive/MyDrive/Brain_tumor/Training/meningioma/Tr-me_0578.jpg', '/content/drive/MyDrive/Brain_tumor/Training/notumor/Tr-no_0224.jpg', '/content/drive/MyDrive/Brain_tumor/Training/glioma/Tr-gl_0898.jpg', '/content/drive/MyDrive/Brain_tumor/Training/pituitary/Tr-pi_1164.jpg', '/content/drive/MyDrive/Brain_tumor/Training/notumor/Tr-no_1509.jpg', '/content/drive/MyDrive/Brain_tumor/Training/pituitary/Tr-pi_0155.jpg', '/content/drive/MyDrive/Brain_tumor/Training/meningioma/Tr-me_0964.jpg', '/content/drive/MyDrive/Brain_tumor/Training/notumor/Tr-no_0934.jpg', '/content/drive/MyDrive/Brain_tumor/Training/notumor/Tr-no_0769.jpg', '/content/drive/MyDrive/Brain_tumor/Training/meningioma/Tr-me_0538.jpg', '/content/drive/MyDrive/Brain_tumor/Training/glioma/Tr-gl_0521.jpg', '/content/drive/MyDrive/Brain_tumor/Training/glioma/Tr-gl_1116.jpg', '/content/drive/MyDrive/Brain_tumor/Training/meningioma/Tr-me_1125.jpg', '/content/drive/MyDrive/Brain_tumor/Training/meningioma/Tr-me_0633.jpg', '/content/drive/MyDrive/Brain_tumor/Training/pituitary/Tr-pi_0754.jpg', '/content/drive/MyDrive/Brain_tumor/Training/glioma/Tr-gl_0207.jpg', '/content/drive/MyDrive/Brain_tumor/Training/glioma/Tr-gl_0605.jpg', '/content/drive/MyDrive/Brain_tumor/Training/meningioma/Tr-me_0866.jpg', '/content/drive/MyDrive/Brain_tumor/Training/pituitary/Tr-pi_1276.jpg', '/content/drive/MyDrive/Brain_tumor/Training/pituitary/Tr-pi_0491.jpg', '/content/drive/MyDrive/Brain_tumor/Training/glioma/Tr-gl_0110.jpg', '/content/drive/MyDrive/Brain_tumor/Training/glioma/Tr-gl_0414.jpg', '/content/drive/MyDrive/Brain_tumor/Training/meningioma/Tr-me_1188.jpg', '/content/drive/MyDrive/Brain_tumor/Training/pituitary/Tr-pi_0509.jpg', '/content/drive/MyDrive/Brain_tumor/Training/meningioma/Tr-me_0367.jpg', '/content/drive/MyDrive/Brain_tumor/Training/notumor/Tr-no_0331.jpg', '/content/drive/MyDrive/Brain_tumor/Training/notumor/Tr-no_0936.jpg', '/content/drive/MyDrive/Brain_tumor/Training/notumor/Tr-no_1185.jpg', '/content/drive/MyDrive/Brain_tumor/Training/meningioma/Tr-me_0054.jpg', '/content/drive/MyDrive/Brain_tumor/Training/pituitary/Tr-pi_1348.jpg', '/content/drive/MyDrive/Brain_tumor/Training/meningioma/Tr-me_1335.jpg', '/content/drive/MyDrive/Brain_tumor/Training/glioma/Tr-gl_0465.jpg', '/content/drive/MyDrive/Brain_tumor/Training/pituitary/Tr-pi_0810.jpg', '/content/drive/MyDrive/Brain_tumor/Training/glioma/Tr-gl_0089.jpg', '/content/drive/MyDrive/Brain_tumor/Training/notumor/Tr-no_1565.jpg', '/content/drive/MyDrive/Brain_tumor/Training/notumor/Tr-no_1523.jpg', '/content/drive/MyDrive/Brain_tumor/Training/pituitary/Tr-pi_0818.jpg', '/content/drive/MyDrive/Brain_tumor/Training/notumor/Tr-no_0673.jpg', '/content/drive/MyDrive/Brain_tumor/Training/pituitary/Tr-pi_0272.jpg', '/content/drive/MyDrive/Brain_tumor/Training/glioma/Tr-gl_0407.jpg', '/content/drive/MyDrive/Brain_tumor/Training/meningioma/Tr-me_1086.jpg', '/content/drive/MyDrive/Brain_tumor/Training/pituitary/Tr-pi_1015.jpg', '/content/drive/MyDrive/Brain_tumor/Training/glioma/Tr-gl_0109.jpg', '/content/drive/MyDrive/Brain_tumor/Training/meningioma/Tr-me_0254.jpg', '/content/drive/MyDrive/Brain_tumor/Training/glioma/Tr-gl_0629.jpg', '/content/drive/MyDrive/Brain_tumor/Training/pituitary/Tr-pi_0850.jpg', '/content/drive/MyDrive/Brain_tumor/Training/meningioma/Tr-me_1192.jpg', '/content/drive/MyDrive/Brain_tumor/Training/pituitary/Tr-pi_1256.jpg', '/content/drive/MyDrive/Brain_tumor/Training/glioma/Tr-gl_1043.jpg', '/content/drive/MyDrive/Brain_tumor/Training/meningioma/Tr-me_0012.jpg', '/content/drive/MyDrive/Brain_tumor/Training/notumor/Tr-no_0041.jpg', '/content/drive/MyDrive/Brain_tumor/Training/glioma/Tr-gl_0477.jpg', '/content/drive/MyDrive/Brain_tumor/Training/glioma/Tr-gl_0828.jpg', '/content/drive/MyDrive/Brain_tumor/Training/pituitary/Tr-pi_0950.jpg', '/content/drive/MyDrive/Brain_tumor/Training/notumor/Tr-no_1092.jpg', '/content/drive/MyDrive/Brain_tumor/Training/notumor/Tr-no_1055.jpg', '/content/drive/MyDrive/Brain_tumor/Training/glioma/Tr-gl_0804.jpg', '/content/drive/MyDrive/Brain_tumor/Training/notumor/Tr-no_0532.jpg', '/content/drive/MyDrive/Brain_tumor/Training/pituitary/Tr-pi_0697.jpg', '/content/drive/MyDrive/Brain_tumor/Training/notumor/Tr-no_0014.jpg', '/content/drive/MyDrive/Brain_tumor/Training/notumor/Tr-no_0493.jpg', '/content/drive/MyDrive/Brain_tumor/Training/notumor/Tr-no_1115.jpg', '/content/drive/MyDrive/Brain_tumor/Training/pituitary/Tr-pi_1025.jpg', '/content/drive/MyDrive/Brain_tumor/Training/meningioma/Tr-me_0711.jpg', '/content/drive/MyDrive/Brain_tumor/Training/meningioma/Tr-me_1054.jpg', '/content/drive/MyDrive/Brain_tumor/Training/meningioma/Tr-me_0722.jpg', '/content/drive/MyDrive/Brain_tumor/Training/notumor/Tr-no_1231.jpg', '/content/drive/MyDrive/Brain_tumor/Training/meningioma/Tr-me_0176.jpg', '/content/drive/MyDrive/Brain_tumor/Training/glioma/Tr-gl_0443.jpg', '/content/drive/MyDrive/Brain_tumor/Training/notumor/Tr-no_0347.jpg', '/content/drive/MyDrive/Brain_tumor/Training/notumor/Tr-no_0519.jpg', '/content/drive/MyDrive/Brain_tumor/Training/notumor/Tr-no_1444.jpg', '/content/drive/MyDrive/Brain_tumor/Training/glioma/Tr-gl_0062.jpg', '/content/drive/MyDrive/Brain_tumor/Training/pituitary/Tr-pi_0626.jpg', '/content/drive/MyDrive/Brain_tumor/Training/glioma/Tr-gl_1057.jpg', '/content/drive/MyDrive/Brain_tumor/Training/pituitary/Tr-pi_0171.jpg', '/content/drive/MyDrive/Brain_tumor/Training/meningioma/Tr-me_0019.jpg', '/content/drive/MyDrive/Brain_tumor/Training/glioma/Tr-gl_0520.jpg', '/content/drive/MyDrive/Brain_tumor/Training/glioma/Tr-gl_0738.jpg', '/content/drive/MyDrive/Brain_tumor/Training/glioma/Tr-gl_0830.jpg', '/content/drive/MyDrive/Brain_tumor/Training/pituitary/Tr-pi_0469.jpg', '/content/drive/MyDrive/Brain_tumor/Training/meningioma/Tr-me_1324.jpg', '/content/drive/MyDrive/Brain_tumor/Training/meningioma/Tr-me_1029.jpg', '/content/drive/MyDrive/Brain_tumor/Training/meningioma/Tr-me_0696.jpg', '/content/drive/MyDrive/Brain_tumor/Training/pituitary/Tr-pi_1044.jpg', '/content/drive/MyDrive/Brain_tumor/Training/notumor/Tr-no_0897.jpg', '/content/drive/MyDrive/Brain_tumor/Training/pituitary/Tr-pi_0900.jpg', '/content/drive/MyDrive/Brain_tumor/Training/notumor/Tr-no_0100.jpg', '/content/drive/MyDrive/Brain_tumor/Training/notumor/Tr-no_0228.jpg', '/content/drive/MyDrive/Brain_tumor/Training/meningioma/Tr-me_0677.jpg', '/content/drive/MyDrive/Brain_tumor/Training/pituitary/Tr-pi_1046.jpg', '/content/drive/MyDrive/Brain_tumor/Training/pituitary/Tr-pi_1061.jpg', '/content/drive/MyDrive/Brain_tumor/Training/glioma/Tr-gl_0222.jpg', '/content/drive/MyDrive/Brain_tumor/Training/notumor/Tr-no_0516.jpg', '/content/drive/MyDrive/Brain_tumor/Training/notumor/Tr-no_0994.jpg', '/content/drive/MyDrive/Brain_tumor/Training/glioma/Tr-gl_0273.jpg', '/content/drive/MyDrive/Brain_tumor/Training/meningioma/Tr-me_0215.jpg', '/content/drive/MyDrive/Brain_tumor/Training/glioma/Tr-gl_0108.jpg', '/content/drive/MyDrive/Brain_tumor/Training/meningioma/Tr-me_0990.jpg', '/content/drive/MyDrive/Brain_tumor/Training/pituitary/Tr-pi_0927.jpg', '/content/drive/MyDrive/Brain_tumor/Training/pituitary/Tr-pi_0059.jpg', '/content/drive/MyDrive/Brain_tumor/Training/meningioma/Tr-me_0716.jpg', '/content/drive/MyDrive/Brain_tumor/Training/glioma/Tr-gl_0328.jpg', '/content/drive/MyDrive/Brain_tumor/Training/pituitary/Tr-pi_1018.jpg', '/content/drive/MyDrive/Brain_tumor/Training/pituitary/Tr-pi_0361.jpg', '/content/drive/MyDrive/Brain_tumor/Training/meningioma/Tr-me_0971.jpg', '/content/drive/MyDrive/Brain_tumor/Training/notumor/Tr-no_1131.jpg', '/content/drive/MyDrive/Brain_tumor/Training/glioma/Tr-gl_0526.jpg', '/content/drive/MyDrive/Brain_tumor/Training/glioma/Tr-gl_0460.jpg', '/content/drive/MyDrive/Brain_tumor/Training/notumor/Tr-no_0068.jpg', '/content/drive/MyDrive/Brain_tumor/Training/notumor/Tr-no_0253.jpg', '/content/drive/MyDrive/Brain_tumor/Training/notumor/Tr-no_1568.jpg', '/content/drive/MyDrive/Brain_tumor/Training/pituitary/Tr-pi_1087.jpg', '/content/drive/MyDrive/Brain_tumor/Training/glioma/Tr-gl_0667.jpg', '/content/drive/MyDrive/Brain_tumor/Training/notumor/Tr-no_0768.jpg', '/content/drive/MyDrive/Brain_tumor/Training/meningioma/Tr-me_0456.jpg', '/content/drive/MyDrive/Brain_tumor/Training/meningioma/Tr-me_0178.jpg', '/content/drive/MyDrive/Brain_tumor/Training/notumor/Tr-no_0234.jpg', '/content/drive/MyDrive/Brain_tumor/Training/meningioma/Tr-me_0348.jpg', '/content/drive/MyDrive/Brain_tumor/Training/meningioma/Tr-me_0798.jpg', '/content/drive/MyDrive/Brain_tumor/Training/glioma/Tr-gl_1082.jpg', '/content/drive/MyDrive/Brain_tumor/Training/pituitary/Tr-pi_1082.jpg', '/content/drive/MyDrive/Brain_tumor/Training/notumor/Tr-no_0838.jpg', '/content/drive/MyDrive/Brain_tumor/Training/glioma/Tr-gl_1096.jpg', '/content/drive/MyDrive/Brain_tumor/Training/meningioma/Tr-me_0898.jpg', '/content/drive/MyDrive/Brain_tumor/Training/pituitary/Tr-pi_0572.jpg', '/content/drive/MyDrive/Brain_tumor/Training/pituitary/Tr-pi_0581.jpg', '/content/drive/MyDrive/Brain_tumor/Training/pituitary/Tr-pi_0783.jpg', '/content/drive/MyDrive/Brain_tumor/Training/pituitary/Tr-pi_0183.jpg', '/content/drive/MyDrive/Brain_tumor/Training/pituitary/Tr-pi_0429.jpg', '/content/drive/MyDrive/Brain_tumor/Training/glioma/Tr-gl_0260.jpg', '/content/drive/MyDrive/Brain_tumor/Training/pituitary/Tr-pi_0529.jpg', '/content/drive/MyDrive/Brain_tumor/Training/pituitary/Tr-pi_1035.jpg', '/content/drive/MyDrive/Brain_tumor/Training/meningioma/Tr-me_0385.jpg', '/content/drive/MyDrive/Brain_tumor/Training/notumor/Tr-no_0900.jpg', '/content/drive/MyDrive/Brain_tumor/Training/glioma/Tr-gl_0528.jpg', '/content/drive/MyDrive/Brain_tumor/Training/notumor/Tr-no_0297.jpg', '/content/drive/MyDrive/Brain_tumor/Training/pituitary/Tr-pi_0995.jpg', '/content/drive/MyDrive/Brain_tumor/Training/meningioma/Tr-me_0679.jpg', '/content/drive/MyDrive/Brain_tumor/Training/glioma/Tr-gl_1047.jpg', '/content/drive/MyDrive/Brain_tumor/Training/glioma/Tr-gl_0415.jpg', '/content/drive/MyDrive/Brain_tumor/Training/meningioma/Tr-me_1194.jpg', '/content/drive/MyDrive/Brain_tumor/Training/meningioma/Tr-me_0269.jpg', '/content/drive/MyDrive/Brain_tumor/Training/glioma/Tr-gl_1081.jpg', '/content/drive/MyDrive/Brain_tumor/Training/meningioma/Tr-me_0347.jpg', '/content/drive/MyDrive/Brain_tumor/Training/pituitary/Tr-pi_0145.jpg', '/content/drive/MyDrive/Brain_tumor/Training/notumor/Tr-no_0480.jpg', '/content/drive/MyDrive/Brain_tumor/Training/glioma/Tr-gl_0895.jpg', '/content/drive/MyDrive/Brain_tumor/Training/glioma/Tr-gl_0218.jpg', '/content/drive/MyDrive/Brain_tumor/Training/notumor/Tr-no_0477.jpg', '/content/drive/MyDrive/Brain_tumor/Training/glioma/Tr-gl_0524.jpg', '/content/drive/MyDrive/Brain_tumor/Training/notumor/Tr-no_1418.jpg', '/content/drive/MyDrive/Brain_tumor/Training/meningioma/Tr-me_1015.jpg', '/content/drive/MyDrive/Brain_tumor/Training/glioma/Tr-gl_1281.jpg', '/content/drive/MyDrive/Brain_tumor/Training/notumor/Tr-no_0260.jpg', '/content/drive/MyDrive/Brain_tumor/Training/glioma/Tr-gl_0041.jpg', '/content/drive/MyDrive/Brain_tumor/Training/meningioma/Tr-me_0680.jpg', '/content/drive/MyDrive/Brain_tumor/Training/notumor/Tr-no_1394.jpg', '/content/drive/MyDrive/Brain_tumor/Training/pituitary/Tr-pi_1009.jpg', '/content/drive/MyDrive/Brain_tumor/Training/notumor/Tr-no_0867.jpg', '/content/drive/MyDrive/Brain_tumor/Training/glioma/Tr-gl_1112.jpg', '/content/drive/MyDrive/Brain_tumor/Training/meningioma/Tr-me_1230.jpg', '/content/drive/MyDrive/Brain_tumor/Training/glioma/Tr-gl_0932.jpg', '/content/drive/MyDrive/Brain_tumor/Training/notumor/Tr-no_0589.jpg', '/content/drive/MyDrive/Brain_tumor/Training/meningioma/Tr-me_0213.jpg', '/content/drive/MyDrive/Brain_tumor/Training/meningioma/Tr-me_0031.jpg', '/content/drive/MyDrive/Brain_tumor/Training/pituitary/Tr-pi_0826.jpg', '/content/drive/MyDrive/Brain_tumor/Training/pituitary/Tr-pi_0872.jpg', '/content/drive/MyDrive/Brain_tumor/Training/glioma/Tr-gl_0554.jpg', '/content/drive/MyDrive/Brain_tumor/Training/meningioma/Tr-me_1262.jpg', '/content/drive/MyDrive/Brain_tumor/Training/glioma/Tr-gl_0659.jpg', '/content/drive/MyDrive/Brain_tumor/Training/notumor/Tr-noTr_0007.jpg', '/content/drive/MyDrive/Brain_tumor/Training/pituitary/Tr-pi_0750.jpg', '/content/drive/MyDrive/Brain_tumor/Training/glioma/Tr-gl_1297.jpg', '/content/drive/MyDrive/Brain_tumor/Training/meningioma/Tr-me_0751.jpg', '/content/drive/MyDrive/Brain_tumor/Training/meningioma/Tr-me_1209.jpg', '/content/drive/MyDrive/Brain_tumor/Training/notumor/Tr-no_1164.jpg', '/content/drive/MyDrive/Brain_tumor/Training/notumor/Tr-no_0892.jpg', '/content/drive/MyDrive/Brain_tumor/Training/notumor/Tr-no_0684.jpg', '/content/drive/MyDrive/Brain_tumor/Training/meningioma/Tr-me_0729.jpg', '/content/drive/MyDrive/Brain_tumor/Training/meningioma/Tr-me_0010.jpg', '/content/drive/MyDrive/Brain_tumor/Training/meningioma/Tr-me_0296.jpg', '/content/drive/MyDrive/Brain_tumor/Training/pituitary/Tr-pi_0691.jpg', '/content/drive/MyDrive/Brain_tumor/Training/pituitary/Tr-pi_0971.jpg', '/content/drive/MyDrive/Brain_tumor/Training/pituitary/Tr-pi_1321.jpg', '/content/drive/MyDrive/Brain_tumor/Training/meningioma/Tr-me_0918.jpg', '/content/drive/MyDrive/Brain_tumor/Training/meningioma/Tr-me_1092.jpg', '/content/drive/MyDrive/Brain_tumor/Training/meningioma/Tr-me_0230.jpg', '/content/drive/MyDrive/Brain_tumor/Training/glioma/Tr-gl_1005.jpg', '/content/drive/MyDrive/Brain_tumor/Training/pituitary/Tr-pi_0588.jpg', '/content/drive/MyDrive/Brain_tumor/Training/glioma/Tr-gl_1083.jpg', '/content/drive/MyDrive/Brain_tumor/Training/pituitary/Tr-pi_0526.jpg', '/content/drive/MyDrive/Brain_tumor/Training/pituitary/Tr-pi_0657.jpg', '/content/drive/MyDrive/Brain_tumor/Training/notumor/Tr-no_1177.jpg', '/content/drive/MyDrive/Brain_tumor/Training/pituitary/Tr-pi_1110.jpg', '/content/drive/MyDrive/Brain_tumor/Training/pituitary/Tr-pi_1089.jpg', '/content/drive/MyDrive/Brain_tumor/Training/glioma/Tr-gl_0507.jpg', '/content/drive/MyDrive/Brain_tumor/Training/notumor/Tr-no_0205.jpg', '/content/drive/MyDrive/Brain_tumor/Training/notumor/Tr-no_1113.jpg', '/content/drive/MyDrive/Brain_tumor/Training/pituitary/Tr-pi_1268.jpg', '/content/drive/MyDrive/Brain_tumor/Training/meningioma/Tr-me_0561.jpg', '/content/drive/MyDrive/Brain_tumor/Training/glioma/Tr-gl_0170.jpg', '/content/drive/MyDrive/Brain_tumor/Training/pituitary/Tr-pi_1293.jpg', '/content/drive/MyDrive/Brain_tumor/Training/meningioma/Tr-me_0527.jpg', '/content/drive/MyDrive/Brain_tumor/Training/notumor/Tr-no_0503.jpg', '/content/drive/MyDrive/Brain_tumor/Training/meningioma/Tr-me_0634.jpg', '/content/drive/MyDrive/Brain_tumor/Training/notumor/Tr-no_0490.jpg', '/content/drive/MyDrive/Brain_tumor/Training/glioma/Tr-gl_1022.jpg', '/content/drive/MyDrive/Brain_tumor/Training/meningioma/Tr-me_0752.jpg', '/content/drive/MyDrive/Brain_tumor/Training/glioma/Tr-gl_1260.jpg', '/content/drive/MyDrive/Brain_tumor/Training/meningioma/Tr-me_1299.jpg', '/content/drive/MyDrive/Brain_tumor/Training/pituitary/Tr-pi_1338.jpg', '/content/drive/MyDrive/Brain_tumor/Training/notumor/Tr-no_0957.jpg', '/content/drive/MyDrive/Brain_tumor/Training/pituitary/Tr-pi_0074.jpg', '/content/drive/MyDrive/Brain_tumor/Training/glioma/Tr-gl_0311.jpg', '/content/drive/MyDrive/Brain_tumor/Training/pituitary/Tr-pi_0816.jpg', '/content/drive/MyDrive/Brain_tumor/Training/glioma/Tr-gl_1141.jpg', '/content/drive/MyDrive/Brain_tumor/Training/meningioma/Tr-me_0628.jpg', '/content/drive/MyDrive/Brain_tumor/Training/glioma/Tr-gl_1133.jpg', '/content/drive/MyDrive/Brain_tumor/Training/notumor/Tr-no_1390.jpg', '/content/drive/MyDrive/Brain_tumor/Training/notumor/Tr-no_0649.jpg', '/content/drive/MyDrive/Brain_tumor/Training/glioma/Tr-gl_0794.jpg', '/content/drive/MyDrive/Brain_tumor/Training/notumor/Tr-no_0157.jpg', '/content/drive/MyDrive/Brain_tumor/Training/pituitary/Tr-pi_0661.jpg', '/content/drive/MyDrive/Brain_tumor/Training/notumor/Tr-no_1106.jpg', '/content/drive/MyDrive/Brain_tumor/Training/glioma/Tr-gl_0352.jpg', '/content/drive/MyDrive/Brain_tumor/Training/notumor/Tr-no_1275 (1).jpg', '/content/drive/MyDrive/Brain_tumor/Training/notumor/Tr-no_0232.jpg', '/content/drive/MyDrive/Brain_tumor/Training/notumor/Tr-no_0312.jpg', '/content/drive/MyDrive/Brain_tumor/Training/notumor/Tr-no_0352.jpg', '/content/drive/MyDrive/Brain_tumor/Training/notumor/Tr-no_0543.jpg', '/content/drive/MyDrive/Brain_tumor/Training/pituitary/Tr-pi_1370.jpg', '/content/drive/MyDrive/Brain_tumor/Training/pituitary/Tr-pi_1078.jpg', '/content/drive/MyDrive/Brain_tumor/Training/notumor/Tr-no_1536.jpg', '/content/drive/MyDrive/Brain_tumor/Training/glioma/Tr-gl_1182.jpg', '/content/drive/MyDrive/Brain_tumor/Training/pituitary/Tr-pi_1072.jpg', '/content/drive/MyDrive/Brain_tumor/Training/notumor/Tr-no_0015.jpg', '/content/drive/MyDrive/Brain_tumor/Training/glioma/Tr-gl_1293.jpg', '/content/drive/MyDrive/Brain_tumor/Training/pituitary/Tr-pi_0716.jpg', '/content/drive/MyDrive/Brain_tumor/Training/glioma/Tr-gl_1132.jpg', '/content/drive/MyDrive/Brain_tumor/Training/glioma/Tr-gl_1045.jpg', '/content/drive/MyDrive/Brain_tumor/Training/pituitary/Tr-pi_0940.jpg', '/content/drive/MyDrive/Brain_tumor/Training/meningioma/Tr-me_0697.jpg', '/content/drive/MyDrive/Brain_tumor/Training/pituitary/Tr-pi_0632.jpg', '/content/drive/MyDrive/Brain_tumor/Training/pituitary/Tr-pi_0808.jpg', '/content/drive/MyDrive/Brain_tumor/Training/pituitary/Tr-pi_0426.jpg', '/content/drive/MyDrive/Brain_tumor/Training/meningioma/Tr-me_0504.jpg', '/content/drive/MyDrive/Brain_tumor/Training/notumor/Tr-no_1102 (1).jpg', '/content/drive/MyDrive/Brain_tumor/Training/glioma/Tr-gl_0561.jpg', '/content/drive/MyDrive/Brain_tumor/Training/meningioma/Tr-me_0642.jpg', '/content/drive/MyDrive/Brain_tumor/Training/notumor/Tr-no_0267.jpg', '/content/drive/MyDrive/Brain_tumor/Training/notumor/Tr-no_0893.jpg', '/content/drive/MyDrive/Brain_tumor/Training/notumor/Tr-no_1319.jpg', '/content/drive/MyDrive/Brain_tumor/Training/pituitary/Tr-pi_0641.jpg', '/content/drive/MyDrive/Brain_tumor/Training/meningioma/Tr-me_1221.jpg', '/content/drive/MyDrive/Brain_tumor/Training/notumor/Tr-no_1098.jpg', '/content/drive/MyDrive/Brain_tumor/Training/pituitary/Tr-pi_0861.jpg', '/content/drive/MyDrive/Brain_tumor/Training/pituitary/Tr-pi_0646.jpg', '/content/drive/MyDrive/Brain_tumor/Training/glioma/Tr-gl_1317.jpg', '/content/drive/MyDrive/Brain_tumor/Training/meningioma/Tr-me_0738.jpg', '/content/drive/MyDrive/Brain_tumor/Training/notumor/Tr-no_1130.jpg', '/content/drive/MyDrive/Brain_tumor/Training/pituitary/Tr-pi_0730.jpg', '/content/drive/MyDrive/Brain_tumor/Training/glioma/Tr-gl_0098.jpg', '/content/drive/MyDrive/Brain_tumor/Training/notumor/Tr-no_1112.jpg', '/content/drive/MyDrive/Brain_tumor/Training/notumor/Tr-no_0418.jpg', '/content/drive/MyDrive/Brain_tumor/Training/glioma/Tr-gl_0301.jpg', '/content/drive/MyDrive/Brain_tumor/Training/glioma/Tr-gl_0848.jpg', '/content/drive/MyDrive/Brain_tumor/Training/notumor/Tr-no_1543.jpg', '/content/drive/MyDrive/Brain_tumor/Training/meningioma/Tr-me_0163.jpg', '/content/drive/MyDrive/Brain_tumor/Training/glioma/Tr-gl_1147.jpg', '/content/drive/MyDrive/Brain_tumor/Training/glioma/Tr-gl_1114.jpg', '/content/drive/MyDrive/Brain_tumor/Training/glioma/Tr-gl_0063.jpg', '/content/drive/MyDrive/Brain_tumor/Training/glioma/Tr-gl_0495.jpg', '/content/drive/MyDrive/Brain_tumor/Training/meningioma/Tr-me_1172.jpg', '/content/drive/MyDrive/Brain_tumor/Training/glioma/Tr-gl_0575.jpg', '/content/drive/MyDrive/Brain_tumor/Training/meningioma/Tr-me_0386.jpg', '/content/drive/MyDrive/Brain_tumor/Training/meningioma/Tr-me_0309.jpg', '/content/drive/MyDrive/Brain_tumor/Training/meningioma/Tr-me_0032.jpg', '/content/drive/MyDrive/Brain_tumor/Training/notumor/Tr-no_1454.jpg', '/content/drive/MyDrive/Brain_tumor/Training/pituitary/Tr-pi_0824.jpg', '/content/drive/MyDrive/Brain_tumor/Training/glioma/Tr-gl_1050.jpg', '/content/drive/MyDrive/Brain_tumor/Training/meningioma/Tr-me_0278.jpg', '/content/drive/MyDrive/Brain_tumor/Training/notumor/Tr-no_1291.jpg', '/content/drive/MyDrive/Brain_tumor/Training/glioma/Tr-gl_0097.jpg', '/content/drive/MyDrive/Brain_tumor/Training/pituitary/Tr-pi_0226.jpg', '/content/drive/MyDrive/Brain_tumor/Training/glioma/Tr-gl_0876.jpg', '/content/drive/MyDrive/Brain_tumor/Training/pituitary/Tr-pi_0213.jpg', '/content/drive/MyDrive/Brain_tumor/Training/pituitary/Tr-pi_0392.jpg', '/content/drive/MyDrive/Brain_tumor/Training/notumor/Tr-no_0655.jpg', '/content/drive/MyDrive/Brain_tumor/Training/notumor/Tr-no_1225.jpg', '/content/drive/MyDrive/Brain_tumor/Training/glioma/Tr-gl_0940.jpg', '/content/drive/MyDrive/Brain_tumor/Training/notumor/Tr-no_0922.jpg', '/content/drive/MyDrive/Brain_tumor/Training/meningioma/Tr-me_0328.jpg', '/content/drive/MyDrive/Brain_tumor/Training/pituitary/Tr-pi_0980.jpg', '/content/drive/MyDrive/Brain_tumor/Training/glioma/Tr-gl_1265.jpg', '/content/drive/MyDrive/Brain_tumor/Training/meningioma/Tr-me_0808.jpg', '/content/drive/MyDrive/Brain_tumor/Training/meningioma/Tr-me_1104.jpg', '/content/drive/MyDrive/Brain_tumor/Training/meningioma/Tr-me_0369.jpg', '/content/drive/MyDrive/Brain_tumor/Training/notumor/Tr-no_0350.jpg', '/content/drive/MyDrive/Brain_tumor/Training/glioma/Tr-gl_0449.jpg', '/content/drive/MyDrive/Brain_tumor/Training/glioma/Tr-gl_1269.jpg', '/content/drive/MyDrive/Brain_tumor/Training/meningioma/Tr-me_0025.jpg', '/content/drive/MyDrive/Brain_tumor/Training/meningioma/Tr-me_1273.jpg', '/content/drive/MyDrive/Brain_tumor/Training/pituitary/Tr-pi_1239.jpg', '/content/drive/MyDrive/Brain_tumor/Training/notumor/Tr-no_1163.jpg', '/content/drive/MyDrive/Brain_tumor/Training/meningioma/Tr-me_0555.jpg', '/content/drive/MyDrive/Brain_tumor/Training/meningioma/Tr-me_0564.jpg', '/content/drive/MyDrive/Brain_tumor/Training/meningioma/Tr-me_0660.jpg', '/content/drive/MyDrive/Brain_tumor/Training/notumor/Tr-no_0646.jpg', '/content/drive/MyDrive/Brain_tumor/Training/glioma/Tr-gl_0663.jpg', '/content/drive/MyDrive/Brain_tumor/Training/pituitary/Tr-pi_0380.jpg', '/content/drive/MyDrive/Brain_tumor/Training/glioma/Tr-gl_0518.jpg', '/content/drive/MyDrive/Brain_tumor/Training/meningioma/Tr-me_1093.jpg', '/content/drive/MyDrive/Brain_tumor/Training/notumor/Tr-no_0770.jpg', '/content/drive/MyDrive/Brain_tumor/Training/notumor/Tr-no_0239.jpg', '/content/drive/MyDrive/Brain_tumor/Training/glioma/Tr-gl_1098.jpg', '/content/drive/MyDrive/Brain_tumor/Training/pituitary/Tr-pi_0249.jpg', '/content/drive/MyDrive/Brain_tumor/Training/pituitary/Tr-pi_0069.jpg', '/content/drive/MyDrive/Brain_tumor/Training/meningioma/Tr-me_0871.jpg', '/content/drive/MyDrive/Brain_tumor/Training/notumor/Tr-no_1335.jpg', '/content/drive/MyDrive/Brain_tumor/Training/pituitary/Tr-pi_1079.jpg', '/content/drive/MyDrive/Brain_tumor/Training/glioma/Tr-gl_1173.jpg', '/content/drive/MyDrive/Brain_tumor/Training/glioma/Tr-gl_1319.jpg', '/content/drive/MyDrive/Brain_tumor/Training/notumor/Tr-no_1526.jpg', '/content/drive/MyDrive/Brain_tumor/Training/glioma/Tr-gl_1190.jpg', '/content/drive/MyDrive/Brain_tumor/Training/glioma/Tr-gl_0265.jpg', '/content/drive/MyDrive/Brain_tumor/Training/meningioma/Tr-me_0785.jpg', '/content/drive/MyDrive/Brain_tumor/Training/pituitary/Tr-pi_0294.jpg', '/content/drive/MyDrive/Brain_tumor/Training/meningioma/Tr-me_0513.jpg', '/content/drive/MyDrive/Brain_tumor/Training/meningioma/Tr-me_0373.jpg', '/content/drive/MyDrive/Brain_tumor/Training/glioma/Tr-gl_0254.jpg', '/content/drive/MyDrive/Brain_tumor/Training/notumor/Tr-no_0687.jpg', '/content/drive/MyDrive/Brain_tumor/Training/notumor/Tr-no_1404.jpg', '/content/drive/MyDrive/Brain_tumor/Training/pituitary/Tr-pi_0289.jpg', '/content/drive/MyDrive/Brain_tumor/Training/meningioma/Tr-me_0935.jpg', '/content/drive/MyDrive/Brain_tumor/Training/notumor/Tr-no_1317.jpg', '/content/drive/MyDrive/Brain_tumor/Training/notumor/Tr-no_1135.jpg', '/content/drive/MyDrive/Brain_tumor/Training/meningioma/Tr-me_1140.jpg', '/content/drive/MyDrive/Brain_tumor/Training/pituitary/Tr-pi_0227.jpg', '/content/drive/MyDrive/Brain_tumor/Training/notumor/Tr-no_1409.jpg', '/content/drive/MyDrive/Brain_tumor/Training/meningioma/Tr-me_0588.jpg', '/content/drive/MyDrive/Brain_tumor/Training/glioma/Tr-gl_0156.jpg', '/content/drive/MyDrive/Brain_tumor/Training/pituitary/Tr-pi_1350.jpg', '/content/drive/MyDrive/Brain_tumor/Training/notumor/Tr-no_0120.jpg', '/content/drive/MyDrive/Brain_tumor/Training/glioma/Tr-gl_1171.jpg', '/content/drive/MyDrive/Brain_tumor/Training/meningioma/Tr-me_1052.jpg', '/content/drive/MyDrive/Brain_tumor/Training/meningioma/Tr-me_1014.jpg', '/content/drive/MyDrive/Brain_tumor/Training/glioma/Tr-gl_0093.jpg', '/content/drive/MyDrive/Brain_tumor/Training/meningioma/Tr-me_0452.jpg', '/content/drive/MyDrive/Brain_tumor/Training/glioma/Tr-gl_1313.jpg', '/content/drive/MyDrive/Brain_tumor/Training/pituitary/Tr-pi_0246.jpg', '/content/drive/MyDrive/Brain_tumor/Training/meningioma/Tr-me_0486.jpg', '/content/drive/MyDrive/Brain_tumor/Training/notumor/Tr-no_0139.jpg', '/content/drive/MyDrive/Brain_tumor/Training/notumor/Tr-no_1049.jpg', '/content/drive/MyDrive/Brain_tumor/Training/meningioma/Tr-me_1245.jpg', '/content/drive/MyDrive/Brain_tumor/Training/notumor/Tr-no_0019.jpg', '/content/drive/MyDrive/Brain_tumor/Training/pituitary/Tr-pi_1412.jpg', '/content/drive/MyDrive/Brain_tumor/Training/meningioma/Tr-me_0313.jpg', '/content/drive/MyDrive/Brain_tumor/Training/meningioma/Tr-me_1219.jpg', '/content/drive/MyDrive/Brain_tumor/Training/meningioma/Tr-me_0614.jpg', '/content/drive/MyDrive/Brain_tumor/Training/meningioma/Tr-me_0057.jpg', '/content/drive/MyDrive/Brain_tumor/Training/meningioma/Tr-me_0145.jpg', '/content/drive/MyDrive/Brain_tumor/Training/glioma/Tr-gl_0819.jpg', '/content/drive/MyDrive/Brain_tumor/Training/meningioma/Tr-me_0617.jpg', '/content/drive/MyDrive/Brain_tumor/Training/pituitary/Tr-pi_0894.jpg', '/content/drive/MyDrive/Brain_tumor/Training/glioma/Tr-gl_0525.jpg', '/content/drive/MyDrive/Brain_tumor/Training/pituitary/Tr-pi_0416.jpg', '/content/drive/MyDrive/Brain_tumor/Training/pituitary/Tr-pi_0201.jpg', '/content/drive/MyDrive/Brain_tumor/Training/pituitary/Tr-pi_0737.jpg', '/content/drive/MyDrive/Brain_tumor/Training/notumor/Tr-no_0377.jpg', '/content/drive/MyDrive/Brain_tumor/Training/pituitary/Tr-pi_0434.jpg', '/content/drive/MyDrive/Brain_tumor/Training/notumor/Tr-no_0664.jpg', '/content/drive/MyDrive/Brain_tumor/Training/pituitary/Tr-pi_1336.jpg', '/content/drive/MyDrive/Brain_tumor/Training/pituitary/Tr-pi_0620.jpg', '/content/drive/MyDrive/Brain_tumor/Training/glioma/Tr-gl_0143.jpg', '/content/drive/MyDrive/Brain_tumor/Training/pituitary/Tr-pi_0704.jpg', '/content/drive/MyDrive/Brain_tumor/Training/meningioma/Tr-me_1207.jpg', '/content/drive/MyDrive/Brain_tumor/Training/notumor/Tr-no_0319.jpg', '/content/drive/MyDrive/Brain_tumor/Training/pituitary/Tr-pi_1084.jpg', '/content/drive/MyDrive/Brain_tumor/Training/notumor/Tr-no_1314.jpg', '/content/drive/MyDrive/Brain_tumor/Training/glioma/Tr-gl_0703.jpg', '/content/drive/MyDrive/Brain_tumor/Training/meningioma/Tr-me_0939.jpg', '/content/drive/MyDrive/Brain_tumor/Training/glioma/Tr-gl_0423.jpg', '/content/drive/MyDrive/Brain_tumor/Training/glioma/Tr-gl_0133.jpg', '/content/drive/MyDrive/Brain_tumor/Training/meningioma/Tr-me_0924.jpg', '/content/drive/MyDrive/Brain_tumor/Training/meningioma/Tr-me_1091.jpg', '/content/drive/MyDrive/Brain_tumor/Training/notumor/Tr-no_0559.jpg', '/content/drive/MyDrive/Brain_tumor/Training/glioma/Tr-gl_0135.jpg', '/content/drive/MyDrive/Brain_tumor/Training/notumor/Tr-no_1567.jpg', '/content/drive/MyDrive/Brain_tumor/Training/glioma/Tr-gl_0224.jpg', '/content/drive/MyDrive/Brain_tumor/Training/notumor/Tr-no_0956.jpg', '/content/drive/MyDrive/Brain_tumor/Training/meningioma/Tr-me_0434.jpg', '/content/drive/MyDrive/Brain_tumor/Training/pituitary/Tr-pi_1432.jpg', '/content/drive/MyDrive/Brain_tumor/Training/pituitary/Tr-pi_0855.jpg', '/content/drive/MyDrive/Brain_tumor/Training/notumor/Tr-no_0436.jpg', '/content/drive/MyDrive/Brain_tumor/Training/glioma/Tr-gl_0807.jpg', '/content/drive/MyDrive/Brain_tumor/Training/pituitary/Tr-pi_0081.jpg', '/content/drive/MyDrive/Brain_tumor/Training/notumor/Tr-no_1245.jpg', '/content/drive/MyDrive/Brain_tumor/Training/glioma/Tr-gl_0510.jpg', '/content/drive/MyDrive/Brain_tumor/Training/notumor/Tr-no_0636.jpg', '/content/drive/MyDrive/Brain_tumor/Training/meningioma/Tr-me_0423.jpg', '/content/drive/MyDrive/Brain_tumor/Training/pituitary/Tr-pi_0952.jpg', '/content/drive/MyDrive/Brain_tumor/Training/notumor/Tr-no_1008.jpg', '/content/drive/MyDrive/Brain_tumor/Training/meningioma/Tr-me_0066.jpg', '/content/drive/MyDrive/Brain_tumor/Training/meningioma/Tr-me_0778.jpg', '/content/drive/MyDrive/Brain_tumor/Training/meningioma/Tr-me_0249.jpg', '/content/drive/MyDrive/Brain_tumor/Training/notumor/Tr-no_0695.jpg', '/content/drive/MyDrive/Brain_tumor/Training/pituitary/Tr-pi_0092.jpg', '/content/drive/MyDrive/Brain_tumor/Training/pituitary/Tr-pi_0463.jpg', '/content/drive/MyDrive/Brain_tumor/Training/notumor/Tr-no_0122.jpg', '/content/drive/MyDrive/Brain_tumor/Training/pituitary/Tr-pi_0837.jpg', '/content/drive/MyDrive/Brain_tumor/Training/glioma/Tr-gl_0684.jpg', '/content/drive/MyDrive/Brain_tumor/Training/glioma/Tr-gl_1102.jpg', '/content/drive/MyDrive/Brain_tumor/Training/glioma/Tr-gl_1037.jpg', '/content/drive/MyDrive/Brain_tumor/Training/meningioma/Tr-meTr_0003.jpg', '/content/drive/MyDrive/Brain_tumor/Training/glioma/Tr-gl_0024.jpg', '/content/drive/MyDrive/Brain_tumor/Training/pituitary/Tr-pi_0885.jpg', '/content/drive/MyDrive/Brain_tumor/Training/notumor/Tr-no_1570.jpg', '/content/drive/MyDrive/Brain_tumor/Training/notumor/Tr-no_1411.jpg', '/content/drive/MyDrive/Brain_tumor/Training/notumor/Tr-no_1083.jpg', '/content/drive/MyDrive/Brain_tumor/Training/pituitary/Tr-pi_0609.jpg', '/content/drive/MyDrive/Brain_tumor/Training/glioma/Tr-gl_0808.jpg', '/content/drive/MyDrive/Brain_tumor/Training/pituitary/Tr-pi_0985.jpg', '/content/drive/MyDrive/Brain_tumor/Training/meningioma/Tr-me_0562.jpg', '/content/drive/MyDrive/Brain_tumor/Training/glioma/Tr-gl_0657.jpg', '/content/drive/MyDrive/Brain_tumor/Training/meningioma/Tr-me_0184.jpg', '/content/drive/MyDrive/Brain_tumor/Training/pituitary/Tr-pi_1141.jpg', '/content/drive/MyDrive/Brain_tumor/Training/notumor/Tr-no_1417.jpg', '/content/drive/MyDrive/Brain_tumor/Training/pituitary/Tr-pi_0054.jpg', '/content/drive/MyDrive/Brain_tumor/Training/glioma/Tr-gl_0727.jpg', '/content/drive/MyDrive/Brain_tumor/Training/notumor/Tr-no_1088.jpg', '/content/drive/MyDrive/Brain_tumor/Training/pituitary/Tr-pi_0960.jpg', '/content/drive/MyDrive/Brain_tumor/Training/meningioma/Tr-me_0383.jpg', '/content/drive/MyDrive/Brain_tumor/Training/meningioma/Tr-me_1176.jpg', '/content/drive/MyDrive/Brain_tumor/Training/glioma/Tr-gl_0834.jpg', '/content/drive/MyDrive/Brain_tumor/Training/pituitary/Tr-pi_0217.jpg', '/content/drive/MyDrive/Brain_tumor/Training/meningioma/Tr-me_0811.jpg', '/content/drive/MyDrive/Brain_tumor/Training/meningioma/Tr-me_1270.jpg', '/content/drive/MyDrive/Brain_tumor/Training/glioma/Tr-gl_0210.jpg', '/content/drive/MyDrive/Brain_tumor/Training/pituitary/Tr-pi_0874.jpg', '/content/drive/MyDrive/Brain_tumor/Training/meningioma/Tr-me_0075.jpg', '/content/drive/MyDrive/Brain_tumor/Training/pituitary/Tr-pi_0836.jpg', '/content/drive/MyDrive/Brain_tumor/Training/glioma/Tr-gl_0338.jpg', '/content/drive/MyDrive/Brain_tumor/Training/notumor/Tr-no_1491.jpg', '/content/drive/MyDrive/Brain_tumor/Training/meningioma/Tr-me_1035.jpg', '/content/drive/MyDrive/Brain_tumor/Training/notumor/Tr-no_1246.jpg', '/content/drive/MyDrive/Brain_tumor/Training/meningioma/Tr-me_0258.jpg', '/content/drive/MyDrive/Brain_tumor/Training/notumor/Tr-no_1420.jpg', '/content/drive/MyDrive/Brain_tumor/Training/pituitary/Tr-pi_0600.jpg', '/content/drive/MyDrive/Brain_tumor/Training/meningioma/Tr-me_1173.jpg', '/content/drive/MyDrive/Brain_tumor/Training/notumor/Tr-no_0074.jpg', '/content/drive/MyDrive/Brain_tumor/Training/glioma/Tr-gl_0028.jpg', '/content/drive/MyDrive/Brain_tumor/Training/notumor/Tr-no_0181.jpg', '/content/drive/MyDrive/Brain_tumor/Training/pituitary/Tr-pi_0724.jpg', '/content/drive/MyDrive/Brain_tumor/Training/notumor/Tr-no_0638.jpg', '/content/drive/MyDrive/Brain_tumor/Training/glioma/Tr-gl_0533.jpg', '/content/drive/MyDrive/Brain_tumor/Training/notumor/Tr-no_1373.jpg', '/content/drive/MyDrive/Brain_tumor/Training/pituitary/Tr-pi_0390.jpg', '/content/drive/MyDrive/Brain_tumor/Training/notumor/Tr-no_0751.jpg', '/content/drive/MyDrive/Brain_tumor/Training/notumor/Tr-no_0034.jpg', '/content/drive/MyDrive/Brain_tumor/Training/pituitary/Tr-piTr_0001.jpg', '/content/drive/MyDrive/Brain_tumor/Training/glioma/Tr-gl_0038.jpg', '/content/drive/MyDrive/Brain_tumor/Training/meningioma/Tr-me_0850.jpg', '/content/drive/MyDrive/Brain_tumor/Training/glioma/Tr-gl_0441.jpg', '/content/drive/MyDrive/Brain_tumor/Training/notumor/Tr-no_0784.jpg', '/content/drive/MyDrive/Brain_tumor/Training/pituitary/Tr-pi_0385.jpg', '/content/drive/MyDrive/Brain_tumor/Training/notumor/Tr-no_0021.jpg', '/content/drive/MyDrive/Brain_tumor/Training/glioma/Tr-gl_0021.jpg', '/content/drive/MyDrive/Brain_tumor/Training/notumor/Tr-no_0112.jpg', '/content/drive/MyDrive/Brain_tumor/Training/glioma/Tr-gl_0625.jpg', '/content/drive/MyDrive/Brain_tumor/Training/notumor/Tr-no_1549.jpg', '/content/drive/MyDrive/Brain_tumor/Training/glioma/Tr-gl_0056.jpg', '/content/drive/MyDrive/Brain_tumor/Training/meningioma/Tr-me_0597.jpg', '/content/drive/MyDrive/Brain_tumor/Training/pituitary/Tr-pi_0535.jpg', '/content/drive/MyDrive/Brain_tumor/Training/pituitary/Tr-pi_0166.jpg', '/content/drive/MyDrive/Brain_tumor/Training/glioma/Tr-gl_0855.jpg', '/content/drive/MyDrive/Brain_tumor/Training/pituitary/Tr-pi_0276.jpg', '/content/drive/MyDrive/Brain_tumor/Training/meningioma/Tr-me_0889.jpg', '/content/drive/MyDrive/Brain_tumor/Training/pituitary/Tr-pi_1353.jpg', '/content/drive/MyDrive/Brain_tumor/Training/meningioma/Tr-me_0714.jpg', '/content/drive/MyDrive/Brain_tumor/Training/notumor/Tr-no_0974.jpg', '/content/drive/MyDrive/Brain_tumor/Training/meningioma/Tr-me_0992.jpg', '/content/drive/MyDrive/Brain_tumor/Training/meningioma/Tr-me_0473.jpg', '/content/drive/MyDrive/Brain_tumor/Training/pituitary/Tr-pi_1065.jpg', '/content/drive/MyDrive/Brain_tumor/Training/meningioma/Tr-me_1090.jpg', '/content/drive/MyDrive/Brain_tumor/Training/pituitary/Tr-pi_1352.jpg', '/content/drive/MyDrive/Brain_tumor/Training/meningioma/Tr-me_0667.jpg', '/content/drive/MyDrive/Brain_tumor/Training/notumor/Tr-no_0752.jpg', '/content/drive/MyDrive/Brain_tumor/Training/notumor/Tr-no_0334.jpg', '/content/drive/MyDrive/Brain_tumor/Training/pituitary/Tr-pi_0610.jpg', '/content/drive/MyDrive/Brain_tumor/Training/meningioma/Tr-me_1322.jpg', '/content/drive/MyDrive/Brain_tumor/Training/notumor/Tr-no_1116 (1).jpg', '/content/drive/MyDrive/Brain_tumor/Training/meningioma/Tr-me_0055.jpg', '/content/drive/MyDrive/Brain_tumor/Training/notumor/Tr-no_0875.jpg', '/content/drive/MyDrive/Brain_tumor/Training/notumor/Tr-no_0045.jpg', '/content/drive/MyDrive/Brain_tumor/Training/pituitary/Tr-pi_0134.jpg', '/content/drive/MyDrive/Brain_tumor/Training/pituitary/Tr-pi_0567.jpg', '/content/drive/MyDrive/Brain_tumor/Training/pituitary/Tr-pi_0941.jpg', '/content/drive/MyDrive/Brain_tumor/Training/meningioma/Tr-me_1294.jpg', '/content/drive/MyDrive/Brain_tumor/Training/glioma/Tr-gl_1007.jpg', '/content/drive/MyDrive/Brain_tumor/Training/glioma/Tr-gl_0416.jpg', '/content/drive/MyDrive/Brain_tumor/Training/pituitary/Tr-pi_0709.jpg', '/content/drive/MyDrive/Brain_tumor/Training/pituitary/Tr-pi_0039.jpg', '/content/drive/MyDrive/Brain_tumor/Training/notumor/Tr-no_0577.jpg', '/content/drive/MyDrive/Brain_tumor/Training/glioma/Tr-gl_0258.jpg', '/content/drive/MyDrive/Brain_tumor/Training/glioma/Tr-gl_0810.jpg', '/content/drive/MyDrive/Brain_tumor/Training/meningioma/Tr-me_0117.jpg', '/content/drive/MyDrive/Brain_tumor/Training/notumor/Tr-no_0197.jpg', '/content/drive/MyDrive/Brain_tumor/Training/notumor/Tr-no_1576.jpg', '/content/drive/MyDrive/Brain_tumor/Training/notumor/Tr-no_0569.jpg', '/content/drive/MyDrive/Brain_tumor/Training/notumor/Tr-no_0907.jpg', '/content/drive/MyDrive/Brain_tumor/Training/meningioma/Tr-me_0020.jpg', '/content/drive/MyDrive/Brain_tumor/Training/meningioma/Tr-me_0049.jpg', '/content/drive/MyDrive/Brain_tumor/Training/glioma/Tr-gl_0623.jpg', '/content/drive/MyDrive/Brain_tumor/Training/meningioma/Tr-me_0653.jpg', '/content/drive/MyDrive/Brain_tumor/Training/meningioma/Tr-me_0479.jpg', '/content/drive/MyDrive/Brain_tumor/Training/pituitary/Tr-pi_0021.jpg', '/content/drive/MyDrive/Brain_tumor/Training/notumor/Tr-no_0797.jpg', '/content/drive/MyDrive/Brain_tumor/Training/pituitary/Tr-pi_0398.jpg', '/content/drive/MyDrive/Brain_tumor/Training/glioma/Tr-gl_0351.jpg', '/content/drive/MyDrive/Brain_tumor/Training/glioma/Tr-gl_1103.jpg', '/content/drive/MyDrive/Brain_tumor/Training/pituitary/Tr-pi_1183.jpg', '/content/drive/MyDrive/Brain_tumor/Training/meningioma/Tr-me_0651.jpg', '/content/drive/MyDrive/Brain_tumor/Training/meningioma/Tr-me_1004.jpg', '/content/drive/MyDrive/Brain_tumor/Training/pituitary/Tr-pi_1368.jpg', '/content/drive/MyDrive/Brain_tumor/Training/meningioma/Tr-me_0999.jpg', '/content/drive/MyDrive/Brain_tumor/Training/pituitary/Tr-pi_1241.jpg', '/content/drive/MyDrive/Brain_tumor/Training/meningioma/Tr-me_0442.jpg', '/content/drive/MyDrive/Brain_tumor/Training/pituitary/Tr-pi_0073.jpg', '/content/drive/MyDrive/Brain_tumor/Training/notumor/Tr-no_1089 (1).jpg', '/content/drive/MyDrive/Brain_tumor/Training/meningioma/Tr-me_1334.jpg', '/content/drive/MyDrive/Brain_tumor/Training/pituitary/Tr-pi_0669.jpg', '/content/drive/MyDrive/Brain_tumor/Training/pituitary/Tr-pi_1303.jpg', '/content/drive/MyDrive/Brain_tumor/Training/pituitary/Tr-pi_0203.jpg', '/content/drive/MyDrive/Brain_tumor/Training/meningioma/Tr-me_1237.jpg', '/content/drive/MyDrive/Brain_tumor/Training/glioma/Tr-gl_0660.jpg', '/content/drive/MyDrive/Brain_tumor/Training/meningioma/Tr-me_1026.jpg', '/content/drive/MyDrive/Brain_tumor/Training/glioma/Tr-gl_1228.jpg', '/content/drive/MyDrive/Brain_tumor/Training/glioma/Tr-gl_1149.jpg', '/content/drive/MyDrive/Brain_tumor/Training/glioma/Tr-gl_0624.jpg', '/content/drive/MyDrive/Brain_tumor/Training/meningioma/Tr-me_0993.jpg', '/content/drive/MyDrive/Brain_tumor/Training/glioma/Tr-gl_0627.jpg', '/content/drive/MyDrive/Brain_tumor/Training/pituitary/Tr-pi_1074.jpg', '/content/drive/MyDrive/Brain_tumor/Training/glioma/Tr-gl_0276.jpg', '/content/drive/MyDrive/Brain_tumor/Training/glioma/Tr-gl_0306.jpg', '/content/drive/MyDrive/Brain_tumor/Training/pituitary/Tr-pi_0255.jpg', '/content/drive/MyDrive/Brain_tumor/Training/glioma/Tr-gl_0853.jpg', '/content/drive/MyDrive/Brain_tumor/Training/meningioma/Tr-me_1234.jpg', '/content/drive/MyDrive/Brain_tumor/Training/notumor/Tr-no_0498.jpg', '/content/drive/MyDrive/Brain_tumor/Training/pituitary/Tr-pi_1342.jpg', '/content/drive/MyDrive/Brain_tumor/Training/pituitary/Tr-pi_1354.jpg', '/content/drive/MyDrive/Brain_tumor/Training/glioma/Tr-gl_0201.jpg', '/content/drive/MyDrive/Brain_tumor/Training/glioma/Tr-gl_1204.jpg', '/content/drive/MyDrive/Brain_tumor/Training/pituitary/Tr-pi_0170.jpg', '/content/drive/MyDrive/Brain_tumor/Training/meningioma/Tr-me_0014.jpg', '/content/drive/MyDrive/Brain_tumor/Training/pituitary/Tr-pi_0296.jpg', '/content/drive/MyDrive/Brain_tumor/Training/glioma/Tr-gl_0845.jpg', '/content/drive/MyDrive/Brain_tumor/Training/meningioma/Tr-me_1310.jpg', '/content/drive/MyDrive/Brain_tumor/Training/glioma/Tr-gl_0516.jpg', '/content/drive/MyDrive/Brain_tumor/Training/glioma/Tr-gl_0225.jpg', '/content/drive/MyDrive/Brain_tumor/Training/notumor/Tr-no_1174.jpg', '/content/drive/MyDrive/Brain_tumor/Training/notumor/Tr-no_0696.jpg', '/content/drive/MyDrive/Brain_tumor/Training/glioma/Tr-gl_0825.jpg', '/content/drive/MyDrive/Brain_tumor/Training/meningioma/Tr-me_0399.jpg', '/content/drive/MyDrive/Brain_tumor/Training/notumor/Tr-no_0972.jpg', '/content/drive/MyDrive/Brain_tumor/Training/pituitary/Tr-pi_0681.jpg', '/content/drive/MyDrive/Brain_tumor/Training/glioma/Tr-gl_0549.jpg', '/content/drive/MyDrive/Brain_tumor/Training/glioma/Tr-gl_0632.jpg', '/content/drive/MyDrive/Brain_tumor/Training/notumor/Tr-no_0750.jpg', '/content/drive/MyDrive/Brain_tumor/Training/glioma/Tr-gl_0310.jpg', '/content/drive/MyDrive/Brain_tumor/Training/meningioma/Tr-me_1089.jpg', '/content/drive/MyDrive/Brain_tumor/Training/glioma/Tr-gl_1278.jpg', '/content/drive/MyDrive/Brain_tumor/Training/notumor/Tr-no_1188.jpg', '/content/drive/MyDrive/Brain_tumor/Training/glioma/Tr-gl_0336.jpg', '/content/drive/MyDrive/Brain_tumor/Training/pituitary/Tr-pi_0020.jpg', '/content/drive/MyDrive/Brain_tumor/Training/notumor/Tr-no_0968.jpg', '/content/drive/MyDrive/Brain_tumor/Training/meningioma/Tr-meTr_0004.jpg', '/content/drive/MyDrive/Brain_tumor/Training/pituitary/Tr-pi_1086.jpg', '/content/drive/MyDrive/Brain_tumor/Training/meningioma/Tr-me_0690.jpg', '/content/drive/MyDrive/Brain_tumor/Training/notumor/Tr-no_1370.jpg', '/content/drive/MyDrive/Brain_tumor/Training/glioma/Tr-gl_0581.jpg', '/content/drive/MyDrive/Brain_tumor/Training/pituitary/Tr-pi_0692.jpg', '/content/drive/MyDrive/Brain_tumor/Training/pituitary/Tr-pi_0905.jpg', '/content/drive/MyDrive/Brain_tumor/Training/notumor/Tr-no_0284.jpg', '/content/drive/MyDrive/Brain_tumor/Training/notumor/Tr-no_0335.jpg', '/content/drive/MyDrive/Brain_tumor/Training/pituitary/Tr-pi_0402.jpg', '/content/drive/MyDrive/Brain_tumor/Training/notumor/Tr-no_0302.jpg', '/content/drive/MyDrive/Brain_tumor/Training/glioma/Tr-gl_0857.jpg', '/content/drive/MyDrive/Brain_tumor/Training/glioma/Tr-gl_0505.jpg', '/content/drive/MyDrive/Brain_tumor/Training/notumor/Tr-no_0273.jpg', '/content/drive/MyDrive/Brain_tumor/Training/pituitary/Tr-pi_1415.jpg', '/content/drive/MyDrive/Brain_tumor/Training/pituitary/Tr-pi_1406.jpg', '/content/drive/MyDrive/Brain_tumor/Training/notumor/Tr-no_0445.jpg', '/content/drive/MyDrive/Brain_tumor/Training/pituitary/Tr-pi_1447.jpg', '/content/drive/MyDrive/Brain_tumor/Training/notumor/Tr-no_0020.jpg', '/content/drive/MyDrive/Brain_tumor/Training/glioma/Tr-gl_0887.jpg', '/content/drive/MyDrive/Brain_tumor/Training/notumor/Tr-no_1213.jpg', '/content/drive/MyDrive/Brain_tumor/Training/pituitary/Tr-pi_1112.jpg', '/content/drive/MyDrive/Brain_tumor/Training/glioma/Tr-gl_0051.jpg', '/content/drive/MyDrive/Brain_tumor/Training/notumor/Tr-no_0231.jpg', '/content/drive/MyDrive/Brain_tumor/Training/glioma/Tr-gl_0952.jpg', '/content/drive/MyDrive/Brain_tumor/Training/meningioma/Tr-me_1265.jpg', '/content/drive/MyDrive/Brain_tumor/Training/pituitary/Tr-pi_0877.jpg', '/content/drive/MyDrive/Brain_tumor/Training/pituitary/Tr-pi_0149.jpg', '/content/drive/MyDrive/Brain_tumor/Training/notumor/Tr-no_1232.jpg', '/content/drive/MyDrive/Brain_tumor/Training/notumor/Tr-no_0185.jpg', '/content/drive/MyDrive/Brain_tumor/Training/glioma/Tr-gl_0957.jpg', '/content/drive/MyDrive/Brain_tumor/Training/notumor/Tr-no_0354.jpg', '/content/drive/MyDrive/Brain_tumor/Training/pituitary/Tr-pi_0856.jpg', '/content/drive/MyDrive/Brain_tumor/Training/glioma/Tr-gl_0454.jpg', '/content/drive/MyDrive/Brain_tumor/Training/notumor/Tr-no_1069.jpg', '/content/drive/MyDrive/Brain_tumor/Training/notumor/Tr-no_0584.jpg', '/content/drive/MyDrive/Brain_tumor/Training/pituitary/Tr-pi_0222.jpg', '/content/drive/MyDrive/Brain_tumor/Training/meningioma/Tr-me_0412.jpg', '/content/drive/MyDrive/Brain_tumor/Training/notumor/Tr-no_0244.jpg', '/content/drive/MyDrive/Brain_tumor/Training/meningioma/Tr-me_0424.jpg', '/content/drive/MyDrive/Brain_tumor/Training/meningioma/Tr-me_0281.jpg', '/content/drive/MyDrive/Brain_tumor/Training/pituitary/Tr-pi_1366.jpg', '/content/drive/MyDrive/Brain_tumor/Training/pituitary/Tr-pi_0613.jpg', '/content/drive/MyDrive/Brain_tumor/Training/glioma/Tr-gl_0568.jpg', '/content/drive/MyDrive/Brain_tumor/Training/notumor/Tr-no_0990.jpg', '/content/drive/MyDrive/Brain_tumor/Training/glioma/Tr-gl_0033.jpg', '/content/drive/MyDrive/Brain_tumor/Training/notumor/Tr-no_0229.jpg', '/content/drive/MyDrive/Brain_tumor/Training/meningioma/Tr-me_1338.jpg', '/content/drive/MyDrive/Brain_tumor/Training/pituitary/Tr-pi_0939.jpg', '/content/drive/MyDrive/Brain_tumor/Training/meningioma/Tr-me_0290.jpg', '/content/drive/MyDrive/Brain_tumor/Training/pituitary/Tr-pi_0011.jpg', '/content/drive/MyDrive/Brain_tumor/Training/pituitary/Tr-pi_1297.jpg', '/content/drive/MyDrive/Brain_tumor/Training/meningioma/Tr-me_0796.jpg', '/content/drive/MyDrive/Brain_tumor/Training/notumor/Tr-no_0852.jpg', '/content/drive/MyDrive/Brain_tumor/Training/meningioma/Tr-me_0606.jpg', '/content/drive/MyDrive/Brain_tumor/Training/notumor/Tr-no_0057.jpg', '/content/drive/MyDrive/Brain_tumor/Training/meningioma/Tr-me_0517.jpg', '/content/drive/MyDrive/Brain_tumor/Training/notumor/Tr-no_1251.jpg', '/content/drive/MyDrive/Brain_tumor/Training/meningioma/Tr-me_0772.jpg', '/content/drive/MyDrive/Brain_tumor/Training/meningioma/Tr-me_0746.jpg', '/content/drive/MyDrive/Brain_tumor/Training/pituitary/Tr-pi_0280.jpg', '/content/drive/MyDrive/Brain_tumor/Training/meningioma/Tr-me_0688.jpg', '/content/drive/MyDrive/Brain_tumor/Training/meningioma/Tr-me_0873.jpg', '/content/drive/MyDrive/Brain_tumor/Training/notumor/Tr-no_1077.jpg', '/content/drive/MyDrive/Brain_tumor/Training/meningioma/Tr-me_0122.jpg', '/content/drive/MyDrive/Brain_tumor/Training/notumor/Tr-no_1234.jpg', '/content/drive/MyDrive/Brain_tumor/Training/pituitary/Tr-pi_0998.jpg', '/content/drive/MyDrive/Brain_tumor/Training/glioma/Tr-gl_0361.jpg', '/content/drive/MyDrive/Brain_tumor/Training/notumor/Tr-no_1443.jpg', '/content/drive/MyDrive/Brain_tumor/Training/notumor/Tr-no_0582.jpg', '/content/drive/MyDrive/Brain_tumor/Training/pituitary/Tr-pi_1371.jpg', '/content/drive/MyDrive/Brain_tumor/Training/notumor/Tr-no_0711.jpg', '/content/drive/MyDrive/Brain_tumor/Training/notumor/Tr-no_1091.jpg', '/content/drive/MyDrive/Brain_tumor/Training/glioma/Tr-gl_0179.jpg', '/content/drive/MyDrive/Brain_tumor/Training/glioma/Tr-gl_0163.jpg', '/content/drive/MyDrive/Brain_tumor/Training/pituitary/Tr-pi_0025.jpg', '/content/drive/MyDrive/Brain_tumor/Training/notumor/Tr-no_0386.jpg', '/content/drive/MyDrive/Brain_tumor/Training/glioma/Tr-gl_0968.jpg', '/content/drive/MyDrive/Brain_tumor/Training/meningioma/Tr-me_0289.jpg', '/content/drive/MyDrive/Brain_tumor/Training/glioma/Tr-gl_1294.jpg', '/content/drive/MyDrive/Brain_tumor/Training/glioma/Tr-gl_0998.jpg', '/content/drive/MyDrive/Brain_tumor/Training/notumor/Tr-no_0051.jpg', '/content/drive/MyDrive/Brain_tumor/Training/notumor/Tr-no_1393.jpg', '/content/drive/MyDrive/Brain_tumor/Training/glioma/Tr-gl_0512.jpg', '/content/drive/MyDrive/Brain_tumor/Training/notumor/Tr-no_0454.jpg', '/content/drive/MyDrive/Brain_tumor/Training/pituitary/Tr-pi_1133.jpg', '/content/drive/MyDrive/Brain_tumor/Training/pituitary/Tr-pi_0584.jpg', '/content/drive/MyDrive/Brain_tumor/Training/meningioma/Tr-me_1301.jpg', '/content/drive/MyDrive/Brain_tumor/Training/notumor/Tr-no_0251.jpg', '/content/drive/MyDrive/Brain_tumor/Training/pituitary/Tr-pi_1316.jpg', '/content/drive/MyDrive/Brain_tumor/Training/meningioma/Tr-me_1268.jpg', '/content/drive/MyDrive/Brain_tumor/Training/notumor/Tr-no_1368.jpg', '/content/drive/MyDrive/Brain_tumor/Training/meningioma/Tr-me_1114.jpg', '/content/drive/MyDrive/Brain_tumor/Training/notumor/Tr-no_0813.jpg', '/content/drive/MyDrive/Brain_tumor/Training/meningioma/Tr-me_0843.jpg', '/content/drive/MyDrive/Brain_tumor/Training/meningioma/Tr-me_0742.jpg', '/content/drive/MyDrive/Brain_tumor/Training/notumor/Tr-no_0200.jpg', '/content/drive/MyDrive/Brain_tumor/Training/pituitary/Tr-pi_0516.jpg', '/content/drive/MyDrive/Brain_tumor/Training/meningioma/Tr-me_0106.jpg', '/content/drive/MyDrive/Brain_tumor/Training/notumor/Tr-no_0363.jpg', '/content/drive/MyDrive/Brain_tumor/Training/pituitary/Tr-pi_1093.jpg', '/content/drive/MyDrive/Brain_tumor/Training/notumor/Tr-no_1345.jpg', '/content/drive/MyDrive/Brain_tumor/Training/meningioma/Tr-me_0187.jpg', '/content/drive/MyDrive/Brain_tumor/Training/meningioma/Tr-me_0449.jpg', '/content/drive/MyDrive/Brain_tumor/Training/notumor/Tr-no_0853.jpg', '/content/drive/MyDrive/Brain_tumor/Training/glioma/Tr-gl_0234.jpg', '/content/drive/MyDrive/Brain_tumor/Training/glioma/Tr-gl_0511.jpg', '/content/drive/MyDrive/Brain_tumor/Training/notumor/Tr-no_0115.jpg', '/content/drive/MyDrive/Brain_tumor/Training/meningioma/Tr-me_0593.jpg', '/content/drive/MyDrive/Brain_tumor/Training/glioma/Tr-gl_0272.jpg', '/content/drive/MyDrive/Brain_tumor/Training/meningioma/Tr-me_1217.jpg', '/content/drive/MyDrive/Brain_tumor/Training/notumor/Tr-no_1503.jpg', '/content/drive/MyDrive/Brain_tumor/Training/pituitary/Tr-pi_0146.jpg', '/content/drive/MyDrive/Brain_tumor/Training/pituitary/Tr-pi_0521.jpg', '/content/drive/MyDrive/Brain_tumor/Training/notumor/Tr-no_0417.jpg', '/content/drive/MyDrive/Brain_tumor/Training/meningioma/Tr-me_0574.jpg', '/content/drive/MyDrive/Brain_tumor/Training/meningioma/Tr-me_0892.jpg', '/content/drive/MyDrive/Brain_tumor/Training/meningioma/Tr-me_0970.jpg', '/content/drive/MyDrive/Brain_tumor/Training/meningioma/Tr-me_0139.jpg', '/content/drive/MyDrive/Brain_tumor/Training/glioma/Tr-gl_0889.jpg', '/content/drive/MyDrive/Brain_tumor/Training/pituitary/Tr-pi_0965.jpg', '/content/drive/MyDrive/Brain_tumor/Training/glioma/Tr-gl_0128.jpg', '/content/drive/MyDrive/Brain_tumor/Training/notumor/Tr-no_0894.jpg', '/content/drive/MyDrive/Brain_tumor/Training/glioma/Tr-gl_0409.jpg', '/content/drive/MyDrive/Brain_tumor/Training/glioma/Tr-gl_0130.jpg', '/content/drive/MyDrive/Brain_tumor/Training/pituitary/Tr-pi_1184.jpg', '/content/drive/MyDrive/Brain_tumor/Training/pituitary/Tr-pi_0934.jpg', '/content/drive/MyDrive/Brain_tumor/Training/pituitary/Tr-pi_0833.jpg', '/content/drive/MyDrive/Brain_tumor/Training/glioma/Tr-gl_0367.jpg', '/content/drive/MyDrive/Brain_tumor/Training/notumor/Tr-no_0868.jpg', '/content/drive/MyDrive/Brain_tumor/Training/meningioma/Tr-me_1117.jpg', '/content/drive/MyDrive/Brain_tumor/Training/meningioma/Tr-me_0609.jpg', '/content/drive/MyDrive/Brain_tumor/Training/pituitary/Tr-pi_0409.jpg', '/content/drive/MyDrive/Brain_tumor/Training/notumor/Tr-no_0500.jpg', '/content/drive/MyDrive/Brain_tumor/Training/pituitary/Tr-piTr_0006.jpg', '/content/drive/MyDrive/Brain_tumor/Training/notumor/Tr-no_1310.jpg', '/content/drive/MyDrive/Brain_tumor/Training/notumor/Tr-no_1585.jpg', '/content/drive/MyDrive/Brain_tumor/Training/glioma/Tr-gl_0779.jpg', '/content/drive/MyDrive/Brain_tumor/Training/notumor/Tr-no_1371.jpg', '/content/drive/MyDrive/Brain_tumor/Training/notumor/Tr-no_0633.jpg', '/content/drive/MyDrive/Brain_tumor/Training/meningioma/Tr-me_0821.jpg', '/content/drive/MyDrive/Brain_tumor/Training/pituitary/Tr-pi_0032.jpg', '/content/drive/MyDrive/Brain_tumor/Training/notumor/Tr-no_0793.jpg', '/content/drive/MyDrive/Brain_tumor/Training/glioma/Tr-gl_1020.jpg', '/content/drive/MyDrive/Brain_tumor/Training/pituitary/Tr-pi_0022.jpg', '/content/drive/MyDrive/Brain_tumor/Training/pituitary/Tr-pi_0124.jpg', '/content/drive/MyDrive/Brain_tumor/Training/notumor/Tr-no_0700.jpg', '/content/drive/MyDrive/Brain_tumor/Training/notumor/Tr-no_1170.jpg', '/content/drive/MyDrive/Brain_tumor/Training/notumor/Tr-no_0806.jpg', '/content/drive/MyDrive/Brain_tumor/Training/glioma/Tr-gl_1279.jpg', '/content/drive/MyDrive/Brain_tumor/Training/glioma/Tr-gl_0816.jpg', '/content/drive/MyDrive/Brain_tumor/Training/notumor/Tr-no_0080.jpg', '/content/drive/MyDrive/Brain_tumor/Training/pituitary/Tr-pi_1434.jpg', '/content/drive/MyDrive/Brain_tumor/Training/pituitary/Tr-piTr_0008.jpg', '/content/drive/MyDrive/Brain_tumor/Training/meningioma/Tr-me_0505.jpg', '/content/drive/MyDrive/Brain_tumor/Training/notumor/Tr-no_0608.jpg', '/content/drive/MyDrive/Brain_tumor/Training/glioma/Tr-gl_0499.jpg', '/content/drive/MyDrive/Brain_tumor/Training/pituitary/Tr-pi_0292.jpg', '/content/drive/MyDrive/Brain_tumor/Training/glioma/Tr-gl_0376.jpg', '/content/drive/MyDrive/Brain_tumor/Training/glioma/Tr-gl_0778.jpg', '/content/drive/MyDrive/Brain_tumor/Training/notumor/Tr-no_1058.jpg', '/content/drive/MyDrive/Brain_tumor/Training/glioma/Tr-gl_0323.jpg', '/content/drive/MyDrive/Brain_tumor/Training/notumor/Tr-no_0364.jpg', '/content/drive/MyDrive/Brain_tumor/Training/pituitary/Tr-pi_0593.jpg', '/content/drive/MyDrive/Brain_tumor/Training/notumor/Tr-no_0449.jpg', '/content/drive/MyDrive/Brain_tumor/Training/meningioma/Tr-me_1076.jpg', '/content/drive/MyDrive/Brain_tumor/Training/pituitary/Tr-pi_0501.jpg', '/content/drive/MyDrive/Brain_tumor/Training/glioma/Tr-glTr_0006.jpg', '/content/drive/MyDrive/Brain_tumor/Training/glioma/Tr-gl_1038.jpg', '/content/drive/MyDrive/Brain_tumor/Training/notumor/Tr-no_0507.jpg', '/content/drive/MyDrive/Brain_tumor/Training/pituitary/Tr-pi_0802.jpg', '/content/drive/MyDrive/Brain_tumor/Training/glioma/Tr-gl_1086.jpg', '/content/drive/MyDrive/Brain_tumor/Training/notumor/Tr-no_1230.jpg', '/content/drive/MyDrive/Brain_tumor/Training/notumor/Tr-no_0308.jpg', '/content/drive/MyDrive/Brain_tumor/Training/pituitary/Tr-pi_1416.jpg', '/content/drive/MyDrive/Brain_tumor/Training/notumor/Tr-no_1187.jpg', '/content/drive/MyDrive/Brain_tumor/Training/glioma/Tr-gl_1034.jpg', '/content/drive/MyDrive/Brain_tumor/Training/glioma/Tr-gl_0701.jpg', '/content/drive/MyDrive/Brain_tumor/Training/meningioma/Tr-me_0902.jpg', '/content/drive/MyDrive/Brain_tumor/Training/meningioma/Tr-me_1190.jpg', '/content/drive/MyDrive/Brain_tumor/Training/glioma/Tr-gl_1183.jpg', '/content/drive/MyDrive/Brain_tumor/Training/pituitary/Tr-pi_0536.jpg', '/content/drive/MyDrive/Brain_tumor/Training/notumor/Tr-no_1294.jpg', '/content/drive/MyDrive/Brain_tumor/Training/meningioma/Tr-me_0749.jpg', '/content/drive/MyDrive/Brain_tumor/Training/pituitary/Tr-pi_0051.jpg', '/content/drive/MyDrive/Brain_tumor/Training/notumor/Tr-no_0653.jpg', '/content/drive/MyDrive/Brain_tumor/Training/notumor/Tr-no_0799.jpg', '/content/drive/MyDrive/Brain_tumor/Training/meningioma/Tr-me_0316.jpg', '/content/drive/MyDrive/Brain_tumor/Training/glioma/Tr-gl_0250.jpg', '/content/drive/MyDrive/Brain_tumor/Training/notumor/Tr-no_0777.jpg', '/content/drive/MyDrive/Brain_tumor/Training/pituitary/Tr-pi_1021.jpg', '/content/drive/MyDrive/Brain_tumor/Training/notumor/Tr-no_1559.jpg', '/content/drive/MyDrive/Brain_tumor/Training/glioma/Tr-gl_0458.jpg', '/content/drive/MyDrive/Brain_tumor/Training/pituitary/Tr-pi_0076.jpg', '/content/drive/MyDrive/Brain_tumor/Training/pituitary/Tr-pi_1414.jpg', '/content/drive/MyDrive/Brain_tumor/Training/glioma/Tr-gl_0958.jpg', '/content/drive/MyDrive/Brain_tumor/Training/pituitary/Tr-pi_1380.jpg', '/content/drive/MyDrive/Brain_tumor/Training/pituitary/Tr-pi_0956.jpg', '/content/drive/MyDrive/Brain_tumor/Training/meningioma/Tr-me_0247.jpg', '/content/drive/MyDrive/Brain_tumor/Training/meningioma/Tr-me_1062.jpg', '/content/drive/MyDrive/Brain_tumor/Training/pituitary/Tr-pi_1312.jpg', '/content/drive/MyDrive/Brain_tumor/Training/glioma/Tr-gl_1284.jpg', '/content/drive/MyDrive/Brain_tumor/Training/glioma/Tr-gl_0434.jpg', '/content/drive/MyDrive/Brain_tumor/Training/glioma/Tr-gl_0296.jpg', '/content/drive/MyDrive/Brain_tumor/Training/pituitary/Tr-pi_0734.jpg', '/content/drive/MyDrive/Brain_tumor/Training/pituitary/Tr-pi_0796.jpg', '/content/drive/MyDrive/Brain_tumor/Training/pituitary/Tr-pi_0345.jpg', '/content/drive/MyDrive/Brain_tumor/Training/glioma/Tr-gl_1235.jpg', '/content/drive/MyDrive/Brain_tumor/Training/pituitary/Tr-pi_0230.jpg', '/content/drive/MyDrive/Brain_tumor/Training/notumor/Tr-no_0669.jpg', '/content/drive/MyDrive/Brain_tumor/Training/notumor/Tr-no_0138.jpg', '/content/drive/MyDrive/Brain_tumor/Training/notumor/Tr-noTr_0001.jpg', '/content/drive/MyDrive/Brain_tumor/Training/glioma/Tr-gl_0775.jpg', '/content/drive/MyDrive/Brain_tumor/Training/notumor/Tr-no_0250.jpg', '/content/drive/MyDrive/Brain_tumor/Training/pituitary/Tr-pi_0136.jpg', '/content/drive/MyDrive/Brain_tumor/Training/pituitary/Tr-pi_0225.jpg', '/content/drive/MyDrive/Brain_tumor/Training/notumor/Tr-no_1382.jpg', '/content/drive/MyDrive/Brain_tumor/Training/glioma/Tr-gl_1242.jpg', '/content/drive/MyDrive/Brain_tumor/Training/glioma/Tr-gl_0422.jpg', '/content/drive/MyDrive/Brain_tumor/Training/meningioma/Tr-me_0414.jpg', '/content/drive/MyDrive/Brain_tumor/Training/notumor/Tr-no_0668.jpg', '/content/drive/MyDrive/Brain_tumor/Training/pituitary/Tr-pi_1453.jpg', '/content/drive/MyDrive/Brain_tumor/Training/pituitary/Tr-pi_0263.jpg', '/content/drive/MyDrive/Brain_tumor/Training/glioma/Tr-gl_0587.jpg', '/content/drive/MyDrive/Brain_tumor/Training/pituitary/Tr-pi_0977.jpg', '/content/drive/MyDrive/Brain_tumor/Training/pituitary/Tr-pi_0143.jpg', '/content/drive/MyDrive/Brain_tumor/Training/pituitary/Tr-pi_0577.jpg', '/content/drive/MyDrive/Brain_tumor/Training/pituitary/Tr-pi_0645.jpg', '/content/drive/MyDrive/Brain_tumor/Training/notumor/Tr-no_0644.jpg', '/content/drive/MyDrive/Brain_tumor/Training/pituitary/Tr-pi_1143.jpg', '/content/drive/MyDrive/Brain_tumor/Training/pituitary/Tr-pi_0820.jpg', '/content/drive/MyDrive/Brain_tumor/Training/pituitary/Tr-pi_1441.jpg', '/content/drive/MyDrive/Brain_tumor/Training/pituitary/Tr-pi_0508.jpg', '/content/drive/MyDrive/Brain_tumor/Training/meningioma/Tr-me_0286.jpg', '/content/drive/MyDrive/Brain_tumor/Training/notumor/Tr-no_1160.jpg', '/content/drive/MyDrive/Brain_tumor/Training/meningioma/Tr-me_1316.jpg', '/content/drive/MyDrive/Brain_tumor/Training/notumor/Tr-no_0085.jpg', '/content/drive/MyDrive/Brain_tumor/Training/pituitary/Tr-pi_0719.jpg', '/content/drive/MyDrive/Brain_tumor/Training/pituitary/Tr-pi_0127.jpg', '/content/drive/MyDrive/Brain_tumor/Training/notumor/Tr-no_1203.jpg', '/content/drive/MyDrive/Brain_tumor/Training/meningioma/Tr-me_1323.jpg', '/content/drive/MyDrive/Brain_tumor/Training/pituitary/Tr-pi_0915.jpg', '/content/drive/MyDrive/Brain_tumor/Training/notumor/Tr-no_0996.jpg', '/content/drive/MyDrive/Brain_tumor/Training/meningioma/Tr-me_0525.jpg', '/content/drive/MyDrive/Brain_tumor/Training/pituitary/Tr-pi_0440.jpg', '/content/drive/MyDrive/Brain_tumor/Training/glioma/Tr-gl_0404.jpg', '/content/drive/MyDrive/Brain_tumor/Training/notumor/Tr-no_0478.jpg', '/content/drive/MyDrive/Brain_tumor/Training/meningioma/Tr-me_1156.jpg', '/content/drive/MyDrive/Brain_tumor/Training/notumor/Tr-no_0168.jpg', '/content/drive/MyDrive/Brain_tumor/Training/glioma/Tr-gl_0172.jpg', '/content/drive/MyDrive/Brain_tumor/Training/notumor/Tr-no_0390.jpg', '/content/drive/MyDrive/Brain_tumor/Training/pituitary/Tr-pi_0232.jpg', '/content/drive/MyDrive/Brain_tumor/Training/notumor/Tr-no_0910.jpg', '/content/drive/MyDrive/Brain_tumor/Training/pituitary/Tr-pi_0283.jpg', '/content/drive/MyDrive/Brain_tumor/Training/notumor/Tr-no_0854.jpg', '/content/drive/MyDrive/Brain_tumor/Training/glioma/Tr-gl_1292.jpg', '/content/drive/MyDrive/Brain_tumor/Training/pituitary/Tr-pi_0920.jpg', '/content/drive/MyDrive/Brain_tumor/Training/pituitary/Tr-pi_0264.jpg', '/content/drive/MyDrive/Brain_tumor/Training/meningioma/Tr-me_0388.jpg', '/content/drive/MyDrive/Brain_tumor/Training/glioma/Tr-gl_0249.jpg', '/content/drive/MyDrive/Brain_tumor/Training/pituitary/Tr-pi_0048.jpg', '/content/drive/MyDrive/Brain_tumor/Training/pituitary/Tr-pi_0912.jpg', '/content/drive/MyDrive/Brain_tumor/Training/meningioma/Tr-me_0530.jpg', '/content/drive/MyDrive/Brain_tumor/Training/pituitary/Tr-pi_1405.jpg', '/content/drive/MyDrive/Brain_tumor/Training/notumor/Tr-no_1410.jpg', '/content/drive/MyDrive/Brain_tumor/Training/meningioma/Tr-me_0903.jpg', '/content/drive/MyDrive/Brain_tumor/Training/glioma/Tr-gl_0086.jpg', '/content/drive/MyDrive/Brain_tumor/Training/pituitary/Tr-pi_0839.jpg', '/content/drive/MyDrive/Brain_tumor/Training/meningioma/Tr-me_0350.jpg', '/content/drive/MyDrive/Brain_tumor/Training/notumor/Tr-no_0580.jpg', '/content/drive/MyDrive/Brain_tumor/Training/pituitary/Tr-pi_0665.jpg', '/content/drive/MyDrive/Brain_tumor/Training/glioma/Tr-gl_0837.jpg', '/content/drive/MyDrive/Brain_tumor/Training/notumor/Tr-no_1035.jpg', '/content/drive/MyDrive/Brain_tumor/Training/meningioma/Tr-me_0322.jpg', '/content/drive/MyDrive/Brain_tumor/Training/pituitary/Tr-pi_0612.jpg', '/content/drive/MyDrive/Brain_tumor/Training/glioma/Tr-gl_0457.jpg', '/content/drive/MyDrive/Brain_tumor/Training/pituitary/Tr-pi_0858.jpg', '/content/drive/MyDrive/Brain_tumor/Training/meningioma/Tr-me_0131.jpg', '/content/drive/MyDrive/Brain_tumor/Training/notumor/Tr-no_0355.jpg', '/content/drive/MyDrive/Brain_tumor/Training/notumor/Tr-no_1134.jpg', '/content/drive/MyDrive/Brain_tumor/Training/notumor/Tr-no_1478.jpg', '/content/drive/MyDrive/Brain_tumor/Training/notumor/Tr-no_1277.jpg', '/content/drive/MyDrive/Brain_tumor/Training/glioma/Tr-gl_0065.jpg', '/content/drive/MyDrive/Brain_tumor/Training/meningioma/Tr-me_0616.jpg', '/content/drive/MyDrive/Brain_tumor/Training/notumor/Tr-no_0155.jpg', '/content/drive/MyDrive/Brain_tumor/Training/glioma/Tr-gl_0959.jpg', '/content/drive/MyDrive/Brain_tumor/Training/meningioma/Tr-me_1044.jpg', '/content/drive/MyDrive/Brain_tumor/Training/notumor/Tr-no_0680.jpg', '/content/drive/MyDrive/Brain_tumor/Training/glioma/Tr-gl_1307.jpg', '/content/drive/MyDrive/Brain_tumor/Training/pituitary/Tr-pi_1356.jpg', '/content/drive/MyDrive/Brain_tumor/Training/glioma/Tr-gl_0943.jpg', '/content/drive/MyDrive/Brain_tumor/Training/notumor/Tr-no_0518.jpg', '/content/drive/MyDrive/Brain_tumor/Training/glioma/Tr-gl_0208.jpg', '/content/drive/MyDrive/Brain_tumor/Training/pituitary/Tr-pi_0943.jpg', '/content/drive/MyDrive/Brain_tumor/Training/notumor/Tr-no_0563.jpg', '/content/drive/MyDrive/Brain_tumor/Training/pituitary/Tr-pi_0044.jpg', '/content/drive/MyDrive/Brain_tumor/Training/meningioma/Tr-me_0712.jpg', '/content/drive/MyDrive/Brain_tumor/Training/glioma/Tr-gl_1089.jpg', '/content/drive/MyDrive/Brain_tumor/Training/meningioma/Tr-me_0363.jpg', '/content/drive/MyDrive/Brain_tumor/Training/glioma/Tr-gl_0084.jpg', '/content/drive/MyDrive/Brain_tumor/Training/pituitary/Tr-pi_0779.jpg', '/content/drive/MyDrive/Brain_tumor/Training/pituitary/Tr-pi_0307.jpg', '/content/drive/MyDrive/Brain_tumor/Training/notumor/Tr-no_0891.jpg', '/content/drive/MyDrive/Brain_tumor/Training/pituitary/Tr-pi_0533.jpg', '/content/drive/MyDrive/Brain_tumor/Training/glioma/Tr-gl_1061.jpg', '/content/drive/MyDrive/Brain_tumor/Training/meningioma/Tr-me_0713.jpg', '/content/drive/MyDrive/Brain_tumor/Training/glioma/Tr-gl_0017.jpg', '/content/drive/MyDrive/Brain_tumor/Training/notumor/Tr-no_0272.jpg', '/content/drive/MyDrive/Brain_tumor/Training/notumor/Tr-no_0626.jpg', '/content/drive/MyDrive/Brain_tumor/Training/glioma/Tr-gl_0962.jpg', '/content/drive/MyDrive/Brain_tumor/Training/meningioma/Tr-me_0678.jpg', '/content/drive/MyDrive/Brain_tumor/Training/meningioma/Tr-me_0720.jpg', '/content/drive/MyDrive/Brain_tumor/Training/pituitary/Tr-pi_0751.jpg', '/content/drive/MyDrive/Brain_tumor/Training/meningioma/Tr-me_0587.jpg', '/content/drive/MyDrive/Brain_tumor/Training/notumor/Tr-no_0690.jpg', '/content/drive/MyDrive/Brain_tumor/Training/pituitary/Tr-pi_0459.jpg', '/content/drive/MyDrive/Brain_tumor/Training/pituitary/Tr-pi_0712.jpg', '/content/drive/MyDrive/Brain_tumor/Training/notumor/Tr-no_0587.jpg', '/content/drive/MyDrive/Brain_tumor/Training/glioma/Tr-gl_0194.jpg', '/content/drive/MyDrive/Brain_tumor/Training/notumor/Tr-no_1328.jpg', '/content/drive/MyDrive/Brain_tumor/Training/notumor/Tr-no_1355.jpg', '/content/drive/MyDrive/Brain_tumor/Training/notumor/Tr-no_0326.jpg', '/content/drive/MyDrive/Brain_tumor/Training/meningioma/Tr-me_0200.jpg', '/content/drive/MyDrive/Brain_tumor/Training/pituitary/Tr-pi_1102.jpg', '/content/drive/MyDrive/Brain_tumor/Training/notumor/Tr-no_0078.jpg', '/content/drive/MyDrive/Brain_tumor/Training/meningioma/Tr-me_0453.jpg', '/content/drive/MyDrive/Brain_tumor/Training/notumor/Tr-no_0025.jpg', '/content/drive/MyDrive/Brain_tumor/Training/notumor/Tr-no_0947.jpg', '/content/drive/MyDrive/Brain_tumor/Training/glioma/Tr-gl_0070.jpg', '/content/drive/MyDrive/Brain_tumor/Training/glioma/Tr-gl_0036.jpg', '/content/drive/MyDrive/Brain_tumor/Training/notumor/Tr-no_0986.jpg', '/content/drive/MyDrive/Brain_tumor/Training/glioma/Tr-gl_0974.jpg', '/content/drive/MyDrive/Brain_tumor/Training/notumor/Tr-no_0031.jpg', '/content/drive/MyDrive/Brain_tumor/Training/pituitary/Tr-pi_0467.jpg', '/content/drive/MyDrive/Brain_tumor/Training/glioma/Tr-gl_0468.jpg', '/content/drive/MyDrive/Brain_tumor/Training/pituitary/Tr-pi_1007.jpg', '/content/drive/MyDrive/Brain_tumor/Training/notumor/Tr-no_0604.jpg', '/content/drive/MyDrive/Brain_tumor/Training/notumor/Tr-no_0050.jpg', '/content/drive/MyDrive/Brain_tumor/Training/glioma/Tr-gl_0235.jpg', '/content/drive/MyDrive/Brain_tumor/Training/glioma/Tr-gl_0806.jpg', '/content/drive/MyDrive/Brain_tumor/Training/glioma/Tr-gl_1068.jpg', '/content/drive/MyDrive/Brain_tumor/Training/glioma/Tr-gl_0939.jpg', '/content/drive/MyDrive/Brain_tumor/Training/pituitary/Tr-pi_0245.jpg', '/content/drive/MyDrive/Brain_tumor/Training/meningioma/Tr-me_1164.jpg', '/content/drive/MyDrive/Brain_tumor/Training/glioma/Tr-gl_0341.jpg', '/content/drive/MyDrive/Brain_tumor/Training/meningioma/Tr-me_0604.jpg', '/content/drive/MyDrive/Brain_tumor/Training/meningioma/Tr-me_0241.jpg', '/content/drive/MyDrive/Brain_tumor/Training/pituitary/Tr-pi_1185.jpg', '/content/drive/MyDrive/Brain_tumor/Training/glioma/Tr-gl_1006.jpg', '/content/drive/MyDrive/Brain_tumor/Training/meningioma/Tr-me_0097.jpg', '/content/drive/MyDrive/Brain_tumor/Training/pituitary/Tr-pi_1115.jpg', '/content/drive/MyDrive/Brain_tumor/Training/pituitary/Tr-pi_1320.jpg', '/content/drive/MyDrive/Brain_tumor/Training/glioma/Tr-gl_0508.jpg', '/content/drive/MyDrive/Brain_tumor/Training/meningioma/Tr-me_1074.jpg', '/content/drive/MyDrive/Brain_tumor/Training/pituitary/Tr-pi_0892.jpg', '/content/drive/MyDrive/Brain_tumor/Training/notumor/Tr-no_1492.jpg', '/content/drive/MyDrive/Brain_tumor/Training/glioma/Tr-gl_0851.jpg', '/content/drive/MyDrive/Brain_tumor/Training/notumor/Tr-no_0208 (1).jpg', '/content/drive/MyDrive/Brain_tumor/Training/glioma/Tr-gl_0800.jpg', '/content/drive/MyDrive/Brain_tumor/Training/pituitary/Tr-pi_1045.jpg', '/content/drive/MyDrive/Brain_tumor/Training/notumor/Tr-no_0329.jpg', '/content/drive/MyDrive/Brain_tumor/Training/notumor/Tr-no_1473.jpg', '/content/drive/MyDrive/Brain_tumor/Training/notumor/Tr-no_0130.jpg', '/content/drive/MyDrive/Brain_tumor/Training/pituitary/Tr-pi_0753.jpg', '/content/drive/MyDrive/Brain_tumor/Training/pituitary/Tr-pi_1019.jpg', '/content/drive/MyDrive/Brain_tumor/Training/glioma/Tr-gl_0888.jpg', '/content/drive/MyDrive/Brain_tumor/Training/pituitary/Tr-pi_0946.jpg', '/content/drive/MyDrive/Brain_tumor/Training/notumor/Tr-no_0816 (1).jpg', '/content/drive/MyDrive/Brain_tumor/Training/notumor/Tr-no_1109.jpg', '/content/drive/MyDrive/Brain_tumor/Training/pituitary/Tr-pi_0794.jpg', '/content/drive/MyDrive/Brain_tumor/Training/glioma/Tr-gl_0538.jpg', '/content/drive/MyDrive/Brain_tumor/Training/pituitary/Tr-pi_0648.jpg', '/content/drive/MyDrive/Brain_tumor/Training/pituitary/Tr-pi_1449.jpg', '/content/drive/MyDrive/Brain_tumor/Training/notumor/Tr-no_0304.jpg', '/content/drive/MyDrive/Brain_tumor/Training/meningioma/Tr-me_0551.jpg', '/content/drive/MyDrive/Brain_tumor/Training/meningioma/Tr-me_0958.jpg', '/content/drive/MyDrive/Brain_tumor/Training/glioma/Tr-gl_0396.jpg', '/content/drive/MyDrive/Brain_tumor/Training/pituitary/Tr-pi_0172.jpg', '/content/drive/MyDrive/Brain_tumor/Training/meningioma/Tr-me_0150.jpg', '/content/drive/MyDrive/Brain_tumor/Training/pituitary/Tr-pi_0785.jpg', '/content/drive/MyDrive/Brain_tumor/Training/notumor/Tr-no_0745.jpg', '/content/drive/MyDrive/Brain_tumor/Training/glioma/Tr-gl_0675.jpg', '/content/drive/MyDrive/Brain_tumor/Training/meningioma/Tr-me_0128.jpg', '/content/drive/MyDrive/Brain_tumor/Training/meningioma/Tr-me_1293.jpg', '/content/drive/MyDrive/Brain_tumor/Training/pituitary/Tr-pi_0425.jpg', '/content/drive/MyDrive/Brain_tumor/Training/meningioma/Tr-me_0646.jpg', '/content/drive/MyDrive/Brain_tumor/Training/notumor/Tr-no_1548.jpg', '/content/drive/MyDrive/Brain_tumor/Training/meningioma/Tr-me_0825.jpg', '/content/drive/MyDrive/Brain_tumor/Training/glioma/Tr-gl_1240.jpg', '/content/drive/MyDrive/Brain_tumor/Training/glioma/Tr-gl_0535.jpg', '/content/drive/MyDrive/Brain_tumor/Training/notumor/Tr-no_1346.jpg', '/content/drive/MyDrive/Brain_tumor/Training/meningioma/Tr-me_0836.jpg', '/content/drive/MyDrive/Brain_tumor/Training/notumor/Tr-no_0647.jpg', '/content/drive/MyDrive/Brain_tumor/Training/meningioma/Tr-me_0231.jpg', '/content/drive/MyDrive/Brain_tumor/Training/notumor/Tr-no_0718.jpg', '/content/drive/MyDrive/Brain_tumor/Training/meningioma/Tr-me_0560.jpg', '/content/drive/MyDrive/Brain_tumor/Training/glioma/Tr-gl_0671.jpg', '/content/drive/MyDrive/Brain_tumor/Training/glioma/Tr-gl_0497.jpg', '/content/drive/MyDrive/Brain_tumor/Training/pituitary/Tr-pi_0094.jpg', '/content/drive/MyDrive/Brain_tumor/Training/meningioma/Tr-me_0304.jpg', '/content/drive/MyDrive/Brain_tumor/Training/notumor/Tr-no_1566.jpg', '/content/drive/MyDrive/Brain_tumor/Training/meningioma/Tr-me_0602.jpg', '/content/drive/MyDrive/Brain_tumor/Training/glioma/Tr-gl_0464.jpg', '/content/drive/MyDrive/Brain_tumor/Training/glioma/Tr-gl_1064.jpg', '/content/drive/MyDrive/Brain_tumor/Training/notumor/Tr-no_0289.jpg', '/content/drive/MyDrive/Brain_tumor/Training/glioma/Tr-gl_0956.jpg', '/content/drive/MyDrive/Brain_tumor/Training/glioma/Tr-gl_0996.jpg', '/content/drive/MyDrive/Brain_tumor/Training/notumor/Tr-no_0387.jpg', '/content/drive/MyDrive/Brain_tumor/Training/pituitary/Tr-pi_0209.jpg', '/content/drive/MyDrive/Brain_tumor/Training/notumor/Tr-no_0090.jpg', '/content/drive/MyDrive/Brain_tumor/Training/meningioma/Tr-me_1326.jpg', '/content/drive/MyDrive/Brain_tumor/Training/notumor/Tr-no_1003.jpg', '/content/drive/MyDrive/Brain_tumor/Training/pituitary/Tr-pi_0210.jpg', '/content/drive/MyDrive/Brain_tumor/Training/glioma/Tr-gl_1111.jpg', '/content/drive/MyDrive/Brain_tumor/Training/meningioma/Tr-me_0582.jpg', '/content/drive/MyDrive/Brain_tumor/Training/meningioma/Tr-me_0864.jpg', '/content/drive/MyDrive/Brain_tumor/Training/glioma/Tr-gl_0767.jpg', '/content/drive/MyDrive/Brain_tumor/Training/glioma/Tr-gl_0870.jpg', '/content/drive/MyDrive/Brain_tumor/Training/pituitary/Tr-pi_0797.jpg', '/content/drive/MyDrive/Brain_tumor/Training/pituitary/Tr-pi_1098.jpg', '/content/drive/MyDrive/Brain_tumor/Training/pituitary/Tr-pi_1041.jpg', '/content/drive/MyDrive/Brain_tumor/Training/pituitary/Tr-pi_0762.jpg', '/content/drive/MyDrive/Brain_tumor/Training/meningioma/Tr-me_0831.jpg', '/content/drive/MyDrive/Brain_tumor/Training/meningioma/Tr-me_0087.jpg', '/content/drive/MyDrive/Brain_tumor/Training/glioma/Tr-gl_0181.jpg', '/content/drive/MyDrive/Brain_tumor/Training/meningioma/Tr-me_0051.jpg', '/content/drive/MyDrive/Brain_tumor/Training/glioma/Tr-gl_0279.jpg', '/content/drive/MyDrive/Brain_tumor/Training/meningioma/Tr-me_1046.jpg', '/content/drive/MyDrive/Brain_tumor/Training/pituitary/Tr-pi_0282.jpg', '/content/drive/MyDrive/Brain_tumor/Training/pituitary/Tr-pi_0705.jpg', '/content/drive/MyDrive/Brain_tumor/Training/meningioma/Tr-me_0468.jpg', '/content/drive/MyDrive/Brain_tumor/Training/meningioma/Tr-me_0682.jpg', '/content/drive/MyDrive/Brain_tumor/Training/pituitary/Tr-pi_0954.jpg', '/content/drive/MyDrive/Brain_tumor/Training/pituitary/Tr-pi_0346.jpg', '/content/drive/MyDrive/Brain_tumor/Training/notumor/Tr-no_1259.jpg', '/content/drive/MyDrive/Brain_tumor/Training/glioma/Tr-gl_1000.jpg', '/content/drive/MyDrive/Brain_tumor/Training/meningioma/Tr-me_0091.jpg', '/content/drive/MyDrive/Brain_tumor/Training/meningioma/Tr-me_0288.jpg', '/content/drive/MyDrive/Brain_tumor/Training/glioma/Tr-gl_0463.jpg', '/content/drive/MyDrive/Brain_tumor/Training/pituitary/Tr-pi_0363.jpg', '/content/drive/MyDrive/Brain_tumor/Training/notumor/Tr-no_0952.jpg', '/content/drive/MyDrive/Brain_tumor/Training/glioma/Tr-gl_0459.jpg', '/content/drive/MyDrive/Brain_tumor/Training/glioma/Tr-gl_0197.jpg', '/content/drive/MyDrive/Brain_tumor/Training/meningioma/Tr-me_0974.jpg', '/content/drive/MyDrive/Brain_tumor/Training/glioma/Tr-gl_1198.jpg', '/content/drive/MyDrive/Brain_tumor/Training/notumor/Tr-no_1076.jpg', '/content/drive/MyDrive/Brain_tumor/Training/pituitary/Tr-pi_0235.jpg', '/content/drive/MyDrive/Brain_tumor/Training/meningioma/Tr-me_0370.jpg', '/content/drive/MyDrive/Brain_tumor/Training/glioma/Tr-gl_0150.jpg', '/content/drive/MyDrive/Brain_tumor/Training/glioma/Tr-gl_0797.jpg', '/content/drive/MyDrive/Brain_tumor/Training/notumor/Tr-no_1217.jpg', '/content/drive/MyDrive/Brain_tumor/Training/meningioma/Tr-me_0110.jpg', '/content/drive/MyDrive/Brain_tumor/Training/pituitary/Tr-pi_1340.jpg', '/content/drive/MyDrive/Brain_tumor/Training/notumor/Tr-no_0801.jpg', '/content/drive/MyDrive/Brain_tumor/Training/notumor/Tr-no_1111.jpg', '/content/drive/MyDrive/Brain_tumor/Training/glioma/Tr-gl_0315.jpg', '/content/drive/MyDrive/Brain_tumor/Training/pituitary/Tr-pi_0594.jpg', '/content/drive/MyDrive/Brain_tumor/Training/glioma/Tr-gl_0846.jpg', '/content/drive/MyDrive/Brain_tumor/Training/pituitary/Tr-pi_0248.jpg', '/content/drive/MyDrive/Brain_tumor/Training/meningioma/Tr-me_0758.jpg', '/content/drive/MyDrive/Brain_tumor/Training/notumor/Tr-no_1079.jpg', '/content/drive/MyDrive/Brain_tumor/Training/glioma/Tr-gl_0726.jpg', '/content/drive/MyDrive/Brain_tumor/Training/pituitary/Tr-pi_1135.jpg', '/content/drive/MyDrive/Brain_tumor/Training/glioma/Tr-gl_0484.jpg', '/content/drive/MyDrive/Brain_tumor/Training/meningioma/Tr-me_0146.jpg', '/content/drive/MyDrive/Brain_tumor/Training/pituitary/Tr-pi_0461.jpg', '/content/drive/MyDrive/Brain_tumor/Training/pituitary/Tr-pi_0148.jpg', '/content/drive/MyDrive/Brain_tumor/Training/notumor/Tr-no_0060.jpg', '/content/drive/MyDrive/Brain_tumor/Training/pituitary/Tr-pi_1282.jpg', '/content/drive/MyDrive/Brain_tumor/Training/meningioma/Tr-me_0637.jpg', '/content/drive/MyDrive/Brain_tumor/Training/notumor/Tr-no_0672.jpg', '/content/drive/MyDrive/Brain_tumor/Training/notumor/Tr-no_0883.jpg', '/content/drive/MyDrive/Brain_tumor/Training/glioma/Tr-gl_1087.jpg', '/content/drive/MyDrive/Brain_tumor/Training/pituitary/Tr-pi_0052.jpg', '/content/drive/MyDrive/Brain_tumor/Training/glioma/Tr-gl_0751.jpg', '/content/drive/MyDrive/Brain_tumor/Training/glioma/Tr-gl_0444.jpg', '/content/drive/MyDrive/Brain_tumor/Training/pituitary/Tr-pi_0780.jpg', '/content/drive/MyDrive/Brain_tumor/Training/glioma/Tr-gl_0950.jpg', '/content/drive/MyDrive/Brain_tumor/Training/notumor/Tr-no_1066.jpg', '/content/drive/MyDrive/Brain_tumor/Training/glioma/Tr-gl_0560.jpg', '/content/drive/MyDrive/Brain_tumor/Training/glioma/Tr-gl_0666.jpg', '/content/drive/MyDrive/Brain_tumor/Training/glioma/Tr-gl_0074.jpg', '/content/drive/MyDrive/Brain_tumor/Training/meningioma/Tr-me_0707.jpg', '/content/drive/MyDrive/Brain_tumor/Training/notumor/Tr-no_1449.jpg', '/content/drive/MyDrive/Brain_tumor/Training/pituitary/Tr-pi_0899.jpg', '/content/drive/MyDrive/Brain_tumor/Training/meningioma/Tr-me_0569.jpg', '/content/drive/MyDrive/Brain_tumor/Training/meningioma/Tr-me_1106.jpg', '/content/drive/MyDrive/Brain_tumor/Training/glioma/Tr-gl_0094.jpg', '/content/drive/MyDrive/Brain_tumor/Training/meningioma/Tr-me_0195.jpg', '/content/drive/MyDrive/Brain_tumor/Training/notumor/Tr-no_0143.jpg', '/content/drive/MyDrive/Brain_tumor/Training/pituitary/Tr-pi_1419.jpg', '/content/drive/MyDrive/Brain_tumor/Training/notumor/Tr-noTr_0004.jpg', '/content/drive/MyDrive/Brain_tumor/Training/glioma/Tr-gl_0245.jpg', '/content/drive/MyDrive/Brain_tumor/Training/pituitary/Tr-pi_0373.jpg', '/content/drive/MyDrive/Brain_tumor/Training/meningioma/Tr-me_0579.jpg', '/content/drive/MyDrive/Brain_tumor/Training/meningioma/Tr-me_0228.jpg', '/content/drive/MyDrive/Brain_tumor/Training/meningioma/Tr-me_0950.jpg', '/content/drive/MyDrive/Brain_tumor/Training/meningioma/Tr-me_0220.jpg', '/content/drive/MyDrive/Brain_tumor/Training/pituitary/Tr-pi_0091.jpg', '/content/drive/MyDrive/Brain_tumor/Training/notumor/Tr-no_1060.jpg', '/content/drive/MyDrive/Brain_tumor/Training/notumor/Tr-no_0993.jpg', '/content/drive/MyDrive/Brain_tumor/Training/notumor/Tr-no_0344.jpg', '/content/drive/MyDrive/Brain_tumor/Training/notumor/Tr-no_0150.jpg', '/content/drive/MyDrive/Brain_tumor/Training/notumor/Tr-no_0011.jpg', '/content/drive/MyDrive/Brain_tumor/Training/meningioma/Tr-me_0333.jpg', '/content/drive/MyDrive/Brain_tumor/Training/pituitary/Tr-pi_0125.jpg', '/content/drive/MyDrive/Brain_tumor/Training/notumor/Tr-no_1085.jpg', '/content/drive/MyDrive/Brain_tumor/Training/notumor/Tr-no_0681.jpg', '/content/drive/MyDrive/Brain_tumor/Training/notumor/Tr-no_0650.jpg', '/content/drive/MyDrive/Brain_tumor/Training/meningioma/Tr-me_1165.jpg', '/content/drive/MyDrive/Brain_tumor/Training/pituitary/Tr-pi_1383.jpg', '/content/drive/MyDrive/Brain_tumor/Training/meningioma/Tr-me_1238.jpg', '/content/drive/MyDrive/Brain_tumor/Training/glioma/Tr-gl_0298.jpg', '/content/drive/MyDrive/Brain_tumor/Training/glioma/Tr-gl_1063.jpg', '/content/drive/MyDrive/Brain_tumor/Training/notumor/Tr-no_0861.jpg', '/content/drive/MyDrive/Brain_tumor/Training/glioma/Tr-gl_0268.jpg', '/content/drive/MyDrive/Brain_tumor/Training/notumor/Tr-no_0987.jpg', '/content/drive/MyDrive/Brain_tumor/Training/glioma/Tr-gl_1150.jpg', '/content/drive/MyDrive/Brain_tumor/Training/notumor/Tr-no_0233.jpg', '/content/drive/MyDrive/Brain_tumor/Training/pituitary/Tr-pi_0756.jpg', '/content/drive/MyDrive/Brain_tumor/Training/pituitary/Tr-pi_0930.jpg', '/content/drive/MyDrive/Brain_tumor/Training/notumor/Tr-no_1408.jpg', '/content/drive/MyDrive/Brain_tumor/Training/pituitary/Tr-pi_0876.jpg', '/content/drive/MyDrive/Brain_tumor/Training/pituitary/Tr-pi_0879.jpg', '/content/drive/MyDrive/Brain_tumor/Training/glioma/Tr-gl_0708.jpg', '/content/drive/MyDrive/Brain_tumor/Training/notumor/Tr-no_0786.jpg', '/content/drive/MyDrive/Brain_tumor/Training/notumor/Tr-no_1159.jpg', '/content/drive/MyDrive/Brain_tumor/Training/meningioma/Tr-me_0737.jpg', '/content/drive/MyDrive/Brain_tumor/Training/pituitary/Tr-pi_0512.jpg', '/content/drive/MyDrive/Brain_tumor/Training/glioma/Tr-gl_0129.jpg', '/content/drive/MyDrive/Brain_tumor/Training/pituitary/Tr-pi_0700.jpg', '/content/drive/MyDrive/Brain_tumor/Training/meningioma/Tr-me_0132.jpg', '/content/drive/MyDrive/Brain_tumor/Training/meningioma/Tr-me_0404.jpg', '/content/drive/MyDrive/Brain_tumor/Training/meningioma/Tr-me_0155.jpg', '/content/drive/MyDrive/Brain_tumor/Training/meningioma/Tr-me_0535.jpg', '/content/drive/MyDrive/Brain_tumor/Training/glioma/Tr-gl_1213.jpg', '/content/drive/MyDrive/Brain_tumor/Training/notumor/Tr-no_0254.jpg', '/content/drive/MyDrive/Brain_tumor/Training/glioma/Tr-gl_0752.jpg', '/content/drive/MyDrive/Brain_tumor/Training/glioma/Tr-gl_0148.jpg', '/content/drive/MyDrive/Brain_tumor/Training/notumor/Tr-no_0072.jpg', '/content/drive/MyDrive/Brain_tumor/Training/glioma/Tr-gl_0903.jpg', '/content/drive/MyDrive/Brain_tumor/Training/glioma/Tr-gl_0282.jpg', '/content/drive/MyDrive/Brain_tumor/Training/meningioma/Tr-me_1201.jpg', '/content/drive/MyDrive/Brain_tumor/Training/meningioma/Tr-me_0973.jpg', '/content/drive/MyDrive/Brain_tumor/Training/pituitary/Tr-pi_0014.jpg', '/content/drive/MyDrive/Brain_tumor/Training/meningioma/Tr-me_1064.jpg', '/content/drive/MyDrive/Brain_tumor/Training/meningioma/Tr-me_0890.jpg', '/content/drive/MyDrive/Brain_tumor/Training/glioma/Tr-gl_1126.jpg', '/content/drive/MyDrive/Brain_tumor/Training/notumor/Tr-no_0963.jpg', '/content/drive/MyDrive/Brain_tumor/Training/notumor/Tr-no_1481.jpg', '/content/drive/MyDrive/Brain_tumor/Training/notumor/Tr-no_0798.jpg', '/content/drive/MyDrive/Brain_tumor/Training/notumor/Tr-no_0359.jpg', '/content/drive/MyDrive/Brain_tumor/Training/glioma/Tr-gl_0964.jpg', '/content/drive/MyDrive/Brain_tumor/Training/pituitary/Tr-pi_1148.jpg', '/content/drive/MyDrive/Brain_tumor/Training/glioma/Tr-gl_0045.jpg', '/content/drive/MyDrive/Brain_tumor/Training/notumor/Tr-no_1562.jpg', '/content/drive/MyDrive/Brain_tumor/Training/notumor/Tr-no_0886.jpg', '/content/drive/MyDrive/Brain_tumor/Training/pituitary/Tr-pi_0505.jpg', '/content/drive/MyDrive/Brain_tumor/Training/meningioma/Tr-me_0314.jpg', '/content/drive/MyDrive/Brain_tumor/Training/pituitary/Tr-pi_1032.jpg', '/content/drive/MyDrive/Brain_tumor/Training/notumor/Tr-no_0594.jpg', '/content/drive/MyDrive/Brain_tumor/Training/notumor/Tr-no_0089.jpg', '/content/drive/MyDrive/Brain_tumor/Training/notumor/Tr-no_0759.jpg', '/content/drive/MyDrive/Brain_tumor/Training/notumor/Tr-no_1228.jpg', '/content/drive/MyDrive/Brain_tumor/Training/glioma/Tr-gl_1217.jpg', '/content/drive/MyDrive/Brain_tumor/Training/pituitary/Tr-pi_0208.jpg', '/content/drive/MyDrive/Brain_tumor/Training/notumor/Tr-no_1260.jpg', '/content/drive/MyDrive/Brain_tumor/Training/meningioma/Tr-me_1239.jpg', '/content/drive/MyDrive/Brain_tumor/Training/glioma/Tr-gl_0494.jpg', '/content/drive/MyDrive/Brain_tumor/Training/notumor/Tr-no_0512.jpg', '/content/drive/MyDrive/Brain_tumor/Training/pituitary/Tr-pi_0684.jpg', '/content/drive/MyDrive/Brain_tumor/Training/glioma/Tr-gl_0562.jpg', '/content/drive/MyDrive/Brain_tumor/Training/meningioma/Tr-me_0079.jpg', '/content/drive/MyDrive/Brain_tumor/Training/meningioma/Tr-me_1241.jpg', '/content/drive/MyDrive/Brain_tumor/Training/meningioma/Tr-me_0376.jpg', '/content/drive/MyDrive/Brain_tumor/Training/glioma/Tr-gl_0034.jpg', '/content/drive/MyDrive/Brain_tumor/Training/pituitary/Tr-pi_1227.jpg', '/content/drive/MyDrive/Brain_tumor/Training/glioma/Tr-gl_1245.jpg', '/content/drive/MyDrive/Brain_tumor/Training/meningioma/Tr-me_1205.jpg', '/content/drive/MyDrive/Brain_tumor/Training/meningioma/Tr-me_0601.jpg', '/content/drive/MyDrive/Brain_tumor/Training/pituitary/Tr-pi_0369.jpg', '/content/drive/MyDrive/Brain_tumor/Training/meningioma/Tr-me_1130.jpg', '/content/drive/MyDrive/Brain_tumor/Training/notumor/Tr-no_1262.jpg', '/content/drive/MyDrive/Brain_tumor/Training/glioma/Tr-gl_0483.jpg', '/content/drive/MyDrive/Brain_tumor/Training/pituitary/Tr-pi_0518.jpg', '/content/drive/MyDrive/Brain_tumor/Training/pituitary/Tr-pi_0158.jpg', '/content/drive/MyDrive/Brain_tumor/Training/pituitary/Tr-pi_0831.jpg', '/content/drive/MyDrive/Brain_tumor/Training/notumor/Tr-no_0097.jpg', '/content/drive/MyDrive/Brain_tumor/Training/pituitary/Tr-pi_0760.jpg', '/content/drive/MyDrive/Brain_tumor/Training/notumor/Tr-no_0651.jpg', '/content/drive/MyDrive/Brain_tumor/Training/meningioma/Tr-me_0276.jpg', '/content/drive/MyDrive/Brain_tumor/Training/glioma/Tr-gl_0609.jpg', '/content/drive/MyDrive/Brain_tumor/Training/notumor/Tr-no_0916.jpg', '/content/drive/MyDrive/Brain_tumor/Training/pituitary/Tr-pi_1382.jpg', '/content/drive/MyDrive/Brain_tumor/Training/pituitary/Tr-pi_0555.jpg', '/content/drive/MyDrive/Brain_tumor/Training/notumor/Tr-no_0862.jpg', '/content/drive/MyDrive/Brain_tumor/Training/meningioma/Tr-me_0389.jpg', '/content/drive/MyDrive/Brain_tumor/Training/glioma/Tr-gl_0011.jpg', '/content/drive/MyDrive/Brain_tumor/Training/pituitary/Tr-pi_1100.jpg', '/content/drive/MyDrive/Brain_tumor/Training/glioma/Tr-gl_1219.jpg', '/content/drive/MyDrive/Brain_tumor/Training/pituitary/Tr-pi_1230.jpg', '/content/drive/MyDrive/Brain_tumor/Training/notumor/Tr-no_0098.jpg', '/content/drive/MyDrive/Brain_tumor/Training/meningioma/Tr-me_0925.jpg', '/content/drive/MyDrive/Brain_tumor/Training/glioma/Tr-gl_1159.jpg', '/content/drive/MyDrive/Brain_tumor/Training/notumor/Tr-no_0073.jpg', '/content/drive/MyDrive/Brain_tumor/Training/notumor/Tr-no_1334.jpg', '/content/drive/MyDrive/Brain_tumor/Training/pituitary/Tr-pi_0738.jpg', '/content/drive/MyDrive/Brain_tumor/Training/pituitary/Tr-pi_0685.jpg', '/content/drive/MyDrive/Brain_tumor/Training/glioma/Tr-gl_0583.jpg', '/content/drive/MyDrive/Brain_tumor/Training/pituitary/Tr-pi_1333.jpg', '/content/drive/MyDrive/Brain_tumor/Training/pituitary/Tr-pi_1362.jpg', '/content/drive/MyDrive/Brain_tumor/Training/meningioma/Tr-me_0455.jpg', '/content/drive/MyDrive/Brain_tumor/Training/glioma/Tr-gl_0631.jpg', '/content/drive/MyDrive/Brain_tumor/Training/notumor/Tr-no_1057.jpg', '/content/drive/MyDrive/Brain_tumor/Training/notumor/Tr-no_1090.jpg', '/content/drive/MyDrive/Brain_tumor/Training/pituitary/Tr-pi_1103.jpg', '/content/drive/MyDrive/Brain_tumor/Training/glioma/Tr-gl_1107.jpg', '/content/drive/MyDrive/Brain_tumor/Training/meningioma/Tr-me_0015.jpg', '/content/drive/MyDrive/Brain_tumor/Training/notumor/Tr-no_1144.jpg', '/content/drive/MyDrive/Brain_tumor/Training/meningioma/Tr-me_0591.jpg', '/content/drive/MyDrive/Brain_tumor/Training/glioma/Tr-gl_0785.jpg', '/content/drive/MyDrive/Brain_tumor/Training/notumor/Tr-no_1364.jpg', '/content/drive/MyDrive/Brain_tumor/Training/glioma/Tr-gl_1275.jpg', '/content/drive/MyDrive/Brain_tumor/Training/meningioma/Tr-me_1336.jpg', '/content/drive/MyDrive/Brain_tumor/Training/notumor/Tr-no_0235.jpg', '/content/drive/MyDrive/Brain_tumor/Training/glioma/Tr-gl_1078.jpg', '/content/drive/MyDrive/Brain_tumor/Training/pituitary/Tr-pi_1393.jpg', '/content/drive/MyDrive/Brain_tumor/Training/notumor/Tr-no_0775.jpg', '/content/drive/MyDrive/Brain_tumor/Training/meningioma/Tr-me_0507.jpg', '/content/drive/MyDrive/Brain_tumor/Training/notumor/Tr-no_1026.jpg', '/content/drive/MyDrive/Brain_tumor/Training/notumor/Tr-no_1456.jpg', '/content/drive/MyDrive/Brain_tumor/Training/notumor/Tr-no_0506.jpg', '/content/drive/MyDrive/Brain_tumor/Training/glioma/Tr-gl_0558.jpg', '/content/drive/MyDrive/Brain_tumor/Training/meningioma/Tr-me_0747.jpg', '/content/drive/MyDrive/Brain_tumor/Training/glioma/Tr-gl_1274.jpg', '/content/drive/MyDrive/Brain_tumor/Training/meningioma/Tr-me_0777.jpg', '/content/drive/MyDrive/Brain_tumor/Training/meningioma/Tr-me_1303.jpg', '/content/drive/MyDrive/Brain_tumor/Training/meningioma/Tr-me_0598.jpg', '/content/drive/MyDrive/Brain_tumor/Training/pituitary/Tr-pi_0745.jpg', '/content/drive/MyDrive/Brain_tumor/Training/notumor/Tr-no_0186.jpg', '/content/drive/MyDrive/Brain_tumor/Training/pituitary/Tr-pi_0959.jpg', '/content/drive/MyDrive/Brain_tumor/Training/notumor/Tr-no_0674.jpg', '/content/drive/MyDrive/Brain_tumor/Training/notumor/Tr-no_0899.jpg', '/content/drive/MyDrive/Brain_tumor/Training/notumor/Tr-no_0739.jpg', '/content/drive/MyDrive/Brain_tumor/Training/glioma/Tr-gl_0580.jpg', '/content/drive/MyDrive/Brain_tumor/Training/meningioma/Tr-me_1296.jpg', '/content/drive/MyDrive/Brain_tumor/Training/glioma/Tr-gl_0840.jpg', '/content/drive/MyDrive/Brain_tumor/Training/meningioma/Tr-me_1195.jpg', '/content/drive/MyDrive/Brain_tumor/Training/notumor/Tr-noTr_0005.jpg', '/content/drive/MyDrive/Brain_tumor/Training/pituitary/Tr-pi_0437.jpg', '/content/drive/MyDrive/Brain_tumor/Training/pituitary/Tr-pi_0279.jpg', '/content/drive/MyDrive/Brain_tumor/Training/glioma/Tr-gl_0606.jpg', '/content/drive/MyDrive/Brain_tumor/Training/meningioma/Tr-me_0469.jpg', '/content/drive/MyDrive/Brain_tumor/Training/meningioma/Tr-me_1088.jpg', '/content/drive/MyDrive/Brain_tumor/Training/meningioma/Tr-me_0531.jpg', '/content/drive/MyDrive/Brain_tumor/Training/pituitary/Tr-pi_0530.jpg', '/content/drive/MyDrive/Brain_tumor/Training/meningioma/Tr-me_0687.jpg', '/content/drive/MyDrive/Brain_tumor/Training/meningioma/Tr-me_0433.jpg', '/content/drive/MyDrive/Brain_tumor/Training/pituitary/Tr-pi_0421.jpg', '/content/drive/MyDrive/Brain_tumor/Training/pituitary/Tr-pi_0496.jpg', '/content/drive/MyDrive/Brain_tumor/Training/notumor/Tr-no_1284.jpg', '/content/drive/MyDrive/Brain_tumor/Training/notumor/Tr-no_0129.jpg', '/content/drive/MyDrive/Brain_tumor/Training/meningioma/Tr-me_1020.jpg', '/content/drive/MyDrive/Brain_tumor/Training/glioma/Tr-gl_0734.jpg', '/content/drive/MyDrive/Brain_tumor/Training/notumor/Tr-no_0815.jpg', '/content/drive/MyDrive/Brain_tumor/Training/meningioma/Tr-me_0544.jpg', '/content/drive/MyDrive/Brain_tumor/Training/notumor/Tr-no_0825.jpg', '/content/drive/MyDrive/Brain_tumor/Training/meningioma/Tr-me_0917.jpg', '/content/drive/MyDrive/Brain_tumor/Training/notumor/Tr-no_1561.jpg', '/content/drive/MyDrive/Brain_tumor/Training/meningioma/Tr-me_0382.jpg', '/content/drive/MyDrive/Brain_tumor/Training/glioma/Tr-gl_0141.jpg', '/content/drive/MyDrive/Brain_tumor/Training/pituitary/Tr-pi_1058.jpg', '/content/drive/MyDrive/Brain_tumor/Training/glioma/Tr-gl_0365.jpg', '/content/drive/MyDrive/Brain_tumor/Training/meningioma/Tr-me_1328.jpg', '/content/drive/MyDrive/Brain_tumor/Training/notumor/Tr-no_1012.jpg', '/content/drive/MyDrive/Brain_tumor/Training/notumor/Tr-no_0337.jpg', '/content/drive/MyDrive/Brain_tumor/Training/notumor/Tr-no_1554.jpg', '/content/drive/MyDrive/Brain_tumor/Training/notumor/Tr-no_0964.jpg', '/content/drive/MyDrive/Brain_tumor/Training/meningioma/Tr-me_0185.jpg', '/content/drive/MyDrive/Brain_tumor/Training/glioma/Tr-gl_0586.jpg', '/content/drive/MyDrive/Brain_tumor/Training/meningioma/Tr-me_0074.jpg', '/content/drive/MyDrive/Brain_tumor/Training/glioma/Tr-gl_0289.jpg', '/content/drive/MyDrive/Brain_tumor/Training/glioma/Tr-gl_0588.jpg', '/content/drive/MyDrive/Brain_tumor/Training/meningioma/Tr-me_1317.jpg', '/content/drive/MyDrive/Brain_tumor/Training/notumor/Tr-no_1155.jpg', '/content/drive/MyDrive/Brain_tumor/Training/pituitary/Tr-pi_0906.jpg', '/content/drive/MyDrive/Brain_tumor/Training/pituitary/Tr-pi_0250.jpg', '/content/drive/MyDrive/Brain_tumor/Training/meningioma/Tr-me_0255.jpg', '/content/drive/MyDrive/Brain_tumor/Training/notumor/Tr-no_1051.jpg', '/content/drive/MyDrive/Brain_tumor/Training/meningioma/Tr-me_0997.jpg', '/content/drive/MyDrive/Brain_tumor/Training/meningioma/Tr-me_0257.jpg', '/content/drive/MyDrive/Brain_tumor/Training/pituitary/Tr-pi_0559.jpg', '/content/drive/MyDrive/Brain_tumor/Training/notumor/Tr-no_1019.jpg', '/content/drive/MyDrive/Brain_tumor/Training/notumor/Tr-no_0177.jpg', '/content/drive/MyDrive/Brain_tumor/Training/notumor/Tr-no_1479.jpg', '/content/drive/MyDrive/Brain_tumor/Training/glioma/Tr-gl_0875.jpg', '/content/drive/MyDrive/Brain_tumor/Training/meningioma/Tr-me_1036.jpg', '/content/drive/MyDrive/Brain_tumor/Training/notumor/Tr-no_0605.jpg', '/content/drive/MyDrive/Brain_tumor/Training/meningioma/Tr-me_1107.jpg', '/content/drive/MyDrive/Brain_tumor/Training/pituitary/Tr-pi_1177.jpg', '/content/drive/MyDrive/Brain_tumor/Training/glioma/Tr-gl_0687.jpg', '/content/drive/MyDrive/Brain_tumor/Training/notumor/Tr-no_0300.jpg', '/content/drive/MyDrive/Brain_tumor/Training/glioma/Tr-gl_0972.jpg', '/content/drive/MyDrive/Brain_tumor/Training/glioma/Tr-gl_0116.jpg', '/content/drive/MyDrive/Brain_tumor/Training/meningioma/Tr-me_0214.jpg', '/content/drive/MyDrive/Brain_tumor/Training/meningioma/Tr-meTr_0007.jpg', '/content/drive/MyDrive/Brain_tumor/Training/meningioma/Tr-me_0381.jpg', '/content/drive/MyDrive/Brain_tumor/Training/glioma/Tr-gl_0020.jpg', '/content/drive/MyDrive/Brain_tumor/Training/glioma/Tr-gl_0285.jpg', '/content/drive/MyDrive/Brain_tumor/Training/notumor/Tr-no_0145.jpg', '/content/drive/MyDrive/Brain_tumor/Training/glioma/Tr-gl_0700.jpg', '/content/drive/MyDrive/Brain_tumor/Training/glioma/Tr-gl_0294.jpg', '/content/drive/MyDrive/Brain_tumor/Training/meningioma/Tr-me_1008.jpg', '/content/drive/MyDrive/Brain_tumor/Training/meningioma/Tr-me_0036.jpg', '/content/drive/MyDrive/Brain_tumor/Training/notumor/Tr-no_1075.jpg', '/content/drive/MyDrive/Brain_tumor/Training/pituitary/Tr-pi_0841.jpg', '/content/drive/MyDrive/Brain_tumor/Training/notumor/Tr-no_0238.jpg', '/content/drive/MyDrive/Brain_tumor/Training/pituitary/Tr-pi_0060.jpg', '/content/drive/MyDrive/Brain_tumor/Training/meningioma/Tr-me_0923.jpg', '/content/drive/MyDrive/Brain_tumor/Training/notumor/Tr-no_0833.jpg', '/content/drive/MyDrive/Brain_tumor/Training/notumor/Tr-no_0574.jpg', '/content/drive/MyDrive/Brain_tumor/Training/meningioma/Tr-me_0013.jpg', '/content/drive/MyDrive/Brain_tumor/Training/notumor/Tr-no_0286.jpg', '/content/drive/MyDrive/Brain_tumor/Training/pituitary/Tr-pi_1296.jpg', '/content/drive/MyDrive/Brain_tumor/Training/glioma/Tr-gl_0622.jpg', '/content/drive/MyDrive/Brain_tumor/Training/meningioma/Tr-me_0172.jpg', '/content/drive/MyDrive/Brain_tumor/Training/meningioma/Tr-me_0571.jpg', '/content/drive/MyDrive/Brain_tumor/Training/pituitary/Tr-pi_1289.jpg', '/content/drive/MyDrive/Brain_tumor/Training/meningioma/Tr-me_1263.jpg', '/content/drive/MyDrive/Brain_tumor/Training/pituitary/Tr-pi_0229.jpg', '/content/drive/MyDrive/Brain_tumor/Training/glioma/Tr-gl_1206.jpg', '/content/drive/MyDrive/Brain_tumor/Training/notumor/Tr-no_1128.jpg', '/content/drive/MyDrive/Brain_tumor/Training/pituitary/Tr-pi_0628.jpg', '/content/drive/MyDrive/Brain_tumor/Training/notumor/Tr-no_0162.jpg', '/content/drive/MyDrive/Brain_tumor/Training/pituitary/Tr-pi_0095.jpg', '/content/drive/MyDrive/Brain_tumor/Training/meningioma/Tr-me_0454.jpg', '/content/drive/MyDrive/Brain_tumor/Training/meningioma/Tr-me_0098.jpg', '/content/drive/MyDrive/Brain_tumor/Training/meningioma/Tr-me_0387.jpg', '/content/drive/MyDrive/Brain_tumor/Training/pituitary/Tr-pi_1251.jpg', '/content/drive/MyDrive/Brain_tumor/Training/pituitary/Tr-pi_0104.jpg', '/content/drive/MyDrive/Brain_tumor/Training/glioma/Tr-gl_0576.jpg', '/content/drive/MyDrive/Brain_tumor/Training/glioma/Tr-gl_0615.jpg', '/content/drive/MyDrive/Brain_tumor/Training/glioma/Tr-gl_0920.jpg', '/content/drive/MyDrive/Brain_tumor/Training/meningioma/Tr-me_0526.jpg', '/content/drive/MyDrive/Brain_tumor/Training/pituitary/Tr-pi_0942.jpg', '/content/drive/MyDrive/Brain_tumor/Training/glioma/Tr-gl_1084.jpg', '/content/drive/MyDrive/Brain_tumor/Training/pituitary/Tr-pi_0979.jpg', '/content/drive/MyDrive/Brain_tumor/Training/glioma/Tr-gl_0356.jpg', '/content/drive/MyDrive/Brain_tumor/Training/meningioma/Tr-me_0662.jpg', '/content/drive/MyDrive/Brain_tumor/Training/notumor/Tr-no_1504.jpg', '/content/drive/MyDrive/Brain_tumor/Training/notumor/Tr-no_0036.jpg', '/content/drive/MyDrive/Brain_tumor/Training/notumor/Tr-no_0599.jpg', '/content/drive/MyDrive/Brain_tumor/Training/pituitary/Tr-pi_0631.jpg', '/content/drive/MyDrive/Brain_tumor/Training/notumor/Tr-no_1432.jpg', '/content/drive/MyDrive/Brain_tumor/Training/notumor/Tr-no_0841.jpg', '/content/drive/MyDrive/Brain_tumor/Training/glioma/Tr-gl_1009.jpg', '/content/drive/MyDrive/Brain_tumor/Training/pituitary/Tr-pi_0583.jpg', '/content/drive/MyDrive/Brain_tumor/Training/notumor/Tr-no_0225.jpg', '/content/drive/MyDrive/Brain_tumor/Training/glioma/Tr-gl_0544.jpg', '/content/drive/MyDrive/Brain_tumor/Training/pituitary/Tr-pi_0265.jpg', '/content/drive/MyDrive/Brain_tumor/Training/glioma/Tr-gl_0706.jpg', '/content/drive/MyDrive/Brain_tumor/Training/notumor/Tr-no_1437.jpg', '/content/drive/MyDrive/Brain_tumor/Training/glioma/Tr-gl_0861.jpg', '/content/drive/MyDrive/Brain_tumor/Training/glioma/Tr-gl_1215.jpg', '/content/drive/MyDrive/Brain_tumor/Training/pituitary/Tr-pi_0325.jpg', '/content/drive/MyDrive/Brain_tumor/Training/glioma/Tr-gl_0162.jpg', '/content/drive/MyDrive/Brain_tumor/Training/meningioma/Tr-me_0356.jpg', '/content/drive/MyDrive/Brain_tumor/Training/glioma/Tr-gl_0673.jpg', '/content/drive/MyDrive/Brain_tumor/Training/meningioma/Tr-me_0489.jpg', '/content/drive/MyDrive/Brain_tumor/Training/pituitary/Tr-pi_0162.jpg', '/content/drive/MyDrive/Brain_tumor/Training/pituitary/Tr-pi_0414.jpg', '/content/drive/MyDrive/Brain_tumor/Training/glioma/Tr-gl_0073.jpg', '/content/drive/MyDrive/Brain_tumor/Training/glioma/Tr-gl_0933.jpg', '/content/drive/MyDrive/Brain_tumor/Training/notumor/Tr-no_0440.jpg', '/content/drive/MyDrive/Brain_tumor/Training/pituitary/Tr-pi_1403.jpg', '/content/drive/MyDrive/Brain_tumor/Training/notumor/Tr-no_0396.jpg', '/content/drive/MyDrive/Brain_tumor/Training/pituitary/Tr-pi_0366.jpg', '/content/drive/MyDrive/Brain_tumor/Training/glioma/Tr-gl_0650.jpg', '/content/drive/MyDrive/Brain_tumor/Training/pituitary/Tr-pi_0504.jpg', '/content/drive/MyDrive/Brain_tumor/Training/glioma/Tr-gl_0010.jpg', '/content/drive/MyDrive/Brain_tumor/Training/notumor/Tr-no_1215.jpg', '/content/drive/MyDrive/Brain_tumor/Training/meningioma/Tr-me_0277.jpg', '/content/drive/MyDrive/Brain_tumor/Training/glioma/Tr-gl_1101.jpg', '/content/drive/MyDrive/Brain_tumor/Training/notumor/Tr-no_0397.jpg', '/content/drive/MyDrive/Brain_tumor/Training/notumor/Tr-no_0540.jpg', '/content/drive/MyDrive/Brain_tumor/Training/notumor/Tr-no_0075.jpg', '/content/drive/MyDrive/Brain_tumor/Training/glioma/Tr-gl_0986.jpg', '/content/drive/MyDrive/Brain_tumor/Training/notumor/Tr-no_0744.jpg', '/content/drive/MyDrive/Brain_tumor/Training/pituitary/Tr-pi_0564.jpg', '/content/drive/MyDrive/Brain_tumor/Training/pituitary/Tr-pi_0634.jpg', '/content/drive/MyDrive/Brain_tumor/Training/notumor/Tr-no_1030.jpg', '/content/drive/MyDrive/Brain_tumor/Training/glioma/Tr-gl_0907.jpg', '/content/drive/MyDrive/Brain_tumor/Training/glioma/Tr-gl_0679.jpg', '/content/drive/MyDrive/Brain_tumor/Training/meningioma/Tr-me_0058.jpg', '/content/drive/MyDrive/Brain_tumor/Training/pituitary/Tr-pi_0193.jpg', '/content/drive/MyDrive/Brain_tumor/Training/meningioma/Tr-me_0849.jpg', '/content/drive/MyDrive/Brain_tumor/Training/meningioma/Tr-me_0700.jpg', '/content/drive/MyDrive/Brain_tumor/Training/glioma/Tr-gl_0363.jpg', '/content/drive/MyDrive/Brain_tumor/Training/pituitary/Tr-pi_0787.jpg', '/content/drive/MyDrive/Brain_tumor/Training/notumor/Tr-no_0741.jpg', '/content/drive/MyDrive/Brain_tumor/Training/glioma/Tr-gl_0275.jpg', '/content/drive/MyDrive/Brain_tumor/Training/meningioma/Tr-me_1331.jpg', '/content/drive/MyDrive/Brain_tumor/Training/glioma/Tr-gl_0358.jpg', '/content/drive/MyDrive/Brain_tumor/Training/glioma/Tr-gl_0493.jpg', '/content/drive/MyDrive/Brain_tumor/Training/glioma/Tr-gl_0102.jpg', '/content/drive/MyDrive/Brain_tumor/Training/glioma/Tr-gl_0805.jpg', '/content/drive/MyDrive/Brain_tumor/Training/pituitary/Tr-pi_0984.jpg', '/content/drive/MyDrive/Brain_tumor/Training/glioma/Tr-gl_0924.jpg', '/content/drive/MyDrive/Brain_tumor/Training/glioma/Tr-gl_0685.jpg', '/content/drive/MyDrive/Brain_tumor/Training/glioma/Tr-gl_0206.jpg', '/content/drive/MyDrive/Brain_tumor/Training/notumor/Tr-no_0397 (1).jpg', '/content/drive/MyDrive/Brain_tumor/Training/meningioma/Tr-me_0480.jpg', '/content/drive/MyDrive/Brain_tumor/Training/meningioma/Tr-me_0790.jpg', '/content/drive/MyDrive/Brain_tumor/Training/notumor/Tr-no_0198.jpg', '/content/drive/MyDrive/Brain_tumor/Training/glioma/Tr-gl_1290.jpg', '/content/drive/MyDrive/Brain_tumor/Training/notumor/Tr-no_0444.jpg', '/content/drive/MyDrive/Brain_tumor/Training/glioma/Tr-gl_0209.jpg', '/content/drive/MyDrive/Brain_tumor/Training/pituitary/Tr-pi_0194.jpg', '/content/drive/MyDrive/Brain_tumor/Training/meningioma/Tr-me_0813.jpg', '/content/drive/MyDrive/Brain_tumor/Training/notumor/Tr-no_1072.jpg', '/content/drive/MyDrive/Brain_tumor/Training/notumor/Tr-no_0431.jpg', '/content/drive/MyDrive/Brain_tumor/Training/meningioma/Tr-me_0380.jpg', '/content/drive/MyDrive/Brain_tumor/Training/meningioma/Tr-me_0622.jpg', '/content/drive/MyDrive/Brain_tumor/Training/meningioma/Tr-me_0474.jpg', '/content/drive/MyDrive/Brain_tumor/Training/glioma/Tr-gl_0205.jpg', '/content/drive/MyDrive/Brain_tumor/Training/glioma/Tr-gl_0251.jpg', '/content/drive/MyDrive/Brain_tumor/Training/pituitary/Tr-pi_0644.jpg', '/content/drive/MyDrive/Brain_tumor/Training/pituitary/Tr-pi_0621.jpg', '/content/drive/MyDrive/Brain_tumor/Training/glioma/Tr-gl_0297.jpg', '/content/drive/MyDrive/Brain_tumor/Training/meningioma/Tr-me_0995.jpg', '/content/drive/MyDrive/Brain_tumor/Training/glioma/Tr-gl_1169.jpg', '/content/drive/MyDrive/Brain_tumor/Training/pituitary/Tr-pi_1104.jpg', '/content/drive/MyDrive/Brain_tumor/Training/meningioma/Tr-me_1185.jpg', '/content/drive/MyDrive/Brain_tumor/Training/glioma/Tr-gl_0547.jpg', '/content/drive/MyDrive/Brain_tumor/Training/meningioma/Tr-me_0894.jpg', '/content/drive/MyDrive/Brain_tumor/Training/glioma/Tr-gl_1283.jpg', '/content/drive/MyDrive/Brain_tumor/Training/pituitary/Tr-pi_0423.jpg', '/content/drive/MyDrive/Brain_tumor/Training/glioma/Tr-gl_0994.jpg', '/content/drive/MyDrive/Brain_tumor/Training/meningioma/Tr-me_0977.jpg', '/content/drive/MyDrive/Brain_tumor/Training/notumor/Tr-no_1200.jpg', '/content/drive/MyDrive/Brain_tumor/Training/glioma/Tr-gl_1250.jpg', '/content/drive/MyDrive/Brain_tumor/Training/notumor/Tr-no_0709.jpg', '/content/drive/MyDrive/Brain_tumor/Training/pituitary/Tr-pi_0185.jpg', '/content/drive/MyDrive/Brain_tumor/Training/notumor/Tr-no_0606.jpg', '/content/drive/MyDrive/Brain_tumor/Training/glioma/Tr-gl_0430.jpg', '/content/drive/MyDrive/Brain_tumor/Training/notumor/Tr-no_0502.jpg', '/content/drive/MyDrive/Brain_tumor/Training/pituitary/Tr-pi_0026.jpg', '/content/drive/MyDrive/Brain_tumor/Training/glioma/Tr-gl_0593.jpg', '/content/drive/MyDrive/Brain_tumor/Training/notumor/Tr-no_0296.jpg', '/content/drive/MyDrive/Brain_tumor/Training/meningioma/Tr-me_0724.jpg', '/content/drive/MyDrive/Brain_tumor/Training/meningioma/Tr-me_0148.jpg', '/content/drive/MyDrive/Brain_tumor/Training/meningioma/Tr-me_0787.jpg', '/content/drive/MyDrive/Brain_tumor/Training/pituitary/Tr-pi_0016.jpg', '/content/drive/MyDrive/Brain_tumor/Training/meningioma/Tr-me_1071.jpg', '/content/drive/MyDrive/Brain_tumor/Training/glioma/Tr-gl_0860.jpg', '/content/drive/MyDrive/Brain_tumor/Training/meningioma/Tr-me_0832.jpg', '/content/drive/MyDrive/Brain_tumor/Training/glioma/Tr-gl_1170.jpg', '/content/drive/MyDrive/Brain_tumor/Training/notumor/Tr-no_0243.jpg', '/content/drive/MyDrive/Brain_tumor/Training/meningioma/Tr-me_1002.jpg', '/content/drive/MyDrive/Brain_tumor/Training/notumor/Tr-no_1349.jpg', '/content/drive/MyDrive/Brain_tumor/Training/meningioma/Tr-me_1109.jpg', '/content/drive/MyDrive/Brain_tumor/Training/pituitary/Tr-pi_1443.jpg', '/content/drive/MyDrive/Brain_tumor/Training/notumor/Tr-no_1400.jpg', '/content/drive/MyDrive/Brain_tumor/Training/pituitary/Tr-pi_0585.jpg', '/content/drive/MyDrive/Brain_tumor/Training/glioma/Tr-gl_0557.jpg', '/content/drive/MyDrive/Brain_tumor/Training/pituitary/Tr-pi_0188.jpg', '/content/drive/MyDrive/Brain_tumor/Training/notumor/Tr-no_1446.jpg', '/content/drive/MyDrive/Brain_tumor/Training/pituitary/Tr-pi_1117.jpg', '/content/drive/MyDrive/Brain_tumor/Training/glioma/Tr-gl_0144.jpg', '/content/drive/MyDrive/Brain_tumor/Training/pituitary/Tr-pi_0165.jpg', '/content/drive/MyDrive/Brain_tumor/Training/meningioma/Tr-me_1255.jpg', '/content/drive/MyDrive/Brain_tumor/Training/notumor/Tr-no_0842.jpg', '/content/drive/MyDrive/Brain_tumor/Training/pituitary/Tr-pi_0514.jpg', '/content/drive/MyDrive/Brain_tumor/Training/pituitary/Tr-pi_0506.jpg', '/content/drive/MyDrive/Brain_tumor/Training/meningioma/Tr-me_0985.jpg', '/content/drive/MyDrive/Brain_tumor/Training/notumor/Tr-no_0252.jpg', '/content/drive/MyDrive/Brain_tumor/Training/glioma/Tr-gl_0654.jpg', '/content/drive/MyDrive/Brain_tumor/Training/glioma/Tr-gl_0821.jpg', '/content/drive/MyDrive/Brain_tumor/Training/notumor/Tr-no_1313.jpg', '/content/drive/MyDrive/Brain_tumor/Training/meningioma/Tr-me_0161.jpg', '/content/drive/MyDrive/Brain_tumor/Training/glioma/Tr-gl_0111.jpg', '/content/drive/MyDrive/Brain_tumor/Training/notumor/Tr-no_0803.jpg', '/content/drive/MyDrive/Brain_tumor/Training/meningioma/Tr-me_0467.jpg', '/content/drive/MyDrive/Brain_tumor/Training/notumor/Tr-no_1419.jpg', '/content/drive/MyDrive/Brain_tumor/Training/glioma/Tr-gl_0769.jpg', '/content/drive/MyDrive/Brain_tumor/Training/notumor/Tr-no_1103.jpg', '/content/drive/MyDrive/Brain_tumor/Training/notumor/Tr-no_0620.jpg', '/content/drive/MyDrive/Brain_tumor/Training/meningioma/Tr-me_1292.jpg', '/content/drive/MyDrive/Brain_tumor/Training/pituitary/Tr-pi_0945.jpg', '/content/drive/MyDrive/Brain_tumor/Training/notumor/Tr-no_1020.jpg', '/content/drive/MyDrive/Brain_tumor/Training/notumor/Tr-no_1512.jpg', '/content/drive/MyDrive/Brain_tumor/Training/pituitary/Tr-pi_0177.jpg', '/content/drive/MyDrive/Brain_tumor/Training/pituitary/Tr-pi_0917.jpg', '/content/drive/MyDrive/Brain_tumor/Training/pituitary/Tr-pi_0285.jpg', '/content/drive/MyDrive/Brain_tumor/Training/pituitary/Tr-pi_0878.jpg', '/content/drive/MyDrive/Brain_tumor/Training/pituitary/Tr-pi_0058.jpg', '/content/drive/MyDrive/Brain_tumor/Training/pituitary/Tr-pi_0318.jpg', '/content/drive/MyDrive/Brain_tumor/Training/pituitary/Tr-pi_0840.jpg', '/content/drive/MyDrive/Brain_tumor/Training/pituitary/Tr-pi_1003.jpg', '/content/drive/MyDrive/Brain_tumor/Training/pituitary/Tr-pi_1023.jpg', '/content/drive/MyDrive/Brain_tumor/Training/glioma/Tr-gl_0643.jpg', '/content/drive/MyDrive/Brain_tumor/Training/glioma/Tr-gl_0801.jpg', '/content/drive/MyDrive/Brain_tumor/Training/meningioma/Tr-me_0586.jpg', '/content/drive/MyDrive/Brain_tumor/Training/pituitary/Tr-pi_1195.jpg', '/content/drive/MyDrive/Brain_tumor/Training/meningioma/Tr-me_0603.jpg', '/content/drive/MyDrive/Brain_tumor/Training/notumor/Tr-no_0141.jpg', '/content/drive/MyDrive/Brain_tumor/Training/notumor/Tr-no_1136.jpg', '/content/drive/MyDrive/Brain_tumor/Training/meningioma/Tr-me_0942.jpg', '/content/drive/MyDrive/Brain_tumor/Training/pituitary/Tr-pi_1439.jpg', '/content/drive/MyDrive/Brain_tumor/Training/meningioma/Tr-me_0147.jpg', '/content/drive/MyDrive/Brain_tumor/Training/notumor/Tr-no_1047.jpg', '/content/drive/MyDrive/Brain_tumor/Training/glioma/Tr-gl_0447.jpg', '/content/drive/MyDrive/Brain_tumor/Training/meningioma/Tr-me_1213.jpg', '/content/drive/MyDrive/Brain_tumor/Training/notumor/Tr-no_1465.jpg', '/content/drive/MyDrive/Brain_tumor/Training/meningioma/Tr-me_0354.jpg', '/content/drive/MyDrive/Brain_tumor/Training/notumor/Tr-no_1474.jpg', '/content/drive/MyDrive/Brain_tumor/Training/pituitary/Tr-pi_0247.jpg', '/content/drive/MyDrive/Brain_tumor/Training/meningioma/Tr-me_0704.jpg', '/content/drive/MyDrive/Brain_tumor/Training/glioma/Tr-gl_0353.jpg', '/content/drive/MyDrive/Brain_tumor/Training/pituitary/Tr-pi_0922.jpg', '/content/drive/MyDrive/Brain_tumor/Training/notumor/Tr-no_0091.jpg', '/content/drive/MyDrive/Brain_tumor/Training/meningioma/Tr-me_0800.jpg', '/content/drive/MyDrive/Brain_tumor/Training/glioma/Tr-gl_1033.jpg', '/content/drive/MyDrive/Brain_tumor/Training/pituitary/Tr-pi_0961.jpg', '/content/drive/MyDrive/Brain_tumor/Training/notumor/Tr-no_0371.jpg', '/content/drive/MyDrive/Brain_tumor/Training/pituitary/Tr-pi_0186.jpg', '/content/drive/MyDrive/Brain_tumor/Training/notumor/Tr-no_1183.jpg', '/content/drive/MyDrive/Brain_tumor/Training/glioma/Tr-gl_0719.jpg', '/content/drive/MyDrive/Brain_tumor/Training/glioma/Tr-gl_1238.jpg', '/content/drive/MyDrive/Brain_tumor/Training/meningioma/Tr-me_0837.jpg', '/content/drive/MyDrive/Brain_tumor/Training/glioma/Tr-gl_0743.jpg', '/content/drive/MyDrive/Brain_tumor/Training/notumor/Tr-no_0827.jpg', '/content/drive/MyDrive/Brain_tumor/Training/pituitary/Tr-pi_0968.jpg', '/content/drive/MyDrive/Brain_tumor/Training/meningioma/Tr-me_0465.jpg', '/content/drive/MyDrive/Brain_tumor/Training/pituitary/Tr-pi_0144.jpg', '/content/drive/MyDrive/Brain_tumor/Training/notumor/Tr-no_0281.jpg', '/content/drive/MyDrive/Brain_tumor/Training/meningioma/Tr-me_0630.jpg', '/content/drive/MyDrive/Brain_tumor/Training/meningioma/Tr-me_1227.jpg', '/content/drive/MyDrive/Brain_tumor/Training/glioma/Tr-gl_0375.jpg', '/content/drive/MyDrive/Brain_tumor/Training/glioma/Tr-gl_0756.jpg', '/content/drive/MyDrive/Brain_tumor/Training/pituitary/Tr-pi_0884.jpg', '/content/drive/MyDrive/Brain_tumor/Training/pituitary/Tr-pi_0717.jpg', '/content/drive/MyDrive/Brain_tumor/Training/notumor/Tr-no_0107.jpg', '/content/drive/MyDrive/Brain_tumor/Training/glioma/Tr-gl_0548.jpg', '/content/drive/MyDrive/Brain_tumor/Training/pituitary/Tr-pi_1299.jpg', '/content/drive/MyDrive/Brain_tumor/Training/meningioma/Tr-me_0947.jpg', '/content/drive/MyDrive/Brain_tumor/Training/pituitary/Tr-pi_0974.jpg', '/content/drive/MyDrive/Brain_tumor/Training/meningioma/Tr-me_0156.jpg', '/content/drive/MyDrive/Brain_tumor/Training/meningioma/Tr-me_0506.jpg', '/content/drive/MyDrive/Brain_tumor/Training/notumor/Tr-no_0049.jpg', '/content/drive/MyDrive/Brain_tumor/Training/meningioma/Tr-me_1318.jpg', '/content/drive/MyDrive/Brain_tumor/Training/notumor/Tr-no_1009.jpg', '/content/drive/MyDrive/Brain_tumor/Training/pituitary/Tr-piTr_0004.jpg', '/content/drive/MyDrive/Brain_tumor/Training/pituitary/Tr-pi_0061.jpg', '/content/drive/MyDrive/Brain_tumor/Training/glioma/Tr-gl_1026.jpg', '/content/drive/MyDrive/Brain_tumor/Training/pituitary/Tr-pi_0262.jpg', '/content/drive/MyDrive/Brain_tumor/Training/notumor/Tr-no_0249.jpg', '/content/drive/MyDrive/Brain_tumor/Training/notumor/Tr-no_0614.jpg', '/content/drive/MyDrive/Brain_tumor/Training/pituitary/Tr-pi_0490.jpg', '/content/drive/MyDrive/Brain_tumor/Training/glioma/Tr-gl_0255.jpg', '/content/drive/MyDrive/Brain_tumor/Training/meningioma/Tr-me_0218.jpg', '/content/drive/MyDrive/Brain_tumor/Training/glioma/Tr-gl_0266.jpg', '/content/drive/MyDrive/Brain_tumor/Training/pituitary/Tr-pi_0055.jpg', '/content/drive/MyDrive/Brain_tumor/Training/notumor/Tr-no_0979.jpg', '/content/drive/MyDrive/Brain_tumor/Training/notumor/Tr-no_0830.jpg', '/content/drive/MyDrive/Brain_tumor/Training/pituitary/Tr-pi_0141.jpg', '/content/drive/MyDrive/Brain_tumor/Training/meningioma/Tr-me_0807.jpg', '/content/drive/MyDrive/Brain_tumor/Training/glioma/Tr-gl_1200.jpg', '/content/drive/MyDrive/Brain_tumor/Training/meningioma/Tr-me_1144.jpg', '/content/drive/MyDrive/Brain_tumor/Training/notumor/Tr-no_0677.jpg', '/content/drive/MyDrive/Brain_tumor/Training/glioma/Tr-gl_0742.jpg', '/content/drive/MyDrive/Brain_tumor/Training/pituitary/Tr-pi_0834.jpg', '/content/drive/MyDrive/Brain_tumor/Training/meningioma/Tr-me_0239.jpg', '/content/drive/MyDrive/Brain_tumor/Training/pituitary/Tr-pi_0096.jpg', '/content/drive/MyDrive/Brain_tumor/Training/pituitary/Tr-pi_0228.jpg', '/content/drive/MyDrive/Brain_tumor/Training/meningioma/Tr-me_1141.jpg', '/content/drive/MyDrive/Brain_tumor/Training/meningioma/Tr-me_0830.jpg', '/content/drive/MyDrive/Brain_tumor/Training/meningioma/Tr-me_0499.jpg', '/content/drive/MyDrive/Brain_tumor/Training/notumor/Tr-no_0840.jpg', '/content/drive/MyDrive/Brain_tumor/Training/glioma/Tr-gl_1024.jpg', '/content/drive/MyDrive/Brain_tumor/Training/notumor/Tr-no_1416.jpg', '/content/drive/MyDrive/Brain_tumor/Training/glioma/Tr-gl_0032.jpg', '/content/drive/MyDrive/Brain_tumor/Training/notumor/Tr-no_0824.jpg', '/content/drive/MyDrive/Brain_tumor/Training/notumor/Tr-no_0166.jpg', '/content/drive/MyDrive/Brain_tumor/Training/glioma/Tr-gl_0370.jpg', '/content/drive/MyDrive/Brain_tumor/Training/glioma/Tr-gl_0142.jpg', '/content/drive/MyDrive/Brain_tumor/Training/notumor/Tr-no_0943.jpg', '/content/drive/MyDrive/Brain_tumor/Training/meningioma/Tr-me_0528.jpg', '/content/drive/MyDrive/Brain_tumor/Training/meningioma/Tr-me_0607.jpg', '/content/drive/MyDrive/Brain_tumor/Training/meningioma/Tr-me_0337.jpg', '/content/drive/MyDrive/Brain_tumor/Training/pituitary/Tr-pi_0773.jpg', '/content/drive/MyDrive/Brain_tumor/Training/meningioma/Tr-me_0293.jpg', '/content/drive/MyDrive/Brain_tumor/Training/pituitary/Tr-pi_1454.jpg', '/content/drive/MyDrive/Brain_tumor/Training/meningioma/Tr-me_1229.jpg', '/content/drive/MyDrive/Brain_tumor/Training/meningioma/Tr-me_0371.jpg', '/content/drive/MyDrive/Brain_tumor/Training/pituitary/Tr-pi_0931.jpg', '/content/drive/MyDrive/Brain_tumor/Training/glioma/Tr-gl_0984.jpg', '/content/drive/MyDrive/Brain_tumor/Training/meningioma/Tr-me_0191.jpg', '/content/drive/MyDrive/Brain_tumor/Training/notumor/Tr-no_0510.jpg', '/content/drive/MyDrive/Brain_tumor/Training/pituitary/Tr-pi_0554.jpg', '/content/drive/MyDrive/Brain_tumor/Training/pituitary/Tr-pi_0384.jpg', '/content/drive/MyDrive/Brain_tumor/Training/pituitary/Tr-pi_1280.jpg', '/content/drive/MyDrive/Brain_tumor/Training/glioma/Tr-gl_0947.jpg', '/content/drive/MyDrive/Brain_tumor/Training/notumor/Tr-no_1459.jpg', '/content/drive/MyDrive/Brain_tumor/Training/notumor/Tr-no_1247.jpg', '/content/drive/MyDrive/Brain_tumor/Training/glioma/Tr-gl_0574.jpg', '/content/drive/MyDrive/Brain_tumor/Training/notumor/Tr-no_0731.jpg', '/content/drive/MyDrive/Brain_tumor/Training/notumor/Tr-no_1013.jpg', '/content/drive/MyDrive/Brain_tumor/Training/pituitary/Tr-pi_1254.jpg', '/content/drive/MyDrive/Brain_tumor/Training/notumor/Tr-no_1442.jpg', '/content/drive/MyDrive/Brain_tumor/Training/notumor/Tr-no_0618.jpg', '/content/drive/MyDrive/Brain_tumor/Training/glioma/Tr-gl_0264.jpg', '/content/drive/MyDrive/Brain_tumor/Training/meningioma/Tr-me_0143.jpg', '/content/drive/MyDrive/Brain_tumor/Training/pituitary/Tr-pi_0234.jpg', '/content/drive/MyDrive/Brain_tumor/Training/notumor/Tr-no_1201.jpg', '/content/drive/MyDrive/Brain_tumor/Training/glioma/Tr-gl_0256.jpg', '/content/drive/MyDrive/Brain_tumor/Training/pituitary/Tr-pi_1161.jpg', '/content/drive/MyDrive/Brain_tumor/Training/meningioma/Tr-me_1285.jpg', '/content/drive/MyDrive/Brain_tumor/Training/meningioma/Tr-me_1023.jpg', '/content/drive/MyDrive/Brain_tumor/Training/meningioma/Tr-me_1246.jpg', '/content/drive/MyDrive/Brain_tumor/Training/notumor/Tr-no_1354.jpg', '/content/drive/MyDrive/Brain_tumor/Training/notumor/Tr-no_0165.jpg', '/content/drive/MyDrive/Brain_tumor/Training/notumor/Tr-no_0909.jpg', '/content/drive/MyDrive/Brain_tumor/Training/notumor/Tr-no_0844.jpg', '/content/drive/MyDrive/Brain_tumor/Training/notumor/Tr-no_0944.jpg', '/content/drive/MyDrive/Brain_tumor/Training/pituitary/Tr-pi_0381.jpg', '/content/drive/MyDrive/Brain_tumor/Training/glioma/Tr-gl_0896.jpg', '/content/drive/MyDrive/Brain_tumor/Training/notumor/Tr-no_0878.jpg', '/content/drive/MyDrive/Brain_tumor/Training/notumor/Tr-no_0142.jpg', '/content/drive/MyDrive/Brain_tumor/Training/notumor/Tr-no_0465.jpg', '/content/drive/MyDrive/Brain_tumor/Training/pituitary/Tr-pi_0333.jpg', '/content/drive/MyDrive/Brain_tumor/Training/glioma/Tr-gl_1046.jpg', '/content/drive/MyDrive/Brain_tumor/Training/meningioma/Tr-me_1055.jpg', '/content/drive/MyDrive/Brain_tumor/Training/pituitary/Tr-pi_1399.jpg', '/content/drive/MyDrive/Brain_tumor/Training/meningioma/Tr-me_1203.jpg', '/content/drive/MyDrive/Brain_tumor/Training/meningioma/Tr-me_0358.jpg', '/content/drive/MyDrive/Brain_tumor/Training/notumor/Tr-no_0037.jpg', '/content/drive/MyDrive/Brain_tumor/Training/glioma/Tr-gl_0433.jpg', '/content/drive/MyDrive/Brain_tumor/Training/meningioma/Tr-me_0301.jpg', '/content/drive/MyDrive/Brain_tumor/Training/pituitary/Tr-pi_1455.jpg', '/content/drive/MyDrive/Brain_tumor/Training/meningioma/Tr-me_0096.jpg', '/content/drive/MyDrive/Brain_tumor/Training/pituitary/Tr-pi_1417.jpg', '/content/drive/MyDrive/Brain_tumor/Training/meningioma/Tr-me_0275.jpg', '/content/drive/MyDrive/Brain_tumor/Training/pituitary/Tr-pi_0896.jpg', '/content/drive/MyDrive/Brain_tumor/Training/notumor/Tr-no_1010.jpg', '/content/drive/MyDrive/Brain_tumor/Training/notumor/Tr-no_0303.jpg', '/content/drive/MyDrive/Brain_tumor/Training/pituitary/Tr-pi_0713.jpg', '/content/drive/MyDrive/Brain_tumor/Training/pituitary/Tr-pi_1330.jpg', '/content/drive/MyDrive/Brain_tumor/Training/meningioma/Tr-me_0521.jpg', '/content/drive/MyDrive/Brain_tumor/Training/notumor/Tr-no_1573.jpg', '/content/drive/MyDrive/Brain_tumor/Training/glioma/Tr-gl_0955.jpg', '/content/drive/MyDrive/Brain_tumor/Training/meningioma/Tr-me_0814.jpg', '/content/drive/MyDrive/Brain_tumor/Training/glioma/Tr-gl_0082.jpg', '/content/drive/MyDrive/Brain_tumor/Training/meningioma/Tr-me_0782.jpg', '/content/drive/MyDrive/Brain_tumor/Training/notumor/Tr-no_1073.jpg', '/content/drive/MyDrive/Brain_tumor/Training/pituitary/Tr-pi_0647.jpg', '/content/drive/MyDrive/Brain_tumor/Training/glioma/Tr-gl_0736.jpg', '/content/drive/MyDrive/Brain_tumor/Training/glioma/Tr-glTr_0000.jpg', '/content/drive/MyDrive/Brain_tumor/Training/meningioma/Tr-me_1024.jpg', '/content/drive/MyDrive/Brain_tumor/Training/pituitary/Tr-pi_1228.jpg', '/content/drive/MyDrive/Brain_tumor/Training/meningioma/Tr-me_1210.jpg', '/content/drive/MyDrive/Brain_tumor/Training/meningioma/Tr-me_0223.jpg', '/content/drive/MyDrive/Brain_tumor/Training/glioma/Tr-gl_0500.jpg', '/content/drive/MyDrive/Brain_tumor/Training/pituitary/Tr-pi_0668.jpg', '/content/drive/MyDrive/Brain_tumor/Training/notumor/Tr-no_0212.jpg', '/content/drive/MyDrive/Brain_tumor/Training/notumor/Tr-no_1422.jpg', '/content/drive/MyDrive/Brain_tumor/Training/pituitary/Tr-pi_0281.jpg', '/content/drive/MyDrive/Brain_tumor/Training/meningioma/Tr-me_0626.jpg', '/content/drive/MyDrive/Brain_tumor/Training/notumor/Tr-no_0938.jpg', '/content/drive/MyDrive/Brain_tumor/Training/notumor/Tr-no_0929.jpg', '/content/drive/MyDrive/Brain_tumor/Training/notumor/Tr-no_0970.jpg', '/content/drive/MyDrive/Brain_tumor/Training/notumor/Tr-no_1438.jpg', '/content/drive/MyDrive/Brain_tumor/Training/glioma/Tr-glTr_0005.jpg', '/content/drive/MyDrive/Brain_tumor/Training/pituitary/Tr-pi_0356.jpg', '/content/drive/MyDrive/Brain_tumor/Training/notumor/Tr-no_0220.jpg', '/content/drive/MyDrive/Brain_tumor/Training/glioma/Tr-gl_0467.jpg', '/content/drive/MyDrive/Brain_tumor/Training/glioma/Tr-gl_1025.jpg', '/content/drive/MyDrive/Brain_tumor/Training/glioma/Tr-gl_1300.jpg', '/content/drive/MyDrive/Brain_tumor/Training/notumor/Tr-no_0189.jpg', '/content/drive/MyDrive/Brain_tumor/Training/pituitary/Tr-pi_1442.jpg', '/content/drive/MyDrive/Brain_tumor/Training/meningioma/Tr-me_0913.jpg', '/content/drive/MyDrive/Brain_tumor/Training/glioma/Tr-gl_0636.jpg', '/content/drive/MyDrive/Brain_tumor/Training/notumor/Tr-no_1552.jpg', '/content/drive/MyDrive/Brain_tumor/Training/notumor/Tr-no_0665.jpg', '/content/drive/MyDrive/Brain_tumor/Training/notumor/Tr-no_0372.jpg', '/content/drive/MyDrive/Brain_tumor/Training/glioma/Tr-gl_1028.jpg', '/content/drive/MyDrive/Brain_tumor/Training/notumor/Tr-no_1590.jpg', '/content/drive/MyDrive/Brain_tumor/Training/notumor/Tr-no_0765.jpg', '/content/drive/MyDrive/Brain_tumor/Training/pituitary/Tr-pi_1060.jpg', '/content/drive/MyDrive/Brain_tumor/Training/glioma/Tr-gl_0120.jpg', '/content/drive/MyDrive/Brain_tumor/Training/notumor/Tr-no_0291.jpg', '/content/drive/MyDrive/Brain_tumor/Training/meningioma/Tr-me_0343.jpg', '/content/drive/MyDrive/Brain_tumor/Training/notumor/Tr-no_1081.jpg', '/content/drive/MyDrive/Brain_tumor/Training/pituitary/Tr-pi_0311.jpg', '/content/drive/MyDrive/Brain_tumor/Training/meningioma/Tr-me_0204.jpg', '/content/drive/MyDrive/Brain_tumor/Training/meningioma/Tr-me_0149.jpg', '/content/drive/MyDrive/Brain_tumor/Training/pituitary/Tr-pi_1173.jpg', '/content/drive/MyDrive/Brain_tumor/Training/notumor/Tr-no_1377.jpg', '/content/drive/MyDrive/Brain_tumor/Training/meningioma/Tr-me_0236.jpg', '/content/drive/MyDrive/Brain_tumor/Training/pituitary/Tr-pi_0315.jpg', '/content/drive/MyDrive/Brain_tumor/Training/meningioma/Tr-me_0477.jpg', '/content/drive/MyDrive/Brain_tumor/Training/glioma/Tr-gl_0389.jpg', '/content/drive/MyDrive/Brain_tumor/Training/glioma/Tr-gl_0872.jpg', '/content/drive/MyDrive/Brain_tumor/Training/meningioma/Tr-me_0126.jpg', '/content/drive/MyDrive/Brain_tumor/Training/meningioma/Tr-me_0689.jpg', '/content/drive/MyDrive/Brain_tumor/Training/notumor/Tr-no_0881.jpg', '/content/drive/MyDrive/Brain_tumor/Training/glioma/Tr-gl_1122.jpg', '/content/drive/MyDrive/Brain_tumor/Training/pituitary/Tr-pi_0475.jpg', '/content/drive/MyDrive/Brain_tumor/Training/meningioma/Tr-me_0984.jpg', '/content/drive/MyDrive/Brain_tumor/Training/pituitary/Tr-pi_0847.jpg', '/content/drive/MyDrive/Brain_tumor/Training/pituitary/Tr-pi_0112.jpg', '/content/drive/MyDrive/Brain_tumor/Training/pituitary/Tr-pi_0767.jpg', '/content/drive/MyDrive/Brain_tumor/Training/notumor/Tr-no_0433 (1).jpg', '/content/drive/MyDrive/Brain_tumor/Training/meningioma/Tr-me_0596.jpg', '/content/drive/MyDrive/Brain_tumor/Training/pituitary/Tr-pi_1094.jpg', '/content/drive/MyDrive/Brain_tumor/Training/meningioma/Tr-me_0826.jpg', '/content/drive/MyDrive/Brain_tumor/Training/notumor/Tr-no_1453.jpg', '/content/drive/MyDrive/Brain_tumor/Training/pituitary/Tr-pi_1043.jpg', '/content/drive/MyDrive/Brain_tumor/Training/notumor/Tr-no_0173.jpg', '/content/drive/MyDrive/Brain_tumor/Training/glioma/Tr-gl_0392.jpg', '/content/drive/MyDrive/Brain_tumor/Training/notumor/Tr-no_1167.jpg', '/content/drive/MyDrive/Brain_tumor/Training/pituitary/Tr-pi_0113.jpg', '/content/drive/MyDrive/Brain_tumor/Training/notumor/Tr-no_0568.jpg', '/content/drive/MyDrive/Brain_tumor/Training/meningioma/Tr-me_0994.jpg', '/content/drive/MyDrive/Brain_tumor/Training/notumor/Tr-no_0295.jpg', '/content/drive/MyDrive/Brain_tumor/Training/glioma/Tr-gl_0016.jpg', '/content/drive/MyDrive/Brain_tumor/Training/notumor/Tr-no_0261.jpg', '/content/drive/MyDrive/Brain_tumor/Training/notumor/Tr-no_1241.jpg', '/content/drive/MyDrive/Brain_tumor/Training/pituitary/Tr-pi_0715.jpg', '/content/drive/MyDrive/Brain_tumor/Training/notumor/Tr-no_0340.jpg', '/content/drive/MyDrive/Brain_tumor/Training/pituitary/Tr-pi_0949.jpg', '/content/drive/MyDrive/Brain_tumor/Training/glioma/Tr-gl_0314.jpg', '/content/drive/MyDrive/Brain_tumor/Training/pituitary/Tr-pi_1154.jpg', '/content/drive/MyDrive/Brain_tumor/Training/pituitary/Tr-pi_1071.jpg', '/content/drive/MyDrive/Brain_tumor/Training/pituitary/Tr-pi_1284.jpg', '/content/drive/MyDrive/Brain_tumor/Training/notumor/Tr-no_1547.jpg', '/content/drive/MyDrive/Brain_tumor/Training/pituitary/Tr-pi_0216.jpg', '/content/drive/MyDrive/Brain_tumor/Training/glioma/Tr-gl_0241.jpg', '/content/drive/MyDrive/Brain_tumor/Training/glioma/Tr-gl_1218.jpg', '/content/drive/MyDrive/Brain_tumor/Training/notumor/Tr-no_0368.jpg', '/content/drive/MyDrive/Brain_tumor/Training/glioma/Tr-gl_0136.jpg', '/content/drive/MyDrive/Brain_tumor/Training/notumor/Tr-no_1324.jpg', '/content/drive/MyDrive/Brain_tumor/Training/notumor/Tr-no_1301.jpg', '/content/drive/MyDrive/Brain_tumor/Training/pituitary/Tr-pi_0273.jpg', '/content/drive/MyDrive/Brain_tumor/Training/pituitary/Tr-pi_0377.jpg', '/content/drive/MyDrive/Brain_tumor/Training/meningioma/Tr-me_0827.jpg', '/content/drive/MyDrive/Brain_tumor/Training/glioma/Tr-gl_0368.jpg', '/content/drive/MyDrive/Brain_tumor/Training/meningioma/Tr-me_0403.jpg', '/content/drive/MyDrive/Brain_tumor/Training/meningioma/Tr-me_0774.jpg', '/content/drive/MyDrive/Brain_tumor/Training/pituitary/Tr-pi_0047.jpg', '/content/drive/MyDrive/Brain_tumor/Training/pituitary/Tr-pi_0611.jpg', '/content/drive/MyDrive/Brain_tumor/Training/pituitary/Tr-pi_0259.jpg', '/content/drive/MyDrive/Brain_tumor/Training/meningioma/Tr-me_1018.jpg', '/content/drive/MyDrive/Brain_tumor/Training/glioma/Tr-gl_0015.jpg', '/content/drive/MyDrive/Brain_tumor/Training/meningioma/Tr-me_0291.jpg', '/content/drive/MyDrive/Brain_tumor/Training/meningioma/Tr-me_0975.jpg', '/content/drive/MyDrive/Brain_tumor/Training/meningioma/Tr-me_0024.jpg', '/content/drive/MyDrive/Brain_tumor/Training/glioma/Tr-gl_0945.jpg', '/content/drive/MyDrive/Brain_tumor/Training/meningioma/Tr-me_0590.jpg', '/content/drive/MyDrive/Brain_tumor/Training/pituitary/Tr-pi_1156.jpg', '/content/drive/MyDrive/Brain_tumor/Training/pituitary/Tr-pi_0875.jpg', '/content/drive/MyDrive/Brain_tumor/Training/notumor/Tr-no_0586.jpg', '/content/drive/MyDrive/Brain_tumor/Training/pituitary/Tr-pi_0967.jpg', '/content/drive/MyDrive/Brain_tumor/Training/pituitary/Tr-pi_0747.jpg', '/content/drive/MyDrive/Brain_tumor/Training/notumor/Tr-no_1084.jpg', '/content/drive/MyDrive/Brain_tumor/Training/glioma/Tr-gl_0545.jpg', '/content/drive/MyDrive/Brain_tumor/Training/pituitary/Tr-pi_0992.jpg', '/content/drive/MyDrive/Brain_tumor/Training/meningioma/Tr-me_0840.jpg', '/content/drive/MyDrive/Brain_tumor/Training/meningioma/Tr-me_0221.jpg', '/content/drive/MyDrive/Brain_tumor/Training/notumor/Tr-no_0600.jpg', '/content/drive/MyDrive/Brain_tumor/Training/meningioma/Tr-me_0153.jpg', '/content/drive/MyDrive/Brain_tumor/Training/notumor/Tr-no_1038.jpg', '/content/drive/MyDrive/Brain_tumor/Training/meningioma/Tr-me_0534.jpg', '/content/drive/MyDrive/Brain_tumor/Training/notumor/Tr-no_0535.jpg', '/content/drive/MyDrive/Brain_tumor/Training/meningioma/Tr-me_1027.jpg', '/content/drive/MyDrive/Brain_tumor/Training/meningioma/Tr-me_1116.jpg', '/content/drive/MyDrive/Brain_tumor/Training/meningioma/Tr-me_1187.jpg', '/content/drive/MyDrive/Brain_tumor/Training/pituitary/Tr-pi_1322.jpg', '/content/drive/MyDrive/Brain_tumor/Training/meningioma/Tr-me_1040.jpg', '/content/drive/MyDrive/Brain_tumor/Training/glioma/Tr-gl_0079.jpg', '/content/drive/MyDrive/Brain_tumor/Training/notumor/Tr-no_1152.jpg', '/content/drive/MyDrive/Brain_tumor/Training/glioma/Tr-gl_1069.jpg', '/content/drive/MyDrive/Brain_tumor/Training/notumor/Tr-no_1236.jpg', '/content/drive/MyDrive/Brain_tumor/Training/notumor/Tr-no_0776.jpg', '/content/drive/MyDrive/Brain_tumor/Training/pituitary/Tr-pi_1261.jpg', '/content/drive/MyDrive/Brain_tumor/Training/notumor/Tr-no_0443.jpg', '/content/drive/MyDrive/Brain_tumor/Training/glioma/Tr-gl_0732.jpg', '/content/drive/MyDrive/Brain_tumor/Training/notumor/Tr-no_1071.jpg', '/content/drive/MyDrive/Brain_tumor/Training/meningioma/Tr-me_0082.jpg', '/content/drive/MyDrive/Brain_tumor/Training/meningioma/Tr-me_1135.jpg', '/content/drive/MyDrive/Brain_tumor/Training/glioma/Tr-gl_0178.jpg', '/content/drive/MyDrive/Brain_tumor/Training/notumor/Tr-no_0641.jpg', '/content/drive/MyDrive/Brain_tumor/Training/glioma/Tr-gl_0980.jpg', '/content/drive/MyDrive/Brain_tumor/Training/notumor/Tr-no_1114.jpg', '/content/drive/MyDrive/Brain_tumor/Training/notumor/Tr-no_0707.jpg', '/content/drive/MyDrive/Brain_tumor/Training/glioma/Tr-gl_1221.jpg', '/content/drive/MyDrive/Brain_tumor/Training/glioma/Tr-gl_0030.jpg', '/content/drive/MyDrive/Brain_tumor/Training/notumor/Tr-no_0819.jpg', '/content/drive/MyDrive/Brain_tumor/Training/notumor/Tr-no_1139.jpg', '/content/drive/MyDrive/Brain_tumor/Training/glioma/Tr-gl_0655.jpg', '/content/drive/MyDrive/Brain_tumor/Training/glioma/Tr-gl_1257.jpg', '/content/drive/MyDrive/Brain_tumor/Training/notumor/Tr-no_0481.jpg', '/content/drive/MyDrive/Brain_tumor/Training/pituitary/Tr-pi_1278.jpg', '/content/drive/MyDrive/Brain_tumor/Training/meningioma/Tr-me_0611.jpg', '/content/drive/MyDrive/Brain_tumor/Training/glioma/Tr-gl_0653.jpg', '/content/drive/MyDrive/Brain_tumor/Training/notumor/Tr-no_0435.jpg', '/content/drive/MyDrive/Brain_tumor/Training/pituitary/Tr-pi_1363.jpg', '/content/drive/MyDrive/Brain_tumor/Training/notumor/Tr-no_0160.jpg', '/content/drive/MyDrive/Brain_tumor/Training/pituitary/Tr-pi_0322.jpg', '/content/drive/MyDrive/Brain_tumor/Training/notumor/Tr-no_1365.jpg', '/content/drive/MyDrive/Brain_tumor/Training/glioma/Tr-gl_0231.jpg', '/content/drive/MyDrive/Brain_tumor/Training/notumor/Tr-no_0059.jpg', '/content/drive/MyDrive/Brain_tumor/Training/meningioma/Tr-me_0047.jpg', '/content/drive/MyDrive/Brain_tumor/Training/glioma/Tr-gl_0704.jpg', '/content/drive/MyDrive/Brain_tumor/Training/notumor/Tr-no_1196.jpg', '/content/drive/MyDrive/Brain_tumor/Training/notumor/Tr-no_1498.jpg', '/content/drive/MyDrive/Brain_tumor/Training/notumor/Tr-no_1483.jpg', '/content/drive/MyDrive/Brain_tumor/Training/notumor/Tr-no_1274.jpg', '/content/drive/MyDrive/Brain_tumor/Training/pituitary/Tr-pi_1014.jpg', '/content/drive/MyDrive/Brain_tumor/Training/pituitary/Tr-pi_0270.jpg', '/content/drive/MyDrive/Brain_tumor/Training/pituitary/Tr-pi_0439.jpg', '/content/drive/MyDrive/Brain_tumor/Training/notumor/Tr-no_0202.jpg', '/content/drive/MyDrive/Brain_tumor/Training/pituitary/Tr-pi_1073.jpg', '/content/drive/MyDrive/Brain_tumor/Training/notumor/Tr-no_0740.jpg', '/content/drive/MyDrive/Brain_tumor/Training/meningioma/Tr-me_0067.jpg', '/content/drive/MyDrive/Brain_tumor/Training/pituitary/Tr-pi_0116.jpg', '/content/drive/MyDrive/Brain_tumor/Training/glioma/Tr-gl_0312.jpg', '/content/drive/MyDrive/Brain_tumor/Training/notumor/Tr-no_0772.jpg', '/content/drive/MyDrive/Brain_tumor/Training/pituitary/Tr-pi_0991.jpg', '/content/drive/MyDrive/Brain_tumor/Training/notumor/Tr-no_0394.jpg', '/content/drive/MyDrive/Brain_tumor/Training/pituitary/Tr-pi_1252.jpg', '/content/drive/MyDrive/Brain_tumor/Training/notumor/Tr-no_0144.jpg', '/content/drive/MyDrive/Brain_tumor/Training/glioma/Tr-gl_1152.jpg', '/content/drive/MyDrive/Brain_tumor/Training/glioma/Tr-gl_0229.jpg', '/content/drive/MyDrive/Brain_tumor/Training/pituitary/Tr-pi_0450.jpg', '/content/drive/MyDrive/Brain_tumor/Training/meningioma/Tr-me_0905.jpg', '/content/drive/MyDrive/Brain_tumor/Training/meningioma/Tr-me_0859.jpg', '/content/drive/MyDrive/Brain_tumor/Training/pituitary/Tr-pi_1456.jpg', '/content/drive/MyDrive/Brain_tumor/Training/notumor/Tr-no_1305.jpg', '/content/drive/MyDrive/Brain_tumor/Training/pituitary/Tr-pi_0449.jpg', '/content/drive/MyDrive/Brain_tumor/Training/glioma/Tr-gl_1004.jpg', '/content/drive/MyDrive/Brain_tumor/Training/notumor/Tr-no_1574.jpg', '/content/drive/MyDrive/Brain_tumor/Training/meningioma/Tr-me_1182.jpg', '/content/drive/MyDrive/Brain_tumor/Training/meningioma/Tr-me_1313.jpg', '/content/drive/MyDrive/Brain_tumor/Training/pituitary/Tr-pi_0811.jpg', '/content/drive/MyDrive/Brain_tumor/Training/meningioma/Tr-me_0909.jpg', '/content/drive/MyDrive/Brain_tumor/Training/glioma/Tr-gl_0216.jpg', '/content/drive/MyDrive/Brain_tumor/Training/notumor/Tr-no_1555.jpg', '/content/drive/MyDrive/Brain_tumor/Training/pituitary/Tr-pi_1126.jpg', '/content/drive/MyDrive/Brain_tumor/Training/glioma/Tr-gl_0378.jpg', '/content/drive/MyDrive/Brain_tumor/Training/pituitary/Tr-pi_1027.jpg', '/content/drive/MyDrive/Brain_tumor/Training/meningioma/Tr-me_0114.jpg', '/content/drive/MyDrive/Brain_tumor/Training/pituitary/Tr-pi_0176.jpg', '/content/drive/MyDrive/Brain_tumor/Training/notumor/Tr-no_1209.jpg', '/content/drive/MyDrive/Brain_tumor/Training/notumor/Tr-no_0171.jpg', '/content/drive/MyDrive/Brain_tumor/Training/notumor/Tr-no_0791.jpg', '/content/drive/MyDrive/Brain_tumor/Training/glioma/Tr-gl_0577.jpg', '/content/drive/MyDrive/Brain_tumor/Training/glioma/Tr-gl_1214.jpg', '/content/drive/MyDrive/Brain_tumor/Training/glioma/Tr-gl_1189.jpg', '/content/drive/MyDrive/Brain_tumor/Training/pituitary/Tr-pi_1351.jpg', '/content/drive/MyDrive/Brain_tumor/Training/notumor/Tr-no_0639.jpg', '/content/drive/MyDrive/Brain_tumor/Training/glioma/Tr-gl_0651.jpg', '/content/drive/MyDrive/Brain_tumor/Training/meningioma/Tr-me_0166.jpg', '/content/drive/MyDrive/Brain_tumor/Training/pituitary/Tr-pi_1389.jpg', '/content/drive/MyDrive/Brain_tumor/Training/glioma/Tr-gl_1145.jpg', '/content/drive/MyDrive/Brain_tumor/Training/pituitary/Tr-pi_0893.jpg', '/content/drive/MyDrive/Brain_tumor/Training/meningioma/Tr-me_0470.jpg', '/content/drive/MyDrive/Brain_tumor/Training/notumor/Tr-no_0092.jpg', '/content/drive/MyDrive/Brain_tumor/Training/pituitary/Tr-pi_0560.jpg', '/content/drive/MyDrive/Brain_tumor/Training/meningioma/Tr-me_0599.jpg', '/content/drive/MyDrive/Brain_tumor/Training/glioma/Tr-gl_0324.jpg', '/content/drive/MyDrive/Brain_tumor/Training/glioma/Tr-gl_0078.jpg', '/content/drive/MyDrive/Brain_tumor/Training/pituitary/Tr-pi_0510.jpg', '/content/drive/MyDrive/Brain_tumor/Training/notumor/Tr-no_1553.jpg', '/content/drive/MyDrive/Brain_tumor/Training/glioma/Tr-gl_0200.jpg', '/content/drive/MyDrive/Brain_tumor/Training/pituitary/Tr-pi_0082.jpg', '/content/drive/MyDrive/Brain_tumor/Training/glioma/Tr-gl_0724.jpg', '/content/drive/MyDrive/Brain_tumor/Training/glioma/Tr-gl_0730.jpg', '/content/drive/MyDrive/Brain_tumor/Training/glioma/Tr-gl_0897.jpg', '/content/drive/MyDrive/Brain_tumor/Training/meningioma/Tr-me_0310.jpg', '/content/drive/MyDrive/Brain_tumor/Training/glioma/Tr-gl_0247.jpg', '/content/drive/MyDrive/Brain_tumor/Training/notumor/Tr-no_0263.jpg', '/content/drive/MyDrive/Brain_tumor/Training/glioma/Tr-gl_0271.jpg', '/content/drive/MyDrive/Brain_tumor/Training/notumor/Tr-no_0149.jpg', '/content/drive/MyDrive/Brain_tumor/Training/pituitary/Tr-pi_1217.jpg', '/content/drive/MyDrive/Brain_tumor/Training/glioma/Tr-gl_1155.jpg', '/content/drive/MyDrive/Brain_tumor/Training/notumor/Tr-no_0178.jpg', '/content/drive/MyDrive/Brain_tumor/Training/meningioma/Tr-me_0151.jpg', '/content/drive/MyDrive/Brain_tumor/Training/glioma/Tr-gl_0383.jpg', '/content/drive/MyDrive/Brain_tumor/Training/notumor/Tr-no_0906.jpg', '/content/drive/MyDrive/Brain_tumor/Training/pituitary/Tr-pi_0540.jpg', '/content/drive/MyDrive/Brain_tumor/Training/notumor/Tr-no_1258.jpg', '/content/drive/MyDrive/Brain_tumor/Training/pituitary/Tr-pi_0675.jpg', '/content/drive/MyDrive/Brain_tumor/Training/pituitary/Tr-pi_0083.jpg', '/content/drive/MyDrive/Brain_tumor/Training/pituitary/Tr-pi_0243.jpg', '/content/drive/MyDrive/Brain_tumor/Training/pituitary/Tr-pi_0654.jpg', '/content/drive/MyDrive/Brain_tumor/Training/notumor/Tr-no_1237.jpg', '/content/drive/MyDrive/Brain_tumor/Training/notumor/Tr-no_0298.jpg', '/content/drive/MyDrive/Brain_tumor/Training/meningioma/Tr-me_0315.jpg', '/content/drive/MyDrive/Brain_tumor/Training/notumor/Tr-no_0720.jpg', '/content/drive/MyDrive/Brain_tumor/Training/notumor/Tr-no_0783.jpg', '/content/drive/MyDrive/Brain_tumor/Training/pituitary/Tr-pi_0036.jpg', '/content/drive/MyDrive/Brain_tumor/Training/meningioma/Tr-me_1180.jpg', '/content/drive/MyDrive/Brain_tumor/Training/meningioma/Tr-me_0592.jpg', '/content/drive/MyDrive/Brain_tumor/Training/meningioma/Tr-me_0695.jpg', '/content/drive/MyDrive/Brain_tumor/Training/glioma/Tr-gl_0713.jpg', '/content/drive/MyDrive/Brain_tumor/Training/pituitary/Tr-pi_0830.jpg', '/content/drive/MyDrive/Brain_tumor/Training/pituitary/Tr-pi_1128.jpg', '/content/drive/MyDrive/Brain_tumor/Training/notumor/Tr-no_1363.jpg', '/content/drive/MyDrive/Brain_tumor/Training/meningioma/Tr-me_0060.jpg', '/content/drive/MyDrive/Brain_tumor/Training/pituitary/Tr-pi_0997.jpg', '/content/drive/MyDrive/Brain_tumor/Training/notumor/Tr-no_0839.jpg', '/content/drive/MyDrive/Brain_tumor/Training/notumor/Tr-no_0338.jpg', '/content/drive/MyDrive/Brain_tumor/Training/pituitary/Tr-pi_1216.jpg', '/content/drive/MyDrive/Brain_tumor/Training/notumor/Tr-no_0962.jpg', '/content/drive/MyDrive/Brain_tumor/Training/pituitary/Tr-pi_0658.jpg', '/content/drive/MyDrive/Brain_tumor/Training/meningioma/Tr-me_0203.jpg', '/content/drive/MyDrive/Brain_tumor/Training/meningioma/Tr-me_0409.jpg', '/content/drive/MyDrive/Brain_tumor/Training/meningioma/Tr-me_0170.jpg', '/content/drive/MyDrive/Brain_tumor/Training/glioma/Tr-gl_0871.jpg', '/content/drive/MyDrive/Brain_tumor/Training/pituitary/Tr-pi_0677.jpg', '/content/drive/MyDrive/Brain_tumor/Training/notumor/Tr-no_1102.jpg', '/content/drive/MyDrive/Brain_tumor/Training/meningioma/Tr-me_0519.jpg', '/content/drive/MyDrive/Brain_tumor/Training/glioma/Tr-glTr_0001.jpg', '/content/drive/MyDrive/Brain_tumor/Training/glioma/Tr-gl_0788.jpg', '/content/drive/MyDrive/Brain_tumor/Training/notumor/Tr-no_1396.jpg', '/content/drive/MyDrive/Brain_tumor/Training/notumor/Tr-no_0461.jpg', '/content/drive/MyDrive/Brain_tumor/Training/glioma/Tr-gl_0115.jpg', '/content/drive/MyDrive/Brain_tumor/Training/pituitary/Tr-pi_0419.jpg', '/content/drive/MyDrive/Brain_tumor/Training/meningioma/Tr-me_0691.jpg', '/content/drive/MyDrive/Brain_tumor/Training/pituitary/Tr-pi_0478.jpg', '/content/drive/MyDrive/Brain_tumor/Training/notumor/Tr-no_0163.jpg', '/content/drive/MyDrive/Brain_tumor/Training/notumor/Tr-no_0193.jpg', '/content/drive/MyDrive/Brain_tumor/Training/notumor/Tr-no_1518.jpg', '/content/drive/MyDrive/Brain_tumor/Training/glioma/Tr-gl_0151.jpg', '/content/drive/MyDrive/Brain_tumor/Training/pituitary/Tr-pi_0010.jpg', '/content/drive/MyDrive/Brain_tumor/Training/notumor/Tr-no_0736.jpg', '/content/drive/MyDrive/Brain_tumor/Training/pituitary/Tr-pi_0682.jpg', '/content/drive/MyDrive/Brain_tumor/Training/notumor/Tr-no_0682.jpg', '/content/drive/MyDrive/Brain_tumor/Training/pituitary/Tr-pi_0932.jpg', '/content/drive/MyDrive/Brain_tumor/Training/notumor/Tr-no_1168.jpg', '/content/drive/MyDrive/Brain_tumor/Training/notumor/Tr-no_1107.jpg', '/content/drive/MyDrive/Brain_tumor/Training/notumor/Tr-no_0033.jpg', '/content/drive/MyDrive/Brain_tumor/Training/notumor/Tr-no_1578.jpg', '/content/drive/MyDrive/Brain_tumor/Training/notumor/Tr-no_1431.jpg', '/content/drive/MyDrive/Brain_tumor/Training/pituitary/Tr-pi_1179.jpg', '/content/drive/MyDrive/Brain_tumor/Training/glioma/Tr-gl_0515.jpg', '/content/drive/MyDrive/Brain_tumor/Training/meningioma/Tr-me_0529.jpg', '/content/drive/MyDrive/Brain_tumor/Training/pituitary/Tr-pi_0549.jpg', '/content/drive/MyDrive/Brain_tumor/Training/meningioma/Tr-me_0274.jpg', '/content/drive/MyDrive/Brain_tumor/Training/pituitary/Tr-pi_1199.jpg', '/content/drive/MyDrive/Brain_tumor/Training/notumor/Tr-no_0425.jpg', '/content/drive/MyDrive/Brain_tumor/Training/glioma/Tr-gl_0787.jpg', '/content/drive/MyDrive/Brain_tumor/Training/glioma/Tr-gl_0612.jpg', '/content/drive/MyDrive/Brain_tumor/Training/meningioma/Tr-me_1315.jpg', '/content/drive/MyDrive/Brain_tumor/Training/pituitary/Tr-pi_1274.jpg', '/content/drive/MyDrive/Brain_tumor/Training/pituitary/Tr-pi_0364.jpg', '/content/drive/MyDrive/Brain_tumor/Training/glioma/Tr-gl_1074.jpg', '/content/drive/MyDrive/Brain_tumor/Training/glioma/Tr-gl_0431.jpg', '/content/drive/MyDrive/Brain_tumor/Training/glioma/Tr-gl_0359.jpg', '/content/drive/MyDrive/Brain_tumor/Training/glioma/Tr-gl_0337.jpg', '/content/drive/MyDrive/Brain_tumor/Training/pituitary/Tr-pi_0803.jpg', '/content/drive/MyDrive/Brain_tumor/Training/glioma/Tr-gl_0112.jpg', '/content/drive/MyDrive/Brain_tumor/Training/glioma/Tr-gl_0321.jpg', '/content/drive/MyDrive/Brain_tumor/Training/notumor/Tr-no_1421.jpg', '/content/drive/MyDrive/Brain_tumor/Training/glioma/Tr-gl_0954.jpg', '/content/drive/MyDrive/Brain_tumor/Training/notumor/Tr-no_1439.jpg', '/content/drive/MyDrive/Brain_tumor/Training/notumor/Tr-no_1508.jpg', '/content/drive/MyDrive/Brain_tumor/Training/notumor/Tr-no_0800.jpg', '/content/drive/MyDrive/Brain_tumor/Training/meningioma/Tr-me_0734.jpg', '/content/drive/MyDrive/Brain_tumor/Training/pituitary/Tr-pi_0277.jpg', '/content/drive/MyDrive/Brain_tumor/Training/meningioma/Tr-me_0809.jpg', '/content/drive/MyDrive/Brain_tumor/Training/meningioma/Tr-me_0928.jpg', '/content/drive/MyDrive/Brain_tumor/Training/pituitary/Tr-pi_0918.jpg', '/content/drive/MyDrive/Brain_tumor/Training/notumor/Tr-no_0539.jpg', '/content/drive/MyDrive/Brain_tumor/Training/notumor/Tr-no_0353.jpg', '/content/drive/MyDrive/Brain_tumor/Training/meningioma/Tr-me_0300.jpg', '/content/drive/MyDrive/Brain_tumor/Training/meningioma/Tr-me_0926.jpg', '/content/drive/MyDrive/Brain_tumor/Training/pituitary/Tr-pi_0397.jpg', '/content/drive/MyDrive/Brain_tumor/Training/notumor/Tr-no_1429.jpg', '/content/drive/MyDrive/Brain_tumor/Training/glioma/Tr-gl_0652.jpg', '/content/drive/MyDrive/Brain_tumor/Training/glioma/Tr-gl_0177.jpg', '/content/drive/MyDrive/Brain_tumor/Training/glioma/Tr-gl_0782.jpg', '/content/drive/MyDrive/Brain_tumor/Training/notumor/Tr-no_0904.jpg', '/content/drive/MyDrive/Brain_tumor/Training/notumor/Tr-no_0565.jpg', '/content/drive/MyDrive/Brain_tumor/Training/glioma/Tr-gl_1266.jpg', '/content/drive/MyDrive/Brain_tumor/Training/pituitary/Tr-pi_0383.jpg', '/content/drive/MyDrive/Brain_tumor/Training/meningioma/Tr-me_0856.jpg', '/content/drive/MyDrive/Brain_tumor/Training/pituitary/Tr-pi_1435.jpg', '/content/drive/MyDrive/Brain_tumor/Training/notumor/Tr-no_1062.jpg', '/content/drive/MyDrive/Brain_tumor/Training/pituitary/Tr-pi_0056.jpg', '/content/drive/MyDrive/Brain_tumor/Training/meningioma/Tr-me_0786.jpg', '/content/drive/MyDrive/Brain_tumor/Training/notumor/Tr-no_0648.jpg', '/content/drive/MyDrive/Brain_tumor/Training/meningioma/Tr-me_0219.jpg', '/content/drive/MyDrive/Brain_tumor/Training/glioma/Tr-gl_1233.jpg', '/content/drive/MyDrive/Brain_tumor/Training/pituitary/Tr-pi_1181.jpg', '/content/drive/MyDrive/Brain_tumor/Training/notumor/Tr-no_0325.jpg', '/content/drive/MyDrive/Brain_tumor/Training/pituitary/Tr-pi_1372.jpg', '/content/drive/MyDrive/Brain_tumor/Training/meningioma/Tr-me_1306.jpg', '/content/drive/MyDrive/Brain_tumor/Training/glioma/Tr-gl_0237.jpg', '/content/drive/MyDrive/Brain_tumor/Training/notumor/Tr-no_0954.jpg', '/content/drive/MyDrive/Brain_tumor/Training/meningioma/Tr-me_1134.jpg', '/content/drive/MyDrive/Brain_tumor/Training/glioma/Tr-gl_0402.jpg', '/content/drive/MyDrive/Brain_tumor/Training/notumor/Tr-no_1027.jpg', '/content/drive/MyDrive/Brain_tumor/Training/meningioma/Tr-me_0635.jpg', '/content/drive/MyDrive/Brain_tumor/Training/glioma/Tr-gl_0729.jpg', '/content/drive/MyDrive/Brain_tumor/Training/notumor/Tr-no_0274.jpg', '/content/drive/MyDrive/Brain_tumor/Training/meningioma/Tr-me_0162.jpg', '/content/drive/MyDrive/Brain_tumor/Training/notumor/Tr-no_0662.jpg', '/content/drive/MyDrive/Brain_tumor/Training/meningioma/Tr-me_0311.jpg', '/content/drive/MyDrive/Brain_tumor/Training/glioma/Tr-gl_0050.jpg', '/content/drive/MyDrive/Brain_tumor/Training/meningioma/Tr-me_0419.jpg', '/content/drive/MyDrive/Brain_tumor/Training/notumor/Tr-no_1043.jpg', '/content/drive/MyDrive/Brain_tumor/Training/notumor/Tr-noTr_0009.jpg', '/content/drive/MyDrive/Brain_tumor/Training/pituitary/Tr-pi_0420.jpg', '/content/drive/MyDrive/Brain_tumor/Training/pituitary/Tr-pi_0049.jpg', '/content/drive/MyDrive/Brain_tumor/Training/notumor/Tr-no_0180.jpg', '/content/drive/MyDrive/Brain_tumor/Training/meningioma/Tr-me_0770.jpg', '/content/drive/MyDrive/Brain_tumor/Training/pituitary/Tr-pi_0211.jpg', '/content/drive/MyDrive/Brain_tumor/Training/notumor/Tr-no_0222.jpg', '/content/drive/MyDrive/Brain_tumor/Training/pituitary/Tr-pi_0615.jpg', '/content/drive/MyDrive/Brain_tumor/Training/notumor/Tr-no_0712.jpg', '/content/drive/MyDrive/Brain_tumor/Training/meningioma/Tr-me_0823.jpg', '/content/drive/MyDrive/Brain_tumor/Training/pituitary/Tr-pi_1264.jpg', '/content/drive/MyDrive/Brain_tumor/Training/notumor/Tr-no_0632.jpg', '/content/drive/MyDrive/Brain_tumor/Training/notumor/Tr-no_0554.jpg', '/content/drive/MyDrive/Brain_tumor/Training/meningioma/Tr-me_0741.jpg', '/content/drive/MyDrive/Brain_tumor/Training/notumor/Tr-no_0882.jpg', '/content/drive/MyDrive/Brain_tumor/Training/glioma/Tr-gl_0400.jpg', '/content/drive/MyDrive/Brain_tumor/Training/glioma/Tr-gl_1100.jpg', '/content/drive/MyDrive/Brain_tumor/Training/pituitary/Tr-pi_0919.jpg', '/content/drive/MyDrive/Brain_tumor/Training/meningioma/Tr-me_0292.jpg', '/content/drive/MyDrive/Brain_tumor/Training/meningioma/Tr-me_1240.jpg', '/content/drive/MyDrive/Brain_tumor/Training/notumor/Tr-no_1148.jpg', '/content/drive/MyDrive/Brain_tumor/Training/meningioma/Tr-me_0212.jpg', '/content/drive/MyDrive/Brain_tumor/Training/notumor/Tr-no_1292.jpg', '/content/drive/MyDrive/Brain_tumor/Training/meningioma/Tr-me_1297.jpg', '/content/drive/MyDrive/Brain_tumor/Training/glioma/Tr-gl_0105.jpg', '/content/drive/MyDrive/Brain_tumor/Training/notumor/Tr-no_1271.jpg', '/content/drive/MyDrive/Brain_tumor/Training/pituitary/Tr-pi_1375.jpg', '/content/drive/MyDrive/Brain_tumor/Training/pituitary/Tr-pi_0379.jpg', '/content/drive/MyDrive/Brain_tumor/Training/notumor/Tr-no_0514.jpg', '/content/drive/MyDrive/Brain_tumor/Training/pituitary/Tr-pi_1024.jpg', '/content/drive/MyDrive/Brain_tumor/Training/meningioma/Tr-me_1236.jpg', '/content/drive/MyDrive/Brain_tumor/Training/pituitary/Tr-pi_1243.jpg', '/content/drive/MyDrive/Brain_tumor/Training/meningioma/Tr-me_0136.jpg', '/content/drive/MyDrive/Brain_tumor/Training/notumor/Tr-no_0065.jpg', '/content/drive/MyDrive/Brain_tumor/Training/meningioma/Tr-me_0063.jpg', '/content/drive/MyDrive/Brain_tumor/Training/glioma/Tr-gl_0610.jpg', '/content/drive/MyDrive/Brain_tumor/Training/pituitary/Tr-pi_0601.jpg', '/content/drive/MyDrive/Brain_tumor/Training/notumor/Tr-no_1052.jpg', '/content/drive/MyDrive/Brain_tumor/Training/meningioma/Tr-me_0922.jpg', '/content/drive/MyDrive/Brain_tumor/Training/notumor/Tr-no_0749.jpg', '/content/drive/MyDrive/Brain_tumor/Training/meningioma/Tr-me_0426.jpg', '/content/drive/MyDrive/Brain_tumor/Training/glioma/Tr-gl_0291.jpg', '/content/drive/MyDrive/Brain_tumor/Training/meningioma/Tr-me_1225.jpg', '/content/drive/MyDrive/Brain_tumor/Training/glioma/Tr-gl_0326.jpg', '/content/drive/MyDrive/Brain_tumor/Training/glioma/Tr-gl_1023.jpg', '/content/drive/MyDrive/Brain_tumor/Training/glioma/Tr-gl_0470.jpg', '/content/drive/MyDrive/Brain_tumor/Training/notumor/Tr-no_0624.jpg', '/content/drive/MyDrive/Brain_tumor/Training/meningioma/Tr-me_0177.jpg', '/content/drive/MyDrive/Brain_tumor/Training/meningioma/Tr-me_1082.jpg', '/content/drive/MyDrive/Brain_tumor/Training/pituitary/Tr-pi_1427.jpg', '/content/drive/MyDrive/Brain_tumor/Training/notumor/Tr-no_1126.jpg', '/content/drive/MyDrive/Brain_tumor/Training/glioma/Tr-gl_0339.jpg', '/content/drive/MyDrive/Brain_tumor/Training/glioma/Tr-gl_0088.jpg', '/content/drive/MyDrive/Brain_tumor/Training/pituitary/Tr-pi_1431.jpg', '/content/drive/MyDrive/Brain_tumor/Training/meningioma/Tr-me_0472.jpg', '/content/drive/MyDrive/Brain_tumor/Training/pituitary/Tr-pi_0788.jpg', '/content/drive/MyDrive/Brain_tumor/Training/glioma/Tr-gl_0591.jpg', '/content/drive/MyDrive/Brain_tumor/Training/pituitary/Tr-pi_0859.jpg', '/content/drive/MyDrive/Brain_tumor/Training/notumor/Tr-no_0106.jpg', '/content/drive/MyDrive/Brain_tumor/Training/meningioma/Tr-me_0845.jpg', '/content/drive/MyDrive/Brain_tumor/Training/meningioma/Tr-me_1005.jpg', '/content/drive/MyDrive/Brain_tumor/Training/pituitary/Tr-pi_0698.jpg', '/content/drive/MyDrive/Brain_tumor/Training/notumor/Tr-no_1369.jpg', '/content/drive/MyDrive/Brain_tumor/Training/glioma/Tr-gl_0503.jpg', '/content/drive/MyDrive/Brain_tumor/Training/glioma/Tr-gl_0982.jpg', '/content/drive/MyDrive/Brain_tumor/Training/glioma/Tr-gl_0618.jpg', '/content/drive/MyDrive/Brain_tumor/Training/notumor/Tr-no_0735.jpg', '/content/drive/MyDrive/Brain_tumor/Training/notumor/Tr-no_1133.jpg', '/content/drive/MyDrive/Brain_tumor/Training/pituitary/Tr-pi_1234.jpg', '/content/drive/MyDrive/Brain_tumor/Training/meningioma/Tr-me_0703.jpg', '/content/drive/MyDrive/Brain_tumor/Training/notumor/Tr-no_1467.jpg', '/content/drive/MyDrive/Brain_tumor/Training/glioma/Tr-gl_0894.jpg', '/content/drive/MyDrive/Brain_tumor/Training/pituitary/Tr-pi_1328.jpg', '/content/drive/MyDrive/Brain_tumor/Training/pituitary/Tr-pi_0903.jpg', '/content/drive/MyDrive/Brain_tumor/Training/glioma/Tr-gl_0329.jpg', '/content/drive/MyDrive/Brain_tumor/Training/notumor/Tr-no_0356.jpg', '/content/drive/MyDrive/Brain_tumor/Training/notumor/Tr-no_1330.jpg', '/content/drive/MyDrive/Brain_tumor/Training/pituitary/Tr-pi_0551.jpg', '/content/drive/MyDrive/Brain_tumor/Training/pituitary/Tr-pi_0107.jpg', '/content/drive/MyDrive/Brain_tumor/Training/pituitary/Tr-pi_0958.jpg', '/content/drive/MyDrive/Brain_tumor/Training/notumor/Tr-no_0378.jpg', '/content/drive/MyDrive/Brain_tumor/Training/notumor/Tr-no_1332.jpg', '/content/drive/MyDrive/Brain_tumor/Training/meningioma/Tr-me_0788.jpg', '/content/drive/MyDrive/Brain_tumor/Training/pituitary/Tr-pi_0636.jpg', '/content/drive/MyDrive/Brain_tumor/Training/meningioma/Tr-me_0059.jpg', '/content/drive/MyDrive/Brain_tumor/Training/pituitary/Tr-pi_0606.jpg', '/content/drive/MyDrive/Brain_tumor/Training/pituitary/Tr-pi_0678.jpg', '/content/drive/MyDrive/Brain_tumor/Training/notumor/Tr-no_0525.jpg', '/content/drive/MyDrive/Brain_tumor/Training/pituitary/Tr-pi_0086.jpg', '/content/drive/MyDrive/Brain_tumor/Training/pituitary/Tr-pi_0667.jpg', '/content/drive/MyDrive/Brain_tumor/Training/glioma/Tr-gl_0398.jpg', '/content/drive/MyDrive/Brain_tumor/Training/notumor/Tr-no_0058.jpg', '/content/drive/MyDrive/Brain_tumor/Training/notumor/Tr-no_0766.jpg', '/content/drive/MyDrive/Brain_tumor/Training/pituitary/Tr-pi_0537.jpg', '/content/drive/MyDrive/Brain_tumor/Training/meningioma/Tr-me_0972.jpg', '/content/drive/MyDrive/Brain_tumor/Training/pituitary/Tr-pi_1124.jpg', '/content/drive/MyDrive/Brain_tumor/Training/notumor/Tr-no_0835.jpg', '/content/drive/MyDrive/Brain_tumor/Training/meningioma/Tr-meTr_0009.jpg', '/content/drive/MyDrive/Brain_tumor/Training/pituitary/Tr-pi_1139.jpg', '/content/drive/MyDrive/Brain_tumor/Training/notumor/Tr-no_1257.jpg', '/content/drive/MyDrive/Brain_tumor/Training/notumor/Tr-no_0804.jpg', '/content/drive/MyDrive/Brain_tumor/Training/meningioma/Tr-me_1329.jpg', '/content/drive/MyDrive/Brain_tumor/Training/glioma/Tr-gl_0347.jpg', '/content/drive/MyDrive/Brain_tumor/Training/pituitary/Tr-pi_0957.jpg', '/content/drive/MyDrive/Brain_tumor/Training/pituitary/Tr-pi_0492.jpg', '/content/drive/MyDrive/Brain_tumor/Training/meningioma/Tr-me_1007.jpg', '/content/drive/MyDrive/Brain_tumor/Training/notumor/Tr-no_0826.jpg', '/content/drive/MyDrive/Brain_tumor/Training/notumor/Tr-no_0746.jpg', '/content/drive/MyDrive/Brain_tumor/Training/glioma/Tr-gl_0327.jpg', '/content/drive/MyDrive/Brain_tumor/Training/notumor/Tr-no_0536.jpg', '/content/drive/MyDrive/Brain_tumor/Training/meningioma/Tr-me_0481.jpg', '/content/drive/MyDrive/Brain_tumor/Training/pituitary/Tr-pi_0999.jpg', '/content/drive/MyDrive/Brain_tumor/Training/notumor/Tr-no_1162.jpg', '/content/drive/MyDrive/Brain_tumor/Training/notumor/Tr-no_0541.jpg', '/content/drive/MyDrive/Brain_tumor/Training/glioma/Tr-gl_1120.jpg', '/content/drive/MyDrive/Brain_tumor/Training/pituitary/Tr-pi_0925.jpg', '/content/drive/MyDrive/Brain_tumor/Training/notumor/Tr-no_0305.jpg', '/content/drive/MyDrive/Brain_tumor/Training/pituitary/Tr-pi_0743.jpg', '/content/drive/MyDrive/Brain_tumor/Training/pituitary/Tr-pi_1396.jpg', '/content/drive/MyDrive/Brain_tumor/Training/notumor/Tr-no_1210.jpg', '/content/drive/MyDrive/Brain_tumor/Training/meningioma/Tr-me_0182.jpg', '/content/drive/MyDrive/Brain_tumor/Training/notumor/Tr-no_0983.jpg', '/content/drive/MyDrive/Brain_tumor/Training/meningioma/Tr-me_0340.jpg', '/content/drive/MyDrive/Brain_tumor/Training/meningioma/Tr-me_0956.jpg', '/content/drive/MyDrive/Brain_tumor/Training/notumor/Tr-no_1172.jpg', '/content/drive/MyDrive/Brain_tumor/Training/meningioma/Tr-me_0644.jpg', '/content/drive/MyDrive/Brain_tumor/Training/meningioma/Tr-me_1206.jpg', '/content/drive/MyDrive/Brain_tumor/Training/notumor/Tr-no_0124.jpg', '/content/drive/MyDrive/Brain_tumor/Training/notumor/Tr-no_0336.jpg', '/content/drive/MyDrive/Brain_tumor/Training/glioma/Tr-gl_1092.jpg', '/content/drive/MyDrive/Brain_tumor/Training/glioma/Tr-gl_0604.jpg', '/content/drive/MyDrive/Brain_tumor/Training/glioma/Tr-gl_0647.jpg', '/content/drive/MyDrive/Brain_tumor/Training/notumor/Tr-no_0694.jpg', '/content/drive/MyDrive/Brain_tumor/Training/pituitary/Tr-pi_0524.jpg', '/content/drive/MyDrive/Brain_tumor/Training/notumor/Tr-no_0961.jpg', '/content/drive/MyDrive/Brain_tumor/Training/notumor/Tr-no_0767.jpg', '/content/drive/MyDrive/Brain_tumor/Training/glioma/Tr-gl_0885.jpg', '/content/drive/MyDrive/Brain_tumor/Training/notumor/Tr-no_0111.jpg', '/content/drive/MyDrive/Brain_tumor/Training/notumor/Tr-no_0095.jpg', '/content/drive/MyDrive/Brain_tumor/Training/meningioma/Tr-me_1184.jpg', '/content/drive/MyDrive/Brain_tumor/Training/pituitary/Tr-pi_0582.jpg', '/content/drive/MyDrive/Brain_tumor/Training/meningioma/Tr-me_0699.jpg', '/content/drive/MyDrive/Brain_tumor/Training/notumor/Tr-no_0728.jpg', '/content/drive/MyDrive/Brain_tumor/Training/pituitary/Tr-pi_0596.jpg', '/content/drive/MyDrive/Brain_tumor/Training/glioma/Tr-gl_1184.jpg', '/content/drive/MyDrive/Brain_tumor/Training/pituitary/Tr-pi_1036.jpg', '/content/drive/MyDrive/Brain_tumor/Training/pituitary/Tr-pi_1142.jpg', '/content/drive/MyDrive/Brain_tumor/Training/notumor/Tr-no_1392.jpg', '/content/drive/MyDrive/Brain_tumor/Training/notumor/Tr-no_1397.jpg', '/content/drive/MyDrive/Brain_tumor/Training/pituitary/Tr-pi_0638.jpg', '/content/drive/MyDrive/Brain_tumor/Training/meningioma/Tr-me_0879.jpg', '/content/drive/MyDrive/Brain_tumor/Training/glioma/Tr-gl_1153.jpg', '/content/drive/MyDrive/Brain_tumor/Training/notumor/Tr-no_1493.jpg', '/content/drive/MyDrive/Brain_tumor/Training/notumor/Tr-no_0505.jpg', '/content/drive/MyDrive/Brain_tumor/Training/pituitary/Tr-pi_0828.jpg', '/content/drive/MyDrive/Brain_tumor/Training/meningioma/Tr-me_0725.jpg', '/content/drive/MyDrive/Brain_tumor/Training/glioma/Tr-gl_0035.jpg', '/content/drive/MyDrive/Brain_tumor/Training/meningioma/Tr-me_0318.jpg', '/content/drive/MyDrive/Brain_tumor/Training/meningioma/Tr-me_1122.jpg', '/content/drive/MyDrive/Brain_tumor/Training/pituitary/Tr-pi_0028.jpg', '/content/drive/MyDrive/Brain_tumor/Training/glioma/Tr-gl_0332.jpg', '/content/drive/MyDrive/Brain_tumor/Training/pituitary/Tr-pi_1130.jpg', '/content/drive/MyDrive/Brain_tumor/Training/glioma/Tr-gl_0745.jpg', '/content/drive/MyDrive/Brain_tumor/Training/pituitary/Tr-pi_0495.jpg', '/content/drive/MyDrive/Brain_tumor/Training/glioma/Tr-gl_0766.jpg', '/content/drive/MyDrive/Brain_tumor/Training/pituitary/Tr-pi_1292.jpg', '/content/drive/MyDrive/Brain_tumor/Training/pituitary/Tr-pi_0324.jpg', '/content/drive/MyDrive/Brain_tumor/Training/glioma/Tr-gl_1136.jpg', '/content/drive/MyDrive/Brain_tumor/Training/notumor/Tr-no_1337.jpg', '/content/drive/MyDrive/Brain_tumor/Training/pituitary/Tr-pi_0085.jpg', '/content/drive/MyDrive/Brain_tumor/Training/meningioma/Tr-me_0186.jpg', '/content/drive/MyDrive/Brain_tumor/Training/pituitary/Tr-pi_0768.jpg', '/content/drive/MyDrive/Brain_tumor/Training/glioma/Tr-gl_0487.jpg', '/content/drive/MyDrive/Brain_tumor/Training/glioma/Tr-gl_0223.jpg', '/content/drive/MyDrive/Brain_tumor/Training/meningioma/Tr-me_1099.jpg', '/content/drive/MyDrive/Brain_tumor/Training/notumor/Tr-no_1546.jpg', '/content/drive/MyDrive/Brain_tumor/Training/notumor/Tr-no_1220.jpg', '/content/drive/MyDrive/Brain_tumor/Training/pituitary/Tr-pi_0468.jpg', '/content/drive/MyDrive/Brain_tumor/Training/notumor/Tr-no_1584.jpg', '/content/drive/MyDrive/Brain_tumor/Training/notumor/Tr-no_0764.jpg', '/content/drive/MyDrive/Brain_tumor/Training/meningioma/Tr-me_0273.jpg', '/content/drive/MyDrive/Brain_tumor/Training/pituitary/Tr-pi_1285.jpg', '/content/drive/MyDrive/Brain_tumor/Training/glioma/Tr-gl_1318.jpg', '/content/drive/MyDrive/Brain_tumor/Training/pituitary/Tr-pi_0736.jpg', '/content/drive/MyDrive/Brain_tumor/Training/notumor/Tr-no_0349.jpg', '/content/drive/MyDrive/Brain_tumor/Training/notumor/Tr-no_1348.jpg', '/content/drive/MyDrive/Brain_tumor/Training/pituitary/Tr-pi_1390.jpg', '/content/drive/MyDrive/Brain_tumor/Training/meningioma/Tr-meTr_0006.jpg', '/content/drive/MyDrive/Brain_tumor/Training/pituitary/Tr-pi_0117.jpg', '/content/drive/MyDrive/Brain_tumor/Training/notumor/Tr-no_0053.jpg', '/content/drive/MyDrive/Brain_tumor/Training/glioma/Tr-gl_0380.jpg', '/content/drive/MyDrive/Brain_tumor/Training/notumor/Tr-no_1331.jpg', '/content/drive/MyDrive/Brain_tumor/Training/pituitary/Tr-pi_0015.jpg', '/content/drive/MyDrive/Brain_tumor/Training/glioma/Tr-gl_1299.jpg', '/content/drive/MyDrive/Brain_tumor/Training/meningioma/Tr-me_0134.jpg', '/content/drive/MyDrive/Brain_tumor/Training/glioma/Tr-gl_1305.jpg', '/content/drive/MyDrive/Brain_tumor/Training/meningioma/Tr-me_0263.jpg', '/content/drive/MyDrive/Brain_tumor/Training/meningioma/Tr-me_1251.jpg', '/content/drive/MyDrive/Brain_tumor/Training/pituitary/Tr-pi_0883.jpg', '/content/drive/MyDrive/Brain_tumor/Training/meningioma/Tr-me_0022.jpg', '/content/drive/MyDrive/Brain_tumor/Training/meningioma/Tr-me_0459.jpg', '/content/drive/MyDrive/Brain_tumor/Training/glioma/Tr-gl_0373.jpg', '/content/drive/MyDrive/Brain_tumor/Training/notumor/Tr-no_0030.jpg', '/content/drive/MyDrive/Brain_tumor/Training/meningioma/Tr-me_1045.jpg', '/content/drive/MyDrive/Brain_tumor/Training/glioma/Tr-gl_1053.jpg', '/content/drive/MyDrive/Brain_tumor/Training/pituitary/Tr-pi_1091.jpg', '/content/drive/MyDrive/Brain_tumor/Training/notumor/Tr-no_0716.jpg', '/content/drive/MyDrive/Brain_tumor/Training/notumor/Tr-no_1318.jpg', '/content/drive/MyDrive/Brain_tumor/Training/meningioma/Tr-me_0394.jpg', '/content/drive/MyDrive/Brain_tumor/Training/meningioma/Tr-me_1320.jpg', '/content/drive/MyDrive/Brain_tumor/Training/notumor/Tr-no_0191.jpg', '/content/drive/MyDrive/Brain_tumor/Training/notumor/Tr-no_1022.jpg', '/content/drive/MyDrive/Brain_tumor/Training/notumor/Tr-no_0670.jpg', '/content/drive/MyDrive/Brain_tumor/Training/meningioma/Tr-me_1291.jpg', '/content/drive/MyDrive/Brain_tumor/Training/glioma/Tr-gl_0069.jpg', '/content/drive/MyDrive/Brain_tumor/Training/meningioma/Tr-me_0045.jpg', '/content/drive/MyDrive/Brain_tumor/Training/glioma/Tr-gl_1197.jpg', '/content/drive/MyDrive/Brain_tumor/Training/glioma/Tr-gl_0313.jpg', '/content/drive/MyDrive/Brain_tumor/Training/notumor/Tr-no_0167.jpg', '/content/drive/MyDrive/Brain_tumor/Training/pituitary/Tr-pi_0863.jpg', '/content/drive/MyDrive/Brain_tumor/Training/pituitary/Tr-pi_0256.jpg', '/content/drive/MyDrive/Brain_tumor/Training/notumor/Tr-no_0048.jpg', '/content/drive/MyDrive/Brain_tumor/Training/notumor/Tr-no_1434.jpg', '/content/drive/MyDrive/Brain_tumor/Training/glioma/Tr-gl_0589.jpg', '/content/drive/MyDrive/Brain_tumor/Training/notumor/Tr-no_0209.jpg', '/content/drive/MyDrive/Brain_tumor/Training/pituitary/Tr-pi_0655.jpg', '/content/drive/MyDrive/Brain_tumor/Training/pituitary/Tr-pi_1347.jpg', '/content/drive/MyDrive/Brain_tumor/Training/notumor/Tr-no_0086.jpg', '/content/drive/MyDrive/Brain_tumor/Training/meningioma/Tr-me_0210.jpg', '/content/drive/MyDrive/Brain_tumor/Training/glioma/Tr-gl_1040.jpg', '/content/drive/MyDrive/Brain_tumor/Training/glioma/Tr-gl_0716.jpg', '/content/drive/MyDrive/Brain_tumor/Training/meningioma/Tr-me_0643.jpg', '/content/drive/MyDrive/Brain_tumor/Training/meningioma/Tr-me_0824.jpg', '/content/drive/MyDrive/Brain_tumor/Training/pituitary/Tr-pi_0067.jpg', '/content/drive/MyDrive/Brain_tumor/Training/pituitary/Tr-pi_0278.jpg', '/content/drive/MyDrive/Brain_tumor/Training/notumor/Tr-no_1520.jpg', '/content/drive/MyDrive/Brain_tumor/Training/pituitary/Tr-pi_0114.jpg', '/content/drive/MyDrive/Brain_tumor/Training/meningioma/Tr-me_1126.jpg', '/content/drive/MyDrive/Brain_tumor/Training/meningioma/Tr-me_0698.jpg', '/content/drive/MyDrive/Brain_tumor/Training/notumor/Tr-no_0631.jpg', '/content/drive/MyDrive/Brain_tumor/Training/glioma/Tr-gl_0138.jpg', '/content/drive/MyDrive/Brain_tumor/Training/glioma/Tr-gl_0542.jpg', '/content/drive/MyDrive/Brain_tumor/Training/notumor/Tr-no_1471.jpg', '/content/drive/MyDrive/Brain_tumor/Training/meningioma/Tr-me_0954.jpg', '/content/drive/MyDrive/Brain_tumor/Training/notumor/Tr-no_1280.jpg', '/content/drive/MyDrive/Brain_tumor/Training/pituitary/Tr-pi_0630.jpg', '/content/drive/MyDrive/Brain_tumor/Training/pituitary/Tr-pi_1031.jpg', '/content/drive/MyDrive/Brain_tumor/Training/pituitary/Tr-pi_1440.jpg', '/content/drive/MyDrive/Brain_tumor/Training/glioma/Tr-gl_0842.jpg', '/content/drive/MyDrive/Brain_tumor/Training/pituitary/Tr-pi_0080.jpg', '/content/drive/MyDrive/Brain_tumor/Training/glioma/Tr-gl_0584.jpg', '/content/drive/MyDrive/Brain_tumor/Training/notumor/Tr-no_0787.jpg', '/content/drive/MyDrive/Brain_tumor/Training/glioma/Tr-gl_0644.jpg', '/content/drive/MyDrive/Brain_tumor/Training/notumor/Tr-no_0351.jpg', '/content/drive/MyDrive/Brain_tumor/Training/notumor/Tr-no_0610.jpg', '/content/drive/MyDrive/Brain_tumor/Training/meningioma/Tr-me_0069.jpg', '/content/drive/MyDrive/Brain_tumor/Training/notumor/Tr-no_0204.jpg', '/content/drive/MyDrive/Brain_tumor/Training/meningioma/Tr-me_0331.jpg', '/content/drive/MyDrive/Brain_tumor/Training/meningioma/Tr-me_1311.jpg', '/content/drive/MyDrive/Brain_tumor/Training/glioma/Tr-gl_0517.jpg', '/content/drive/MyDrive/Brain_tumor/Training/meningioma/Tr-me_1078.jpg', '/content/drive/MyDrive/Brain_tumor/Training/pituitary/Tr-pi_0777.jpg', '/content/drive/MyDrive/Brain_tumor/Training/meningioma/Tr-me_1115.jpg', '/content/drive/MyDrive/Brain_tumor/Training/pituitary/Tr-pi_0224.jpg', '/content/drive/MyDrive/Brain_tumor/Training/meningioma/Tr-me_0655.jpg', '/content/drive/MyDrive/Brain_tumor/Training/pituitary/Tr-pi_0790.jpg', '/content/drive/MyDrive/Brain_tumor/Training/meningioma/Tr-me_0245.jpg', '/content/drive/MyDrive/Brain_tumor/Training/glioma/Tr-gl_0910.jpg', '/content/drive/MyDrive/Brain_tumor/Training/glioma/Tr-gl_0867.jpg', '/content/drive/MyDrive/Brain_tumor/Training/notumor/Tr-no_0375.jpg', '/content/drive/MyDrive/Brain_tumor/Training/glioma/Tr-gl_0171.jpg', '/content/drive/MyDrive/Brain_tumor/Training/meningioma/Tr-me_0558.jpg', '/content/drive/MyDrive/Brain_tumor/Training/pituitary/Tr-pi_0604.jpg', '/content/drive/MyDrive/Brain_tumor/Training/pituitary/Tr-pi_0517.jpg', '/content/drive/MyDrive/Brain_tumor/Training/meningioma/Tr-me_0244.jpg', '/content/drive/MyDrive/Brain_tumor/Training/meningioma/Tr-me_0512.jpg', '/content/drive/MyDrive/Brain_tumor/Training/pituitary/Tr-pi_1418.jpg', '/content/drive/MyDrive/Brain_tumor/Training/notumor/Tr-no_1157.jpg', '/content/drive/MyDrive/Brain_tumor/Training/glioma/Tr-gl_0435.jpg', '/content/drive/MyDrive/Brain_tumor/Training/pituitary/Tr-pi_1384.jpg', '/content/drive/MyDrive/Brain_tumor/Training/notumor/Tr-no_0052.jpg', '/content/drive/MyDrive/Brain_tumor/Training/pituitary/Tr-pi_0986.jpg', '/content/drive/MyDrive/Brain_tumor/Training/notumor/Tr-no_1524.jpg', '/content/drive/MyDrive/Brain_tumor/Training/glioma/Tr-gl_1211.jpg', '/content/drive/MyDrive/Brain_tumor/Training/meningioma/Tr-me_0541.jpg', '/content/drive/MyDrive/Brain_tumor/Training/pituitary/Tr-pi_0741.jpg', '/content/drive/MyDrive/Brain_tumor/Training/glioma/Tr-gl_1239.jpg', '/content/drive/MyDrive/Brain_tumor/Training/notumor/Tr-no_0542.jpg', '/content/drive/MyDrive/Brain_tumor/Training/notumor/Tr-no_0234 (1).jpg', '/content/drive/MyDrive/Brain_tumor/Training/glioma/Tr-gl_1192.jpg', '/content/drive/MyDrive/Brain_tumor/Training/meningioma/Tr-me_0907.jpg', '/content/drive/MyDrive/Brain_tumor/Training/pituitary/Tr-pi_0781.jpg', '/content/drive/MyDrive/Brain_tumor/Training/notumor/Tr-no_1143.jpg', '/content/drive/MyDrive/Brain_tumor/Training/meningioma/Tr-me_0869.jpg', '/content/drive/MyDrive/Brain_tumor/Training/meningioma/Tr-me_0227.jpg', '/content/drive/MyDrive/Brain_tumor/Training/meningioma/Tr-me_1102.jpg', '/content/drive/MyDrive/Brain_tumor/Training/pituitary/Tr-pi_0867.jpg', '/content/drive/MyDrive/Brain_tumor/Training/pituitary/Tr-pi_1355.jpg', '/content/drive/MyDrive/Brain_tumor/Training/glioma/Tr-gl_1254.jpg', '/content/drive/MyDrive/Brain_tumor/Training/meningioma/Tr-me_0164.jpg', '/content/drive/MyDrive/Brain_tumor/Training/glioma/Tr-gl_1163.jpg', '/content/drive/MyDrive/Brain_tumor/Training/meningioma/Tr-me_0683.jpg', '/content/drive/MyDrive/Brain_tumor/Training/notumor/Tr-no_1306.jpg', '/content/drive/MyDrive/Brain_tumor/Training/pituitary/Tr-pi_1026.jpg', '/content/drive/MyDrive/Brain_tumor/Training/pituitary/Tr-pi_1437.jpg', '/content/drive/MyDrive/Brain_tumor/Training/notumor/Tr-no_0187.jpg', '/content/drive/MyDrive/Brain_tumor/Training/meningioma/Tr-me_0893.jpg', '/content/drive/MyDrive/Brain_tumor/Training/notumor/Tr-no_1070.jpg', '/content/drive/MyDrive/Brain_tumor/Training/glioma/Tr-gl_0152.jpg', '/content/drive/MyDrive/Brain_tumor/Training/pituitary/Tr-pi_1369.jpg', '/content/drive/MyDrive/Brain_tumor/Training/notumor/Tr-no_1005.jpg', '/content/drive/MyDrive/Brain_tumor/Training/notumor/Tr-no_1137.jpg', '/content/drive/MyDrive/Brain_tumor/Training/glioma/Tr-gl_0013.jpg', '/content/drive/MyDrive/Brain_tumor/Training/notumor/Tr-no_1153.jpg', '/content/drive/MyDrive/Brain_tumor/Training/pituitary/Tr-pi_1397.jpg', '/content/drive/MyDrive/Brain_tumor/Training/meningioma/Tr-me_0540.jpg', '/content/drive/MyDrive/Brain_tumor/Training/glioma/Tr-gl_0335.jpg', '/content/drive/MyDrive/Brain_tumor/Training/glioma/Tr-gl_0820.jpg', '/content/drive/MyDrive/Brain_tumor/Training/notumor/Tr-no_1525.jpg', '/content/drive/MyDrive/Brain_tumor/Training/meningioma/Tr-me_0064.jpg', '/content/drive/MyDrive/Brain_tumor/Training/notumor/Tr-no_1039.jpg', '/content/drive/MyDrive/Brain_tumor/Training/notumor/Tr-no_0981.jpg', '/content/drive/MyDrive/Brain_tumor/Training/meningioma/Tr-me_0931.jpg', '/content/drive/MyDrive/Brain_tumor/Training/notumor/Tr-no_0948.jpg', '/content/drive/MyDrive/Brain_tumor/Training/notumor/Tr-no_0463.jpg', '/content/drive/MyDrive/Brain_tumor/Training/meningioma/Tr-me_0154.jpg', '/content/drive/MyDrive/Brain_tumor/Training/glioma/Tr-gl_1030.jpg', '/content/drive/MyDrive/Brain_tumor/Training/pituitary/Tr-pi_0142.jpg', '/content/drive/MyDrive/Brain_tumor/Training/meningioma/Tr-me_0488.jpg', '/content/drive/MyDrive/Brain_tumor/Training/meningioma/Tr-me_1171.jpg', '/content/drive/MyDrive/Brain_tumor/Training/meningioma/Tr-me_1224.jpg', '/content/drive/MyDrive/Brain_tumor/Training/pituitary/Tr-pi_1233.jpg', '/content/drive/MyDrive/Brain_tumor/Training/meningioma/Tr-me_0038.jpg', '/content/drive/MyDrive/Brain_tumor/Training/notumor/Tr-no_0328.jpg', '/content/drive/MyDrive/Brain_tumor/Training/meningioma/Tr-me_0250.jpg', '/content/drive/MyDrive/Brain_tumor/Training/notumor/Tr-no_0315.jpg', '/content/drive/MyDrive/Brain_tumor/Training/notumor/Tr-no_0264.jpg', '/content/drive/MyDrive/Brain_tumor/Training/glioma/Tr-gl_0919.jpg', '/content/drive/MyDrive/Brain_tumor/Training/meningioma/Tr-me_0198.jpg', '/content/drive/MyDrive/Brain_tumor/Training/notumor/Tr-no_0456.jpg', '/content/drive/MyDrive/Brain_tumor/Training/notumor/Tr-no_0475.jpg', '/content/drive/MyDrive/Brain_tumor/Training/meningioma/Tr-me_0188.jpg', '/content/drive/MyDrive/Brain_tumor/Training/glioma/Tr-gl_0865.jpg', '/content/drive/MyDrive/Brain_tumor/Training/notumor/Tr-no_1510.jpg', '/content/drive/MyDrive/Brain_tumor/Training/meningioma/Tr-me_1087.jpg', '/content/drive/MyDrive/Brain_tumor/Training/notumor/Tr-no_0753.jpg', '/content/drive/MyDrive/Brain_tumor/Training/meningioma/Tr-me_0253.jpg', '/content/drive/MyDrive/Brain_tumor/Training/notumor/Tr-no_0117.jpg', '/content/drive/MyDrive/Brain_tumor/Training/meningioma/Tr-me_0874.jpg', '/content/drive/MyDrive/Brain_tumor/Training/notumor/Tr-no_0703.jpg', '/content/drive/MyDrive/Brain_tumor/Training/meningioma/Tr-me_0105.jpg', '/content/drive/MyDrive/Brain_tumor/Training/pituitary/Tr-pi_0215.jpg', '/content/drive/MyDrive/Brain_tumor/Training/pituitary/Tr-pi_0451.jpg', '/content/drive/MyDrive/Brain_tumor/Training/glioma/Tr-gl_0747.jpg', '/content/drive/MyDrive/Brain_tumor/Training/pituitary/Tr-pi_0396.jpg', '/content/drive/MyDrive/Brain_tumor/Training/notumor/Tr-no_0421.jpg', '/content/drive/MyDrive/Brain_tumor/Training/pituitary/Tr-pi_0394.jpg', '/content/drive/MyDrive/Brain_tumor/Training/glioma/Tr-gl_1162.jpg', '/content/drive/MyDrive/Brain_tumor/Training/meningioma/Tr-me_1049.jpg', '/content/drive/MyDrive/Brain_tumor/Training/meningioma/Tr-me_1276.jpg', '/content/drive/MyDrive/Brain_tumor/Training/pituitary/Tr-pi_0135.jpg', '/content/drive/MyDrive/Brain_tumor/Training/pituitary/Tr-pi_1301.jpg', '/content/drive/MyDrive/Brain_tumor/Training/notumor/Tr-no_1100.jpg', '/content/drive/MyDrive/Brain_tumor/Training/glioma/Tr-gl_0489.jpg', '/content/drive/MyDrive/Brain_tumor/Training/pituitary/Tr-pi_0947.jpg', '/content/drive/MyDrive/Brain_tumor/Training/pituitary/Tr-pi_1000.jpg', '/content/drive/MyDrive/Brain_tumor/Training/meningioma/Tr-me_0127.jpg', '/content/drive/MyDrive/Brain_tumor/Training/notumor/Tr-no_1204.jpg', '/content/drive/MyDrive/Brain_tumor/Training/glioma/Tr-gl_0905.jpg', '/content/drive/MyDrive/Brain_tumor/Training/meningioma/Tr-me_0886.jpg', '/content/drive/MyDrive/Brain_tumor/Training/glioma/Tr-gl_0452.jpg', '/content/drive/MyDrive/Brain_tumor/Training/glioma/Tr-gl_0977.jpg', '/content/drive/MyDrive/Brain_tumor/Training/notumor/Tr-no_1278.jpg', '/content/drive/MyDrive/Brain_tumor/Training/pituitary/Tr-pi_0886.jpg', '/content/drive/MyDrive/Brain_tumor/Training/notumor/Tr-no_0306.jpg', '/content/drive/MyDrive/Brain_tumor/Training/glioma/Tr-gl_0740.jpg', '/content/drive/MyDrive/Brain_tumor/Training/meningioma/Tr-me_0335.jpg', '/content/drive/MyDrive/Brain_tumor/Training/notumor/Tr-no_0843.jpg', '/content/drive/MyDrive/Brain_tumor/Training/pituitary/Tr-pi_0290.jpg', '/content/drive/MyDrive/Brain_tumor/Training/pituitary/Tr-pi_0237.jpg', '/content/drive/MyDrive/Brain_tumor/Training/meningioma/Tr-me_0761.jpg', '/content/drive/MyDrive/Brain_tumor/Training/pituitary/Tr-pi_0693.jpg', '/content/drive/MyDrive/Brain_tumor/Training/pituitary/Tr-pi_0163.jpg', '/content/drive/MyDrive/Brain_tumor/Training/pituitary/Tr-pi_1358.jpg', '/content/drive/MyDrive/Brain_tumor/Training/notumor/Tr-no_0462.jpg', '/content/drive/MyDrive/Brain_tumor/Training/notumor/Tr-no_0323.jpg', '/content/drive/MyDrive/Brain_tumor/Training/pituitary/Tr-pi_0825.jpg', '/content/drive/MyDrive/Brain_tumor/Training/glioma/Tr-gl_0976.jpg', '/content/drive/MyDrive/Brain_tumor/Training/notumor/Tr-no_0446.jpg', '/content/drive/MyDrive/Brain_tumor/Training/pituitary/Tr-pi_1373.jpg', '/content/drive/MyDrive/Brain_tumor/Training/pituitary/Tr-pi_0672.jpg', '/content/drive/MyDrive/Brain_tumor/Training/glioma/Tr-gl_0221.jpg', '/content/drive/MyDrive/Brain_tumor/Training/pituitary/Tr-pi_0955.jpg', '/content/drive/MyDrive/Brain_tumor/Training/pituitary/Tr-pi_1344.jpg', '/content/drive/MyDrive/Brain_tumor/Training/notumor/Tr-no_0361.jpg', '/content/drive/MyDrive/Brain_tumor/Training/glioma/Tr-gl_0428.jpg', '/content/drive/MyDrive/Brain_tumor/Training/pituitary/Tr-pi_0133.jpg', '/content/drive/MyDrive/Brain_tumor/Training/glioma/Tr-gl_0795.jpg', '/content/drive/MyDrive/Brain_tumor/Training/meningioma/Tr-me_0053.jpg', '/content/drive/MyDrive/Brain_tumor/Training/meningioma/Tr-me_0938.jpg', '/content/drive/MyDrive/Brain_tumor/Training/notumor/Tr-no_1173.jpg', '/content/drive/MyDrive/Brain_tumor/Training/glioma/Tr-gl_0214.jpg', '/content/drive/MyDrive/Brain_tumor/Training/glioma/Tr-gl_0190.jpg', '/content/drive/MyDrive/Brain_tumor/Training/notumor/Tr-no_0084.jpg', '/content/drive/MyDrive/Brain_tumor/Training/pituitary/Tr-pi_1213.jpg', '/content/drive/MyDrive/Brain_tumor/Training/glioma/Tr-gl_1168.jpg', '/content/drive/MyDrive/Brain_tumor/Training/glioma/Tr-gl_1224.jpg', '/content/drive/MyDrive/Brain_tumor/Training/pituitary/Tr-pi_0494.jpg', '/content/drive/MyDrive/Brain_tumor/Training/glioma/Tr-gl_0949.jpg', '/content/drive/MyDrive/Brain_tumor/Training/pituitary/Tr-pi_1349.jpg', '/content/drive/MyDrive/Brain_tumor/Training/glioma/Tr-gl_0448.jpg', '/content/drive/MyDrive/Brain_tumor/Training/notumor/Tr-no_0430.jpg', '/content/drive/MyDrive/Brain_tumor/Training/pituitary/Tr-pi_0619.jpg', '/content/drive/MyDrive/Brain_tumor/Training/glioma/Tr-gl_0630.jpg', '/content/drive/MyDrive/Brain_tumor/Training/pituitary/Tr-pi_1400.jpg', '/content/drive/MyDrive/Brain_tumor/Training/meningioma/Tr-me_0783.jpg', '/content/drive/MyDrive/Brain_tumor/Training/notumor/Tr-no_0885.jpg', '/content/drive/MyDrive/Brain_tumor/Training/meningioma/Tr-me_1254.jpg', '/content/drive/MyDrive/Brain_tumor/Training/meningioma/Tr-me_0951.jpg', '/content/drive/MyDrive/Brain_tumor/Training/pituitary/Tr-pi_0595.jpg', '/content/drive/MyDrive/Brain_tumor/Training/glioma/Tr-gl_0173.jpg', '/content/drive/MyDrive/Brain_tumor/Training/pituitary/Tr-pi_0046.jpg', '/content/drive/MyDrive/Brain_tumor/Training/pituitary/Tr-pi_0541.jpg', '/content/drive/MyDrive/Brain_tumor/Training/pituitary/Tr-pi_1295.jpg', '/content/drive/MyDrive/Brain_tumor/Training/pituitary/Tr-pi_0507.jpg', '/content/drive/MyDrive/Brain_tumor/Training/glioma/Tr-gl_1276.jpg', '/content/drive/MyDrive/Brain_tumor/Training/pituitary/Tr-pi_1381.jpg', '/content/drive/MyDrive/Brain_tumor/Training/glioma/Tr-gl_0026.jpg', '/content/drive/MyDrive/Brain_tumor/Training/meningioma/Tr-me_1050.jpg', '/content/drive/MyDrive/Brain_tumor/Training/notumor/Tr-no_0975.jpg', '/content/drive/MyDrive/Brain_tumor/Training/pituitary/Tr-pi_0805.jpg', '/content/drive/MyDrive/Brain_tumor/Training/glioma/Tr-gl_0571.jpg', '/content/drive/MyDrive/Brain_tumor/Training/pituitary/Tr-pi_0718.jpg', '/content/drive/MyDrive/Brain_tumor/Training/notumor/Tr-no_0154.jpg', '/content/drive/MyDrive/Brain_tumor/Training/glioma/Tr-gl_0973.jpg', '/content/drive/MyDrive/Brain_tumor/Training/glioma/Tr-gl_1019.jpg', '/content/drive/MyDrive/Brain_tumor/Training/meningioma/Tr-me_1101.jpg', '/content/drive/MyDrive/Brain_tumor/Training/pituitary/Tr-pi_0464.jpg', '/content/drive/MyDrive/Brain_tumor/Training/glioma/Tr-gl_0792.jpg', '/content/drive/MyDrive/Brain_tumor/Training/pituitary/Tr-pi_0652.jpg', '/content/drive/MyDrive/Brain_tumor/Training/meningioma/Tr-me_0095.jpg', '/content/drive/MyDrive/Brain_tumor/Training/pituitary/Tr-pi_1062.jpg', '/content/drive/MyDrive/Brain_tumor/Training/pituitary/Tr-pi_0933.jpg', '/content/drive/MyDrive/Brain_tumor/Training/notumor/Tr-no_1591.jpg', '/content/drive/MyDrive/Brain_tumor/Training/notumor/Tr-no_0221.jpg', '/content/drive/MyDrive/Brain_tumor/Training/pituitary/Tr-pi_0037.jpg', '/content/drive/MyDrive/Brain_tumor/Training/meningioma/Tr-me_0104.jpg', '/content/drive/MyDrive/Brain_tumor/Training/meningioma/Tr-me_1063.jpg', '/content/drive/MyDrive/Brain_tumor/Training/glioma/Tr-gl_1012.jpg', '/content/drive/MyDrive/Brain_tumor/Training/notumor/Tr-no_0190.jpg', '/content/drive/MyDrive/Brain_tumor/Training/glioma/Tr-gl_0053.jpg', '/content/drive/MyDrive/Brain_tumor/Training/notumor/Tr-no_0570.jpg', '/content/drive/MyDrive/Brain_tumor/Training/meningioma/Tr-me_0681.jpg', '/content/drive/MyDrive/Brain_tumor/Training/glioma/Tr-gl_0917.jpg', '/content/drive/MyDrive/Brain_tumor/Training/meningioma/Tr-me_0915.jpg', '/content/drive/MyDrive/Brain_tumor/Training/pituitary/Tr-pi_0068.jpg', '/content/drive/MyDrive/Brain_tumor/Training/meningioma/Tr-me_0624.jpg', '/content/drive/MyDrive/Brain_tumor/Training/notumor/Tr-no_0738.jpg', '/content/drive/MyDrive/Brain_tumor/Training/notumor/Tr-no_1227.jpg', '/content/drive/MyDrive/Brain_tumor/Training/meningioma/Tr-me_0675.jpg', '/content/drive/MyDrive/Brain_tumor/Training/pituitary/Tr-pi_1359.jpg', '/content/drive/MyDrive/Brain_tumor/Training/pituitary/Tr-pi_0744.jpg', '/content/drive/MyDrive/Brain_tumor/Training/glioma/Tr-gl_1287.jpg', '/content/drive/MyDrive/Brain_tumor/Training/glioma/Tr-gl_0866.jpg', '/content/drive/MyDrive/Brain_tumor/Training/notumor/Tr-no_1342.jpg', '/content/drive/MyDrive/Brain_tumor/Training/notumor/Tr-no_0108.jpg', '/content/drive/MyDrive/Brain_tumor/Training/glioma/Tr-gl_0239.jpg', '/content/drive/MyDrive/Brain_tumor/Training/notumor/Tr-no_0258.jpg', '/content/drive/MyDrive/Brain_tumor/Training/meningioma/Tr-me_1232.jpg', '/content/drive/MyDrive/Brain_tumor/Training/glioma/Tr-gl_0527.jpg', '/content/drive/MyDrive/Brain_tumor/Training/pituitary/Tr-pi_0680.jpg', '/content/drive/MyDrive/Brain_tumor/Training/glioma/Tr-gl_0718.jpg', '/content/drive/MyDrive/Brain_tumor/Training/notumor/Tr-no_0438.jpg', '/content/drive/MyDrive/Brain_tumor/Training/meningioma/Tr-me_0887.jpg', '/content/drive/MyDrive/Brain_tumor/Training/pituitary/Tr-pi_1204.jpg', '/content/drive/MyDrive/Brain_tumor/Training/pituitary/Tr-pi_0484.jpg', '/content/drive/MyDrive/Brain_tumor/Training/notumor/Tr-no_0381.jpg', '/content/drive/MyDrive/Brain_tumor/Training/notumor/Tr-no_0262.jpg', '/content/drive/MyDrive/Brain_tumor/Training/meningioma/Tr-me_0317.jpg', '/content/drive/MyDrive/Brain_tumor/Training/notumor/Tr-no_0748.jpg', '/content/drive/MyDrive/Brain_tumor/Training/pituitary/Tr-pi_0642.jpg', '/content/drive/MyDrive/Brain_tumor/Training/glioma/Tr-gl_1271.jpg', '/content/drive/MyDrive/Brain_tumor/Training/meningioma/Tr-me_0948.jpg', '/content/drive/MyDrive/Brain_tumor/Training/glioma/Tr-gl_1227.jpg', '/content/drive/MyDrive/Brain_tumor/Training/glioma/Tr-gl_0166.jpg', '/content/drive/MyDrive/Brain_tumor/Training/pituitary/Tr-pi_0012.jpg', '/content/drive/MyDrive/Brain_tumor/Training/notumor/Tr-no_0717.jpg', '/content/drive/MyDrive/Brain_tumor/Training/notumor/Tr-no_1192.jpg', '/content/drive/MyDrive/Brain_tumor/Training/meningioma/Tr-me_1022.jpg', '/content/drive/MyDrive/Brain_tumor/Training/glioma/Tr-gl_0783.jpg', '/content/drive/MyDrive/Brain_tumor/Training/notumor/Tr-no_0358.jpg', '/content/drive/MyDrive/Brain_tumor/Training/glioma/Tr-gl_1158.jpg', '/content/drive/MyDrive/Brain_tumor/Training/meningioma/Tr-me_1275.jpg', '/content/drive/MyDrive/Brain_tumor/Training/notumor/Tr-no_1045.jpg', '/content/drive/MyDrive/Brain_tumor/Training/pituitary/Tr-pi_0140.jpg', '/content/drive/MyDrive/Brain_tumor/Training/meningioma/Tr-me_1243.jpg', '/content/drive/MyDrive/Brain_tumor/Training/meningioma/Tr-me_1211.jpg', '/content/drive/MyDrive/Brain_tumor/Training/notumor/Tr-no_1464.jpg', '/content/drive/MyDrive/Brain_tumor/Training/pituitary/Tr-pi_1311.jpg', '/content/drive/MyDrive/Brain_tumor/Training/notumor/Tr-no_1308.jpg', '/content/drive/MyDrive/Brain_tumor/Training/pituitary/Tr-pi_0115.jpg', '/content/drive/MyDrive/Brain_tumor/Training/notumor/Tr-no_1248.jpg', '/content/drive/MyDrive/Brain_tumor/Training/glioma/Tr-gl_0634.jpg', '/content/drive/MyDrive/Brain_tumor/Training/glioma/Tr-gl_1021.jpg', '/content/drive/MyDrive/Brain_tumor/Training/pituitary/Tr-pi_0916.jpg', '/content/drive/MyDrive/Brain_tumor/Training/glioma/Tr-gl_0709.jpg', '/content/drive/MyDrive/Brain_tumor/Training/notumor/Tr-no_0977.jpg', '/content/drive/MyDrive/Brain_tumor/Training/meningioma/Tr-me_0932.jpg', '/content/drive/MyDrive/Brain_tumor/Training/meningioma/Tr-me_1034.jpg', '/content/drive/MyDrive/Brain_tumor/Training/glioma/Tr-gl_0092.jpg', '/content/drive/MyDrive/Brain_tumor/Training/meningioma/Tr-me_0016.jpg', '/content/drive/MyDrive/Brain_tumor/Training/pituitary/Tr-pi_0119.jpg', '/content/drive/MyDrive/Brain_tumor/Training/meningioma/Tr-me_0797.jpg', '/content/drive/MyDrive/Brain_tumor/Training/pituitary/Tr-pi_0498.jpg', '/content/drive/MyDrive/Brain_tumor/Training/pituitary/Tr-pi_0731.jpg', '/content/drive/MyDrive/Brain_tumor/Training/meningioma/Tr-me_0327.jpg', '/content/drive/MyDrive/Brain_tumor/Training/meningioma/Tr-me_0841.jpg', '/content/drive/MyDrive/Brain_tumor/Training/notumor/Tr-no_1032.jpg', '/content/drive/MyDrive/Brain_tumor/Training/pituitary/Tr-pi_1407.jpg', '/content/drive/MyDrive/Brain_tumor/Training/notumor/Tr-no_0207.jpg', '/content/drive/MyDrive/Brain_tumor/Training/meningioma/Tr-me_0303.jpg', '/content/drive/MyDrive/Brain_tumor/Training/glioma/Tr-gl_0418.jpg', '/content/drive/MyDrive/Brain_tumor/Training/notumor/Tr-no_1495.jpg', '/content/drive/MyDrive/Brain_tumor/Training/notumor/Tr-no_1401.jpg', '/content/drive/MyDrive/Brain_tumor/Training/pituitary/Tr-pi_0431.jpg', '/content/drive/MyDrive/Brain_tumor/Training/pituitary/Tr-pi_0666.jpg', '/content/drive/MyDrive/Brain_tumor/Training/notumor/Tr-no_0991.jpg', '/content/drive/MyDrive/Brain_tumor/Training/notumor/Tr-no_0093.jpg', '/content/drive/MyDrive/Brain_tumor/Training/meningioma/Tr-me_0672.jpg', '/content/drive/MyDrive/Brain_tumor/Training/pituitary/Tr-pi_0368.jpg', '/content/drive/MyDrive/Brain_tumor/Training/glioma/Tr-gl_1071.jpg', '/content/drive/MyDrive/Brain_tumor/Training/pituitary/Tr-pi_1378.jpg', '/content/drive/MyDrive/Brain_tumor/Training/pituitary/Tr-pi_0260.jpg', '/content/drive/MyDrive/Brain_tumor/Training/notumor/Tr-no_0242.jpg', '/content/drive/MyDrive/Brain_tumor/Training/meningioma/Tr-me_1152.jpg', '/content/drive/MyDrive/Brain_tumor/Training/glioma/Tr-gl_0213.jpg', '/content/drive/MyDrive/Brain_tumor/Training/notumor/Tr-no_1329.jpg', '/content/drive/MyDrive/Brain_tumor/Training/glioma/Tr-gl_1301.jpg', '/content/drive/MyDrive/Brain_tumor/Training/notumor/Tr-no_0127.jpg', '/content/drive/MyDrive/Brain_tumor/Training/glioma/Tr-gl_1131.jpg', '/content/drive/MyDrive/Brain_tumor/Training/glioma/Tr-gl_0546.jpg', '/content/drive/MyDrive/Brain_tumor/Training/pituitary/Tr-pi_0976.jpg', '/content/drive/MyDrive/Brain_tumor/Training/pituitary/Tr-pi_0993.jpg', '/content/drive/MyDrive/Brain_tumor/Training/glioma/Tr-gl_0991.jpg', '/content/drive/MyDrive/Brain_tumor/Training/glioma/Tr-gl_0893.jpg', '/content/drive/MyDrive/Brain_tumor/Training/notumor/Tr-no_0208.jpg', '/content/drive/MyDrive/Brain_tumor/Training/pituitary/Tr-pi_1324.jpg', '/content/drive/MyDrive/Brain_tumor/Training/glioma/Tr-gl_0451.jpg', '/content/drive/MyDrive/Brain_tumor/Training/notumor/Tr-no_0217.jpg', '/content/drive/MyDrive/Brain_tumor/Training/notumor/Tr-no_1252.jpg', '/content/drive/MyDrive/Brain_tumor/Training/meningioma/Tr-me_0875.jpg', '/content/drive/MyDrive/Brain_tumor/Training/notumor/Tr-no_0729.jpg', '/content/drive/MyDrive/Brain_tumor/Training/glioma/Tr-gl_1127.jpg', '/content/drive/MyDrive/Brain_tumor/Training/glioma/Tr-gl_0911.jpg', '/content/drive/MyDrive/Brain_tumor/Training/pituitary/Tr-pi_0474.jpg', '/content/drive/MyDrive/Brain_tumor/Training/notumor/Tr-no_0880.jpg', '/content/drive/MyDrive/Brain_tumor/Training/notumor/Tr-no_0094.jpg', '/content/drive/MyDrive/Brain_tumor/Training/glioma/Tr-gl_1110.jpg', '/content/drive/MyDrive/Brain_tumor/Training/meningioma/Tr-me_0484.jpg', '/content/drive/MyDrive/Brain_tumor/Training/meningioma/Tr-me_1129.jpg', '/content/drive/MyDrive/Brain_tumor/Training/meningioma/Tr-me_0658.jpg', '/content/drive/MyDrive/Brain_tumor/Training/meningioma/Tr-me_0133.jpg', '/content/drive/MyDrive/Brain_tumor/Training/notumor/Tr-no_1285.jpg', '/content/drive/MyDrive/Brain_tumor/Training/notumor/Tr-no_0373.jpg', '/content/drive/MyDrive/Brain_tumor/Training/meningioma/Tr-me_0731.jpg', '/content/drive/MyDrive/Brain_tumor/Training/notumor/Tr-no_0553.jpg', '/content/drive/MyDrive/Brain_tumor/Training/pituitary/Tr-pi_1169.jpg', '/content/drive/MyDrive/Brain_tumor/Training/pituitary/Tr-pi_0430.jpg', '/content/drive/MyDrive/Brain_tumor/Training/meningioma/Tr-me_1108.jpg', '/content/drive/MyDrive/Brain_tumor/Training/glioma/Tr-gl_1237.jpg', '/content/drive/MyDrive/Brain_tumor/Training/meningioma/Tr-me_0921.jpg', '/content/drive/MyDrive/Brain_tumor/Training/notumor/Tr-no_0266.jpg', '/content/drive/MyDrive/Brain_tumor/Training/meningioma/Tr-me_0092.jpg', '/content/drive/MyDrive/Brain_tumor/Training/glioma/Tr-gl_1174.jpg', '/content/drive/MyDrive/Brain_tumor/Training/meningioma/Tr-me_0552.jpg', '/content/drive/MyDrive/Brain_tumor/Training/notumor/Tr-no_0896.jpg', '/content/drive/MyDrive/Brain_tumor/Training/pituitary/Tr-pi_1377.jpg', '/content/drive/MyDrive/Brain_tumor/Training/notumor/Tr-no_0039.jpg', '/content/drive/MyDrive/Brain_tumor/Training/meningioma/Tr-me_0192.jpg', '/content/drive/MyDrive/Brain_tumor/Training/pituitary/Tr-pi_1081.jpg', '/content/drive/MyDrive/Brain_tumor/Training/notumor/Tr-no_0754.jpg', '/content/drive/MyDrive/Brain_tumor/Training/notumor/Tr-no_0218.jpg', '/content/drive/MyDrive/Brain_tumor/Training/pituitary/Tr-pi_0592.jpg', '/content/drive/MyDrive/Brain_tumor/Training/notumor/Tr-no_0133.jpg', '/content/drive/MyDrive/Brain_tumor/Training/glioma/Tr-gl_1185.jpg', '/content/drive/MyDrive/Brain_tumor/Training/glioma/Tr-gl_1016.jpg', '/content/drive/MyDrive/Brain_tumor/Training/pituitary/Tr-pi_0433.jpg', '/content/drive/MyDrive/Brain_tumor/Training/notumor/Tr-no_0726.jpg', '/content/drive/MyDrive/Brain_tumor/Training/pituitary/Tr-pi_0562.jpg', '/content/drive/MyDrive/Brain_tumor/Training/pituitary/Tr-pi_1039.jpg', '/content/drive/MyDrive/Brain_tumor/Training/pituitary/Tr-pi_0635.jpg', '/content/drive/MyDrive/Brain_tumor/Training/pituitary/Tr-pi_1244.jpg', '/content/drive/MyDrive/Brain_tumor/Training/pituitary/Tr-pi_1445.jpg', '/content/drive/MyDrive/Brain_tumor/Training/pituitary/Tr-pi_0838.jpg', '/content/drive/MyDrive/Brain_tumor/Training/pituitary/Tr-pi_1132.jpg', '/content/drive/MyDrive/Brain_tumor/Training/glioma/Tr-gl_1288.jpg', '/content/drive/MyDrive/Brain_tumor/Training/meningioma/Tr-me_0357.jpg', '/content/drive/MyDrive/Brain_tumor/Training/pituitary/Tr-pi_1077.jpg', '/content/drive/MyDrive/Brain_tumor/Training/meningioma/Tr-me_0876.jpg', '/content/drive/MyDrive/Brain_tumor/Training/notumor/Tr-no_0780.jpg', '/content/drive/MyDrive/Brain_tumor/Training/meningioma/Tr-me_1042.jpg', '/content/drive/MyDrive/Brain_tumor/Training/meningioma/Tr-me_0520.jpg', '/content/drive/MyDrive/Brain_tumor/Training/glioma/Tr-gl_0890.jpg', '/content/drive/MyDrive/Brain_tumor/Training/glioma/Tr-gl_1320.jpg', '/content/drive/MyDrive/Brain_tumor/Training/pituitary/Tr-pi_0842.jpg', '/content/drive/MyDrive/Brain_tumor/Training/meningioma/Tr-me_0029.jpg', '/content/drive/MyDrive/Brain_tumor/Training/notumor/Tr-no_1037.jpg', '/content/drive/MyDrive/Brain_tumor/Training/meningioma/Tr-me_1080.jpg', '/content/drive/MyDrive/Brain_tumor/Training/pituitary/Tr-pi_1193.jpg', '/content/drive/MyDrive/Brain_tumor/Training/meningioma/Tr-me_0801.jpg', '/content/drive/MyDrive/Brain_tumor/Training/notumor/Tr-no_1191.jpg', '/content/drive/MyDrive/Brain_tumor/Training/notumor/Tr-no_1309.jpg', '/content/drive/MyDrive/Brain_tumor/Training/glioma/Tr-gl_0031.jpg', '/content/drive/MyDrive/Brain_tumor/Training/pituitary/Tr-pi_1277.jpg', '/content/drive/MyDrive/Brain_tumor/Training/meningioma/Tr-me_0266.jpg', '/content/drive/MyDrive/Brain_tumor/Training/glioma/Tr-gl_0656.jpg', '/content/drive/MyDrive/Brain_tumor/Training/notumor/Tr-no_0140.jpg', '/content/drive/MyDrive/Brain_tumor/Training/meningioma/Tr-me_1183.jpg', '/content/drive/MyDrive/Brain_tumor/Training/meningioma/Tr-me_0034.jpg', '/content/drive/MyDrive/Brain_tumor/Training/pituitary/Tr-pi_0914.jpg', '/content/drive/MyDrive/Brain_tumor/Training/meningioma/Tr-me_0946.jpg', '/content/drive/MyDrive/Brain_tumor/Training/glioma/Tr-gl_0104.jpg', '/content/drive/MyDrive/Brain_tumor/Training/glioma/Tr-gl_1029.jpg', '/content/drive/MyDrive/Brain_tumor/Training/pituitary/Tr-pi_0330.jpg', '/content/drive/MyDrive/Brain_tumor/Training/notumor/Tr-no_0887.jpg', '/content/drive/MyDrive/Brain_tumor/Training/glioma/Tr-gl_1010.jpg', '/content/drive/MyDrive/Brain_tumor/Training/notumor/Tr-no_0734.jpg', '/content/drive/MyDrive/Brain_tumor/Training/notumor/Tr-no_0598.jpg', '/content/drive/MyDrive/Brain_tumor/Training/pituitary/Tr-pi_0924.jpg', '/content/drive/MyDrive/Brain_tumor/Training/meningioma/Tr-me_1282.jpg', '/content/drive/MyDrive/Brain_tumor/Training/meningioma/Tr-me_1059.jpg', '/content/drive/MyDrive/Brain_tumor/Training/pituitary/Tr-pi_0126.jpg', '/content/drive/MyDrive/Brain_tumor/Training/meningioma/Tr-me_0846.jpg', '/content/drive/MyDrive/Brain_tumor/Training/notumor/Tr-no_1056.jpg', '/content/drive/MyDrive/Brain_tumor/Training/notumor/Tr-no_1288.jpg', '/content/drive/MyDrive/Brain_tumor/Training/pituitary/Tr-pi_0443.jpg', '/content/drive/MyDrive/Brain_tumor/Training/glioma/Tr-gl_0809.jpg', '/content/drive/MyDrive/Brain_tumor/Training/meningioma/Tr-me_0441.jpg', '/content/drive/MyDrive/Brain_tumor/Training/notumor/Tr-no_0951.jpg', '/content/drive/MyDrive/Brain_tumor/Training/glioma/Tr-gl_1315.jpg', '/content/drive/MyDrive/Brain_tumor/Training/notumor/Tr-no_0737.jpg', '/content/drive/MyDrive/Brain_tumor/Training/glioma/Tr-gl_0269.jpg', '/content/drive/MyDrive/Brain_tumor/Training/glioma/Tr-gl_1065.jpg', '/content/drive/MyDrive/Brain_tumor/Training/pituitary/Tr-pi_0359.jpg', '/content/drive/MyDrive/Brain_tumor/Training/glioma/Tr-gl_1261.jpg', '/content/drive/MyDrive/Brain_tumor/Training/glioma/Tr-gl_0049.jpg', '/content/drive/MyDrive/Brain_tumor/Training/glioma/Tr-gl_0226.jpg', '/content/drive/MyDrive/Brain_tumor/Training/meningioma/Tr-me_0252.jpg', '/content/drive/MyDrive/Brain_tumor/Training/notumor/Tr-no_1489.jpg', '/content/drive/MyDrive/Brain_tumor/Training/pituitary/Tr-pi_1401.jpg', '/content/drive/MyDrive/Brain_tumor/Training/meningioma/Tr-me_0573.jpg', '/content/drive/MyDrive/Brain_tumor/Training/notumor/Tr-no_0544.jpg', '/content/drive/MyDrive/Brain_tumor/Training/glioma/Tr-gl_0686.jpg', '/content/drive/MyDrive/Brain_tumor/Training/notumor/Tr-no_1089.jpg', '/content/drive/MyDrive/Brain_tumor/Training/pituitary/Tr-pi_0821.jpg', '/content/drive/MyDrive/Brain_tumor/Training/notumor/Tr-no_1264.jpg', '/content/drive/MyDrive/Brain_tumor/Training/meningioma/Tr-me_0109.jpg', '/content/drive/MyDrive/Brain_tumor/Training/notumor/Tr-no_0579.jpg', '/content/drive/MyDrive/Brain_tumor/Training/notumor/Tr-no_0366.jpg', '/content/drive/MyDrive/Brain_tumor/Training/meningioma/Tr-me_0959.jpg', '/content/drive/MyDrive/Brain_tumor/Training/notumor/Tr-no_0941.jpg', '/content/drive/MyDrive/Brain_tumor/Training/glioma/Tr-gl_0019.jpg', '/content/drive/MyDrive/Brain_tumor/Training/notumor/Tr-no_0980.jpg', '/content/drive/MyDrive/Brain_tumor/Training/notumor/Tr-no_1451.jpg', '/content/drive/MyDrive/Brain_tumor/Training/meningioma/Tr-me_0585.jpg', '/content/drive/MyDrive/Brain_tumor/Training/meningioma/Tr-me_0568.jpg', '/content/drive/MyDrive/Brain_tumor/Training/pituitary/Tr-pi_0489.jpg', '/content/drive/MyDrive/Brain_tumor/Training/notumor/Tr-no_0659.jpg', '/content/drive/MyDrive/Brain_tumor/Training/glioma/Tr-gl_0989.jpg', '/content/drive/MyDrive/Brain_tumor/Training/glioma/Tr-gl_0037.jpg', '/content/drive/MyDrive/Brain_tumor/Training/glioma/Tr-gl_0492.jpg', '/content/drive/MyDrive/Brain_tumor/Training/notumor/Tr-no_1476.jpg', '/content/drive/MyDrive/Brain_tumor/Training/notumor/Tr-no_0096.jpg', '/content/drive/MyDrive/Brain_tumor/Training/pituitary/Tr-pi_0708.jpg', '/content/drive/MyDrive/Brain_tumor/Training/pituitary/Tr-pi_1367.jpg', '/content/drive/MyDrive/Brain_tumor/Training/notumor/Tr-no_1375.jpg', '/content/drive/MyDrive/Brain_tumor/Training/meningioma/Tr-me_0396.jpg', '/content/drive/MyDrive/Brain_tumor/Training/pituitary/Tr-pi_1105.jpg', '/content/drive/MyDrive/Brain_tumor/Training/notumor/Tr-no_1156.jpg', '/content/drive/MyDrive/Brain_tumor/Training/pituitary/Tr-pi_0531.jpg', '/content/drive/MyDrive/Brain_tumor/Training/meningioma/Tr-me_0329.jpg', '/content/drive/MyDrive/Brain_tumor/Training/glioma/Tr-gl_0541.jpg', '/content/drive/MyDrive/Brain_tumor/Training/glioma/Tr-gl_0080.jpg', '/content/drive/MyDrive/Brain_tumor/Training/pituitary/Tr-pi_0480.jpg', '/content/drive/MyDrive/Brain_tumor/Training/pituitary/Tr-pi_1290.jpg', '/content/drive/MyDrive/Brain_tumor/Training/meningioma/Tr-me_1155.jpg', '/content/drive/MyDrive/Brain_tumor/Training/meningioma/Tr-me_1142.jpg', '/content/drive/MyDrive/Brain_tumor/Training/pituitary/Tr-pi_0332.jpg', '/content/drive/MyDrive/Brain_tumor/Training/pituitary/Tr-pi_0746.jpg', '/content/drive/MyDrive/Brain_tumor/Training/glioma/Tr-gl_0827.jpg', '/content/drive/MyDrive/Brain_tumor/Training/glioma/Tr-gl_0187.jpg', '/content/drive/MyDrive/Brain_tumor/Training/notumor/Tr-no_1150.jpg', '/content/drive/MyDrive/Brain_tumor/Training/meningioma/Tr-me_0904.jpg', '/content/drive/MyDrive/Brain_tumor/Training/pituitary/Tr-pi_1238.jpg', '/content/drive/MyDrive/Brain_tumor/Training/pituitary/Tr-pi_0570.jpg', '/content/drive/MyDrive/Brain_tumor/Training/notumor/Tr-no_0415.jpg', '/content/drive/MyDrive/Brain_tumor/Training/meningioma/Tr-me_0518.jpg', '/content/drive/MyDrive/Brain_tumor/Training/glioma/Tr-gl_0060.jpg', '/content/drive/MyDrive/Brain_tumor/Training/meningioma/Tr-me_0648.jpg', '/content/drive/MyDrive/Brain_tumor/Training/pituitary/Tr-pi_1433.jpg', '/content/drive/MyDrive/Brain_tumor/Training/meningioma/Tr-me_0763.jpg', '/content/drive/MyDrive/Brain_tumor/Training/meningioma/Tr-me_0326.jpg', '/content/drive/MyDrive/Brain_tumor/Training/glioma/Tr-gl_0626.jpg', '/content/drive/MyDrive/Brain_tumor/Training/pituitary/Tr-pi_0254.jpg', '/content/drive/MyDrive/Brain_tumor/Training/pituitary/Tr-pi_1446.jpg', '/content/drive/MyDrive/Brain_tumor/Training/notumor/Tr-no_1387.jpg', '/content/drive/MyDrive/Brain_tumor/Training/notumor/Tr-no_0318.jpg', '/content/drive/MyDrive/Brain_tumor/Training/pituitary/Tr-pi_0401.jpg', '/content/drive/MyDrive/Brain_tumor/Training/pituitary/Tr-pi_0670.jpg', '/content/drive/MyDrive/Brain_tumor/Training/glioma/Tr-gl_0071.jpg', '/content/drive/MyDrive/Brain_tumor/Training/pituitary/Tr-pi_0710.jpg', '/content/drive/MyDrive/Brain_tumor/Training/notumor/Tr-no_0699.jpg', '/content/drive/MyDrive/Brain_tumor/Training/meningioma/Tr-me_0641.jpg', '/content/drive/MyDrive/Brain_tumor/Training/pituitary/Tr-pi_0962.jpg', '/content/drive/MyDrive/Brain_tumor/Training/notumor/Tr-no_0530.jpg', '/content/drive/MyDrive/Brain_tumor/Training/meningioma/Tr-me_1198.jpg', '/content/drive/MyDrive/Brain_tumor/Training/notumor/Tr-no_1405.jpg', '/content/drive/MyDrive/Brain_tumor/Training/notumor/Tr-no_1202.jpg', '/content/drive/MyDrive/Brain_tumor/Training/pituitary/Tr-pi_0173.jpg', '/content/drive/MyDrive/Brain_tumor/Training/glioma/Tr-gl_1222.jpg', '/content/drive/MyDrive/Brain_tumor/Training/meningioma/Tr-me_0515.jpg', '/content/drive/MyDrive/Brain_tumor/Training/meningioma/Tr-me_0929.jpg', '/content/drive/MyDrive/Brain_tumor/Training/pituitary/Tr-pi_0580.jpg', '/content/drive/MyDrive/Brain_tumor/Training/pituitary/Tr-pi_1038.jpg', '/content/drive/MyDrive/Brain_tumor/Training/glioma/Tr-gl_1104.jpg', '/content/drive/MyDrive/Brain_tumor/Training/notumor/Tr-no_0509.jpg', '/content/drive/MyDrive/Brain_tumor/Training/meningioma/Tr-me_0661.jpg', '/content/drive/MyDrive/Brain_tumor/Training/meningioma/Tr-me_0116.jpg', '/content/drive/MyDrive/Brain_tumor/Training/notumor/Tr-no_1165.jpg', '/content/drive/MyDrive/Brain_tumor/Training/glioma/Tr-gl_0192.jpg', '/content/drive/MyDrive/Brain_tumor/Training/pituitary/Tr-pi_1033.jpg', '/content/drive/MyDrive/Brain_tumor/Training/glioma/Tr-gl_0374.jpg', '/content/drive/MyDrive/Brain_tumor/Training/meningioma/Tr-me_0669.jpg', '/content/drive/MyDrive/Brain_tumor/Training/pituitary/Tr-pi_1194.jpg', '/content/drive/MyDrive/Brain_tumor/Training/pituitary/Tr-pi_0723.jpg', '/content/drive/MyDrive/Brain_tumor/Training/glioma/Tr-gl_0055.jpg', '/content/drive/MyDrive/Brain_tumor/Training/pituitary/Tr-pi_0154.jpg', '/content/drive/MyDrive/Brain_tumor/Training/glioma/Tr-gl_0354.jpg', '/content/drive/MyDrive/Brain_tumor/Training/pituitary/Tr-pi_1180.jpg', '/content/drive/MyDrive/Brain_tumor/Training/pituitary/Tr-pi_1197.jpg', '/content/drive/MyDrive/Brain_tumor/Training/meningioma/Tr-me_0884.jpg', '/content/drive/MyDrive/Brain_tumor/Training/meningioma/Tr-me_1314.jpg', '/content/drive/MyDrive/Brain_tumor/Training/pituitary/Tr-pi_0538.jpg', '/content/drive/MyDrive/Brain_tumor/Training/notumor/Tr-no_1124.jpg', '/content/drive/MyDrive/Brain_tumor/Training/meningioma/Tr-me_0581.jpg', '/content/drive/MyDrive/Brain_tumor/Training/pituitary/Tr-pi_0063.jpg', '/content/drive/MyDrive/Brain_tumor/Training/pituitary/Tr-pi_0192.jpg', '/content/drive/MyDrive/Brain_tumor/Training/glioma/Tr-gl_0847.jpg', '/content/drive/MyDrive/Brain_tumor/Training/glioma/Tr-gl_0067.jpg', '/content/drive/MyDrive/Brain_tumor/Training/glioma/Tr-gl_0342.jpg', '/content/drive/MyDrive/Brain_tumor/Training/pituitary/Tr-pi_0223.jpg', '/content/drive/MyDrive/Brain_tumor/Training/meningioma/Tr-me_1212.jpg', '/content/drive/MyDrive/Brain_tumor/Training/glioma/Tr-gl_0556.jpg', '/content/drive/MyDrive/Brain_tumor/Training/pituitary/Tr-piTr_0009.jpg', '/content/drive/MyDrive/Brain_tumor/Training/glioma/Tr-gl_1165.jpg', '/content/drive/MyDrive/Brain_tumor/Training/glioma/Tr-gl_0677.jpg', '/content/drive/MyDrive/Brain_tumor/Training/pituitary/Tr-pi_0233.jpg', '/content/drive/MyDrive/Brain_tumor/Training/notumor/Tr-no_1011.jpg', '/content/drive/MyDrive/Brain_tumor/Training/notumor/Tr-no_1041.jpg', '/content/drive/MyDrive/Brain_tumor/Training/pituitary/Tr-pi_0268.jpg', '/content/drive/MyDrive/Brain_tumor/Training/pituitary/Tr-pi_0303.jpg', '/content/drive/MyDrive/Brain_tumor/Training/glioma/Tr-gl_0232.jpg', '/content/drive/MyDrive/Brain_tumor/Training/meningioma/Tr-me_0880.jpg', '/content/drive/MyDrive/Brain_tumor/Training/glioma/Tr-gl_0908.jpg', '/content/drive/MyDrive/Brain_tumor/Training/meningioma/Tr-me_1073.jpg', '/content/drive/MyDrive/Brain_tumor/Training/pituitary/Tr-pi_1376.jpg', '/content/drive/MyDrive/Brain_tumor/Training/meningioma/Tr-me_0791.jpg', '/content/drive/MyDrive/Brain_tumor/Training/pituitary/Tr-pi_1425.jpg', '/content/drive/MyDrive/Brain_tumor/Training/glioma/Tr-gl_1186.jpg', '/content/drive/MyDrive/Brain_tumor/Training/meningioma/Tr-me_0165.jpg', '/content/drive/MyDrive/Brain_tumor/Training/pituitary/Tr-pi_1448.jpg', '/content/drive/MyDrive/Brain_tumor/Training/meningioma/Tr-meTr_0001.jpg', '/content/drive/MyDrive/Brain_tumor/Training/meningioma/Tr-me_0395.jpg', '/content/drive/MyDrive/Brain_tumor/Training/meningioma/Tr-me_0795.jpg', '/content/drive/MyDrive/Brain_tumor/Training/meningioma/Tr-me_1032.jpg', '/content/drive/MyDrive/Brain_tumor/Training/notumor/Tr-no_0656.jpg', '/content/drive/MyDrive/Brain_tumor/Training/notumor/Tr-no_0823.jpg', '/content/drive/MyDrive/Brain_tumor/Training/meningioma/Tr-me_1179.jpg', '/content/drive/MyDrive/Brain_tumor/Training/glioma/Tr-gl_1015.jpg', '/content/drive/MyDrive/Brain_tumor/Training/pituitary/Tr-pi_0371.jpg', '/content/drive/MyDrive/Brain_tumor/Training/notumor/Tr-no_0850.jpg', '/content/drive/MyDrive/Brain_tumor/Training/notumor/Tr-no_0785.jpg', '/content/drive/MyDrive/Brain_tumor/Training/meningioma/Tr-me_0941.jpg', '/content/drive/MyDrive/Brain_tumor/Training/meningioma/Tr-me_0829.jpg', '/content/drive/MyDrive/Brain_tumor/Training/meningioma/Tr-me_0684.jpg', '/content/drive/MyDrive/Brain_tumor/Training/meningioma/Tr-me_0194.jpg', '/content/drive/MyDrive/Brain_tumor/Training/glioma/Tr-gl_0818.jpg', '/content/drive/MyDrive/Brain_tumor/Training/pituitary/Tr-pi_0695.jpg', '/content/drive/MyDrive/Brain_tumor/Training/notumor/Tr-no_1569.jpg', '/content/drive/MyDrive/Brain_tumor/Training/meningioma/Tr-me_0233.jpg', '/content/drive/MyDrive/Brain_tumor/Training/notumor/Tr-no_0837.jpg', '/content/drive/MyDrive/Brain_tumor/Training/notumor/Tr-no_0414.jpg', '/content/drive/MyDrive/Brain_tumor/Training/pituitary/Tr-pi_1308.jpg', '/content/drive/MyDrive/Brain_tumor/Training/meningioma/Tr-me_1271.jpg', '/content/drive/MyDrive/Brain_tumor/Training/pituitary/Tr-pi_1118.jpg', '/content/drive/MyDrive/Brain_tumor/Training/glioma/Tr-gl_1314.jpg', '/content/drive/MyDrive/Brain_tumor/Training/pituitary/Tr-pi_1051.jpg', '/content/drive/MyDrive/Brain_tumor/Training/pituitary/Tr-pi_1394.jpg', '/content/drive/MyDrive/Brain_tumor/Training/meningioma/Tr-me_0901.jpg', '/content/drive/MyDrive/Brain_tumor/Training/pituitary/Tr-pi_1388.jpg', '/content/drive/MyDrive/Brain_tumor/Training/glioma/Tr-gl_0936.jpg', '/content/drive/MyDrive/Brain_tumor/Training/glioma/Tr-gl_1191.jpg', '/content/drive/MyDrive/Brain_tumor/Training/glioma/Tr-gl_0772.jpg', '/content/drive/MyDrive/Brain_tumor/Training/notumor/Tr-no_1161.jpg', '/content/drive/MyDrive/Brain_tumor/Training/notumor/Tr-no_0452.jpg', '/content/drive/MyDrive/Brain_tumor/Training/meningioma/Tr-me_0756.jpg', '/content/drive/MyDrive/Brain_tumor/Training/pituitary/Tr-pi_0103.jpg', '/content/drive/MyDrive/Brain_tumor/Training/pituitary/Tr-pi_1266.jpg', '/content/drive/MyDrive/Brain_tumor/Training/meningioma/Tr-me_0930.jpg', '/content/drive/MyDrive/Brain_tumor/Training/glioma/Tr-gl_0798.jpg', '/content/drive/MyDrive/Brain_tumor/Training/meningioma/Tr-me_0280.jpg', '/content/drive/MyDrive/Brain_tumor/Training/notumor/Tr-no_1166.jpg', '/content/drive/MyDrive/Brain_tumor/Training/pituitary/Tr-pi_0275.jpg', '/content/drive/MyDrive/Brain_tumor/Training/pituitary/Tr-pi_1334.jpg', '/content/drive/MyDrive/Brain_tumor/Training/glioma/Tr-gl_0975.jpg', '/content/drive/MyDrive/Brain_tumor/Training/notumor/Tr-no_1226.jpg', '/content/drive/MyDrive/Brain_tumor/Training/notumor/Tr-no_0137.jpg', '/content/drive/MyDrive/Brain_tumor/Training/glioma/Tr-gl_0639.jpg', '/content/drive/MyDrive/Brain_tumor/Training/meningioma/Tr-me_1200.jpg', '/content/drive/MyDrive/Brain_tumor/Training/notumor/Tr-no_1535.jpg', '/content/drive/MyDrive/Brain_tumor/Training/glioma/Tr-gl_0758.jpg', '/content/drive/MyDrive/Brain_tumor/Training/glioma/Tr-gl_0292.jpg', '/content/drive/MyDrive/Brain_tumor/Training/notumor/Tr-no_0116.jpg', '/content/drive/MyDrive/Brain_tumor/Training/pituitary/Tr-pi_1374.jpg', '/content/drive/MyDrive/Brain_tumor/Training/notumor/Tr-no_0658.jpg', '/content/drive/MyDrive/Brain_tumor/Training/pituitary/Tr-pi_1329.jpg', '/content/drive/MyDrive/Brain_tumor/Training/notumor/Tr-no_0822.jpg', '/content/drive/MyDrive/Brain_tumor/Training/notumor/Tr-no_1233.jpg', '/content/drive/MyDrive/Brain_tumor/Training/glioma/Tr-gl_1256.jpg', '/content/drive/MyDrive/Brain_tumor/Training/meningioma/Tr-me_1186.jpg', '/content/drive/MyDrive/Brain_tumor/Training/pituitary/Tr-pi_0187.jpg', '/content/drive/MyDrive/Brain_tumor/Training/meningioma/Tr-me_1287.jpg', '/content/drive/MyDrive/Brain_tumor/Training/notumor/Tr-no_0573.jpg', '/content/drive/MyDrive/Brain_tumor/Training/notumor/Tr-no_1322.jpg', '/content/drive/MyDrive/Brain_tumor/Training/glioma/Tr-gl_0479.jpg', '/content/drive/MyDrive/Brain_tumor/Training/notumor/Tr-no_0226.jpg', '/content/drive/MyDrive/Brain_tumor/Training/pituitary/Tr-pi_0120.jpg', '/content/drive/MyDrive/Brain_tumor/Training/meningioma/Tr-me_1274.jpg', '/content/drive/MyDrive/Brain_tumor/Training/meningioma/Tr-me_0650.jpg', '/content/drive/MyDrive/Brain_tumor/Training/pituitary/Tr-pi_1122.jpg', '/content/drive/MyDrive/Brain_tumor/Training/notumor/Tr-no_1333.jpg', '/content/drive/MyDrive/Brain_tumor/Training/pituitary/Tr-pi_0418.jpg', '/content/drive/MyDrive/Brain_tumor/Training/pituitary/Tr-pi_0748.jpg', '/content/drive/MyDrive/Brain_tumor/Training/meningioma/Tr-me_0779.jpg', '/content/drive/MyDrive/Brain_tumor/Training/glioma/Tr-gl_0770.jpg', '/content/drive/MyDrive/Brain_tumor/Training/glioma/Tr-gl_0637.jpg', '/content/drive/MyDrive/Brain_tumor/Training/meningioma/Tr-me_1332.jpg', '/content/drive/MyDrive/Brain_tumor/Training/meningioma/Tr-me_0021.jpg', '/content/drive/MyDrive/Brain_tumor/Training/pituitary/Tr-pi_0522.jpg', '/content/drive/MyDrive/Brain_tumor/Training/meningioma/Tr-me_0976.jpg', '/content/drive/MyDrive/Brain_tumor/Training/pituitary/Tr-pi_0534.jpg', '/content/drive/MyDrive/Brain_tumor/Training/glioma/Tr-gl_0320.jpg', '/content/drive/MyDrive/Brain_tumor/Training/meningioma/Tr-me_0748.jpg', '/content/drive/MyDrive/Brain_tumor/Training/glioma/Tr-gl_0299.jpg', '/content/drive/MyDrive/Brain_tumor/Training/pituitary/Tr-pi_0702.jpg', '/content/drive/MyDrive/Brain_tumor/Training/glioma/Tr-gl_0442.jpg', '/content/drive/MyDrive/Brain_tumor/Training/meningioma/Tr-me_0708.jpg', '/content/drive/MyDrive/Brain_tumor/Training/glioma/Tr-gl_0157.jpg', '/content/drive/MyDrive/Brain_tumor/Training/meningioma/Tr-me_0784.jpg', '/content/drive/MyDrive/Brain_tumor/Training/glioma/Tr-gl_0722.jpg', '/content/drive/MyDrive/Brain_tumor/Training/meningioma/Tr-me_1113.jpg', '/content/drive/MyDrive/Brain_tumor/Training/notumor/Tr-no_1033.jpg', '/content/drive/MyDrive/Brain_tumor/Training/notumor/Tr-no_1261.jpg', '/content/drive/MyDrive/Brain_tumor/Training/glioma/Tr-gl_0274.jpg', '/content/drive/MyDrive/Brain_tumor/Training/pituitary/Tr-pi_0772.jpg', '/content/drive/MyDrive/Brain_tumor/Training/glioma/Tr-gl_0139.jpg', '/content/drive/MyDrive/Brain_tumor/Training/notumor/Tr-no_1224.jpg', '/content/drive/MyDrive/Brain_tumor/Training/glioma/Tr-gl_1113.jpg', '/content/drive/MyDrive/Brain_tumor/Training/glioma/Tr-gl_0100.jpg', '/content/drive/MyDrive/Brain_tumor/Training/notumor/Tr-no_1579.jpg', '/content/drive/MyDrive/Brain_tumor/Training/notumor/Tr-no_0546 (1).jpg', '/content/drive/MyDrive/Brain_tumor/Training/notumor/Tr-no_1558.jpg', '/content/drive/MyDrive/Brain_tumor/Training/notumor/Tr-no_0617.jpg', '/content/drive/MyDrive/Brain_tumor/Training/notumor/Tr-no_0976.jpg', '/content/drive/MyDrive/Brain_tumor/Training/pituitary/Tr-pi_0589.jpg', '/content/drive/MyDrive/Brain_tumor/Training/notumor/Tr-no_0110.jpg', '/content/drive/MyDrive/Brain_tumor/Training/meningioma/Tr-me_0594.jpg', '/content/drive/MyDrive/Brain_tumor/Training/glioma/Tr-gl_1207.jpg', '/content/drive/MyDrive/Brain_tumor/Training/notumor/Tr-no_0953.jpg', '/content/drive/MyDrive/Brain_tumor/Training/glioma/Tr-gl_0519.jpg', '/content/drive/MyDrive/Brain_tumor/Training/notumor/Tr-no_0437.jpg', '/content/drive/MyDrive/Brain_tumor/Training/pituitary/Tr-pi_1392.jpg', '/content/drive/MyDrive/Brain_tumor/Training/notumor/Tr-no_1519.jpg', '/content/drive/MyDrive/Brain_tumor/Training/meningioma/Tr-me_0957.jpg', '/content/drive/MyDrive/Brain_tumor/Training/meningioma/Tr-me_1267.jpg', '/content/drive/MyDrive/Brain_tumor/Training/glioma/Tr-gl_1076.jpg', '/content/drive/MyDrive/Brain_tumor/Training/notumor/Tr-no_1505.jpg', '/content/drive/MyDrive/Brain_tumor/Training/notumor/Tr-no_1511.jpg', '/content/drive/MyDrive/Brain_tumor/Training/pituitary/Tr-pi_1451.jpg', '/content/drive/MyDrive/Brain_tumor/Training/notumor/Tr-no_1381.jpg', '/content/drive/MyDrive/Brain_tumor/Training/notumor/Tr-no_0330.jpg', '/content/drive/MyDrive/Brain_tumor/Training/meningioma/Tr-me_0805.jpg', '/content/drive/MyDrive/Brain_tumor/Training/meningioma/Tr-me_0088.jpg', '/content/drive/MyDrive/Brain_tumor/Training/meningioma/Tr-me_0463.jpg', '/content/drive/MyDrive/Brain_tumor/Training/notumor/Tr-no_1406.jpg', '/content/drive/MyDrive/Brain_tumor/Training/pituitary/Tr-pi_0720.jpg', '/content/drive/MyDrive/Brain_tumor/Training/glioma/Tr-gl_0753.jpg', '/content/drive/MyDrive/Brain_tumor/Training/glioma/Tr-gl_0252.jpg', '/content/drive/MyDrive/Brain_tumor/Training/notumor/Tr-no_0788.jpg', '/content/drive/MyDrive/Brain_tumor/Training/meningioma/Tr-me_0061.jpg', '/content/drive/MyDrive/Brain_tumor/Training/pituitary/Tr-pi_1444.jpg', '/content/drive/MyDrive/Brain_tumor/Training/glioma/Tr-gl_0607.jpg', '/content/drive/MyDrive/Brain_tumor/Training/pituitary/Tr-pi_0473.jpg', '/content/drive/MyDrive/Brain_tumor/Training/meningioma/Tr-me_0392.jpg', '/content/drive/MyDrive/Brain_tumor/Training/notumor/Tr-no_1514.jpg', '/content/drive/MyDrive/Brain_tumor/Training/meningioma/Tr-me_0632.jpg', '/content/drive/MyDrive/Brain_tumor/Training/notumor/Tr-no_1222.jpg', '/content/drive/MyDrive/Brain_tumor/Training/pituitary/Tr-pi_0849.jpg', '/content/drive/MyDrive/Brain_tumor/Training/pituitary/Tr-pi_0266.jpg', '/content/drive/MyDrive/Brain_tumor/Training/pituitary/Tr-pi_1005.jpg', '/content/drive/MyDrive/Brain_tumor/Training/notumor/Tr-no_1430.jpg', '/content/drive/MyDrive/Brain_tumor/Training/notumor/Tr-no_1194.jpg', '/content/drive/MyDrive/Brain_tumor/Training/notumor/Tr-no_1146.jpg', '/content/drive/MyDrive/Brain_tumor/Training/meningioma/Tr-me_0437.jpg', '/content/drive/MyDrive/Brain_tumor/Training/pituitary/Tr-pi_0871.jpg', '/content/drive/MyDrive/Brain_tumor/Training/meningioma/Tr-me_0686.jpg', '/content/drive/MyDrive/Brain_tumor/Training/pituitary/Tr-pi_1318.jpg', '/content/drive/MyDrive/Brain_tumor/Training/meningioma/Tr-me_0447.jpg', '/content/drive/MyDrive/Brain_tumor/Training/meningioma/Tr-me_0101.jpg', '/content/drive/MyDrive/Brain_tumor/Training/glioma/Tr-gl_0648.jpg', '/content/drive/MyDrive/Brain_tumor/Training/pituitary/Tr-pi_1010.jpg', '/content/drive/MyDrive/Brain_tumor/Training/pituitary/Tr-pi_0184.jpg', '/content/drive/MyDrive/Brain_tumor/Training/pituitary/Tr-pi_1047.jpg', '/content/drive/MyDrive/Brain_tumor/Training/glioma/Tr-gl_1044.jpg', '/content/drive/MyDrive/Brain_tumor/Training/pituitary/Tr-pi_0207.jpg', '/content/drive/MyDrive/Brain_tumor/Training/meningioma/Tr-me_0953.jpg', '/content/drive/MyDrive/Brain_tumor/Training/glioma/Tr-gl_1142.jpg', '/content/drive/MyDrive/Brain_tumor/Training/meningioma/Tr-me_0760.jpg', '/content/drive/MyDrive/Brain_tumor/Training/glioma/Tr-gl_1270.jpg', '/content/drive/MyDrive/Brain_tumor/Training/meningioma/Tr-me_0440.jpg', '/content/drive/MyDrive/Brain_tumor/Training/meningioma/Tr-me_1098.jpg', '/content/drive/MyDrive/Brain_tumor/Training/glioma/Tr-gl_0595.jpg', '/content/drive/MyDrive/Brain_tumor/Training/notumor/Tr-no_0131.jpg', '/content/drive/MyDrive/Brain_tumor/Training/meningioma/Tr-me_0384.jpg', '/content/drive/MyDrive/Brain_tumor/Training/meningioma/Tr-me_1011.jpg', '/content/drive/MyDrive/Brain_tumor/Training/pituitary/Tr-pi_0483.jpg', '/content/drive/MyDrive/Brain_tumor/Training/meningioma/Tr-me_0190.jpg', '/content/drive/MyDrive/Brain_tumor/Training/notumor/Tr-no_0293.jpg', '/content/drive/MyDrive/Brain_tumor/Training/pituitary/Tr-pi_1360.jpg', '/content/drive/MyDrive/Brain_tumor/Training/notumor/Tr-no_0637.jpg', '/content/drive/MyDrive/Brain_tumor/Training/pituitary/Tr-pi_1307.jpg', '/content/drive/MyDrive/Brain_tumor/Training/glioma/Tr-gl_1059.jpg', '/content/drive/MyDrive/Brain_tumor/Training/pituitary/Tr-pi_0323.jpg', '/content/drive/MyDrive/Brain_tumor/Training/pituitary/Tr-pi_0771.jpg', '/content/drive/MyDrive/Brain_tumor/Training/pituitary/Tr-pi_0388.jpg', '/content/drive/MyDrive/Brain_tumor/Training/notumor/Tr-no_0064.jpg', '/content/drive/MyDrive/Brain_tumor/Training/glioma/Tr-gl_1035.jpg', '/content/drive/MyDrive/Brain_tumor/Training/pituitary/Tr-pi_1428.jpg', '/content/drive/MyDrive/Brain_tumor/Training/pituitary/Tr-pi_0065.jpg', '/content/drive/MyDrive/Brain_tumor/Training/notumor/Tr-no_0930.jpg', '/content/drive/MyDrive/Brain_tumor/Training/meningioma/Tr-me_0723.jpg', '/content/drive/MyDrive/Brain_tumor/Training/glioma/Tr-gl_0690.jpg', '/content/drive/MyDrive/Brain_tumor/Training/glioma/Tr-gl_0988.jpg', '/content/drive/MyDrive/Brain_tumor/Training/meningioma/Tr-me_0765.jpg', '/content/drive/MyDrive/Brain_tumor/Training/meningioma/Tr-me_0362.jpg', '/content/drive/MyDrive/Brain_tumor/Training/notumor/Tr-no_1480.jpg', '/content/drive/MyDrive/Brain_tumor/Training/meningioma/Tr-me_1097.jpg', '/content/drive/MyDrive/Brain_tumor/Training/pituitary/Tr-pi_1175.jpg', '/content/drive/MyDrive/Brain_tumor/Training/notumor/Tr-no_0985.jpg', '/content/drive/MyDrive/Brain_tumor/Training/notumor/Tr-no_0496.jpg', '/content/drive/MyDrive/Brain_tumor/Training/pituitary/Tr-pi_0966.jpg', '/content/drive/MyDrive/Brain_tumor/Training/pituitary/Tr-pi_0656.jpg', '/content/drive/MyDrive/Brain_tumor/Training/notumor/Tr-no_1425.jpg', '/content/drive/MyDrive/Brain_tumor/Training/pituitary/Tr-pi_0755.jpg', '/content/drive/MyDrive/Brain_tumor/Training/glioma/Tr-gl_1001.jpg', '/content/drive/MyDrive/Brain_tumor/Training/meningioma/Tr-me_0181.jpg', '/content/drive/MyDrive/Brain_tumor/Training/pituitary/Tr-pi_0500.jpg', '/content/drive/MyDrive/Brain_tumor/Training/notumor/Tr-no_0467.jpg', '/content/drive/MyDrive/Brain_tumor/Training/meningioma/Tr-me_0202.jpg', '/content/drive/MyDrive/Brain_tumor/Training/glioma/Tr-gl_0185.jpg', '/content/drive/MyDrive/Brain_tumor/Training/glioma/Tr-gl_0290.jpg', '/content/drive/MyDrive/Brain_tumor/Training/meningioma/Tr-me_0656.jpg', '/content/drive/MyDrive/Brain_tumor/Training/notumor/Tr-no_1302.jpg', '/content/drive/MyDrive/Brain_tumor/Training/meningioma/Tr-me_0345.jpg', '/content/drive/MyDrive/Brain_tumor/Training/glioma/Tr-gl_1032.jpg', '/content/drive/MyDrive/Brain_tumor/Training/pituitary/Tr-pi_0476.jpg', '/content/drive/MyDrive/Brain_tumor/Training/pituitary/Tr-pi_0288.jpg', '/content/drive/MyDrive/Brain_tumor/Training/pituitary/Tr-pi_1075.jpg', '/content/drive/MyDrive/Brain_tumor/Training/meningioma/Tr-me_0702.jpg', '/content/drive/MyDrive/Brain_tumor/Training/pituitary/Tr-pi_1187.jpg', '/content/drive/MyDrive/Brain_tumor/Training/pituitary/Tr-pi_0970.jpg', '/content/drive/MyDrive/Brain_tumor/Training/pituitary/Tr-pi_0835.jpg', '/content/drive/MyDrive/Brain_tumor/Training/notumor/Tr-no_1468.jpg', '/content/drive/MyDrive/Brain_tumor/Training/meningioma/Tr-me_0374.jpg', '/content/drive/MyDrive/Brain_tumor/Training/meningioma/Tr-me_1136.jpg', '/content/drive/MyDrive/Brain_tumor/Training/glioma/Tr-gl_0645.jpg', '/content/drive/MyDrive/Brain_tumor/Training/notumor/Tr-no_0474.jpg', '/content/drive/MyDrive/Brain_tumor/Training/pituitary/Tr-pi_1395.jpg', '/content/drive/MyDrive/Brain_tumor/Training/glioma/Tr-gl_0854.jpg', '/content/drive/MyDrive/Brain_tumor/Training/meningioma/Tr-me_0234.jpg', '/content/drive/MyDrive/Brain_tumor/Training/notumor/Tr-no_1516.jpg', '/content/drive/MyDrive/Brain_tumor/Training/pituitary/Tr-pi_0365.jpg', '/content/drive/MyDrive/Brain_tumor/Training/meningioma/Tr-me_0516.jpg', '/content/drive/MyDrive/Brain_tumor/Training/meningioma/Tr-me_0853.jpg', '/content/drive/MyDrive/Brain_tumor/Training/pituitary/Tr-pi_0813.jpg', '/content/drive/MyDrive/Brain_tumor/Training/glioma/Tr-gl_0838.jpg', '/content/drive/MyDrive/Brain_tumor/Training/glioma/Tr-gl_0913.jpg', '/content/drive/MyDrive/Brain_tumor/Training/pituitary/Tr-pi_0236.jpg', '/content/drive/MyDrive/Brain_tumor/Training/glioma/Tr-gl_0042.jpg', '/content/drive/MyDrive/Brain_tumor/Training/pituitary/Tr-pi_0981.jpg', '/content/drive/MyDrive/Brain_tumor/Training/meningioma/Tr-me_1070.jpg', '/content/drive/MyDrive/Brain_tumor/Training/glioma/Tr-gl_0926.jpg', '/content/drive/MyDrive/Brain_tumor/Training/pituitary/Tr-pi_0153.jpg', '/content/drive/MyDrive/Brain_tumor/Training/glioma/Tr-gl_0791.jpg', '/content/drive/MyDrive/Brain_tumor/Training/pituitary/Tr-pi_0066.jpg', '/content/drive/MyDrive/Brain_tumor/Training/notumor/Tr-no_0585.jpg', '/content/drive/MyDrive/Brain_tumor/Training/pituitary/Tr-pi_1002.jpg', '/content/drive/MyDrive/Brain_tumor/Training/notumor/Tr-no_1178.jpg', '/content/drive/MyDrive/Brain_tumor/Training/notumor/Tr-no_0609.jpg', '/content/drive/MyDrive/Brain_tumor/Training/meningioma/Tr-me_1157.jpg', '/content/drive/MyDrive/Brain_tumor/Training/notumor/Tr-no_0884.jpg', '/content/drive/MyDrive/Brain_tumor/Training/pituitary/Tr-pi_0372.jpg', '/content/drive/MyDrive/Brain_tumor/Training/glioma/Tr-glTr_0002.jpg', '/content/drive/MyDrive/Brain_tumor/Training/notumor/Tr-no_0489.jpg', '/content/drive/MyDrive/Brain_tumor/Training/meningioma/Tr-me_0229.jpg', '/content/drive/MyDrive/Brain_tumor/Training/notumor/Tr-no_0213.jpg', '/content/drive/MyDrive/Brain_tumor/Training/pituitary/Tr-pi_0890.jpg', '/content/drive/MyDrive/Brain_tumor/Training/notumor/Tr-no_0613.jpg', '/content/drive/MyDrive/Brain_tumor/Training/glioma/Tr-gl_0280.jpg', '/content/drive/MyDrive/Brain_tumor/Training/pituitary/Tr-piTr_0000.jpg', '/content/drive/MyDrive/Brain_tumor/Training/notumor/Tr-no_0136.jpg', '/content/drive/MyDrive/Brain_tumor/Training/notumor/Tr-no_1007.jpg', '/content/drive/MyDrive/Brain_tumor/Training/notumor/Tr-no_1276.jpg', '/content/drive/MyDrive/Brain_tumor/Training/glioma/Tr-gl_1268.jpg', '/content/drive/MyDrive/Brain_tumor/Training/glioma/Tr-gl_0862.jpg', '/content/drive/MyDrive/Brain_tumor/Training/glioma/Tr-gl_0257.jpg', '/content/drive/MyDrive/Brain_tumor/Training/meningioma/Tr-me_1327.jpg', '/content/drive/MyDrive/Brain_tumor/Training/notumor/Tr-no_0063.jpg', '/content/drive/MyDrive/Brain_tumor/Training/pituitary/Tr-pi_1095.jpg', '/content/drive/MyDrive/Brain_tumor/Training/notumor/Tr-no_0792.jpg', '/content/drive/MyDrive/Brain_tumor/Training/notumor/Tr-no_1359.jpg', '/content/drive/MyDrive/Brain_tumor/Training/notumor/Tr-no_0383 (1).jpg', '/content/drive/MyDrive/Brain_tumor/Training/meningioma/Tr-me_0799.jpg', '/content/drive/MyDrive/Brain_tumor/Training/notumor/Tr-no_1223.jpg', '/content/drive/MyDrive/Brain_tumor/Training/notumor/Tr-no_0413.jpg', '/content/drive/MyDrive/Brain_tumor/Training/notumor/Tr-no_0818.jpg', '/content/drive/MyDrive/Brain_tumor/Training/pituitary/Tr-pi_0182.jpg', '/content/drive/MyDrive/Brain_tumor/Training/meningioma/Tr-me_0108.jpg', '/content/drive/MyDrive/Brain_tumor/Training/pituitary/Tr-pi_1325.jpg', '/content/drive/MyDrive/Brain_tumor/Training/glioma/Tr-glTr_0003.jpg', '/content/drive/MyDrive/Brain_tumor/Training/notumor/Tr-no_0441.jpg', '/content/drive/MyDrive/Brain_tumor/Training/pituitary/Tr-pi_1304.jpg', '/content/drive/MyDrive/Brain_tumor/Training/pituitary/Tr-pi_0314.jpg', '/content/drive/MyDrive/Brain_tumor/Training/meningioma/Tr-me_0705.jpg', '/content/drive/MyDrive/Brain_tumor/Training/notumor/Tr-no_1122.jpg', '/content/drive/MyDrive/Brain_tumor/Training/glioma/Tr-gl_0399.jpg', '/content/drive/MyDrive/Brain_tumor/Training/notumor/Tr-no_0223.jpg', '/content/drive/MyDrive/Brain_tumor/Training/notumor/Tr-no_0932.jpg', '/content/drive/MyDrive/Brain_tumor/Training/glioma/Tr-gl_0348.jpg', '/content/drive/MyDrive/Brain_tumor/Training/notumor/Tr-no_0400.jpg', '/content/drive/MyDrive/Brain_tumor/Training/pituitary/Tr-pi_1054.jpg', '/content/drive/MyDrive/Brain_tumor/Training/meningioma/Tr-me_0372.jpg', '/content/drive/MyDrive/Brain_tumor/Training/glioma/Tr-gl_0182.jpg', '/content/drive/MyDrive/Brain_tumor/Training/notumor/Tr-no_0966.jpg', '/content/drive/MyDrive/Brain_tumor/Training/meningioma/Tr-me_0037.jpg', '/content/drive/MyDrive/Brain_tumor/Training/meningioma/Tr-me_0040.jpg', '/content/drive/MyDrive/Brain_tumor/Training/notumor/Tr-no_0924.jpg', '/content/drive/MyDrive/Brain_tumor/Training/notumor/Tr-no_0595.jpg', '/content/drive/MyDrive/Brain_tumor/Training/notumor/Tr-no_0705.jpg', '/content/drive/MyDrive/Brain_tumor/Training/glioma/Tr-gl_0303.jpg', '/content/drive/MyDrive/Brain_tumor/Training/pituitary/Tr-pi_1159.jpg', '/content/drive/MyDrive/Brain_tumor/Training/pituitary/Tr-pi_1134.jpg', '/content/drive/MyDrive/Brain_tumor/Training/notumor/Tr-no_1325.jpg', '/content/drive/MyDrive/Brain_tumor/Training/notumor/Tr-no_0913.jpg', '/content/drive/MyDrive/Brain_tumor/Training/meningioma/Tr-me_0174.jpg', '/content/drive/MyDrive/Brain_tumor/Training/notumor/Tr-no_0433.jpg', '/content/drive/MyDrive/Brain_tumor/Training/notumor/Tr-no_0327.jpg', '/content/drive/MyDrive/Brain_tumor/Training/pituitary/Tr-pi_0269.jpg', '/content/drive/MyDrive/Brain_tumor/Training/glioma/Tr-gl_0186.jpg', '/content/drive/MyDrive/Brain_tumor/Training/notumor/Tr-no_1199.jpg', '/content/drive/MyDrive/Brain_tumor/Training/glioma/Tr-gl_1223.jpg', '/content/drive/MyDrive/Brain_tumor/Training/notumor/Tr-no_0989.jpg', '/content/drive/MyDrive/Brain_tumor/Training/notumor/Tr-no_0795.jpg', '/content/drive/MyDrive/Brain_tumor/Training/meningioma/Tr-me_1133.jpg', '/content/drive/MyDrive/Brain_tumor/Training/meningioma/Tr-me_1325.jpg', '/content/drive/MyDrive/Brain_tumor/Training/meningioma/Tr-me_0908.jpg', '/content/drive/MyDrive/Brain_tumor/Training/notumor/Tr-no_0871.jpg', '/content/drive/MyDrive/Brain_tumor/Training/notumor/Tr-no_1293.jpg', '/content/drive/MyDrive/Brain_tumor/Training/pituitary/Tr-pi_0353.jpg', '/content/drive/MyDrive/Brain_tumor/Training/glioma/Tr-gl_1117.jpg', '/content/drive/MyDrive/Brain_tumor/Training/pituitary/Tr-pi_0422.jpg', '/content/drive/MyDrive/Brain_tumor/Training/glioma/Tr-gl_0394.jpg', '/content/drive/MyDrive/Brain_tumor/Training/glioma/Tr-gl_1216.jpg', '/content/drive/MyDrive/Brain_tumor/Training/meningioma/Tr-me_0620.jpg', '/content/drive/MyDrive/Brain_tumor/Training/notumor/Tr-no_0176.jpg', '/content/drive/MyDrive/Brain_tumor/Training/notumor/Tr-no_0067.jpg', '/content/drive/MyDrive/Brain_tumor/Training/glioma/Tr-gl_0455.jpg', '/content/drive/MyDrive/Brain_tumor/Training/notumor/Tr-no_0447.jpg', '/content/drive/MyDrive/Brain_tumor/Training/pituitary/Tr-pi_0261.jpg', '/content/drive/MyDrive/Brain_tumor/Training/meningioma/Tr-me_0906.jpg', '/content/drive/MyDrive/Brain_tumor/Training/notumor/Tr-no_0220 (1).jpg', '/content/drive/MyDrive/Brain_tumor/Training/glioma/Tr-gl_0555.jpg', '/content/drive/MyDrive/Brain_tumor/Training/pituitary/Tr-pi_0257.jpg', '/content/drive/MyDrive/Brain_tumor/Training/glioma/Tr-gl_0331.jpg', '/content/drive/MyDrive/Brain_tumor/Training/notumor/Tr-no_1513.jpg', '/content/drive/MyDrive/Brain_tumor/Training/meningioma/Tr-me_0246.jpg', '/content/drive/MyDrive/Brain_tumor/Training/pituitary/Tr-pi_0973.jpg', '/content/drive/MyDrive/Brain_tumor/Training/notumor/Tr-no_1298.jpg', '/content/drive/MyDrive/Brain_tumor/Training/pituitary/Tr-pi_0807.jpg', '/content/drive/MyDrive/Brain_tumor/Training/glioma/Tr-gl_0476.jpg', '/content/drive/MyDrive/Brain_tumor/Training/glioma/Tr-gl_0951.jpg', '/content/drive/MyDrive/Brain_tumor/Training/pituitary/Tr-pi_1201.jpg', '/content/drive/MyDrive/Brain_tumor/Training/pituitary/Tr-pi_0132.jpg', '/content/drive/MyDrive/Brain_tumor/Training/notumor/Tr-no_0723.jpg', '/content/drive/MyDrive/Brain_tumor/Training/notumor/Tr-no_0988.jpg', '/content/drive/MyDrive/Brain_tumor/Training/pituitary/Tr-pi_0740.jpg', '/content/drive/MyDrive/Brain_tumor/Training/notumor/Tr-no_1341.jpg', '/content/drive/MyDrive/Brain_tumor/Training/glioma/Tr-gl_0504.jpg', '/content/drive/MyDrive/Brain_tumor/Training/notumor/Tr-no_0227.jpg', '/content/drive/MyDrive/Brain_tumor/Training/pituitary/Tr-pi_1310.jpg', '/content/drive/MyDrive/Brain_tumor/Training/notumor/Tr-no_0908.jpg', '/content/drive/MyDrive/Brain_tumor/Training/notumor/Tr-no_0134.jpg', '/content/drive/MyDrive/Brain_tumor/Training/meningioma/Tr-me_1228.jpg', '/content/drive/MyDrive/Brain_tumor/Training/glioma/Tr-gl_0796.jpg', '/content/drive/MyDrive/Brain_tumor/Training/notumor/Tr-no_1212.jpg', '/content/drive/MyDrive/Brain_tumor/Training/notumor/Tr-no_0742.jpg', '/content/drive/MyDrive/Brain_tumor/Training/pituitary/Tr-pi_0375.jpg', '/content/drive/MyDrive/Brain_tumor/Training/meningioma/Tr-me_0936.jpg', '/content/drive/MyDrive/Brain_tumor/Training/meningioma/Tr-me_0991.jpg', '/content/drive/MyDrive/Brain_tumor/Training/meningioma/Tr-me_1252.jpg', '/content/drive/MyDrive/Brain_tumor/Training/notumor/Tr-no_0230.jpg', '/content/drive/MyDrive/Brain_tumor/Training/glioma/Tr-gl_1088.jpg', '/content/drive/MyDrive/Brain_tumor/Training/pituitary/Tr-pi_0873.jpg', '/content/drive/MyDrive/Brain_tumor/Training/meningioma/Tr-me_1175.jpg', '/content/drive/MyDrive/Brain_tumor/Training/notumor/Tr-no_0946.jpg', '/content/drive/MyDrive/Brain_tumor/Training/pituitary/Tr-pi_0088.jpg', '/content/drive/MyDrive/Brain_tumor/Training/meningioma/Tr-me_0405.jpg', '/content/drive/MyDrive/Brain_tumor/Training/meningioma/Tr-me_0418.jpg', '/content/drive/MyDrive/Brain_tumor/Training/meningioma/Tr-me_0732.jpg', '/content/drive/MyDrive/Brain_tumor/Training/meningioma/Tr-me_1248.jpg', '/content/drive/MyDrive/Brain_tumor/Training/glioma/Tr-gl_0388.jpg', '/content/drive/MyDrive/Brain_tumor/Training/glioma/Tr-gl_0357.jpg', '/content/drive/MyDrive/Brain_tumor/Training/meningioma/Tr-me_0439.jpg', '/content/drive/MyDrive/Brain_tumor/Training/meningioma/Tr-me_0862.jpg', '/content/drive/MyDrive/Brain_tumor/Training/notumor/Tr-no_0026.jpg', '/content/drive/MyDrive/Brain_tumor/Training/meningioma/Tr-me_1259.jpg', '/content/drive/MyDrive/Brain_tumor/Training/meningioma/Tr-me_0483.jpg', '/content/drive/MyDrive/Brain_tumor/Training/glioma/Tr-gl_0189.jpg', '/content/drive/MyDrive/Brain_tumor/Training/notumor/Tr-no_0027.jpg', '/content/drive/MyDrive/Brain_tumor/Training/meningioma/Tr-me_0077.jpg', '/content/drive/MyDrive/Brain_tumor/Training/meningioma/Tr-me_1258.jpg', '/content/drive/MyDrive/Brain_tumor/Training/pituitary/Tr-pi_0298.jpg', '/content/drive/MyDrive/Brain_tumor/Training/notumor/Tr-no_0927.jpg', '/content/drive/MyDrive/Brain_tumor/Training/meningioma/Tr-meTr_0008.jpg', '/content/drive/MyDrive/Brain_tumor/Training/pituitary/Tr-pi_0317.jpg', '/content/drive/MyDrive/Brain_tumor/Training/glioma/Tr-gl_1225.jpg', '/content/drive/MyDrive/Brain_tumor/Training/notumor/Tr-no_0476.jpg', '/content/drive/MyDrive/Brain_tumor/Training/meningioma/Tr-me_0078.jpg', '/content/drive/MyDrive/Brain_tumor/Training/pituitary/Tr-pi_0921.jpg', '/content/drive/MyDrive/Brain_tumor/Training/glioma/Tr-gl_1056.jpg', '/content/drive/MyDrive/Brain_tumor/Training/meningioma/Tr-me_0378.jpg', '/content/drive/MyDrive/Brain_tumor/Training/pituitary/Tr-pi_0053.jpg', '/content/drive/MyDrive/Brain_tumor/Training/pituitary/Tr-pi_0486.jpg', '/content/drive/MyDrive/Brain_tumor/Training/meningioma/Tr-me_0983.jpg', '/content/drive/MyDrive/Brain_tumor/Training/meningioma/Tr-me_1286.jpg', '/content/drive/MyDrive/Brain_tumor/Training/meningioma/Tr-me_0302.jpg', '/content/drive/MyDrive/Brain_tumor/Training/meningioma/Tr-me_1302.jpg', '/content/drive/MyDrive/Brain_tumor/Training/notumor/Tr-no_0215.jpg', '/content/drive/MyDrive/Brain_tumor/Training/notumor/Tr-no_1441.jpg', '/content/drive/MyDrive/Brain_tumor/Training/notumor/Tr-no_0959.jpg', '/content/drive/MyDrive/Brain_tumor/Training/pituitary/Tr-pi_0077.jpg', '/content/drive/MyDrive/Brain_tumor/Training/pituitary/Tr-pi_0244.jpg', '/content/drive/MyDrive/Brain_tumor/Training/notumor/Tr-no_1080.jpg', '/content/drive/MyDrive/Brain_tumor/Training/meningioma/Tr-me_0542.jpg', '/content/drive/MyDrive/Brain_tumor/Training/glioma/Tr-gl_0366.jpg', '/content/drive/MyDrive/Brain_tumor/Training/pituitary/Tr-pi_0964.jpg', '/content/drive/MyDrive/Brain_tumor/Training/pituitary/Tr-pi_0339.jpg', '/content/drive/MyDrive/Brain_tumor/Training/pituitary/Tr-piTr_0003.jpg', '/content/drive/MyDrive/Brain_tumor/Training/glioma/Tr-gl_0283.jpg', '/content/drive/MyDrive/Brain_tumor/Training/pituitary/Tr-pi_0435.jpg', '/content/drive/MyDrive/Brain_tumor/Training/notumor/Tr-no_1028.jpg', '/content/drive/MyDrive/Brain_tumor/Training/meningioma/Tr-me_0475.jpg', '/content/drive/MyDrive/Brain_tumor/Training/meningioma/Tr-me_0963.jpg', '/content/drive/MyDrive/Brain_tumor/Training/glioma/Tr-gl_0522.jpg', '/content/drive/MyDrive/Brain_tumor/Training/meningioma/Tr-me_1215.jpg', '/content/drive/MyDrive/Brain_tumor/Training/meningioma/Tr-me_1309.jpg', '/content/drive/MyDrive/Brain_tumor/Training/glioma/Tr-gl_0131.jpg', '/content/drive/MyDrive/Brain_tumor/Training/notumor/Tr-no_0360.jpg', '/content/drive/MyDrive/Brain_tumor/Training/notumor/Tr-no_0612.jpg', '/content/drive/MyDrive/Brain_tumor/Training/meningioma/Tr-me_0919.jpg', '/content/drive/MyDrive/Brain_tumor/Training/meningioma/Tr-me_0353.jpg', '/content/drive/MyDrive/Brain_tumor/Training/pituitary/Tr-pi_1240.jpg', '/content/drive/MyDrive/Brain_tumor/Training/meningioma/Tr-me_0940.jpg', '/content/drive/MyDrive/Brain_tumor/Training/notumor/Tr-no_0419.jpg', '/content/drive/MyDrive/Brain_tumor/Training/pituitary/Tr-pi_1249.jpg', '/content/drive/MyDrive/Brain_tumor/Training/glioma/Tr-gl_0741.jpg', '/content/drive/MyDrive/Brain_tumor/Training/pituitary/Tr-pi_0097.jpg', '/content/drive/MyDrive/Brain_tumor/Training/pituitary/Tr-pi_0400.jpg', '/content/drive/MyDrive/Brain_tumor/Training/notumor/Tr-no_0070.jpg', '/content/drive/MyDrive/Brain_tumor/Training/notumor/Tr-no_0079.jpg', '/content/drive/MyDrive/Brain_tumor/Training/pituitary/Tr-pi_0617.jpg', '/content/drive/MyDrive/Brain_tumor/Training/meningioma/Tr-me_0413.jpg', '/content/drive/MyDrive/Brain_tumor/Training/glioma/Tr-gl_0881.jpg', '/content/drive/MyDrive/Brain_tumor/Training/notumor/Tr-no_0721.jpg', '/content/drive/MyDrive/Brain_tumor/Training/meningioma/Tr-me_1081.jpg', '/content/drive/MyDrive/Brain_tumor/Training/glioma/Tr-gl_0066.jpg', '/content/drive/MyDrive/Brain_tumor/Training/notumor/Tr-no_0492.jpg', '/content/drive/MyDrive/Brain_tumor/Training/pituitary/Tr-pi_0557.jpg', '/content/drive/MyDrive/Brain_tumor/Training/meningioma/Tr-me_0076.jpg', '/content/drive/MyDrive/Brain_tumor/Training/glioma/Tr-gl_0462.jpg', '/content/drive/MyDrive/Brain_tumor/Training/pituitary/Tr-pi_1034.jpg', '/content/drive/MyDrive/Brain_tumor/Training/meningioma/Tr-me_0766.jpg', '/content/drive/MyDrive/Brain_tumor/Training/pituitary/Tr-pi_1055.jpg', '/content/drive/MyDrive/Brain_tumor/Training/glioma/Tr-gl_1251.jpg', '/content/drive/MyDrive/Brain_tumor/Training/notumor/Tr-no_1197.jpg', '/content/drive/MyDrive/Brain_tumor/Training/glioma/Tr-gl_0059.jpg', '/content/drive/MyDrive/Brain_tumor/Training/pituitary/Tr-pi_0336.jpg', '/content/drive/MyDrive/Brain_tumor/Training/glioma/Tr-gl_0244.jpg', '/content/drive/MyDrive/Brain_tumor/Training/notumor/Tr-no_0879.jpg', '/content/drive/MyDrive/Brain_tumor/Training/pituitary/Tr-pi_0220.jpg', '/content/drive/MyDrive/Brain_tumor/Training/glioma/Tr-gl_0565.jpg', '/content/drive/MyDrive/Brain_tumor/Training/glioma/Tr-gl_0641.jpg', '/content/drive/MyDrive/Brain_tumor/Training/notumor/Tr-no_1272.jpg', '/content/drive/MyDrive/Brain_tumor/Training/meningioma/Tr-me_1163.jpg', '/content/drive/MyDrive/Brain_tumor/Training/meningioma/Tr-me_0794.jpg', '/content/drive/MyDrive/Brain_tumor/Training/meningioma/Tr-me_0028.jpg', '/content/drive/MyDrive/Brain_tumor/Training/notumor/Tr-no_1279.jpg', '/content/drive/MyDrive/Brain_tumor/Training/glioma/Tr-gl_1255.jpg', '/content/drive/MyDrive/Brain_tumor/Training/notumor/Tr-no_0949.jpg', '/content/drive/MyDrive/Brain_tumor/Training/meningioma/Tr-me_0216.jpg', '/content/drive/MyDrive/Brain_tumor/Training/pituitary/Tr-pi_0334.jpg', '/content/drive/MyDrive/Brain_tumor/Training/meningioma/Tr-me_1083.jpg', '/content/drive/MyDrive/Brain_tumor/Training/pituitary/Tr-pi_1048.jpg', '/content/drive/MyDrive/Brain_tumor/Training/meningioma/Tr-me_0408.jpg', '/content/drive/MyDrive/Brain_tumor/Training/pituitary/Tr-pi_0694.jpg', '/content/drive/MyDrive/Brain_tumor/Training/pituitary/Tr-pi_0309.jpg', '/content/drive/MyDrive/Brain_tumor/Training/meningioma/Tr-me_0330.jpg', '/content/drive/MyDrive/Brain_tumor/Training/meningioma/Tr-me_0268.jpg', '/content/drive/MyDrive/Brain_tumor/Training/meningioma/Tr-me_0533.jpg', '/content/drive/MyDrive/Brain_tumor/Training/glioma/Tr-gl_0340.jpg', '/content/drive/MyDrive/Brain_tumor/Training/meningioma/Tr-me_0406.jpg', '/content/drive/MyDrive/Brain_tumor/Training/glioma/Tr-gl_0054.jpg', '/content/drive/MyDrive/Brain_tumor/Training/pituitary/Tr-pi_0308.jpg', '/content/drive/MyDrive/Brain_tumor/Training/meningioma/Tr-me_0428.jpg', '/content/drive/MyDrive/Brain_tumor/Training/glioma/Tr-gl_1039.jpg', '/content/drive/MyDrive/Brain_tumor/Training/pituitary/Tr-pi_1248.jpg', '/content/drive/MyDrive/Brain_tumor/Training/notumor/Tr-no_0468.jpg', '/content/drive/MyDrive/Brain_tumor/Training/notumor/Tr-no_0809.jpg', '/content/drive/MyDrive/Brain_tumor/Training/notumor/Tr-no_0935.jpg', '/content/drive/MyDrive/Brain_tumor/Training/notumor/Tr-no_0623.jpg', '/content/drive/MyDrive/Brain_tumor/Training/notumor/Tr-no_0403.jpg', '/content/drive/MyDrive/Brain_tumor/Training/notumor/Tr-no_1398.jpg', '/content/drive/MyDrive/Brain_tumor/Training/notumor/Tr-no_0132.jpg', '/content/drive/MyDrive/Brain_tumor/Training/meningioma/Tr-me_0305.jpg', '/content/drive/MyDrive/Brain_tumor/Training/glioma/Tr-gl_1140.jpg', '/content/drive/MyDrive/Brain_tumor/Training/glioma/Tr-gl_0849.jpg', '/content/drive/MyDrive/Brain_tumor/Training/glioma/Tr-gl_0242.jpg', '/content/drive/MyDrive/Brain_tumor/Training/notumor/Tr-no_1407.jpg', '/content/drive/MyDrive/Brain_tumor/Training/glioma/Tr-gl_0869.jpg', '/content/drive/MyDrive/Brain_tumor/Training/pituitary/Tr-pi_0870.jpg', '/content/drive/MyDrive/Brain_tumor/Training/notumor/Tr-no_0114.jpg', '/content/drive/MyDrive/Brain_tumor/Training/meningioma/Tr-me_1260.jpg', '/content/drive/MyDrive/Brain_tumor/Training/meningioma/Tr-me_0093.jpg', '/content/drive/MyDrive/Brain_tumor/Training/pituitary/Tr-pi_0347.jpg', '/content/drive/MyDrive/Brain_tumor/Training/notumor/Tr-no_0575.jpg', '/content/drive/MyDrive/Brain_tumor/Training/meningioma/Tr-me_0674.jpg', '/content/drive/MyDrive/Brain_tumor/Training/meningioma/Tr-me_0297.jpg', '/content/drive/MyDrive/Brain_tumor/Training/meningioma/Tr-me_0272.jpg', '/content/drive/MyDrive/Brain_tumor/Training/notumor/Tr-no_1289.jpg', '/content/drive/MyDrive/Brain_tumor/Training/notumor/Tr-no_0601.jpg', '/content/drive/MyDrive/Brain_tumor/Training/notumor/Tr-no_0846.jpg', '/content/drive/MyDrive/Brain_tumor/Training/pituitary/Tr-pi_0477.jpg', '/content/drive/MyDrive/Brain_tumor/Training/meningioma/Tr-me_0436.jpg', '/content/drive/MyDrive/Brain_tumor/Training/glioma/Tr-gl_0474.jpg', '/content/drive/MyDrive/Brain_tumor/Training/meningioma/Tr-me_0966.jpg', '/content/drive/MyDrive/Brain_tumor/Training/notumor/Tr-no_0685.jpg', '/content/drive/MyDrive/Brain_tumor/Training/glioma/Tr-gl_1205.jpg', '/content/drive/MyDrive/Brain_tumor/Training/notumor/Tr-no_0561.jpg', '/content/drive/MyDrive/Brain_tumor/Training/glioma/Tr-gl_0099.jpg', '/content/drive/MyDrive/Brain_tumor/Training/glioma/Tr-gl_1070.jpg', '/content/drive/MyDrive/Brain_tumor/Training/notumor/Tr-no_0147.jpg', '/content/drive/MyDrive/Brain_tumor/Training/pituitary/Tr-pi_0458.jpg', '/content/drive/MyDrive/Brain_tumor/Training/meningioma/Tr-me_0523.jpg', '/content/drive/MyDrive/Brain_tumor/Training/pituitary/Tr-pi_0793.jpg', '/content/drive/MyDrive/Brain_tumor/Training/pituitary/Tr-pi_0848.jpg', '/content/drive/MyDrive/Brain_tumor/Training/pituitary/Tr-pi_0045.jpg', '/content/drive/MyDrive/Brain_tumor/Training/notumor/Tr-no_0576.jpg', '/content/drive/MyDrive/Brain_tumor/Training/meningioma/Tr-me_0793.jpg', '/content/drive/MyDrive/Brain_tumor/Training/meningioma/Tr-me_0308.jpg', '/content/drive/MyDrive/Brain_tumor/Training/notumor/Tr-no_0389.jpg', '/content/drive/MyDrive/Brain_tumor/Training/notumor/Tr-no_0814.jpg', '/content/drive/MyDrive/Brain_tumor/Training/meningioma/Tr-me_0860.jpg', '/content/drive/MyDrive/Brain_tumor/Training/meningioma/Tr-me_0100.jpg', '/content/drive/MyDrive/Brain_tumor/Training/meningioma/Tr-me_0030.jpg', '/content/drive/MyDrive/Brain_tumor/Training/notumor/Tr-no_0562.jpg', '/content/drive/MyDrive/Brain_tumor/Training/notumor/Tr-no_0667.jpg', '/content/drive/MyDrive/Brain_tumor/Training/meningioma/Tr-me_0422.jpg', '/content/drive/MyDrive/Brain_tumor/Training/meningioma/Tr-me_0207.jpg', '/content/drive/MyDrive/Brain_tumor/Training/pituitary/Tr-pi_0253.jpg', '/content/drive/MyDrive/Brain_tumor/Training/pituitary/Tr-pi_0240.jpg', '/content/drive/MyDrive/Brain_tumor/Training/meningioma/Tr-me_0102.jpg', '/content/drive/MyDrive/Brain_tumor/Training/pituitary/Tr-pi_0335.jpg', '/content/drive/MyDrive/Brain_tumor/Training/glioma/Tr-gl_0696.jpg', '/content/drive/MyDrive/Brain_tumor/Training/pituitary/Tr-pi_0391.jpg', '/content/drive/MyDrive/Brain_tumor/Training/pituitary/Tr-pi_0866.jpg', '/content/drive/MyDrive/Brain_tumor/Training/pituitary/Tr-pi_0862.jpg', '/content/drive/MyDrive/Brain_tumor/Training/pituitary/Tr-pi_0329.jpg', '/content/drive/MyDrive/Brain_tumor/Training/meningioma/Tr-me_0989.jpg', '/content/drive/MyDrive/Brain_tumor/Training/glioma/Tr-gl_0564.jpg', '/content/drive/MyDrive/Brain_tumor/Training/meningioma/Tr-me_0654.jpg', '/content/drive/MyDrive/Brain_tumor/Training/pituitary/Tr-pi_0167.jpg', '/content/drive/MyDrive/Brain_tumor/Training/glioma/Tr-gl_1172.jpg', '/content/drive/MyDrive/Brain_tumor/Training/notumor/Tr-no_1460.jpg', '/content/drive/MyDrive/Brain_tumor/Training/pituitary/Tr-pi_0013.jpg', '/content/drive/MyDrive/Brain_tumor/Training/notumor/Tr-no_0411.jpg', '/content/drive/MyDrive/Brain_tumor/Training/notumor/Tr-no_1488.jpg', '/content/drive/MyDrive/Brain_tumor/Training/pituitary/Tr-pi_0908.jpg', '/content/drive/MyDrive/Brain_tumor/Training/notumor/Tr-no_1034.jpg', '/content/drive/MyDrive/Brain_tumor/Training/meningioma/Tr-me_0962.jpg', '/content/drive/MyDrive/Brain_tumor/Training/notumor/Tr-no_1208.jpg', '/content/drive/MyDrive/Brain_tumor/Training/notumor/Tr-no_0491.jpg', '/content/drive/MyDrive/Brain_tumor/Training/notumor/Tr-no_1216.jpg', '/content/drive/MyDrive/Brain_tumor/Training/glioma/Tr-gl_0436.jpg', '/content/drive/MyDrive/Brain_tumor/Training/notumor/Tr-no_0508.jpg', '/content/drive/MyDrive/Brain_tumor/Training/glioma/Tr-gl_0602.jpg', '/content/drive/MyDrive/Brain_tumor/Training/notumor/Tr-no_1323.jpg', '/content/drive/MyDrive/Brain_tumor/Training/pituitary/Tr-pi_0701.jpg', '/content/drive/MyDrive/Brain_tumor/Training/pituitary/Tr-pi_0386.jpg', '/content/drive/MyDrive/Brain_tumor/Training/notumor/Tr-no_0170.jpg', '/content/drive/MyDrive/Brain_tumor/Training/notumor/Tr-no_0174.jpg', '/content/drive/MyDrive/Brain_tumor/Training/pituitary/Tr-pi_1305.jpg', '/content/drive/MyDrive/Brain_tumor/Training/meningioma/Tr-me_0775.jpg', '/content/drive/MyDrive/Brain_tumor/Training/pituitary/Tr-pi_0479.jpg', '/content/drive/MyDrive/Brain_tumor/Training/notumor/Tr-no_0918.jpg', '/content/drive/MyDrive/Brain_tumor/Training/notumor/Tr-no_0511.jpg', '/content/drive/MyDrive/Brain_tumor/Training/pituitary/Tr-pi_0687.jpg', '/content/drive/MyDrive/Brain_tumor/Training/meningioma/Tr-me_0952.jpg', '/content/drive/MyDrive/Brain_tumor/Training/glioma/Tr-gl_0674.jpg', '/content/drive/MyDrive/Brain_tumor/Training/notumor/Tr-no_0912.jpg', '/content/drive/MyDrive/Brain_tumor/Training/pituitary/Tr-pi_1022.jpg', '/content/drive/MyDrive/Brain_tumor/Training/notumor/Tr-no_1054.jpg', '/content/drive/MyDrive/Brain_tumor/Training/meningioma/Tr-me_0206.jpg', '/content/drive/MyDrive/Brain_tumor/Training/notumor/Tr-no_1564.jpg', '/content/drive/MyDrive/Brain_tumor/Training/glioma/Tr-gl_0319.jpg', '/content/drive/MyDrive/Brain_tumor/Training/notumor/Tr-no_0453.jpg', '/content/drive/MyDrive/Brain_tumor/Training/meningioma/Tr-me_0260.jpg', '/content/drive/MyDrive/Brain_tumor/Training/pituitary/Tr-pi_1314.jpg', '/content/drive/MyDrive/Brain_tumor/Training/pituitary/Tr-pi_0605.jpg', '/content/drive/MyDrive/Brain_tumor/Training/pituitary/Tr-pi_1246.jpg', '/content/drive/MyDrive/Brain_tumor/Training/glioma/Tr-gl_0789.jpg', '/content/drive/MyDrive/Brain_tumor/Training/glioma/Tr-gl_1154.jpg', '/content/drive/MyDrive/Brain_tumor/Training/glioma/Tr-gl_0761.jpg', '/content/drive/MyDrive/Brain_tumor/Training/glioma/Tr-gl_0776.jpg', '/content/drive/MyDrive/Brain_tumor/Training/glioma/Tr-gl_0161.jpg', '/content/drive/MyDrive/Brain_tumor/Training/glioma/Tr-gl_0506.jpg', '/content/drive/MyDrive/Brain_tumor/Training/glioma/Tr-gl_1291.jpg', '/content/drive/MyDrive/Brain_tumor/Training/meningioma/Tr-me_1120.jpg', '/content/drive/MyDrive/Brain_tumor/Training/notumor/Tr-no_0473.jpg', '/content/drive/MyDrive/Brain_tumor/Training/pituitary/Tr-pi_0050.jpg', '/content/drive/MyDrive/Brain_tumor/Training/meningioma/Tr-me_0209.jpg', '/content/drive/MyDrive/Brain_tumor/Training/notumor/Tr-no_0280.jpg', '/content/drive/MyDrive/Brain_tumor/Training/meningioma/Tr-me_1199.jpg', '/content/drive/MyDrive/Brain_tumor/Training/meningioma/Tr-me_0900.jpg', '/content/drive/MyDrive/Brain_tumor/Training/notumor/Tr-no_0201.jpg', '/content/drive/MyDrive/Brain_tumor/Training/pituitary/Tr-pi_0374.jpg', '/content/drive/MyDrive/Brain_tumor/Training/glioma/Tr-gl_0638.jpg', '/content/drive/MyDrive/Brain_tumor/Training/glioma/Tr-gl_0498.jpg', '/content/drive/MyDrive/Brain_tumor/Training/glioma/Tr-gl_0043.jpg', '/content/drive/MyDrive/Brain_tumor/Training/notumor/Tr-no_0216.jpg', '/content/drive/MyDrive/Brain_tumor/Training/glioma/Tr-gl_0912.jpg', '/content/drive/MyDrive/Brain_tumor/Training/pituitary/Tr-pi_0202.jpg', '/content/drive/MyDrive/Brain_tumor/Training/pituitary/Tr-pi_0481.jpg', '/content/drive/MyDrive/Brain_tumor/Training/pituitary/Tr-pi_0673.jpg', '/content/drive/MyDrive/Brain_tumor/Training/pituitary/Tr-pi_0023.jpg', '/content/drive/MyDrive/Brain_tumor/Training/meningioma/Tr-me_0673.jpg', '/content/drive/MyDrive/Brain_tumor/Training/glioma/Tr-gl_0523.jpg', '/content/drive/MyDrive/Brain_tumor/Training/notumor/Tr-no_0566.jpg', '/content/drive/MyDrive/Brain_tumor/Training/notumor/Tr-no_1029.jpg', '/content/drive/MyDrive/Brain_tumor/Training/notumor/Tr-no_1517.jpg', '/content/drive/MyDrive/Brain_tumor/Training/notumor/Tr-no_0484.jpg', '/content/drive/MyDrive/Brain_tumor/Training/notumor/Tr-no_1320.jpg', '/content/drive/MyDrive/Brain_tumor/Training/glioma/Tr-gl_0401.jpg', '/content/drive/MyDrive/Brain_tumor/Training/meningioma/Tr-me_0867.jpg', '/content/drive/MyDrive/Brain_tumor/Training/glioma/Tr-gl_0532.jpg', '/content/drive/MyDrive/Brain_tumor/Training/glioma/Tr-gl_1234.jpg', '/content/drive/MyDrive/Brain_tumor/Training/glioma/Tr-gl_0485.jpg', '/content/drive/MyDrive/Brain_tumor/Training/notumor/Tr-no_1282.jpg', '/content/drive/MyDrive/Brain_tumor/Training/pituitary/Tr-pi_0403.jpg', '/content/drive/MyDrive/Brain_tumor/Training/pituitary/Tr-pi_0888.jpg', '/content/drive/MyDrive/Brain_tumor/Training/pituitary/Tr-pi_0098.jpg', '/content/drive/MyDrive/Brain_tumor/Training/pituitary/Tr-pi_0616.jpg', '/content/drive/MyDrive/Brain_tumor/Training/notumor/Tr-no_0997.jpg', '/content/drive/MyDrive/Brain_tumor/Training/pituitary/Tr-pi_0024.jpg', '/content/drive/MyDrive/Brain_tumor/Training/pituitary/Tr-pi_0784.jpg', '/content/drive/MyDrive/Brain_tumor/Training/glioma/Tr-gl_0107.jpg', '/content/drive/MyDrive/Brain_tumor/Training/notumor/Tr-no_1004.jpg', '/content/drive/MyDrive/Brain_tumor/Training/glioma/Tr-gl_1118.jpg', '/content/drive/MyDrive/Brain_tumor/Training/notumor/Tr-no_0459.jpg', '/content/drive/MyDrive/Brain_tumor/Training/notumor/Tr-no_0645.jpg', '/content/drive/MyDrive/Brain_tumor/Training/notumor/Tr-no_1267.jpg', '/content/drive/MyDrive/Brain_tumor/Training/notumor/Tr-no_0495.jpg', '/content/drive/MyDrive/Brain_tumor/Training/meningioma/Tr-me_0355.jpg', '/content/drive/MyDrive/Brain_tumor/Training/notumor/Tr-no_1344.jpg', '/content/drive/MyDrive/Brain_tumor/Training/pituitary/Tr-pi_0923.jpg', '/content/drive/MyDrive/Brain_tumor/Training/pituitary/Tr-pi_1281.jpg', '/content/drive/MyDrive/Brain_tumor/Training/pituitary/Tr-pi_1186.jpg', '/content/drive/MyDrive/Brain_tumor/Training/pituitary/Tr-pi_0070.jpg', '/content/drive/MyDrive/Brain_tumor/Training/notumor/Tr-no_0056.jpg', '/content/drive/MyDrive/Brain_tumor/Training/glioma/Tr-gl_0953.jpg', '/content/drive/MyDrive/Brain_tumor/Training/glioma/Tr-gl_0395.jpg', '/content/drive/MyDrive/Brain_tumor/Training/pituitary/Tr-pi_0488.jpg', '/content/drive/MyDrive/Brain_tumor/Training/pituitary/Tr-pi_0493.jpg', '/content/drive/MyDrive/Brain_tumor/Training/pituitary/Tr-pi_0664.jpg', '/content/drive/MyDrive/Brain_tumor/Training/notumor/Tr-no_0545.jpg', '/content/drive/MyDrive/Brain_tumor/Training/glioma/Tr-gl_1244.jpg', '/content/drive/MyDrive/Brain_tumor/Training/meningioma/Tr-me_0425.jpg', '/content/drive/MyDrive/Brain_tumor/Training/glioma/Tr-gl_1263.jpg', '/content/drive/MyDrive/Brain_tumor/Training/meningioma/Tr-me_1233.jpg', '/content/drive/MyDrive/Brain_tumor/Training/meningioma/Tr-me_0141.jpg', '/content/drive/MyDrive/Brain_tumor/Training/meningioma/Tr-me_0140.jpg', '/content/drive/MyDrive/Brain_tumor/Training/pituitary/Tr-pi_0393.jpg', '/content/drive/MyDrive/Brain_tumor/Training/pituitary/Tr-pi_0913.jpg', '/content/drive/MyDrive/Brain_tumor/Training/meningioma/Tr-me_1191.jpg', '/content/drive/MyDrive/Brain_tumor/Training/glioma/Tr-gl_0774.jpg', '/content/drive/MyDrive/Brain_tumor/Training/pituitary/Tr-pi_0553.jpg', '/content/drive/MyDrive/Brain_tumor/Training/notumor/Tr-no_1378.jpg', '/content/drive/MyDrive/Brain_tumor/Training/pituitary/Tr-pi_0354.jpg', '/content/drive/MyDrive/Brain_tumor/Training/meningioma/Tr-me_1118.jpg', '/content/drive/MyDrive/Brain_tumor/Training/glioma/Tr-gl_1106.jpg', '/content/drive/MyDrive/Brain_tumor/Training/notumor/Tr-no_1244.jpg', '/content/drive/MyDrive/Brain_tumor/Training/glioma/Tr-gl_0103.jpg', '/content/drive/MyDrive/Brain_tumor/Training/meningioma/Tr-me_1053.jpg', '/content/drive/MyDrive/Brain_tumor/Training/notumor/Tr-no_0071.jpg', '/content/drive/MyDrive/Brain_tumor/Training/notumor/Tr-no_1015.jpg', '/content/drive/MyDrive/Brain_tumor/Training/notumor/Tr-no_1360.jpg', '/content/drive/MyDrive/Brain_tumor/Training/glioma/Tr-gl_0318.jpg', '/content/drive/MyDrive/Brain_tumor/Training/pituitary/Tr-pi_1259.jpg', '/content/drive/MyDrive/Brain_tumor/Training/pituitary/Tr-pi_0800.jpg', '/content/drive/MyDrive/Brain_tumor/Training/glioma/Tr-gl_0987.jpg', '/content/drive/MyDrive/Brain_tumor/Training/notumor/Tr-no_0724.jpg', '/content/drive/MyDrive/Brain_tumor/Training/meningioma/Tr-me_0547.jpg', '/content/drive/MyDrive/Brain_tumor/Training/notumor/Tr-no_0487.jpg', '/content/drive/MyDrive/Brain_tumor/Training/pituitary/Tr-pi_0599.jpg', '/content/drive/MyDrive/Brain_tumor/Training/notumor/Tr-no_0458.jpg', '/content/drive/MyDrive/Brain_tumor/Training/meningioma/Tr-me_0265.jpg', '/content/drive/MyDrive/Brain_tumor/Training/notumor/Tr-no_0548.jpg', '/content/drive/MyDrive/Brain_tumor/Training/pituitary/Tr-pi_0251.jpg', '/content/drive/MyDrive/Brain_tumor/Training/notumor/Tr-no_0040.jpg', '/content/drive/MyDrive/Brain_tumor/Training/meningioma/Tr-me_0071.jpg', '/content/drive/MyDrive/Brain_tumor/Training/notumor/Tr-no_0810.jpg', '/content/drive/MyDrive/Brain_tumor/Training/glioma/Tr-gl_0906.jpg', '/content/drive/MyDrive/Brain_tumor/Training/glioma/Tr-glTr_0008.jpg', '/content/drive/MyDrive/Brain_tumor/Training/notumor/Tr-no_1273.jpg', '/content/drive/MyDrive/Brain_tumor/Training/notumor/Tr-no_0710.jpg', '/content/drive/MyDrive/Brain_tumor/Training/pituitary/Tr-pi_1001.jpg', '/content/drive/MyDrive/Brain_tumor/Training/meningioma/Tr-me_0718.jpg', '/content/drive/MyDrive/Brain_tumor/Training/glioma/Tr-gl_1212.jpg', '/content/drive/MyDrive/Brain_tumor/Training/glioma/Tr-gl_0068.jpg', '/content/drive/MyDrive/Brain_tumor/Training/notumor/Tr-no_1580.jpg', '/content/drive/MyDrive/Brain_tumor/Training/notumor/Tr-no_1149.jpg', '/content/drive/MyDrive/Brain_tumor/Training/pituitary/Tr-pi_0199.jpg', '/content/drive/MyDrive/Brain_tumor/Training/glioma/Tr-gl_0114.jpg', '/content/drive/MyDrive/Brain_tumor/Training/pituitary/Tr-pi_0221.jpg', '/content/drive/MyDrive/Brain_tumor/Training/meningioma/Tr-me_1261.jpg', '/content/drive/MyDrive/Brain_tumor/Training/pituitary/Tr-pi_1226.jpg', '/content/drive/MyDrive/Brain_tumor/Training/pituitary/Tr-pi_0864.jpg', '/content/drive/MyDrive/Brain_tumor/Training/glioma/Tr-gl_0750.jpg', '/content/drive/MyDrive/Brain_tumor/Training/notumor/Tr-no_0992.jpg', '/content/drive/MyDrive/Brain_tumor/Training/meningioma/Tr-me_0360.jpg', '/content/drive/MyDrive/Brain_tumor/Training/notumor/Tr-no_0380.jpg', '/content/drive/MyDrive/Brain_tumor/Training/pituitary/Tr-pi_0972.jpg', '/content/drive/MyDrive/Brain_tumor/Training/meningioma/Tr-me_0295.jpg', '/content/drive/MyDrive/Brain_tumor/Training/glioma/Tr-gl_0760.jpg', '/content/drive/MyDrive/Brain_tumor/Training/meningioma/Tr-me_0553.jpg', '/content/drive/MyDrive/Brain_tumor/Training/glioma/Tr-gl_1094.jpg', '/content/drive/MyDrive/Brain_tumor/Training/glioma/Tr-gl_0909.jpg', '/content/drive/MyDrive/Brain_tumor/Training/notumor/Tr-no_0521.jpg', '/content/drive/MyDrive/Brain_tumor/Training/meningioma/Tr-me_1128.jpg', '/content/drive/MyDrive/Brain_tumor/Training/meningioma/Tr-me_0618.jpg', '/content/drive/MyDrive/Brain_tumor/Training/notumor/Tr-no_0807.jpg', '/content/drive/MyDrive/Brain_tumor/Training/notumor/Tr-no_0246.jpg', '/content/drive/MyDrive/Brain_tumor/Training/meningioma/Tr-me_0701.jpg', '/content/drive/MyDrive/Brain_tumor/Training/notumor/Tr-no_1141.jpg', '/content/drive/MyDrive/Brain_tumor/Training/notumor/Tr-no_0241.jpg', '/content/drive/MyDrive/Brain_tumor/Training/notumor/Tr-no_0420.jpg', '/content/drive/MyDrive/Brain_tumor/Training/notumor/Tr-no_1563.jpg', '/content/drive/MyDrive/Brain_tumor/Training/glioma/Tr-gl_0582.jpg', '/content/drive/MyDrive/Brain_tumor/Training/pituitary/Tr-pi_0169.jpg', '/content/drive/MyDrive/Brain_tumor/Training/notumor/Tr-no_1581.jpg', '/content/drive/MyDrive/Brain_tumor/Training/notumor/Tr-no_0317.jpg', '/content/drive/MyDrive/Brain_tumor/Training/glioma/Tr-gl_0616.jpg', '/content/drive/MyDrive/Brain_tumor/Training/glioma/Tr-gl_0270.jpg', '/content/drive/MyDrive/Brain_tumor/Training/pituitary/Tr-pi_0300.jpg', '/content/drive/MyDrive/Brain_tumor/Training/glioma/Tr-gl_0983.jpg', '/content/drive/MyDrive/Brain_tumor/Training/pituitary/Tr-pi_0452.jpg', '/content/drive/MyDrive/Brain_tumor/Training/notumor/Tr-no_1538.jpg', '/content/drive/MyDrive/Brain_tumor/Training/pituitary/Tr-pi_0427.jpg', '/content/drive/MyDrive/Brain_tumor/Training/notumor/Tr-no_0270.jpg', '/content/drive/MyDrive/Brain_tumor/Training/glioma/Tr-gl_0029.jpg', '/content/drive/MyDrive/Brain_tumor/Training/glioma/Tr-gl_0425.jpg', '/content/drive/MyDrive/Brain_tumor/Training/pituitary/Tr-pi_0321.jpg', '/content/drive/MyDrive/Brain_tumor/Training/meningioma/Tr-me_0334.jpg', '/content/drive/MyDrive/Brain_tumor/Training/meningioma/Tr-me_0847.jpg', '/content/drive/MyDrive/Brain_tumor/Training/notumor/Tr-no_0259.jpg', '/content/drive/MyDrive/Brain_tumor/Training/glioma/Tr-gl_1146.jpg', '/content/drive/MyDrive/Brain_tumor/Training/notumor/Tr-no_0472.jpg', '/content/drive/MyDrive/Brain_tumor/Training/meningioma/Tr-me_1079.jpg', '/content/drive/MyDrive/Brain_tumor/Training/pituitary/Tr-pi_0241.jpg', '/content/drive/MyDrive/Brain_tumor/Training/glioma/Tr-gl_0621.jpg', '/content/drive/MyDrive/Brain_tumor/Training/meningioma/Tr-me_0197.jpg', '/content/drive/MyDrive/Brain_tumor/Training/pituitary/Tr-pi_0765.jpg', '/content/drive/MyDrive/Brain_tumor/Training/pituitary/Tr-pi_0110.jpg', '/content/drive/MyDrive/Brain_tumor/Training/meningioma/Tr-me_0693.jpg', '/content/drive/MyDrive/Brain_tumor/Training/meningioma/Tr-me_0169.jpg', '/content/drive/MyDrive/Brain_tumor/Training/glioma/Tr-gl_0300.jpg', '/content/drive/MyDrive/Brain_tumor/Training/notumor/Tr-no_1447.jpg', '/content/drive/MyDrive/Brain_tumor/Training/meningioma/Tr-me_1019.jpg', '/content/drive/MyDrive/Brain_tumor/Training/notumor/Tr-no_0640.jpg', '/content/drive/MyDrive/Brain_tumor/Training/pituitary/Tr-pi_0040.jpg', '/content/drive/MyDrive/Brain_tumor/Training/pituitary/Tr-pi_0640.jpg', '/content/drive/MyDrive/Brain_tumor/Training/meningioma/Tr-me_0501.jpg', '/content/drive/MyDrive/Brain_tumor/Training/glioma/Tr-gl_0608.jpg', '/content/drive/MyDrive/Brain_tumor/Training/meningioma/Tr-me_0671.jpg', '/content/drive/MyDrive/Brain_tumor/Training/glioma/Tr-gl_0334.jpg', '/content/drive/MyDrive/Brain_tumor/Training/notumor/Tr-no_0076.jpg', '/content/drive/MyDrive/Brain_tumor/Training/notumor/Tr-no_1218.jpg', '/content/drive/MyDrive/Brain_tumor/Training/glioma/Tr-gl_0681.jpg', '/content/drive/MyDrive/Brain_tumor/Training/meningioma/Tr-me_1031.jpg', '/content/drive/MyDrive/Brain_tumor/Training/notumor/Tr-no_0175.jpg', '/content/drive/MyDrive/Brain_tumor/Training/notumor/Tr-no_0214.jpg', '/content/drive/MyDrive/Brain_tumor/Training/glioma/Tr-gl_0480.jpg', '/content/drive/MyDrive/Brain_tumor/Training/pituitary/Tr-pi_1386.jpg', '/content/drive/MyDrive/Brain_tumor/Training/pituitary/Tr-pi_0460.jpg', '/content/drive/MyDrive/Brain_tumor/Training/glioma/Tr-gl_0203.jpg', '/content/drive/MyDrive/Brain_tumor/Training/glioma/Tr-gl_0992.jpg', '/content/drive/MyDrive/Brain_tumor/Training/glioma/Tr-gl_0046.jpg', '/content/drive/MyDrive/Brain_tumor/Training/glioma/Tr-gl_0278.jpg', '/content/drive/MyDrive/Brain_tumor/Training/meningioma/Tr-me_0391.jpg', '/content/drive/MyDrive/Brain_tumor/Training/glioma/Tr-gl_0081.jpg', '/content/drive/MyDrive/Brain_tumor/Training/meningioma/Tr-me_0048.jpg', '/content/drive/MyDrive/Brain_tumor/Training/notumor/Tr-no_0087.jpg', '/content/drive/MyDrive/Brain_tumor/Training/notumor/Tr-no_0523.jpg', '/content/drive/MyDrive/Brain_tumor/Training/notumor/Tr-no_0082.jpg', '/content/drive/MyDrive/Brain_tumor/Training/pituitary/Tr-pi_0340.jpg', '/content/drive/MyDrive/Brain_tumor/Training/meningioma/Tr-me_0645.jpg', '/content/drive/MyDrive/Brain_tumor/Training/glioma/Tr-gl_0077.jpg', '/content/drive/MyDrive/Brain_tumor/Training/pituitary/Tr-pi_1176.jpg', '/content/drive/MyDrive/Brain_tumor/Training/meningioma/Tr-me_0539.jpg', '/content/drive/MyDrive/Brain_tumor/Training/notumor/Tr-no_0391.jpg', '/content/drive/MyDrive/Brain_tumor/Training/glioma/Tr-gl_0240.jpg', '/content/drive/MyDrive/Brain_tumor/Training/glioma/Tr-gl_0052.jpg', '/content/drive/MyDrive/Brain_tumor/Training/glioma/Tr-gl_0343.jpg', '/content/drive/MyDrive/Brain_tumor/Training/meningioma/Tr-me_0351.jpg', '/content/drive/MyDrive/Brain_tumor/Training/glioma/Tr-gl_1302.jpg', '/content/drive/MyDrive/Brain_tumor/Training/meningioma/Tr-me_0773.jpg', '/content/drive/MyDrive/Brain_tumor/Training/notumor/Tr-no_0275.jpg', '/content/drive/MyDrive/Brain_tumor/Training/meningioma/Tr-me_0217.jpg', '/content/drive/MyDrive/Brain_tumor/Training/pituitary/Tr-pi_1111.jpg', '/content/drive/MyDrive/Brain_tumor/Training/notumor/Tr-no_0128.jpg', '/content/drive/MyDrive/Brain_tumor/Training/glioma/Tr-gl_0712.jpg', '/content/drive/MyDrive/Brain_tumor/Training/glioma/Tr-gl_0961.jpg', '/content/drive/MyDrive/Brain_tumor/Training/notumor/Tr-no_0423.jpg', '/content/drive/MyDrive/Brain_tumor/Training/pituitary/Tr-pi_1182.jpg', '/content/drive/MyDrive/Brain_tumor/Training/pituitary/Tr-pi_0424.jpg', '/content/drive/MyDrive/Brain_tumor/Training/meningioma/Tr-me_0736.jpg', '/content/drive/MyDrive/Brain_tumor/Training/pituitary/Tr-pi_1050.jpg', '/content/drive/MyDrive/Brain_tumor/Training/pituitary/Tr-pi_0895.jpg', '/content/drive/MyDrive/Brain_tumor/Training/pituitary/Tr-pi_1040.jpg', '/content/drive/MyDrive/Brain_tumor/Training/notumor/Tr-no_1353.jpg', '/content/drive/MyDrive/Brain_tumor/Training/pituitary/Tr-pi_0197.jpg', '/content/drive/MyDrive/Brain_tumor/Training/pituitary/Tr-pi_1420.jpg', '/content/drive/MyDrive/Brain_tumor/Training/notumor/Tr-no_1497.jpg', '/content/drive/MyDrive/Brain_tumor/Training/pituitary/Tr-pi_0910.jpg', '/content/drive/MyDrive/Brain_tumor/Training/meningioma/Tr-me_0085.jpg', '/content/drive/MyDrive/Brain_tumor/Training/pituitary/Tr-pi_1294.jpg', '/content/drive/MyDrive/Brain_tumor/Training/notumor/Tr-no_0971.jpg', '/content/drive/MyDrive/Brain_tumor/Training/notumor/Tr-no_1061.jpg', '/content/drive/MyDrive/Brain_tumor/Training/glioma/Tr-gl_0707.jpg', '/content/drive/MyDrive/Brain_tumor/Training/pituitary/Tr-pi_1189.jpg', '/content/drive/MyDrive/Brain_tumor/Training/meningioma/Tr-me_0863.jpg', '/content/drive/MyDrive/Brain_tumor/Training/glioma/Tr-gl_1124.jpg', '/content/drive/MyDrive/Brain_tumor/Training/pituitary/Tr-piTr_0002.jpg', '/content/drive/MyDrive/Brain_tumor/Training/meningioma/Tr-me_0817.jpg', '/content/drive/MyDrive/Brain_tumor/Training/meningioma/Tr-me_1208.jpg', '/content/drive/MyDrive/Brain_tumor/Training/pituitary/Tr-pi_1004.jpg', '/content/drive/MyDrive/Brain_tumor/Training/pituitary/Tr-pi_1101.jpg', '/content/drive/MyDrive/Brain_tumor/Training/notumor/Tr-no_1402.jpg', '/content/drive/MyDrive/Brain_tumor/Training/meningioma/Tr-me_1037.jpg', '/content/drive/MyDrive/Brain_tumor/Training/glioma/Tr-gl_0261.jpg', '/content/drive/MyDrive/Brain_tumor/Training/meningioma/Tr-me_0639.jpg', '/content/drive/MyDrive/Brain_tumor/Training/glioma/Tr-gl_0899.jpg', '/content/drive/MyDrive/Brain_tumor/Training/meningioma/Tr-me_0828.jpg', '/content/drive/MyDrive/Brain_tumor/Training/pituitary/Tr-pi_0978.jpg', '/content/drive/MyDrive/Brain_tumor/Training/pituitary/Tr-pi_1191.jpg', '/content/drive/MyDrive/Brain_tumor/Training/pituitary/Tr-pi_0742.jpg', '/content/drive/MyDrive/Brain_tumor/Training/pituitary/Tr-pi_0578.jpg', '/content/drive/MyDrive/Brain_tumor/Training/glioma/Tr-gl_0749.jpg', '/content/drive/MyDrive/Brain_tumor/Training/glioma/Tr-gl_1203.jpg', '/content/drive/MyDrive/Brain_tumor/Training/notumor/Tr-no_0829.jpg', '/content/drive/MyDrive/Brain_tumor/Training/notumor/Tr-no_0923.jpg', '/content/drive/MyDrive/Brain_tumor/Training/notumor/Tr-no_1147.jpg', '/content/drive/MyDrive/Brain_tumor/Training/pituitary/Tr-pi_0102.jpg', '/content/drive/MyDrive/Brain_tumor/Training/meningioma/Tr-me_0979.jpg', '/content/drive/MyDrive/Brain_tumor/Training/notumor/Tr-no_0903.jpg', '/content/drive/MyDrive/Brain_tumor/Training/glioma/Tr-gl_0426.jpg', '/content/drive/MyDrive/Brain_tumor/Training/notumor/Tr-no_0376.jpg', '/content/drive/MyDrive/Brain_tumor/Training/glioma/Tr-gl_0927.jpg', '/content/drive/MyDrive/Brain_tumor/Training/pituitary/Tr-pi_0341.jpg', '/content/drive/MyDrive/Brain_tumor/Training/pituitary/Tr-pi_0566.jpg', '/content/drive/MyDrive/Brain_tumor/Training/pituitary/Tr-pi_1341.jpg', '/content/drive/MyDrive/Brain_tumor/Training/meningioma/Tr-me_0745.jpg', '/content/drive/MyDrive/Brain_tumor/Training/meningioma/Tr-me_0080.jpg', '/content/drive/MyDrive/Brain_tumor/Training/meningioma/Tr-me_0042.jpg', '/content/drive/MyDrive/Brain_tumor/Training/pituitary/Tr-pi_0990.jpg', '/content/drive/MyDrive/Brain_tumor/Training/glioma/Tr-gl_0692.jpg', '/content/drive/MyDrive/Brain_tumor/Training/pituitary/Tr-pi_1170.jpg', '/content/drive/MyDrive/Brain_tumor/Training/notumor/Tr-no_0043.jpg', '/content/drive/MyDrive/Brain_tumor/Training/meningioma/Tr-me_1105.jpg', '/content/drive/MyDrive/Brain_tumor/Training/notumor/Tr-no_0928.jpg', '/content/drive/MyDrive/Brain_tumor/Training/glioma/Tr-gl_1049.jpg', '/content/drive/MyDrive/Brain_tumor/Training/notumor/Tr-no_0184.jpg', '/content/drive/MyDrive/Brain_tumor/Training/glioma/Tr-gl_0437.jpg', '/content/drive/MyDrive/Brain_tumor/Training/meningioma/Tr-me_0180.jpg', '/content/drive/MyDrive/Brain_tumor/Training/pituitary/Tr-pi_1144.jpg', '/content/drive/MyDrive/Brain_tumor/Training/meningioma/Tr-me_0325.jpg', '/content/drive/MyDrive/Brain_tumor/Training/glioma/Tr-gl_1272.jpg', '/content/drive/MyDrive/Brain_tumor/Training/glioma/Tr-gl_0413.jpg', '/content/drive/MyDrive/Brain_tumor/Training/meningioma/Tr-me_0912.jpg', '/content/drive/MyDrive/Brain_tumor/Training/glioma/Tr-gl_0590.jpg', '/content/drive/MyDrive/Brain_tumor/Training/pituitary/Tr-pi_1267.jpg', '/content/drive/MyDrive/Brain_tumor/Training/pituitary/Tr-pi_0274.jpg', '/content/drive/MyDrive/Brain_tumor/Training/pituitary/Tr-pi_0111.jpg', '/content/drive/MyDrive/Brain_tumor/Training/notumor/Tr-no_0782.jpg', '/content/drive/MyDrive/Brain_tumor/Training/notumor/Tr-no_0528.jpg', '/content/drive/MyDrive/Brain_tumor/Training/notumor/Tr-no_0088.jpg', '/content/drive/MyDrive/Brain_tumor/Training/notumor/Tr-no_0693.jpg', '/content/drive/MyDrive/Brain_tumor/Training/pituitary/Tr-pi_0168.jpg', '/content/drive/MyDrive/Brain_tumor/Training/glioma/Tr-gl_0450.jpg', '/content/drive/MyDrive/Brain_tumor/Training/meningioma/Tr-me_1041.jpg', '/content/drive/MyDrive/Brain_tumor/Training/pituitary/Tr-pi_0062.jpg', '/content/drive/MyDrive/Brain_tumor/Training/meningioma/Tr-me_0881.jpg', '/content/drive/MyDrive/Brain_tumor/Training/glioma/Tr-gl_1264.jpg', '/content/drive/MyDrive/Brain_tumor/Training/meningioma/Tr-me_0496.jpg', '/content/drive/MyDrive/Brain_tumor/Training/meningioma/Tr-me_0118.jpg', '/content/drive/MyDrive/Brain_tumor/Training/meningioma/Tr-me_0781.jpg', '/content/drive/MyDrive/Brain_tumor/Training/notumor/Tr-no_0401.jpg', '/content/drive/MyDrive/Brain_tumor/Training/pituitary/Tr-pi_0763.jpg', '/content/drive/MyDrive/Brain_tumor/Training/notumor/Tr-no_1235.jpg', '/content/drive/MyDrive/Brain_tumor/Training/meningioma/Tr-me_0566.jpg', '/content/drive/MyDrive/Brain_tumor/Training/meningioma/Tr-me_0858.jpg', '/content/drive/MyDrive/Brain_tumor/Training/notumor/Tr-no_0219.jpg', '/content/drive/MyDrive/Brain_tumor/Training/meningioma/Tr-me_0567.jpg', '/content/drive/MyDrive/Brain_tumor/Training/pituitary/Tr-pi_0764.jpg', '/content/drive/MyDrive/Brain_tumor/Training/notumor/Tr-no_1296.jpg', '/content/drive/MyDrive/Brain_tumor/Training/glioma/Tr-gl_1199.jpg', '/content/drive/MyDrive/Brain_tumor/Training/notumor/Tr-no_1466.jpg', '/content/drive/MyDrive/Brain_tumor/Training/notumor/Tr-no_1290.jpg', '/content/drive/MyDrive/Brain_tumor/Training/meningioma/Tr-me_0107.jpg', '/content/drive/MyDrive/Brain_tumor/Training/glioma/Tr-gl_0995.jpg', '/content/drive/MyDrive/Brain_tumor/Training/glioma/Tr-gl_0381.jpg', '/content/drive/MyDrive/Brain_tumor/Training/glioma/Tr-gl_0717.jpg', '/content/drive/MyDrive/Brain_tumor/Training/pituitary/Tr-pi_0411.jpg', '/content/drive/MyDrive/Brain_tumor/Training/meningioma/Tr-me_0332.jpg', '/content/drive/MyDrive/Brain_tumor/Training/notumor/Tr-no_0069.jpg', '/content/drive/MyDrive/Brain_tumor/Training/notumor/Tr-no_0517.jpg', '/content/drive/MyDrive/Brain_tumor/Training/pituitary/Tr-pi_1016.jpg', '/content/drive/MyDrive/Brain_tumor/Training/notumor/Tr-no_0345.jpg', '/content/drive/MyDrive/Brain_tumor/Training/pituitary/Tr-pi_0482.jpg', '/content/drive/MyDrive/Brain_tumor/Training/notumor/Tr-no_0877.jpg', '/content/drive/MyDrive/Brain_tumor/Training/meningioma/Tr-me_0466.jpg', '/content/drive/MyDrive/Brain_tumor/Training/notumor/Tr-no_0151.jpg', '/content/drive/MyDrive/Brain_tumor/Training/pituitary/Tr-pi_0520.jpg', '/content/drive/MyDrive/Brain_tumor/Training/notumor/Tr-no_0915.jpg', '/content/drive/MyDrive/Brain_tumor/Training/notumor/Tr-no_0572.jpg', '/content/drive/MyDrive/Brain_tumor/Training/glioma/Tr-gl_0567.jpg', '/content/drive/MyDrive/Brain_tumor/Training/pituitary/Tr-pi_0159.jpg', '/content/drive/MyDrive/Brain_tumor/Training/notumor/Tr-no_1316.jpg', '/content/drive/MyDrive/Brain_tumor/Training/glioma/Tr-gl_1175.jpg', '/content/drive/MyDrive/Brain_tumor/Training/notumor/Tr-no_0702.jpg', '/content/drive/MyDrive/Brain_tumor/Training/pituitary/Tr-pi_0799.jpg', '/content/drive/MyDrive/Brain_tumor/Training/meningioma/Tr-me_0375.jpg', '/content/drive/MyDrive/Brain_tumor/Training/pituitary/Tr-pi_1172.jpg', '/content/drive/MyDrive/Brain_tumor/Training/glioma/Tr-gl_0944.jpg', '/content/drive/MyDrive/Brain_tumor/Training/pituitary/Tr-pi_0603.jpg', '/content/drive/MyDrive/Brain_tumor/Training/notumor/Tr-no_0552.jpg', '/content/drive/MyDrive/Brain_tumor/Training/meningioma/Tr-me_0546.jpg', '/content/drive/MyDrive/Brain_tumor/Training/meningioma/Tr-me_1161.jpg', '/content/drive/MyDrive/Brain_tumor/Training/glioma/Tr-gl_0439.jpg', '/content/drive/MyDrive/Brain_tumor/Training/pituitary/Tr-pi_1326.jpg', '/content/drive/MyDrive/Brain_tumor/Training/meningioma/Tr-me_0427.jpg', '/content/drive/MyDrive/Brain_tumor/Training/pituitary/Tr-pi_0987.jpg', '/content/drive/MyDrive/Brain_tumor/Training/glioma/Tr-gl_0410.jpg', '/content/drive/MyDrive/Brain_tumor/Training/notumor/Tr-no_0333.jpg', '/content/drive/MyDrive/Brain_tumor/Training/glioma/Tr-gl_1226.jpg', '/content/drive/MyDrive/Brain_tumor/Training/glioma/Tr-gl_0305.jpg', '/content/drive/MyDrive/Brain_tumor/Training/glioma/Tr-gl_1077.jpg', '/content/drive/MyDrive/Brain_tumor/Training/notumor/Tr-no_1064.jpg', '/content/drive/MyDrive/Brain_tumor/Training/meningioma/Tr-me_0482.jpg', '/content/drive/MyDrive/Brain_tumor/Training/notumor/Tr-no_0920.jpg', '/content/drive/MyDrive/Brain_tumor/Training/glioma/Tr-gl_0386.jpg', '/content/drive/MyDrive/Brain_tumor/Training/glioma/Tr-gl_1109.jpg', '/content/drive/MyDrive/Brain_tumor/Training/pituitary/Tr-pi_0679.jpg', '/content/drive/MyDrive/Brain_tumor/Training/notumor/Tr-no_1376.jpg', '/content/drive/MyDrive/Brain_tumor/Training/glioma/Tr-gl_0345.jpg', '/content/drive/MyDrive/Brain_tumor/Training/pituitary/Tr-pi_0087.jpg', '/content/drive/MyDrive/Brain_tumor/Training/pituitary/Tr-pi_0190.jpg', '/content/drive/MyDrive/Brain_tumor/Training/notumor/Tr-no_1269.jpg', '/content/drive/MyDrive/Brain_tumor/Training/notumor/Tr-no_0126.jpg', '/content/drive/MyDrive/Brain_tumor/Training/pituitary/Tr-pi_0935.jpg', '/content/drive/MyDrive/Brain_tumor/Training/notumor/Tr-no_1385.jpg', '/content/drive/MyDrive/Brain_tumor/Training/glioma/Tr-gl_1285.jpg', '/content/drive/MyDrive/Brain_tumor/Training/notumor/Tr-no_1265.jpg', '/content/drive/MyDrive/Brain_tumor/Training/notumor/Tr-no_0692.jpg', '/content/drive/MyDrive/Brain_tumor/Training/glioma/Tr-gl_0420.jpg', '/content/drive/MyDrive/Brain_tumor/Training/meningioma/Tr-me_0242.jpg', '/content/drive/MyDrive/Brain_tumor/Training/meningioma/Tr-me_1047.jpg', '/content/drive/MyDrive/Brain_tumor/Training/notumor/Tr-no_1457.jpg', '/content/drive/MyDrive/Brain_tumor/Training/pituitary/Tr-pi_0889.jpg', '/content/drive/MyDrive/Brain_tumor/Training/notumor/Tr-no_0061.jpg', '/content/drive/MyDrive/Brain_tumor/Training/glioma/Tr-gl_1248.jpg', '/content/drive/MyDrive/Brain_tumor/Training/meningioma/Tr-me_1124.jpg', '/content/drive/MyDrive/Brain_tumor/Training/glioma/Tr-gl_0227.jpg', '/content/drive/MyDrive/Brain_tumor/Training/notumor/Tr-no_0466.jpg', '/content/drive/MyDrive/Brain_tumor/Training/meningioma/Tr-me_0099.jpg', '/content/drive/MyDrive/Brain_tumor/Training/meningioma/Tr-me_0339.jpg', '/content/drive/MyDrive/Brain_tumor/Training/meningioma/Tr-me_0883.jpg', '/content/drive/MyDrive/Brain_tumor/Training/glioma/Tr-gl_0466.jpg', '/content/drive/MyDrive/Brain_tumor/Training/glioma/Tr-gl_0878.jpg', '/content/drive/MyDrive/Brain_tumor/Training/pituitary/Tr-pi_0983.jpg', '/content/drive/MyDrive/Brain_tumor/Training/pituitary/Tr-pi_0191.jpg', '/content/drive/MyDrive/Brain_tumor/Training/glioma/Tr-gl_0688.jpg', '/content/drive/MyDrive/Brain_tumor/Training/glioma/Tr-gl_0090.jpg', '/content/drive/MyDrive/Brain_tumor/Training/meningioma/Tr-me_0491.jpg', '/content/drive/MyDrive/Brain_tumor/Training/pituitary/Tr-pi_1163.jpg', '/content/drive/MyDrive/Brain_tumor/Training/notumor/Tr-no_0023.jpg', '/content/drive/MyDrive/Brain_tumor/Training/glioma/Tr-gl_1230.jpg', '/content/drive/MyDrive/Brain_tumor/Training/glioma/Tr-gl_0891.jpg', '/content/drive/MyDrive/Brain_tumor/Training/pituitary/Tr-pi_0441.jpg', '/content/drive/MyDrive/Brain_tumor/Training/pituitary/Tr-pi_1365.jpg', '/content/drive/MyDrive/Brain_tumor/Training/notumor/Tr-no_0621.jpg', '/content/drive/MyDrive/Brain_tumor/Training/meningioma/Tr-me_0283.jpg', '/content/drive/MyDrive/Brain_tumor/Training/pituitary/Tr-pi_1279.jpg', '/content/drive/MyDrive/Brain_tumor/Training/glioma/Tr-gl_1137.jpg', '/content/drive/MyDrive/Brain_tumor/Training/glioma/Tr-gl_0174.jpg', '/content/drive/MyDrive/Brain_tumor/Training/meningioma/Tr-me_1279.jpg', '/content/drive/MyDrive/Brain_tumor/Training/glioma/Tr-gl_0461.jpg', '/content/drive/MyDrive/Brain_tumor/Training/meningioma/Tr-me_1249.jpg', '/content/drive/MyDrive/Brain_tumor/Training/glioma/Tr-gl_0550.jpg', '/content/drive/MyDrive/Brain_tumor/Training/notumor/Tr-no_0701.jpg', '/content/drive/MyDrive/Brain_tumor/Training/pituitary/Tr-pi_0898.jpg', '/content/drive/MyDrive/Brain_tumor/Training/pituitary/Tr-pi_1237.jpg', '/content/drive/MyDrive/Brain_tumor/Training/glioma/Tr-gl_0119.jpg', '/content/drive/MyDrive/Brain_tumor/Training/pituitary/Tr-pi_1410.jpg', '/content/drive/MyDrive/Brain_tumor/Training/notumor/Tr-no_0743.jpg', '/content/drive/MyDrive/Brain_tumor/Training/notumor/Tr-no_0642.jpg', '/content/drive/MyDrive/Brain_tumor/Training/pituitary/Tr-pi_0844.jpg', '/content/drive/MyDrive/Brain_tumor/Training/notumor/Tr-no_0018.jpg', '/content/drive/MyDrive/Brain_tumor/Training/notumor/Tr-no_0571.jpg', '/content/drive/MyDrive/Brain_tumor/Training/glioma/Tr-gl_0453.jpg', '/content/drive/MyDrive/Brain_tumor/Training/glioma/Tr-gl_1167.jpg', '/content/drive/MyDrive/Brain_tumor/Training/meningioma/Tr-me_1043.jpg', '/content/drive/MyDrive/Brain_tumor/Training/pituitary/Tr-pi_0399.jpg', '/content/drive/MyDrive/Brain_tumor/Training/glioma/Tr-gl_0817.jpg', '/content/drive/MyDrive/Brain_tumor/Training/notumor/Tr-no_1065.jpg', '/content/drive/MyDrive/Brain_tumor/Training/notumor/Tr-no_0917.jpg', '/content/drive/MyDrive/Brain_tumor/Training/pituitary/Tr-pi_0079.jpg', '/content/drive/MyDrive/Brain_tumor/Training/pituitary/Tr-pi_0801.jpg', '/content/drive/MyDrive/Brain_tumor/Training/meningioma/Tr-me_0717.jpg', '/content/drive/MyDrive/Brain_tumor/Training/glioma/Tr-gl_0592.jpg', '/content/drive/MyDrive/Brain_tumor/Training/glioma/Tr-gl_0839.jpg', '/content/drive/MyDrive/Brain_tumor/Training/notumor/Tr-no_1242.jpg', '/content/drive/MyDrive/Brain_tumor/Training/pituitary/Tr-pi_0789.jpg', '/content/drive/MyDrive/Brain_tumor/Training/meningioma/Tr-me_0998.jpg', '/content/drive/MyDrive/Brain_tumor/Training/pituitary/Tr-pi_0829.jpg', '/content/drive/MyDrive/Brain_tumor/Training/glioma/Tr-gl_0578.jpg', '/content/drive/MyDrive/Brain_tumor/Training/notumor/Tr-no_1180.jpg', '/content/drive/MyDrive/Brain_tumor/Training/notumor/Tr-no_0581.jpg', '/content/drive/MyDrive/Brain_tumor/Training/pituitary/Tr-pi_0786.jpg', '/content/drive/MyDrive/Brain_tumor/Training/glioma/Tr-gl_0513.jpg', '/content/drive/MyDrive/Brain_tumor/Training/notumor/Tr-noTr_0002.jpg', '/content/drive/MyDrive/Brain_tumor/Training/notumor/Tr-no_0379.jpg', '/content/drive/MyDrive/Brain_tumor/Training/meningioma/Tr-me_0500.jpg', '/content/drive/MyDrive/Brain_tumor/Training/notumor/Tr-no_0196.jpg', '/content/drive/MyDrive/Brain_tumor/Training/glioma/Tr-gl_0287.jpg', '/content/drive/MyDrive/Brain_tumor/Training/glioma/Tr-gl_0836.jpg', '/content/drive/MyDrive/Brain_tumor/Training/meningioma/Tr-me_0460.jpg', '/content/drive/MyDrive/Brain_tumor/Training/meningioma/Tr-me_1264.jpg', '/content/drive/MyDrive/Brain_tumor/Training/meningioma/Tr-me_0450.jpg', '/content/drive/MyDrive/Brain_tumor/Training/glioma/Tr-gl_1298.jpg', '/content/drive/MyDrive/Brain_tumor/Training/pituitary/Tr-pi_1092.jpg', '/content/drive/MyDrive/Brain_tumor/Training/pituitary/Tr-pi_1208.jpg', '/content/drive/MyDrive/Brain_tumor/Training/notumor/Tr-no_0125.jpg', '/content/drive/MyDrive/Brain_tumor/Training/notumor/Tr-no_1312.jpg', '/content/drive/MyDrive/Brain_tumor/Training/pituitary/Tr-pi_1429.jpg', '/content/drive/MyDrive/Brain_tumor/Training/notumor/Tr-no_0607.jpg', '/content/drive/MyDrive/Brain_tumor/Training/glioma/Tr-gl_1011.jpg', '/content/drive/MyDrive/Brain_tumor/Training/notumor/Tr-no_0408.jpg', '/content/drive/MyDrive/Brain_tumor/Training/notumor/Tr-no_0188.jpg', '/content/drive/MyDrive/Brain_tumor/Training/glioma/Tr-gl_1134.jpg', '/content/drive/MyDrive/Brain_tumor/Training/meningioma/Tr-me_0017.jpg', '/content/drive/MyDrive/Brain_tumor/Training/notumor/Tr-no_1261 (1).jpg', '/content/drive/MyDrive/Brain_tumor/Training/glioma/Tr-gl_0064.jpg', '/content/drive/MyDrive/Brain_tumor/Training/glioma/Tr-gl_1164.jpg', '/content/drive/MyDrive/Brain_tumor/Training/glioma/Tr-gl_1202.jpg', '/content/drive/MyDrive/Brain_tumor/Training/notumor/Tr-no_1423.jpg', '/content/drive/MyDrive/Brain_tumor/Training/notumor/Tr-no_1455.jpg', '/content/drive/MyDrive/Brain_tumor/Training/meningioma/Tr-me_0816.jpg', '/content/drive/MyDrive/Brain_tumor/Training/pituitary/Tr-pi_1198.jpg', '/content/drive/MyDrive/Brain_tumor/Training/notumor/Tr-no_1361.jpg', '/content/drive/MyDrive/Brain_tumor/Training/meningioma/Tr-me_0171.jpg', '/content/drive/MyDrive/Brain_tumor/Training/pituitary/Tr-pi_0722.jpg', '/content/drive/MyDrive/Brain_tumor/Training/glioma/Tr-gl_0925.jpg', '/content/drive/MyDrive/Brain_tumor/Training/glioma/Tr-gl_0826.jpg', '/content/drive/MyDrive/Brain_tumor/Training/meningioma/Tr-me_0627.jpg', '/content/drive/MyDrive/Brain_tumor/Training/pituitary/Tr-pi_0904.jpg', '/content/drive/MyDrive/Brain_tumor/Training/pituitary/Tr-pi_1155.jpg', '/content/drive/MyDrive/Brain_tumor/Training/notumor/Tr-no_0597.jpg', '/content/drive/MyDrive/Brain_tumor/Training/notumor/Tr-no_1384.jpg', '/content/drive/MyDrive/Brain_tumor/Training/glioma/Tr-gl_0941.jpg', '/content/drive/MyDrive/Brain_tumor/Training/notumor/Tr-no_0083.jpg', '/content/drive/MyDrive/Brain_tumor/Training/meningioma/Tr-me_1231.jpg', '/content/drive/MyDrive/Brain_tumor/Training/notumor/Tr-no_1059.jpg', '/content/drive/MyDrive/Brain_tumor/Training/notumor/Tr-no_0283.jpg', '/content/drive/MyDrive/Brain_tumor/Training/notumor/Tr-no_0103.jpg', '/content/drive/MyDrive/Brain_tumor/Training/glioma/Tr-gl_1166.jpg', '/content/drive/MyDrive/Brain_tumor/Training/meningioma/Tr-me_0458.jpg', '/content/drive/MyDrive/Brain_tumor/Training/notumor/Tr-no_1540.jpg', '/content/drive/MyDrive/Brain_tumor/Training/meningioma/Tr-me_1100.jpg', '/content/drive/MyDrive/Brain_tumor/Training/notumor/Tr-no_0269.jpg', '/content/drive/MyDrive/Brain_tumor/Training/meningioma/Tr-me_0524.jpg', '/content/drive/MyDrive/Brain_tumor/Training/notumor/Tr-no_0858.jpg', '/content/drive/MyDrive/Brain_tumor/Training/notumor/Tr-no_0520.jpg', '/content/drive/MyDrive/Brain_tumor/Training/notumor/Tr-no_0889.jpg', '/content/drive/MyDrive/Brain_tumor/Training/meningioma/Tr-me_0792.jpg', '/content/drive/MyDrive/Brain_tumor/Training/glioma/Tr-gl_0047.jpg', '/content/drive/MyDrive/Brain_tumor/Training/meningioma/Tr-me_0619.jpg', '/content/drive/MyDrive/Brain_tumor/Training/notumor/Tr-no_0527.jpg', '/content/drive/MyDrive/Brain_tumor/Training/glioma/Tr-gl_1282.jpg', '/content/drive/MyDrive/Brain_tumor/Training/meningioma/Tr-me_0509.jpg', '/content/drive/MyDrive/Brain_tumor/Training/meningioma/Tr-me_0431.jpg', '/content/drive/MyDrive/Brain_tumor/Training/glioma/Tr-gl_1060.jpg', '/content/drive/MyDrive/Brain_tumor/Training/meningioma/Tr-me_1280.jpg', '/content/drive/MyDrive/Brain_tumor/Training/pituitary/Tr-pi_0674.jpg', '/content/drive/MyDrive/Brain_tumor/Training/notumor/Tr-no_1096.jpg', '/content/drive/MyDrive/Brain_tumor/Training/notumor/Tr-no_1506.jpg', '/content/drive/MyDrive/Brain_tumor/Training/pituitary/Tr-pi_0093.jpg', '/content/drive/MyDrive/Brain_tumor/Training/notumor/Tr-no_0342.jpg', '/content/drive/MyDrive/Brain_tumor/Training/notumor/Tr-no_0248.jpg', '/content/drive/MyDrive/Brain_tumor/Training/meningioma/Tr-me_0039.jpg', '/content/drive/MyDrive/Brain_tumor/Training/glioma/Tr-gl_0969.jpg', '/content/drive/MyDrive/Brain_tumor/Training/glioma/Tr-gl_0502.jpg', '/content/drive/MyDrive/Brain_tumor/Training/pituitary/Tr-pi_0089.jpg', '/content/drive/MyDrive/Brain_tumor/Training/pituitary/Tr-pi_0122.jpg', '/content/drive/MyDrive/Brain_tumor/Training/glioma/Tr-gl_1209.jpg', '/content/drive/MyDrive/Brain_tumor/Training/notumor/Tr-no_1462.jpg', '/content/drive/MyDrive/Brain_tumor/Training/glioma/Tr-gl_0384.jpg', '/content/drive/MyDrive/Brain_tumor/Training/glioma/Tr-gl_0858.jpg', '/content/drive/MyDrive/Brain_tumor/Training/pituitary/Tr-pi_0179.jpg', '/content/drive/MyDrive/Brain_tumor/Training/meningioma/Tr-me_0649.jpg', '/content/drive/MyDrive/Brain_tumor/Training/glioma/Tr-gl_0364.jpg', '/content/drive/MyDrive/Brain_tumor/Training/pituitary/Tr-pi_0344.jpg', '/content/drive/MyDrive/Brain_tumor/Training/glioma/Tr-gl_0921.jpg', '/content/drive/MyDrive/Brain_tumor/Training/glioma/Tr-gl_1296.jpg', '/content/drive/MyDrive/Brain_tumor/Training/glioma/Tr-gl_0083.jpg', '/content/drive/MyDrive/Brain_tumor/Training/glioma/Tr-gl_0569.jpg', '/content/drive/MyDrive/Brain_tumor/Training/meningioma/Tr-me_0872.jpg', '/content/drive/MyDrive/Brain_tumor/Training/glioma/Tr-gl_0429.jpg', '/content/drive/MyDrive/Brain_tumor/Training/pituitary/Tr-pi_0902.jpg', '/content/drive/MyDrive/Brain_tumor/Training/glioma/Tr-gl_0212.jpg', '/content/drive/MyDrive/Brain_tumor/Training/pituitary/Tr-pi_0198.jpg', '/content/drive/MyDrive/Brain_tumor/Training/glioma/Tr-gl_1309.jpg', '/content/drive/MyDrive/Brain_tumor/Training/pituitary/Tr-pi_0556.jpg', '/content/drive/MyDrive/Brain_tumor/Training/notumor/Tr-no_0247.jpg', '/content/drive/MyDrive/Brain_tumor/Training/glioma/Tr-gl_0699.jpg', '/content/drive/MyDrive/Brain_tumor/Training/notumor/Tr-no_1198.jpg', '/content/drive/MyDrive/Brain_tumor/Training/pituitary/Tr-pi_0156.jpg', '/content/drive/MyDrive/Brain_tumor/Training/glioma/Tr-gl_0061.jpg', '/content/drive/MyDrive/Brain_tumor/Training/pituitary/Tr-pi_1287.jpg', '/content/drive/MyDrive/Brain_tumor/Training/meningioma/Tr-me_0608.jpg', '/content/drive/MyDrive/Brain_tumor/Training/pituitary/Tr-pi_1188.jpg', '/content/drive/MyDrive/Brain_tumor/Training/meningioma/Tr-me_1178.jpg', '/content/drive/MyDrive/Brain_tumor/Training/pituitary/Tr-pi_0761.jpg', '/content/drive/MyDrive/Brain_tumor/Training/glioma/Tr-gl_0307.jpg', '/content/drive/MyDrive/Brain_tumor/Training/pituitary/Tr-pi_1245.jpg', '/content/drive/MyDrive/Brain_tumor/Training/pituitary/Tr-pi_0948.jpg', '/content/drive/MyDrive/Brain_tumor/Training/glioma/Tr-gl_0812.jpg', '/content/drive/MyDrive/Brain_tumor/Training/notumor/Tr-no_1299.jpg', '/content/drive/MyDrive/Brain_tumor/Training/pituitary/Tr-pi_0150.jpg', '/content/drive/MyDrive/Brain_tumor/Training/pituitary/Tr-pi_1302.jpg', '/content/drive/MyDrive/Brain_tumor/Training/notumor/Tr-no_0054.jpg', '/content/drive/MyDrive/Brain_tumor/Training/meningioma/Tr-me_1009.jpg', '/content/drive/MyDrive/Brain_tumor/Training/notumor/Tr-no_1507.jpg', '/content/drive/MyDrive/Brain_tumor/Training/notumor/Tr-no_1206.jpg', '/content/drive/MyDrive/Brain_tumor/Training/pituitary/Tr-pi_0563.jpg', '/content/drive/MyDrive/Brain_tumor/Training/meningioma/Tr-me_0851.jpg', '/content/drive/MyDrive/Brain_tumor/Training/meningioma/Tr-me_1330.jpg', '/content/drive/MyDrive/Brain_tumor/Training/glioma/Tr-gl_1017.jpg', '/content/drive/MyDrive/Brain_tumor/Training/pituitary/Tr-pi_0042.jpg', '/content/drive/MyDrive/Brain_tumor/Training/notumor/Tr-no_1304.jpg', '/content/drive/MyDrive/Brain_tumor/Training/notumor/Tr-no_1006.jpg', '/content/drive/MyDrive/Brain_tumor/Training/pituitary/Tr-pi_0869.jpg', '/content/drive/MyDrive/Brain_tumor/Training/pituitary/Tr-pi_0586.jpg', '/content/drive/MyDrive/Brain_tumor/Training/meningioma/Tr-me_0259.jpg', '/content/drive/MyDrive/Brain_tumor/Training/pituitary/Tr-pi_0845.jpg', '/content/drive/MyDrive/Brain_tumor/Training/pituitary/Tr-pi_0735.jpg', '/content/drive/MyDrive/Brain_tumor/Training/notumor/Tr-no_0821.jpg', '/content/drive/MyDrive/Brain_tumor/Training/pituitary/Tr-pi_0078.jpg', '/content/drive/MyDrive/Brain_tumor/Training/notumor/Tr-no_0779.jpg', '/content/drive/MyDrive/Brain_tumor/Training/glioma/Tr-gl_0710.jpg', '/content/drive/MyDrive/Brain_tumor/Training/meningioma/Tr-me_0572.jpg', '/content/drive/MyDrive/Brain_tumor/Training/meningioma/Tr-me_1075.jpg', '/content/drive/MyDrive/Brain_tumor/Training/notumor/Tr-no_0321.jpg', '/content/drive/MyDrive/Brain_tumor/Training/notumor/Tr-no_0628.jpg', '/content/drive/MyDrive/Brain_tumor/Training/pituitary/Tr-pi_1090.jpg', '/content/drive/MyDrive/Brain_tumor/Training/meningioma/Tr-me_0986.jpg', '/content/drive/MyDrive/Brain_tumor/Training/pituitary/Tr-pi_1298.jpg', '/content/drive/MyDrive/Brain_tumor/Training/pituitary/Tr-pi_0034.jpg', '/content/drive/MyDrive/Brain_tumor/Training/glioma/Tr-gl_0661.jpg', '/content/drive/MyDrive/Brain_tumor/Training/meningioma/Tr-me_1095.jpg', '/content/drive/MyDrive/Brain_tumor/Training/notumor/Tr-no_0733.jpg', '/content/drive/MyDrive/Brain_tumor/Training/notumor/Tr-no_0119.jpg', '/content/drive/MyDrive/Brain_tumor/Training/glioma/Tr-gl_1210.jpg', '/content/drive/MyDrive/Brain_tumor/Training/notumor/Tr-no_0874.jpg', '/content/drive/MyDrive/Brain_tumor/Training/pituitary/Tr-pi_1150.jpg', '/content/drive/MyDrive/Brain_tumor/Training/notumor/Tr-no_1551.jpg', '/content/drive/MyDrive/Brain_tumor/Training/glioma/Tr-gl_0649.jpg', '/content/drive/MyDrive/Brain_tumor/Training/glioma/Tr-gl_0892.jpg', '/content/drive/MyDrive/Brain_tumor/Training/notumor/Tr-noTr_0000.jpg', '/content/drive/MyDrive/Brain_tumor/Training/notumor/Tr-no_0931.jpg', '/content/drive/MyDrive/Brain_tumor/Training/glioma/Tr-gl_1258.jpg', '/content/drive/MyDrive/Brain_tumor/Training/glioma/Tr-gl_0852.jpg', '/content/drive/MyDrive/Brain_tumor/Training/meningioma/Tr-me_0755.jpg', '/content/drive/MyDrive/Brain_tumor/Training/pituitary/Tr-pi_0404.jpg', '/content/drive/MyDrive/Brain_tumor/Training/pituitary/Tr-pi_0860.jpg', '/content/drive/MyDrive/Brain_tumor/Training/notumor/Tr-no_0407.jpg', '/content/drive/MyDrive/Brain_tumor/Training/notumor/Tr-no_0522.jpg', '/content/drive/MyDrive/Brain_tumor/Training/pituitary/Tr-pi_0542.jpg', '/content/drive/MyDrive/Brain_tumor/Training/meningioma/Tr-me_0044.jpg', '/content/drive/MyDrive/Brain_tumor/Training/glioma/Tr-gl_0937.jpg', '/content/drive/MyDrive/Brain_tumor/Training/pituitary/Tr-pi_0358.jpg', '/content/drive/MyDrive/Brain_tumor/Training/pituitary/Tr-pi_0951.jpg', '/content/drive/MyDrive/Brain_tumor/Training/glioma/Tr-gl_0333.jpg', '/content/drive/MyDrive/Brain_tumor/Training/notumor/Tr-no_1195.jpg', '/content/drive/MyDrive/Brain_tumor/Training/pituitary/Tr-pi_0342.jpg', '/content/drive/MyDrive/Brain_tumor/Training/pituitary/Tr-pi_0733.jpg', '/content/drive/MyDrive/Brain_tumor/Training/meningioma/Tr-me_0857.jpg', '/content/drive/MyDrive/Brain_tumor/Training/notumor/Tr-no_0422.jpg', '/content/drive/MyDrive/Brain_tumor/Training/pituitary/Tr-pi_0676.jpg', '/content/drive/MyDrive/Brain_tumor/Training/glioma/Tr-gl_0882.jpg', '/content/drive/MyDrive/Brain_tumor/Training/notumor/Tr-no_0240.jpg', '/content/drive/MyDrive/Brain_tumor/Training/notumor/Tr-no_0778.jpg', '/content/drive/MyDrive/Brain_tumor/Training/glioma/Tr-gl_0633.jpg', '/content/drive/MyDrive/Brain_tumor/Training/pituitary/Tr-pi_0865.jpg', '/content/drive/MyDrive/Brain_tumor/Training/glioma/Tr-gl_0914.jpg', '/content/drive/MyDrive/Brain_tumor/Training/pituitary/Tr-pi_0571.jpg', '/content/drive/MyDrive/Brain_tumor/Training/pituitary/Tr-pi_0019.jpg', '/content/drive/MyDrive/Brain_tumor/Training/pituitary/Tr-pi_1339.jpg', '/content/drive/MyDrive/Brain_tumor/Training/pituitary/Tr-pi_0853.jpg', '/content/drive/MyDrive/Brain_tumor/Training/pituitary/Tr-pi_1211.jpg', '/content/drive/MyDrive/Brain_tumor/Training/meningioma/Tr-me_0033.jpg', '/content/drive/MyDrive/Brain_tumor/Training/pituitary/Tr-pi_0212.jpg', '/content/drive/MyDrive/Brain_tumor/Training/glioma/Tr-gl_0765.jpg', '/content/drive/MyDrive/Brain_tumor/Training/glioma/Tr-gl_0755.jpg', '/content/drive/MyDrive/Brain_tumor/Training/pituitary/Tr-pi_1337.jpg', '/content/drive/MyDrive/Brain_tumor/Training/notumor/Tr-no_0320.jpg', '/content/drive/MyDrive/Brain_tumor/Training/pituitary/Tr-pi_0319.jpg', '/content/drive/MyDrive/Brain_tumor/Training/notumor/Tr-no_0939.jpg', '/content/drive/MyDrive/Brain_tumor/Training/glioma/Tr-gl_0904.jpg', '/content/drive/MyDrive/Brain_tumor/Training/meningioma/Tr-me_1283.jpg', '/content/drive/MyDrive/Brain_tumor/Training/glioma/Tr-gl_0793.jpg', '/content/drive/MyDrive/Brain_tumor/Training/notumor/Tr-no_0863.jpg', '/content/drive/MyDrive/Brain_tumor/Training/notumor/Tr-no_1101.jpg', '/content/drive/MyDrive/Brain_tumor/Training/pituitary/Tr-pi_0515.jpg', '/content/drive/MyDrive/Brain_tumor/Training/notumor/Tr-no_1583.jpg', '/content/drive/MyDrive/Brain_tumor/Training/glioma/Tr-gl_0931.jpg', '/content/drive/MyDrive/Brain_tumor/Training/pituitary/Tr-pi_0739.jpg', '/content/drive/MyDrive/Brain_tumor/Training/glioma/Tr-gl_0167.jpg', '/content/drive/MyDrive/Brain_tumor/Training/notumor/Tr-no_1532.jpg', '/content/drive/MyDrive/Brain_tumor/Training/pituitary/Tr-pi_0295.jpg', '/content/drive/MyDrive/Brain_tumor/Training/glioma/Tr-gl_1119.jpg', '/content/drive/MyDrive/Brain_tumor/Training/meningioma/Tr-me_0103.jpg', '/content/drive/MyDrive/Brain_tumor/Training/notumor/Tr-no_0099.jpg', '/content/drive/MyDrive/Brain_tumor/Training/pituitary/Tr-pi_1218.jpg', '/content/drive/MyDrive/Brain_tumor/Training/meningioma/Tr-me_0710.jpg', '/content/drive/MyDrive/Brain_tumor/Training/meningioma/Tr-me_0137.jpg', '/content/drive/MyDrive/Brain_tumor/Training/pituitary/Tr-pi_1423.jpg', '/content/drive/MyDrive/Brain_tumor/Training/glioma/Tr-gl_1003.jpg', '/content/drive/MyDrive/Brain_tumor/Training/pituitary/Tr-pi_0239.jpg', '/content/drive/MyDrive/Brain_tumor/Training/glioma/Tr-gl_1014.jpg', '/content/drive/MyDrive/Brain_tumor/Training/glioma/Tr-gl_0191.jpg', '/content/drive/MyDrive/Brain_tumor/Training/notumor/Tr-no_0526.jpg', '/content/drive/MyDrive/Brain_tumor/Training/glioma/Tr-gl_0153.jpg', '/content/drive/MyDrive/Brain_tumor/Training/pituitary/Tr-pi_0792.jpg', '/content/drive/MyDrive/Brain_tumor/Training/meningioma/Tr-me_0657.jpg', '/content/drive/MyDrive/Brain_tumor/Training/glioma/Tr-gl_0158.jpg', '/content/drive/MyDrive/Brain_tumor/Training/notumor/Tr-no_1485.jpg', '/content/drive/MyDrive/Brain_tumor/Training/pituitary/Tr-pi_0929.jpg', '/content/drive/MyDrive/Brain_tumor/Training/notumor/Tr-no_1594.jpg', '/content/drive/MyDrive/Brain_tumor/Training/pituitary/Tr-pi_0378.jpg', '/content/drive/MyDrive/Brain_tumor/Training/meningioma/Tr-me_0035.jpg', '/content/drive/MyDrive/Brain_tumor/Training/meningioma/Tr-me_0271.jpg', '/content/drive/MyDrive/Brain_tumor/Training/notumor/Tr-no_0715.jpg', '/content/drive/MyDrive/Brain_tumor/Training/pituitary/Tr-pi_0161.jpg', '/content/drive/MyDrive/Brain_tumor/Training/glioma/Tr-gl_0169.jpg', '/content/drive/MyDrive/Brain_tumor/Training/pituitary/Tr-pi_1207.jpg', '/content/drive/MyDrive/Brain_tumor/Training/notumor/Tr-no_1482.jpg', '/content/drive/MyDrive/Brain_tumor/Training/glioma/Tr-gl_0248.jpg', '/content/drive/MyDrive/Brain_tumor/Training/glioma/Tr-gl_0417.jpg', '/content/drive/MyDrive/Brain_tumor/Training/meningioma/Tr-me_0138.jpg', '/content/drive/MyDrive/Brain_tumor/Training/pituitary/Tr-pi_0798.jpg', '/content/drive/MyDrive/Brain_tumor/Training/meningioma/Tr-me_0225.jpg', '/content/drive/MyDrive/Brain_tumor/Training/glioma/Tr-gl_0918.jpg', '/content/drive/MyDrive/Brain_tumor/Training/notumor/Tr-no_0101.jpg', '/content/drive/MyDrive/Brain_tumor/Training/meningioma/Tr-me_0577.jpg', '/content/drive/MyDrive/Brain_tumor/Training/pituitary/Tr-pi_1174.jpg', '/content/drive/MyDrive/Brain_tumor/Training/notumor/Tr-no_0873.jpg', '/content/drive/MyDrive/Brain_tumor/Training/pituitary/Tr-pi_0035.jpg', '/content/drive/MyDrive/Brain_tumor/Training/glioma/Tr-gl_1067.jpg', '/content/drive/MyDrive/Brain_tumor/Training/notumor/Tr-no_0816.jpg', '/content/drive/MyDrive/Brain_tumor/Training/glioma/Tr-gl_1273.jpg', '/content/drive/MyDrive/Brain_tumor/Training/glioma/Tr-gl_0432.jpg', '/content/drive/MyDrive/Brain_tumor/Training/notumor/Tr-no_1275.jpg', '/content/drive/MyDrive/Brain_tumor/Training/glioma/Tr-gl_0469.jpg', '/content/drive/MyDrive/Brain_tumor/Training/meningioma/Tr-me_0285.jpg', '/content/drive/MyDrive/Brain_tumor/Training/notumor/Tr-no_0066.jpg', '/content/drive/MyDrive/Brain_tumor/Training/pituitary/Tr-pi_0454.jpg', '/content/drive/MyDrive/Brain_tumor/Training/glioma/Tr-gl_0844.jpg', '/content/drive/MyDrive/Brain_tumor/Training/notumor/Tr-no_1321.jpg', '/content/drive/MyDrive/Brain_tumor/Training/notumor/Tr-no_0046.jpg', '/content/drive/MyDrive/Brain_tumor/Training/glioma/Tr-gl_0509.jpg', '/content/drive/MyDrive/Brain_tumor/Training/notumor/Tr-no_1067.jpg', '/content/drive/MyDrive/Brain_tumor/Training/notumor/Tr-no_0771.jpg', '/content/drive/MyDrive/Brain_tumor/Training/meningioma/Tr-me_0224.jpg', '/content/drive/MyDrive/Brain_tumor/Training/pituitary/Tr-pi_0442.jpg', '/content/drive/MyDrive/Brain_tumor/Training/notumor/Tr-no_1023.jpg', '/content/drive/MyDrive/Brain_tumor/Training/glioma/Tr-gl_0118.jpg', '/content/drive/MyDrive/Brain_tumor/Training/glioma/Tr-gl_1095.jpg', '/content/drive/MyDrive/Brain_tumor/Training/meningioma/Tr-me_0062.jpg', '/content/drive/MyDrive/Brain_tumor/Training/pituitary/Tr-pi_0219.jpg', '/content/drive/MyDrive/Brain_tumor/Training/notumor/Tr-no_0643.jpg', '/content/drive/MyDrive/Brain_tumor/Training/glioma/Tr-gl_0843.jpg', '/content/drive/MyDrive/Brain_tumor/Training/pituitary/Tr-pi_0180.jpg', '/content/drive/MyDrive/Brain_tumor/Training/meningioma/Tr-me_1056.jpg', '/content/drive/MyDrive/Brain_tumor/Training/meningioma/Tr-me_0576.jpg', '/content/drive/MyDrive/Brain_tumor/Training/glioma/Tr-gl_1280.jpg', '/content/drive/MyDrive/Brain_tumor/Training/pituitary/Tr-pi_0376.jpg', '/content/drive/MyDrive/Brain_tumor/Training/notumor/Tr-no_1050.jpg', '/content/drive/MyDrive/Brain_tumor/Training/notumor/Tr-no_0619 (1).jpg', '/content/drive/MyDrive/Brain_tumor/Training/glioma/Tr-gl_1115.jpg', '/content/drive/MyDrive/Brain_tumor/Training/meningioma/Tr-me_0090.jpg', '/content/drive/MyDrive/Brain_tumor/Training/notumor/Tr-no_0255.jpg', '/content/drive/MyDrive/Brain_tumor/Training/glioma/Tr-gl_0188.jpg', '/content/drive/MyDrive/Brain_tumor/Training/notumor/Tr-no_0725.jpg', '/content/drive/MyDrive/Brain_tumor/Training/meningioma/Tr-me_0478.jpg', '/content/drive/MyDrive/Brain_tumor/Training/notumor/Tr-no_0314.jpg', '/content/drive/MyDrive/Brain_tumor/Training/glioma/Tr-gl_0147.jpg', '/content/drive/MyDrive/Brain_tumor/Training/notumor/Tr-no_1132.jpg', '/content/drive/MyDrive/Brain_tumor/Training/glioma/Tr-gl_0140.jpg', '/content/drive/MyDrive/Brain_tumor/Training/meningioma/Tr-me_0320.jpg', '/content/drive/MyDrive/Brain_tumor/Training/meningioma/Tr-me_0421.jpg', '/content/drive/MyDrive/Brain_tumor/Training/notumor/Tr-no_1391.jpg', '/content/drive/MyDrive/Brain_tumor/Training/notumor/Tr-no_1501.jpg', '/content/drive/MyDrive/Brain_tumor/Training/meningioma/Tr-me_0498.jpg', '/content/drive/MyDrive/Brain_tumor/Training/pituitary/Tr-pi_0106.jpg', '/content/drive/MyDrive/Brain_tumor/Training/pituitary/Tr-pi_0901.jpg', '/content/drive/MyDrive/Brain_tumor/Training/meningioma/Tr-me_0065.jpg', '/content/drive/MyDrive/Brain_tumor/Training/meningioma/Tr-me_0733.jpg', '/content/drive/MyDrive/Brain_tumor/Training/notumor/Tr-no_0024.jpg', '/content/drive/MyDrive/Brain_tumor/Training/glioma/Tr-gl_0611.jpg', '/content/drive/MyDrive/Brain_tumor/Training/glioma/Tr-gl_0733.jpg', '/content/drive/MyDrive/Brain_tumor/Training/notumor/Tr-no_1395.jpg', '/content/drive/MyDrive/Brain_tumor/Training/pituitary/Tr-pi_0415.jpg', '/content/drive/MyDrive/Brain_tumor/Training/meningioma/Tr-me_1148.jpg', '/content/drive/MyDrive/Brain_tumor/Training/notumor/Tr-no_0313.jpg', '/content/drive/MyDrive/Brain_tumor/Training/notumor/Tr-no_1189.jpg', '/content/drive/MyDrive/Brain_tumor/Training/glioma/Tr-gl_0146.jpg', '/content/drive/MyDrive/Brain_tumor/Training/notumor/Tr-no_0689.jpg', '/content/drive/MyDrive/Brain_tumor/Training/meningioma/Tr-me_0264.jpg', '/content/drive/MyDrive/Brain_tumor/Training/notumor/Tr-no_0860.jpg', '/content/drive/MyDrive/Brain_tumor/Training/meningioma/Tr-me_0112.jpg', '/content/drive/MyDrive/Brain_tumor/Training/pituitary/Tr-pi_0147.jpg', '/content/drive/MyDrive/Brain_tumor/Training/notumor/Tr-no_0629.jpg', '/content/drive/MyDrive/Brain_tumor/Training/notumor/Tr-no_1450.jpg', '/content/drive/MyDrive/Brain_tumor/Training/pituitary/Tr-pi_0432.jpg', '/content/drive/MyDrive/Brain_tumor/Training/glioma/Tr-gl_0598.jpg', '/content/drive/MyDrive/Brain_tumor/Training/notumor/Tr-no_1046.jpg', '/content/drive/MyDrive/Brain_tumor/Training/meningioma/Tr-me_0815.jpg', '/content/drive/MyDrive/Brain_tumor/Training/notumor/Tr-no_1545.jpg', '/content/drive/MyDrive/Brain_tumor/Training/notumor/Tr-no_0802.jpg', '/content/drive/MyDrive/Brain_tumor/Training/meningioma/Tr-me_1158.jpg', '/content/drive/MyDrive/Brain_tumor/Training/meningioma/Tr-me_0610.jpg', '/content/drive/MyDrive/Brain_tumor/Training/glioma/Tr-gl_0938.jpg', '/content/drive/MyDrive/Brain_tumor/Training/glioma/Tr-gl_0472.jpg', '/content/drive/MyDrive/Brain_tumor/Training/glioma/Tr-gl_0488.jpg', '/content/drive/MyDrive/Brain_tumor/Training/meningioma/Tr-me_0605.jpg', '/content/drive/MyDrive/Brain_tumor/Training/pituitary/Tr-pi_1255.jpg', '/content/drive/MyDrive/Brain_tumor/Training/pituitary/Tr-pi_0412.jpg', '/content/drive/MyDrive/Brain_tumor/Training/glioma/Tr-gl_0217.jpg', '/content/drive/MyDrive/Brain_tumor/Training/glioma/Tr-gl_1108.jpg', '/content/drive/MyDrive/Brain_tumor/Training/meningioma/Tr-me_0364.jpg', '/content/drive/MyDrive/Brain_tumor/Training/notumor/Tr-no_0153.jpg', '/content/drive/MyDrive/Brain_tumor/Training/pituitary/Tr-pi_1053.jpg', '/content/drive/MyDrive/Brain_tumor/Training/glioma/Tr-gl_1144.jpg', '/content/drive/MyDrive/Brain_tumor/Training/pituitary/Tr-pi_0897.jpg', '/content/drive/MyDrive/Brain_tumor/Training/meningioma/Tr-me_0336.jpg', '/content/drive/MyDrive/Brain_tumor/Training/pituitary/Tr-pi_0395.jpg', '/content/drive/MyDrive/Brain_tumor/Training/meningioma/Tr-me_0668.jpg', '/content/drive/MyDrive/Brain_tumor/Training/notumor/Tr-no_0622.jpg', '/content/drive/MyDrive/Brain_tumor/Training/pituitary/Tr-pi_0561.jpg', '/content/drive/MyDrive/Brain_tumor/Training/meningioma/Tr-me_1072.jpg', '/content/drive/MyDrive/Brain_tumor/Training/notumor/Tr-no_0442.jpg', '/content/drive/MyDrive/Brain_tumor/Training/glioma/Tr-gl_0204.jpg', '/content/drive/MyDrive/Brain_tumor/Training/glioma/Tr-gl_0117.jpg', '/content/drive/MyDrive/Brain_tumor/Training/pituitary/Tr-pi_0809.jpg', '/content/drive/MyDrive/Brain_tumor/Training/meningioma/Tr-me_0124.jpg', '/content/drive/MyDrive/Brain_tumor/Training/glioma/Tr-gl_0543.jpg', '/content/drive/MyDrive/Brain_tumor/Training/notumor/Tr-no_0427.jpg', '/content/drive/MyDrive/Brain_tumor/Training/notumor/Tr-no_1270.jpg', '/content/drive/MyDrive/Brain_tumor/Training/notumor/Tr-no_0856.jpg', '/content/drive/MyDrive/Brain_tumor/Training/notumor/Tr-no_1266.jpg', '/content/drive/MyDrive/Brain_tumor/Training/pituitary/Tr-pi_0304.jpg', '/content/drive/MyDrive/Brain_tumor/Training/meningioma/Tr-me_0050.jpg', '/content/drive/MyDrive/Brain_tumor/Training/meningioma/Tr-me_0550.jpg', '/content/drive/MyDrive/Brain_tumor/Training/notumor/Tr-no_1372.jpg', '/content/drive/MyDrive/Brain_tumor/Training/meningioma/Tr-me_1077.jpg', '/content/drive/MyDrive/Brain_tumor/Training/notumor/Tr-no_0524.jpg', '/content/drive/MyDrive/Brain_tumor/Training/notumor/Tr-no_1048.jpg', '/content/drive/MyDrive/Brain_tumor/Training/meningioma/Tr-me_0943.jpg', '/content/drive/MyDrive/Brain_tumor/Training/pituitary/Tr-pi_1153.jpg', '/content/drive/MyDrive/Brain_tumor/Training/notumor/Tr-no_0914.jpg', '/content/drive/MyDrive/Brain_tumor/Training/glioma/Tr-gl_1236.jpg', '/content/drive/MyDrive/Brain_tumor/Training/glioma/Tr-gl_1241.jpg', '/content/drive/MyDrive/Brain_tumor/Training/notumor/Tr-no_0583.jpg', '/content/drive/MyDrive/Brain_tumor/Training/meningioma/Tr-me_0692.jpg', '/content/drive/MyDrive/Brain_tumor/Training/pituitary/Tr-pi_1049.jpg', '/content/drive/MyDrive/Brain_tumor/Training/notumor/Tr-no_0245.jpg', '/content/drive/MyDrive/Brain_tumor/Training/meningioma/Tr-me_0744.jpg', '/content/drive/MyDrive/Brain_tumor/Training/pituitary/Tr-pi_0907.jpg', '/content/drive/MyDrive/Brain_tumor/Training/meningioma/Tr-me_1166.jpg', '/content/drive/MyDrive/Brain_tumor/Training/glioma/Tr-gl_0446.jpg', '/content/drive/MyDrive/Brain_tumor/Training/pituitary/Tr-pi_1317.jpg', '/content/drive/MyDrive/Brain_tumor/Training/notumor/Tr-no_0113.jpg', '/content/drive/MyDrive/Brain_tumor/Training/pituitary/Tr-pi_1309.jpg', '/content/drive/MyDrive/Brain_tumor/Training/glioma/Tr-gl_0540.jpg', '/content/drive/MyDrive/Brain_tumor/Training/meningioma/Tr-me_0891.jpg', '/content/drive/MyDrive/Brain_tumor/Training/meningioma/Tr-me_0319.jpg', '/content/drive/MyDrive/Brain_tumor/Training/pituitary/Tr-pi_0284.jpg', '/content/drive/MyDrive/Brain_tumor/Training/notumor/Tr-no_0848.jpg', '/content/drive/MyDrive/Brain_tumor/Training/pituitary/Tr-pi_1257.jpg', '/content/drive/MyDrive/Brain_tumor/Training/glioma/Tr-gl_0705.jpg', '/content/drive/MyDrive/Brain_tumor/Training/pituitary/Tr-pi_0766.jpg', '/content/drive/MyDrive/Brain_tumor/Training/pituitary/Tr-pi_0574.jpg', '/content/drive/MyDrive/Brain_tumor/Training/glioma/Tr-gl_0763.jpg', '/content/drive/MyDrive/Brain_tumor/Training/notumor/Tr-no_1253.jpg', '/content/drive/MyDrive/Brain_tumor/Training/glioma/Tr-gl_0635.jpg', '/content/drive/MyDrive/Brain_tumor/Training/glioma/Tr-gl_0159.jpg', '/content/drive/MyDrive/Brain_tumor/Training/meningioma/Tr-me_0806.jpg', '/content/drive/MyDrive/Brain_tumor/Training/pituitary/Tr-pi_0643.jpg', '/content/drive/MyDrive/Brain_tumor/Training/pituitary/Tr-pi_0242.jpg', '/content/drive/MyDrive/Brain_tumor/Training/notumor/Tr-no_1229.jpg', '/content/drive/MyDrive/Brain_tumor/Training/notumor/Tr-no_0660.jpg', '/content/drive/MyDrive/Brain_tumor/Training/notumor/Tr-no_0322.jpg', '/content/drive/MyDrive/Brain_tumor/Training/pituitary/Tr-pi_0446.jpg', '/content/drive/MyDrive/Brain_tumor/Training/notumor/Tr-no_0460.jpg', '/content/drive/MyDrive/Brain_tumor/Training/pituitary/Tr-pi_1196.jpg', '/content/drive/MyDrive/Brain_tumor/Training/pituitary/Tr-pi_0306.jpg', '/content/drive/MyDrive/Brain_tumor/Training/pituitary/Tr-pi_0406.jpg', '/content/drive/MyDrive/Brain_tumor/Training/pituitary/Tr-pi_0568.jpg', '/content/drive/MyDrive/Brain_tumor/Training/meningioma/Tr-me_1250.jpg', '/content/drive/MyDrive/Brain_tumor/Training/meningioma/Tr-me_1094.jpg', '/content/drive/MyDrive/Brain_tumor/Training/glioma/Tr-gl_0246.jpg', '/content/drive/MyDrive/Brain_tumor/Training/meningioma/Tr-me_0189.jpg', '/content/drive/MyDrive/Brain_tumor/Training/pituitary/Tr-pi_1260.jpg', '/content/drive/MyDrive/Brain_tumor/Training/meningioma/Tr-me_0960.jpg', '/content/drive/MyDrive/Brain_tumor/Training/notumor/Tr-no_0393.jpg', '/content/drive/MyDrive/Brain_tumor/Training/meningioma/Tr-me_0081.jpg', '/content/drive/MyDrive/Brain_tumor/Training/meningioma/Tr-me_1223.jpg', '/content/drive/MyDrive/Brain_tumor/Training/notumor/Tr-no_1117.jpg', '/content/drive/MyDrive/Brain_tumor/Training/pituitary/Tr-pi_1116.jpg', '/content/drive/MyDrive/Brain_tumor/Training/glioma/Tr-gl_1252.jpg', '/content/drive/MyDrive/Brain_tumor/Training/notumor/Tr-no_0469.jpg', '/content/drive/MyDrive/Brain_tumor/Training/glioma/Tr-gl_0536.jpg', '/content/drive/MyDrive/Brain_tumor/Training/glioma/Tr-gl_1058.jpg', '/content/drive/MyDrive/Brain_tumor/Training/notumor/Tr-no_1297.jpg', '/content/drive/MyDrive/Brain_tumor/Training/notumor/Tr-no_1380.jpg', '/content/drive/MyDrive/Brain_tumor/Training/notumor/Tr-no_0832.jpg', '/content/drive/MyDrive/Brain_tumor/Training/notumor/Tr-no_0410.jpg', '/content/drive/MyDrive/Brain_tumor/Training/pituitary/Tr-pi_1059.jpg', '/content/drive/MyDrive/Brain_tumor/Training/glioma/Tr-gl_0863.jpg', '/content/drive/MyDrive/Brain_tumor/Training/meningioma/Tr-me_0262.jpg', '/content/drive/MyDrive/Brain_tumor/Training/glioma/Tr-gl_0916.jpg', '/content/drive/MyDrive/Brain_tumor/Training/glioma/Tr-gl_0900.jpg', '/content/drive/MyDrive/Brain_tumor/Training/notumor/Tr-no_0671.jpg', '/content/drive/MyDrive/Brain_tumor/Training/glioma/Tr-gl_0754.jpg', '/content/drive/MyDrive/Brain_tumor/Training/meningioma/Tr-me_0282.jpg', '/content/drive/MyDrive/Brain_tumor/Training/notumor/Tr-no_0282.jpg', '/content/drive/MyDrive/Brain_tumor/Training/pituitary/Tr-pi_0487.jpg', '/content/drive/MyDrive/Brain_tumor/Training/meningioma/Tr-me_0438.jpg', '/content/drive/MyDrive/Brain_tumor/Training/glioma/Tr-gl_0236.jpg', '/content/drive/MyDrive/Brain_tumor/Training/meningioma/Tr-me_0920.jpg', '/content/drive/MyDrive/Brain_tumor/Training/meningioma/Tr-me_0802.jpg', '/content/drive/MyDrive/Brain_tumor/Training/meningioma/Tr-me_1337.jpg', '/content/drive/MyDrive/Brain_tumor/Training/notumor/Tr-no_1095.jpg', '/content/drive/MyDrive/Brain_tumor/Training/notumor/Tr-no_1110.jpg', '/content/drive/MyDrive/Brain_tumor/Training/glioma/Tr-gl_0764.jpg', '/content/drive/MyDrive/Brain_tumor/Training/pituitary/Tr-pi_0118.jpg', '/content/drive/MyDrive/Brain_tumor/Training/meningioma/Tr-me_1298.jpg', '/content/drive/MyDrive/Brain_tumor/Training/meningioma/Tr-me_0344.jpg', '/content/drive/MyDrive/Brain_tumor/Training/glioma/Tr-gl_0967.jpg', '/content/drive/MyDrive/Brain_tumor/Training/notumor/Tr-no_0488.jpg', '/content/drive/MyDrive/Brain_tumor/Training/notumor/Tr-no_1086.jpg', '/content/drive/MyDrive/Brain_tumor/Training/meningioma/Tr-me_1111.jpg', '/content/drive/MyDrive/Brain_tumor/Training/glioma/Tr-gl_0424.jpg', '/content/drive/MyDrive/Brain_tumor/Training/notumor/Tr-no_0309.jpg', '/content/drive/MyDrive/Brain_tumor/Training/notumor/Tr-no_1221.jpg', '/content/drive/MyDrive/Brain_tumor/Training/pituitary/Tr-pi_1190.jpg', '/content/drive/MyDrive/Brain_tumor/Training/pituitary/Tr-pi_0287.jpg', '/content/drive/MyDrive/Brain_tumor/Training/notumor/Tr-no_0369.jpg', '/content/drive/MyDrive/Brain_tumor/Training/notumor/Tr-no_1367.jpg', '/content/drive/MyDrive/Brain_tumor/Training/glioma/Tr-gl_1072.jpg', '/content/drive/MyDrive/Brain_tumor/Training/notumor/Tr-no_1350.jpg', '/content/drive/MyDrive/Brain_tumor/Training/pituitary/Tr-pi_1271.jpg', '/content/drive/MyDrive/Brain_tumor/Training/meningioma/Tr-me_0759.jpg', '/content/drive/MyDrive/Brain_tumor/Training/notumor/Tr-no_0395.jpg', '/content/drive/MyDrive/Brain_tumor/Training/glioma/Tr-gl_1316.jpg', '/content/drive/MyDrive/Brain_tumor/Training/meningioma/Tr-me_1288.jpg', '/content/drive/MyDrive/Brain_tumor/Training/notumor/Tr-no_1179.jpg', '/content/drive/MyDrive/Brain_tumor/Training/glioma/Tr-gl_0597.jpg', '/content/drive/MyDrive/Brain_tumor/Training/meningioma/Tr-me_0073.jpg', '/content/drive/MyDrive/Brain_tumor/Training/meningioma/Tr-me_0129.jpg', '/content/drive/MyDrive/Brain_tumor/Training/meningioma/Tr-me_1048.jpg', '/content/drive/MyDrive/Brain_tumor/Training/pituitary/Tr-pi_0131.jpg', '/content/drive/MyDrive/Brain_tumor/Training/pituitary/Tr-pi_0305.jpg', '/content/drive/MyDrive/Brain_tumor/Training/pituitary/Tr-pi_1064.jpg', '/content/drive/MyDrive/Brain_tumor/Training/notumor/Tr-no_1099.jpg', '/content/drive/MyDrive/Brain_tumor/Training/glioma/Tr-gl_1201.jpg', '/content/drive/MyDrive/Brain_tumor/Training/glioma/Tr-gl_1052.jpg', '/content/drive/MyDrive/Brain_tumor/Training/meningioma/Tr-me_1085.jpg', '/content/drive/MyDrive/Brain_tumor/Training/pituitary/Tr-pi_1409.jpg', '/content/drive/MyDrive/Brain_tumor/Training/glioma/Tr-gl_1157.jpg', '/content/drive/MyDrive/Brain_tumor/Training/notumor/Tr-no_0663.jpg', '/content/drive/MyDrive/Brain_tumor/Training/pituitary/Tr-pi_0851.jpg', '/content/drive/MyDrive/Brain_tumor/Training/meningioma/Tr-me_1197.jpg', '/content/drive/MyDrive/Brain_tumor/Training/meningioma/Tr-me_0173.jpg', '/content/drive/MyDrive/Brain_tumor/Training/pituitary/Tr-pi_1315.jpg', '/content/drive/MyDrive/Brain_tumor/Training/glioma/Tr-gl_0412.jpg', '/content/drive/MyDrive/Brain_tumor/Training/notumor/Tr-no_1539.jpg', '/content/drive/MyDrive/Brain_tumor/Training/notumor/Tr-no_0341.jpg', '/content/drive/MyDrive/Brain_tumor/Training/glioma/Tr-gl_1161.jpg', '/content/drive/MyDrive/Brain_tumor/Training/notumor/Tr-no_1326.jpg', '/content/drive/MyDrive/Brain_tumor/Training/glioma/Tr-gl_0966.jpg', '/content/drive/MyDrive/Brain_tumor/Training/meningioma/Tr-me_0056.jpg', '/content/drive/MyDrive/Brain_tumor/Training/pituitary/Tr-pi_0819.jpg', '/content/drive/MyDrive/Brain_tumor/Training/pituitary/Tr-pi_0607.jpg', '/content/drive/MyDrive/Brain_tumor/Training/meningioma/Tr-me_1038.jpg', '/content/drive/MyDrive/Brain_tumor/Training/meningioma/Tr-me_0896.jpg', '/content/drive/MyDrive/Brain_tumor/Training/notumor/Tr-no_1093.jpg', '/content/drive/MyDrive/Brain_tumor/Training/pituitary/Tr-pi_0686.jpg', '/content/drive/MyDrive/Brain_tumor/Training/notumor/Tr-noTr_0003.jpg', '/content/drive/MyDrive/Brain_tumor/Training/meningioma/Tr-me_0631.jpg', '/content/drive/MyDrive/Brain_tumor/Training/meningioma/Tr-me_0026.jpg', '/content/drive/MyDrive/Brain_tumor/Training/notumor/Tr-no_1351.jpg', '/content/drive/MyDrive/Brain_tumor/Training/meningioma/Tr-me_0969.jpg', '/content/drive/MyDrive/Brain_tumor/Training/meningioma/Tr-me_0417.jpg', '/content/drive/MyDrive/Brain_tumor/Training/meningioma/Tr-me_1139.jpg', '/content/drive/MyDrive/Brain_tumor/Training/glioma/Tr-gl_0419.jpg', '/content/drive/MyDrive/Brain_tumor/Training/meningioma/Tr-me_1084.jpg', '/content/drive/MyDrive/Brain_tumor/Training/meningioma/Tr-me_0445.jpg', '/content/drive/MyDrive/Brain_tumor/Training/glioma/Tr-gl_1123.jpg', '/content/drive/MyDrive/Brain_tumor/Training/meningioma/Tr-me_1222.jpg', '/content/drive/MyDrive/Brain_tumor/Training/notumor/Tr-no_0513.jpg', '/content/drive/MyDrive/Brain_tumor/Training/notumor/Tr-no_1436.jpg', '/content/drive/MyDrive/Brain_tumor/Training/glioma/Tr-gl_0362.jpg', '/content/drive/MyDrive/Brain_tumor/Training/pituitary/Tr-pi_0286.jpg', '/content/drive/MyDrive/Brain_tumor/Training/notumor/Tr-no_1105.jpg', '/content/drive/MyDrive/Brain_tumor/Training/pituitary/Tr-pi_0590.jpg', '/content/drive/MyDrive/Brain_tumor/Training/meningioma/Tr-me_0589.jpg', '/content/drive/MyDrive/Brain_tumor/Training/notumor/Tr-no_0104.jpg', '/content/drive/MyDrive/Brain_tumor/Training/pituitary/Tr-pi_0774.jpg', '/content/drive/MyDrive/Brain_tumor/Training/meningioma/Tr-me_1033.jpg', '/content/drive/MyDrive/Brain_tumor/Training/notumor/Tr-no_0343.jpg', '/content/drive/MyDrive/Brain_tumor/Training/notumor/Tr-no_0416.jpg', '/content/drive/MyDrive/Brain_tumor/Training/glioma/Tr-gl_0371.jpg', '/content/drive/MyDrive/Brain_tumor/Training/pituitary/Tr-pi_1331.jpg', '/content/drive/MyDrive/Brain_tumor/Training/notumor/Tr-no_1557.jpg', '/content/drive/MyDrive/Brain_tumor/Training/notumor/Tr-no_1097.jpg', '/content/drive/MyDrive/Brain_tumor/Training/notumor/Tr-no_0683.jpg', '/content/drive/MyDrive/Brain_tumor/Training/pituitary/Tr-pi_0936.jpg', '/content/drive/MyDrive/Brain_tumor/Training/notumor/Tr-no_0118.jpg', '/content/drive/MyDrive/Brain_tumor/Training/notumor/Tr-no_1593.jpg', '/content/drive/MyDrive/Brain_tumor/Training/notumor/Tr-no_1513 (1).jpg', '/content/drive/MyDrive/Brain_tumor/Training/notumor/Tr-no_1477.jpg', '/content/drive/MyDrive/Brain_tumor/Training/meningioma/Tr-me_0839.jpg', '/content/drive/MyDrive/Brain_tumor/Training/notumor/Tr-no_1502.jpg', '/content/drive/MyDrive/Brain_tumor/Training/glioma/Tr-gl_1308.jpg', '/content/drive/MyDrive/Brain_tumor/Training/notumor/Tr-no_1078.jpg', '/content/drive/MyDrive/Brain_tumor/Training/meningioma/Tr-me_1196.jpg', '/content/drive/MyDrive/Brain_tumor/Training/glioma/Tr-gl_0529.jpg', '/content/drive/MyDrive/Brain_tumor/Training/notumor/Tr-no_0047.jpg', '/content/drive/MyDrive/Brain_tumor/Training/notumor/Tr-no_0940.jpg', '/content/drive/MyDrive/Brain_tumor/Training/meningioma/Tr-me_0070.jpg', '/content/drive/MyDrive/Brain_tumor/Training/notumor/Tr-no_1556.jpg', '/content/drive/MyDrive/Brain_tumor/Training/pituitary/Tr-pi_0546.jpg', '/content/drive/MyDrive/Brain_tumor/Training/glioma/Tr-gl_0864.jpg', '/content/drive/MyDrive/Brain_tumor/Training/pituitary/Tr-pi_0729.jpg', '/content/drive/MyDrive/Brain_tumor/Training/glioma/Tr-gl_1148.jpg', '/content/drive/MyDrive/Brain_tumor/Training/notumor/Tr-no_1118.jpg', '/content/drive/MyDrive/Brain_tumor/Training/meningioma/Tr-me_0365.jpg', '/content/drive/MyDrive/Brain_tumor/Training/pituitary/Tr-pi_0996.jpg', '/content/drive/MyDrive/Brain_tumor/Training/meningioma/Tr-me_1277.jpg', '/content/drive/MyDrive/Brain_tumor/Training/pituitary/Tr-pi_0205.jpg', '/content/drive/MyDrive/Brain_tumor/Training/glioma/Tr-gl_0165.jpg', '/content/drive/MyDrive/Brain_tumor/Training/pituitary/Tr-pi_0130.jpg', '/content/drive/MyDrive/Brain_tumor/Training/glioma/Tr-gl_0573.jpg', '/content/drive/MyDrive/Brain_tumor/Training/glioma/Tr-gl_0981.jpg', '/content/drive/MyDrive/Brain_tumor/Training/notumor/Tr-no_0969.jpg', '/content/drive/MyDrive/Brain_tumor/Training/meningioma/Tr-me_0804.jpg', '/content/drive/MyDrive/Brain_tumor/Training/meningioma/Tr-me_0089.jpg', '/content/drive/MyDrive/Brain_tumor/Training/notumor/Tr-no_1533.jpg', '/content/drive/MyDrive/Brain_tumor/Training/notumor/Tr-no_0109.jpg', '/content/drive/MyDrive/Brain_tumor/Training/pituitary/Tr-pi_1136.jpg', '/content/drive/MyDrive/Brain_tumor/Training/pituitary/Tr-pi_1220.jpg', '/content/drive/MyDrive/Brain_tumor/Training/glioma/Tr-gl_1312.jpg', '/content/drive/MyDrive/Brain_tumor/Training/meningioma/Tr-me_0342.jpg', '/content/drive/MyDrive/Brain_tumor/Training/pituitary/Tr-pi_0528.jpg', '/content/drive/MyDrive/Brain_tumor/Training/glioma/Tr-gl_0168.jpg', '/content/drive/MyDrive/Brain_tumor/Training/notumor/Tr-no_0357.jpg', '/content/drive/MyDrive/Brain_tumor/Training/notumor/Tr-no_1484.jpg', '/content/drive/MyDrive/Brain_tumor/Training/notumor/Tr-no_0789.jpg', '/content/drive/MyDrive/Brain_tumor/Training/pituitary/Tr-pi_0137.jpg', '/content/drive/MyDrive/Brain_tumor/Training/meningioma/Tr-me_0324.jpg', '/content/drive/MyDrive/Brain_tumor/Training/meningioma/Tr-me_1145.jpg', '/content/drive/MyDrive/Brain_tumor/Training/notumor/Tr-no_0533.jpg', '/content/drive/MyDrive/Brain_tumor/Training/notumor/Tr-no_0346.jpg', '/content/drive/MyDrive/Brain_tumor/Training/notumor/Tr-no_0538.jpg', '/content/drive/MyDrive/Brain_tumor/Training/pituitary/Tr-pi_1235.jpg', '/content/drive/MyDrive/Brain_tumor/Training/meningioma/Tr-me_0652.jpg', '/content/drive/MyDrive/Brain_tumor/Training/pituitary/Tr-pi_0994.jpg', '/content/drive/MyDrive/Brain_tumor/Training/pituitary/Tr-pi_0413.jpg', '/content/drive/MyDrive/Brain_tumor/Training/pituitary/Tr-pi_1421.jpg', '/content/drive/MyDrive/Brain_tumor/Training/pituitary/Tr-pi_0123.jpg', '/content/drive/MyDrive/Brain_tumor/Training/glioma/Tr-gl_1220.jpg', '/content/drive/MyDrive/Brain_tumor/Training/notumor/Tr-no_0676.jpg', '/content/drive/MyDrive/Brain_tumor/Training/glioma/Tr-gl_0744.jpg', '/content/drive/MyDrive/Brain_tumor/Training/pituitary/Tr-pi_0355.jpg', '/content/drive/MyDrive/Brain_tumor/Training/pituitary/Tr-pi_1099.jpg', '/content/drive/MyDrive/Brain_tumor/Training/glioma/Tr-gl_0193.jpg', '/content/drive/MyDrive/Brain_tumor/Training/glioma/Tr-gl_1178.jpg', '/content/drive/MyDrive/Brain_tumor/Training/glioma/Tr-gl_0553.jpg', '/content/drive/MyDrive/Brain_tumor/Training/glioma/Tr-gl_1151.jpg', '/content/drive/MyDrive/Brain_tumor/Training/pituitary/Tr-pi_0891.jpg', '/content/drive/MyDrive/Brain_tumor/Training/glioma/Tr-gl_0124.jpg', '/content/drive/MyDrive/Brain_tumor/Training/pituitary/Tr-pi_0453.jpg', '/content/drive/MyDrive/Brain_tumor/Training/meningioma/Tr-me_0115.jpg', '/content/drive/MyDrive/Brain_tumor/Training/pituitary/Tr-pi_1083.jpg', '/content/drive/MyDrive/Brain_tumor/Training/notumor/Tr-no_1074.jpg', '/content/drive/MyDrive/Brain_tumor/Training/notumor/Tr-no_0195.jpg', '/content/drive/MyDrive/Brain_tumor/Training/pituitary/Tr-pi_1253.jpg', '/content/drive/MyDrive/Brain_tumor/Training/notumor/Tr-no_1283.jpg', '/content/drive/MyDrive/Brain_tumor/Training/pituitary/Tr-pi_1017.jpg', '/content/drive/MyDrive/Brain_tumor/Training/notumor/Tr-no_0017.jpg', '/content/drive/MyDrive/Brain_tumor/Training/meningioma/Tr-me_0256.jpg', '/content/drive/MyDrive/Brain_tumor/Training/notumor/Tr-no_0865.jpg', '/content/drive/MyDrive/Brain_tumor/Training/glioma/Tr-gl_0759.jpg', '/content/drive/MyDrive/Brain_tumor/Training/pituitary/Tr-pi_1270.jpg', '/content/drive/MyDrive/Brain_tumor/Training/pituitary/Tr-pi_0622.jpg', '/content/drive/MyDrive/Brain_tumor/Training/glioma/Tr-gl_1246.jpg', '/content/drive/MyDrive/Brain_tumor/Training/pituitary/Tr-pi_1066.jpg', '/content/drive/MyDrive/Brain_tumor/Training/meningioma/Tr-me_0721.jpg', '/content/drive/MyDrive/Brain_tumor/Training/notumor/Tr-no_1186.jpg', '/content/drive/MyDrive/Brain_tumor/Training/notumor/Tr-no_1531.jpg', '/content/drive/MyDrive/Brain_tumor/Training/meningioma/Tr-me_0583.jpg', '/content/drive/MyDrive/Brain_tumor/Training/glioma/Tr-gl_0490.jpg', '/content/drive/MyDrive/Brain_tumor/Training/pituitary/Tr-pi_1131.jpg', '/content/drive/MyDrive/Brain_tumor/Training/pituitary/Tr-pi_0041.jpg', '/content/drive/MyDrive/Brain_tumor/Training/pituitary/Tr-pi_0175.jpg', '/content/drive/MyDrive/Brain_tumor/Training/pituitary/Tr-pi_1011.jpg', '/content/drive/MyDrive/Brain_tumor/Training/glioma/Tr-gl_0039.jpg', '/content/drive/MyDrive/Brain_tumor/Training/meningioma/Tr-me_0240.jpg', '/content/drive/MyDrive/Brain_tumor/Training/notumor/Tr-no_0688.jpg', '/content/drive/MyDrive/Brain_tumor/Training/pituitary/Tr-pi_0575.jpg', '/content/drive/MyDrive/Brain_tumor/Training/glioma/Tr-gl_0390.jpg', '/content/drive/MyDrive/Brain_tumor/Training/notumor/Tr-no_0426.jpg', '/content/drive/MyDrive/Brain_tumor/Training/glioma/Tr-gl_0440.jpg', '/content/drive/MyDrive/Brain_tumor/Training/meningioma/Tr-me_0961.jpg', '/content/drive/MyDrive/Brain_tumor/Training/glioma/Tr-gl_1259.jpg', '/content/drive/MyDrive/Brain_tumor/Training/notumor/Tr-no_0287.jpg', '/content/drive/MyDrive/Brain_tumor/Training/meningioma/Tr-me_0401.jpg', '/content/drive/MyDrive/Brain_tumor/Training/notumor/Tr-no_0834.jpg', '/content/drive/MyDrive/Brain_tumor/Training/notumor/Tr-no_1307.jpg', '/content/drive/MyDrive/Brain_tumor/Training/pituitary/Tr-pi_0548.jpg', '/content/drive/MyDrive/Brain_tumor/Training/meningioma/Tr-me_0243.jpg', '/content/drive/MyDrive/Brain_tumor/Training/pituitary/Tr-pi_0598.jpg', '/content/drive/MyDrive/Brain_tumor/Training/notumor/Tr-no_1327.jpg', '/content/drive/MyDrive/Brain_tumor/Training/glioma/Tr-gl_0262.jpg', '/content/drive/MyDrive/Brain_tumor/Training/pituitary/Tr-pi_0812.jpg', '/content/drive/MyDrive/Brain_tumor/Training/meningioma/Tr-me_0451.jpg', '/content/drive/MyDrive/Brain_tumor/Training/meningioma/Tr-me_1057.jpg', '/content/drive/MyDrive/Brain_tumor/Training/meningioma/Tr-me_1167.jpg', '/content/drive/MyDrive/Brain_tumor/Training/notumor/Tr-no_0152.jpg', '/content/drive/MyDrive/Brain_tumor/Training/pituitary/Tr-pi_0880.jpg', '/content/drive/MyDrive/Brain_tumor/Training/glioma/Tr-gl_0387.jpg', '/content/drive/MyDrive/Brain_tumor/Training/notumor/Tr-no_1386.jpg', '/content/drive/MyDrive/Brain_tumor/Training/notumor/Tr-no_1250.jpg', '/content/drive/MyDrive/Brain_tumor/Training/meningioma/Tr-me_0323.jpg', '/content/drive/MyDrive/Brain_tumor/Training/notumor/Tr-no_0602.jpg', '/content/drive/MyDrive/Brain_tumor/Training/pituitary/Tr-pi_0769.jpg', '/content/drive/MyDrive/Brain_tumor/Training/meningioma/Tr-me_0144.jpg', '/content/drive/MyDrive/Brain_tumor/Training/meningioma/Tr-me_1017.jpg', '/content/drive/MyDrive/Brain_tumor/Training/pituitary/Tr-pi_0072.jpg', '/content/drive/MyDrive/Brain_tumor/Training/pituitary/Tr-pi_0299.jpg', '/content/drive/MyDrive/Brain_tumor/Training/glioma/Tr-gl_0737.jpg', '/content/drive/MyDrive/Brain_tumor/Training/pituitary/Tr-pi_0696.jpg', '/content/drive/MyDrive/Brain_tumor/Training/notumor/Tr-no_1175.jpg', '/content/drive/MyDrive/Brain_tumor/Training/pituitary/Tr-pi_1107.jpg', '/content/drive/MyDrive/Brain_tumor/Training/pituitary/Tr-pi_1391.jpg', '/content/drive/MyDrive/Brain_tumor/Training/pituitary/Tr-pi_1171.jpg', '/content/drive/MyDrive/Brain_tumor/Training/glioma/Tr-gl_0572.jpg', '/content/drive/MyDrive/Brain_tumor/Training/meningioma/Tr-me_0868.jpg', '/content/drive/MyDrive/Brain_tumor/Training/pituitary/Tr-pi_1192.jpg', '/content/drive/MyDrive/Brain_tumor/Training/meningioma/Tr-me_0715.jpg', '/content/drive/MyDrive/Brain_tumor/Training/glioma/Tr-gl_0856.jpg', '/content/drive/MyDrive/Brain_tumor/Training/notumor/Tr-no_1340.jpg', '/content/drive/MyDrive/Brain_tumor/Training/pituitary/Tr-pi_0832.jpg', '/content/drive/MyDrive/Brain_tumor/Training/notumor/Tr-no_0719.jpg', '/content/drive/MyDrive/Brain_tumor/Training/pituitary/Tr-pi_1080.jpg', '/content/drive/MyDrive/Brain_tumor/Training/pituitary/Tr-pi_0852.jpg', '/content/drive/MyDrive/Brain_tumor/Training/pituitary/Tr-pi_0714.jpg', '/content/drive/MyDrive/Brain_tumor/Training/meningioma/Tr-me_0208.jpg', '/content/drive/MyDrive/Brain_tumor/Training/meningioma/Tr-me_0739.jpg', '/content/drive/MyDrive/Brain_tumor/Training/meningioma/Tr-me_1066.jpg', '/content/drive/MyDrive/Brain_tumor/Training/meningioma/Tr-me_0762.jpg', '/content/drive/MyDrive/Brain_tumor/Training/notumor/Tr-no_0958.jpg', '/content/drive/MyDrive/Brain_tumor/Training/meningioma/Tr-me_0580.jpg', '/content/drive/MyDrive/Brain_tumor/Training/glioma/Tr-gl_0559.jpg', '/content/drive/MyDrive/Brain_tumor/Training/glioma/Tr-gl_0902.jpg', '/content/drive/MyDrive/Brain_tumor/Training/meningioma/Tr-me_1119.jpg', '/content/drive/MyDrive/Brain_tumor/Training/glioma/Tr-gl_0379.jpg', '/content/drive/MyDrive/Brain_tumor/Training/pituitary/Tr-pi_0320.jpg', '/content/drive/MyDrive/Brain_tumor/Training/glioma/Tr-gl_0901.jpg', '/content/drive/MyDrive/Brain_tumor/Training/notumor/Tr-no_0888.jpg', '/content/drive/MyDrive/Brain_tumor/Training/pituitary/Tr-pi_0624.jpg', '/content/drive/MyDrive/Brain_tumor/Training/notumor/Tr-no_0499.jpg', '/content/drive/MyDrive/Brain_tumor/Training/glioma/Tr-gl_0267.jpg', '/content/drive/MyDrive/Brain_tumor/Training/glioma/Tr-gl_1229.jpg', '/content/drive/MyDrive/Brain_tumor/Training/glioma/Tr-gl_0566.jpg', '/content/drive/MyDrive/Brain_tumor/Training/notumor/Tr-no_0515.jpg', '/content/drive/MyDrive/Brain_tumor/Training/glioma/Tr-gl_0803.jpg', '/content/drive/MyDrive/Brain_tumor/Training/glioma/Tr-gl_0233.jpg', '/content/drive/MyDrive/Brain_tumor/Training/glioma/Tr-gl_1054.jpg', '/content/drive/MyDrive/Brain_tumor/Training/pituitary/Tr-pi_0389.jpg', '/content/drive/MyDrive/Brain_tumor/Training/notumor/Tr-no_0635.jpg', '/content/drive/MyDrive/Brain_tumor/Training/glioma/Tr-glTr_0007.jpg', '/content/drive/MyDrive/Brain_tumor/Training/pituitary/Tr-pi_0438.jpg', '/content/drive/MyDrive/Brain_tumor/Training/glioma/Tr-gl_0731.jpg', '/content/drive/MyDrive/Brain_tumor/Training/meningioma/Tr-me_0854.jpg', '/content/drive/MyDrive/Brain_tumor/Training/glioma/Tr-gl_0421.jpg', '/content/drive/MyDrive/Brain_tumor/Training/notumor/Tr-no_0967.jpg', '/content/drive/MyDrive/Brain_tumor/Training/notumor/Tr-no_1374.jpg', '/content/drive/MyDrive/Brain_tumor/Training/pituitary/Tr-pi_0138.jpg', '/content/drive/MyDrive/Brain_tumor/Training/notumor/Tr-no_1154.jpg', '/content/drive/MyDrive/Brain_tumor/Training/notumor/Tr-no_1587.jpg', '/content/drive/MyDrive/Brain_tumor/Training/pituitary/Tr-pi_0614.jpg', '/content/drive/MyDrive/Brain_tumor/Training/pituitary/Tr-pi_0688.jpg', '/content/drive/MyDrive/Brain_tumor/Training/meningioma/Tr-me_0368.jpg', '/content/drive/MyDrive/Brain_tumor/Training/pituitary/Tr-pi_0027.jpg', '/content/drive/MyDrive/Brain_tumor/Training/pituitary/Tr-pi_0350.jpg', '/content/drive/MyDrive/Brain_tumor/Training/meningioma/Tr-me_1000.jpg', '/content/drive/MyDrive/Brain_tumor/Training/glioma/Tr-gl_0473.jpg', '/content/drive/MyDrive/Brain_tumor/Training/notumor/Tr-no_1336.jpg', '/content/drive/MyDrive/Brain_tumor/Training/notumor/Tr-noTr_0008.jpg', '/content/drive/MyDrive/Brain_tumor/Training/meningioma/Tr-me_1319.jpg', '/content/drive/MyDrive/Brain_tumor/Training/pituitary/Tr-pi_0100.jpg', '/content/drive/MyDrive/Brain_tumor/Training/pituitary/Tr-pi_1283.jpg', '/content/drive/MyDrive/Brain_tumor/Training/notumor/Tr-no_1366.jpg', '/content/drive/MyDrive/Brain_tumor/Training/pituitary/Tr-pi_0778.jpg', '/content/drive/MyDrive/Brain_tumor/Training/pituitary/Tr-pi_0485.jpg', '/content/drive/MyDrive/Brain_tumor/Training/meningioma/Tr-me_1242.jpg', '/content/drive/MyDrive/Brain_tumor/Training/pituitary/Tr-pi_0160.jpg', '/content/drive/MyDrive/Brain_tumor/Training/notumor/Tr-no_0179.jpg', '/content/drive/MyDrive/Brain_tumor/Training/meningioma/Tr-me_0753.jpg', '/content/drive/MyDrive/Brain_tumor/Training/pituitary/Tr-pi_0297.jpg', '/content/drive/MyDrive/Brain_tumor/Training/notumor/Tr-no_0773.jpg', '/content/drive/MyDrive/Brain_tumor/Training/pituitary/Tr-pi_1306.jpg', '/content/drive/MyDrive/Brain_tumor/Training/glioma/Tr-gl_0427.jpg', '/content/drive/MyDrive/Brain_tumor/Training/meningioma/Tr-me_0980.jpg', '/content/drive/MyDrive/Brain_tumor/Training/glioma/Tr-gl_0121.jpg', '/content/drive/MyDrive/Brain_tumor/Training/glioma/Tr-gl_0317.jpg', '/content/drive/MyDrive/Brain_tumor/Training/pituitary/Tr-pi_0975.jpg', '/content/drive/MyDrive/Brain_tumor/Training/notumor/Tr-no_1415.jpg', '/content/drive/MyDrive/Brain_tumor/Training/notumor/Tr-no_1104.jpg', '/content/drive/MyDrive/Brain_tumor/Training/meningioma/Tr-me_0822.jpg', '/content/drive/MyDrive/Brain_tumor/Training/glioma/Tr-gl_0658.jpg', '/content/drive/MyDrive/Brain_tumor/Training/glioma/Tr-gl_0478.jpg', '/content/drive/MyDrive/Brain_tumor/Training/pituitary/Tr-pi_0909.jpg', '/content/drive/MyDrive/Brain_tumor/Training/meningioma/Tr-me_1127.jpg', '/content/drive/MyDrive/Brain_tumor/Training/meningioma/Tr-me_1151.jpg', '/content/drive/MyDrive/Brain_tumor/Training/pituitary/Tr-pi_1275.jpg', '/content/drive/MyDrive/Brain_tumor/Training/meningioma/Tr-me_0549.jpg', '/content/drive/MyDrive/Brain_tumor/Training/notumor/Tr-no_0950.jpg', '/content/drive/MyDrive/Brain_tumor/Training/meningioma/Tr-me_0987.jpg', '/content/drive/MyDrive/Brain_tumor/Training/notumor/Tr-no_1311.jpg', '/content/drive/MyDrive/Brain_tumor/Training/meningioma/Tr-me_0120.jpg', '/content/drive/MyDrive/Brain_tumor/Training/notumor/Tr-no_0756.jpg', '/content/drive/MyDrive/Brain_tumor/Training/glioma/Tr-gl_0946.jpg', '/content/drive/MyDrive/Brain_tumor/Training/pituitary/Tr-pi_0822.jpg', '/content/drive/MyDrive/Brain_tumor/Training/meningioma/Tr-me_0625.jpg', '/content/drive/MyDrive/Brain_tumor/Training/glioma/Tr-gl_0723.jpg', '/content/drive/MyDrive/Brain_tumor/Training/notumor/Tr-no_1303.jpg', '/content/drive/MyDrive/Brain_tumor/Training/pituitary/Tr-pi_1013.jpg', '/content/drive/MyDrive/Brain_tumor/Training/notumor/Tr-no_0560.jpg', '/content/drive/MyDrive/Brain_tumor/Training/meningioma/Tr-me_0222.jpg', '/content/drive/MyDrive/Brain_tumor/Training/glioma/Tr-gl_1160.jpg', '/content/drive/MyDrive/Brain_tumor/Training/meningioma/Tr-me_0754.jpg', '/content/drive/MyDrive/Brain_tumor/Training/glioma/Tr-gl_0739.jpg', '/content/drive/MyDrive/Brain_tumor/Training/glioma/Tr-gl_0978.jpg', '/content/drive/MyDrive/Brain_tumor/Training/glioma/Tr-gl_0539.jpg', '/content/drive/MyDrive/Brain_tumor/Training/pituitary/Tr-pi_0382.jpg', '/content/drive/MyDrive/Brain_tumor/Training/glioma/Tr-gl_0281.jpg', '/content/drive/MyDrive/Brain_tumor/Training/meningioma/Tr-me_0820.jpg', '/content/drive/MyDrive/Brain_tumor/Training/pituitary/Tr-pi_1063.jpg', '/content/drive/MyDrive/Brain_tumor/Training/meningioma/Tr-me_0159.jpg', '/content/drive/MyDrive/Brain_tumor/Training/notumor/Tr-no_1379.jpg', '/content/drive/MyDrive/Brain_tumor/Training/notumor/Tr-no_0675.jpg', '/content/drive/MyDrive/Brain_tumor/Training/notumor/Tr-no_0762.jpg', '/content/drive/MyDrive/Brain_tumor/Training/notumor/Tr-no_0634.jpg', '/content/drive/MyDrive/Brain_tumor/Training/pituitary/Tr-pi_1411.jpg', '/content/drive/MyDrive/Brain_tumor/Training/pituitary/Tr-pi_1430.jpg', '/content/drive/MyDrive/Brain_tumor/Training/pituitary/Tr-pi_1424.jpg', '/content/drive/MyDrive/Brain_tumor/Training/pituitary/Tr-pi_0776.jpg', '/content/drive/MyDrive/Brain_tumor/Training/pituitary/Tr-pi_1178.jpg', '/content/drive/MyDrive/Brain_tumor/Training/meningioma/Tr-me_0432.jpg', '/content/drive/MyDrive/Brain_tumor/Training/notumor/Tr-no_0763.jpg', '/content/drive/MyDrive/Brain_tumor/Training/pituitary/Tr-pi_0071.jpg', '/content/drive/MyDrive/Brain_tumor/Training/glioma/Tr-gl_0923.jpg', '/content/drive/MyDrive/Brain_tumor/Training/notumor/Tr-no_0276.jpg', '/content/drive/MyDrive/Brain_tumor/Training/meningioma/Tr-me_1304.jpg', '/content/drive/MyDrive/Brain_tumor/Training/meningioma/Tr-me_0676.jpg', '/content/drive/MyDrive/Brain_tumor/Training/notumor/Tr-no_0708.jpg', '/content/drive/MyDrive/Brain_tumor/Training/notumor/Tr-no_0857.jpg', '/content/drive/MyDrive/Brain_tumor/Training/pituitary/Tr-pi_1140.jpg', '/content/drive/MyDrive/Brain_tumor/Training/glioma/Tr-gl_0781.jpg', '/content/drive/MyDrive/Brain_tumor/Training/notumor/Tr-no_0876.jpg', '/content/drive/MyDrive/Brain_tumor/Training/glioma/Tr-gl_0811.jpg', '/content/drive/MyDrive/Brain_tumor/Training/meningioma/Tr-me_1060.jpg', '/content/drive/MyDrive/Brain_tumor/Training/pituitary/Tr-pi_1037.jpg', '/content/drive/MyDrive/Brain_tumor/Training/notumor/Tr-no_1295.jpg', '/content/drive/MyDrive/Brain_tumor/Training/glioma/Tr-gl_0277.jpg', '/content/drive/MyDrive/Brain_tumor/Training/pituitary/Tr-pi_1232.jpg', '/content/drive/MyDrive/Brain_tumor/Training/notumor/Tr-no_0817.jpg', '/content/drive/MyDrive/Brain_tumor/Training/meningioma/Tr-me_0121.jpg', '/content/drive/MyDrive/Brain_tumor/Training/glioma/Tr-gl_1181.jpg', '/content/drive/MyDrive/Brain_tumor/Training/meningioma/Tr-me_0135.jpg', '/content/drive/MyDrive/Brain_tumor/Training/glioma/Tr-gl_1177.jpg', '/content/drive/MyDrive/Brain_tumor/Training/pituitary/Tr-pi_1138.jpg', '/content/drive/MyDrive/Brain_tumor/Training/notumor/Tr-no_0013.jpg', '/content/drive/MyDrive/Brain_tumor/Training/notumor/Tr-no_0277.jpg', '/content/drive/MyDrive/Brain_tumor/Training/notumor/Tr-no_0556.jpg', '/content/drive/MyDrive/Brain_tumor/Training/notumor/Tr-no_0038.jpg', '/content/drive/MyDrive/Brain_tumor/Training/notumor/Tr-no_0392.jpg', '/content/drive/MyDrive/Brain_tumor/Training/pituitary/Tr-pi_0523.jpg', '/content/drive/MyDrive/Brain_tumor/Training/notumor/Tr-no_0555.jpg', '/content/drive/MyDrive/Brain_tumor/Training/notumor/Tr-no_1024.jpg', '/content/drive/MyDrive/Brain_tumor/Training/notumor/Tr-no_1120.jpg', '/content/drive/MyDrive/Brain_tumor/Training/notumor/Tr-no_0404.jpg', '/content/drive/MyDrive/Brain_tumor/Training/notumor/Tr-no_1268.jpg', '/content/drive/MyDrive/Brain_tumor/Training/glioma/Tr-gl_0762.jpg', '/content/drive/MyDrive/Brain_tumor/Training/meningioma/Tr-me_1051.jpg', '/content/drive/MyDrive/Brain_tumor/Training/pituitary/Tr-pi_1262.jpg', '/content/drive/MyDrive/Brain_tumor/Training/pituitary/Tr-pi_0928.jpg', '/content/drive/MyDrive/Brain_tumor/Training/notumor/Tr-no_0362.jpg', '/content/drive/MyDrive/Brain_tumor/Training/meningioma/Tr-me_0743.jpg', '/content/drive/MyDrive/Brain_tumor/Training/meningioma/Tr-me_0810.jpg', '/content/drive/MyDrive/Brain_tumor/Training/meningioma/Tr-me_1256.jpg', '/content/drive/MyDrive/Brain_tumor/Training/notumor/Tr-no_0812.jpg', '/content/drive/MyDrive/Brain_tumor/Training/notumor/Tr-no_0405.jpg', '/content/drive/MyDrive/Brain_tumor/Training/pituitary/Tr-pi_0291.jpg', '/content/drive/MyDrive/Brain_tumor/Training/pituitary/Tr-pi_1162.jpg', '/content/drive/MyDrive/Brain_tumor/Training/meningioma/Tr-me_0205.jpg', '/content/drive/MyDrive/Brain_tumor/Training/pituitary/Tr-pi_0075.jpg', '/content/drive/MyDrive/Brain_tumor/Training/pituitary/Tr-pi_0316.jpg', '/content/drive/MyDrive/Brain_tumor/Training/pituitary/Tr-pi_0312.jpg', '/content/drive/MyDrive/Brain_tumor/Training/meningioma/Tr-me_0495.jpg', '/content/drive/MyDrive/Brain_tumor/Training/pituitary/Tr-pi_0953.jpg', '/content/drive/MyDrive/Brain_tumor/Training/meningioma/Tr-me_0158.jpg', '/content/drive/MyDrive/Brain_tumor/Training/pituitary/Tr-pi_1006.jpg', '/content/drive/MyDrive/Brain_tumor/Training/meningioma/Tr-me_0735.jpg', '/content/drive/MyDrive/Brain_tumor/Training/notumor/Tr-no_0032.jpg', '/content/drive/MyDrive/Brain_tumor/Training/glioma/Tr-gl_0496.jpg', '/content/drive/MyDrive/Brain_tumor/Training/notumor/Tr-no_1357.jpg', '/content/drive/MyDrive/Brain_tumor/Training/notumor/Tr-no_1127.jpg', '/content/drive/MyDrive/Brain_tumor/Training/notumor/Tr-no_0339.jpg', '/content/drive/MyDrive/Brain_tumor/Training/meningioma/Tr-me_0728.jpg', '/content/drive/MyDrive/Brain_tumor/Training/pituitary/Tr-pi_1223.jpg', '/content/drive/MyDrive/Brain_tumor/Training/meningioma/Tr-me_0548.jpg', '/content/drive/MyDrive/Brain_tumor/Training/notumor/Tr-no_0921.jpg', '/content/drive/MyDrive/Brain_tumor/Training/glioma/Tr-gl_0728.jpg', '/content/drive/MyDrive/Brain_tumor/Training/glioma/Tr-gl_0175.jpg', '/content/drive/MyDrive/Brain_tumor/Training/glioma/Tr-glTr_0004.jpg', '/content/drive/MyDrive/Brain_tumor/Training/pituitary/Tr-pi_1225.jpg', '/content/drive/MyDrive/Brain_tumor/Training/notumor/Tr-no_0901.jpg', '/content/drive/MyDrive/Brain_tumor/Training/notumor/Tr-no_0143 (1).jpg', '/content/drive/MyDrive/Brain_tumor/Training/glioma/Tr-gl_0868.jpg', '/content/drive/MyDrive/Brain_tumor/Training/pituitary/Tr-pi_0823.jpg', '/content/drive/MyDrive/Brain_tumor/Training/meningioma/Tr-me_0494.jpg', '/content/drive/MyDrive/Brain_tumor/Training/glioma/Tr-gl_0773.jpg', '/content/drive/MyDrive/Brain_tumor/Training/glioma/Tr-gl_0330.jpg', '/content/drive/MyDrive/Brain_tumor/Training/pituitary/Tr-pi_1147.jpg', '/content/drive/MyDrive/Brain_tumor/Training/notumor/Tr-no_1486.jpg', '/content/drive/MyDrive/Brain_tumor/Training/pituitary/Tr-pi_1214.jpg', '/content/drive/MyDrive/Brain_tumor/Training/pituitary/Tr-pi_0703.jpg', '/content/drive/MyDrive/Brain_tumor/Training/meningioma/Tr-me_1220.jpg', '/content/drive/MyDrive/Brain_tumor/Training/meningioma/Tr-me_0193.jpg', '/content/drive/MyDrive/Brain_tumor/Training/meningioma/Tr-me_0237.jpg', '/content/drive/MyDrive/Brain_tumor/Training/glioma/Tr-gl_1289.jpg', '/content/drive/MyDrive/Brain_tumor/Training/meningioma/Tr-me_1153.jpg', '/content/drive/MyDrive/Brain_tumor/Training/meningioma/Tr-me_1305.jpg', '/content/drive/MyDrive/Brain_tumor/Training/pituitary/Tr-pi_1113.jpg', '/content/drive/MyDrive/Brain_tumor/Training/notumor/Tr-no_1025.jpg', '/content/drive/MyDrive/Brain_tumor/Training/meningioma/Tr-me_0570.jpg', '/content/drive/MyDrive/Brain_tumor/Training/pituitary/Tr-pi_0502.jpg', '/content/drive/MyDrive/Brain_tumor/Training/meningioma/Tr-me_1132.jpg', '/content/drive/MyDrive/Brain_tumor/Training/pituitary/Tr-pi_0637.jpg', '/content/drive/MyDrive/Brain_tumor/Training/pituitary/Tr-pi_1263.jpg', '/content/drive/MyDrive/Brain_tumor/Training/pituitary/Tr-pi_0587.jpg', '/content/drive/MyDrive/Brain_tumor/Training/pituitary/Tr-pi_0887.jpg', '/content/drive/MyDrive/Brain_tumor/Training/meningioma/Tr-me_0232.jpg', '/content/drive/MyDrive/Brain_tumor/Training/meningioma/Tr-me_0659.jpg', '/content/drive/MyDrive/Brain_tumor/Training/glioma/Tr-gl_0405.jpg', '/content/drive/MyDrive/Brain_tumor/Training/glioma/Tr-gl_0682.jpg', '/content/drive/MyDrive/Brain_tumor/Training/meningioma/Tr-me_0503.jpg', '/content/drive/MyDrive/Brain_tumor/Training/pituitary/Tr-pi_1265.jpg', '/content/drive/MyDrive/Brain_tumor/Training/pituitary/Tr-pi_1076.jpg', '/content/drive/MyDrive/Brain_tumor/Training/meningioma/Tr-me_1028.jpg', '/content/drive/MyDrive/Brain_tumor/Training/meningioma/Tr-me_0536.jpg', '/content/drive/MyDrive/Brain_tumor/Training/notumor/Tr-no_0310.jpg', '/content/drive/MyDrive/Brain_tumor/Training/notumor/Tr-no_0483.jpg', '/content/drive/MyDrive/Brain_tumor/Training/meningioma/Tr-me_1193.jpg', '/content/drive/MyDrive/Brain_tumor/Training/glioma/Tr-gl_0603.jpg', '/content/drive/MyDrive/Brain_tumor/Training/pituitary/Tr-pi_1313.jpg', '/content/drive/MyDrive/Brain_tumor/Training/notumor/Tr-no_0704.jpg', '/content/drive/MyDrive/Brain_tumor/Training/meningioma/Tr-me_0511.jpg', '/content/drive/MyDrive/Brain_tumor/Training/pituitary/Tr-pi_0758.jpg', '/content/drive/MyDrive/Brain_tumor/Training/meningioma/Tr-me_1010.jpg', '/content/drive/MyDrive/Brain_tumor/Training/meningioma/Tr-me_1143.jpg', '/content/drive/MyDrive/Brain_tumor/Training/glioma/Tr-gl_1048.jpg', '/content/drive/MyDrive/Brain_tumor/Training/notumor/Tr-no_0619.jpg', '/content/drive/MyDrive/Brain_tumor/Training/glioma/Tr-gl_0579.jpg', '/content/drive/MyDrive/Brain_tumor/Training/pituitary/Tr-pi_1300.jpg', '/content/drive/MyDrive/Brain_tumor/Training/pituitary/Tr-pi_0938.jpg', '/content/drive/MyDrive/Brain_tumor/Training/meningioma/Tr-me_0595.jpg', '/content/drive/MyDrive/Brain_tumor/Training/glioma/Tr-gl_0215.jpg', '/content/drive/MyDrive/Brain_tumor/Training/meningioma/Tr-me_0199.jpg', '/content/drive/MyDrive/Brain_tumor/Training/meningioma/Tr-me_0937.jpg', '/content/drive/MyDrive/Brain_tumor/Training/pituitary/Tr-pi_1121.jpg', '/content/drive/MyDrive/Brain_tumor/Training/notumor/Tr-no_0828.jpg', '/content/drive/MyDrive/Brain_tumor/Training/glioma/Tr-gl_0771.jpg', '/content/drive/MyDrive/Brain_tumor/Training/meningioma/Tr-me_0933.jpg', '/content/drive/MyDrive/Brain_tumor/Training/pituitary/Tr-pi_0157.jpg', '/content/drive/MyDrive/Brain_tumor/Training/meningioma/Tr-me_0899.jpg', '/content/drive/MyDrive/Brain_tumor/Training/notumor/Tr-no_1121.jpg', '/content/drive/MyDrive/Brain_tumor/Training/meningioma/Tr-me_0629.jpg', '/content/drive/MyDrive/Brain_tumor/Training/notumor/Tr-no_1042.jpg', '/content/drive/MyDrive/Brain_tumor/Training/meningioma/Tr-me_1013.jpg', '/content/drive/MyDrive/Brain_tumor/Training/notumor/Tr-no_0385.jpg', '/content/drive/MyDrive/Brain_tumor/Training/glioma/Tr-gl_1121.jpg', '/content/drive/MyDrive/Brain_tumor/Training/pituitary/Tr-pi_0662.jpg', '/content/drive/MyDrive/Brain_tumor/Training/meningioma/Tr-me_1012.jpg', '/content/drive/MyDrive/Brain_tumor/Training/meningioma/Tr-me_1147.jpg', '/content/drive/MyDrive/Brain_tumor/Training/glioma/Tr-gl_0211.jpg', '/content/drive/MyDrive/Brain_tumor/Training/meningioma/Tr-me_0094.jpg', '/content/drive/MyDrive/Brain_tumor/Training/glioma/Tr-gl_1138.jpg', '/content/drive/MyDrive/Brain_tumor/Training/notumor/Tr-no_0551.jpg', '/content/drive/MyDrive/Brain_tumor/Training/glioma/Tr-gl_0259.jpg', '/content/drive/MyDrive/Brain_tumor/Training/meningioma/Tr-me_0870.jpg', '/content/drive/MyDrive/Brain_tumor/Training/notumor/Tr-no_0471.jpg', '/content/drive/MyDrive/Brain_tumor/Training/notumor/Tr-no_0955.jpg', '/content/drive/MyDrive/Brain_tumor/Training/pituitary/Tr-pi_0627.jpg', '/content/drive/MyDrive/Brain_tumor/Training/glioma/Tr-gl_1027.jpg', '/content/drive/MyDrive/Brain_tumor/Training/pituitary/Tr-pi_0653.jpg', '/content/drive/MyDrive/Brain_tumor/Training/notumor/Tr-no_1239.jpg', '/content/drive/MyDrive/Brain_tumor/Training/notumor/Tr-no_1347.jpg', '/content/drive/MyDrive/Brain_tumor/Training/pituitary/Tr-pi_0470.jpg', '/content/drive/MyDrive/Brain_tumor/Training/notumor/Tr-no_1356.jpg', '/content/drive/MyDrive/Brain_tumor/Training/meningioma/Tr-me_1030.jpg', '/content/drive/MyDrive/Brain_tumor/Training/notumor/Tr-no_1448.jpg', '/content/drive/MyDrive/Brain_tumor/Training/glioma/Tr-gl_0145.jpg', '/content/drive/MyDrive/Brain_tumor/Training/notumor/Tr-no_1254.jpg', '/content/drive/MyDrive/Brain_tumor/Training/glioma/Tr-gl_0316.jpg', '/content/drive/MyDrive/Brain_tumor/Training/meningioma/Tr-me_0157.jpg', '/content/drive/MyDrive/Brain_tumor/Training/notumor/Tr-no_0450.jpg', '/content/drive/MyDrive/Brain_tumor/Training/notumor/Tr-no_1577.jpg', '/content/drive/MyDrive/Brain_tumor/Training/notumor/Tr-no_0429.jpg', '/content/drive/MyDrive/Brain_tumor/Training/notumor/Tr-no_0439.jpg', '/content/drive/MyDrive/Brain_tumor/Training/meningioma/Tr-me_1204.jpg', '/content/drive/MyDrive/Brain_tumor/Training/pituitary/Tr-pi_0815.jpg', '/content/drive/MyDrive/Brain_tumor/Training/meningioma/Tr-me_1300.jpg', '/content/drive/MyDrive/Brain_tumor/Training/meningioma/Tr-me_0487.jpg', '/content/drive/MyDrive/Brain_tumor/Training/pituitary/Tr-pi_0770.jpg', '/content/drive/MyDrive/Brain_tumor/Training/glioma/Tr-gl_0735.jpg', '/content/drive/MyDrive/Brain_tumor/Training/meningioma/Tr-me_0882.jpg', '/content/drive/MyDrive/Brain_tumor/Training/glioma/Tr-gl_0824.jpg', '/content/drive/MyDrive/Brain_tumor/Training/glioma/Tr-gl_1262.jpg', '/content/drive/MyDrive/Brain_tumor/Training/meningioma/Tr-me_0855.jpg', '/content/drive/MyDrive/Brain_tumor/Training/pituitary/Tr-pi_0499.jpg', '/content/drive/MyDrive/Brain_tumor/Training/glioma/Tr-gl_0628.jpg', '/content/drive/MyDrive/Brain_tumor/Training/glioma/Tr-gl_0990.jpg', '/content/drive/MyDrive/Brain_tumor/Training/notumor/Tr-no_0625.jpg', '/content/drive/MyDrive/Brain_tumor/Training/pituitary/Tr-pi_1168.jpg', '/content/drive/MyDrive/Brain_tumor/Training/notumor/Tr-no_0406.jpg', '/content/drive/MyDrive/Brain_tumor/Training/pituitary/Tr-pi_0989.jpg', '/content/drive/MyDrive/Brain_tumor/Training/pituitary/Tr-pi_0348.jpg', '/content/drive/MyDrive/Brain_tumor/Training/glioma/Tr-gl_0768.jpg', '/content/drive/MyDrive/Brain_tumor/Training/meningioma/Tr-me_0834.jpg', '/content/drive/MyDrive/Brain_tumor/Training/glioma/Tr-gl_0777.jpg', '/content/drive/MyDrive/Brain_tumor/Training/meningioma/Tr-meTr_0005.jpg', '/content/drive/MyDrive/Brain_tumor/Training/notumor/Tr-no_1142.jpg', '/content/drive/MyDrive/Brain_tumor/Training/meningioma/Tr-me_1295.jpg', '/content/drive/MyDrive/Brain_tumor/Training/meningioma/Tr-me_0666.jpg', '/content/drive/MyDrive/Brain_tumor/Training/meningioma/Tr-me_0665.jpg', '/content/drive/MyDrive/Brain_tumor/Training/notumor/Tr-no_0588.jpg', '/content/drive/MyDrive/Brain_tumor/Training/notumor/Tr-no_1193.jpg', '/content/drive/MyDrive/Brain_tumor/Training/notumor/Tr-no_0890.jpg', '/content/drive/MyDrive/Brain_tumor/Training/notumor/Tr-no_1119.jpg', '/content/drive/MyDrive/Brain_tumor/Training/glioma/Tr-gl_0829.jpg', '/content/drive/MyDrive/Brain_tumor/Training/notumor/Tr-no_0790.jpg', '/content/drive/MyDrive/Brain_tumor/Training/pituitary/Tr-pi_1387.jpg', '/content/drive/MyDrive/Brain_tumor/Training/notumor/Tr-no_1036.jpg', '/content/drive/MyDrive/Brain_tumor/Training/pituitary/Tr-pi_0854.jpg', '/content/drive/MyDrive/Brain_tumor/Training/notumor/Tr-no_1207.jpg', '/content/drive/MyDrive/Brain_tumor/Training/notumor/Tr-no_0448.jpg', '/content/drive/MyDrive/Brain_tumor/Training/pituitary/Tr-pi_1088.jpg', '/content/drive/MyDrive/Brain_tumor/Training/glioma/Tr-gl_0196.jpg', '/content/drive/MyDrive/Brain_tumor/Training/pituitary/Tr-pi_0503.jpg', '/content/drive/MyDrive/Brain_tumor/Training/notumor/Tr-no_0847.jpg', '/content/drive/MyDrive/Brain_tumor/Training/glioma/Tr-gl_0935.jpg', '/content/drive/MyDrive/Brain_tumor/Training/pituitary/Tr-pi_1167.jpg', '/content/drive/MyDrive/Brain_tumor/Training/glioma/Tr-gl_1267.jpg', '/content/drive/MyDrive/Brain_tumor/Training/meningioma/Tr-me_1067.jpg', '/content/drive/MyDrive/Brain_tumor/Training/pituitary/Tr-pi_1242.jpg', '/content/drive/MyDrive/Brain_tumor/Training/pituitary/Tr-pi_0328.jpg', '/content/drive/MyDrive/Brain_tumor/Training/notumor/Tr-no_1499.jpg', '/content/drive/MyDrive/Brain_tumor/Training/pituitary/Tr-pi_0195.jpg', '/content/drive/MyDrive/Brain_tumor/Training/notumor/Tr-no_0697.jpg', '/content/drive/MyDrive/Brain_tumor/Training/pituitary/Tr-pi_1210.jpg', '/content/drive/MyDrive/Brain_tumor/Training/glioma/Tr-gl_0471.jpg', '/content/drive/MyDrive/Brain_tumor/Training/pituitary/Tr-pi_0625.jpg', '/content/drive/MyDrive/Brain_tumor/Training/notumor/Tr-no_0960.jpg', '/content/drive/MyDrive/Brain_tumor/Training/glioma/Tr-gl_0757.jpg', '/content/drive/MyDrive/Brain_tumor/Training/pituitary/Tr-pi_0759.jpg', '/content/drive/MyDrive/Brain_tumor/Training/notumor/Tr-no_1592.jpg', '/content/drive/MyDrive/Brain_tumor/Training/notumor/Tr-no_1560.jpg', '/content/drive/MyDrive/Brain_tumor/Training/pituitary/Tr-pi_0436.jpg', '/content/drive/MyDrive/Brain_tumor/Training/glioma/Tr-gl_0883.jpg', '/content/drive/MyDrive/Brain_tumor/Training/meningioma/Tr-me_0709.jpg', '/content/drive/MyDrive/Brain_tumor/Training/notumor/Tr-no_0657.jpg', '/content/drive/MyDrive/Brain_tumor/Training/glioma/Tr-gl_0877.jpg', '/content/drive/MyDrive/Brain_tumor/Training/glioma/Tr-gl_0325.jpg', '/content/drive/MyDrive/Brain_tumor/Training/meningioma/Tr-me_1247.jpg', '/content/drive/MyDrive/Brain_tumor/Training/notumor/Tr-no_1527.jpg', '/content/drive/MyDrive/Brain_tumor/Training/notumor/Tr-no_0982.jpg', '/content/drive/MyDrive/Brain_tumor/Training/meningioma/Tr-me_1096.jpg', '/content/drive/MyDrive/Brain_tumor/Training/pituitary/Tr-pi_1165.jpg', '/content/drive/MyDrive/Brain_tumor/Training/glioma/Tr-gl_0075.jpg', '/content/drive/MyDrive/Brain_tumor/Training/pituitary/Tr-pi_0623.jpg', '/content/drive/MyDrive/Brain_tumor/Training/glioma/Tr-gl_0491.jpg', '/content/drive/MyDrive/Brain_tumor/Training/notumor/Tr-no_0811.jpg', '/content/drive/MyDrive/Brain_tumor/Training/notumor/Tr-no_1530.jpg', '/content/drive/MyDrive/Brain_tumor/Training/notumor/Tr-no_0761.jpg', '/content/drive/MyDrive/Brain_tumor/Training/meningioma/Tr-me_0430.jpg', '/content/drive/MyDrive/Brain_tumor/Training/notumor/Tr-no_0732.jpg', '/content/drive/MyDrive/Brain_tumor/Training/meningioma/Tr-me_0945.jpg', '/content/drive/MyDrive/Brain_tumor/Training/glioma/Tr-gl_0613.jpg', '/content/drive/MyDrive/Brain_tumor/Training/notumor/Tr-no_1343.jpg', '/content/drive/MyDrive/Brain_tumor/Training/meningioma/Tr-me_1121.jpg', '/content/drive/MyDrive/Brain_tumor/Training/notumor/Tr-no_0678.jpg', '/content/drive/MyDrive/Brain_tumor/Training/glioma/Tr-gl_0963.jpg', '/content/drive/MyDrive/Brain_tumor/Training/pituitary/Tr-pi_1151.jpg', '/content/drive/MyDrive/Brain_tumor/Training/pituitary/Tr-pi_0181.jpg', '/content/drive/MyDrive/Brain_tumor/Training/notumor/Tr-no_0578.jpg', '/content/drive/MyDrive/Brain_tumor/Training/notumor/Tr-no_0796.jpg', '/content/drive/MyDrive/Brain_tumor/Training/glioma/Tr-gl_0514.jpg', '/content/drive/MyDrive/Brain_tumor/Training/meningioma/Tr-me_0307.jpg', '/content/drive/MyDrive/Brain_tumor/Training/meningioma/Tr-me_0072.jpg', '/content/drive/MyDrive/Brain_tumor/Training/pituitary/Tr-pi_0545.jpg', '/content/drive/MyDrive/Brain_tumor/Training/meningioma/Tr-me_1065.jpg', '/content/drive/MyDrive/Brain_tumor/Training/glioma/Tr-gl_1130.jpg', '/content/drive/MyDrive/Brain_tumor/Training/notumor/Tr-no_0042.jpg', '/content/drive/MyDrive/Brain_tumor/Training/meningioma/Tr-me_1146.jpg', '/content/drive/MyDrive/Brain_tumor/Training/notumor/Tr-no_0781.jpg', '/content/drive/MyDrive/Brain_tumor/Training/pituitary/Tr-pi_0121.jpg', '/content/drive/MyDrive/Brain_tumor/Training/notumor/Tr-no_1094.jpg', '/content/drive/MyDrive/Brain_tumor/Training/notumor/Tr-no_1383.jpg', '/content/drive/MyDrive/Brain_tumor/Training/notumor/Tr-no_0279.jpg', '/content/drive/MyDrive/Brain_tumor/Training/notumor/Tr-no_0758.jpg', '/content/drive/MyDrive/Brain_tumor/Training/meningioma/Tr-me_0878.jpg', '/content/drive/MyDrive/Brain_tumor/Training/pituitary/Tr-pi_1052.jpg', '/content/drive/MyDrive/Brain_tumor/Training/meningioma/Tr-me_1235.jpg', '/content/drive/MyDrive/Brain_tumor/Training/meningioma/Tr-me_0897.jpg', '/content/drive/MyDrive/Brain_tumor/Training/pituitary/Tr-pi_1222.jpg', '/content/drive/MyDrive/Brain_tumor/Training/notumor/Tr-no_0016.jpg', '/content/drive/MyDrive/Brain_tumor/Training/glioma/Tr-gl_0668.jpg', '/content/drive/MyDrive/Brain_tumor/Training/notumor/Tr-no_0504.jpg', '/content/drive/MyDrive/Brain_tumor/Training/notumor/Tr-no_0898.jpg', '/content/drive/MyDrive/Brain_tumor/Training/pituitary/Tr-pi_0196.jpg', '/content/drive/MyDrive/Brain_tumor/Training/notumor/Tr-no_1087.jpg', '/content/drive/MyDrive/Brain_tumor/Training/glioma/Tr-gl_1187.jpg', '/content/drive/MyDrive/Brain_tumor/Training/notumor/Tr-no_0919.jpg', '/content/drive/MyDrive/Brain_tumor/Training/notumor/Tr-no_1315.jpg', '/content/drive/MyDrive/Brain_tumor/Training/glioma/Tr-gl_0979.jpg', '/content/drive/MyDrive/Brain_tumor/Training/glioma/Tr-gl_0720.jpg', '/content/drive/MyDrive/Brain_tumor/Training/notumor/Tr-no_0365.jpg', '/content/drive/MyDrive/Brain_tumor/Training/pituitary/Tr-pi_0357.jpg', '/content/drive/MyDrive/Brain_tumor/Training/glioma/Tr-gl_1055.jpg', '/content/drive/MyDrive/Brain_tumor/Training/notumor/Tr-no_1412.jpg', '/content/drive/MyDrive/Brain_tumor/Training/notumor/Tr-no_0010.jpg', '/content/drive/MyDrive/Brain_tumor/Training/glioma/Tr-gl_0970.jpg', '/content/drive/MyDrive/Brain_tumor/Training/glioma/Tr-gl_0534.jpg', '/content/drive/MyDrive/Brain_tumor/Training/glioma/Tr-gl_0596.jpg', '/content/drive/MyDrive/Brain_tumor/Training/notumor/Tr-no_1000.jpg', '/content/drive/MyDrive/Brain_tumor/Training/pituitary/Tr-pi_1236.jpg', '/content/drive/MyDrive/Brain_tumor/Training/meningioma/Tr-me_0398.jpg', '/content/drive/MyDrive/Brain_tumor/Training/notumor/Tr-no_0455.jpg', '/content/drive/MyDrive/Brain_tumor/Training/notumor/Tr-no_0851.jpg', '/content/drive/MyDrive/Brain_tumor/Training/meningioma/Tr-me_1216.jpg', '/content/drive/MyDrive/Brain_tumor/Training/pituitary/Tr-pi_1057.jpg', '/content/drive/MyDrive/Brain_tumor/Training/glioma/Tr-gl_1041.jpg', '/content/drive/MyDrive/Brain_tumor/Training/pituitary/Tr-pi_0465.jpg', '/content/drive/MyDrive/Brain_tumor/Training/notumor/Tr-no_0307.jpg', '/content/drive/MyDrive/Brain_tumor/Training/notumor/Tr-no_1287.jpg', '/content/drive/MyDrive/Brain_tumor/Training/notumor/Tr-no_0121.jpg', '/content/drive/MyDrive/Brain_tumor/Training/pituitary/Tr-pi_0109.jpg', '/content/drive/MyDrive/Brain_tumor/Training/notumor/Tr-no_0691.jpg', '/content/drive/MyDrive/Brain_tumor/Training/glioma/Tr-gl_0023.jpg', '/content/drive/MyDrive/Brain_tumor/Training/notumor/Tr-no_0022.jpg', '/content/drive/MyDrive/Brain_tumor/Training/notumor/Tr-no_1171.jpg', '/content/drive/MyDrive/Brain_tumor/Training/pituitary/Tr-pi_0532.jpg', '/content/drive/MyDrive/Brain_tumor/Training/meningioma/Tr-me_0967.jpg', '/content/drive/MyDrive/Brain_tumor/Training/notumor/Tr-no_0210.jpg', '/content/drive/MyDrive/Brain_tumor/Training/pituitary/Tr-pi_0963.jpg', '/content/drive/MyDrive/Brain_tumor/Training/pituitary/Tr-pi_0057.jpg', '/content/drive/MyDrive/Brain_tumor/Training/notumor/Tr-no_1534.jpg', '/content/drive/MyDrive/Brain_tumor/Training/meningioma/Tr-me_1266.jpg', '/content/drive/MyDrive/Brain_tumor/Training/pituitary/Tr-pi_1200.jpg', '/content/drive/MyDrive/Brain_tumor/Training/glioma/Tr-gl_1018.jpg', '/content/drive/MyDrive/Brain_tumor/Training/notumor/Tr-no_1572.jpg', '/content/drive/MyDrive/Brain_tumor/Training/glioma/Tr-gl_1075.jpg', '/content/drive/MyDrive/Brain_tumor/Training/meningioma/Tr-me_0740.jpg', '/content/drive/MyDrive/Brain_tumor/Training/glioma/Tr-gl_0397.jpg', '/content/drive/MyDrive/Brain_tumor/Training/notumor/Tr-no_1014.jpg', '/content/drive/MyDrive/Brain_tumor/Training/notumor/Tr-no_0902.jpg', '/content/drive/MyDrive/Brain_tumor/Training/meningioma/Tr-me_0780.jpg', '/content/drive/MyDrive/Brain_tumor/Training/pituitary/Tr-pi_0550.jpg', '/content/drive/MyDrive/Brain_tumor/Training/glioma/Tr-glTr_0009.jpg', '/content/drive/MyDrive/Brain_tumor/Training/notumor/Tr-no_0464.jpg', '/content/drive/MyDrive/Brain_tumor/Training/pituitary/Tr-pi_0857.jpg', '/content/drive/MyDrive/Brain_tumor/Training/pituitary/Tr-pi_0174.jpg', '/content/drive/MyDrive/Brain_tumor/Training/notumor/Tr-no_1238.jpg', '/content/drive/MyDrive/Brain_tumor/Training/notumor/Tr-no_0451.jpg', '/content/drive/MyDrive/Brain_tumor/Training/meningioma/Tr-me_1308.jpg', '/content/drive/MyDrive/Brain_tumor/Training/pituitary/Tr-pi_1129.jpg', '/content/drive/MyDrive/Brain_tumor/Training/meningioma/Tr-me_0125.jpg', '/content/drive/MyDrive/Brain_tumor/Training/meningioma/Tr-me_0522.jpg', '/content/drive/MyDrive/Brain_tumor/Training/pituitary/Tr-pi_1030.jpg', '/content/drive/MyDrive/Brain_tumor/Training/meningioma/Tr-me_0584.jpg', '/content/drive/MyDrive/Brain_tumor/Training/pituitary/Tr-pi_0029.jpg', '/content/drive/MyDrive/Brain_tumor/Training/pituitary/Tr-pi_1422.jpg', '/content/drive/MyDrive/Brain_tumor/Training/notumor/Tr-no_0870.jpg', '/content/drive/MyDrive/Brain_tumor/Training/meningioma/Tr-me_0461.jpg', '/content/drive/MyDrive/Brain_tumor/Training/notumor/Tr-no_0501.jpg', '/content/drive/MyDrive/Brain_tumor/Training/meningioma/Tr-me_0927.jpg', '/content/drive/MyDrive/Brain_tumor/Training/pituitary/Tr-pi_1125.jpg', '/content/drive/MyDrive/Brain_tumor/Training/meningioma/Tr-me_1202.jpg', '/content/drive/MyDrive/Brain_tumor/Training/notumor/Tr-no_0399.jpg', '/content/drive/MyDrive/Brain_tumor/Training/meningioma/Tr-me_0833.jpg', '/content/drive/MyDrive/Brain_tumor/Training/meningioma/Tr-meTr_0002.jpg', '/content/drive/MyDrive/Brain_tumor/Training/notumor/Tr-no_0035.jpg', '/content/drive/MyDrive/Brain_tumor/Training/notumor/Tr-no_1588.jpg', '/content/drive/MyDrive/Brain_tumor/Training/pituitary/Tr-pi_0671.jpg', '/content/drive/MyDrive/Brain_tumor/Training/meningioma/Tr-me_1061.jpg', '/content/drive/MyDrive/Brain_tumor/Training/notumor/Tr-no_1243.jpg', '/content/drive/MyDrive/Brain_tumor/Training/pituitary/Tr-pi_1149.jpg', '/content/drive/MyDrive/Brain_tumor/Training/notumor/Tr-no_0747.jpg', '/content/drive/MyDrive/Brain_tumor/Training/notumor/Tr-no_0494.jpg', '/content/drive/MyDrive/Brain_tumor/Training/pituitary/Tr-pi_1436.jpg', '/content/drive/MyDrive/Brain_tumor/Training/glioma/Tr-gl_0784.jpg', '/content/drive/MyDrive/Brain_tumor/Training/pituitary/Tr-pi_0338.jpg', '/content/drive/MyDrive/Brain_tumor/Training/meningioma/Tr-me_0771.jpg', '/content/drive/MyDrive/Brain_tumor/Training/notumor/Tr-no_0148.jpg', '/content/drive/MyDrive/Brain_tumor/Training/notumor/Tr-no_1582.jpg', '/content/drive/MyDrive/Brain_tumor/Training/meningioma/Tr-me_1181.jpg', '/content/drive/MyDrive/Brain_tumor/Training/meningioma/Tr-me_0685.jpg', '/content/drive/MyDrive/Brain_tumor/Training/notumor/Tr-no_1521.jpg', '/content/drive/MyDrive/Brain_tumor/Training/glioma/Tr-gl_0814.jpg', '/content/drive/MyDrive/Brain_tumor/Training/meningioma/Tr-me_0895.jpg', '/content/drive/MyDrive/Brain_tumor/Training/meningioma/Tr-me_1170.jpg', '/content/drive/MyDrive/Brain_tumor/Training/notumor/Tr-no_0945.jpg', '/content/drive/MyDrive/Brain_tumor/Training/glioma/Tr-gl_1135.jpg', '/content/drive/MyDrive/Brain_tumor/Training/meningioma/Tr-me_0565.jpg', '/content/drive/MyDrive/Brain_tumor/Training/glioma/Tr-gl_0087.jpg', '/content/drive/MyDrive/Brain_tumor/Training/pituitary/Tr-pi_1291.jpg', '/content/drive/MyDrive/Brain_tumor/Training/glioma/Tr-gl_0048.jpg', '/content/drive/MyDrive/Brain_tumor/Training/pituitary/Tr-pi_1109.jpg', '/content/drive/MyDrive/Brain_tumor/Training/glioma/Tr-gl_0220.jpg', '/content/drive/MyDrive/Brain_tumor/Training/notumor/Tr-no_0457.jpg', '/content/drive/MyDrive/Brain_tumor/Training/glioma/Tr-gl_0199.jpg', '/content/drive/MyDrive/Brain_tumor/Training/glioma/Tr-gl_1125.jpg', '/content/drive/MyDrive/Brain_tumor/Training/meningioma/Tr-me_0294.jpg', '/content/drive/MyDrive/Brain_tumor/Training/meningioma/Tr-me_0861.jpg', '/content/drive/MyDrive/Brain_tumor/Training/notumor/Tr-no_1544.jpg', '/content/drive/MyDrive/Brain_tumor/Training/glioma/Tr-gl_1013.jpg', '/content/drive/MyDrive/Brain_tumor/Training/glioma/Tr-gl_0530.jpg', '/content/drive/MyDrive/Brain_tumor/Training/meningioma/Tr-me_0803.jpg', '/content/drive/MyDrive/Brain_tumor/Training/meningioma/Tr-me_0084.jpg', '/content/drive/MyDrive/Brain_tumor/Training/meningioma/Tr-me_0018.jpg', '/content/drive/MyDrive/Brain_tumor/Training/meningioma/Tr-me_0443.jpg', '/content/drive/MyDrive/Brain_tumor/Training/glioma/Tr-gl_0915.jpg', '/content/drive/MyDrive/Brain_tumor/Training/meningioma/Tr-me_0462.jpg', '/content/drive/MyDrive/Brain_tumor/Training/notumor/Tr-no_0486.jpg', '/content/drive/MyDrive/Brain_tumor/Training/notumor/Tr-no_0937.jpg', '/content/drive/MyDrive/Brain_tumor/Training/glioma/Tr-gl_0786.jpg', '/content/drive/MyDrive/Brain_tumor/Training/glioma/Tr-gl_0948.jpg', '/content/drive/MyDrive/Brain_tumor/Training/meningioma/Tr-me_0769.jpg', '/content/drive/MyDrive/Brain_tumor/Training/meningioma/Tr-me_1218.jpg', '/content/drive/MyDrive/Brain_tumor/Training/meningioma/Tr-me_1069.jpg', '/content/drive/MyDrive/Brain_tumor/Training/glioma/Tr-gl_0501.jpg', '/content/drive/MyDrive/Brain_tumor/Training/notumor/Tr-no_0627.jpg', '/content/drive/MyDrive/Brain_tumor/Training/notumor/Tr-no_0831.jpg', '/content/drive/MyDrive/Brain_tumor/Training/pituitary/Tr-pi_0214.jpg', '/content/drive/MyDrive/Brain_tumor/Training/pituitary/Tr-pi_0099.jpg', '/content/drive/MyDrive/Brain_tumor/Training/meningioma/Tr-me_0877.jpg', '/content/drive/MyDrive/Brain_tumor/Training/notumor/Tr-no_0172.jpg', '/content/drive/MyDrive/Brain_tumor/Training/meningioma/Tr-me_1039.jpg', '/content/drive/MyDrive/Brain_tumor/Training/meningioma/Tr-me_0600.jpg', '/content/drive/MyDrive/Brain_tumor/Training/pituitary/Tr-pi_1250.jpg', '/content/drive/MyDrive/Brain_tumor/Training/glioma/Tr-gl_0456.jpg', '/content/drive/MyDrive/Brain_tumor/Training/notumor/Tr-no_1339.jpg', '/content/drive/MyDrive/Brain_tumor/Training/glioma/Tr-gl_1304.jpg', '/content/drive/MyDrive/Brain_tumor/Training/notumor/Tr-no_1082.jpg', '/content/drive/MyDrive/Brain_tumor/Training/notumor/Tr-no_1255.jpg', '/content/drive/MyDrive/Brain_tumor/Training/notumor/Tr-no_0895.jpg', '/content/drive/MyDrive/Brain_tumor/Training/glioma/Tr-gl_0833.jpg', '/content/drive/MyDrive/Brain_tumor/Training/pituitary/Tr-pi_1219.jpg', '/content/drive/MyDrive/Brain_tumor/Training/pituitary/Tr-pi_0238.jpg', '/content/drive/MyDrive/Brain_tumor/Training/meningioma/Tr-me_0848.jpg', '/content/drive/MyDrive/Brain_tumor/Training/meningioma/Tr-me_1103.jpg', '/content/drive/MyDrive/Brain_tumor/Training/glioma/Tr-gl_0676.jpg', '/content/drive/MyDrive/Brain_tumor/Training/glioma/Tr-gl_0930.jpg', '/content/drive/MyDrive/Brain_tumor/Training/pituitary/Tr-pi_0591.jpg', '/content/drive/MyDrive/Brain_tumor/Training/meningioma/Tr-me_0352.jpg', '/content/drive/MyDrive/Brain_tumor/Training/notumor/Tr-no_0182.jpg', '/content/drive/MyDrive/Brain_tumor/Training/pituitary/Tr-pi_0043.jpg', '/content/drive/MyDrive/Brain_tumor/Training/notumor/Tr-no_0194.jpg', '/content/drive/MyDrive/Brain_tumor/Training/meningioma/Tr-me_0664.jpg', '/content/drive/MyDrive/Brain_tumor/Training/notumor/Tr-no_0698.jpg', '/content/drive/MyDrive/Brain_tumor/Training/notumor/Tr-no_0836.jpg', '/content/drive/MyDrive/Brain_tumor/Training/glioma/Tr-gl_1231.jpg', '/content/drive/MyDrive/Brain_tumor/Training/pituitary/Tr-pi_0204.jpg', '/content/drive/MyDrive/Brain_tumor/Training/meningioma/Tr-me_1003.jpg', '/content/drive/MyDrive/Brain_tumor/Training/pituitary/Tr-pi_1119.jpg', '/content/drive/MyDrive/Brain_tumor/Training/glioma/Tr-gl_0850.jpg', '/content/drive/MyDrive/Brain_tumor/Training/notumor/Tr-no_0859.jpg', '/content/drive/MyDrive/Brain_tumor/Training/notumor/Tr-no_0370.jpg', '/content/drive/MyDrive/Brain_tumor/Training/notumor/Tr-no_0534.jpg', '/content/drive/MyDrive/Brain_tumor/Training/glioma/Tr-gl_1179.jpg', '/content/drive/MyDrive/Brain_tumor/Training/notumor/Tr-no_0044.jpg', '/content/drive/MyDrive/Brain_tumor/Training/pituitary/Tr-pi_0428.jpg', '/content/drive/MyDrive/Brain_tumor/Training/pituitary/Tr-pi_0472.jpg', '/content/drive/MyDrive/Brain_tumor/Training/glioma/Tr-gl_0662.jpg', '/content/drive/MyDrive/Brain_tumor/Training/notumor/Tr-no_0849.jpg', '/content/drive/MyDrive/Brain_tumor/Training/pituitary/Tr-pi_1206.jpg', '/content/drive/MyDrive/Brain_tumor/Training/notumor/Tr-no_0382.jpg', '/content/drive/MyDrive/Brain_tumor/Training/meningioma/Tr-me_0400.jpg', '/content/drive/MyDrive/Brain_tumor/Training/meningioma/Tr-me_0819.jpg', '/content/drive/MyDrive/Brain_tumor/Training/notumor/Tr-no_0055.jpg', '/content/drive/MyDrive/Brain_tumor/Training/pituitary/Tr-pi_0456.jpg', '/content/drive/MyDrive/Brain_tumor/Training/pituitary/Tr-pi_1343.jpg', '/content/drive/MyDrive/Brain_tumor/Training/glioma/Tr-gl_1188.jpg', '/content/drive/MyDrive/Brain_tumor/Training/pituitary/Tr-pi_0757.jpg', '/content/drive/MyDrive/Brain_tumor/Training/pituitary/Tr-pi_0795.jpg', '/content/drive/MyDrive/Brain_tumor/Training/glioma/Tr-gl_0155.jpg', '/content/drive/MyDrive/Brain_tumor/Training/notumor/Tr-no_1181.jpg', '/content/drive/MyDrive/Brain_tumor/Training/notumor/Tr-no_1487.jpg', '/content/drive/MyDrive/Brain_tumor/Training/meningioma/Tr-me_0397.jpg', '/content/drive/MyDrive/Brain_tumor/Training/notumor/Tr-no_0412.jpg', '/content/drive/MyDrive/Brain_tumor/Training/glioma/Tr-gl_1128.jpg', '/content/drive/MyDrive/Brain_tumor/Training/pituitary/Tr-pi_1345.jpg', '/content/drive/MyDrive/Brain_tumor/Training/glioma/Tr-gl_0585.jpg', '/content/drive/MyDrive/Brain_tumor/Training/glioma/Tr-gl_0563.jpg', '/content/drive/MyDrive/Brain_tumor/Training/meningioma/Tr-me_0852.jpg', '/content/drive/MyDrive/Brain_tumor/Training/glioma/Tr-gl_1247.jpg', '/content/drive/MyDrive/Brain_tumor/Training/meningioma/Tr-me_0349.jpg', '/content/drive/MyDrive/Brain_tumor/Training/glioma/Tr-gl_1143.jpg', '/content/drive/MyDrive/Brain_tumor/Training/notumor/Tr-no_1016.jpg', '/content/drive/MyDrive/Brain_tumor/Training/glioma/Tr-gl_0355.jpg', '/content/drive/MyDrive/Brain_tumor/Training/notumor/Tr-no_1338.jpg', '/content/drive/MyDrive/Brain_tumor/Training/meningioma/Tr-me_0444.jpg', '/content/drive/MyDrive/Brain_tumor/Training/glioma/Tr-gl_0040.jpg', '/content/drive/MyDrive/Brain_tumor/Training/pituitary/Tr-pi_0455.jpg', '/content/drive/MyDrive/Brain_tumor/Training/meningioma/Tr-me_0402.jpg', '/content/drive/MyDrive/Brain_tumor/Training/glioma/Tr-gl_0091.jpg', '/content/drive/MyDrive/Brain_tumor/Training/pituitary/Tr-pi_0189.jpg', '/content/drive/MyDrive/Brain_tumor/Training/pituitary/Tr-pi_0846.jpg', '/content/drive/MyDrive/Brain_tumor/Training/glioma/Tr-gl_0665.jpg', '/content/drive/MyDrive/Brain_tumor/Training/glioma/Tr-gl_0746.jpg', '/content/drive/MyDrive/Brain_tumor/Training/notumor/Tr-no_0864.jpg', '/content/drive/MyDrive/Brain_tumor/Training/meningioma/Tr-me_0119.jpg', '/content/drive/MyDrive/Brain_tumor/Training/meningioma/Tr-me_0537.jpg', '/content/drive/MyDrive/Brain_tumor/Training/meningioma/Tr-me_0767.jpg', '/content/drive/MyDrive/Brain_tumor/Training/glioma/Tr-gl_0802.jpg', '/content/drive/MyDrive/Brain_tumor/Training/notumor/Tr-no_0855.jpg', '/content/drive/MyDrive/Brain_tumor/Training/meningioma/Tr-me_0415.jpg', '/content/drive/MyDrive/Brain_tumor/Training/glioma/Tr-gl_0928.jpg', '/content/drive/MyDrive/Brain_tumor/Training/meningioma/Tr-me_0978.jpg', '/content/drive/MyDrive/Brain_tumor/Training/glioma/Tr-gl_0689.jpg', '/content/drive/MyDrive/Brain_tumor/Training/notumor/Tr-no_1537.jpg', '/content/drive/MyDrive/Brain_tumor/Training/pituitary/Tr-pi_0064.jpg', '/content/drive/MyDrive/Brain_tumor/Training/glioma/Tr-gl_1208.jpg', '/content/drive/MyDrive/Brain_tumor/Training/notumor/Tr-no_1281.jpg', '/content/drive/MyDrive/Brain_tumor/Training/pituitary/Tr-pi_0791.jpg', '/content/drive/MyDrive/Brain_tumor/Training/glioma/Tr-gl_0057.jpg', '/content/drive/MyDrive/Brain_tumor/Training/notumor/Tr-no_1424.jpg', '/content/drive/MyDrive/Brain_tumor/Training/meningioma/Tr-me_0113.jpg', '/content/drive/MyDrive/Brain_tumor/Training/glioma/Tr-gl_0780.jpg', '/content/drive/MyDrive/Brain_tumor/Training/meningioma/Tr-me_0211.jpg', '/content/drive/MyDrive/Brain_tumor/Training/pituitary/Tr-pi_0351.jpg', '/content/drive/MyDrive/Brain_tumor/Training/meningioma/Tr-me_0299.jpg', '/content/drive/MyDrive/Brain_tumor/Training/meningioma/Tr-me_0694.jpg', '/content/drive/MyDrive/Brain_tumor/Training/meningioma/Tr-me_0238.jpg', '/content/drive/MyDrive/Brain_tumor/Training/glioma/Tr-gl_0715.jpg', '/content/drive/MyDrive/Brain_tumor/Training/meningioma/Tr-me_0835.jpg', '/content/drive/MyDrive/Brain_tumor/Training/pituitary/Tr-pi_0326.jpg', '/content/drive/MyDrive/Brain_tumor/Training/notumor/Tr-no_0192.jpg', '/content/drive/MyDrive/Brain_tumor/Training/meningioma/Tr-me_0366.jpg', '/content/drive/MyDrive/Brain_tumor/Training/glioma/Tr-gl_0164.jpg', '/content/drive/MyDrive/Brain_tumor/Training/meningioma/Tr-me_0248.jpg', '/content/drive/MyDrive/Brain_tumor/Training/glioma/Tr-gl_0393.jpg', '/content/drive/MyDrive/Brain_tumor/Training/notumor/Tr-no_0290.jpg', '/content/drive/MyDrive/Brain_tumor/Training/glioma/Tr-gl_0965.jpg', '/content/drive/MyDrive/Brain_tumor/Training/notumor/Tr-no_0077.jpg', '/content/drive/MyDrive/Brain_tumor/Training/notumor/Tr-no_0616.jpg', '/content/drive/MyDrive/Brain_tumor/Training/notumor/Tr-no_1021.jpg', '/content/drive/MyDrive/Brain_tumor/Training/notumor/Tr-no_1158.jpg', '/content/drive/MyDrive/Brain_tumor/Training/meningioma/Tr-me_0196.jpg', '/content/drive/MyDrive/Brain_tumor/Training/meningioma/Tr-me_1137.jpg', '/content/drive/MyDrive/Brain_tumor/Training/notumor/Tr-no_0549.jpg', '/content/drive/MyDrive/Brain_tumor/Training/pituitary/Tr-pi_1069.jpg', '/content/drive/MyDrive/Brain_tumor/Training/glioma/Tr-gl_0350.jpg', '/content/drive/MyDrive/Brain_tumor/Training/pituitary/Tr-pi_0511.jpg', '/content/drive/MyDrive/Brain_tumor/Training/notumor/Tr-no_0546.jpg', '/content/drive/MyDrive/Brain_tumor/Training/glioma/Tr-gl_0125.jpg', '/content/drive/MyDrive/Brain_tumor/Training/notumor/Tr-no_0285.jpg', '/content/drive/MyDrive/Brain_tumor/Training/notumor/Tr-no_1017.jpg', '/content/drive/MyDrive/Brain_tumor/Training/pituitary/Tr-pi_0576.jpg', '/content/drive/MyDrive/Brain_tumor/Training/pituitary/Tr-pi_1123.jpg', '/content/drive/MyDrive/Brain_tumor/Training/meningioma/Tr-me_0730.jpg', '/content/drive/MyDrive/Brain_tumor/Training/meningioma/Tr-me_0543.jpg', '/content/drive/MyDrive/Brain_tumor/Training/notumor/Tr-no_0237.jpg', '/content/drive/MyDrive/Brain_tumor/Training/pituitary/Tr-pi_1068.jpg', '/content/drive/MyDrive/Brain_tumor/Training/notumor/Tr-no_0774.jpg', '/content/drive/MyDrive/Brain_tumor/Training/meningioma/Tr-me_0167.jpg', '/content/drive/MyDrive/Brain_tumor/Training/glioma/Tr-gl_0406.jpg', '/content/drive/MyDrive/Brain_tumor/Training/pituitary/Tr-pi_1402.jpg', '/content/drive/MyDrive/Brain_tumor/Training/pituitary/Tr-pi_1042.jpg', '/content/drive/MyDrive/Brain_tumor/Training/notumor/Tr-no_0593.jpg', '/content/drive/MyDrive/Brain_tumor/Training/pituitary/Tr-pi_1085.jpg', '/content/drive/MyDrive/Brain_tumor/Training/notumor/Tr-no_0156.jpg', '/content/drive/MyDrive/Brain_tumor/Training/meningioma/Tr-me_0390.jpg', '/content/drive/MyDrive/Brain_tumor/Training/notumor/Tr-no_1002.jpg', '/content/drive/MyDrive/Brain_tumor/Training/meningioma/Tr-me_0175.jpg', '/content/drive/MyDrive/Brain_tumor/Training/notumor/Tr-no_1494.jpg', '/content/drive/MyDrive/Brain_tumor/Training/meningioma/Tr-me_0046.jpg', '/content/drive/MyDrive/Brain_tumor/Training/pituitary/Tr-pi_1258.jpg', '/content/drive/MyDrive/Brain_tumor/Training/meningioma/Tr-me_0888.jpg', '/content/drive/MyDrive/Brain_tumor/Training/notumor/Tr-no_1219.jpg', '/content/drive/MyDrive/Brain_tumor/Training/meningioma/Tr-me_0497.jpg', '/content/drive/MyDrive/Brain_tumor/Training/glioma/Tr-gl_1042.jpg', '/content/drive/MyDrive/Brain_tumor/Training/glioma/Tr-gl_0349.jpg', '/content/drive/MyDrive/Brain_tumor/Training/notumor/Tr-no_1507 (1).jpg', '/content/drive/MyDrive/Brain_tumor/Training/notumor/Tr-no_0123.jpg', '/content/drive/MyDrive/Brain_tumor/Training/pituitary/Tr-pi_1160.jpg', '/content/drive/MyDrive/Brain_tumor/Training/meningioma/Tr-me_0726.jpg', '/content/drive/MyDrive/Brain_tumor/Training/meningioma/Tr-me_0267.jpg', '/content/drive/MyDrive/Brain_tumor/Training/pituitary/Tr-pi_0151.jpg', '/content/drive/MyDrive/Brain_tumor/Training/pituitary/Tr-pi_1158.jpg', '/content/drive/MyDrive/Brain_tumor/Training/notumor/Tr-no_0603.jpg', '/content/drive/MyDrive/Brain_tumor/Training/glioma/Tr-gl_0815.jpg', '/content/drive/MyDrive/Brain_tumor/Training/pituitary/Tr-pi_1067.jpg', '/content/drive/MyDrive/Brain_tumor/Training/pituitary/Tr-pi_1145.jpg', '/content/drive/MyDrive/Brain_tumor/Training/notumor/Tr-no_0615.jpg', '/content/drive/MyDrive/Brain_tumor/Training/notumor/Tr-no_0383.jpg', '/content/drive/MyDrive/Brain_tumor/Training/glioma/Tr-gl_0486.jpg', '/content/drive/MyDrive/Brain_tumor/Training/pituitary/Tr-pi_0911.jpg', '/content/drive/MyDrive/Brain_tumor/Training/pituitary/Tr-pi_0410.jpg', '/content/drive/MyDrive/Brain_tumor/Training/notumor/Tr-no_0760.jpg', '/content/drive/MyDrive/Brain_tumor/Training/glioma/Tr-gl_0859.jpg', '/content/drive/MyDrive/Brain_tumor/Training/pituitary/Tr-pi_0711.jpg', '/content/drive/MyDrive/Brain_tumor/Training/pituitary/Tr-pi_0178.jpg', '/content/drive/MyDrive/Brain_tumor/Training/notumor/Tr-no_1500.jpg', '/content/drive/MyDrive/Brain_tumor/Training/notumor/Tr-no_0592.jpg', '/content/drive/MyDrive/Brain_tumor/Training/glioma/Tr-gl_0695.jpg', '/content/drive/MyDrive/Brain_tumor/Training/notumor/Tr-no_1550.jpg', '/content/drive/MyDrive/Brain_tumor/Training/glioma/Tr-gl_1099.jpg', '/content/drive/MyDrive/Brain_tumor/Training/notumor/Tr-no_1362.jpg', '/content/drive/MyDrive/Brain_tumor/Training/pituitary/Tr-pi_0775.jpg', '/content/drive/MyDrive/Brain_tumor/Training/glioma/Tr-gl_0475.jpg', '/content/drive/MyDrive/Brain_tumor/Training/notumor/Tr-no_0470.jpg', '/content/drive/MyDrive/Brain_tumor/Training/pituitary/Tr-pi_0038.jpg', '/content/drive/MyDrive/Brain_tumor/Training/notumor/Tr-no_0374.jpg', '/content/drive/MyDrive/Brain_tumor/Training/glioma/Tr-gl_1310.jpg', '/content/drive/MyDrive/Brain_tumor/Training/meningioma/Tr-me_0111.jpg', '/content/drive/MyDrive/Brain_tumor/Training/notumor/Tr-no_0661.jpg', '/content/drive/MyDrive/Brain_tumor/Training/notumor/Tr-no_1300.jpg', '/content/drive/MyDrive/Brain_tumor/Training/glioma/Tr-gl_0594.jpg', '/content/drive/MyDrive/Brain_tumor/Training/notumor/Tr-no_1389.jpg', '/content/drive/MyDrive/Brain_tumor/Training/meningioma/Tr-me_1160.jpg', '/content/drive/MyDrive/Brain_tumor/Training/pituitary/Tr-pi_1096.jpg', '/content/drive/MyDrive/Brain_tumor/Training/pituitary/Tr-pi_0302.jpg', '/content/drive/MyDrive/Brain_tumor/Training/pituitary/Tr-pi_1335.jpg', '/content/drive/MyDrive/Brain_tumor/Training/meningioma/Tr-me_1016.jpg', '/content/drive/MyDrive/Brain_tumor/Training/meningioma/Tr-me_0910.jpg', '/content/drive/MyDrive/Brain_tumor/Training/notumor/Tr-no_1205.jpg', '/content/drive/MyDrive/Brain_tumor/Training/glioma/Tr-gl_1303.jpg', '/content/drive/MyDrive/Brain_tumor/Training/meningioma/Tr-me_0647.jpg', '/content/drive/MyDrive/Brain_tumor/Training/notumor/Tr-no_0311.jpg', '/content/drive/MyDrive/Brain_tumor/Training/pituitary/Tr-pi_1332.jpg', '/content/drive/MyDrive/Brain_tumor/Training/glioma/Tr-gl_0874.jpg', '/content/drive/MyDrive/Brain_tumor/Training/meningioma/Tr-me_0420.jpg', '/content/drive/MyDrive/Brain_tumor/Training/notumor/Tr-no_0845.jpg', '/content/drive/MyDrive/Brain_tumor/Training/notumor/Tr-no_1490.jpg', '/content/drive/MyDrive/Brain_tumor/Training/pituitary/Tr-pi_1137.jpg', '/content/drive/MyDrive/Brain_tumor/Training/notumor/Tr-no_1515.jpg', '/content/drive/MyDrive/Brain_tumor/Training/notumor/Tr-no_1461.jpg', '/content/drive/MyDrive/Brain_tumor/Training/glioma/Tr-gl_0230.jpg', '/content/drive/MyDrive/Brain_tumor/Training/meningioma/Tr-me_0575.jpg', '/content/drive/MyDrive/Brain_tumor/Training/pituitary/Tr-pi_1273.jpg', '/content/drive/MyDrive/Brain_tumor/Training/meningioma/Tr-me_0949.jpg', '/content/drive/MyDrive/Brain_tumor/Training/notumor/Tr-no_1129.jpg', '/content/drive/MyDrive/Brain_tumor/Training/notumor/Tr-no_1145.jpg', '/content/drive/MyDrive/Brain_tumor/Training/meningioma/Tr-me_0510.jpg', '/content/drive/MyDrive/Brain_tumor/Training/notumor/Tr-no_1184.jpg', '/content/drive/MyDrive/Brain_tumor/Training/notumor/Tr-no_1256.jpg', '/content/drive/MyDrive/Brain_tumor/Training/pituitary/Tr-pi_0752.jpg', '/content/drive/MyDrive/Brain_tumor/Training/glioma/Tr-gl_0813.jpg', '/content/drive/MyDrive/Brain_tumor/Training/meningioma/Tr-me_0776.jpg', '/content/drive/MyDrive/Brain_tumor/Training/meningioma/Tr-me_1226.jpg', '/content/drive/MyDrive/Brain_tumor/Training/notumor/Tr-no_1463.jpg', '/content/drive/MyDrive/Brain_tumor/Training/meningioma/Tr-me_0359.jpg', '/content/drive/MyDrive/Brain_tumor/Training/meningioma/Tr-me_0706.jpg', '/content/drive/MyDrive/Brain_tumor/Training/meningioma/Tr-me_0287.jpg', '/content/drive/MyDrive/Brain_tumor/Training/glioma/Tr-gl_1253.jpg', '/content/drive/MyDrive/Brain_tumor/Training/glioma/Tr-gl_0134.jpg', '/content/drive/MyDrive/Brain_tumor/Training/meningioma/Tr-me_1162.jpg', '/content/drive/MyDrive/Brain_tumor/Training/pituitary/Tr-pi_0444.jpg', '/content/drive/MyDrive/Brain_tumor/Training/notumor/Tr-no_0183.jpg', '/content/drive/MyDrive/Brain_tumor/Training/glioma/Tr-gl_0620.jpg', '/content/drive/MyDrive/Brain_tumor/Training/meningioma/Tr-me_0183.jpg', '/content/drive/MyDrive/Brain_tumor/Training/meningioma/Tr-me_0251.jpg', '/content/drive/MyDrive/Brain_tumor/Training/pituitary/Tr-pi_1364.jpg', '/content/drive/MyDrive/Brain_tumor/Training/notumor/Tr-no_1123.jpg', '/content/drive/MyDrive/Brain_tumor/Training/pituitary/Tr-pi_1215.jpg', '/content/drive/MyDrive/Brain_tumor/Training/pituitary/Tr-pi_0649.jpg', '/content/drive/MyDrive/Brain_tumor/Training/pituitary/Tr-pi_0683.jpg', '/content/drive/MyDrive/Brain_tumor/Training/meningioma/Tr-me_0023.jpg', '/content/drive/MyDrive/Brain_tumor/Training/meningioma/Tr-me_0312.jpg', '/content/drive/MyDrive/Brain_tumor/Training/meningioma/Tr-me_0407.jpg', '/content/drive/MyDrive/Brain_tumor/Training/notumor/Tr-no_1286.jpg', '/content/drive/MyDrive/Brain_tumor/Training/meningioma/Tr-me_0916.jpg', '/content/drive/MyDrive/Brain_tumor/Training/meningioma/Tr-me_0981.jpg', '/content/drive/MyDrive/Brain_tumor/Training/pituitary/Tr-pi_0618.jpg', '/content/drive/MyDrive/Brain_tumor/Training/notumor/Tr-no_0398.jpg', '/content/drive/MyDrive/Brain_tumor/Training/pituitary/Tr-pi_1212.jpg', '/content/drive/MyDrive/Brain_tumor/Training/pituitary/Tr-pi_0313.jpg', '/content/drive/MyDrive/Brain_tumor/Training/pituitary/Tr-pi_0405.jpg', '/content/drive/MyDrive/Brain_tumor/Training/notumor/Tr-no_0933.jpg', '/content/drive/MyDrive/Brain_tumor/Training/notumor/Tr-no_1249.jpg', '/content/drive/MyDrive/Brain_tumor/Training/pituitary/Tr-pi_1231.jpg', '/content/drive/MyDrive/Brain_tumor/Training/meningioma/Tr-me_1253.jpg', '/content/drive/MyDrive/Brain_tumor/Training/glioma/Tr-gl_0025.jpg', '/content/drive/MyDrive/Brain_tumor/Training/meningioma/Tr-me_0750.jpg', '/content/drive/MyDrive/Brain_tumor/Training/notumor/Tr-no_0497.jpg', '/content/drive/MyDrive/Brain_tumor/Training/pituitary/Tr-pi_0725.jpg', '/content/drive/MyDrive/Brain_tumor/Training/pituitary/Tr-pi_1229.jpg', '/content/drive/MyDrive/Brain_tumor/Training/notumor/Tr-no_0808.jpg', '/content/drive/MyDrive/Brain_tumor/Training/meningioma/Tr-me_0968.jpg', '/content/drive/MyDrive/Brain_tumor/Training/glioma/Tr-gl_1249.jpg', '/content/drive/MyDrive/Brain_tumor/Training/notumor/Tr-no_0965.jpg', '/content/drive/MyDrive/Brain_tumor/Training/glioma/Tr-gl_1176.jpg', '/content/drive/MyDrive/Brain_tumor/Training/pituitary/Tr-pi_0471.jpg', '/content/drive/MyDrive/Brain_tumor/Training/meningioma/Tr-me_1168.jpg', '/content/drive/MyDrive/Brain_tumor/Training/glioma/Tr-gl_0198.jpg', '/content/drive/MyDrive/Brain_tumor/Training/meningioma/Tr-me_0476.jpg', '/content/drive/MyDrive/Brain_tumor/Training/glioma/Tr-gl_0822.jpg', '/content/drive/MyDrive/Brain_tumor/Training/meningioma/Tr-me_0448.jpg', '/content/drive/MyDrive/Brain_tumor/Training/glioma/Tr-gl_1156.jpg', '/content/drive/MyDrive/Brain_tumor/Training/glioma/Tr-gl_0101.jpg', '/content/drive/MyDrive/Brain_tumor/Training/notumor/Tr-no_0332.jpg', '/content/drive/MyDrive/Brain_tumor/Training/pituitary/Tr-pi_0252.jpg', '/content/drive/MyDrive/Brain_tumor/Training/meningioma/Tr-me_0279.jpg', '/content/drive/MyDrive/Brain_tumor/Training/meningioma/Tr-me_1177.jpg', '/content/drive/MyDrive/Brain_tumor/Training/pituitary/Tr-pi_0689.jpg', '/content/drive/MyDrive/Brain_tumor/Training/pituitary/Tr-pi_0360.jpg', '/content/drive/MyDrive/Brain_tumor/Training/pituitary/Tr-pi_0544.jpg', '/content/drive/MyDrive/Brain_tumor/Training/glioma/Tr-gl_0880.jpg', '/content/drive/MyDrive/Brain_tumor/Training/notumor/Tr-no_1116.jpg', '/content/drive/MyDrive/Brain_tumor/Training/pituitary/Tr-pi_0152.jpg', '/content/drive/MyDrive/Brain_tumor/Training/meningioma/Tr-me_0556.jpg', '/content/drive/MyDrive/Brain_tumor/Training/notumor/Tr-no_0794.jpg', '/content/drive/MyDrive/Brain_tumor/Training/meningioma/Tr-me_0727.jpg', '/content/drive/MyDrive/Brain_tumor/Training/glioma/Tr-gl_0721.jpg', '/content/drive/MyDrive/Brain_tumor/Training/notumor/Tr-no_0679.jpg', '/content/drive/MyDrive/Brain_tumor/Training/pituitary/Tr-pi_1346.jpg', '/content/drive/MyDrive/Brain_tumor/Training/notumor/Tr-no_1541.jpg', '/content/drive/MyDrive/Brain_tumor/Training/meningioma/Tr-me_0152.jpg', '/content/drive/MyDrive/Brain_tumor/Training/meningioma/Tr-me_0457.jpg', '/content/drive/MyDrive/Brain_tumor/Training/glioma/Tr-gl_0302.jpg', '/content/drive/MyDrive/Brain_tumor/Training/meningioma/Tr-me_0306.jpg', '/content/drive/MyDrive/Brain_tumor/Training/meningioma/Tr-me_1058.jpg', '/content/drive/MyDrive/Brain_tumor/Training/pituitary/Tr-pi_0497.jpg', '/content/drive/MyDrive/Brain_tumor/Training/pituitary/Tr-pi_0525.jpg', '/content/drive/MyDrive/Brain_tumor/Training/pituitary/Tr-pi_1106.jpg', '/content/drive/MyDrive/Brain_tumor/Training/meningioma/Tr-me_1150.jpg', '/content/drive/MyDrive/Brain_tumor/Training/meningioma/Tr-me_0341.jpg', '/content/drive/MyDrive/Brain_tumor/Training/pituitary/Tr-pi_0407.jpg', '/content/drive/MyDrive/Brain_tumor/Training/glioma/Tr-gl_0702.jpg', '/content/drive/MyDrive/Brain_tumor/Training/notumor/Tr-no_0316.jpg', '/content/drive/MyDrive/Brain_tumor/Training/pituitary/Tr-pi_0882.jpg', '/content/drive/MyDrive/Brain_tumor/Training/meningioma/Tr-me_1307.jpg', '/content/drive/MyDrive/Brain_tumor/Training/glioma/Tr-gl_1243.jpg', '/content/drive/MyDrive/Brain_tumor/Training/glioma/Tr-gl_0308.jpg', '/content/drive/MyDrive/Brain_tumor/Training/meningioma/Tr-me_0559.jpg', '/content/drive/MyDrive/Brain_tumor/Training/notumor/Tr-no_0012.jpg', '/content/drive/MyDrive/Brain_tumor/Training/meningioma/Tr-me_0944.jpg', '/content/drive/MyDrive/Brain_tumor/Training/glioma/Tr-gl_0113.jpg', '/content/drive/MyDrive/Brain_tumor/Training/glioma/Tr-gl_0799.jpg', '/content/drive/MyDrive/Brain_tumor/Training/glioma/Tr-gl_0601.jpg', '/content/drive/MyDrive/Brain_tumor/Training/glioma/Tr-gl_0058.jpg', '/content/drive/MyDrive/Brain_tumor/Training/glioma/Tr-gl_0382.jpg', '/content/drive/MyDrive/Brain_tumor/Training/notumor/Tr-no_0294.jpg', '/content/drive/MyDrive/Brain_tumor/Training/meningioma/Tr-me_0429.jpg', '/content/drive/MyDrive/Brain_tumor/Training/notumor/Tr-no_1211.jpg', '/content/drive/MyDrive/Brain_tumor/Training/meningioma/Tr-me_1189.jpg', '/content/drive/MyDrive/Brain_tumor/Training/glioma/Tr-gl_0879.jpg', '/content/drive/MyDrive/Brain_tumor/Training/pituitary/Tr-pi_0817.jpg', '/content/drive/MyDrive/Brain_tumor/Training/notumor/Tr-no_0654.jpg', '/content/drive/MyDrive/Brain_tumor/Training/glioma/Tr-gl_0202.jpg', '/content/drive/MyDrive/Brain_tumor/Training/meningioma/Tr-me_0623.jpg', '/content/drive/MyDrive/Brain_tumor/Training/pituitary/Tr-pi_0271.jpg', '/content/drive/MyDrive/Brain_tumor/Training/notumor/Tr-no_0029.jpg', '/content/drive/MyDrive/Brain_tumor/Training/meningioma/Tr-me_0885.jpg', '/content/drive/MyDrive/Brain_tumor/Training/pituitary/Tr-pi_0352.jpg', '/content/drive/MyDrive/Brain_tumor/Training/notumor/Tr-no_1428.jpg', '/content/drive/MyDrive/Brain_tumor/Training/glioma/Tr-gl_0096.jpg', '/content/drive/MyDrive/Brain_tumor/Training/notumor/Tr-no_0485.jpg', '/content/drive/MyDrive/Brain_tumor/Training/notumor/Tr-no_0324.jpg', '/content/drive/MyDrive/Brain_tumor/Training/pituitary/Tr-pi_0806.jpg', '/content/drive/MyDrive/Brain_tumor/Training/pituitary/Tr-pi_0699.jpg', '/content/drive/MyDrive/Brain_tumor/Training/notumor/Tr-no_0434.jpg', '/content/drive/MyDrive/Brain_tumor/Training/glioma/Tr-gl_0322.jpg', '/content/drive/MyDrive/Brain_tumor/Training/notumor/Tr-no_0105.jpg', '/content/drive/MyDrive/Brain_tumor/Training/glioma/Tr-gl_1129.jpg', '/content/drive/MyDrive/Brain_tumor/Training/pituitary/Tr-pi_0445.jpg', '/content/drive/MyDrive/Brain_tumor/Training/pituitary/Tr-pi_0218.jpg', '/content/drive/MyDrive/Brain_tumor/Training/meningioma/Tr-me_0068.jpg', '/content/drive/MyDrive/Brain_tumor/Training/pituitary/Tr-pi_0466.jpg', '/content/drive/MyDrive/Brain_tumor/Training/pituitary/Tr-pi_0602.jpg', '/content/drive/MyDrive/Brain_tumor/Training/notumor/Tr-no_0714.jpg', '/content/drive/MyDrive/Brain_tumor/Training/pituitary/Tr-pi_0814.jpg', '/content/drive/MyDrive/Brain_tumor/Training/glioma/Tr-gl_0445.jpg', '/content/drive/MyDrive/Brain_tumor/Training/pituitary/Tr-pi_0843.jpg', '/content/drive/MyDrive/Brain_tumor/Training/pituitary/Tr-pi_0101.jpg', '/content/drive/MyDrive/Brain_tumor/Training/glioma/Tr-gl_0873.jpg', '/content/drive/MyDrive/Brain_tumor/Training/pituitary/Tr-pi_0084.jpg', '/content/drive/MyDrive/Brain_tumor/Training/meningioma/Tr-me_0043.jpg', '/content/drive/MyDrive/Brain_tumor/Training/notumor/Tr-no_0367.jpg', '/content/drive/MyDrive/Brain_tumor/Training/glioma/Tr-gl_1036.jpg', '/content/drive/MyDrive/Brain_tumor/Training/notumor/Tr-no_0271.jpg', '/content/drive/MyDrive/Brain_tumor/Training/notumor/Tr-no_1388.jpg', '/content/drive/MyDrive/Brain_tumor/Training/notumor/Tr-no_0558.jpg', '/content/drive/MyDrive/Brain_tumor/Training/pituitary/Tr-pi_0629.jpg', '/content/drive/MyDrive/Brain_tumor/Training/glioma/Tr-gl_0694.jpg', '/content/drive/MyDrive/Brain_tumor/Training/pituitary/Tr-pi_0732.jpg', '/content/drive/MyDrive/Brain_tumor/Training/meningioma/Tr-me_0640.jpg', '/content/drive/MyDrive/Brain_tumor/Training/notumor/Tr-no_0984.jpg', '/content/drive/MyDrive/Brain_tumor/Training/pituitary/Tr-pi_0447.jpg', '/content/drive/MyDrive/Brain_tumor/Training/glioma/Tr-gl_0642.jpg', '/content/drive/MyDrive/Brain_tumor/Training/pituitary/Tr-pi_1152.jpg', '/content/drive/MyDrive/Brain_tumor/Training/glioma/Tr-gl_1105.jpg', '/content/drive/MyDrive/Brain_tumor/Training/pituitary/Tr-pi_0343.jpg', '/content/drive/MyDrive/Brain_tumor/Training/pituitary/Tr-pi_1020.jpg', '/content/drive/MyDrive/Brain_tumor/Training/pituitary/Tr-pi_0258.jpg', '/content/drive/MyDrive/Brain_tumor/Training/glioma/Tr-gl_0014.jpg', '/content/drive/MyDrive/Brain_tumor/Training/glioma/Tr-gl_1079.jpg', '/content/drive/MyDrive/Brain_tumor/Training/notumor/Tr-no_0591.jpg', '/content/drive/MyDrive/Brain_tumor/Training/meningioma/Tr-me_0554.jpg', '/content/drive/MyDrive/Brain_tumor/Training/notumor/Tr-no_0081.jpg', '/content/drive/MyDrive/Brain_tumor/Training/notumor/Tr-no_1140.jpg', '/content/drive/MyDrive/Brain_tumor/Training/meningioma/Tr-me_0492.jpg', '/content/drive/MyDrive/Brain_tumor/Training/glioma/Tr-gl_0180.jpg', '/content/drive/MyDrive/Brain_tumor/Training/meningioma/Tr-me_0988.jpg', '/content/drive/MyDrive/Brain_tumor/Training/meningioma/Tr-me_1257.jpg', '/content/drive/MyDrive/Brain_tumor/Training/pituitary/Tr-pi_0139.jpg', '/content/drive/MyDrive/Brain_tumor/Training/meningioma/Tr-me_0435.jpg', '/content/drive/MyDrive/Brain_tumor/Training/pituitary/Tr-pi_0206.jpg', '/content/drive/MyDrive/Brain_tumor/Training/glioma/Tr-gl_1286.jpg', '/content/drive/MyDrive/Brain_tumor/Training/pituitary/Tr-pi_0706.jpg', '/content/drive/MyDrive/Brain_tumor/Training/glioma/Tr-gl_0176.jpg', '/content/drive/MyDrive/Brain_tumor/Training/notumor/Tr-no_0388.jpg', '/content/drive/MyDrive/Brain_tumor/Training/notumor/Tr-no_0995.jpg', '/content/drive/MyDrive/Brain_tumor/Training/notumor/Tr-no_1263.jpg', '/content/drive/MyDrive/Brain_tumor/Training/meningioma/Tr-me_0338.jpg', '/content/drive/MyDrive/Brain_tumor/Training/meningioma/Tr-me_0361.jpg', '/content/drive/MyDrive/Brain_tumor/Training/meningioma/Tr-me_1284.jpg', '/content/drive/MyDrive/Brain_tumor/Training/glioma/Tr-gl_0841.jpg', '/content/drive/MyDrive/Brain_tumor/Training/notumor/Tr-no_0590.jpg', '/content/drive/MyDrive/Brain_tumor/Training/notumor/Tr-no_1176.jpg', '/content/drive/MyDrive/Brain_tumor/Training/meningioma/Tr-me_1025.jpg', '/content/drive/MyDrive/Brain_tumor/Training/meningioma/Tr-me_1138.jpg', '/content/drive/MyDrive/Brain_tumor/Training/meningioma/Tr-me_1272.jpg', '/content/drive/MyDrive/Brain_tumor/Training/glioma/Tr-gl_1091.jpg']\n",
            "['notumor', 'pituitary', 'notumor', 'notumor', 'pituitary', 'glioma', 'meningioma', 'pituitary', 'notumor', 'notumor', 'pituitary', 'glioma', 'meningioma', 'notumor', 'meningioma', 'pituitary', 'pituitary', 'pituitary', 'glioma', 'notumor', 'pituitary', 'meningioma', 'notumor', 'pituitary', 'notumor', 'meningioma', 'meningioma', 'glioma', 'meningioma', 'glioma', 'notumor', 'pituitary', 'pituitary', 'pituitary', 'meningioma', 'meningioma', 'notumor', 'glioma', 'meningioma', 'glioma', 'glioma', 'glioma', 'pituitary', 'pituitary', 'notumor', 'notumor', 'pituitary', 'meningioma', 'glioma', 'pituitary', 'glioma', 'meningioma', 'notumor', 'meningioma', 'glioma', 'glioma', 'meningioma', 'notumor', 'pituitary', 'meningioma', 'meningioma', 'notumor', 'pituitary', 'notumor', 'glioma', 'pituitary', 'notumor', 'meningioma', 'pituitary', 'meningioma', 'notumor', 'meningioma', 'pituitary', 'pituitary', 'meningioma', 'meningioma', 'notumor', 'glioma', 'glioma', 'notumor', 'glioma', 'meningioma', 'glioma', 'pituitary', 'meningioma', 'glioma', 'notumor', 'pituitary', 'notumor', 'notumor', 'meningioma', 'pituitary', 'pituitary', 'glioma', 'meningioma', 'pituitary', 'notumor', 'notumor', 'glioma', 'meningioma', 'glioma', 'notumor', 'glioma', 'notumor', 'pituitary', 'glioma', 'meningioma', 'notumor', 'pituitary', 'notumor', 'glioma', 'pituitary', 'meningioma', 'notumor', 'meningioma', 'pituitary', 'glioma', 'pituitary', 'pituitary', 'glioma', 'notumor', 'glioma', 'notumor', 'meningioma', 'meningioma', 'notumor', 'pituitary', 'meningioma', 'meningioma', 'notumor', 'meningioma', 'notumor', 'glioma', 'glioma', 'meningioma', 'notumor', 'pituitary', 'pituitary', 'glioma', 'notumor', 'notumor', 'glioma', 'glioma', 'glioma', 'pituitary', 'glioma', 'pituitary', 'glioma', 'glioma', 'glioma', 'glioma', 'glioma', 'glioma', 'notumor', 'glioma', 'pituitary', 'meningioma', 'meningioma', 'notumor', 'glioma', 'glioma', 'notumor', 'notumor', 'meningioma', 'glioma', 'glioma', 'meningioma', 'glioma', 'notumor', 'meningioma', 'notumor', 'pituitary', 'glioma', 'pituitary', 'notumor', 'glioma', 'meningioma', 'meningioma', 'notumor', 'glioma', 'glioma', 'pituitary', 'pituitary', 'pituitary', 'glioma', 'glioma', 'meningioma', 'notumor', 'glioma', 'pituitary', 'pituitary', 'pituitary', 'glioma', 'notumor', 'pituitary', 'glioma', 'pituitary', 'glioma', 'pituitary', 'glioma', 'pituitary', 'pituitary', 'pituitary', 'glioma', 'pituitary', 'pituitary', 'pituitary', 'pituitary', 'meningioma', 'glioma', 'pituitary', 'glioma', 'glioma', 'glioma', 'notumor', 'meningioma', 'glioma', 'notumor', 'pituitary', 'notumor', 'glioma', 'pituitary', 'meningioma', 'pituitary', 'notumor', 'notumor', 'pituitary', 'glioma', 'pituitary', 'notumor', 'glioma', 'meningioma', 'pituitary', 'glioma', 'notumor', 'notumor', 'pituitary', 'meningioma', 'notumor', 'pituitary', 'pituitary', 'notumor', 'pituitary', 'pituitary', 'pituitary', 'meningioma', 'pituitary', 'notumor', 'meningioma', 'glioma', 'glioma', 'notumor', 'meningioma', 'meningioma', 'notumor', 'meningioma', 'notumor', 'pituitary', 'glioma', 'meningioma', 'glioma', 'pituitary', 'glioma', 'glioma', 'glioma', 'meningioma', 'glioma', 'glioma', 'glioma', 'pituitary', 'meningioma', 'notumor', 'notumor', 'pituitary', 'notumor', 'pituitary', 'glioma', 'pituitary', 'notumor', 'meningioma', 'pituitary', 'meningioma', 'glioma', 'meningioma', 'notumor', 'glioma', 'notumor', 'notumor', 'glioma', 'notumor', 'meningioma', 'glioma', 'meningioma', 'notumor', 'notumor', 'pituitary', 'pituitary', 'meningioma', 'pituitary', 'glioma', 'meningioma', 'notumor', 'notumor', 'notumor', 'meningioma', 'glioma', 'notumor', 'notumor', 'glioma', 'notumor', 'glioma', 'pituitary', 'meningioma', 'pituitary', 'notumor', 'meningioma', 'pituitary', 'pituitary', 'notumor', 'glioma', 'pituitary', 'meningioma', 'notumor', 'meningioma', 'glioma', 'glioma', 'glioma', 'meningioma', 'pituitary', 'notumor', 'pituitary', 'glioma', 'glioma', 'pituitary', 'pituitary', 'notumor', 'pituitary', 'meningioma', 'glioma', 'pituitary', 'glioma', 'pituitary', 'notumor', 'glioma', 'notumor', 'notumor', 'meningioma', 'pituitary', 'notumor', 'notumor', 'meningioma', 'notumor', 'meningioma', 'pituitary', 'notumor', 'meningioma', 'glioma', 'meningioma', 'meningioma', 'meningioma', 'meningioma', 'meningioma', 'glioma', 'notumor', 'meningioma', 'pituitary', 'notumor', 'notumor', 'pituitary', 'glioma', 'glioma', 'notumor', 'glioma', 'notumor', 'meningioma', 'meningioma', 'glioma', 'notumor', 'glioma', 'meningioma', 'glioma', 'notumor', 'notumor', 'notumor', 'meningioma', 'pituitary', 'pituitary', 'pituitary', 'notumor', 'notumor', 'pituitary', 'pituitary', 'pituitary', 'glioma', 'meningioma', 'notumor', 'notumor', 'notumor', 'pituitary', 'pituitary', 'notumor', 'glioma', 'glioma', 'notumor', 'glioma', 'glioma', 'notumor', 'meningioma', 'glioma', 'glioma', 'meningioma', 'notumor', 'pituitary', 'notumor', 'glioma', 'notumor', 'notumor', 'meningioma', 'notumor', 'notumor', 'pituitary', 'notumor', 'pituitary', 'glioma', 'glioma', 'glioma', 'meningioma', 'notumor', 'meningioma', 'pituitary', 'pituitary', 'glioma', 'pituitary', 'meningioma', 'notumor', 'glioma', 'pituitary', 'notumor', 'pituitary', 'meningioma', 'notumor', 'notumor', 'meningioma', 'glioma', 'glioma', 'meningioma', 'meningioma', 'pituitary', 'glioma', 'glioma', 'meningioma', 'pituitary', 'pituitary', 'glioma', 'glioma', 'meningioma', 'pituitary', 'meningioma', 'notumor', 'notumor', 'notumor', 'meningioma', 'pituitary', 'meningioma', 'glioma', 'pituitary', 'glioma', 'notumor', 'notumor', 'pituitary', 'notumor', 'pituitary', 'glioma', 'meningioma', 'pituitary', 'glioma', 'meningioma', 'glioma', 'pituitary', 'meningioma', 'pituitary', 'glioma', 'meningioma', 'notumor', 'glioma', 'glioma', 'pituitary', 'notumor', 'notumor', 'glioma', 'notumor', 'pituitary', 'notumor', 'notumor', 'notumor', 'pituitary', 'meningioma', 'meningioma', 'meningioma', 'notumor', 'meningioma', 'glioma', 'notumor', 'notumor', 'notumor', 'glioma', 'pituitary', 'glioma', 'pituitary', 'meningioma', 'glioma', 'glioma', 'glioma', 'pituitary', 'meningioma', 'meningioma', 'meningioma', 'pituitary', 'notumor', 'pituitary', 'notumor', 'notumor', 'meningioma', 'pituitary', 'pituitary', 'glioma', 'notumor', 'notumor', 'glioma', 'meningioma', 'glioma', 'meningioma', 'pituitary', 'pituitary', 'meningioma', 'glioma', 'pituitary', 'pituitary', 'meningioma', 'notumor', 'glioma', 'glioma', 'notumor', 'notumor', 'notumor', 'pituitary', 'glioma', 'notumor', 'meningioma', 'meningioma', 'notumor', 'meningioma', 'meningioma', 'glioma', 'pituitary', 'notumor', 'glioma', 'meningioma', 'pituitary', 'pituitary', 'pituitary', 'pituitary', 'pituitary', 'glioma', 'pituitary', 'pituitary', 'meningioma', 'notumor', 'glioma', 'notumor', 'pituitary', 'meningioma', 'glioma', 'glioma', 'meningioma', 'meningioma', 'glioma', 'meningioma', 'pituitary', 'notumor', 'glioma', 'glioma', 'notumor', 'glioma', 'notumor', 'meningioma', 'glioma', 'notumor', 'glioma', 'meningioma', 'notumor', 'pituitary', 'notumor', 'glioma', 'meningioma', 'glioma', 'notumor', 'meningioma', 'meningioma', 'pituitary', 'pituitary', 'glioma', 'meningioma', 'glioma', 'notumor', 'pituitary', 'glioma', 'meningioma', 'meningioma', 'notumor', 'notumor', 'notumor', 'meningioma', 'meningioma', 'meningioma', 'pituitary', 'pituitary', 'pituitary', 'meningioma', 'meningioma', 'meningioma', 'glioma', 'pituitary', 'glioma', 'pituitary', 'pituitary', 'notumor', 'pituitary', 'pituitary', 'glioma', 'notumor', 'notumor', 'pituitary', 'meningioma', 'glioma', 'pituitary', 'meningioma', 'notumor', 'meningioma', 'notumor', 'glioma', 'meningioma', 'glioma', 'meningioma', 'pituitary', 'notumor', 'pituitary', 'glioma', 'pituitary', 'glioma', 'meningioma', 'glioma', 'notumor', 'notumor', 'glioma', 'notumor', 'pituitary', 'notumor', 'glioma', 'notumor', 'notumor', 'notumor', 'notumor', 'notumor', 'pituitary', 'pituitary', 'notumor', 'glioma', 'pituitary', 'notumor', 'glioma', 'pituitary', 'glioma', 'glioma', 'pituitary', 'meningioma', 'pituitary', 'pituitary', 'pituitary', 'meningioma', 'notumor', 'glioma', 'meningioma', 'notumor', 'notumor', 'notumor', 'pituitary', 'meningioma', 'notumor', 'pituitary', 'pituitary', 'glioma', 'meningioma', 'notumor', 'pituitary', 'glioma', 'notumor', 'notumor', 'glioma', 'glioma', 'notumor', 'meningioma', 'glioma', 'glioma', 'glioma', 'glioma', 'meningioma', 'glioma', 'meningioma', 'meningioma', 'meningioma', 'notumor', 'pituitary', 'glioma', 'meningioma', 'notumor', 'glioma', 'pituitary', 'glioma', 'pituitary', 'pituitary', 'notumor', 'notumor', 'glioma', 'notumor', 'meningioma', 'pituitary', 'glioma', 'meningioma', 'meningioma', 'meningioma', 'notumor', 'glioma', 'glioma', 'meningioma', 'meningioma', 'pituitary', 'notumor', 'meningioma', 'meningioma', 'meningioma', 'notumor', 'glioma', 'pituitary', 'glioma', 'meningioma', 'notumor', 'notumor', 'glioma', 'pituitary', 'pituitary', 'meningioma', 'notumor', 'pituitary', 'glioma', 'glioma', 'notumor', 'glioma', 'glioma', 'meningioma', 'pituitary', 'meningioma', 'meningioma', 'glioma', 'notumor', 'notumor', 'pituitary', 'meningioma', 'notumor', 'notumor', 'meningioma', 'pituitary', 'notumor', 'meningioma', 'glioma', 'pituitary', 'notumor', 'glioma', 'meningioma', 'meningioma', 'glioma', 'meningioma', 'glioma', 'pituitary', 'meningioma', 'notumor', 'notumor', 'meningioma', 'notumor', 'pituitary', 'meningioma', 'meningioma', 'meningioma', 'meningioma', 'meningioma', 'glioma', 'meningioma', 'pituitary', 'glioma', 'pituitary', 'pituitary', 'pituitary', 'notumor', 'pituitary', 'notumor', 'pituitary', 'pituitary', 'glioma', 'pituitary', 'meningioma', 'notumor', 'pituitary', 'notumor', 'glioma', 'meningioma', 'glioma', 'glioma', 'meningioma', 'meningioma', 'notumor', 'glioma', 'notumor', 'glioma', 'notumor', 'meningioma', 'pituitary', 'pituitary', 'notumor', 'glioma', 'pituitary', 'notumor', 'glioma', 'notumor', 'meningioma', 'pituitary', 'notumor', 'meningioma', 'meningioma', 'meningioma', 'notumor', 'pituitary', 'pituitary', 'notumor', 'pituitary', 'glioma', 'glioma', 'glioma', 'meningioma', 'glioma', 'pituitary', 'notumor', 'notumor', 'notumor', 'pituitary', 'glioma', 'pituitary', 'meningioma', 'glioma', 'meningioma', 'pituitary', 'notumor', 'pituitary', 'glioma', 'notumor', 'pituitary', 'meningioma', 'meningioma', 'glioma', 'pituitary', 'meningioma', 'meningioma', 'glioma', 'pituitary', 'meningioma', 'pituitary', 'glioma', 'notumor', 'meningioma', 'notumor', 'meningioma', 'notumor', 'pituitary', 'meningioma', 'notumor', 'glioma', 'notumor', 'pituitary', 'notumor', 'glioma', 'notumor', 'pituitary', 'notumor', 'notumor', 'pituitary', 'glioma', 'meningioma', 'glioma', 'notumor', 'pituitary', 'notumor', 'glioma', 'notumor', 'glioma', 'notumor', 'glioma', 'meningioma', 'pituitary', 'pituitary', 'glioma', 'pituitary', 'meningioma', 'pituitary', 'meningioma', 'notumor', 'meningioma', 'meningioma', 'pituitary', 'meningioma', 'pituitary', 'meningioma', 'notumor', 'notumor', 'pituitary', 'meningioma', 'notumor', 'meningioma', 'notumor', 'notumor', 'pituitary', 'pituitary', 'pituitary', 'meningioma', 'glioma', 'glioma', 'pituitary', 'pituitary', 'notumor', 'glioma', 'glioma', 'meningioma', 'notumor', 'notumor', 'notumor', 'notumor', 'meningioma', 'meningioma', 'glioma', 'meningioma', 'meningioma', 'pituitary', 'notumor', 'pituitary', 'glioma', 'glioma', 'pituitary', 'meningioma', 'meningioma', 'pituitary', 'meningioma', 'pituitary', 'meningioma', 'pituitary', 'notumor', 'meningioma', 'pituitary', 'pituitary', 'pituitary', 'meningioma', 'glioma', 'meningioma', 'glioma', 'glioma', 'glioma', 'meningioma', 'glioma', 'pituitary', 'glioma', 'glioma', 'pituitary', 'glioma', 'meningioma', 'notumor', 'pituitary', 'pituitary', 'glioma', 'glioma', 'pituitary', 'meningioma', 'pituitary', 'glioma', 'meningioma', 'glioma', 'glioma', 'notumor', 'notumor', 'glioma', 'meningioma', 'notumor', 'pituitary', 'glioma', 'glioma', 'notumor', 'glioma', 'meningioma', 'glioma', 'notumor', 'glioma', 'pituitary', 'notumor', 'meningioma', 'pituitary', 'meningioma', 'notumor', 'glioma', 'pituitary', 'pituitary', 'notumor', 'notumor', 'pituitary', 'notumor', 'glioma', 'glioma', 'notumor', 'pituitary', 'pituitary', 'notumor', 'pituitary', 'notumor', 'glioma', 'notumor', 'pituitary', 'glioma', 'notumor', 'glioma', 'meningioma', 'pituitary', 'pituitary', 'notumor', 'notumor', 'glioma', 'notumor', 'pituitary', 'glioma', 'notumor', 'notumor', 'pituitary', 'meningioma', 'notumor', 'meningioma', 'meningioma', 'pituitary', 'pituitary', 'glioma', 'notumor', 'glioma', 'notumor', 'meningioma', 'pituitary', 'meningioma', 'pituitary', 'pituitary', 'meningioma', 'notumor', 'meningioma', 'notumor', 'meningioma', 'notumor', 'meningioma', 'meningioma', 'pituitary', 'meningioma', 'meningioma', 'notumor', 'meningioma', 'notumor', 'pituitary', 'glioma', 'notumor', 'notumor', 'pituitary', 'notumor', 'notumor', 'glioma', 'glioma', 'pituitary', 'notumor', 'glioma', 'meningioma', 'glioma', 'glioma', 'notumor', 'notumor', 'glioma', 'notumor', 'pituitary', 'pituitary', 'meningioma', 'notumor', 'pituitary', 'meningioma', 'notumor', 'meningioma', 'notumor', 'meningioma', 'meningioma', 'notumor', 'pituitary', 'meningioma', 'notumor', 'pituitary', 'notumor', 'meningioma', 'meningioma', 'notumor', 'glioma', 'glioma', 'notumor', 'meningioma', 'glioma', 'meningioma', 'notumor', 'pituitary', 'pituitary', 'notumor', 'meningioma', 'meningioma', 'meningioma', 'meningioma', 'glioma', 'pituitary', 'glioma', 'notumor', 'glioma', 'glioma', 'pituitary', 'pituitary', 'pituitary', 'glioma', 'notumor', 'meningioma', 'meningioma', 'pituitary', 'notumor', 'pituitary', 'notumor', 'notumor', 'glioma', 'notumor', 'notumor', 'meningioma', 'pituitary', 'notumor', 'glioma', 'pituitary', 'pituitary', 'notumor', 'notumor', 'notumor', 'glioma', 'glioma', 'notumor', 'pituitary', 'pituitary', 'meningioma', 'notumor', 'glioma', 'pituitary', 'glioma', 'glioma', 'notumor', 'glioma', 'notumor', 'pituitary', 'notumor', 'meningioma', 'pituitary', 'glioma', 'glioma', 'notumor', 'pituitary', 'glioma', 'notumor', 'notumor', 'pituitary', 'notumor', 'glioma', 'glioma', 'meningioma', 'meningioma', 'glioma', 'pituitary', 'notumor', 'meningioma', 'pituitary', 'notumor', 'notumor', 'meningioma', 'glioma', 'notumor', 'pituitary', 'notumor', 'glioma', 'pituitary', 'pituitary', 'glioma', 'pituitary', 'pituitary', 'meningioma', 'meningioma', 'pituitary', 'glioma', 'glioma', 'glioma', 'pituitary', 'pituitary', 'pituitary', 'glioma', 'pituitary', 'notumor', 'notumor', 'notumor', 'glioma', 'notumor', 'pituitary', 'pituitary', 'notumor', 'glioma', 'glioma', 'meningioma', 'notumor', 'pituitary', 'pituitary', 'glioma', 'pituitary', 'pituitary', 'pituitary', 'pituitary', 'notumor', 'pituitary', 'pituitary', 'pituitary', 'pituitary', 'meningioma', 'notumor', 'meningioma', 'notumor', 'pituitary', 'pituitary', 'notumor', 'meningioma', 'pituitary', 'notumor', 'meningioma', 'pituitary', 'glioma', 'notumor', 'meningioma', 'notumor', 'glioma', 'notumor', 'pituitary', 'notumor', 'pituitary', 'notumor', 'glioma', 'pituitary', 'pituitary', 'meningioma', 'glioma', 'pituitary', 'pituitary', 'meningioma', 'pituitary', 'notumor', 'meningioma', 'glioma', 'pituitary', 'meningioma', 'notumor', 'pituitary', 'glioma', 'notumor', 'meningioma', 'pituitary', 'glioma', 'pituitary', 'meningioma', 'notumor', 'notumor', 'notumor', 'notumor', 'glioma', 'meningioma', 'notumor', 'glioma', 'meningioma', 'notumor', 'glioma', 'pituitary', 'glioma', 'notumor', 'glioma', 'pituitary', 'notumor', 'pituitary', 'meningioma', 'glioma', 'meningioma', 'glioma', 'pituitary', 'pituitary', 'notumor', 'pituitary', 'glioma', 'meningioma', 'glioma', 'notumor', 'notumor', 'glioma', 'meningioma', 'meningioma', 'pituitary', 'meningioma', 'notumor', 'pituitary', 'pituitary', 'notumor', 'glioma', 'notumor', 'notumor', 'notumor', 'meningioma', 'pituitary', 'notumor', 'meningioma', 'notumor', 'notumor', 'glioma', 'glioma', 'notumor', 'glioma', 'notumor', 'pituitary', 'glioma', 'pituitary', 'notumor', 'notumor', 'glioma', 'glioma', 'glioma', 'glioma', 'pituitary', 'meningioma', 'glioma', 'meningioma', 'meningioma', 'pituitary', 'glioma', 'meningioma', 'pituitary', 'pituitary', 'glioma', 'meningioma', 'pituitary', 'notumor', 'glioma', 'notumor', 'glioma', 'pituitary', 'notumor', 'notumor', 'notumor', 'pituitary', 'pituitary', 'glioma', 'pituitary', 'notumor', 'notumor', 'pituitary', 'glioma', 'pituitary', 'pituitary', 'notumor', 'meningioma', 'meningioma', 'glioma', 'pituitary', 'meningioma', 'pituitary', 'notumor', 'glioma', 'meningioma', 'meningioma', 'pituitary', 'meningioma', 'notumor', 'meningioma', 'glioma', 'glioma', 'notumor', 'meningioma', 'notumor', 'meningioma', 'notumor', 'meningioma', 'glioma', 'glioma', 'pituitary', 'meningioma', 'notumor', 'meningioma', 'glioma', 'glioma', 'notumor', 'glioma', 'glioma', 'notumor', 'pituitary', 'notumor', 'meningioma', 'notumor', 'pituitary', 'glioma', 'meningioma', 'meningioma', 'glioma', 'glioma', 'pituitary', 'pituitary', 'pituitary', 'pituitary', 'meningioma', 'meningioma', 'glioma', 'meningioma', 'glioma', 'meningioma', 'pituitary', 'pituitary', 'meningioma', 'meningioma', 'pituitary', 'pituitary', 'notumor', 'glioma', 'meningioma', 'meningioma', 'glioma', 'pituitary', 'notumor', 'glioma', 'glioma', 'meningioma', 'glioma', 'notumor', 'pituitary', 'meningioma', 'glioma', 'glioma', 'notumor', 'meningioma', 'pituitary', 'notumor', 'notumor', 'glioma', 'pituitary', 'glioma', 'pituitary', 'meningioma', 'notumor', 'glioma', 'pituitary', 'glioma', 'meningioma', 'pituitary', 'pituitary', 'notumor', 'pituitary', 'meningioma', 'notumor', 'notumor', 'glioma', 'pituitary', 'glioma', 'glioma', 'pituitary', 'glioma', 'notumor', 'glioma', 'glioma', 'glioma', 'meningioma', 'notumor', 'pituitary', 'meningioma', 'meningioma', 'glioma', 'meningioma', 'notumor', 'pituitary', 'notumor', 'glioma', 'pituitary', 'meningioma', 'meningioma', 'meningioma', 'meningioma', 'pituitary', 'notumor', 'notumor', 'notumor', 'notumor', 'notumor', 'meningioma', 'pituitary', 'notumor', 'notumor', 'notumor', 'meningioma', 'pituitary', 'meningioma', 'glioma', 'glioma', 'notumor', 'glioma', 'notumor', 'glioma', 'notumor', 'pituitary', 'pituitary', 'notumor', 'pituitary', 'pituitary', 'glioma', 'notumor', 'notumor', 'meningioma', 'pituitary', 'glioma', 'pituitary', 'meningioma', 'meningioma', 'meningioma', 'meningioma', 'glioma', 'notumor', 'glioma', 'glioma', 'notumor', 'glioma', 'glioma', 'meningioma', 'meningioma', 'pituitary', 'meningioma', 'meningioma', 'glioma', 'notumor', 'notumor', 'notumor', 'notumor', 'glioma', 'pituitary', 'glioma', 'notumor', 'notumor', 'pituitary', 'meningioma', 'pituitary', 'notumor', 'notumor', 'notumor', 'notumor', 'glioma', 'pituitary', 'notumor', 'meningioma', 'glioma', 'notumor', 'pituitary', 'glioma', 'meningioma', 'meningioma', 'meningioma', 'glioma', 'pituitary', 'glioma', 'meningioma', 'meningioma', 'pituitary', 'meningioma', 'notumor', 'glioma', 'pituitary', 'pituitary', 'pituitary', 'notumor', 'pituitary', 'notumor', 'meningioma', 'glioma', 'notumor', 'pituitary', 'pituitary', 'notumor', 'meningioma', 'glioma', 'pituitary', 'glioma', 'pituitary', 'notumor', 'meningioma', 'glioma', 'notumor', 'notumor', 'pituitary', 'pituitary', 'glioma', 'pituitary', 'pituitary', 'meningioma', 'glioma', 'notumor', 'notumor', 'pituitary', 'glioma', 'meningioma', 'notumor', 'meningioma', 'glioma', 'notumor', 'glioma', 'meningioma', 'notumor', 'glioma', 'pituitary', 'notumor', 'meningioma', 'notumor', 'notumor', 'notumor', 'glioma', 'meningioma', 'glioma', 'meningioma', 'meningioma', 'meningioma', 'pituitary', 'notumor', 'pituitary', 'notumor', 'notumor', 'notumor', 'glioma', 'meningioma', 'glioma', 'meningioma', 'notumor', 'pituitary', 'pituitary', 'glioma', 'meningioma', 'meningioma', 'meningioma', 'pituitary', 'meningioma', 'meningioma', 'pituitary', 'pituitary', 'notumor', 'notumor', 'meningioma', 'glioma', 'notumor', 'meningioma', 'notumor', 'meningioma', 'notumor', 'meningioma', 'glioma', 'pituitary', 'glioma', 'meningioma', 'notumor', 'notumor', 'notumor', 'notumor', 'meningioma', 'glioma', 'meningioma', 'glioma', 'glioma', 'meningioma', 'notumor', 'pituitary', 'pituitary', 'meningioma', 'notumor', 'meningioma', 'meningioma', 'pituitary', 'notumor', 'notumor', 'notumor', 'glioma', 'meningioma', 'notumor', 'meningioma', 'pituitary', 'glioma', 'notumor', 'glioma', 'glioma', 'meningioma', 'meningioma', 'meningioma', 'glioma', 'glioma', 'notumor', 'glioma', 'glioma', 'meningioma', 'meningioma', 'notumor', 'pituitary', 'notumor', 'pituitary', 'meningioma', 'notumor', 'notumor', 'meningioma', 'notumor', 'pituitary', 'glioma', 'meningioma', 'meningioma', 'pituitary', 'meningioma', 'pituitary', 'glioma', 'notumor', 'pituitary', 'notumor', 'pituitary', 'meningioma', 'meningioma', 'meningioma', 'pituitary', 'pituitary', 'glioma', 'glioma', 'glioma', 'meningioma', 'pituitary', 'glioma', 'pituitary', 'glioma', 'meningioma', 'notumor', 'notumor', 'notumor', 'pituitary', 'notumor', 'notumor', 'glioma', 'pituitary', 'notumor', 'glioma', 'pituitary', 'glioma', 'notumor', 'glioma', 'glioma', 'pituitary', 'glioma', 'meningioma', 'glioma', 'meningioma', 'pituitary', 'pituitary', 'glioma', 'glioma', 'notumor', 'pituitary', 'notumor', 'pituitary', 'glioma', 'pituitary', 'glioma', 'notumor', 'meningioma', 'glioma', 'notumor', 'notumor', 'notumor', 'glioma', 'notumor', 'pituitary', 'pituitary', 'notumor', 'glioma', 'glioma', 'meningioma', 'pituitary', 'meningioma', 'meningioma', 'glioma', 'pituitary', 'notumor', 'glioma', 'meningioma', 'glioma', 'glioma', 'glioma', 'glioma', 'pituitary', 'glioma', 'glioma', 'glioma', 'notumor', 'meningioma', 'meningioma', 'notumor', 'glioma', 'notumor', 'glioma', 'pituitary', 'meningioma', 'notumor', 'notumor', 'meningioma', 'meningioma', 'meningioma', 'glioma', 'glioma', 'pituitary', 'pituitary', 'glioma', 'meningioma', 'glioma', 'pituitary', 'meningioma', 'glioma', 'meningioma', 'glioma', 'pituitary', 'glioma', 'meningioma', 'notumor', 'glioma', 'notumor', 'pituitary', 'notumor', 'glioma', 'notumor', 'pituitary', 'glioma', 'notumor', 'meningioma', 'meningioma', 'meningioma', 'pituitary', 'meningioma', 'glioma', 'meningioma', 'glioma', 'notumor', 'meningioma', 'notumor', 'meningioma', 'pituitary', 'notumor', 'pituitary', 'glioma', 'pituitary', 'notumor', 'pituitary', 'glioma', 'pituitary', 'meningioma', 'notumor', 'pituitary', 'pituitary', 'meningioma', 'notumor', 'glioma', 'glioma', 'notumor', 'meningioma', 'glioma', 'notumor', 'meningioma', 'notumor', 'glioma', 'notumor', 'notumor', 'meningioma', 'pituitary', 'notumor', 'notumor', 'pituitary', 'pituitary', 'pituitary', 'pituitary', 'pituitary', 'pituitary', 'pituitary', 'pituitary', 'pituitary', 'glioma', 'glioma', 'meningioma', 'pituitary', 'meningioma', 'notumor', 'notumor', 'meningioma', 'pituitary', 'meningioma', 'notumor', 'glioma', 'meningioma', 'notumor', 'meningioma', 'notumor', 'pituitary', 'meningioma', 'glioma', 'pituitary', 'notumor', 'meningioma', 'glioma', 'pituitary', 'notumor', 'pituitary', 'notumor', 'glioma', 'glioma', 'meningioma', 'glioma', 'notumor', 'pituitary', 'meningioma', 'pituitary', 'notumor', 'meningioma', 'meningioma', 'glioma', 'glioma', 'pituitary', 'pituitary', 'notumor', 'glioma', 'pituitary', 'meningioma', 'pituitary', 'meningioma', 'meningioma', 'notumor', 'meningioma', 'notumor', 'pituitary', 'pituitary', 'glioma', 'pituitary', 'notumor', 'notumor', 'pituitary', 'glioma', 'meningioma', 'glioma', 'pituitary', 'notumor', 'notumor', 'pituitary', 'meningioma', 'glioma', 'meningioma', 'notumor', 'glioma', 'pituitary', 'meningioma', 'pituitary', 'pituitary', 'meningioma', 'meningioma', 'meningioma', 'notumor', 'glioma', 'notumor', 'glioma', 'notumor', 'notumor', 'glioma', 'glioma', 'notumor', 'meningioma', 'meningioma', 'meningioma', 'pituitary', 'meningioma', 'pituitary', 'meningioma', 'meningioma', 'pituitary', 'glioma', 'meningioma', 'notumor', 'pituitary', 'pituitary', 'pituitary', 'glioma', 'notumor', 'notumor', 'glioma', 'notumor', 'notumor', 'pituitary', 'notumor', 'notumor', 'glioma', 'meningioma', 'pituitary', 'notumor', 'glioma', 'pituitary', 'meningioma', 'meningioma', 'meningioma', 'notumor', 'notumor', 'notumor', 'notumor', 'notumor', 'pituitary', 'glioma', 'notumor', 'notumor', 'notumor', 'pituitary', 'glioma', 'meningioma', 'pituitary', 'meningioma', 'meningioma', 'notumor', 'glioma', 'meningioma', 'pituitary', 'meningioma', 'pituitary', 'meningioma', 'pituitary', 'notumor', 'notumor', 'pituitary', 'pituitary', 'meningioma', 'notumor', 'glioma', 'meningioma', 'glioma', 'meningioma', 'notumor', 'pituitary', 'glioma', 'glioma', 'meningioma', 'pituitary', 'meningioma', 'meningioma', 'glioma', 'pituitary', 'notumor', 'notumor', 'pituitary', 'meningioma', 'notumor', 'notumor', 'notumor', 'notumor', 'glioma', 'pituitary', 'notumor', 'glioma', 'glioma', 'glioma', 'notumor', 'pituitary', 'meningioma', 'glioma', 'notumor', 'notumor', 'notumor', 'glioma', 'notumor', 'notumor', 'pituitary', 'glioma', 'notumor', 'meningioma', 'notumor', 'pituitary', 'meningioma', 'meningioma', 'pituitary', 'notumor', 'meningioma', 'pituitary', 'meningioma', 'glioma', 'glioma', 'meningioma', 'meningioma', 'notumor', 'glioma', 'pituitary', 'meningioma', 'pituitary', 'pituitary', 'pituitary', 'notumor', 'meningioma', 'pituitary', 'meningioma', 'notumor', 'pituitary', 'notumor', 'glioma', 'notumor', 'pituitary', 'notumor', 'meningioma', 'notumor', 'glioma', 'notumor', 'notumor', 'pituitary', 'notumor', 'pituitary', 'glioma', 'pituitary', 'pituitary', 'pituitary', 'notumor', 'pituitary', 'glioma', 'glioma', 'notumor', 'glioma', 'notumor', 'notumor', 'pituitary', 'pituitary', 'meningioma', 'glioma', 'meningioma', 'meningioma', 'pituitary', 'pituitary', 'pituitary', 'meningioma', 'glioma', 'meningioma', 'meningioma', 'meningioma', 'glioma', 'meningioma', 'pituitary', 'pituitary', 'notumor', 'pituitary', 'pituitary', 'notumor', 'glioma', 'pituitary', 'meningioma', 'meningioma', 'notumor', 'meningioma', 'notumor', 'meningioma', 'notumor', 'meningioma', 'meningioma', 'meningioma', 'pituitary', 'meningioma', 'glioma', 'notumor', 'glioma', 'notumor', 'notumor', 'pituitary', 'notumor', 'glioma', 'notumor', 'meningioma', 'meningioma', 'glioma', 'notumor', 'glioma', 'notumor', 'notumor', 'glioma', 'glioma', 'notumor', 'notumor', 'glioma', 'glioma', 'notumor', 'pituitary', 'meningioma', 'glioma', 'notumor', 'pituitary', 'notumor', 'pituitary', 'notumor', 'glioma', 'notumor', 'meningioma', 'glioma', 'notumor', 'notumor', 'notumor', 'notumor', 'pituitary', 'pituitary', 'pituitary', 'notumor', 'pituitary', 'notumor', 'meningioma', 'pituitary', 'glioma', 'notumor', 'pituitary', 'notumor', 'pituitary', 'notumor', 'glioma', 'glioma', 'pituitary', 'meningioma', 'meningioma', 'pituitary', 'notumor', 'pituitary', 'glioma', 'notumor', 'meningioma', 'meningioma', 'pituitary', 'meningioma', 'glioma', 'notumor', 'pituitary', 'glioma', 'pituitary', 'meningioma', 'pituitary', 'notumor', 'notumor', 'notumor', 'glioma', 'glioma', 'glioma', 'pituitary', 'notumor', 'glioma', 'meningioma', 'pituitary', 'glioma', 'pituitary', 'meningioma', 'notumor', 'pituitary', 'meningioma', 'glioma', 'glioma', 'pituitary', 'notumor', 'glioma', 'pituitary', 'glioma', 'glioma', 'glioma', 'meningioma', 'glioma', 'notumor', 'glioma', 'notumor', 'pituitary', 'glioma', 'notumor', 'meningioma', 'glioma', 'notumor', 'pituitary', 'notumor', 'pituitary', 'pituitary', 'pituitary', 'pituitary', 'notumor', 'notumor', 'meningioma', 'notumor', 'notumor', 'pituitary', 'meningioma', 'meningioma', 'meningioma', 'glioma', 'pituitary', 'pituitary', 'notumor', 'meningioma', 'pituitary', 'notumor', 'notumor', 'pituitary', 'notumor', 'pituitary', 'meningioma', 'meningioma', 'meningioma', 'glioma', 'pituitary', 'notumor', 'meningioma', 'glioma', 'glioma', 'notumor', 'notumor', 'glioma', 'pituitary', 'meningioma', 'pituitary', 'notumor', 'notumor', 'notumor', 'glioma', 'pituitary', 'notumor', 'pituitary', 'notumor', 'pituitary', 'notumor', 'notumor', 'notumor', 'notumor', 'notumor', 'pituitary', 'glioma', 'meningioma', 'pituitary', 'meningioma', 'pituitary', 'notumor', 'glioma', 'glioma', 'meningioma', 'pituitary', 'pituitary', 'glioma', 'glioma', 'glioma', 'glioma', 'pituitary', 'glioma', 'glioma', 'notumor', 'glioma', 'notumor', 'notumor', 'notumor', 'meningioma', 'pituitary', 'meningioma', 'meningioma', 'pituitary', 'notumor', 'notumor', 'meningioma', 'meningioma', 'pituitary', 'notumor', 'glioma', 'glioma', 'glioma', 'notumor', 'notumor', 'glioma', 'pituitary', 'meningioma', 'pituitary', 'notumor', 'pituitary', 'meningioma', 'notumor', 'meningioma', 'glioma', 'pituitary', 'notumor', 'pituitary', 'meningioma', 'glioma', 'notumor', 'meningioma', 'glioma', 'notumor', 'meningioma', 'glioma', 'notumor', 'meningioma', 'notumor', 'meningioma', 'glioma', 'meningioma', 'notumor', 'notumor', 'pituitary', 'pituitary', 'notumor', 'meningioma', 'pituitary', 'notumor', 'pituitary', 'notumor', 'meningioma', 'pituitary', 'notumor', 'notumor', 'meningioma', 'notumor', 'glioma', 'glioma', 'pituitary', 'meningioma', 'meningioma', 'notumor', 'meningioma', 'notumor', 'meningioma', 'glioma', 'notumor', 'pituitary', 'pituitary', 'notumor', 'pituitary', 'meningioma', 'pituitary', 'meningioma', 'notumor', 'meningioma', 'glioma', 'pituitary', 'notumor', 'meningioma', 'notumor', 'meningioma', 'glioma', 'meningioma', 'glioma', 'glioma', 'glioma', 'notumor', 'meningioma', 'meningioma', 'pituitary', 'notumor', 'glioma', 'glioma', 'pituitary', 'meningioma', 'pituitary', 'glioma', 'pituitary', 'notumor', 'meningioma', 'meningioma', 'pituitary', 'notumor', 'glioma', 'glioma', 'glioma', 'notumor', 'notumor', 'pituitary', 'meningioma', 'notumor', 'glioma', 'pituitary', 'pituitary', 'glioma', 'notumor', 'notumor', 'pituitary', 'pituitary', 'pituitary', 'notumor', 'notumor', 'meningioma', 'pituitary', 'meningioma', 'pituitary', 'pituitary', 'notumor', 'pituitary', 'pituitary', 'glioma', 'notumor', 'notumor', 'pituitary', 'meningioma', 'pituitary', 'notumor', 'meningioma', 'pituitary', 'notumor', 'notumor', 'meningioma', 'glioma', 'pituitary', 'pituitary', 'meningioma', 'notumor', 'notumor', 'glioma', 'notumor', 'meningioma', 'pituitary', 'notumor', 'notumor', 'glioma', 'pituitary', 'notumor', 'pituitary', 'pituitary', 'notumor', 'meningioma', 'notumor', 'meningioma', 'meningioma', 'notumor', 'meningioma', 'meningioma', 'notumor', 'notumor', 'glioma', 'glioma', 'glioma', 'notumor', 'pituitary', 'notumor', 'notumor', 'glioma', 'notumor', 'notumor', 'meningioma', 'pituitary', 'meningioma', 'notumor', 'pituitary', 'glioma', 'pituitary', 'pituitary', 'notumor', 'notumor', 'pituitary', 'meningioma', 'glioma', 'notumor', 'notumor', 'pituitary', 'meningioma', 'glioma', 'meningioma', 'meningioma', 'pituitary', 'glioma', 'pituitary', 'glioma', 'pituitary', 'glioma', 'pituitary', 'pituitary', 'glioma', 'notumor', 'pituitary', 'meningioma', 'pituitary', 'glioma', 'glioma', 'meningioma', 'notumor', 'notumor', 'pituitary', 'notumor', 'notumor', 'meningioma', 'pituitary', 'glioma', 'pituitary', 'notumor', 'notumor', 'pituitary', 'meningioma', 'pituitary', 'notumor', 'glioma', 'notumor', 'pituitary', 'glioma', 'meningioma', 'glioma', 'meningioma', 'meningioma', 'pituitary', 'meningioma', 'meningioma', 'glioma', 'notumor', 'meningioma', 'glioma', 'pituitary', 'notumor', 'notumor', 'meningioma', 'meningioma', 'notumor', 'notumor', 'notumor', 'meningioma', 'glioma', 'meningioma', 'glioma', 'glioma', 'notumor', 'pituitary', 'pituitary', 'notumor', 'notumor', 'glioma', 'notumor', 'pituitary', 'pituitary', 'notumor', 'meningioma', 'glioma', 'glioma', 'meningioma', 'meningioma', 'pituitary', 'pituitary', 'notumor', 'pituitary', 'meningioma', 'meningioma', 'notumor', 'glioma', 'glioma', 'notumor', 'meningioma', 'notumor', 'pituitary', 'pituitary', 'pituitary', 'glioma', 'pituitary', 'glioma', 'notumor', 'glioma', 'notumor', 'notumor', 'meningioma', 'notumor', 'meningioma', 'meningioma', 'glioma', 'meningioma', 'pituitary', 'meningioma', 'pituitary', 'meningioma', 'pituitary', 'meningioma', 'glioma', 'glioma', 'notumor', 'glioma', 'meningioma', 'pituitary', 'pituitary', 'meningioma', 'meningioma', 'pituitary', 'notumor', 'glioma', 'pituitary', 'notumor', 'pituitary', 'notumor', 'glioma', 'meningioma', 'pituitary', 'glioma', 'notumor', 'notumor', 'glioma', 'meningioma', 'pituitary', 'notumor', 'meningioma', 'meningioma', 'meningioma', 'pituitary', 'pituitary', 'glioma', 'meningioma', 'glioma', 'meningioma', 'notumor', 'pituitary', 'pituitary', 'notumor', 'meningioma', 'notumor', 'glioma', 'pituitary', 'notumor', 'notumor', 'glioma', 'notumor', 'pituitary', 'meningioma', 'glioma', 'glioma', 'notumor', 'meningioma', 'notumor', 'notumor', 'meningioma', 'notumor', 'notumor', 'meningioma', 'glioma', 'pituitary', 'meningioma', 'meningioma', 'meningioma', 'pituitary', 'meningioma', 'notumor', 'meningioma', 'notumor', 'notumor', 'glioma', 'meningioma', 'notumor', 'notumor', 'meningioma', 'glioma', 'notumor', 'meningioma', 'notumor', 'meningioma', 'notumor', 'meningioma', 'notumor', 'meningioma', 'pituitary', 'pituitary', 'glioma', 'pituitary', 'notumor', 'pituitary', 'glioma', 'meningioma', 'meningioma', 'pituitary', 'pituitary', 'notumor', 'glioma', 'pituitary', 'pituitary', 'meningioma', 'notumor', 'glioma', 'meningioma', 'glioma', 'glioma', 'notumor', 'pituitary', 'notumor', 'glioma', 'meningioma', 'notumor', 'pituitary', 'pituitary', 'meningioma', 'pituitary', 'pituitary', 'pituitary', 'notumor', 'notumor', 'pituitary', 'glioma', 'notumor', 'pituitary', 'pituitary', 'glioma', 'pituitary', 'pituitary', 'notumor', 'glioma', 'pituitary', 'glioma', 'meningioma', 'meningioma', 'notumor', 'glioma', 'glioma', 'notumor', 'pituitary', 'glioma', 'glioma', 'pituitary', 'glioma', 'pituitary', 'glioma', 'notumor', 'pituitary', 'glioma', 'pituitary', 'meningioma', 'notumor', 'meningioma', 'meningioma', 'pituitary', 'glioma', 'pituitary', 'pituitary', 'pituitary', 'pituitary', 'glioma', 'pituitary', 'glioma', 'meningioma', 'notumor', 'pituitary', 'glioma', 'pituitary', 'notumor', 'glioma', 'glioma', 'meningioma', 'pituitary', 'glioma', 'pituitary', 'meningioma', 'pituitary', 'pituitary', 'notumor', 'notumor', 'pituitary', 'meningioma', 'meningioma', 'glioma', 'notumor', 'glioma', 'notumor', 'meningioma', 'glioma', 'meningioma', 'pituitary', 'meningioma', 'notumor', 'notumor', 'meningioma', 'pituitary', 'pituitary', 'glioma', 'glioma', 'notumor', 'notumor', 'glioma', 'notumor', 'meningioma', 'glioma', 'pituitary', 'glioma', 'notumor', 'meningioma', 'pituitary', 'pituitary', 'notumor', 'notumor', 'meningioma', 'notumor', 'pituitary', 'glioma', 'meningioma', 'glioma', 'glioma', 'pituitary', 'notumor', 'notumor', 'meningioma', 'glioma', 'notumor', 'glioma', 'meningioma', 'notumor', 'pituitary', 'meningioma', 'meningioma', 'notumor', 'pituitary', 'notumor', 'pituitary', 'notumor', 'glioma', 'glioma', 'pituitary', 'glioma', 'notumor', 'meningioma', 'meningioma', 'glioma', 'meningioma', 'pituitary', 'meningioma', 'pituitary', 'pituitary', 'meningioma', 'meningioma', 'notumor', 'pituitary', 'notumor', 'meningioma', 'glioma', 'notumor', 'notumor', 'pituitary', 'pituitary', 'notumor', 'notumor', 'meningioma', 'pituitary', 'glioma', 'pituitary', 'pituitary', 'notumor', 'meningioma', 'glioma', 'notumor', 'glioma', 'notumor', 'glioma', 'glioma', 'pituitary', 'pituitary', 'glioma', 'glioma', 'notumor', 'pituitary', 'glioma', 'notumor', 'notumor', 'meningioma', 'notumor', 'glioma', 'glioma', 'pituitary', 'notumor', 'notumor', 'glioma', 'meningioma', 'meningioma', 'meningioma', 'meningioma', 'notumor', 'notumor', 'meningioma', 'notumor', 'pituitary', 'pituitary', 'meningioma', 'glioma', 'meningioma', 'notumor', 'meningioma', 'glioma', 'meningioma', 'notumor', 'pituitary', 'notumor', 'meningioma', 'pituitary', 'notumor', 'notumor', 'pituitary', 'notumor', 'glioma', 'glioma', 'pituitary', 'notumor', 'pituitary', 'pituitary', 'pituitary', 'pituitary', 'pituitary', 'pituitary', 'pituitary', 'glioma', 'meningioma', 'pituitary', 'meningioma', 'notumor', 'meningioma', 'meningioma', 'glioma', 'glioma', 'pituitary', 'meningioma', 'notumor', 'meningioma', 'pituitary', 'meningioma', 'notumor', 'notumor', 'glioma', 'pituitary', 'meningioma', 'glioma', 'notumor', 'meningioma', 'meningioma', 'pituitary', 'meningioma', 'glioma', 'glioma', 'pituitary', 'notumor', 'glioma', 'notumor', 'notumor', 'pituitary', 'meningioma', 'meningioma', 'pituitary', 'meningioma', 'notumor', 'notumor', 'pituitary', 'glioma', 'meningioma', 'notumor', 'glioma', 'notumor', 'glioma', 'glioma', 'pituitary', 'glioma', 'glioma', 'glioma', 'meningioma', 'notumor', 'pituitary', 'meningioma', 'notumor', 'glioma', 'notumor', 'pituitary', 'notumor', 'meningioma', 'notumor', 'notumor', 'meningioma', 'notumor', 'glioma', 'notumor', 'notumor', 'meningioma', 'meningioma', 'pituitary', 'notumor', 'glioma', 'glioma', 'glioma', 'notumor', 'notumor', 'pituitary', 'pituitary', 'notumor', 'meningioma', 'pituitary', 'notumor', 'pituitary', 'meningioma', 'glioma', 'glioma', 'pituitary', 'pituitary', 'meningioma', 'meningioma', 'pituitary', 'pituitary', 'glioma', 'glioma', 'notumor', 'meningioma', 'pituitary', 'pituitary', 'notumor', 'meningioma', 'glioma', 'meningioma', 'pituitary', 'meningioma', 'meningioma', 'glioma', 'pituitary', 'pituitary', 'notumor', 'notumor', 'pituitary', 'pituitary', 'glioma', 'pituitary', 'notumor', 'meningioma', 'pituitary', 'notumor', 'meningioma', 'notumor', 'notumor', 'pituitary', 'glioma', 'meningioma', 'meningioma', 'pituitary', 'pituitary', 'glioma', 'notumor', 'meningioma', 'meningioma', 'notumor', 'glioma', 'pituitary', 'glioma', 'meningioma', 'pituitary', 'pituitary', 'glioma', 'pituitary', 'glioma', 'pituitary', 'pituitary', 'meningioma', 'meningioma', 'pituitary', 'notumor', 'meningioma', 'pituitary', 'pituitary', 'glioma', 'glioma', 'glioma', 'pituitary', 'meningioma', 'glioma', 'pituitary', 'glioma', 'glioma', 'pituitary', 'notumor', 'notumor', 'pituitary', 'pituitary', 'glioma', 'meningioma', 'glioma', 'meningioma', 'pituitary', 'meningioma', 'pituitary', 'glioma', 'meningioma', 'pituitary', 'meningioma', 'meningioma', 'meningioma', 'meningioma', 'notumor', 'notumor', 'meningioma', 'glioma', 'pituitary', 'notumor', 'notumor', 'meningioma', 'meningioma', 'meningioma', 'meningioma', 'glioma', 'pituitary', 'notumor', 'meningioma', 'notumor', 'notumor', 'pituitary', 'meningioma', 'pituitary', 'glioma', 'pituitary', 'pituitary', 'meningioma', 'pituitary', 'glioma', 'glioma', 'glioma', 'notumor', 'notumor', 'meningioma', 'pituitary', 'pituitary', 'meningioma', 'glioma', 'meningioma', 'notumor', 'pituitary', 'pituitary', 'glioma', 'notumor', 'notumor', 'glioma', 'meningioma', 'notumor', 'glioma', 'glioma', 'notumor', 'pituitary', 'notumor', 'pituitary', 'notumor', 'notumor', 'glioma', 'meningioma', 'pituitary', 'meningioma', 'notumor', 'notumor', 'glioma', 'notumor', 'pituitary', 'meningioma', 'meningioma', 'pituitary', 'notumor', 'pituitary', 'pituitary', 'meningioma', 'glioma', 'glioma', 'meningioma', 'meningioma', 'pituitary', 'meningioma', 'pituitary', 'glioma', 'meningioma', 'glioma', 'pituitary', 'glioma', 'meningioma', 'glioma', 'meningioma', 'glioma', 'meningioma', 'notumor', 'notumor', 'glioma', 'pituitary', 'glioma', 'notumor', 'glioma', 'glioma', 'notumor', 'notumor', 'notumor', 'notumor', 'notumor', 'pituitary', 'notumor', 'meningioma', 'glioma', 'notumor', 'glioma', 'notumor', 'pituitary', 'notumor', 'meningioma', 'meningioma', 'glioma', 'notumor', 'notumor', 'pituitary', 'notumor', 'notumor', 'meningioma', 'meningioma', 'meningioma', 'notumor', 'pituitary', 'glioma', 'glioma', 'notumor', 'meningioma', 'pituitary', 'glioma', 'pituitary', 'meningioma', 'notumor', 'meningioma', 'notumor', 'pituitary', 'pituitary', 'pituitary', 'notumor', 'notumor', 'notumor', 'meningioma', 'pituitary', 'meningioma', 'pituitary', 'meningioma', 'meningioma', 'glioma', 'pituitary', 'pituitary', 'pituitary', 'glioma', 'pituitary', 'meningioma', 'glioma', 'meningioma', 'glioma', 'meningioma', 'meningioma', 'glioma', 'notumor', 'meningioma', 'meningioma', 'pituitary', 'meningioma', 'notumor', 'pituitary', 'notumor', 'pituitary', 'glioma', 'pituitary', 'pituitary', 'pituitary', 'notumor', 'glioma', 'pituitary', 'pituitary', 'notumor', 'meningioma', 'glioma', 'glioma', 'meningioma', 'meningioma', 'notumor', 'meningioma', 'pituitary', 'notumor', 'notumor', 'pituitary', 'pituitary', 'notumor', 'pituitary', 'glioma', 'meningioma', 'pituitary', 'notumor', 'meningioma', 'glioma', 'glioma', 'meningioma', 'notumor', 'meningioma', 'glioma', 'pituitary', 'pituitary', 'pituitary', 'meningioma', 'pituitary', 'pituitary', 'pituitary', 'notumor', 'meningioma', 'meningioma', 'glioma', 'notumor', 'pituitary', 'glioma', 'meningioma', 'notumor', 'pituitary', 'meningioma', 'meningioma', 'pituitary', 'glioma', 'glioma', 'pituitary', 'glioma', 'pituitary', 'meningioma', 'glioma', 'pituitary', 'glioma', 'pituitary', 'notumor', 'pituitary', 'notumor', 'notumor', 'meningioma', 'notumor', 'pituitary', 'glioma', 'notumor', 'meningioma', 'notumor', 'pituitary', 'notumor', 'glioma', 'pituitary', 'notumor', 'notumor', 'notumor', 'glioma', 'glioma', 'glioma', 'meningioma', 'notumor', 'pituitary', 'notumor', 'notumor', 'notumor', 'meningioma', 'notumor', 'notumor', 'notumor', 'pituitary', 'meningioma', 'pituitary', 'glioma', 'notumor', 'pituitary', 'pituitary', 'meningioma', 'notumor', 'glioma', 'notumor', 'notumor', 'glioma', 'notumor', 'pituitary', 'meningioma', 'glioma', 'notumor', 'meningioma', 'meningioma', 'notumor', 'notumor', 'notumor', 'glioma', 'pituitary', 'pituitary', 'notumor', 'notumor', 'meningioma', 'notumor', 'notumor', 'pituitary', 'glioma', 'notumor', 'glioma', 'notumor', 'notumor', 'meningioma', 'meningioma', 'meningioma', 'notumor', 'notumor', 'pituitary', 'glioma', 'pituitary', 'glioma', 'glioma', 'meningioma', 'notumor', 'notumor', 'glioma', 'notumor', 'pituitary', 'meningioma', 'notumor', 'glioma', 'pituitary', 'glioma', 'notumor', 'meningioma', 'pituitary', 'notumor', 'pituitary', 'glioma', 'glioma', 'pituitary', 'pituitary', 'notumor', 'notumor', 'pituitary', 'notumor', 'glioma', 'notumor', 'pituitary', 'notumor', 'notumor', 'meningioma', 'glioma', 'notumor', 'notumor', 'pituitary', 'meningioma', 'meningioma', 'meningioma', 'notumor', 'glioma', 'pituitary', 'meningioma', 'notumor', 'pituitary', 'meningioma', 'meningioma', 'meningioma', 'meningioma', 'glioma', 'glioma', 'meningioma', 'meningioma', 'notumor', 'meningioma', 'meningioma', 'glioma', 'notumor', 'meningioma', 'meningioma', 'pituitary', 'notumor', 'meningioma', 'pituitary', 'glioma', 'notumor', 'meningioma', 'pituitary', 'glioma', 'meningioma', 'pituitary', 'pituitary', 'meningioma', 'meningioma', 'meningioma', 'meningioma', 'notumor', 'notumor', 'notumor', 'pituitary', 'pituitary', 'notumor', 'meningioma', 'glioma', 'pituitary', 'pituitary', 'pituitary', 'glioma', 'pituitary', 'notumor', 'meningioma', 'meningioma', 'glioma', 'meningioma', 'meningioma', 'glioma', 'notumor', 'notumor', 'meningioma', 'meningioma', 'pituitary', 'meningioma', 'notumor', 'pituitary', 'glioma', 'pituitary', 'pituitary', 'notumor', 'notumor', 'pituitary', 'meningioma', 'glioma', 'notumor', 'meningioma', 'glioma', 'notumor', 'pituitary', 'meningioma', 'glioma', 'pituitary', 'meningioma', 'pituitary', 'glioma', 'notumor', 'glioma', 'pituitary', 'glioma', 'notumor', 'pituitary', 'glioma', 'glioma', 'notumor', 'meningioma', 'meningioma', 'meningioma', 'notumor', 'glioma', 'notumor', 'meningioma', 'pituitary', 'meningioma', 'pituitary', 'meningioma', 'pituitary', 'pituitary', 'meningioma', 'meningioma', 'meningioma', 'glioma', 'meningioma', 'glioma', 'pituitary', 'meningioma', 'glioma', 'pituitary', 'notumor', 'notumor', 'notumor', 'notumor', 'notumor', 'notumor', 'notumor', 'meningioma', 'glioma', 'glioma', 'glioma', 'notumor', 'glioma', 'pituitary', 'notumor', 'meningioma', 'meningioma', 'pituitary', 'notumor', 'meningioma', 'meningioma', 'meningioma', 'notumor', 'notumor', 'notumor', 'pituitary', 'meningioma', 'glioma', 'meningioma', 'notumor', 'glioma', 'notumor', 'glioma', 'glioma', 'notumor', 'pituitary', 'meningioma', 'pituitary', 'pituitary', 'pituitary', 'notumor', 'meningioma', 'meningioma', 'notumor', 'notumor', 'meningioma', 'meningioma', 'meningioma', 'notumor', 'notumor', 'meningioma', 'meningioma', 'pituitary', 'pituitary', 'meningioma', 'pituitary', 'glioma', 'pituitary', 'pituitary', 'pituitary', 'pituitary', 'meningioma', 'glioma', 'meningioma', 'pituitary', 'glioma', 'notumor', 'pituitary', 'notumor', 'notumor', 'pituitary', 'notumor', 'meningioma', 'notumor', 'notumor', 'notumor', 'glioma', 'notumor', 'glioma', 'notumor', 'pituitary', 'pituitary', 'notumor', 'notumor', 'pituitary', 'meningioma', 'pituitary', 'notumor', 'notumor', 'pituitary', 'meningioma', 'glioma', 'notumor', 'pituitary', 'notumor', 'meningioma', 'notumor', 'glioma', 'notumor', 'meningioma', 'pituitary', 'pituitary', 'pituitary', 'glioma', 'glioma', 'glioma', 'glioma', 'glioma', 'glioma', 'glioma', 'meningioma', 'notumor', 'pituitary', 'meningioma', 'notumor', 'meningioma', 'meningioma', 'notumor', 'pituitary', 'glioma', 'glioma', 'glioma', 'notumor', 'glioma', 'pituitary', 'pituitary', 'pituitary', 'pituitary', 'meningioma', 'glioma', 'notumor', 'notumor', 'notumor', 'notumor', 'notumor', 'glioma', 'meningioma', 'glioma', 'glioma', 'glioma', 'notumor', 'pituitary', 'pituitary', 'pituitary', 'pituitary', 'notumor', 'pituitary', 'pituitary', 'glioma', 'notumor', 'glioma', 'notumor', 'notumor', 'notumor', 'notumor', 'meningioma', 'notumor', 'pituitary', 'pituitary', 'pituitary', 'pituitary', 'notumor', 'glioma', 'glioma', 'pituitary', 'pituitary', 'pituitary', 'notumor', 'glioma', 'meningioma', 'glioma', 'meningioma', 'meningioma', 'meningioma', 'pituitary', 'pituitary', 'meningioma', 'glioma', 'pituitary', 'notumor', 'pituitary', 'meningioma', 'glioma', 'notumor', 'glioma', 'meningioma', 'notumor', 'notumor', 'notumor', 'glioma', 'pituitary', 'pituitary', 'glioma', 'notumor', 'meningioma', 'notumor', 'pituitary', 'notumor', 'meningioma', 'notumor', 'pituitary', 'notumor', 'meningioma', 'notumor', 'glioma', 'glioma', 'notumor', 'notumor', 'pituitary', 'meningioma', 'glioma', 'glioma', 'notumor', 'notumor', 'pituitary', 'glioma', 'pituitary', 'meningioma', 'pituitary', 'pituitary', 'glioma', 'notumor', 'meningioma', 'notumor', 'pituitary', 'meningioma', 'glioma', 'meningioma', 'glioma', 'glioma', 'notumor', 'meningioma', 'meningioma', 'notumor', 'notumor', 'meningioma', 'notumor', 'notumor', 'notumor', 'notumor', 'glioma', 'pituitary', 'notumor', 'notumor', 'glioma', 'glioma', 'pituitary', 'glioma', 'pituitary', 'notumor', 'pituitary', 'notumor', 'glioma', 'glioma', 'pituitary', 'meningioma', 'meningioma', 'notumor', 'glioma', 'notumor', 'meningioma', 'pituitary', 'glioma', 'meningioma', 'pituitary', 'pituitary', 'meningioma', 'meningioma', 'glioma', 'notumor', 'meningioma', 'notumor', 'pituitary', 'pituitary', 'meningioma', 'glioma', 'meningioma', 'glioma', 'notumor', 'notumor', 'glioma', 'meningioma', 'notumor', 'notumor', 'glioma', 'pituitary', 'pituitary', 'glioma', 'glioma', 'glioma', 'glioma', 'meningioma', 'glioma', 'meningioma', 'notumor', 'notumor', 'notumor', 'pituitary', 'meningioma', 'glioma', 'pituitary', 'meningioma', 'notumor', 'glioma', 'glioma', 'glioma', 'meningioma', 'glioma', 'meningioma', 'notumor', 'meningioma', 'pituitary', 'notumor', 'glioma', 'glioma', 'notumor', 'pituitary', 'pituitary', 'meningioma', 'pituitary', 'pituitary', 'pituitary', 'notumor', 'pituitary', 'pituitary', 'notumor', 'pituitary', 'meningioma', 'pituitary', 'notumor', 'notumor', 'glioma', 'pituitary', 'meningioma', 'glioma', 'pituitary', 'meningioma', 'meningioma', 'pituitary', 'pituitary', 'notumor', 'meningioma', 'glioma', 'meningioma', 'glioma', 'meningioma', 'pituitary', 'pituitary', 'pituitary', 'pituitary', 'glioma', 'glioma', 'notumor', 'notumor', 'notumor', 'pituitary', 'meningioma', 'notumor', 'glioma', 'notumor', 'glioma', 'pituitary', 'pituitary', 'pituitary', 'meningioma', 'meningioma', 'meningioma', 'pituitary', 'glioma', 'pituitary', 'notumor', 'meningioma', 'notumor', 'glioma', 'notumor', 'glioma', 'meningioma', 'pituitary', 'meningioma', 'glioma', 'glioma', 'meningioma', 'glioma', 'pituitary', 'pituitary', 'pituitary', 'notumor', 'notumor', 'notumor', 'notumor', 'pituitary', 'glioma', 'meningioma', 'pituitary', 'meningioma', 'glioma', 'meningioma', 'meningioma', 'meningioma', 'notumor', 'pituitary', 'notumor', 'meningioma', 'meningioma', 'notumor', 'meningioma', 'pituitary', 'notumor', 'glioma', 'notumor', 'notumor', 'meningioma', 'glioma', 'glioma', 'glioma', 'pituitary', 'meningioma', 'notumor', 'notumor', 'pituitary', 'notumor', 'pituitary', 'notumor', 'meningioma', 'notumor', 'pituitary', 'notumor', 'notumor', 'glioma', 'pituitary', 'notumor', 'glioma', 'notumor', 'pituitary', 'meningioma', 'pituitary', 'glioma', 'pituitary', 'notumor', 'meningioma', 'meningioma', 'glioma', 'pituitary', 'meningioma', 'pituitary', 'glioma', 'notumor', 'glioma', 'glioma', 'glioma', 'notumor', 'meningioma', 'notumor', 'glioma', 'glioma', 'pituitary', 'notumor', 'glioma', 'pituitary', 'pituitary', 'notumor', 'notumor', 'pituitary', 'notumor', 'glioma', 'notumor', 'notumor', 'glioma', 'meningioma', 'meningioma', 'notumor', 'pituitary', 'notumor', 'glioma', 'meningioma', 'glioma', 'notumor', 'meningioma', 'meningioma', 'meningioma', 'glioma', 'glioma', 'pituitary', 'pituitary', 'glioma', 'glioma', 'meningioma', 'pituitary', 'notumor', 'glioma', 'glioma', 'pituitary', 'pituitary', 'notumor', 'meningioma', 'pituitary', 'glioma', 'glioma', 'meningioma', 'glioma', 'meningioma', 'glioma', 'notumor', 'pituitary', 'pituitary', 'glioma', 'pituitary', 'notumor', 'notumor', 'pituitary', 'notumor', 'notumor', 'glioma', 'glioma', 'meningioma', 'pituitary', 'glioma', 'notumor', 'notumor', 'pituitary', 'pituitary', 'meningioma', 'glioma', 'glioma', 'notumor', 'pituitary', 'meningioma', 'pituitary', 'glioma', 'notumor', 'notumor', 'pituitary', 'glioma', 'notumor', 'notumor', 'meningioma', 'notumor', 'glioma', 'glioma', 'meningioma', 'meningioma', 'meningioma', 'glioma', 'pituitary', 'pituitary', 'notumor', 'notumor', 'pituitary', 'notumor', 'glioma', 'notumor', 'notumor', 'glioma', 'meningioma', 'notumor', 'glioma', 'glioma', 'glioma', 'notumor', 'notumor', 'meningioma', 'pituitary', 'notumor', 'meningioma', 'pituitary', 'glioma', 'glioma', 'meningioma', 'pituitary', 'pituitary', 'notumor', 'notumor', 'glioma', 'notumor', 'meningioma', 'notumor', 'notumor', 'notumor', 'glioma', 'meningioma', 'notumor', 'meningioma', 'notumor', 'meningioma', 'notumor', 'notumor', 'notumor', 'meningioma', 'glioma', 'meningioma', 'notumor', 'glioma', 'meningioma', 'meningioma', 'glioma', 'meningioma', 'pituitary', 'notumor', 'notumor', 'pituitary', 'notumor', 'notumor', 'meningioma', 'glioma', 'glioma', 'pituitary', 'pituitary', 'glioma', 'notumor', 'glioma', 'glioma', 'pituitary', 'meningioma', 'glioma', 'pituitary', 'glioma', 'glioma', 'glioma', 'glioma', 'meningioma', 'glioma', 'pituitary', 'glioma', 'pituitary', 'glioma', 'pituitary', 'notumor', 'glioma', 'notumor', 'pituitary', 'glioma', 'pituitary', 'meningioma', 'pituitary', 'meningioma', 'pituitary', 'glioma', 'pituitary', 'pituitary', 'glioma', 'notumor', 'pituitary', 'pituitary', 'notumor', 'meningioma', 'notumor', 'notumor', 'pituitary', 'meningioma', 'meningioma', 'glioma', 'pituitary', 'notumor', 'notumor', 'pituitary', 'pituitary', 'meningioma', 'pituitary', 'pituitary', 'notumor', 'pituitary', 'notumor', 'glioma', 'meningioma', 'meningioma', 'notumor', 'notumor', 'pituitary', 'meningioma', 'pituitary', 'pituitary', 'glioma', 'meningioma', 'notumor', 'notumor', 'glioma', 'notumor', 'pituitary', 'notumor', 'glioma', 'glioma', 'notumor', 'notumor', 'glioma', 'glioma', 'meningioma', 'pituitary', 'pituitary', 'notumor', 'notumor', 'pituitary', 'meningioma', 'glioma', 'pituitary', 'pituitary', 'glioma', 'notumor', 'pituitary', 'pituitary', 'meningioma', 'notumor', 'pituitary', 'glioma', 'notumor', 'notumor', 'glioma', 'pituitary', 'glioma', 'pituitary', 'pituitary', 'pituitary', 'pituitary', 'pituitary', 'meningioma', 'pituitary', 'glioma', 'glioma', 'pituitary', 'notumor', 'pituitary', 'notumor', 'glioma', 'meningioma', 'glioma', 'notumor', 'notumor', 'pituitary', 'notumor', 'glioma', 'pituitary', 'glioma', 'notumor', 'pituitary', 'glioma', 'meningioma', 'notumor', 'pituitary', 'meningioma', 'meningioma', 'pituitary', 'glioma', 'pituitary', 'glioma', 'glioma', 'notumor', 'glioma', 'pituitary', 'meningioma', 'glioma', 'notumor', 'pituitary', 'notumor', 'pituitary', 'meningioma', 'meningioma', 'notumor', 'pituitary', 'glioma', 'pituitary', 'notumor', 'glioma', 'glioma', 'meningioma', 'pituitary', 'meningioma', 'glioma', 'notumor', 'meningioma', 'pituitary', 'notumor', 'pituitary', 'glioma', 'notumor', 'glioma', 'glioma', 'notumor', 'glioma', 'meningioma', 'notumor', 'pituitary', 'glioma', 'notumor', 'notumor', 'glioma', 'notumor', 'notumor', 'meningioma', 'pituitary', 'notumor', 'glioma', 'glioma', 'meningioma', 'pituitary', 'notumor', 'glioma', 'pituitary', 'meningioma', 'meningioma', 'glioma', 'pituitary', 'notumor', 'notumor', 'glioma', 'meningioma', 'notumor', 'glioma', 'notumor', 'meningioma', 'notumor', 'glioma', 'notumor', 'glioma', 'meningioma', 'meningioma', 'notumor', 'notumor', 'meningioma', 'pituitary', 'pituitary', 'meningioma', 'meningioma', 'notumor', 'glioma', 'glioma', 'notumor', 'pituitary', 'meningioma', 'notumor', 'notumor', 'glioma', 'notumor', 'meningioma', 'notumor', 'meningioma', 'pituitary', 'notumor', 'notumor', 'pituitary', 'glioma', 'notumor', 'meningioma', 'notumor', 'notumor', 'meningioma', 'meningioma', 'glioma', 'glioma', 'glioma', 'meningioma', 'pituitary', 'pituitary', 'glioma', 'glioma', 'meningioma', 'notumor', 'pituitary', 'glioma', 'pituitary', 'meningioma', 'pituitary', 'meningioma', 'notumor', 'pituitary', 'meningioma', 'notumor', 'glioma', 'glioma', 'pituitary', 'meningioma', 'glioma', 'notumor', 'notumor', 'notumor', 'notumor', 'pituitary', 'meningioma', 'meningioma', 'notumor', 'meningioma', 'notumor', 'notumor', 'meningioma', 'pituitary', 'notumor', 'glioma', 'glioma', 'notumor', 'meningioma', 'pituitary', 'notumor', 'meningioma', 'pituitary', 'meningioma', 'glioma', 'pituitary', 'notumor', 'pituitary', 'glioma', 'meningioma', 'meningioma', 'pituitary', 'notumor', 'pituitary', 'glioma', 'pituitary', 'pituitary', 'glioma', 'notumor', 'glioma', 'glioma', 'meningioma', 'pituitary', 'pituitary', 'notumor', 'notumor', 'notumor', 'pituitary', 'notumor', 'pituitary', 'pituitary', 'pituitary', 'pituitary', 'meningioma', 'meningioma', 'glioma', 'meningioma', 'pituitary', 'meningioma', 'notumor', 'meningioma', 'meningioma', 'notumor', 'pituitary', 'glioma', 'notumor', 'glioma', 'glioma', 'notumor', 'notumor', 'notumor', 'notumor', 'pituitary', 'glioma', 'meningioma', 'glioma', 'glioma', 'notumor', 'glioma', 'meningioma', 'notumor', 'pituitary', 'meningioma', 'glioma', 'meningioma', 'meningioma', 'meningioma', 'notumor', 'notumor', 'glioma', 'pituitary', 'meningioma', 'meningioma', 'glioma', 'notumor', 'notumor', 'meningioma', 'glioma', 'notumor', 'notumor', 'pituitary', 'pituitary', 'notumor', 'notumor', 'glioma', 'notumor', 'pituitary', 'meningioma', 'notumor', 'glioma', 'meningioma', 'notumor', 'glioma', 'meningioma', 'meningioma', 'meningioma', 'pituitary', 'pituitary', 'pituitary', 'notumor', 'glioma', 'glioma', 'meningioma', 'pituitary', 'glioma', 'notumor', 'pituitary', 'meningioma', 'meningioma', 'pituitary', 'glioma', 'notumor', 'notumor', 'glioma', 'notumor', 'glioma', 'meningioma', 'pituitary', 'pituitary', 'meningioma', 'meningioma', 'notumor', 'pituitary', 'notumor', 'meningioma', 'meningioma', 'notumor', 'meningioma', 'meningioma', 'meningioma', 'glioma', 'meningioma', 'meningioma', 'glioma', 'meningioma', 'notumor', 'notumor', 'glioma', 'pituitary', 'notumor', 'pituitary', 'meningioma', 'notumor', 'pituitary', 'meningioma', 'notumor', 'notumor', 'glioma', 'pituitary', 'notumor', 'notumor', 'notumor', 'pituitary', 'notumor', 'notumor', 'notumor', 'notumor', 'meningioma', 'notumor', 'glioma', 'notumor', 'meningioma', 'glioma', 'notumor', 'notumor', 'meningioma', 'notumor', 'pituitary', 'glioma', 'pituitary', 'glioma', 'notumor', 'meningioma', 'pituitary', 'meningioma', 'pituitary', 'glioma', 'pituitary', 'glioma', 'glioma', 'notumor', 'meningioma', 'meningioma', 'notumor', 'notumor', 'pituitary', 'pituitary', 'glioma', 'meningioma', 'pituitary', 'glioma', 'notumor', 'notumor', 'notumor', 'pituitary', 'meningioma', 'meningioma', 'notumor', 'notumor', 'notumor', 'pituitary', 'meningioma', 'pituitary', 'pituitary', 'pituitary', 'pituitary', 'glioma', 'notumor', 'glioma', 'pituitary', 'pituitary', 'glioma', 'glioma', 'glioma', 'glioma', 'pituitary', 'glioma', 'pituitary', 'meningioma', 'pituitary', 'notumor', 'notumor', 'pituitary', 'notumor', 'pituitary', 'notumor', 'meningioma', 'notumor', 'glioma', 'pituitary', 'pituitary', 'glioma', 'pituitary', 'meningioma', 'notumor', 'notumor', 'meningioma', 'glioma', 'pituitary', 'pituitary', 'pituitary', 'pituitary', 'glioma', 'meningioma', 'notumor', 'pituitary', 'glioma', 'notumor', 'glioma', 'meningioma', 'glioma', 'notumor', 'meningioma', 'notumor', 'notumor', 'pituitary', 'meningioma', 'pituitary', 'notumor', 'glioma', 'pituitary', 'meningioma', 'meningioma', 'meningioma', 'notumor', 'pituitary', 'glioma', 'notumor', 'notumor', 'meningioma', 'notumor', 'pituitary', 'meningioma', 'meningioma', 'pituitary', 'pituitary', 'glioma', 'pituitary', 'notumor', 'pituitary', 'pituitary', 'pituitary', 'glioma', 'meningioma', 'pituitary', 'meningioma', 'glioma', 'notumor', 'pituitary', 'notumor', 'pituitary', 'pituitary', 'pituitary', 'meningioma', 'meningioma', 'meningioma', 'meningioma', 'notumor', 'meningioma', 'glioma', 'glioma', 'meningioma', 'glioma', 'pituitary', 'glioma', 'notumor', 'pituitary', 'notumor', 'glioma', 'glioma', 'glioma', 'notumor', 'glioma', 'glioma', 'glioma', 'pituitary', 'notumor', 'glioma', 'pituitary', 'glioma', 'meningioma', 'glioma', 'notumor', 'notumor', 'pituitary', 'notumor', 'notumor', 'pituitary', 'pituitary', 'meningioma', 'pituitary', 'pituitary', 'meningioma', 'glioma', 'notumor', 'notumor', 'meningioma', 'pituitary', 'pituitary', 'notumor', 'pituitary', 'pituitary', 'meningioma', 'pituitary', 'notumor', 'meningioma', 'pituitary', 'notumor', 'pituitary', 'glioma', 'meningioma', 'glioma', 'glioma', 'pituitary', 'notumor', 'notumor', 'meningioma', 'glioma', 'glioma', 'pituitary', 'meningioma', 'meningioma', 'pituitary', 'meningioma', 'notumor', 'meningioma', 'notumor', 'meningioma', 'notumor', 'glioma', 'pituitary', 'meningioma', 'glioma', 'notumor', 'pituitary', 'notumor', 'meningioma', 'glioma', 'meningioma', 'glioma', 'glioma', 'glioma', 'pituitary', 'glioma', 'meningioma', 'pituitary', 'meningioma', 'notumor', 'notumor', 'notumor', 'notumor', 'pituitary', 'pituitary', 'pituitary', 'pituitary', 'pituitary', 'meningioma', 'notumor', 'pituitary', 'glioma', 'notumor', 'meningioma', 'meningioma', 'notumor', 'notumor', 'pituitary', 'glioma', 'notumor', 'glioma', 'meningioma', 'pituitary', 'notumor', 'glioma', 'pituitary', 'notumor', 'meningioma', 'glioma', 'meningioma', 'glioma', 'pituitary', 'notumor', 'notumor', 'notumor', 'notumor', 'notumor', 'pituitary', 'notumor', 'notumor', 'notumor', 'notumor', 'notumor', 'glioma', 'meningioma', 'pituitary', 'pituitary', 'notumor', 'meningioma', 'meningioma', 'meningioma', 'notumor', 'notumor', 'pituitary', 'pituitary', 'meningioma', 'pituitary', 'pituitary', 'pituitary', 'meningioma', 'pituitary', 'meningioma', 'pituitary', 'meningioma', 'notumor', 'glioma', 'notumor', 'notumor', 'notumor', 'meningioma', 'pituitary', 'meningioma', 'notumor', 'glioma', 'glioma', 'glioma', 'pituitary', 'notumor', 'notumor', 'glioma', 'pituitary', 'meningioma', 'glioma', 'glioma', 'pituitary', 'notumor', 'pituitary', 'pituitary', 'meningioma', 'meningioma', 'meningioma', 'glioma', 'meningioma', 'meningioma', 'pituitary', 'notumor', 'meningioma', 'pituitary', 'meningioma', 'pituitary', 'pituitary', 'pituitary', 'pituitary', 'meningioma', 'meningioma', 'glioma', 'glioma', 'meningioma', 'pituitary', 'pituitary', 'meningioma', 'meningioma', 'notumor', 'notumor', 'meningioma', 'glioma', 'pituitary', 'notumor', 'meningioma', 'pituitary', 'meningioma', 'meningioma', 'glioma', 'notumor', 'glioma', 'pituitary', 'pituitary', 'meningioma', 'glioma', 'meningioma', 'meningioma', 'pituitary', 'notumor', 'glioma', 'meningioma', 'pituitary', 'meningioma', 'notumor', 'meningioma', 'notumor', 'meningioma', 'notumor', 'glioma', 'pituitary', 'meningioma', 'meningioma', 'glioma', 'meningioma', 'glioma', 'notumor', 'glioma', 'meningioma', 'notumor', 'notumor', 'pituitary', 'glioma', 'pituitary', 'notumor', 'notumor', 'pituitary', 'notumor', 'meningioma', 'notumor', 'glioma', 'notumor', 'glioma', 'meningioma', 'notumor', 'notumor', 'notumor', 'notumor', 'meningioma', 'pituitary', 'meningioma', 'meningioma', 'pituitary', 'glioma', 'meningioma', 'glioma', 'glioma', 'meningioma', 'pituitary', 'glioma', 'glioma', 'notumor', 'pituitary', 'notumor', 'pituitary', 'pituitary', 'glioma', 'meningioma', 'glioma', 'meningioma', 'notumor', 'meningioma', 'meningioma', 'meningioma', 'notumor', 'notumor', 'notumor', 'notumor', 'glioma', 'notumor', 'pituitary', 'notumor', 'pituitary', 'notumor', 'notumor', 'pituitary', 'glioma', 'pituitary', 'notumor', 'glioma', 'pituitary', 'glioma', 'meningioma', 'pituitary', 'pituitary', 'notumor', 'pituitary', 'notumor', 'pituitary', 'glioma', 'pituitary', 'notumor', 'glioma', 'pituitary', 'notumor', 'notumor', 'pituitary', 'glioma', 'meningioma', 'notumor', 'glioma', 'glioma', 'meningioma', 'notumor', 'notumor', 'meningioma', 'pituitary', 'glioma', 'pituitary', 'glioma', 'notumor', 'notumor', 'notumor', 'meningioma', 'notumor', 'meningioma', 'glioma', 'notumor', 'meningioma', 'notumor', 'glioma', 'pituitary', 'pituitary', 'notumor', 'notumor', 'glioma', 'meningioma', 'meningioma', 'pituitary', 'meningioma', 'glioma', 'notumor', 'meningioma', 'notumor', 'pituitary', 'notumor', 'notumor', 'notumor', 'notumor', 'meningioma', 'pituitary', 'meningioma', 'meningioma', 'pituitary', 'notumor', 'glioma', 'notumor', 'notumor', 'pituitary', 'notumor', 'glioma', 'notumor', 'notumor', 'glioma', 'glioma', 'notumor', 'pituitary', 'glioma', 'notumor', 'notumor', 'glioma', 'glioma', 'glioma', 'notumor', 'pituitary', 'meningioma', 'notumor', 'notumor', 'meningioma', 'pituitary', 'glioma', 'pituitary', 'notumor', 'notumor', 'notumor', 'pituitary', 'notumor', 'glioma', 'notumor', 'notumor', 'pituitary', 'meningioma', 'notumor', 'pituitary', 'pituitary', 'notumor', 'meningioma', 'pituitary', 'glioma', 'notumor', 'glioma', 'meningioma', 'glioma', 'notumor', 'notumor', 'meningioma', 'pituitary', 'glioma', 'notumor', 'pituitary', 'pituitary', 'notumor', 'notumor', 'meningioma', 'pituitary', 'meningioma', 'meningioma', 'pituitary', 'meningioma', 'pituitary', 'pituitary', 'notumor', 'meningioma', 'notumor', 'meningioma', 'pituitary', 'meningioma', 'notumor', 'meningioma', 'meningioma', 'notumor', 'notumor', 'pituitary', 'meningioma', 'notumor', 'pituitary', 'notumor', 'notumor', 'pituitary', 'glioma', 'pituitary', 'meningioma', 'notumor', 'notumor', 'meningioma', 'meningioma', 'notumor', 'glioma', 'meningioma', 'meningioma', 'notumor', 'glioma', 'meningioma', 'glioma', 'pituitary', 'glioma', 'pituitary', 'glioma', 'notumor', 'glioma', 'glioma', 'meningioma', 'meningioma', 'notumor', 'glioma', 'glioma', 'meningioma', 'meningioma', 'meningioma', 'meningioma', 'glioma', 'meningioma', 'notumor', 'notumor', 'glioma', 'glioma', 'meningioma', 'meningioma', 'meningioma', 'glioma', 'notumor', 'notumor', 'pituitary', 'pituitary', 'meningioma', 'notumor', 'meningioma', 'meningioma', 'pituitary', 'glioma', 'notumor', 'glioma', 'notumor', 'notumor', 'notumor', 'glioma', 'pituitary', 'pituitary', 'meningioma', 'meningioma', 'glioma', 'glioma', 'pituitary', 'meningioma', 'notumor', 'pituitary', 'notumor', 'meningioma', 'notumor', 'notumor', 'glioma', 'pituitary', 'meningioma', 'pituitary', 'glioma', 'notumor', 'notumor', 'notumor', 'glioma', 'notumor', 'pituitary', 'pituitary', 'glioma', 'notumor', 'pituitary', 'notumor', 'meningioma', 'meningioma', 'notumor', 'pituitary', 'pituitary', 'glioma', 'pituitary', 'pituitary', 'glioma', 'notumor', 'notumor', 'meningioma', 'notumor', 'glioma', 'pituitary', 'glioma', 'glioma', 'meningioma', 'glioma', 'meningioma', 'glioma', 'notumor', 'glioma', 'notumor', 'meningioma', 'glioma', 'pituitary', 'meningioma', 'glioma', 'pituitary', 'pituitary', 'glioma', 'glioma', 'notumor', 'meningioma', 'meningioma', 'meningioma', 'glioma', 'notumor', 'meningioma', 'glioma', 'meningioma', 'glioma', 'notumor', 'pituitary', 'glioma', 'notumor', 'pituitary', 'glioma', 'notumor', 'meningioma', 'glioma', 'meningioma', 'pituitary', 'meningioma', 'meningioma', 'meningioma', 'glioma', 'meningioma', 'pituitary', 'notumor', 'meningioma', 'glioma', 'meningioma', 'glioma', 'notumor', 'glioma', 'notumor', 'notumor', 'notumor', 'notumor', 'meningioma', 'meningioma', 'notumor', 'pituitary', 'glioma', 'pituitary', 'notumor', 'glioma', 'notumor', 'notumor', 'pituitary', 'pituitary', 'meningioma', 'meningioma', 'notumor', 'pituitary', 'notumor', 'meningioma', 'glioma', 'pituitary', 'pituitary', 'notumor', 'pituitary', 'notumor', 'meningioma', 'notumor', 'meningioma', 'notumor', 'meningioma', 'pituitary', 'meningioma', 'notumor', 'meningioma', 'glioma', 'glioma', 'notumor', 'notumor', 'pituitary', 'meningioma', 'meningioma', 'pituitary', 'pituitary', 'notumor', 'glioma', 'pituitary', 'pituitary', 'notumor', 'notumor', 'glioma', 'pituitary', 'pituitary', 'notumor', 'glioma', 'pituitary', 'pituitary', 'notumor', 'notumor', 'glioma', 'notumor', 'glioma', 'notumor', 'pituitary', 'glioma', 'notumor', 'pituitary', 'notumor', 'glioma', 'meningioma', 'notumor', 'notumor', 'glioma', 'notumor', 'meningioma', 'pituitary', 'pituitary', 'pituitary', 'meningioma', 'meningioma', 'notumor', 'glioma', 'meningioma', 'notumor', 'pituitary', 'glioma', 'meningioma', 'notumor', 'notumor', 'pituitary', 'notumor', 'notumor', 'glioma', 'meningioma', 'pituitary', 'meningioma', 'notumor', 'notumor', 'meningioma', 'notumor', 'notumor', 'pituitary', 'glioma', 'meningioma', 'meningioma', 'notumor', 'meningioma', 'meningioma', 'meningioma', 'glioma', 'glioma', 'meningioma', 'pituitary', 'notumor', 'glioma', 'meningioma', 'meningioma', 'pituitary', 'notumor', 'pituitary', 'pituitary', 'pituitary', 'meningioma', 'meningioma', 'meningioma', 'notumor', 'meningioma', 'meningioma', 'pituitary', 'notumor', 'pituitary', 'pituitary', 'pituitary', 'notumor', 'notumor', 'pituitary', 'meningioma', 'glioma', 'meningioma', 'notumor', 'pituitary', 'pituitary', 'notumor', 'meningioma', 'glioma', 'notumor', 'glioma', 'pituitary', 'meningioma', 'glioma', 'meningioma', 'glioma', 'meningioma', 'glioma', 'glioma', 'notumor', 'pituitary', 'meningioma', 'meningioma', 'pituitary', 'pituitary', 'pituitary', 'glioma', 'notumor', 'pituitary', 'meningioma', 'notumor', 'meningioma', 'glioma', 'notumor', 'pituitary', 'notumor', 'meningioma', 'meningioma', 'glioma', 'meningioma', 'meningioma', 'pituitary', 'pituitary', 'pituitary', 'meningioma', 'meningioma', 'pituitary', 'glioma', 'notumor', 'pituitary', 'meningioma', 'glioma', 'glioma', 'meningioma', 'notumor', 'meningioma', 'glioma', 'glioma', 'glioma', 'glioma', 'glioma', 'notumor', 'meningioma', 'notumor', 'meningioma', 'glioma', 'pituitary', 'notumor', 'glioma', 'meningioma', 'pituitary', 'notumor', 'meningioma', 'pituitary', 'notumor', 'glioma', 'notumor', 'notumor', 'pituitary', 'pituitary', 'notumor', 'glioma', 'notumor', 'glioma', 'pituitary', 'pituitary', 'meningioma', 'pituitary', 'pituitary', 'notumor', 'pituitary', 'glioma', 'pituitary', 'pituitary', 'glioma', 'pituitary', 'meningioma', 'notumor', 'glioma', 'notumor', 'notumor', 'notumor', 'pituitary', 'glioma', 'pituitary', 'meningioma', 'notumor', 'pituitary', 'glioma', 'pituitary', 'glioma', 'pituitary', 'pituitary', 'pituitary', 'glioma', 'glioma', 'notumor', 'meningioma', 'notumor', 'notumor', 'meningioma', 'glioma', 'meningioma', 'meningioma', 'pituitary', 'meningioma', 'pituitary', 'glioma', 'pituitary', 'glioma', 'notumor', 'notumor', 'notumor', 'meningioma', 'meningioma', 'meningioma', 'glioma', 'notumor', 'notumor', 'meningioma', 'meningioma', 'meningioma', 'glioma']\n"
          ]
        },
        {
          "output_type": "error",
          "ename": "NameError",
          "evalue": "name 'test_paths' is not defined",
          "traceback": [
            "\u001b[0;31m---------------------------------------------------------------------------\u001b[0m",
            "\u001b[0;31mNameError\u001b[0m                                 Traceback (most recent call last)",
            "\u001b[0;32m<ipython-input-14-b594d42b02bf>\u001b[0m in \u001b[0;36m<cell line: 0>\u001b[0;34m()\u001b[0m\n\u001b[1;32m     21\u001b[0m \u001b[0;32mfor\u001b[0m \u001b[0mlabel\u001b[0m \u001b[0;32min\u001b[0m \u001b[0mos\u001b[0m\u001b[0;34m.\u001b[0m\u001b[0mlistdir\u001b[0m\u001b[0;34m(\u001b[0m\u001b[0mtest_dir\u001b[0m\u001b[0;34m)\u001b[0m\u001b[0;34m:\u001b[0m\u001b[0;34m\u001b[0m\u001b[0;34m\u001b[0m\u001b[0m\n\u001b[1;32m     22\u001b[0m     \u001b[0;32mfor\u001b[0m \u001b[0mimage\u001b[0m \u001b[0;32min\u001b[0m \u001b[0mos\u001b[0m\u001b[0;34m.\u001b[0m\u001b[0mlistdir\u001b[0m\u001b[0;34m(\u001b[0m\u001b[0mos\u001b[0m\u001b[0;34m.\u001b[0m\u001b[0mpath\u001b[0m\u001b[0;34m.\u001b[0m\u001b[0mjoin\u001b[0m\u001b[0;34m(\u001b[0m\u001b[0mtest_dir\u001b[0m\u001b[0;34m,\u001b[0m \u001b[0mlabel\u001b[0m\u001b[0;34m)\u001b[0m\u001b[0;34m)\u001b[0m\u001b[0;34m:\u001b[0m\u001b[0;34m\u001b[0m\u001b[0;34m\u001b[0m\u001b[0m\n\u001b[0;32m---> 23\u001b[0;31m         \u001b[0mtest_paths\u001b[0m\u001b[0;34m.\u001b[0m\u001b[0mappend\u001b[0m\u001b[0;34m(\u001b[0m\u001b[0mos\u001b[0m\u001b[0;34m.\u001b[0m\u001b[0mpath\u001b[0m\u001b[0;34m.\u001b[0m\u001b[0mjoin\u001b[0m\u001b[0;34m(\u001b[0m\u001b[0mtest_dir\u001b[0m\u001b[0;34m,\u001b[0m \u001b[0mlabel\u001b[0m\u001b[0;34m,\u001b[0m \u001b[0mimage\u001b[0m\u001b[0;34m)\u001b[0m\u001b[0;34m)\u001b[0m\u001b[0;34m\u001b[0m\u001b[0;34m\u001b[0m\u001b[0m\n\u001b[0m\u001b[1;32m     24\u001b[0m         \u001b[0mtest_labels\u001b[0m\u001b[0;34m.\u001b[0m\u001b[0mappend\u001b[0m\u001b[0;34m(\u001b[0m\u001b[0mlabel\u001b[0m\u001b[0;34m)\u001b[0m\u001b[0;34m\u001b[0m\u001b[0;34m\u001b[0m\u001b[0m\n\u001b[1;32m     25\u001b[0m \u001b[0;34m\u001b[0m\u001b[0m\n",
            "\u001b[0;31mNameError\u001b[0m: name 'test_paths' is not defined"
          ]
        }
      ]
    },
    {
      "cell_type": "code",
      "source": [
        "import os\n",
        "import numpy as np\n",
        "from tensorflow.keras.preprocessing.image import load_img  # For loading images\n",
        "from sklearn.utils import shuffle  # For shuffling the data\n",
        "import matplotlib.pyplot as plt  # For displaying images\n",
        "import random  # For selecting random indices\n",
        "\n",
        "# Assuming train_paths contains paths to training images\n",
        "# Select random indices for 10 images\n",
        "random_indices = random.sample(range(len(train_paths)), 10)\n",
        "\n",
        "# Create a figure to display the images in 2 rows\n",
        "fig, axes = plt.subplots(2, 5, figsize=(15, 6))  # 2 rows, 5 columns\n",
        "fig.suptitle('Random Sample of Training Images', fontsize=16)\n",
        "\n",
        "# Loop through selected random indices and plot images\n",
        "for i, idx in enumerate(random_indices):\n",
        "    img_path = train_paths[idx]  # Get the image path\n",
        "    img = load_img(img_path)  # Load the image\n",
        "    ax = axes[i // 5, i % 5]  # Calculate subplot location\n",
        "    ax.imshow(img)  # Display the image\n",
        "    ax.axis('off')  # Remove axes for cleaner display\n",
        "    ax.set_title(train_labels[idx])  # Set title as the label\n",
        "\n",
        "plt.tight_layout(rect=[0, 0, 1, 0.95])  # Adjust layout to include the title\n",
        "plt.show()\n",
        "\n"
      ],
      "metadata": {
        "id": "TQRCmfrsckqa"
      },
      "execution_count": null,
      "outputs": []
    },
    {
      "cell_type": "code",
      "source": [
        "import random\n",
        "import matplotlib.pyplot as plt\n",
        "from tensorflow.keras.preprocessing.image import load_img\n",
        "\n",
        "# Check if train_paths is empty or has fewer than 10 elements\n",
        "if not train_paths or len(train_paths) < 10:\n",
        "    print(\"Error: Not enough images in train_paths to create a sample of 10.\")\n",
        "else:\n",
        "    # Select random indices for 10 images\n",
        "    random_indices = random.sample(range(len(train_paths)), 10)\n",
        "\n",
        "    # Create a figure to display images in 2 rows and 5 columns\n",
        "    fig, axes = plt.subplots(2, 5, figsize=(15, 6))  # 2 rows, 5 columns grid\n",
        "    axes = axes.ravel()  # Flatten the axes array for easier iteration\n",
        "\n",
        "    # Loop through the random indices and display images\n",
        "    for i, idx in enumerate(random_indices):\n",
        "        img_path = train_paths[idx]  # Get the image path\n",
        "        img = load_img(img_path)  # Load the image\n",
        "        ax = axes[i]  # Select the corresponding subplot\n",
        "        ax.imshow(img)  # Display the image\n",
        "        ax.axis('off')  # Turn off the axes for a cleaner look\n",
        "        ax.set_title(train_labels[idx])  # Set the title as the label\n",
        "\n",
        "    # Adjust layout and display the plot\n",
        "    plt.tight_layout()  # Prevent overlap between subplots\n",
        "    plt.show()"
      ],
      "metadata": {
        "id": "BAnyfVO5XYO0"
      },
      "execution_count": null,
      "outputs": []
    },
    {
      "cell_type": "code",
      "source": [
        "# we are doing the data visualation part\n",
        "\n",
        "import random\n",
        "import matplotlib.pyplot as plt\n",
        "from PIL import Image # Make sure to import Image\n",
        "\n",
        "# Load and prepare data (this should be done before visualization)\n",
        "\n",
        "train_dir = '/content/drive/MyDrive/MRI Images/Training/' # Or your actual train directory\n",
        "train_paths = []\n",
        "train_labels = []\n",
        "\n",
        "for label in os.listdir(train_dir):\n",
        "    label_dir = os.path.join(train_dir, label)\n",
        "    if os.path.isdir(label_dir):\n",
        "        for image in os.listdir(label_dir):\n",
        "            train_paths.append(os.path.join(label_dir, image))\n",
        "            train_labels.append(label)\n",
        "\n",
        "# Now proceed with visualization\n",
        "# select random indices for the 10 images\n",
        "random_indices = random.sample(range(len(train_paths)), 10)\n",
        "\n",
        "# create a figure to display images in 2 rowws\n",
        "fig, axes = plt.subplots(2, 5, figsize=(15, 6))\n",
        "axes = axes.ravel()\n",
        "\n",
        "# loop thorught thej random indices and display images\n",
        "for i, idx in enumerate(random_indices):\n",
        "    img_path = train_paths[idx]\n",
        "    img = Image.open(img_path)  # Use Image.open\n",
        "\n",
        "    # Display the image\n",
        "    axes[i].imshow(img)\n",
        "    axes[i].axis('off')\n",
        "    axes[i].set_title(train_labels[idx])  # Use the corresponding label\n",
        "\n",
        "plt.tight_layout()\n",
        "plt.show()"
      ],
      "metadata": {
        "id": "p1L4LN3uclYA"
      },
      "execution_count": null,
      "outputs": []
    },
    {
      "cell_type": "code",
      "source": [
        "for label in os.listdir(train_dir):\n",
        "  for image in os.listdir(train_dir + label):\n",
        "    img = load_img(train_dir + label + '/' + image)\n",
        "    train_paths.append(os.path.join(train_dir, label, image))\n",
        "    train_labels.append(label)\n",
        "\n",
        "  print(image)"
      ],
      "metadata": {
        "id": "ZF5zcfIsjMz7"
      },
      "execution_count": null,
      "outputs": []
    },
    {
      "cell_type": "code",
      "source": [],
      "metadata": {
        "id": "kVSZaIGmR7DD"
      },
      "execution_count": null,
      "outputs": []
    },
    {
      "cell_type": "code",
      "source": [
        "train_paths = []\n",
        "train_labels = []\n",
        "\n",
        "for label in os.listdir(train_dir):\n",
        "  for filename in os.listfire(os.path.join(train_dir, label)):\n",
        "    train_paths.append(os.path.join(train_dir, label, filename))\n",
        "    train_labels.append(label)\n",
        "\n",
        "    # display images\n",
        "    axis[i]"
      ],
      "metadata": {
        "id": "yaP7KAkcjeB7"
      },
      "execution_count": null,
      "outputs": []
    },
    {
      "cell_type": "code",
      "source": [
        "for label in os.listdir(train_dir):\n",
        "  for image in os.listdir(train_dir + label):\n",
        "    img = load_img(train_dir + label + '/' + image)\n",
        "    train_paths.append(os.path.join(train_dir, label, image))\n",
        "    train_labels.append(label)\n",
        "    print image in os.listdir(os.path.join(train_dir, label, image))\n",
        "    train_labels.append(label)\n",
        "\n",
        "train_paths, train_labels = shuffle(train_paths, train_labels)"
      ],
      "metadata": {
        "id": "OIwdWziFsyqn"
      },
      "execution_count": null,
      "outputs": []
    },
    {
      "cell_type": "code",
      "source": [
        "train_dir = '/content/drive/MyDrive/Brain_tumor/Training'\n",
        "test_dir = '/content/drive/MyDrive/Brain_tumor/Testing'\n",
        "\n",
        "# load and shuffe the train data\n",
        "train_paths = []\n",
        "train_labels = []\n",
        "\n",
        "for label in os.listdir(train_dir):\n",
        "  print(label)\n",
        "\n",
        "  # i will run a loop of each directory pituitary, glioma, notumor, meningioma\n"
      ],
      "metadata": {
        "id": "D3_vCkRctOeg"
      },
      "execution_count": null,
      "outputs": []
    },
    {
      "cell_type": "markdown",
      "source": [
        "# New Section"
      ],
      "metadata": {
        "id": "fuvw0C5jtV0I"
      }
    },
    {
      "cell_type": "code",
      "source": [
        "for label in os.listdir(train_dir):\n",
        "  for image in os.listdir(train_dir, label):\n",
        "    train_paths.append(os.path.join(train_dir,label, image))\n",
        "    train_labels.append(label)\n",
        "\n",
        "train_paths, train_labels = shuffle(train_paths, train_labels)"
      ],
      "metadata": {
        "id": "1AEG95E5t4Kv"
      },
      "execution_count": null,
      "outputs": []
    },
    {
      "cell_type": "code",
      "source": [],
      "metadata": {
        "id": "ZRb408YexF8t"
      },
      "execution_count": null,
      "outputs": []
    },
    {
      "cell_type": "code",
      "source": [
        "for label in os.listdir(train_dir):\n",
        "  for image in os.listdir(train_dir, label):\n",
        "    train_paths.append(os.path.join(train_dir,label, image))\n",
        "    train_labels.append(label)"
      ],
      "metadata": {
        "id": "G9f1CIiEws7a"
      },
      "execution_count": null,
      "outputs": []
    },
    {
      "cell_type": "code",
      "source": [
        "import os\n",
        "from tensorflow.keras.preprocessing.image import load_img\n",
        "from sklearn.utils import shuffle  # Ensure shuffle is imported\n",
        "\n",
        "# Directories for training and testing data\n",
        "train_dir = '/content/drive/MyDrive/MRI Images/Training/'\n",
        "test_dir = '/content/drive/MyDrive/MRI Images/Testing/'\n",
        "\n",
        "# Initialize lists for training data\n",
        "train_paths = []\n",
        "train_labels = []\n",
        "\n",
        "# Process training data\n",
        "for label in os.listdir(train_dir):  # Loop through each label (subdirectory)\n",
        "    label_dir = os.path.join(train_dir, label)  # Full path to the label subdirectory\n",
        "    if os.path.isdir(label_dir):  # Ensure it's a directory\n",
        "        for image in os.listdir(label_dir):  # Loop through each image in the subdirectory\n",
        "            train_paths.append(os.path.join(label_dir, image))  # Append full path to the image\n",
        "            train_labels.append(label)  # Append the corresponding label\n",
        "            print(f\"Training Image: {image} from Label: {label}\")  # Debugging info\n",
        "\n",
        "# Shuffle training data\n",
        "train_paths, train_labels = shuffle(train_paths, train_labels)\n",
        "\n",
        "# Initialize lists for testing data\n",
        "test_paths = []\n",
        "test_labels = []\n",
        "\n",
        "# Process testing data\n",
        "for label in os.listdir(test_dir):  # Loop through each label (subdirectory)\n",
        "    label_dir = os.path.join(test_dir, label)  # Full path to the label subdirectory\n",
        "    if os.path.isdir(label_dir):  # Ensure it's a directory\n",
        "        for image in os.listdir(label_dir):  # Loop through each image in the subdirectory\n",
        "            test_paths.append(os.path.join(label_dir, image))  # Append full path to the image\n",
        "            test_labels.append(label)  # Append the corresponding label\n",
        "            print(f\"Testing Image: {image} from Label: {label}\")  # Debugging info\n",
        "\n",
        "# Shuffle testing data\n",
        "test_paths, test_labels = shuffle(test_paths, test_labels)\n",
        "\n",
        "# Output some samples to verify\n",
        "print(\"\\nSample Training Data:\")\n",
        "print(train_paths[:3], train_labels[:3])\n",
        "\n",
        "print(\"\\nSample Testing Data:\")\n",
        "print(test_paths[:3], test_labels[:3])"
      ],
      "metadata": {
        "id": "gG30X-G8v1bT"
      },
      "execution_count": null,
      "outputs": []
    },
    {
      "cell_type": "code",
      "source": [
        "# we are doing the data visualation part\n",
        "\n",
        "import random\n",
        "import matplotlib.pyplot as plt\n",
        "\n",
        "# select random indices for the 10 images\n",
        "random_indices = random.sample(range(len(train_paths)),10)\n",
        "\n",
        "# create a figure to display images in 2 rowws\n",
        "fig, axes = plt.subplots(2,5,figsize = (15,6))\n",
        "axes = axes.ravel()\n",
        "\n",
        "# loop thorught thej random indices and display images\n",
        "for i, idx in enumerate(random_indices):\n",
        "  img_path = train_paths[idx]\n",
        "  img = Image.open(img_path)"
      ],
      "metadata": {
        "id": "QvOKx3FryAOA"
      },
      "execution_count": null,
      "outputs": []
    },
    {
      "cell_type": "code",
      "source": [
        "# we are doing the data visualation part\n",
        "\n",
        "import random\n",
        "import matplotlib.pyplot as plt\n",
        "from PIL import Image # Make sure to import Image\n",
        "\n",
        "# Load and prepare data (this should be done before visualization)\n",
        "\n",
        "train_dir = '/content/drive/MyDrive/MRI Images/Training/' # Or your actual train directory\n",
        "train_paths = []\n",
        "train_labels = []\n",
        "\n",
        "for label in os.listdir(train_dir):\n",
        "    label_dir = os.path.join(train_dir, label)\n",
        "    if os.path.isdir(label_dir):\n",
        "        for image in os.listdir(label_dir):\n",
        "            train_paths.append(os.path.join(label_dir, image))\n",
        "            train_labels.append(label)\n",
        "\n",
        "# Now proceed with visualization\n",
        "# select random indices for the 10 images\n",
        "random_indices = random.sample(range(len(train_paths)), 10)\n",
        "\n",
        "# create a figure to display images in 2 rowws\n",
        "fig, axes = plt.subplots(2, 5, figsize=(15, 6))\n",
        "axes = axes.ravel()\n",
        "\n",
        "# loop thorught thej random indices and display images\n",
        "for i, idx in enumerate(random_indices):\n",
        "    img_path = train_paths[idx]\n",
        "    img = Image.open(img_path)  # Use Image.open"
      ],
      "metadata": {
        "id": "dMl5D0t_WmZ_"
      },
      "execution_count": null,
      "outputs": []
    },
    {
      "cell_type": "code",
      "source": [
        "# image preprocessing,\n",
        "\n",
        "# image augumentation fucntion\n",
        "\n",
        "def augumentation_image(image)\n",
        "pass\n",
        "\n",
        "#load images and apply augmentation\n",
        "deef open_images(paths):\n",
        "pass\n",
        "\n",
        "#notumor = 0\n",
        "\n",
        "#load images and applya ugementation\n",
        "def open_iamges(paths):\n",
        "  pass\n",
        "\n",
        "notomor = 0\n",
        "glioma = 1\n",
        "meningioma = 2\n",
        "pituitary = 3\n",
        "\n",
        "#enncoder labels (convert label names to integers)\n",
        "def encode_labe(labes):\n",
        "  pass\n",
        "\n",
        "#data deneartor for batching\n",
        "\n",
        "def datagen(paths, labels, batch_size):\n",
        "  pass"
      ],
      "metadata": {
        "id": "vxjiZ26IWt8R"
      },
      "execution_count": null,
      "outputs": []
    },
    {
      "cell_type": "code",
      "source": [
        "import os\n",
        "import random\n",
        "import numpy as np\n",
        "from tensorflow.keras.preprocessing.image import load_img, img_to_array\n",
        "from tensorflow.keras.preprocessing.image import ImageDataGenerator\n",
        "\n",
        "# Image Augmentation Function\n",
        "def augment_image(image):\n",
        "    \"\"\"\n",
        "    Apply random image augmentations.\n",
        "    Args:\n",
        "        image (numpy.ndarray): Input image array.\n",
        "    Returns:\n",
        "        numpy.ndarray: Augmented image.\n",
        "    \"\"\"\n",
        "    datagen = ImageDataGenerator(\n",
        "        rotation_range=30,\n",
        "        width_shift_range=0.2,\n",
        "        height_shift_range=0.2,\n",
        "        shear_range=0.2,\n",
        "        zoom_range=0.2,\n",
        "        horizontal_flip=True,\n",
        "        fill_mode='nearest'\n",
        "    )\n",
        "    # Expand dimensions to fit the datagen input requirement\n",
        "    image = np.expand_dims(image, axis=0)\n",
        "    # Generate augmented image\n",
        "    augmented = datagen.flow(image, batch_size=1)\n",
        "    return augmented[0][0]  # Return the augmented image (squeeze batch dimension)\n",
        "\n",
        "\n",
        "# Load Images and Apply Augmentation\n",
        "def open_images(paths, augment=False):\n",
        "    \"\"\"\n",
        "    Load images from paths and optionally apply augmentation.\n",
        "    Args:\n",
        "        paths (list): List of file paths to images.\n",
        "        augment (bool): Whether to apply augmentation.\n",
        "    Returns:\n",
        "        list: List of image arrays.\n",
        "    \"\"\"\n",
        "    images = []\n",
        "    for path in paths:\n",
        "        img = load_img(path, target_size=(150, 150))  # Resize to (150, 150)\n",
        "        img_array = img_to_array(img) / 255.0  # Normalize to range [0, 1]\n",
        "        if augment:\n",
        "            img_array = augment_image(img_array)  # Apply augmentation\n",
        "        images.append(img_array)\n",
        "    return np.array(images)\n",
        "\n",
        "\n",
        "# Encoder Labels (Convert label names to integers)\n",
        "def encode_labels(labels):\n",
        "    \"\"\"\n",
        "    Encode text labels into integer labels.\n",
        "    Args:\n",
        "        labels (list): List of string labels.\n",
        "    Returns:\n",
        "        numpy.ndarray: Array of integer-encoded labels.\n",
        "    \"\"\"\n",
        "    label_mapping = {\n",
        "        'notumor': 0,\n",
        "        'glioma': 1,\n",
        "        'meningioma': 2,\n",
        "        'pituitary': 3\n",
        "    }\n",
        "    return np.array([label_mapping[label] for label in labels])\n",
        "\n",
        "\n",
        "# Data Generator for Batching\n",
        "def datagen(paths, labels, batch_size, augment=False):\n",
        "    \"\"\"\n",
        "    Generate data batches for training.\n",
        "    Args:\n",
        "        paths (list): List of file paths to images.\n",
        "        labels (list): List of integer-encoded labels.\n",
        "        batch_size (int): Number of samples per batch.\n",
        "        augment (bool): Whether to apply augmentation.\n",
        "    Yields:\n",
        "        tuple: A batch of images and labels.\n",
        "    \"\"\"\n",
        "    while True:\n",
        "        # Shuffle the data at the start of each epoch\n",
        "        paths, labels = shuffle(paths, labels)\n",
        "        for i in range(0, len(paths), batch_size):\n",
        "            batch_paths = paths[i:i + batch_size]\n",
        "            batch_labels = labels[i:i + batch_size]\n",
        "            images = open_images(batch_paths, augment=augment)\n",
        "            yield images, np.array(batch_labels)"
      ],
      "metadata": {
        "id": "3x4NGf9WjFYj"
      },
      "execution_count": null,
      "outputs": []
    },
    {
      "cell_type": "code",
      "source": [
        "# model architecture red, gree, blue()\n",
        "\n",
        "IMAGE_SIZE = 128\n",
        "base_model = VGG16(INPUT_TREE_SMALLER_THAN_SHALLOW_TREE), include_top = False, weights = 'image '\n",
        "\n",
        "#freeze all layers of the vgg16 base model\n",
        "for layer in base_model.layers:\n",
        "  layer.trainble = false"
      ],
      "metadata": {
        "id": "iJzNMDR6jGe1"
      },
      "execution_count": null,
      "outputs": []
    },
    {
      "cell_type": "code",
      "source": [
        "from tensorflow.keras.applications import VGG16\n",
        "from tensorflow.keras.models import Model\n",
        "from tensorflow.keras.layers import Dense, Flatten, Dropout, Input\n",
        "from tensorflow.keras.optimizers import Adam\n",
        "from tensorflow.keras.applications import VGG16\n",
        "from tensorflow.keras.models import Model\n",
        "from tensorflow.keras.layers import Dense, Flatten, Dropout, Input\n",
        "from tensorflow.keras.optimizers import Adam\n",
        "\n",
        "# Constants\n",
        "IMAGE_SIZE = 128\n",
        "\n",
        "# Load VGG16 as the base model\n",
        "base_model = VGG16(\n",
        "    input_shape=(IMAGE_SIZE, IMAGE_SIZE, 3),  # Input image size (128x128 with 3 channels for RGB)\n",
        "    include_top=False,  # Exclude the fully connected layers at the top\n",
        "    weights='imagenet'  # Use pre-trained weights on ImageNet\n",
        ")\n",
        "\n",
        "# Freeze all layers of the VGG16 base model\n",
        "for layer in base_model.layers:\n",
        "    layer.trainable = False  # Prevent these layers from being updated during training\n",
        "\n",
        "# Add custom layers on top of the base model\n",
        "x = base_model.output  # Output of the base model\n",
        "x = Flatten()(x)  # Flatten the output from the base model\n",
        "x = Dense(256, activation='relu')(x)  # Fully connected layer with 256 units\n",
        "x = Dropout(0.5)(x)  # Dropout for regularization\n",
        "x = Dense(4, activation='softmax')(x)  # Output layer with 4 classes (softmax activation)\n",
        "\n",
        "# Define the complete model\n",
        "model = Model(inputs=base_model.input, outputs=x)\n",
        "\n",
        "# Compile the model\n",
        "model.compile(\n",
        "    optimizer=Adam(learning_rate=0.001),  # Use Adam optimizer\n",
        "    loss='sparse_categorical_crossentropy',  # Use sparse categorical cross-entropy for multi-class classification\n",
        "    metrics=['accuracy']  # Track accuracy during training\n",
        ")\n",
        "\n",
        "# Summary of the model\n",
        "model.summary()"
      ],
      "metadata": {
        "colab": {
          "base_uri": "https://localhost:8080/",
          "height": 892
        },
        "id": "NrmOFxJ13If5",
        "outputId": "8fd9a6d5-445c-48b1-c106-1d9d7e6ee273"
      },
      "execution_count": null,
      "outputs": [
        {
          "output_type": "display_data",
          "data": {
            "text/plain": [
              "\u001b[1mModel: \"functional_1\"\u001b[0m\n"
            ],
            "text/html": [
              "<pre style=\"white-space:pre;overflow-x:auto;line-height:normal;font-family:Menlo,'DejaVu Sans Mono',consolas,'Courier New',monospace\"><span style=\"font-weight: bold\">Model: \"functional_1\"</span>\n",
              "</pre>\n"
            ]
          },
          "metadata": {}
        },
        {
          "output_type": "display_data",
          "data": {
            "text/plain": [
              "┏━━━━━━━━━━━━━━━━━━━━━━━━━━━━━━━━━━━━━━┳━━━━━━━━━━━━━━━━━━━━━━━━━━━━━┳━━━━━━━━━━━━━━━━━┓\n",
              "┃\u001b[1m \u001b[0m\u001b[1mLayer (type)                        \u001b[0m\u001b[1m \u001b[0m┃\u001b[1m \u001b[0m\u001b[1mOutput Shape               \u001b[0m\u001b[1m \u001b[0m┃\u001b[1m \u001b[0m\u001b[1m        Param #\u001b[0m\u001b[1m \u001b[0m┃\n",
              "┡━━━━━━━━━━━━━━━━━━━━━━━━━━━━━━━━━━━━━━╇━━━━━━━━━━━━━━━━━━━━━━━━━━━━━╇━━━━━━━━━━━━━━━━━┩\n",
              "│ input_layer_1 (\u001b[38;5;33mInputLayer\u001b[0m)           │ (\u001b[38;5;45mNone\u001b[0m, \u001b[38;5;34m128\u001b[0m, \u001b[38;5;34m128\u001b[0m, \u001b[38;5;34m3\u001b[0m)         │               \u001b[38;5;34m0\u001b[0m │\n",
              "├──────────────────────────────────────┼─────────────────────────────┼─────────────────┤\n",
              "│ block1_conv1 (\u001b[38;5;33mConv2D\u001b[0m)                │ (\u001b[38;5;45mNone\u001b[0m, \u001b[38;5;34m128\u001b[0m, \u001b[38;5;34m128\u001b[0m, \u001b[38;5;34m64\u001b[0m)        │           \u001b[38;5;34m1,792\u001b[0m │\n",
              "├──────────────────────────────────────┼─────────────────────────────┼─────────────────┤\n",
              "│ block1_conv2 (\u001b[38;5;33mConv2D\u001b[0m)                │ (\u001b[38;5;45mNone\u001b[0m, \u001b[38;5;34m128\u001b[0m, \u001b[38;5;34m128\u001b[0m, \u001b[38;5;34m64\u001b[0m)        │          \u001b[38;5;34m36,928\u001b[0m │\n",
              "├──────────────────────────────────────┼─────────────────────────────┼─────────────────┤\n",
              "│ block1_pool (\u001b[38;5;33mMaxPooling2D\u001b[0m)           │ (\u001b[38;5;45mNone\u001b[0m, \u001b[38;5;34m64\u001b[0m, \u001b[38;5;34m64\u001b[0m, \u001b[38;5;34m64\u001b[0m)          │               \u001b[38;5;34m0\u001b[0m │\n",
              "├──────────────────────────────────────┼─────────────────────────────┼─────────────────┤\n",
              "│ block2_conv1 (\u001b[38;5;33mConv2D\u001b[0m)                │ (\u001b[38;5;45mNone\u001b[0m, \u001b[38;5;34m64\u001b[0m, \u001b[38;5;34m64\u001b[0m, \u001b[38;5;34m128\u001b[0m)         │          \u001b[38;5;34m73,856\u001b[0m │\n",
              "├──────────────────────────────────────┼─────────────────────────────┼─────────────────┤\n",
              "│ block2_conv2 (\u001b[38;5;33mConv2D\u001b[0m)                │ (\u001b[38;5;45mNone\u001b[0m, \u001b[38;5;34m64\u001b[0m, \u001b[38;5;34m64\u001b[0m, \u001b[38;5;34m128\u001b[0m)         │         \u001b[38;5;34m147,584\u001b[0m │\n",
              "├──────────────────────────────────────┼─────────────────────────────┼─────────────────┤\n",
              "│ block2_pool (\u001b[38;5;33mMaxPooling2D\u001b[0m)           │ (\u001b[38;5;45mNone\u001b[0m, \u001b[38;5;34m32\u001b[0m, \u001b[38;5;34m32\u001b[0m, \u001b[38;5;34m128\u001b[0m)         │               \u001b[38;5;34m0\u001b[0m │\n",
              "├──────────────────────────────────────┼─────────────────────────────┼─────────────────┤\n",
              "│ block3_conv1 (\u001b[38;5;33mConv2D\u001b[0m)                │ (\u001b[38;5;45mNone\u001b[0m, \u001b[38;5;34m32\u001b[0m, \u001b[38;5;34m32\u001b[0m, \u001b[38;5;34m256\u001b[0m)         │         \u001b[38;5;34m295,168\u001b[0m │\n",
              "├──────────────────────────────────────┼─────────────────────────────┼─────────────────┤\n",
              "│ block3_conv2 (\u001b[38;5;33mConv2D\u001b[0m)                │ (\u001b[38;5;45mNone\u001b[0m, \u001b[38;5;34m32\u001b[0m, \u001b[38;5;34m32\u001b[0m, \u001b[38;5;34m256\u001b[0m)         │         \u001b[38;5;34m590,080\u001b[0m │\n",
              "├──────────────────────────────────────┼─────────────────────────────┼─────────────────┤\n",
              "│ block3_conv3 (\u001b[38;5;33mConv2D\u001b[0m)                │ (\u001b[38;5;45mNone\u001b[0m, \u001b[38;5;34m32\u001b[0m, \u001b[38;5;34m32\u001b[0m, \u001b[38;5;34m256\u001b[0m)         │         \u001b[38;5;34m590,080\u001b[0m │\n",
              "├──────────────────────────────────────┼─────────────────────────────┼─────────────────┤\n",
              "│ block3_pool (\u001b[38;5;33mMaxPooling2D\u001b[0m)           │ (\u001b[38;5;45mNone\u001b[0m, \u001b[38;5;34m16\u001b[0m, \u001b[38;5;34m16\u001b[0m, \u001b[38;5;34m256\u001b[0m)         │               \u001b[38;5;34m0\u001b[0m │\n",
              "├──────────────────────────────────────┼─────────────────────────────┼─────────────────┤\n",
              "│ block4_conv1 (\u001b[38;5;33mConv2D\u001b[0m)                │ (\u001b[38;5;45mNone\u001b[0m, \u001b[38;5;34m16\u001b[0m, \u001b[38;5;34m16\u001b[0m, \u001b[38;5;34m512\u001b[0m)         │       \u001b[38;5;34m1,180,160\u001b[0m │\n",
              "├──────────────────────────────────────┼─────────────────────────────┼─────────────────┤\n",
              "│ block4_conv2 (\u001b[38;5;33mConv2D\u001b[0m)                │ (\u001b[38;5;45mNone\u001b[0m, \u001b[38;5;34m16\u001b[0m, \u001b[38;5;34m16\u001b[0m, \u001b[38;5;34m512\u001b[0m)         │       \u001b[38;5;34m2,359,808\u001b[0m │\n",
              "├──────────────────────────────────────┼─────────────────────────────┼─────────────────┤\n",
              "│ block4_conv3 (\u001b[38;5;33mConv2D\u001b[0m)                │ (\u001b[38;5;45mNone\u001b[0m, \u001b[38;5;34m16\u001b[0m, \u001b[38;5;34m16\u001b[0m, \u001b[38;5;34m512\u001b[0m)         │       \u001b[38;5;34m2,359,808\u001b[0m │\n",
              "├──────────────────────────────────────┼─────────────────────────────┼─────────────────┤\n",
              "│ block4_pool (\u001b[38;5;33mMaxPooling2D\u001b[0m)           │ (\u001b[38;5;45mNone\u001b[0m, \u001b[38;5;34m8\u001b[0m, \u001b[38;5;34m8\u001b[0m, \u001b[38;5;34m512\u001b[0m)           │               \u001b[38;5;34m0\u001b[0m │\n",
              "├──────────────────────────────────────┼─────────────────────────────┼─────────────────┤\n",
              "│ block5_conv1 (\u001b[38;5;33mConv2D\u001b[0m)                │ (\u001b[38;5;45mNone\u001b[0m, \u001b[38;5;34m8\u001b[0m, \u001b[38;5;34m8\u001b[0m, \u001b[38;5;34m512\u001b[0m)           │       \u001b[38;5;34m2,359,808\u001b[0m │\n",
              "├──────────────────────────────────────┼─────────────────────────────┼─────────────────┤\n",
              "│ block5_conv2 (\u001b[38;5;33mConv2D\u001b[0m)                │ (\u001b[38;5;45mNone\u001b[0m, \u001b[38;5;34m8\u001b[0m, \u001b[38;5;34m8\u001b[0m, \u001b[38;5;34m512\u001b[0m)           │       \u001b[38;5;34m2,359,808\u001b[0m │\n",
              "├──────────────────────────────────────┼─────────────────────────────┼─────────────────┤\n",
              "│ block5_conv3 (\u001b[38;5;33mConv2D\u001b[0m)                │ (\u001b[38;5;45mNone\u001b[0m, \u001b[38;5;34m8\u001b[0m, \u001b[38;5;34m8\u001b[0m, \u001b[38;5;34m512\u001b[0m)           │       \u001b[38;5;34m2,359,808\u001b[0m │\n",
              "├──────────────────────────────────────┼─────────────────────────────┼─────────────────┤\n",
              "│ block5_pool (\u001b[38;5;33mMaxPooling2D\u001b[0m)           │ (\u001b[38;5;45mNone\u001b[0m, \u001b[38;5;34m4\u001b[0m, \u001b[38;5;34m4\u001b[0m, \u001b[38;5;34m512\u001b[0m)           │               \u001b[38;5;34m0\u001b[0m │\n",
              "├──────────────────────────────────────┼─────────────────────────────┼─────────────────┤\n",
              "│ flatten_1 (\u001b[38;5;33mFlatten\u001b[0m)                  │ (\u001b[38;5;45mNone\u001b[0m, \u001b[38;5;34m8192\u001b[0m)                │               \u001b[38;5;34m0\u001b[0m │\n",
              "├──────────────────────────────────────┼─────────────────────────────┼─────────────────┤\n",
              "│ dense_2 (\u001b[38;5;33mDense\u001b[0m)                      │ (\u001b[38;5;45mNone\u001b[0m, \u001b[38;5;34m256\u001b[0m)                 │       \u001b[38;5;34m2,097,408\u001b[0m │\n",
              "├──────────────────────────────────────┼─────────────────────────────┼─────────────────┤\n",
              "│ dropout_1 (\u001b[38;5;33mDropout\u001b[0m)                  │ (\u001b[38;5;45mNone\u001b[0m, \u001b[38;5;34m256\u001b[0m)                 │               \u001b[38;5;34m0\u001b[0m │\n",
              "├──────────────────────────────────────┼─────────────────────────────┼─────────────────┤\n",
              "│ dense_3 (\u001b[38;5;33mDense\u001b[0m)                      │ (\u001b[38;5;45mNone\u001b[0m, \u001b[38;5;34m4\u001b[0m)                   │           \u001b[38;5;34m1,028\u001b[0m │\n",
              "└──────────────────────────────────────┴─────────────────────────────┴─────────────────┘\n"
            ],
            "text/html": [
              "<pre style=\"white-space:pre;overflow-x:auto;line-height:normal;font-family:Menlo,'DejaVu Sans Mono',consolas,'Courier New',monospace\">┏━━━━━━━━━━━━━━━━━━━━━━━━━━━━━━━━━━━━━━┳━━━━━━━━━━━━━━━━━━━━━━━━━━━━━┳━━━━━━━━━━━━━━━━━┓\n",
              "┃<span style=\"font-weight: bold\"> Layer (type)                         </span>┃<span style=\"font-weight: bold\"> Output Shape                </span>┃<span style=\"font-weight: bold\">         Param # </span>┃\n",
              "┡━━━━━━━━━━━━━━━━━━━━━━━━━━━━━━━━━━━━━━╇━━━━━━━━━━━━━━━━━━━━━━━━━━━━━╇━━━━━━━━━━━━━━━━━┩\n",
              "│ input_layer_1 (<span style=\"color: #0087ff; text-decoration-color: #0087ff\">InputLayer</span>)           │ (<span style=\"color: #00d7ff; text-decoration-color: #00d7ff\">None</span>, <span style=\"color: #00af00; text-decoration-color: #00af00\">128</span>, <span style=\"color: #00af00; text-decoration-color: #00af00\">128</span>, <span style=\"color: #00af00; text-decoration-color: #00af00\">3</span>)         │               <span style=\"color: #00af00; text-decoration-color: #00af00\">0</span> │\n",
              "├──────────────────────────────────────┼─────────────────────────────┼─────────────────┤\n",
              "│ block1_conv1 (<span style=\"color: #0087ff; text-decoration-color: #0087ff\">Conv2D</span>)                │ (<span style=\"color: #00d7ff; text-decoration-color: #00d7ff\">None</span>, <span style=\"color: #00af00; text-decoration-color: #00af00\">128</span>, <span style=\"color: #00af00; text-decoration-color: #00af00\">128</span>, <span style=\"color: #00af00; text-decoration-color: #00af00\">64</span>)        │           <span style=\"color: #00af00; text-decoration-color: #00af00\">1,792</span> │\n",
              "├──────────────────────────────────────┼─────────────────────────────┼─────────────────┤\n",
              "│ block1_conv2 (<span style=\"color: #0087ff; text-decoration-color: #0087ff\">Conv2D</span>)                │ (<span style=\"color: #00d7ff; text-decoration-color: #00d7ff\">None</span>, <span style=\"color: #00af00; text-decoration-color: #00af00\">128</span>, <span style=\"color: #00af00; text-decoration-color: #00af00\">128</span>, <span style=\"color: #00af00; text-decoration-color: #00af00\">64</span>)        │          <span style=\"color: #00af00; text-decoration-color: #00af00\">36,928</span> │\n",
              "├──────────────────────────────────────┼─────────────────────────────┼─────────────────┤\n",
              "│ block1_pool (<span style=\"color: #0087ff; text-decoration-color: #0087ff\">MaxPooling2D</span>)           │ (<span style=\"color: #00d7ff; text-decoration-color: #00d7ff\">None</span>, <span style=\"color: #00af00; text-decoration-color: #00af00\">64</span>, <span style=\"color: #00af00; text-decoration-color: #00af00\">64</span>, <span style=\"color: #00af00; text-decoration-color: #00af00\">64</span>)          │               <span style=\"color: #00af00; text-decoration-color: #00af00\">0</span> │\n",
              "├──────────────────────────────────────┼─────────────────────────────┼─────────────────┤\n",
              "│ block2_conv1 (<span style=\"color: #0087ff; text-decoration-color: #0087ff\">Conv2D</span>)                │ (<span style=\"color: #00d7ff; text-decoration-color: #00d7ff\">None</span>, <span style=\"color: #00af00; text-decoration-color: #00af00\">64</span>, <span style=\"color: #00af00; text-decoration-color: #00af00\">64</span>, <span style=\"color: #00af00; text-decoration-color: #00af00\">128</span>)         │          <span style=\"color: #00af00; text-decoration-color: #00af00\">73,856</span> │\n",
              "├──────────────────────────────────────┼─────────────────────────────┼─────────────────┤\n",
              "│ block2_conv2 (<span style=\"color: #0087ff; text-decoration-color: #0087ff\">Conv2D</span>)                │ (<span style=\"color: #00d7ff; text-decoration-color: #00d7ff\">None</span>, <span style=\"color: #00af00; text-decoration-color: #00af00\">64</span>, <span style=\"color: #00af00; text-decoration-color: #00af00\">64</span>, <span style=\"color: #00af00; text-decoration-color: #00af00\">128</span>)         │         <span style=\"color: #00af00; text-decoration-color: #00af00\">147,584</span> │\n",
              "├──────────────────────────────────────┼─────────────────────────────┼─────────────────┤\n",
              "│ block2_pool (<span style=\"color: #0087ff; text-decoration-color: #0087ff\">MaxPooling2D</span>)           │ (<span style=\"color: #00d7ff; text-decoration-color: #00d7ff\">None</span>, <span style=\"color: #00af00; text-decoration-color: #00af00\">32</span>, <span style=\"color: #00af00; text-decoration-color: #00af00\">32</span>, <span style=\"color: #00af00; text-decoration-color: #00af00\">128</span>)         │               <span style=\"color: #00af00; text-decoration-color: #00af00\">0</span> │\n",
              "├──────────────────────────────────────┼─────────────────────────────┼─────────────────┤\n",
              "│ block3_conv1 (<span style=\"color: #0087ff; text-decoration-color: #0087ff\">Conv2D</span>)                │ (<span style=\"color: #00d7ff; text-decoration-color: #00d7ff\">None</span>, <span style=\"color: #00af00; text-decoration-color: #00af00\">32</span>, <span style=\"color: #00af00; text-decoration-color: #00af00\">32</span>, <span style=\"color: #00af00; text-decoration-color: #00af00\">256</span>)         │         <span style=\"color: #00af00; text-decoration-color: #00af00\">295,168</span> │\n",
              "├──────────────────────────────────────┼─────────────────────────────┼─────────────────┤\n",
              "│ block3_conv2 (<span style=\"color: #0087ff; text-decoration-color: #0087ff\">Conv2D</span>)                │ (<span style=\"color: #00d7ff; text-decoration-color: #00d7ff\">None</span>, <span style=\"color: #00af00; text-decoration-color: #00af00\">32</span>, <span style=\"color: #00af00; text-decoration-color: #00af00\">32</span>, <span style=\"color: #00af00; text-decoration-color: #00af00\">256</span>)         │         <span style=\"color: #00af00; text-decoration-color: #00af00\">590,080</span> │\n",
              "├──────────────────────────────────────┼─────────────────────────────┼─────────────────┤\n",
              "│ block3_conv3 (<span style=\"color: #0087ff; text-decoration-color: #0087ff\">Conv2D</span>)                │ (<span style=\"color: #00d7ff; text-decoration-color: #00d7ff\">None</span>, <span style=\"color: #00af00; text-decoration-color: #00af00\">32</span>, <span style=\"color: #00af00; text-decoration-color: #00af00\">32</span>, <span style=\"color: #00af00; text-decoration-color: #00af00\">256</span>)         │         <span style=\"color: #00af00; text-decoration-color: #00af00\">590,080</span> │\n",
              "├──────────────────────────────────────┼─────────────────────────────┼─────────────────┤\n",
              "│ block3_pool (<span style=\"color: #0087ff; text-decoration-color: #0087ff\">MaxPooling2D</span>)           │ (<span style=\"color: #00d7ff; text-decoration-color: #00d7ff\">None</span>, <span style=\"color: #00af00; text-decoration-color: #00af00\">16</span>, <span style=\"color: #00af00; text-decoration-color: #00af00\">16</span>, <span style=\"color: #00af00; text-decoration-color: #00af00\">256</span>)         │               <span style=\"color: #00af00; text-decoration-color: #00af00\">0</span> │\n",
              "├──────────────────────────────────────┼─────────────────────────────┼─────────────────┤\n",
              "│ block4_conv1 (<span style=\"color: #0087ff; text-decoration-color: #0087ff\">Conv2D</span>)                │ (<span style=\"color: #00d7ff; text-decoration-color: #00d7ff\">None</span>, <span style=\"color: #00af00; text-decoration-color: #00af00\">16</span>, <span style=\"color: #00af00; text-decoration-color: #00af00\">16</span>, <span style=\"color: #00af00; text-decoration-color: #00af00\">512</span>)         │       <span style=\"color: #00af00; text-decoration-color: #00af00\">1,180,160</span> │\n",
              "├──────────────────────────────────────┼─────────────────────────────┼─────────────────┤\n",
              "│ block4_conv2 (<span style=\"color: #0087ff; text-decoration-color: #0087ff\">Conv2D</span>)                │ (<span style=\"color: #00d7ff; text-decoration-color: #00d7ff\">None</span>, <span style=\"color: #00af00; text-decoration-color: #00af00\">16</span>, <span style=\"color: #00af00; text-decoration-color: #00af00\">16</span>, <span style=\"color: #00af00; text-decoration-color: #00af00\">512</span>)         │       <span style=\"color: #00af00; text-decoration-color: #00af00\">2,359,808</span> │\n",
              "├──────────────────────────────────────┼─────────────────────────────┼─────────────────┤\n",
              "│ block4_conv3 (<span style=\"color: #0087ff; text-decoration-color: #0087ff\">Conv2D</span>)                │ (<span style=\"color: #00d7ff; text-decoration-color: #00d7ff\">None</span>, <span style=\"color: #00af00; text-decoration-color: #00af00\">16</span>, <span style=\"color: #00af00; text-decoration-color: #00af00\">16</span>, <span style=\"color: #00af00; text-decoration-color: #00af00\">512</span>)         │       <span style=\"color: #00af00; text-decoration-color: #00af00\">2,359,808</span> │\n",
              "├──────────────────────────────────────┼─────────────────────────────┼─────────────────┤\n",
              "│ block4_pool (<span style=\"color: #0087ff; text-decoration-color: #0087ff\">MaxPooling2D</span>)           │ (<span style=\"color: #00d7ff; text-decoration-color: #00d7ff\">None</span>, <span style=\"color: #00af00; text-decoration-color: #00af00\">8</span>, <span style=\"color: #00af00; text-decoration-color: #00af00\">8</span>, <span style=\"color: #00af00; text-decoration-color: #00af00\">512</span>)           │               <span style=\"color: #00af00; text-decoration-color: #00af00\">0</span> │\n",
              "├──────────────────────────────────────┼─────────────────────────────┼─────────────────┤\n",
              "│ block5_conv1 (<span style=\"color: #0087ff; text-decoration-color: #0087ff\">Conv2D</span>)                │ (<span style=\"color: #00d7ff; text-decoration-color: #00d7ff\">None</span>, <span style=\"color: #00af00; text-decoration-color: #00af00\">8</span>, <span style=\"color: #00af00; text-decoration-color: #00af00\">8</span>, <span style=\"color: #00af00; text-decoration-color: #00af00\">512</span>)           │       <span style=\"color: #00af00; text-decoration-color: #00af00\">2,359,808</span> │\n",
              "├──────────────────────────────────────┼─────────────────────────────┼─────────────────┤\n",
              "│ block5_conv2 (<span style=\"color: #0087ff; text-decoration-color: #0087ff\">Conv2D</span>)                │ (<span style=\"color: #00d7ff; text-decoration-color: #00d7ff\">None</span>, <span style=\"color: #00af00; text-decoration-color: #00af00\">8</span>, <span style=\"color: #00af00; text-decoration-color: #00af00\">8</span>, <span style=\"color: #00af00; text-decoration-color: #00af00\">512</span>)           │       <span style=\"color: #00af00; text-decoration-color: #00af00\">2,359,808</span> │\n",
              "├──────────────────────────────────────┼─────────────────────────────┼─────────────────┤\n",
              "│ block5_conv3 (<span style=\"color: #0087ff; text-decoration-color: #0087ff\">Conv2D</span>)                │ (<span style=\"color: #00d7ff; text-decoration-color: #00d7ff\">None</span>, <span style=\"color: #00af00; text-decoration-color: #00af00\">8</span>, <span style=\"color: #00af00; text-decoration-color: #00af00\">8</span>, <span style=\"color: #00af00; text-decoration-color: #00af00\">512</span>)           │       <span style=\"color: #00af00; text-decoration-color: #00af00\">2,359,808</span> │\n",
              "├──────────────────────────────────────┼─────────────────────────────┼─────────────────┤\n",
              "│ block5_pool (<span style=\"color: #0087ff; text-decoration-color: #0087ff\">MaxPooling2D</span>)           │ (<span style=\"color: #00d7ff; text-decoration-color: #00d7ff\">None</span>, <span style=\"color: #00af00; text-decoration-color: #00af00\">4</span>, <span style=\"color: #00af00; text-decoration-color: #00af00\">4</span>, <span style=\"color: #00af00; text-decoration-color: #00af00\">512</span>)           │               <span style=\"color: #00af00; text-decoration-color: #00af00\">0</span> │\n",
              "├──────────────────────────────────────┼─────────────────────────────┼─────────────────┤\n",
              "│ flatten_1 (<span style=\"color: #0087ff; text-decoration-color: #0087ff\">Flatten</span>)                  │ (<span style=\"color: #00d7ff; text-decoration-color: #00d7ff\">None</span>, <span style=\"color: #00af00; text-decoration-color: #00af00\">8192</span>)                │               <span style=\"color: #00af00; text-decoration-color: #00af00\">0</span> │\n",
              "├──────────────────────────────────────┼─────────────────────────────┼─────────────────┤\n",
              "│ dense_2 (<span style=\"color: #0087ff; text-decoration-color: #0087ff\">Dense</span>)                      │ (<span style=\"color: #00d7ff; text-decoration-color: #00d7ff\">None</span>, <span style=\"color: #00af00; text-decoration-color: #00af00\">256</span>)                 │       <span style=\"color: #00af00; text-decoration-color: #00af00\">2,097,408</span> │\n",
              "├──────────────────────────────────────┼─────────────────────────────┼─────────────────┤\n",
              "│ dropout_1 (<span style=\"color: #0087ff; text-decoration-color: #0087ff\">Dropout</span>)                  │ (<span style=\"color: #00d7ff; text-decoration-color: #00d7ff\">None</span>, <span style=\"color: #00af00; text-decoration-color: #00af00\">256</span>)                 │               <span style=\"color: #00af00; text-decoration-color: #00af00\">0</span> │\n",
              "├──────────────────────────────────────┼─────────────────────────────┼─────────────────┤\n",
              "│ dense_3 (<span style=\"color: #0087ff; text-decoration-color: #0087ff\">Dense</span>)                      │ (<span style=\"color: #00d7ff; text-decoration-color: #00d7ff\">None</span>, <span style=\"color: #00af00; text-decoration-color: #00af00\">4</span>)                   │           <span style=\"color: #00af00; text-decoration-color: #00af00\">1,028</span> │\n",
              "└──────────────────────────────────────┴─────────────────────────────┴─────────────────┘\n",
              "</pre>\n"
            ]
          },
          "metadata": {}
        },
        {
          "output_type": "display_data",
          "data": {
            "text/plain": [
              "\u001b[1m Total params: \u001b[0m\u001b[38;5;34m16,813,124\u001b[0m (64.14 MB)\n"
            ],
            "text/html": [
              "<pre style=\"white-space:pre;overflow-x:auto;line-height:normal;font-family:Menlo,'DejaVu Sans Mono',consolas,'Courier New',monospace\"><span style=\"font-weight: bold\"> Total params: </span><span style=\"color: #00af00; text-decoration-color: #00af00\">16,813,124</span> (64.14 MB)\n",
              "</pre>\n"
            ]
          },
          "metadata": {}
        },
        {
          "output_type": "display_data",
          "data": {
            "text/plain": [
              "\u001b[1m Trainable params: \u001b[0m\u001b[38;5;34m2,098,436\u001b[0m (8.00 MB)\n"
            ],
            "text/html": [
              "<pre style=\"white-space:pre;overflow-x:auto;line-height:normal;font-family:Menlo,'DejaVu Sans Mono',consolas,'Courier New',monospace\"><span style=\"font-weight: bold\"> Trainable params: </span><span style=\"color: #00af00; text-decoration-color: #00af00\">2,098,436</span> (8.00 MB)\n",
              "</pre>\n"
            ]
          },
          "metadata": {}
        },
        {
          "output_type": "display_data",
          "data": {
            "text/plain": [
              "\u001b[1m Non-trainable params: \u001b[0m\u001b[38;5;34m14,714,688\u001b[0m (56.13 MB)\n"
            ],
            "text/html": [
              "<pre style=\"white-space:pre;overflow-x:auto;line-height:normal;font-family:Menlo,'DejaVu Sans Mono',consolas,'Courier New',monospace\"><span style=\"font-weight: bold\"> Non-trainable params: </span><span style=\"color: #00af00; text-decoration-color: #00af00\">14,714,688</span> (56.13 MB)\n",
              "</pre>\n"
            ]
          },
          "metadata": {}
        }
      ]
    },
    {
      "cell_type": "code",
      "source": [
        "import numpy as np\n",
        "from tensorflow.keras.preprocessing.image import load_img, img_to_array, ImageDataGenerator\n",
        "from sklearn.utils import shuffle\n",
        "import matplotlib.pyplot as plt\n",
        "\n",
        "# Image Augmentation Function\n",
        "def augment_image(image):\n",
        "    \"\"\"\n",
        "    Apply random image augmentations.\n",
        "    Args:\n",
        "        image (numpy.ndarray): Input image array.\n",
        "    Returns:\n",
        "        numpy.ndarray: Augmented image.\n",
        "    \"\"\"\n",
        "    datagen = ImageDataGenerator(\n",
        "        rotation_range=30,\n",
        "        width_shift_range=0.2,\n",
        "        height_shift_range=0.2,\n",
        "        shear_range=0.2,\n",
        "        zoom_range=0.2,\n",
        "        horizontal_flip=True,\n",
        "        fill_mode='nearest'\n",
        "    )\n",
        "    image = np.expand_dims(image, axis=0)  # Expand dimensions to match generator input requirements\n",
        "    augmented_image = datagen.flow(image, batch_size=1).next()\n",
        "    return augmented_image[0]  # Return augmented image without batch dimension\n",
        "\n",
        "# Show original and augmented image\n",
        "def show_augmentation(original, augmented):\n",
        "    \"\"\"\n",
        "    Display original and augmented images side by side.\n",
        "    \"\"\"\n",
        "    fig, axes = plt.subplots(1, 2, figsize=(10, 5))\n",
        "    axes[0].imshow(original)\n",
        "    axes[0].set_title(\"Original Image\")\n",
        "    axes[0].axis('off')\n",
        "\n",
        "    axes[1].imshow(augmented)\n",
        "    axes[1].set_title(\"Augmented Image\")\n",
        "    axes[1].axis('off')\n",
        "\n",
        "    plt.tight_layout()\n",
        "    plt.show()\n",
        "\n",
        "# Load Images and Apply Augmentation\n",
        "def open_images(paths, augment=False, target_size=(128, 128)):\n",
        "    \"\"\"\n",
        "    Load images from paths and optionally apply augmentation.\n",
        "    Args:\n",
        "        paths (list): List of file paths to images.\n",
        "        augment (bool): Whether to apply augmentation.\n",
        "        target_size (tuple): Desired image size (height, width).\n",
        "    Returns:\n",
        "        numpy.ndarray: Array of image data.\n",
        "    \"\"\"\n",
        "    images = []\n",
        "    for path in paths[:5]:  # Show only for the first 5 images for visualization\n",
        "        img = load_img(path, target_size=target_size)  # Resize image\n",
        "        img_array = img_to_array(img) / 255.0  # Normalize pixel values to [0, 1]\n",
        "        if augment:\n",
        "            augmented = augment_image(img_array)  # Apply augmentation\n",
        "            show_augmentation(img / np.max(img), augmented)  # Display the original and augmented image\n",
        "        images.append(img_array)\n",
        "    return np.array(images)\n",
        "\n",
        "# Encoder Labels (Convert Label Names to Integers)\n",
        "def encode_labels(labels):\n",
        "    \"\"\"\n",
        "    Encode text labels into integers.\n",
        "    Args:\n",
        "        labels (list): List of string labels.\n",
        "    Returns:\n",
        "        numpy.ndarray: Array of integer-encoded labels.\n",
        "    \"\"\"\n",
        "    label_mapping = {\n",
        "        'notumor': 0,\n",
        "        'glioma': 1,\n",
        "        'meningioma': 2,\n",
        "        'pituitary': 3\n",
        "    }\n",
        "    encoded_labels = [label_mapping[label] for label in labels]\n",
        "    print(f\"Encoded Labels: {encoded_labels[:5]} (showing first 5)\")  # Display first 5 encoded labels\n",
        "    return np.array(encoded_labels)\n",
        "\n",
        "# Data Generator for Batching\n",
        "def datagen(paths, labels, batch_size=12, epochs=1, augment=False):\n",
        "    \"\"\"\n",
        "    Generate batches of images and labels for training.\n",
        "    Args:\n",
        "        paths (list): List of file paths to images.\n",
        "        labels (list): List of integer-encoded labels.\n",
        "        batch_size (int): Number of samples per batch.\n",
        "        epochs (int): Number of epochs to generate data for.\n",
        "        augment (bool): Whether to apply augmentation.\n",
        "    Yields:\n",
        "        tuple: Batch of images and corresponding labels.\n",
        "    \"\"\"\n",
        "    num_samples = len(paths)\n",
        "    for epoch in range(epochs):  # Loop through epochs\n",
        "        print(f\"Epoch {epoch + 1}/{epochs}\")\n",
        "        paths, labels = shuffle(paths, labels)  # Shuffle data at the start of each epoch\n",
        "        for i in range(0, num_samples, batch_size):\n",
        "            batch_paths = paths[i:i + batch_size]\n",
        "            batch_labels = labels[i:i + batch_size]\n",
        "            images = open_images(batch_paths, augment=augment)\n",
        "            print(f\"Batch {i // batch_size + 1}: {len(images)} images loaded\")  # Show batch size\n",
        "            yield images, np.array(batch_labels)\n",
        "\n",
        "# Example Usage\n",
        "# Dummy Data for Demonstration\n",
        "train_paths = ['/path/to/image1.jpg', '/path/to/image2.jpg'] * 5  # Example paths\n",
        "train_labels = ['notumor', 'glioma'] * 5  # Example labels\n",
        "\n",
        "# Encoding Labels\n",
        "encoded_labels = encode_labels(train_labels)\n",
        "\n",
        "# Data Generator\n",
        "generator = datagen(train_paths, encoded_labels, batch_size=3, epochs=1, augment=True)\n",
        "\n",
        "# Fetch One Batch\n",
        "images, labels = next(generator)\n",
        "print(f\"Batch Images Shape: {images.shape}\")  # Output: (3, 128, 128, 3)\n",
        "print(f\"Batch Labels: {labels}\")  # Output: [0, 1, 0]"
      ],
      "metadata": {
        "colab": {
          "base_uri": "https://localhost:8080/",
          "height": 490
        },
        "id": "liKSSF9C26QA",
        "outputId": "f4c968e0-687a-40d8-d8ee-dc0a34c07e41"
      },
      "execution_count": null,
      "outputs": [
        {
          "output_type": "stream",
          "name": "stdout",
          "text": [
            "Encoded Labels: [0, 1, 0, 1, 0] (showing first 5)\n",
            "Epoch 1/1\n"
          ]
        },
        {
          "output_type": "error",
          "ename": "FileNotFoundError",
          "evalue": "[Errno 2] No such file or directory: '/path/to/image1.jpg'",
          "traceback": [
            "\u001b[0;31m---------------------------------------------------------------------------\u001b[0m",
            "\u001b[0;31mFileNotFoundError\u001b[0m                         Traceback (most recent call last)",
            "\u001b[0;32m<ipython-input-8-df2b98275168>\u001b[0m in \u001b[0;36m<cell line: 0>\u001b[0;34m()\u001b[0m\n\u001b[1;32m    119\u001b[0m \u001b[0;34m\u001b[0m\u001b[0m\n\u001b[1;32m    120\u001b[0m \u001b[0;31m# Fetch One Batch\u001b[0m\u001b[0;34m\u001b[0m\u001b[0;34m\u001b[0m\u001b[0m\n\u001b[0;32m--> 121\u001b[0;31m \u001b[0mimages\u001b[0m\u001b[0;34m,\u001b[0m \u001b[0mlabels\u001b[0m \u001b[0;34m=\u001b[0m \u001b[0mnext\u001b[0m\u001b[0;34m(\u001b[0m\u001b[0mgenerator\u001b[0m\u001b[0;34m)\u001b[0m\u001b[0;34m\u001b[0m\u001b[0;34m\u001b[0m\u001b[0m\n\u001b[0m\u001b[1;32m    122\u001b[0m \u001b[0mprint\u001b[0m\u001b[0;34m(\u001b[0m\u001b[0;34mf\"Batch Images Shape: {images.shape}\"\u001b[0m\u001b[0;34m)\u001b[0m  \u001b[0;31m# Output: (3, 128, 128, 3)\u001b[0m\u001b[0;34m\u001b[0m\u001b[0;34m\u001b[0m\u001b[0m\n\u001b[1;32m    123\u001b[0m \u001b[0mprint\u001b[0m\u001b[0;34m(\u001b[0m\u001b[0;34mf\"Batch Labels: {labels}\"\u001b[0m\u001b[0;34m)\u001b[0m  \u001b[0;31m# Output: [0, 1, 0]\u001b[0m\u001b[0;34m\u001b[0m\u001b[0;34m\u001b[0m\u001b[0m\n",
            "\u001b[0;32m<ipython-input-8-df2b98275168>\u001b[0m in \u001b[0;36mdatagen\u001b[0;34m(paths, labels, batch_size, epochs, augment)\u001b[0m\n\u001b[1;32m    103\u001b[0m             \u001b[0mbatch_paths\u001b[0m \u001b[0;34m=\u001b[0m \u001b[0mpaths\u001b[0m\u001b[0;34m[\u001b[0m\u001b[0mi\u001b[0m\u001b[0;34m:\u001b[0m\u001b[0mi\u001b[0m \u001b[0;34m+\u001b[0m \u001b[0mbatch_size\u001b[0m\u001b[0;34m]\u001b[0m\u001b[0;34m\u001b[0m\u001b[0;34m\u001b[0m\u001b[0m\n\u001b[1;32m    104\u001b[0m             \u001b[0mbatch_labels\u001b[0m \u001b[0;34m=\u001b[0m \u001b[0mlabels\u001b[0m\u001b[0;34m[\u001b[0m\u001b[0mi\u001b[0m\u001b[0;34m:\u001b[0m\u001b[0mi\u001b[0m \u001b[0;34m+\u001b[0m \u001b[0mbatch_size\u001b[0m\u001b[0;34m]\u001b[0m\u001b[0;34m\u001b[0m\u001b[0;34m\u001b[0m\u001b[0m\n\u001b[0;32m--> 105\u001b[0;31m             \u001b[0mimages\u001b[0m \u001b[0;34m=\u001b[0m \u001b[0mopen_images\u001b[0m\u001b[0;34m(\u001b[0m\u001b[0mbatch_paths\u001b[0m\u001b[0;34m,\u001b[0m \u001b[0maugment\u001b[0m\u001b[0;34m=\u001b[0m\u001b[0maugment\u001b[0m\u001b[0;34m)\u001b[0m\u001b[0;34m\u001b[0m\u001b[0;34m\u001b[0m\u001b[0m\n\u001b[0m\u001b[1;32m    106\u001b[0m             \u001b[0mprint\u001b[0m\u001b[0;34m(\u001b[0m\u001b[0;34mf\"Batch {i // batch_size + 1}: {len(images)} images loaded\"\u001b[0m\u001b[0;34m)\u001b[0m  \u001b[0;31m# Show batch size\u001b[0m\u001b[0;34m\u001b[0m\u001b[0;34m\u001b[0m\u001b[0m\n\u001b[1;32m    107\u001b[0m             \u001b[0;32myield\u001b[0m \u001b[0mimages\u001b[0m\u001b[0;34m,\u001b[0m \u001b[0mnp\u001b[0m\u001b[0;34m.\u001b[0m\u001b[0marray\u001b[0m\u001b[0;34m(\u001b[0m\u001b[0mbatch_labels\u001b[0m\u001b[0;34m)\u001b[0m\u001b[0;34m\u001b[0m\u001b[0;34m\u001b[0m\u001b[0m\n",
            "\u001b[0;32m<ipython-input-8-df2b98275168>\u001b[0m in \u001b[0;36mopen_images\u001b[0;34m(paths, augment, target_size)\u001b[0m\n\u001b[1;32m     56\u001b[0m     \u001b[0mimages\u001b[0m \u001b[0;34m=\u001b[0m \u001b[0;34m[\u001b[0m\u001b[0;34m]\u001b[0m\u001b[0;34m\u001b[0m\u001b[0;34m\u001b[0m\u001b[0m\n\u001b[1;32m     57\u001b[0m     \u001b[0;32mfor\u001b[0m \u001b[0mpath\u001b[0m \u001b[0;32min\u001b[0m \u001b[0mpaths\u001b[0m\u001b[0;34m[\u001b[0m\u001b[0;34m:\u001b[0m\u001b[0;36m5\u001b[0m\u001b[0;34m]\u001b[0m\u001b[0;34m:\u001b[0m  \u001b[0;31m# Show only for the first 5 images for visualization\u001b[0m\u001b[0;34m\u001b[0m\u001b[0;34m\u001b[0m\u001b[0m\n\u001b[0;32m---> 58\u001b[0;31m         \u001b[0mimg\u001b[0m \u001b[0;34m=\u001b[0m \u001b[0mload_img\u001b[0m\u001b[0;34m(\u001b[0m\u001b[0mpath\u001b[0m\u001b[0;34m,\u001b[0m \u001b[0mtarget_size\u001b[0m\u001b[0;34m=\u001b[0m\u001b[0mtarget_size\u001b[0m\u001b[0;34m)\u001b[0m  \u001b[0;31m# Resize image\u001b[0m\u001b[0;34m\u001b[0m\u001b[0;34m\u001b[0m\u001b[0m\n\u001b[0m\u001b[1;32m     59\u001b[0m         \u001b[0mimg_array\u001b[0m \u001b[0;34m=\u001b[0m \u001b[0mimg_to_array\u001b[0m\u001b[0;34m(\u001b[0m\u001b[0mimg\u001b[0m\u001b[0;34m)\u001b[0m \u001b[0;34m/\u001b[0m \u001b[0;36m255.0\u001b[0m  \u001b[0;31m# Normalize pixel values to [0, 1]\u001b[0m\u001b[0;34m\u001b[0m\u001b[0;34m\u001b[0m\u001b[0m\n\u001b[1;32m     60\u001b[0m         \u001b[0;32mif\u001b[0m \u001b[0maugment\u001b[0m\u001b[0;34m:\u001b[0m\u001b[0;34m\u001b[0m\u001b[0;34m\u001b[0m\u001b[0m\n",
            "\u001b[0;32m/usr/local/lib/python3.11/dist-packages/keras/src/utils/image_utils.py\u001b[0m in \u001b[0;36mload_img\u001b[0;34m(path, color_mode, target_size, interpolation, keep_aspect_ratio)\u001b[0m\n\u001b[1;32m    233\u001b[0m         \u001b[0;32mif\u001b[0m \u001b[0misinstance\u001b[0m\u001b[0;34m(\u001b[0m\u001b[0mpath\u001b[0m\u001b[0;34m,\u001b[0m \u001b[0mpathlib\u001b[0m\u001b[0;34m.\u001b[0m\u001b[0mPath\u001b[0m\u001b[0;34m)\u001b[0m\u001b[0;34m:\u001b[0m\u001b[0;34m\u001b[0m\u001b[0;34m\u001b[0m\u001b[0m\n\u001b[1;32m    234\u001b[0m             \u001b[0mpath\u001b[0m \u001b[0;34m=\u001b[0m \u001b[0mstr\u001b[0m\u001b[0;34m(\u001b[0m\u001b[0mpath\u001b[0m\u001b[0;34m.\u001b[0m\u001b[0mresolve\u001b[0m\u001b[0;34m(\u001b[0m\u001b[0;34m)\u001b[0m\u001b[0;34m)\u001b[0m\u001b[0;34m\u001b[0m\u001b[0;34m\u001b[0m\u001b[0m\n\u001b[0;32m--> 235\u001b[0;31m         \u001b[0;32mwith\u001b[0m \u001b[0mopen\u001b[0m\u001b[0;34m(\u001b[0m\u001b[0mpath\u001b[0m\u001b[0;34m,\u001b[0m \u001b[0;34m\"rb\"\u001b[0m\u001b[0;34m)\u001b[0m \u001b[0;32mas\u001b[0m \u001b[0mf\u001b[0m\u001b[0;34m:\u001b[0m\u001b[0;34m\u001b[0m\u001b[0;34m\u001b[0m\u001b[0m\n\u001b[0m\u001b[1;32m    236\u001b[0m             \u001b[0mimg\u001b[0m \u001b[0;34m=\u001b[0m \u001b[0mpil_image\u001b[0m\u001b[0;34m.\u001b[0m\u001b[0mopen\u001b[0m\u001b[0;34m(\u001b[0m\u001b[0mio\u001b[0m\u001b[0;34m.\u001b[0m\u001b[0mBytesIO\u001b[0m\u001b[0;34m(\u001b[0m\u001b[0mf\u001b[0m\u001b[0;34m.\u001b[0m\u001b[0mread\u001b[0m\u001b[0;34m(\u001b[0m\u001b[0;34m)\u001b[0m\u001b[0;34m)\u001b[0m\u001b[0;34m)\u001b[0m\u001b[0;34m\u001b[0m\u001b[0;34m\u001b[0m\u001b[0m\n\u001b[1;32m    237\u001b[0m     \u001b[0;32melse\u001b[0m\u001b[0;34m:\u001b[0m\u001b[0;34m\u001b[0m\u001b[0;34m\u001b[0m\u001b[0m\n",
            "\u001b[0;31mFileNotFoundError\u001b[0m: [Errno 2] No such file or directory: '/path/to/image1.jpg'"
          ]
        }
      ]
    },
    {
      "cell_type": "code",
      "source": [
        "import os\n",
        "from tensorflow.keras.applications import VGG16\n",
        "from tensorflow.keras.models import Sequential\n",
        "from tensorflow.keras.layers import Input, Flatten, Dropout, Dense\n",
        "from tensorflow.keras.optimizers import Adam\n",
        "\n",
        "# Constants\n",
        "IMAGE_SIZE = 128\n",
        "BATCH_SIZE = 32\n",
        "EPOCHS = 5\n",
        "\n",
        "# Load the VGG16 base model\n",
        "base_model = VGG16(\n",
        "    input_shape=(IMAGE_SIZE, IMAGE_SIZE, 3),  # Input image size\n",
        "    include_top=False,  # Exclude the fully connected layers at the top\n",
        "    weights='imagenet'  # Use pre-trained weights on ImageNet\n",
        ")\n",
        "\n",
        "# Freeze all layers of the VGG16 base model\n",
        "for layer in base_model.layers:\n",
        "    layer.trainable = False\n",
        "\n",
        "# Set specific layers trainable (if needed)\n",
        "# Uncomment the following lines if you want to fine-tune specific layers\n",
        "# base_model.layers[-3].trainable = True\n",
        "# base_model.layers[-2].trainable = True\n",
        "\n",
        "# Build the model\n",
        "model = Sequential()\n",
        "model.add(Input(shape=(IMAGE_SIZE, IMAGE_SIZE, 3)))  # Input layer\n",
        "model.add(base_model)  # Add the VGG16 base model\n",
        "model.add(Flatten())  # Flatten layer\n",
        "model.add(Dropout(0.3))  # Dropout for regularization\n",
        "model.add(Dense(128, activation='relu'))  # Dense layer\n",
        "model.add(Dense(4, activation='softmax'))  # Output layer (4 classes)\n",
        "\n",
        "# Compile the model\n",
        "model.compile(\n",
        "    optimizer=Adam(learning_rate=0.00001),  # Adam optimizer with a low learning rate\n",
        "    loss='sparse_categorical_crossentropy',  # Suitable for integer labels\n",
        "    metrics=['accuracy']  # Track accuracy during training\n",
        ")\n",
        "\n",
        "# Display the model summary\n",
        "model.summary()\n",
        "\n",
        "# Training parameters\n",
        "steps_per_epoch = len(train_paths) // BATCH_SIZE\n",
        "\n",
        "# Train the model\n",
        "history = model.fit(\n",
        "    datagen(train_paths, train_labels, batch_size=BATCH_SIZE, epochs=EPOCHS, augment=True),  # Training data generator\n",
        "    steps_per_epoch=steps_per_epoch,\n",
        "    validation_data=datagen(test_paths, test_labels, batch_size=BATCH_SIZE, augment=False),  # Validation data generator\n",
        "    validation_steps=len(test_paths) // BATCH_SIZE,\n",
        "    epochs=EPOCHS\n",
        ")\n",
        "\n",
        "# Save the model (optional)\n",
        "model.save('vgg16_brain_tumor_classifier.h5')"
      ],
      "metadata": {
        "colab": {
          "base_uri": "https://localhost:8080/",
          "height": 568
        },
        "id": "LgXFe4C65tP2",
        "outputId": "54e4ec94-10a5-45ea-be7b-e2ebd6934a4a"
      },
      "execution_count": null,
      "outputs": [
        {
          "output_type": "display_data",
          "data": {
            "text/plain": [
              "\u001b[1mModel: \"sequential\"\u001b[0m\n"
            ],
            "text/html": [
              "<pre style=\"white-space:pre;overflow-x:auto;line-height:normal;font-family:Menlo,'DejaVu Sans Mono',consolas,'Courier New',monospace\"><span style=\"font-weight: bold\">Model: \"sequential\"</span>\n",
              "</pre>\n"
            ]
          },
          "metadata": {}
        },
        {
          "output_type": "display_data",
          "data": {
            "text/plain": [
              "┏━━━━━━━━━━━━━━━━━━━━━━━━━━━━━━━━━━━━━━┳━━━━━━━━━━━━━━━━━━━━━━━━━━━━━┳━━━━━━━━━━━━━━━━━┓\n",
              "┃\u001b[1m \u001b[0m\u001b[1mLayer (type)                        \u001b[0m\u001b[1m \u001b[0m┃\u001b[1m \u001b[0m\u001b[1mOutput Shape               \u001b[0m\u001b[1m \u001b[0m┃\u001b[1m \u001b[0m\u001b[1m        Param #\u001b[0m\u001b[1m \u001b[0m┃\n",
              "┡━━━━━━━━━━━━━━━━━━━━━━━━━━━━━━━━━━━━━━╇━━━━━━━━━━━━━━━━━━━━━━━━━━━━━╇━━━━━━━━━━━━━━━━━┩\n",
              "│ vgg16 (\u001b[38;5;33mFunctional\u001b[0m)                   │ (\u001b[38;5;45mNone\u001b[0m, \u001b[38;5;34m4\u001b[0m, \u001b[38;5;34m4\u001b[0m, \u001b[38;5;34m512\u001b[0m)           │      \u001b[38;5;34m14,714,688\u001b[0m │\n",
              "├──────────────────────────────────────┼─────────────────────────────┼─────────────────┤\n",
              "│ flatten_2 (\u001b[38;5;33mFlatten\u001b[0m)                  │ (\u001b[38;5;45mNone\u001b[0m, \u001b[38;5;34m8192\u001b[0m)                │               \u001b[38;5;34m0\u001b[0m │\n",
              "├──────────────────────────────────────┼─────────────────────────────┼─────────────────┤\n",
              "│ dropout_2 (\u001b[38;5;33mDropout\u001b[0m)                  │ (\u001b[38;5;45mNone\u001b[0m, \u001b[38;5;34m8192\u001b[0m)                │               \u001b[38;5;34m0\u001b[0m │\n",
              "├──────────────────────────────────────┼─────────────────────────────┼─────────────────┤\n",
              "│ dense_4 (\u001b[38;5;33mDense\u001b[0m)                      │ (\u001b[38;5;45mNone\u001b[0m, \u001b[38;5;34m128\u001b[0m)                 │       \u001b[38;5;34m1,048,704\u001b[0m │\n",
              "├──────────────────────────────────────┼─────────────────────────────┼─────────────────┤\n",
              "│ dense_5 (\u001b[38;5;33mDense\u001b[0m)                      │ (\u001b[38;5;45mNone\u001b[0m, \u001b[38;5;34m4\u001b[0m)                   │             \u001b[38;5;34m516\u001b[0m │\n",
              "└──────────────────────────────────────┴─────────────────────────────┴─────────────────┘\n"
            ],
            "text/html": [
              "<pre style=\"white-space:pre;overflow-x:auto;line-height:normal;font-family:Menlo,'DejaVu Sans Mono',consolas,'Courier New',monospace\">┏━━━━━━━━━━━━━━━━━━━━━━━━━━━━━━━━━━━━━━┳━━━━━━━━━━━━━━━━━━━━━━━━━━━━━┳━━━━━━━━━━━━━━━━━┓\n",
              "┃<span style=\"font-weight: bold\"> Layer (type)                         </span>┃<span style=\"font-weight: bold\"> Output Shape                </span>┃<span style=\"font-weight: bold\">         Param # </span>┃\n",
              "┡━━━━━━━━━━━━━━━━━━━━━━━━━━━━━━━━━━━━━━╇━━━━━━━━━━━━━━━━━━━━━━━━━━━━━╇━━━━━━━━━━━━━━━━━┩\n",
              "│ vgg16 (<span style=\"color: #0087ff; text-decoration-color: #0087ff\">Functional</span>)                   │ (<span style=\"color: #00d7ff; text-decoration-color: #00d7ff\">None</span>, <span style=\"color: #00af00; text-decoration-color: #00af00\">4</span>, <span style=\"color: #00af00; text-decoration-color: #00af00\">4</span>, <span style=\"color: #00af00; text-decoration-color: #00af00\">512</span>)           │      <span style=\"color: #00af00; text-decoration-color: #00af00\">14,714,688</span> │\n",
              "├──────────────────────────────────────┼─────────────────────────────┼─────────────────┤\n",
              "│ flatten_2 (<span style=\"color: #0087ff; text-decoration-color: #0087ff\">Flatten</span>)                  │ (<span style=\"color: #00d7ff; text-decoration-color: #00d7ff\">None</span>, <span style=\"color: #00af00; text-decoration-color: #00af00\">8192</span>)                │               <span style=\"color: #00af00; text-decoration-color: #00af00\">0</span> │\n",
              "├──────────────────────────────────────┼─────────────────────────────┼─────────────────┤\n",
              "│ dropout_2 (<span style=\"color: #0087ff; text-decoration-color: #0087ff\">Dropout</span>)                  │ (<span style=\"color: #00d7ff; text-decoration-color: #00d7ff\">None</span>, <span style=\"color: #00af00; text-decoration-color: #00af00\">8192</span>)                │               <span style=\"color: #00af00; text-decoration-color: #00af00\">0</span> │\n",
              "├──────────────────────────────────────┼─────────────────────────────┼─────────────────┤\n",
              "│ dense_4 (<span style=\"color: #0087ff; text-decoration-color: #0087ff\">Dense</span>)                      │ (<span style=\"color: #00d7ff; text-decoration-color: #00d7ff\">None</span>, <span style=\"color: #00af00; text-decoration-color: #00af00\">128</span>)                 │       <span style=\"color: #00af00; text-decoration-color: #00af00\">1,048,704</span> │\n",
              "├──────────────────────────────────────┼─────────────────────────────┼─────────────────┤\n",
              "│ dense_5 (<span style=\"color: #0087ff; text-decoration-color: #0087ff\">Dense</span>)                      │ (<span style=\"color: #00d7ff; text-decoration-color: #00d7ff\">None</span>, <span style=\"color: #00af00; text-decoration-color: #00af00\">4</span>)                   │             <span style=\"color: #00af00; text-decoration-color: #00af00\">516</span> │\n",
              "└──────────────────────────────────────┴─────────────────────────────┴─────────────────┘\n",
              "</pre>\n"
            ]
          },
          "metadata": {}
        },
        {
          "output_type": "display_data",
          "data": {
            "text/plain": [
              "\u001b[1m Total params: \u001b[0m\u001b[38;5;34m15,763,908\u001b[0m (60.13 MB)\n"
            ],
            "text/html": [
              "<pre style=\"white-space:pre;overflow-x:auto;line-height:normal;font-family:Menlo,'DejaVu Sans Mono',consolas,'Courier New',monospace\"><span style=\"font-weight: bold\"> Total params: </span><span style=\"color: #00af00; text-decoration-color: #00af00\">15,763,908</span> (60.13 MB)\n",
              "</pre>\n"
            ]
          },
          "metadata": {}
        },
        {
          "output_type": "display_data",
          "data": {
            "text/plain": [
              "\u001b[1m Trainable params: \u001b[0m\u001b[38;5;34m1,049,220\u001b[0m (4.00 MB)\n"
            ],
            "text/html": [
              "<pre style=\"white-space:pre;overflow-x:auto;line-height:normal;font-family:Menlo,'DejaVu Sans Mono',consolas,'Courier New',monospace\"><span style=\"font-weight: bold\"> Trainable params: </span><span style=\"color: #00af00; text-decoration-color: #00af00\">1,049,220</span> (4.00 MB)\n",
              "</pre>\n"
            ]
          },
          "metadata": {}
        },
        {
          "output_type": "display_data",
          "data": {
            "text/plain": [
              "\u001b[1m Non-trainable params: \u001b[0m\u001b[38;5;34m14,714,688\u001b[0m (56.13 MB)\n"
            ],
            "text/html": [
              "<pre style=\"white-space:pre;overflow-x:auto;line-height:normal;font-family:Menlo,'DejaVu Sans Mono',consolas,'Courier New',monospace\"><span style=\"font-weight: bold\"> Non-trainable params: </span><span style=\"color: #00af00; text-decoration-color: #00af00\">14,714,688</span> (56.13 MB)\n",
              "</pre>\n"
            ]
          },
          "metadata": {}
        },
        {
          "output_type": "error",
          "ename": "NameError",
          "evalue": "name 'test_paths' is not defined",
          "traceback": [
            "\u001b[0;31m---------------------------------------------------------------------------\u001b[0m",
            "\u001b[0;31mNameError\u001b[0m                                 Traceback (most recent call last)",
            "\u001b[0;32m<ipython-input-9-11a3c1891c26>\u001b[0m in \u001b[0;36m<cell line: 0>\u001b[0;34m()\u001b[0m\n\u001b[1;32m     52\u001b[0m     \u001b[0mdatagen\u001b[0m\u001b[0;34m(\u001b[0m\u001b[0mtrain_paths\u001b[0m\u001b[0;34m,\u001b[0m \u001b[0mtrain_labels\u001b[0m\u001b[0;34m,\u001b[0m \u001b[0mbatch_size\u001b[0m\u001b[0;34m=\u001b[0m\u001b[0mBATCH_SIZE\u001b[0m\u001b[0;34m,\u001b[0m \u001b[0mepochs\u001b[0m\u001b[0;34m=\u001b[0m\u001b[0mEPOCHS\u001b[0m\u001b[0;34m,\u001b[0m \u001b[0maugment\u001b[0m\u001b[0;34m=\u001b[0m\u001b[0;32mTrue\u001b[0m\u001b[0;34m)\u001b[0m\u001b[0;34m,\u001b[0m  \u001b[0;31m# Training data generator\u001b[0m\u001b[0;34m\u001b[0m\u001b[0;34m\u001b[0m\u001b[0m\n\u001b[1;32m     53\u001b[0m     \u001b[0msteps_per_epoch\u001b[0m\u001b[0;34m=\u001b[0m\u001b[0msteps_per_epoch\u001b[0m\u001b[0;34m,\u001b[0m\u001b[0;34m\u001b[0m\u001b[0;34m\u001b[0m\u001b[0m\n\u001b[0;32m---> 54\u001b[0;31m     \u001b[0mvalidation_data\u001b[0m\u001b[0;34m=\u001b[0m\u001b[0mdatagen\u001b[0m\u001b[0;34m(\u001b[0m\u001b[0mtest_paths\u001b[0m\u001b[0;34m,\u001b[0m \u001b[0mtest_labels\u001b[0m\u001b[0;34m,\u001b[0m \u001b[0mbatch_size\u001b[0m\u001b[0;34m=\u001b[0m\u001b[0mBATCH_SIZE\u001b[0m\u001b[0;34m,\u001b[0m \u001b[0maugment\u001b[0m\u001b[0;34m=\u001b[0m\u001b[0;32mFalse\u001b[0m\u001b[0;34m)\u001b[0m\u001b[0;34m,\u001b[0m  \u001b[0;31m# Validation data generator\u001b[0m\u001b[0;34m\u001b[0m\u001b[0;34m\u001b[0m\u001b[0m\n\u001b[0m\u001b[1;32m     55\u001b[0m     \u001b[0mvalidation_steps\u001b[0m\u001b[0;34m=\u001b[0m\u001b[0mlen\u001b[0m\u001b[0;34m(\u001b[0m\u001b[0mtest_paths\u001b[0m\u001b[0;34m)\u001b[0m \u001b[0;34m//\u001b[0m \u001b[0mBATCH_SIZE\u001b[0m\u001b[0;34m,\u001b[0m\u001b[0;34m\u001b[0m\u001b[0;34m\u001b[0m\u001b[0m\n\u001b[1;32m     56\u001b[0m     \u001b[0mepochs\u001b[0m\u001b[0;34m=\u001b[0m\u001b[0mEPOCHS\u001b[0m\u001b[0;34m\u001b[0m\u001b[0;34m\u001b[0m\u001b[0m\n",
            "\u001b[0;31mNameError\u001b[0m: name 'test_paths' is not defined"
          ]
        }
      ]
    },
    {
      "cell_type": "code",
      "source": [
        "import os\n",
        "import numpy as np\n",
        "from tensorflow.keras.preprocessing.image import load_img, img_to_array\n",
        "from sklearn.utils import shuffle\n",
        "\n",
        "# Function to load images\n",
        "def open_images(paths):\n",
        "    \"\"\"\n",
        "    Load images from given paths and preprocess them.\n",
        "    Args:\n",
        "        paths (list): List of image file paths.\n",
        "    Returns:\n",
        "        numpy.ndarray: Array of preprocessed image data.\n",
        "    \"\"\"\n",
        "    images = []  # Initialize an empty list to store image arrays\n",
        "    for path in paths:\n",
        "        img = load_img(path, target_size=(150, 150))  # Load and resize image\n",
        "        img_array = img_to_array(img) / 255.0  # Normalize image to range [0, 1]\n",
        "        images.append(img_array)  # Add the image array to the list\n",
        "    return np.array(images)  # Convert the list of images to a numpy array\n",
        "\n",
        "\n",
        "# Function to encode labels (convert label names to integers)\n",
        "def encode_labels(labels):\n",
        "    \"\"\"\n",
        "    Encode textual class labels into integers.\n",
        "    Args:\n",
        "        labels (list): List of string class labels.\n",
        "    Returns:\n",
        "        numpy.ndarray: Array of integer-encoded labels.\n",
        "    \"\"\"\n",
        "    unique_labels = sorted(set(labels))  # Get unique class names\n",
        "    label_mapping = {label: idx for idx, label in enumerate(unique_labels)}  # Map each label to an integer\n",
        "    print(f\"Label Mapping: {label_mapping}\")  # Show the mapping for verification\n",
        "    return np.array([label_mapping[label] for label in labels])  # Encode labels using the mapping\n",
        "\n",
        "\n",
        "# Data generator for batching\n",
        "def datagen(paths, labels, batch_size=12, epochs=1):\n",
        "    \"\"\"\n",
        "    Generate batches of images and labels for training or testing.\n",
        "    Args:\n",
        "        paths (list): List of image file paths.\n",
        "        labels (list): List of integer-encoded labels.\n",
        "        batch_size (int): Number of samples per batch.\n",
        "        epochs (int): Number of epochs to generate data for.\n",
        "    Yields:\n",
        "        tuple: Batch of image data and corresponding labels.\n",
        "    \"\"\"\n",
        "    for epoch in range(epochs):  # Loop through epochs\n",
        "        paths, labels = shuffle(paths, labels)  # Shuffle data at the start of each epoch\n",
        "        for i in range(0, len(paths), batch_size):\n",
        "            batch_paths = paths[i:i + batch_size]  # Get paths for the current batch\n",
        "            batch_labels = labels[i:i + batch_size]  # Get labels for the current batch\n",
        "            images = open_images(batch_paths)  # Load images for the current batch\n",
        "            yield images, np.array(batch_labels)  # Yield a batch of images and labels"
      ],
      "metadata": {
        "id": "BeFJuCpdIYZ6"
      },
      "execution_count": null,
      "outputs": []
    },
    {
      "cell_type": "code",
      "source": [
        "import os\n",
        "import numpy as np\n",
        "from tensorflow.keras.preprocessing.image import load_img, img_to_array\n",
        "from sklearn.utils import shuffle\n",
        "import matplotlib.pyplot as plt\n",
        "\n",
        "# Function to load and preprocess images\n",
        "def open_images(paths, visualize=False):\n",
        "    \"\"\"\n",
        "    Load images from given paths and preprocess them.\n",
        "    Args:\n",
        "        paths (list): List of image file paths.\n",
        "        visualize (bool): Whether to display the loaded images.\n",
        "    Returns:\n",
        "        numpy.ndarray: Array of preprocessed image data.\n",
        "    \"\"\"\n",
        "    images = []\n",
        "    for path in paths:\n",
        "        img = load_img(path, target_size=(150, 150))  # Load and resize image\n",
        "        img_array = img_to_array(img) / 255.0  # Normalize image to range [0, 1]\n",
        "        images.append(img_array)\n",
        "\n",
        "        # Display the image if visualize is True\n",
        "        if visualize:\n",
        "            plt.imshow(img / np.max(img))  # Normalize for display purposes\n",
        "            plt.title(f\"Loaded Image: {os.path.basename(path)}\")\n",
        "            plt.axis('off')\n",
        "            plt.show()\n",
        "\n",
        "    print(f\"Loaded {len(images)} images.\")\n",
        "    return np.array(images)\n",
        "\n",
        "\n",
        "# Function to encode labels (convert label names to integers)\n",
        "def encode_labels(labels):\n",
        "    \"\"\"\n",
        "    Encode textual class labels into integers.\n",
        "    Args:\n",
        "        labels (list): List of string class labels.\n",
        "    Returns:\n",
        "        numpy.ndarray: Array of integer-encoded labels.\n",
        "    \"\"\"\n",
        "    unique_labels = sorted(set(labels))  # Get unique class names\n",
        "    label_mapping = {label: idx for idx, label in enumerate(unique_labels)}  # Map each label to an integer\n",
        "    print(f\"Label Mapping: {label_mapping}\")  # Display the mapping\n",
        "    encoded = [label_mapping[label] for label in labels]\n",
        "    print(f\"Encoded Labels (first 5): {encoded[:5]}\")  # Display first 5 encoded labels\n",
        "    return np.array(encoded)\n",
        "\n",
        "\n",
        "# Data generator for batching\n",
        "def datagen(paths, labels, batch_size=12, epochs=1, augment=False):\n",
        "    \"\"\"\n",
        "    Generate batches of images and labels for training or testing.\n",
        "    Args:\n",
        "        paths (list): List of image file paths.\n",
        "        labels (list): List of integer-encoded labels.\n",
        "        batch_size (int): Number of samples per batch.\n",
        "        epochs (int): Number of epochs to generate data for.\n",
        "        augment (bool): Whether to apply augmentation.\n",
        "    Yields:\n",
        "        tuple: Batch of image data and corresponding labels.\n",
        "    \"\"\"\n",
        "    for epoch in range(epochs):  # Loop through epochs\n",
        "        print(f\"Epoch {epoch + 1}/{epochs}\")\n",
        "        paths, labels = shuffle(paths, labels)  # Shuffle data at the start of each epoch\n",
        "        for i in range(0, len(paths), batch_size):\n",
        "            batch_paths = paths[i:i + batch_size]  # Get paths for the current batch\n",
        "            batch_labels = labels[i:i + batch_size]  # Get labels for the current batch\n",
        "            images = open_images(batch_paths, visualize=False)  # Load images for the current batch\n",
        "\n",
        "            print(f\"Batch {i // batch_size + 1}: {len(images)} images loaded.\")  # Show batch info\n",
        "\n",
        "            # Optionally visualize the first image in the batch\n",
        "            plt.imshow(images[0])  # Display first image in the batch\n",
        "            plt.title(f\"First Image in Batch {i // batch_size + 1}\")\n",
        "            plt.axis('off')\n",
        "            plt.show()\n",
        "\n",
        "            yield images, np.array(batch_labels)\n",
        "\n",
        "\n",
        "# Example Usage\n",
        "# Dummy Data for Demonstration\n",
        "train_paths = ['/path/to/image1.jpg', '/path/to/image2.jpg', '/path/to/image3.jpg'] * 5  # Example paths\n",
        "train_labels = ['notumor', 'glioma', 'meningioma'] * 5  # Example labels\n",
        "\n",
        "# Step 1: Encode Labels\n",
        "encoded_labels = encode_labels(train_labels)\n",
        "\n",
        "# Step 2: Load and Visualize Images\n",
        "print(\"Loading and visualizing a few images...\")\n",
        "open_images(train_paths[:5], visualize=True)\n",
        "\n",
        "# Step 3: Generate Data in Batches\n",
        "print(\"Generating data in batches...\")\n",
        "generator = datagen(train_paths, encoded_labels, batch_size=3, epochs=1)\n",
        "\n",
        "# Fetch one batch to display\n",
        "images, labels = next(generator)\n",
        "print(f\"Batch Images Shape: {images.shape}\")\n",
        "print(f\"Batch Labels: {labels}\")"
      ],
      "metadata": {
        "colab": {
          "base_uri": "https://localhost:8080/",
          "height": 490
        },
        "id": "vGMezWc_ArzI",
        "outputId": "1ffbe0ef-3178-4bfd-9151-a5f2016da93c"
      },
      "execution_count": null,
      "outputs": [
        {
          "output_type": "stream",
          "name": "stdout",
          "text": [
            "Label Mapping: {'glioma': 0, 'meningioma': 1, 'notumor': 2}\n",
            "Encoded Labels (first 5): [2, 0, 1, 2, 0]\n",
            "Loading and visualizing a few images...\n"
          ]
        },
        {
          "output_type": "error",
          "ename": "FileNotFoundError",
          "evalue": "[Errno 2] No such file or directory: '/path/to/image1.jpg'",
          "traceback": [
            "\u001b[0;31m---------------------------------------------------------------------------\u001b[0m",
            "\u001b[0;31mFileNotFoundError\u001b[0m                         Traceback (most recent call last)",
            "\u001b[0;32m<ipython-input-2-9f6ced1f320c>\u001b[0m in \u001b[0;36m<cell line: 0>\u001b[0;34m()\u001b[0m\n\u001b[1;32m     91\u001b[0m \u001b[0;31m# Step 2: Load and Visualize Images\u001b[0m\u001b[0;34m\u001b[0m\u001b[0;34m\u001b[0m\u001b[0m\n\u001b[1;32m     92\u001b[0m \u001b[0mprint\u001b[0m\u001b[0;34m(\u001b[0m\u001b[0;34m\"Loading and visualizing a few images...\"\u001b[0m\u001b[0;34m)\u001b[0m\u001b[0;34m\u001b[0m\u001b[0;34m\u001b[0m\u001b[0m\n\u001b[0;32m---> 93\u001b[0;31m \u001b[0mopen_images\u001b[0m\u001b[0;34m(\u001b[0m\u001b[0mtrain_paths\u001b[0m\u001b[0;34m[\u001b[0m\u001b[0;34m:\u001b[0m\u001b[0;36m5\u001b[0m\u001b[0;34m]\u001b[0m\u001b[0;34m,\u001b[0m \u001b[0mvisualize\u001b[0m\u001b[0;34m=\u001b[0m\u001b[0;32mTrue\u001b[0m\u001b[0;34m)\u001b[0m\u001b[0;34m\u001b[0m\u001b[0;34m\u001b[0m\u001b[0m\n\u001b[0m\u001b[1;32m     94\u001b[0m \u001b[0;34m\u001b[0m\u001b[0m\n\u001b[1;32m     95\u001b[0m \u001b[0;31m# Step 3: Generate Data in Batches\u001b[0m\u001b[0;34m\u001b[0m\u001b[0;34m\u001b[0m\u001b[0m\n",
            "\u001b[0;32m<ipython-input-2-9f6ced1f320c>\u001b[0m in \u001b[0;36mopen_images\u001b[0;34m(paths, visualize)\u001b[0m\n\u001b[1;32m     17\u001b[0m     \u001b[0mimages\u001b[0m \u001b[0;34m=\u001b[0m \u001b[0;34m[\u001b[0m\u001b[0;34m]\u001b[0m\u001b[0;34m\u001b[0m\u001b[0;34m\u001b[0m\u001b[0m\n\u001b[1;32m     18\u001b[0m     \u001b[0;32mfor\u001b[0m \u001b[0mpath\u001b[0m \u001b[0;32min\u001b[0m \u001b[0mpaths\u001b[0m\u001b[0;34m:\u001b[0m\u001b[0;34m\u001b[0m\u001b[0;34m\u001b[0m\u001b[0m\n\u001b[0;32m---> 19\u001b[0;31m         \u001b[0mimg\u001b[0m \u001b[0;34m=\u001b[0m \u001b[0mload_img\u001b[0m\u001b[0;34m(\u001b[0m\u001b[0mpath\u001b[0m\u001b[0;34m,\u001b[0m \u001b[0mtarget_size\u001b[0m\u001b[0;34m=\u001b[0m\u001b[0;34m(\u001b[0m\u001b[0;36m150\u001b[0m\u001b[0;34m,\u001b[0m \u001b[0;36m150\u001b[0m\u001b[0;34m)\u001b[0m\u001b[0;34m)\u001b[0m  \u001b[0;31m# Load and resize image\u001b[0m\u001b[0;34m\u001b[0m\u001b[0;34m\u001b[0m\u001b[0m\n\u001b[0m\u001b[1;32m     20\u001b[0m         \u001b[0mimg_array\u001b[0m \u001b[0;34m=\u001b[0m \u001b[0mimg_to_array\u001b[0m\u001b[0;34m(\u001b[0m\u001b[0mimg\u001b[0m\u001b[0;34m)\u001b[0m \u001b[0;34m/\u001b[0m \u001b[0;36m255.0\u001b[0m  \u001b[0;31m# Normalize image to range [0, 1]\u001b[0m\u001b[0;34m\u001b[0m\u001b[0;34m\u001b[0m\u001b[0m\n\u001b[1;32m     21\u001b[0m         \u001b[0mimages\u001b[0m\u001b[0;34m.\u001b[0m\u001b[0mappend\u001b[0m\u001b[0;34m(\u001b[0m\u001b[0mimg_array\u001b[0m\u001b[0;34m)\u001b[0m\u001b[0;34m\u001b[0m\u001b[0;34m\u001b[0m\u001b[0m\n",
            "\u001b[0;32m/usr/local/lib/python3.11/dist-packages/keras/src/utils/image_utils.py\u001b[0m in \u001b[0;36mload_img\u001b[0;34m(path, color_mode, target_size, interpolation, keep_aspect_ratio)\u001b[0m\n\u001b[1;32m    233\u001b[0m         \u001b[0;32mif\u001b[0m \u001b[0misinstance\u001b[0m\u001b[0;34m(\u001b[0m\u001b[0mpath\u001b[0m\u001b[0;34m,\u001b[0m \u001b[0mpathlib\u001b[0m\u001b[0;34m.\u001b[0m\u001b[0mPath\u001b[0m\u001b[0;34m)\u001b[0m\u001b[0;34m:\u001b[0m\u001b[0;34m\u001b[0m\u001b[0;34m\u001b[0m\u001b[0m\n\u001b[1;32m    234\u001b[0m             \u001b[0mpath\u001b[0m \u001b[0;34m=\u001b[0m \u001b[0mstr\u001b[0m\u001b[0;34m(\u001b[0m\u001b[0mpath\u001b[0m\u001b[0;34m.\u001b[0m\u001b[0mresolve\u001b[0m\u001b[0;34m(\u001b[0m\u001b[0;34m)\u001b[0m\u001b[0;34m)\u001b[0m\u001b[0;34m\u001b[0m\u001b[0;34m\u001b[0m\u001b[0m\n\u001b[0;32m--> 235\u001b[0;31m         \u001b[0;32mwith\u001b[0m \u001b[0mopen\u001b[0m\u001b[0;34m(\u001b[0m\u001b[0mpath\u001b[0m\u001b[0;34m,\u001b[0m \u001b[0;34m\"rb\"\u001b[0m\u001b[0;34m)\u001b[0m \u001b[0;32mas\u001b[0m \u001b[0mf\u001b[0m\u001b[0;34m:\u001b[0m\u001b[0;34m\u001b[0m\u001b[0;34m\u001b[0m\u001b[0m\n\u001b[0m\u001b[1;32m    236\u001b[0m             \u001b[0mimg\u001b[0m \u001b[0;34m=\u001b[0m \u001b[0mpil_image\u001b[0m\u001b[0;34m.\u001b[0m\u001b[0mopen\u001b[0m\u001b[0;34m(\u001b[0m\u001b[0mio\u001b[0m\u001b[0;34m.\u001b[0m\u001b[0mBytesIO\u001b[0m\u001b[0;34m(\u001b[0m\u001b[0mf\u001b[0m\u001b[0;34m.\u001b[0m\u001b[0mread\u001b[0m\u001b[0;34m(\u001b[0m\u001b[0;34m)\u001b[0m\u001b[0;34m)\u001b[0m\u001b[0;34m)\u001b[0m\u001b[0;34m\u001b[0m\u001b[0;34m\u001b[0m\u001b[0m\n\u001b[1;32m    237\u001b[0m     \u001b[0;32melse\u001b[0m\u001b[0;34m:\u001b[0m\u001b[0;34m\u001b[0m\u001b[0;34m\u001b[0m\u001b[0m\n",
            "\u001b[0;31mFileNotFoundError\u001b[0m: [Errno 2] No such file or directory: '/path/to/image1.jpg'"
          ]
        }
      ]
    },
    {
      "cell_type": "code",
      "source": [
        "def datagen( paths, labels , barch_size = 12, epocsh = 1):\n",
        "  for _ in range(epochs):\n",
        "    for i in range(0, len(paths), batch_size):\n",
        "      batch_paths = paths[i:i+batch_size]\n",
        "      batch_labels = labels[i:i+batch_size]\n",
        "      batch_images = open_images(batch_paths)\n",
        "      yield batch_images, np.array(batch_labels)"
      ],
      "metadata": {
        "id": "VA6OpHg0BYjw"
      },
      "execution_count": null,
      "outputs": []
    },
    {
      "cell_type": "code",
      "source": [
        "# Training parameters\n",
        "batch_size = 20\n",
        "steps_per_epoch = len(train_paths) // batch_size  # Steps per epoch\n",
        "epochs = 5\n",
        "\n",
        "# Train the model\n",
        "history = model.fit(\n",
        "    datagen(train_paths, train_labels, batch_size=batch_size, epochs=epochs, augment=True),  # Training data generator\n",
        "    steps_per_epoch=steps_per_epoch,  # Number of steps per epoch\n",
        "    validation_data=datagen(test_paths, test_labels, batch_size=batch_size, epochs=1, augment=False),  # Validation data\n",
        "    validation_steps=len(test_paths) // batch_size,  # Steps for validation\n",
        "    epochs=epochs  # Number of epochs\n",
        ")\n",
        "\n",
        "import matplotlib.pyplot as plt\n",
        "\n",
        "# Plot training and validation accuracy\n",
        "plt.plot(history.history['accuracy'], label='Training Accuracy')\n",
        "plt.plot(history.history['val_accuracy'], label='Validation Accuracy')\n",
        "plt.title('Model Accuracy')\n",
        "plt.xlabel('Epoch')\n",
        "plt.ylabel('Accuracy')\n",
        "plt.legend()\n",
        "plt.show()\n",
        "\n",
        "# Plot training and validation loss\n",
        "plt.plot(history.history['loss'], label='Training Loss')\n",
        "plt.plot(history.history['val_loss'], label='Validation Loss')\n",
        "plt.title('Model Loss')\n",
        "plt.xlabel('Epoch')\n",
        "plt.ylabel('Loss')\n",
        "plt.legend()\n",
        "plt.show()\n",
        "\n",
        "plt.figure(figsize = (8,4))\n",
        "plt.grid(True)\n",
        "plt.plot(history.history['sparse'])\n",
        "plt.plot(history.history['loss'], '.r-', linewidth = 2)\n",
        "plt.legend\n",
        "\n",
        "\n",
        "# print the model confusion matrics\n",
        "\n",
        "from sklearn.metrics import classification_report, confusion_matrics, roc_curve, roc_auc_score\n",
        "import seaborn as sns\n",
        "import matplotlib.pyplot as plt\n",
        "from sklearn.preprocessing import label_binarize\n",
        "\n",
        "import numpy as np\n",
        "\n",
        "\n"
      ],
      "metadata": {
        "colab": {
          "base_uri": "https://localhost:8080/",
          "height": 269
        },
        "id": "-2GcOsodCW2f",
        "outputId": "0ec81920-4078-435b-f19f-3f0fad0d684c"
      },
      "execution_count": null,
      "outputs": [
        {
          "output_type": "error",
          "ename": "NameError",
          "evalue": "name 'model' is not defined",
          "traceback": [
            "\u001b[0;31m---------------------------------------------------------------------------\u001b[0m",
            "\u001b[0;31mNameError\u001b[0m                                 Traceback (most recent call last)",
            "\u001b[0;32m<ipython-input-7-94423be1c3b2>\u001b[0m in \u001b[0;36m<cell line: 0>\u001b[0;34m()\u001b[0m\n\u001b[1;32m      5\u001b[0m \u001b[0;34m\u001b[0m\u001b[0m\n\u001b[1;32m      6\u001b[0m \u001b[0;31m# Train the model\u001b[0m\u001b[0;34m\u001b[0m\u001b[0;34m\u001b[0m\u001b[0m\n\u001b[0;32m----> 7\u001b[0;31m history = model.fit(\n\u001b[0m\u001b[1;32m      8\u001b[0m     \u001b[0mdatagen\u001b[0m\u001b[0;34m(\u001b[0m\u001b[0mtrain_paths\u001b[0m\u001b[0;34m,\u001b[0m \u001b[0mtrain_labels\u001b[0m\u001b[0;34m,\u001b[0m \u001b[0mbatch_size\u001b[0m\u001b[0;34m=\u001b[0m\u001b[0mbatch_size\u001b[0m\u001b[0;34m,\u001b[0m \u001b[0mepochs\u001b[0m\u001b[0;34m=\u001b[0m\u001b[0mepochs\u001b[0m\u001b[0;34m,\u001b[0m \u001b[0maugment\u001b[0m\u001b[0;34m=\u001b[0m\u001b[0;32mTrue\u001b[0m\u001b[0;34m)\u001b[0m\u001b[0;34m,\u001b[0m  \u001b[0;31m# Training data generator\u001b[0m\u001b[0;34m\u001b[0m\u001b[0;34m\u001b[0m\u001b[0m\n\u001b[1;32m      9\u001b[0m     \u001b[0msteps_per_epoch\u001b[0m\u001b[0;34m=\u001b[0m\u001b[0msteps_per_epoch\u001b[0m\u001b[0;34m,\u001b[0m  \u001b[0;31m# Number of steps per epoch\u001b[0m\u001b[0;34m\u001b[0m\u001b[0;34m\u001b[0m\u001b[0m\n",
            "\u001b[0;31mNameError\u001b[0m: name 'model' is not defined"
          ]
        }
      ]
    },
    {
      "cell_type": "code",
      "source": [
        "from sklearn.metrics import classification_report, confusion_matrix, roc_curve, roc_auc_score # Changed 'confusion_matrics' to 'confusion_matrix'\n",
        "import seaborn as sns\n",
        "import matplotlib.pyplot as plt\n",
        "from sklearn.preprocessing import label_binarize\n",
        "\n",
        "import numpy as np"
      ],
      "metadata": {
        "id": "KJPoUOSmE7HJ"
      },
      "execution_count": null,
      "outputs": []
    },
    {
      "cell_type": "code",
      "source": [
        "test_images = open_images(test_paths) # Changed to open_images\n",
        "test_labels_encoded = encode_labels(test_labels)\n",
        "\n",
        "test_predictions = model.predict(test_images) # Changed predictItest_iamges to predict(test_images)"
      ],
      "metadata": {
        "colab": {
          "base_uri": "https://localhost:8080/",
          "height": 251
        },
        "id": "fme8abWXHOUs",
        "outputId": "055cff01-008d-48cb-8de6-1657c452d23d"
      },
      "execution_count": null,
      "outputs": [
        {
          "output_type": "error",
          "ename": "NameError",
          "evalue": "name 'test_paths' is not defined",
          "traceback": [
            "\u001b[0;31m---------------------------------------------------------------------------\u001b[0m",
            "\u001b[0;31mNameError\u001b[0m                                 Traceback (most recent call last)",
            "\u001b[0;32m<ipython-input-10-dbd8e6ed9926>\u001b[0m in \u001b[0;36m<cell line: 0>\u001b[0;34m()\u001b[0m\n\u001b[0;32m----> 1\u001b[0;31m \u001b[0mtest_images\u001b[0m \u001b[0;34m=\u001b[0m \u001b[0mopen_images\u001b[0m\u001b[0;34m(\u001b[0m\u001b[0mtest_paths\u001b[0m\u001b[0;34m)\u001b[0m \u001b[0;31m# Changed to open_images\u001b[0m\u001b[0;34m\u001b[0m\u001b[0;34m\u001b[0m\u001b[0m\n\u001b[0m\u001b[1;32m      2\u001b[0m \u001b[0mtest_labels_encoded\u001b[0m \u001b[0;34m=\u001b[0m \u001b[0mencode_labels\u001b[0m\u001b[0;34m(\u001b[0m\u001b[0mtest_labels\u001b[0m\u001b[0;34m)\u001b[0m\u001b[0;34m\u001b[0m\u001b[0;34m\u001b[0m\u001b[0m\n\u001b[1;32m      3\u001b[0m \u001b[0;34m\u001b[0m\u001b[0m\n\u001b[1;32m      4\u001b[0m \u001b[0mtest_predictions\u001b[0m \u001b[0;34m=\u001b[0m \u001b[0mmodel\u001b[0m\u001b[0;34m.\u001b[0m\u001b[0mpredict\u001b[0m\u001b[0;34m(\u001b[0m\u001b[0mtest_images\u001b[0m\u001b[0;34m)\u001b[0m \u001b[0;31m# Changed predictItest_iamges to predict(test_images)\u001b[0m\u001b[0;34m\u001b[0m\u001b[0;34m\u001b[0m\u001b[0m\n",
            "\u001b[0;31mNameError\u001b[0m: name 'test_paths' is not defined"
          ]
        }
      ]
    },
    {
      "cell_type": "code",
      "source": [
        "now create a confusion matrix\n",
        "\n"
      ],
      "metadata": {
        "colab": {
          "base_uri": "https://localhost:8080/",
          "height": 108
        },
        "id": "qbufhhtpIHIh",
        "outputId": "f9b4e2dc-3eb4-4e58-8957-bccadfe2bd0a"
      },
      "execution_count": null,
      "outputs": [
        {
          "output_type": "error",
          "ename": "SyntaxError",
          "evalue": "invalid syntax (<ipython-input-15-b7c069093029>, line 1)",
          "traceback": [
            "\u001b[0;36m  File \u001b[0;32m\"<ipython-input-15-b7c069093029>\"\u001b[0;36m, line \u001b[0;32m1\u001b[0m\n\u001b[0;31m    now create a confusion matrix\u001b[0m\n\u001b[0m        ^\u001b[0m\n\u001b[0;31mSyntaxError\u001b[0m\u001b[0;31m:\u001b[0m invalid syntax\n"
          ]
        }
      ]
    },
    {
      "cell_type": "code",
      "source": [
        "# save and load the model\n",
        "\n",
        "class_label = ['notumor', 'glioma', 'meningioma', 'pituitary']\n",
        "\n",
        "model.save('model.h5')\n",
        "\n",
        "from keras.preprocessing.image\n",
        "\n",
        "def detect_and display(image_path, model):\n",
        "  try:\n",
        "    # load image\n",
        "    img = load_image(img_path, target_size = (150,150))\n",
        "    img_array = img_to_array(img)\n",
        "\n",
        "  # prediction\n",
        "  predictions = model.predict(img_array) # 0 = 0.90, 1 = 0.6\n",
        "  predicted_class = np.argmax(predictions)\n",
        "\n",
        "  #2 = no tumor\n",
        "  # determine the class\n",
        "  if class_labels[predicted_class_index] == 'notumor'\n",
        "    return \"no tumor\"\n",
        "\n",
        "  else:\n",
        "    return f\"tumor -- yes\"{class_labels[predicted_class_index]}\n",
        "\n",
        "# save and load the model\n",
        "\n",
        "class_label = ['notumor', 'glioma', 'meningioma', 'pituitary']\n",
        "\n",
        "model.save('model.h5')\n",
        "\n",
        "from keras.preprocessing.image import load_img, img_to_array\n",
        "\n",
        "def detect_and_display(image_path, model):\n",
        "  try:\n",
        "    # load image\n",
        "    img = load_img(image_path, target_size = (150,150))\n",
        "    img_array = img_to_array(img)\n",
        "    img_array = np.expand_dims(img_array, axis=0)\n",
        "\n",
        "    # prediction\n",
        "    predictions = model.predict(img_array) # 0 = 0.90, 1 = 0.6\n",
        "    predicted_class_index = np.argmax(predictions)\n",
        "    confidence_score = predictions[0][predicted_class_index]\n",
        "\n",
        "    #2 = no tumor\n",
        "    # determine the class\n",
        "    if class_label[predicted_class_index] == 'notumor':\n",
        "      result = \"no tumor\"\n",
        "    else:\n",
        "      result = f\"tumor -- yes {class_label[predicted_class_index]}\"\n",
        "\n",
        "    import matplotlib.pyplot as plt\n",
        "    plt.imshow(load_img(image_path))\n",
        "    plt.axis('off')\n",
        "    plt.title(f\"{result} (confidence: {confidence_score*100:.2f}%)\")\n",
        "    plt.show()\n",
        "    return result\n",
        "\n",
        "  except Exception as e:\n",
        "    print(\"error processing \", image_path)\n",
        "    print(e)\n",
        "    return None\n",
        "plt.show()\n",
        "\n",
        "except exception as e:\n",
        "  print(\"error processing \", img_path)\n",
        "  print(e)\n",
        "  return None"
      ],
      "metadata": {
        "colab": {
          "base_uri": "https://localhost:8080/",
          "height": 108
        },
        "id": "23zIa6K5JWg6",
        "outputId": "c38b6c63-8b82-4659-d842-862ada40efe7"
      },
      "execution_count": null,
      "outputs": [
        {
          "output_type": "error",
          "ename": "SyntaxError",
          "evalue": "unmatched '}' (<ipython-input-17-1a5f150594db>, line 29)",
          "traceback": [
            "\u001b[0;36m  File \u001b[0;32m\"<ipython-input-17-1a5f150594db>\"\u001b[0;36m, line \u001b[0;32m29\u001b[0m\n\u001b[0;31m    plt.title(f\"{result} (confidence:)\"){confidence_score*100}\")\"}\u001b[0m\n\u001b[0m                                                                 ^\u001b[0m\n\u001b[0;31mSyntaxError\u001b[0m\u001b[0;31m:\u001b[0m unmatched '}'\n"
          ]
        }
      ]
    },
    {
      "cell_type": "code",
      "source": [
        "import os\n",
        "import numpy as np\n",
        "import pandas as pd\n",
        "import matplotlib.pyplot as plt\n",
        "from sklearn.model_selection import train_test_split\n",
        "from sklearn.metrics import classification_report, accuracy_score\n",
        "from tensorflow.keras.models import Model\n",
        "from tensorflow.keras.layers import Dense, Dropout, Flatten, Input\n",
        "from transformers import BertTokenizer, TFBertForSequenceClassification, ViTFeatureExtractor, TFViTForImageClassification\n",
        "import tensorflow as tf"
      ],
      "metadata": {
        "id": "6SFps1PT6RmJ"
      },
      "execution_count": null,
      "outputs": []
    },
    {
      "cell_type": "code",
      "source": [],
      "metadata": {
        "id": "YccW_qrAXLX7",
        "colab": {
          "base_uri": "https://localhost:8080/"
        },
        "outputId": "f91d80d7-76b0-4f73-eff3-dbed73955923"
      },
      "execution_count": null,
      "outputs": [
        {
          "output_type": "stream",
          "name": "stdout",
          "text": [
            "Drive already mounted at /content/drive; to attempt to forcibly remount, call drive.mount(\"/content/drive\", force_remount=True).\n"
          ]
        }
      ]
    },
    {
      "cell_type": "markdown",
      "source": [
        "# New Section"
      ],
      "metadata": {
        "id": "8Btxka2gbVTE"
      }
    }
  ]
}